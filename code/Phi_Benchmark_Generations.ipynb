{
  "metadata": {
    "kernelspec": {
      "name": "python3",
      "display_name": "Python 3",
      "language": "python"
    },
    "language_info": {
      "name": "python",
      "version": "3.10.14",
      "mimetype": "text/x-python",
      "codemirror_mode": {
        "name": "ipython",
        "version": 3
      },
      "pygments_lexer": "ipython3",
      "nbconvert_exporter": "python",
      "file_extension": ".py"
    },
    "colab": {
      "provenance": [],
      "gpuType": "T4"
    },
    "accelerator": "GPU"
  },
  "nbformat_minor": 0,
  "nbformat": 4,
  "cells": [
    {
      "cell_type": "code",
      "source": [
        "# @title Install packages and model(s?).\n",
        "\n",
        "\n",
        "!pip install -U ollama==0.4.2 langchain langchain-ollama openai\n",
        "!curl -fsSL https://ollama.com/install.sh | sh\n",
        "import subprocess, time\n",
        "subprocess.Popen(\"ollama serve\", shell=True)\n",
        "time.sleep(5)\n",
        "!ollama pull phi3:14b\n",
        "\n",
        "!kaggle datasets download sahalmulki/gaslighting-llms\n",
        "#unzip to a folder\n",
        "!mkdir gaslighting-llms\n",
        "!unzip gaslighting-llms.zip -d gaslighting-llms/"
      ],
      "metadata": {
        "trusted": true,
        "execution": {
          "iopub.status.busy": "2024-12-07T17:08:50.362171Z",
          "iopub.execute_input": "2024-12-07T17:08:50.362568Z",
          "iopub.status.idle": "2024-12-07T17:08:51.372539Z",
          "shell.execute_reply.started": "2024-12-07T17:08:50.362537Z",
          "shell.execute_reply": "2024-12-07T17:08:51.371678Z"
        },
        "colab": {
          "base_uri": "https://localhost:8080/"
        },
        "id": "4vh3jHa2Sas5",
        "outputId": "d076b275-be45-44e0-f54d-f9d5c092ff18",
        "cellView": "form"
      },
      "outputs": [
        {
          "output_type": "stream",
          "name": "stdout",
          "text": [
            "Collecting ollama==0.4.2\n",
            "  Downloading ollama-0.4.2-py3-none-any.whl.metadata (4.8 kB)\n",
            "Requirement already satisfied: langchain in /usr/local/lib/python3.10/dist-packages (0.3.9)\n",
            "Collecting langchain\n",
            "  Downloading langchain-0.3.11-py3-none-any.whl.metadata (7.1 kB)\n",
            "Collecting langchain-ollama\n",
            "  Downloading langchain_ollama-0.2.1-py3-none-any.whl.metadata (1.9 kB)\n",
            "Requirement already satisfied: openai in /usr/local/lib/python3.10/dist-packages (1.54.5)\n",
            "Collecting openai\n",
            "  Downloading openai-1.57.2-py3-none-any.whl.metadata (24 kB)\n",
            "Collecting httpx<0.28.0,>=0.27.0 (from ollama==0.4.2)\n",
            "  Downloading httpx-0.27.2-py3-none-any.whl.metadata (7.1 kB)\n",
            "Requirement already satisfied: pydantic<3.0.0,>=2.9.0 in /usr/local/lib/python3.10/dist-packages (from ollama==0.4.2) (2.10.3)\n",
            "Requirement already satisfied: PyYAML>=5.3 in /usr/local/lib/python3.10/dist-packages (from langchain) (6.0.2)\n",
            "Requirement already satisfied: SQLAlchemy<3,>=1.4 in /usr/local/lib/python3.10/dist-packages (from langchain) (2.0.36)\n",
            "Requirement already satisfied: aiohttp<4.0.0,>=3.8.3 in /usr/local/lib/python3.10/dist-packages (from langchain) (3.11.9)\n",
            "Requirement already satisfied: async-timeout<5.0.0,>=4.0.0 in /usr/local/lib/python3.10/dist-packages (from langchain) (4.0.3)\n",
            "Collecting langchain-core<0.4.0,>=0.3.24 (from langchain)\n",
            "  Downloading langchain_core-0.3.24-py3-none-any.whl.metadata (6.3 kB)\n",
            "Requirement already satisfied: langchain-text-splitters<0.4.0,>=0.3.0 in /usr/local/lib/python3.10/dist-packages (from langchain) (0.3.2)\n",
            "Requirement already satisfied: langsmith<0.3,>=0.1.17 in /usr/local/lib/python3.10/dist-packages (from langchain) (0.1.147)\n",
            "Requirement already satisfied: numpy<2,>=1.22.4 in /usr/local/lib/python3.10/dist-packages (from langchain) (1.26.4)\n",
            "Requirement already satisfied: requests<3,>=2 in /usr/local/lib/python3.10/dist-packages (from langchain) (2.32.3)\n",
            "Requirement already satisfied: tenacity!=8.4.0,<10,>=8.1.0 in /usr/local/lib/python3.10/dist-packages (from langchain) (9.0.0)\n",
            "Requirement already satisfied: anyio<5,>=3.5.0 in /usr/local/lib/python3.10/dist-packages (from openai) (3.7.1)\n",
            "Requirement already satisfied: distro<2,>=1.7.0 in /usr/local/lib/python3.10/dist-packages (from openai) (1.9.0)\n",
            "Requirement already satisfied: jiter<1,>=0.4.0 in /usr/local/lib/python3.10/dist-packages (from openai) (0.8.0)\n",
            "Requirement already satisfied: sniffio in /usr/local/lib/python3.10/dist-packages (from openai) (1.3.1)\n",
            "Requirement already satisfied: tqdm>4 in /usr/local/lib/python3.10/dist-packages (from openai) (4.66.6)\n",
            "Requirement already satisfied: typing-extensions<5,>=4.11 in /usr/local/lib/python3.10/dist-packages (from openai) (4.12.2)\n",
            "Requirement already satisfied: aiohappyeyeballs>=2.3.0 in /usr/local/lib/python3.10/dist-packages (from aiohttp<4.0.0,>=3.8.3->langchain) (2.4.4)\n",
            "Requirement already satisfied: aiosignal>=1.1.2 in /usr/local/lib/python3.10/dist-packages (from aiohttp<4.0.0,>=3.8.3->langchain) (1.3.1)\n",
            "Requirement already satisfied: attrs>=17.3.0 in /usr/local/lib/python3.10/dist-packages (from aiohttp<4.0.0,>=3.8.3->langchain) (24.2.0)\n",
            "Requirement already satisfied: frozenlist>=1.1.1 in /usr/local/lib/python3.10/dist-packages (from aiohttp<4.0.0,>=3.8.3->langchain) (1.5.0)\n",
            "Requirement already satisfied: multidict<7.0,>=4.5 in /usr/local/lib/python3.10/dist-packages (from aiohttp<4.0.0,>=3.8.3->langchain) (6.1.0)\n",
            "Requirement already satisfied: propcache>=0.2.0 in /usr/local/lib/python3.10/dist-packages (from aiohttp<4.0.0,>=3.8.3->langchain) (0.2.1)\n",
            "Requirement already satisfied: yarl<2.0,>=1.17.0 in /usr/local/lib/python3.10/dist-packages (from aiohttp<4.0.0,>=3.8.3->langchain) (1.18.3)\n",
            "Requirement already satisfied: idna>=2.8 in /usr/local/lib/python3.10/dist-packages (from anyio<5,>=3.5.0->openai) (3.10)\n",
            "Requirement already satisfied: exceptiongroup in /usr/local/lib/python3.10/dist-packages (from anyio<5,>=3.5.0->openai) (1.2.2)\n",
            "Requirement already satisfied: certifi in /usr/local/lib/python3.10/dist-packages (from httpx<0.28.0,>=0.27.0->ollama==0.4.2) (2024.8.30)\n",
            "Requirement already satisfied: httpcore==1.* in /usr/local/lib/python3.10/dist-packages (from httpx<0.28.0,>=0.27.0->ollama==0.4.2) (1.0.7)\n",
            "Requirement already satisfied: h11<0.15,>=0.13 in /usr/local/lib/python3.10/dist-packages (from httpcore==1.*->httpx<0.28.0,>=0.27.0->ollama==0.4.2) (0.14.0)\n",
            "Requirement already satisfied: jsonpatch<2.0,>=1.33 in /usr/local/lib/python3.10/dist-packages (from langchain-core<0.4.0,>=0.3.24->langchain) (1.33)\n",
            "Requirement already satisfied: packaging<25,>=23.2 in /usr/local/lib/python3.10/dist-packages (from langchain-core<0.4.0,>=0.3.24->langchain) (24.2)\n",
            "Requirement already satisfied: orjson<4.0.0,>=3.9.14 in /usr/local/lib/python3.10/dist-packages (from langsmith<0.3,>=0.1.17->langchain) (3.10.12)\n",
            "Requirement already satisfied: requests-toolbelt<2.0.0,>=1.0.0 in /usr/local/lib/python3.10/dist-packages (from langsmith<0.3,>=0.1.17->langchain) (1.0.0)\n",
            "Requirement already satisfied: annotated-types>=0.6.0 in /usr/local/lib/python3.10/dist-packages (from pydantic<3.0.0,>=2.9.0->ollama==0.4.2) (0.7.0)\n",
            "Requirement already satisfied: pydantic-core==2.27.1 in /usr/local/lib/python3.10/dist-packages (from pydantic<3.0.0,>=2.9.0->ollama==0.4.2) (2.27.1)\n",
            "Requirement already satisfied: charset-normalizer<4,>=2 in /usr/local/lib/python3.10/dist-packages (from requests<3,>=2->langchain) (3.4.0)\n",
            "Requirement already satisfied: urllib3<3,>=1.21.1 in /usr/local/lib/python3.10/dist-packages (from requests<3,>=2->langchain) (2.2.3)\n",
            "Requirement already satisfied: greenlet!=0.4.17 in /usr/local/lib/python3.10/dist-packages (from SQLAlchemy<3,>=1.4->langchain) (3.1.1)\n",
            "Requirement already satisfied: jsonpointer>=1.9 in /usr/local/lib/python3.10/dist-packages (from jsonpatch<2.0,>=1.33->langchain-core<0.4.0,>=0.3.24->langchain) (3.0.0)\n",
            "Downloading ollama-0.4.2-py3-none-any.whl (13 kB)\n",
            "Downloading langchain-0.3.11-py3-none-any.whl (1.0 MB)\n",
            "\u001b[2K   \u001b[90m━━━━━━━━━━━━━━━━━━━━━━━━━━━━━━━━━━━━━━━━\u001b[0m \u001b[32m1.0/1.0 MB\u001b[0m \u001b[31m24.2 MB/s\u001b[0m eta \u001b[36m0:00:00\u001b[0m\n",
            "\u001b[?25hDownloading langchain_ollama-0.2.1-py3-none-any.whl (15 kB)\n",
            "Downloading openai-1.57.2-py3-none-any.whl (389 kB)\n",
            "\u001b[2K   \u001b[90m━━━━━━━━━━━━━━━━━━━━━━━━━━━━━━━━━━━━━━━━\u001b[0m \u001b[32m389.9/389.9 kB\u001b[0m \u001b[31m24.3 MB/s\u001b[0m eta \u001b[36m0:00:00\u001b[0m\n",
            "\u001b[?25hDownloading httpx-0.27.2-py3-none-any.whl (76 kB)\n",
            "\u001b[2K   \u001b[90m━━━━━━━━━━━━━━━━━━━━━━━━━━━━━━━━━━━━━━━━\u001b[0m \u001b[32m76.4/76.4 kB\u001b[0m \u001b[31m5.5 MB/s\u001b[0m eta \u001b[36m0:00:00\u001b[0m\n",
            "\u001b[?25hDownloading langchain_core-0.3.24-py3-none-any.whl (410 kB)\n",
            "\u001b[2K   \u001b[90m━━━━━━━━━━━━━━━━━━━━━━━━━━━━━━━━━━━━━━━━\u001b[0m \u001b[32m410.6/410.6 kB\u001b[0m \u001b[31m26.6 MB/s\u001b[0m eta \u001b[36m0:00:00\u001b[0m\n",
            "\u001b[?25hInstalling collected packages: httpx, openai, ollama, langchain-core, langchain-ollama, langchain\n",
            "  Attempting uninstall: httpx\n",
            "    Found existing installation: httpx 0.28.0\n",
            "    Uninstalling httpx-0.28.0:\n",
            "      Successfully uninstalled httpx-0.28.0\n",
            "  Attempting uninstall: openai\n",
            "    Found existing installation: openai 1.54.5\n",
            "    Uninstalling openai-1.54.5:\n",
            "      Successfully uninstalled openai-1.54.5\n",
            "  Attempting uninstall: langchain-core\n",
            "    Found existing installation: langchain-core 0.3.21\n",
            "    Uninstalling langchain-core-0.3.21:\n",
            "      Successfully uninstalled langchain-core-0.3.21\n",
            "  Attempting uninstall: langchain\n",
            "    Found existing installation: langchain 0.3.9\n",
            "    Uninstalling langchain-0.3.9:\n",
            "      Successfully uninstalled langchain-0.3.9\n",
            "Successfully installed httpx-0.27.2 langchain-0.3.11 langchain-core-0.3.24 langchain-ollama-0.2.1 ollama-0.4.2 openai-1.57.2\n",
            ">>> Installing ollama to /usr/local\n",
            ">>> Downloading Linux amd64 bundle\n",
            "############################################################################################# 100.0%\n",
            ">>> Creating ollama user...\n",
            ">>> Adding ollama user to video group...\n",
            ">>> Adding current user to ollama group...\n",
            ">>> Creating ollama systemd service...\n",
            "\u001b[1m\u001b[31mWARNING:\u001b[m systemd is not running\n",
            "\u001b[1m\u001b[31mWARNING:\u001b[m Unable to detect NVIDIA/AMD GPU. Install lspci or lshw to automatically detect and install GPU dependencies.\n",
            ">>> The Ollama API is now available at 127.0.0.1:11434.\n",
            ">>> Install complete. Run \"ollama\" from the command line.\n",
            "\u001b[?25lpulling manifest ⠋ \u001b[?25h\u001b[?25l\u001b[2K\u001b[1Gpulling manifest ⠙ \u001b[?25h\u001b[?25l\u001b[2K\u001b[1Gpulling manifest ⠹ \u001b[?25h\u001b[?25l\u001b[2K\u001b[1Gpulling manifest ⠸ \u001b[?25h\u001b[?25l\u001b[2K\u001b[1Gpulling manifest ⠼ \u001b[?25h\u001b[?25l\u001b[2K\u001b[1Gpulling manifest ⠴ \u001b[?25h\u001b[?25l\u001b[2K\u001b[1Gpulling manifest \n",
            "pulling 64e8f4d6856f...   0% ▕▏    0 B/7.9 GB                  \u001b[?25h\u001b[?25l\u001b[2K\u001b[1G\u001b[A\u001b[2K\u001b[1Gpulling manifest \n",
            "pulling 64e8f4d6856f...   0% ▕▏    0 B/7.9 GB                  \u001b[?25h\u001b[?25l\u001b[2K\u001b[1G\u001b[A\u001b[2K\u001b[1Gpulling manifest \n",
            "pulling 64e8f4d6856f...   0% ▕▏    0 B/7.9 GB                  \u001b[?25h\u001b[?25l\u001b[2K\u001b[1G\u001b[A\u001b[2K\u001b[1Gpulling manifest \n",
            "pulling 64e8f4d6856f...   0% ▕▏ 3.8 MB/7.9 GB                  \u001b[?25h\u001b[?25l\u001b[2K\u001b[1G\u001b[A\u001b[2K\u001b[1Gpulling manifest \n",
            "pulling 64e8f4d6856f...   1% ▕▏  45 MB/7.9 GB                  \u001b[?25h\u001b[?25l\u001b[2K\u001b[1G\u001b[A\u001b[2K\u001b[1Gpulling manifest \n",
            "pulling 64e8f4d6856f...   1% ▕▏  97 MB/7.9 GB                  \u001b[?25h\u001b[?25l\u001b[2K\u001b[1G\u001b[A\u001b[2K\u001b[1Gpulling manifest \n",
            "pulling 64e8f4d6856f...   2% ▕▏ 122 MB/7.9 GB                  \u001b[?25h\u001b[?25l\u001b[2K\u001b[1G\u001b[A\u001b[2K\u001b[1Gpulling manifest \n",
            "pulling 64e8f4d6856f...   2% ▕▏ 162 MB/7.9 GB                  \u001b[?25h\u001b[?25l\u001b[2K\u001b[1G\u001b[A\u001b[2K\u001b[1Gpulling manifest \n",
            "pulling 64e8f4d6856f...   2% ▕▏ 196 MB/7.9 GB                  \u001b[?25h\u001b[?25l\u001b[2K\u001b[1G\u001b[A\u001b[2K\u001b[1Gpulling manifest \n",
            "pulling 64e8f4d6856f...   3% ▕▏ 215 MB/7.9 GB                  \u001b[?25h\u001b[?25l\u001b[2K\u001b[1G\u001b[A\u001b[2K\u001b[1Gpulling manifest \n",
            "pulling 64e8f4d6856f...   3% ▕▏ 235 MB/7.9 GB  235 MB/s     32s\u001b[?25h\u001b[?25l\u001b[2K\u001b[1G\u001b[A\u001b[2K\u001b[1Gpulling manifest \n",
            "pulling 64e8f4d6856f...   3% ▕▏ 261 MB/7.9 GB  235 MB/s     32s\u001b[?25h\u001b[?25l\u001b[2K\u001b[1G\u001b[A\u001b[2K\u001b[1Gpulling manifest \n",
            "pulling 64e8f4d6856f...   3% ▕▏ 268 MB/7.9 GB  235 MB/s     32s\u001b[?25h\u001b[?25l\u001b[2K\u001b[1G\u001b[A\u001b[2K\u001b[1Gpulling manifest \n",
            "pulling 64e8f4d6856f...   4% ▕▏ 299 MB/7.9 GB  235 MB/s     32s\u001b[?25h\u001b[?25l\u001b[2K\u001b[1G\u001b[A\u001b[2K\u001b[1Gpulling manifest \n",
            "pulling 64e8f4d6856f...   4% ▕▏ 318 MB/7.9 GB  235 MB/s     32s\u001b[?25h\u001b[?25l\u001b[2K\u001b[1G\u001b[A\u001b[2K\u001b[1Gpulling manifest \n",
            "pulling 64e8f4d6856f...   4% ▕▏ 343 MB/7.9 GB  235 MB/s     32s\u001b[?25h\u001b[?25l\u001b[2K\u001b[1G\u001b[A\u001b[2K\u001b[1Gpulling manifest \n",
            "pulling 64e8f4d6856f...   5% ▕▏ 372 MB/7.9 GB  235 MB/s     31s\u001b[?25h\u001b[?25l\u001b[2K\u001b[1G\u001b[A\u001b[2K\u001b[1Gpulling manifest \n",
            "pulling 64e8f4d6856f...   5% ▕▏ 383 MB/7.9 GB  235 MB/s     31s\u001b[?25h\u001b[?25l\u001b[2K\u001b[1G\u001b[A\u001b[2K\u001b[1Gpulling manifest \n",
            "pulling 64e8f4d6856f...   5% ▕▏ 410 MB/7.9 GB  235 MB/s     31s\u001b[?25h\u001b[?25l\u001b[2K\u001b[1G\u001b[A\u001b[2K\u001b[1Gpulling manifest \n",
            "pulling 64e8f4d6856f...   6% ▕▏ 439 MB/7.9 GB  235 MB/s     31s\u001b[?25h\u001b[?25l\u001b[2K\u001b[1G\u001b[A\u001b[2K\u001b[1Gpulling manifest \n",
            "pulling 64e8f4d6856f...   6% ▕▏ 453 MB/7.9 GB  235 MB/s     31s\u001b[?25h\u001b[?25l\u001b[2K\u001b[1G\u001b[A\u001b[2K\u001b[1Gpulling manifest \n",
            "pulling 64e8f4d6856f...   6% ▕▏ 482 MB/7.9 GB  233 MB/s     31s\u001b[?25h\u001b[?25l\u001b[2K\u001b[1G\u001b[A\u001b[2K\u001b[1Gpulling manifest \n",
            "pulling 64e8f4d6856f...   7% ▕▏ 513 MB/7.9 GB  233 MB/s     31s\u001b[?25h\u001b[?25l\u001b[2K\u001b[1G\u001b[A\u001b[2K\u001b[1Gpulling manifest \n",
            "pulling 64e8f4d6856f...   7% ▕▏ 540 MB/7.9 GB  233 MB/s     31s\u001b[?25h\u001b[?25l\u001b[2K\u001b[1G\u001b[A\u001b[2K\u001b[1Gpulling manifest \n",
            "pulling 64e8f4d6856f...   7% ▕▏ 558 MB/7.9 GB  233 MB/s     31s\u001b[?25h\u001b[?25l\u001b[2K\u001b[1G\u001b[A\u001b[2K\u001b[1Gpulling manifest \n",
            "pulling 64e8f4d6856f...   7% ▕▏ 582 MB/7.9 GB  233 MB/s     31s\u001b[?25h\u001b[?25l\u001b[2K\u001b[1G\u001b[A\u001b[2K\u001b[1Gpulling manifest \n",
            "pulling 64e8f4d6856f...   8% ▕▏ 613 MB/7.9 GB  233 MB/s     31s\u001b[?25h\u001b[?25l\u001b[2K\u001b[1G\u001b[A\u001b[2K\u001b[1Gpulling manifest \n",
            "pulling 64e8f4d6856f...   8% ▕▏ 632 MB/7.9 GB  233 MB/s     31s\u001b[?25h\u001b[?25l\u001b[2K\u001b[1G\u001b[A\u001b[2K\u001b[1Gpulling manifest \n",
            "pulling 64e8f4d6856f...   8% ▕▏ 663 MB/7.9 GB  233 MB/s     30s\u001b[?25h\u001b[?25l\u001b[2K\u001b[1G\u001b[A\u001b[2K\u001b[1Gpulling manifest \n",
            "pulling 64e8f4d6856f...   9% ▕▏ 695 MB/7.9 GB  233 MB/s     30s\u001b[?25h\u001b[?25l\u001b[2K\u001b[1G\u001b[A\u001b[2K\u001b[1Gpulling manifest \n",
            "pulling 64e8f4d6856f...   9% ▕▏ 714 MB/7.9 GB  233 MB/s     30s\u001b[?25h\u001b[?25l\u001b[2K\u001b[1G\u001b[A\u001b[2K\u001b[1Gpulling manifest \n",
            "pulling 64e8f4d6856f...  10% ▕▏ 751 MB/7.9 GB  245 MB/s     29s\u001b[?25h\u001b[?25l\u001b[2K\u001b[1G\u001b[A\u001b[2K\u001b[1Gpulling manifest \n",
            "pulling 64e8f4d6856f...  10% ▕▏ 768 MB/7.9 GB  245 MB/s     29s\u001b[?25h\u001b[?25l\u001b[2K\u001b[1G\u001b[A\u001b[2K\u001b[1Gpulling manifest \n",
            "pulling 64e8f4d6856f...  10% ▕▏ 802 MB/7.9 GB  245 MB/s     28s\u001b[?25h\u001b[?25l\u001b[2K\u001b[1G\u001b[A\u001b[2K\u001b[1Gpulling manifest \n",
            "pulling 64e8f4d6856f...  11% ▕▏ 836 MB/7.9 GB  245 MB/s     28s\u001b[?25h\u001b[?25l\u001b[2K\u001b[1G\u001b[A\u001b[2K\u001b[1Gpulling manifest \n",
            "pulling 64e8f4d6856f...  11% ▕▏ 849 MB/7.9 GB  245 MB/s     28s\u001b[?25h\u001b[?25l\u001b[2K\u001b[1G\u001b[A\u001b[2K\u001b[1Gpulling manifest \n",
            "pulling 64e8f4d6856f...  11% ▕▏ 882 MB/7.9 GB  245 MB/s     28s\u001b[?25h\u001b[?25l\u001b[2K\u001b[1G\u001b[A\u001b[2K\u001b[1Gpulling manifest \n",
            "pulling 64e8f4d6856f...  11% ▕▏ 908 MB/7.9 GB  245 MB/s     28s\u001b[?25h\u001b[?25l\u001b[2K\u001b[1G\u001b[A\u001b[2K\u001b[1Gpulling manifest \n",
            "pulling 64e8f4d6856f...  12% ▕▏ 920 MB/7.9 GB  245 MB/s     28s\u001b[?25h\u001b[?25l\u001b[2K\u001b[1G\u001b[A\u001b[2K\u001b[1Gpulling manifest \n",
            "pulling 64e8f4d6856f...  12% ▕▏ 956 MB/7.9 GB  245 MB/s     28s\u001b[?25h\u001b[?25l\u001b[2K\u001b[1G\u001b[A\u001b[2K\u001b[1Gpulling manifest \n",
            "pulling 64e8f4d6856f...  12% ▕▏ 977 MB/7.9 GB  245 MB/s     28s\u001b[?25h\u001b[?25l\u001b[2K\u001b[1G\u001b[A\u001b[2K\u001b[1Gpulling manifest \n",
            "pulling 64e8f4d6856f...  13% ▕▏ 993 MB/7.9 GB  248 MB/s     27s\u001b[?25h\u001b[?25l\u001b[2K\u001b[1G\u001b[A\u001b[2K\u001b[1Gpulling manifest \n",
            "pulling 64e8f4d6856f...  13% ▕▏ 1.0 GB/7.9 GB  248 MB/s     27s\u001b[?25h\u001b[?25l\u001b[2K\u001b[1G\u001b[A\u001b[2K\u001b[1Gpulling manifest \n",
            "pulling 64e8f4d6856f...  13% ▕▏ 1.1 GB/7.9 GB  248 MB/s     27s\u001b[?25h\u001b[?25l\u001b[2K\u001b[1G\u001b[A\u001b[2K\u001b[1Gpulling manifest \n",
            "pulling 64e8f4d6856f...  14% ▕▏ 1.1 GB/7.9 GB  248 MB/s     27s\u001b[?25h\u001b[?25l\u001b[2K\u001b[1G\u001b[A\u001b[2K\u001b[1Gpulling manifest \n",
            "pulling 64e8f4d6856f...  14% ▕▏ 1.1 GB/7.9 GB  248 MB/s     27s\u001b[?25h\u001b[?25l\u001b[2K\u001b[1G\u001b[A\u001b[2K\u001b[1Gpulling manifest \n",
            "pulling 64e8f4d6856f...  14% ▕▏ 1.1 GB/7.9 GB  248 MB/s     27s\u001b[?25h\u001b[?25l\u001b[2K\u001b[1G\u001b[A\u001b[2K\u001b[1Gpulling manifest \n",
            "pulling 64e8f4d6856f...  15% ▕▏ 1.2 GB/7.9 GB  248 MB/s     27s\u001b[?25h\u001b[?25l\u001b[2K\u001b[1G\u001b[A\u001b[2K\u001b[1Gpulling manifest \n",
            "pulling 64e8f4d6856f...  15% ▕▏ 1.2 GB/7.9 GB  248 MB/s     27s\u001b[?25h\u001b[?25l\u001b[2K\u001b[1G\u001b[A\u001b[2K\u001b[1Gpulling manifest \n",
            "pulling 64e8f4d6856f...  15% ▕▏ 1.2 GB/7.9 GB  248 MB/s     26s\u001b[?25h\u001b[?25l\u001b[2K\u001b[1G\u001b[A\u001b[2K\u001b[1Gpulling manifest \n",
            "pulling 64e8f4d6856f...  16% ▕▏ 1.2 GB/7.9 GB  248 MB/s     26s\u001b[?25h\u001b[?25l\u001b[2K\u001b[1G\u001b[A\u001b[2K\u001b[1Gpulling manifest \n",
            "pulling 64e8f4d6856f...  16% ▕▏ 1.3 GB/7.9 GB  251 MB/s     26s\u001b[?25h\u001b[?25l\u001b[2K\u001b[1G\u001b[A\u001b[2K\u001b[1Gpulling manifest \n",
            "pulling 64e8f4d6856f...  16% ▕▏ 1.3 GB/7.9 GB  251 MB/s     26s\u001b[?25h\u001b[?25l\u001b[2K\u001b[1G\u001b[A\u001b[2K\u001b[1Gpulling manifest \n",
            "pulling 64e8f4d6856f...  16% ▕▏ 1.3 GB/7.9 GB  251 MB/s     26s\u001b[?25h\u001b[?25l\u001b[2K\u001b[1G\u001b[A\u001b[2K\u001b[1Gpulling manifest \n",
            "pulling 64e8f4d6856f...  17% ▕▏ 1.3 GB/7.9 GB  251 MB/s     26s\u001b[?25h\u001b[?25l\u001b[2K\u001b[1G\u001b[A\u001b[2K\u001b[1Gpulling manifest \n",
            "pulling 64e8f4d6856f...  17% ▕▏ 1.4 GB/7.9 GB  251 MB/s     26s\u001b[?25h\u001b[?25l\u001b[2K\u001b[1G\u001b[A\u001b[2K\u001b[1Gpulling manifest \n",
            "pulling 64e8f4d6856f...  17% ▕▏ 1.4 GB/7.9 GB  251 MB/s     25s\u001b[?25h\u001b[?25l\u001b[2K\u001b[1G\u001b[A\u001b[2K\u001b[1Gpulling manifest \n",
            "pulling 64e8f4d6856f...  18% ▕▏ 1.4 GB/7.9 GB  251 MB/s     25s\u001b[?25h\u001b[?25l\u001b[2K\u001b[1G\u001b[A\u001b[2K\u001b[1Gpulling manifest \n",
            "pulling 64e8f4d6856f...  18% ▕▏ 1.4 GB/7.9 GB  251 MB/s     25s\u001b[?25h\u001b[?25l\u001b[2K\u001b[1G\u001b[A\u001b[2K\u001b[1Gpulling manifest \n",
            "pulling 64e8f4d6856f...  19% ▕▏ 1.5 GB/7.9 GB  251 MB/s     25s\u001b[?25h\u001b[?25l\u001b[2K\u001b[1G\u001b[A\u001b[2K\u001b[1Gpulling manifest \n",
            "pulling 64e8f4d6856f...  19% ▕▏ 1.5 GB/7.9 GB  251 MB/s     25s\u001b[?25h\u001b[?25l\u001b[2K\u001b[1G\u001b[A\u001b[2K\u001b[1Gpulling manifest \n",
            "pulling 64e8f4d6856f...  19% ▕▏ 1.5 GB/7.9 GB  251 MB/s     25s\u001b[?25h\u001b[?25l\u001b[2K\u001b[1G\u001b[A\u001b[2K\u001b[1Gpulling manifest \n",
            "pulling 64e8f4d6856f...  19% ▕▏ 1.5 GB/7.9 GB  251 MB/s     25s\u001b[?25h\u001b[?25l\u001b[2K\u001b[1G\u001b[A\u001b[2K\u001b[1Gpulling manifest \n",
            "pulling 64e8f4d6856f...  20% ▕▏ 1.5 GB/7.9 GB  251 MB/s     25s\u001b[?25h\u001b[?25l\u001b[2K\u001b[1G\u001b[A\u001b[2K\u001b[1Gpulling manifest \n",
            "pulling 64e8f4d6856f...  20% ▕▏ 1.6 GB/7.9 GB  251 MB/s     25s\u001b[?25h\u001b[?25l\u001b[2K\u001b[1G\u001b[A\u001b[2K\u001b[1Gpulling manifest \n",
            "pulling 64e8f4d6856f...  20% ▕▏ 1.6 GB/7.9 GB  251 MB/s     24s\u001b[?25h\u001b[?25l\u001b[2K\u001b[1G\u001b[A\u001b[2K\u001b[1Gpulling manifest \n",
            "pulling 64e8f4d6856f...  21% ▕▏ 1.6 GB/7.9 GB  251 MB/s     24s\u001b[?25h\u001b[?25l\u001b[2K\u001b[1G\u001b[A\u001b[2K\u001b[1Gpulling manifest \n",
            "pulling 64e8f4d6856f...  21% ▕▏ 1.7 GB/7.9 GB  251 MB/s     24s\u001b[?25h\u001b[?25l\u001b[2K\u001b[1G\u001b[A\u001b[2K\u001b[1Gpulling manifest \n",
            "pulling 64e8f4d6856f...  21% ▕▏ 1.7 GB/7.9 GB  251 MB/s     24s\u001b[?25h\u001b[?25l\u001b[2K\u001b[1G\u001b[A\u001b[2K\u001b[1Gpulling manifest \n",
            "pulling 64e8f4d6856f...  22% ▕▏ 1.7 GB/7.9 GB  251 MB/s     24s\u001b[?25h\u001b[?25l\u001b[2K\u001b[1G\u001b[A\u001b[2K\u001b[1Gpulling manifest \n",
            "pulling 64e8f4d6856f...  22% ▕▏ 1.7 GB/7.9 GB  251 MB/s     24s\u001b[?25h\u001b[?25l\u001b[2K\u001b[1G\u001b[A\u001b[2K\u001b[1Gpulling manifest \n",
            "pulling 64e8f4d6856f...  23% ▕▏ 1.8 GB/7.9 GB  254 MB/s     23s\u001b[?25h\u001b[?25l\u001b[2K\u001b[1G\u001b[A\u001b[2K\u001b[1Gpulling manifest \n",
            "pulling 64e8f4d6856f...  23% ▕▏ 1.8 GB/7.9 GB  254 MB/s     23s\u001b[?25h\u001b[?25l\u001b[2K\u001b[1G\u001b[A\u001b[2K\u001b[1Gpulling manifest \n",
            "pulling 64e8f4d6856f...  23% ▕▏ 1.8 GB/7.9 GB  254 MB/s     23s\u001b[?25h\u001b[?25l\u001b[2K\u001b[1G\u001b[A\u001b[2K\u001b[1Gpulling manifest \n",
            "pulling 64e8f4d6856f...  24% ▕▏ 1.9 GB/7.9 GB  254 MB/s     23s\u001b[?25h\u001b[?25l\u001b[2K\u001b[1G\u001b[A\u001b[2K\u001b[1Gpulling manifest \n",
            "pulling 64e8f4d6856f...  24% ▕▏ 1.9 GB/7.9 GB  254 MB/s     23s\u001b[?25h\u001b[?25l\u001b[2K\u001b[1G\u001b[A\u001b[2K\u001b[1Gpulling manifest \n",
            "pulling 64e8f4d6856f...  25% ▕▏ 1.9 GB/7.9 GB  254 MB/s     23s\u001b[?25h\u001b[?25l\u001b[2K\u001b[1G\u001b[A\u001b[2K\u001b[1Gpulling manifest \n",
            "pulling 64e8f4d6856f...  25% ▕▏ 2.0 GB/7.9 GB  254 MB/s     23s\u001b[?25h\u001b[?25l\u001b[2K\u001b[1G\u001b[A\u001b[2K\u001b[1Gpulling manifest \n",
            "pulling 64e8f4d6856f...  26% ▕▏ 2.0 GB/7.9 GB  254 MB/s     23s\u001b[?25h\u001b[?25l\u001b[2K\u001b[1G\u001b[A\u001b[2K\u001b[1Gpulling manifest \n",
            "pulling 64e8f4d6856f...  26% ▕▏ 2.1 GB/7.9 GB  254 MB/s     22s\u001b[?25h\u001b[?25l\u001b[2K\u001b[1G\u001b[A\u001b[2K\u001b[1Gpulling manifest \n",
            "pulling 64e8f4d6856f...  26% ▕▏ 2.1 GB/7.9 GB  254 MB/s     22s\u001b[?25h\u001b[?25l\u001b[2K\u001b[1G\u001b[A\u001b[2K\u001b[1Gpulling manifest \n",
            "pulling 64e8f4d6856f...  27% ▕▏ 2.1 GB/7.9 GB  254 MB/s     22s\u001b[?25h\u001b[?25l\u001b[2K\u001b[1G\u001b[A\u001b[2K\u001b[1Gpulling manifest \n",
            "pulling 64e8f4d6856f...  27% ▕▏ 2.1 GB/7.9 GB  264 MB/s     21s\u001b[?25h\u001b[?25l\u001b[2K\u001b[1G\u001b[A\u001b[2K\u001b[1Gpulling manifest \n",
            "pulling 64e8f4d6856f...  27% ▕▏ 2.2 GB/7.9 GB  264 MB/s     21s\u001b[?25h\u001b[?25l\u001b[2K\u001b[1G\u001b[A\u001b[2K\u001b[1Gpulling manifest \n",
            "pulling 64e8f4d6856f...  28% ▕▏ 2.2 GB/7.9 GB  264 MB/s     21s\u001b[?25h\u001b[?25l\u001b[2K\u001b[1G\u001b[A\u001b[2K\u001b[1Gpulling manifest \n",
            "pulling 64e8f4d6856f...  28% ▕▏ 2.2 GB/7.9 GB  264 MB/s     21s\u001b[?25h\u001b[?25l\u001b[2K\u001b[1G\u001b[A\u001b[2K\u001b[1Gpulling manifest \n",
            "pulling 64e8f4d6856f...  28% ▕▏ 2.2 GB/7.9 GB  264 MB/s     21s\u001b[?25h\u001b[?25l\u001b[2K\u001b[1G\u001b[A\u001b[2K\u001b[1Gpulling manifest \n",
            "pulling 64e8f4d6856f...  29% ▕▏ 2.3 GB/7.9 GB  264 MB/s     21s\u001b[?25h\u001b[?25l\u001b[2K\u001b[1G\u001b[A\u001b[2K\u001b[1Gpulling manifest \n",
            "pulling 64e8f4d6856f...  29% ▕▏ 2.3 GB/7.9 GB  264 MB/s     21s\u001b[?25h\u001b[?25l\u001b[2K\u001b[1G\u001b[A\u001b[2K\u001b[1Gpulling manifest \n",
            "pulling 64e8f4d6856f...  29% ▕▏ 2.3 GB/7.9 GB  264 MB/s     21s\u001b[?25h\u001b[?25l\u001b[2K\u001b[1G\u001b[A\u001b[2K\u001b[1Gpulling manifest \n",
            "pulling 64e8f4d6856f...  30% ▕▏ 2.3 GB/7.9 GB  264 MB/s     21s\u001b[?25h\u001b[?25l\u001b[2K\u001b[1G\u001b[A\u001b[2K\u001b[1Gpulling manifest \n",
            "pulling 64e8f4d6856f...  30% ▕▏ 2.4 GB/7.9 GB  264 MB/s     20s\u001b[?25h\u001b[?25l\u001b[2K\u001b[1G\u001b[A\u001b[2K\u001b[1Gpulling manifest \n",
            "pulling 64e8f4d6856f...  30% ▕▏ 2.4 GB/7.9 GB  262 MB/s     20s\u001b[?25h\u001b[?25l\u001b[2K\u001b[1G\u001b[A\u001b[2K\u001b[1Gpulling manifest \n",
            "pulling 64e8f4d6856f...  30% ▕▏ 2.4 GB/7.9 GB  262 MB/s     20s\u001b[?25h\u001b[?25l\u001b[2K\u001b[1G\u001b[A\u001b[2K\u001b[1Gpulling manifest \n",
            "pulling 64e8f4d6856f...  31% ▕▏ 2.4 GB/7.9 GB  262 MB/s     20s\u001b[?25h\u001b[?25l\u001b[2K\u001b[1G\u001b[A\u001b[2K\u001b[1Gpulling manifest \n",
            "pulling 64e8f4d6856f...  31% ▕▏ 2.5 GB/7.9 GB  262 MB/s     20s\u001b[?25h\u001b[?25l\u001b[2K\u001b[1G\u001b[A\u001b[2K\u001b[1Gpulling manifest \n",
            "pulling 64e8f4d6856f...  31% ▕▏ 2.5 GB/7.9 GB  262 MB/s     20s\u001b[?25h\u001b[?25l\u001b[2K\u001b[1G\u001b[A\u001b[2K\u001b[1Gpulling manifest \n",
            "pulling 64e8f4d6856f...  32% ▕▏ 2.5 GB/7.9 GB  262 MB/s     20s\u001b[?25h\u001b[?25l\u001b[2K\u001b[1G\u001b[A\u001b[2K\u001b[1Gpulling manifest \n",
            "pulling 64e8f4d6856f...  32% ▕▏ 2.5 GB/7.9 GB  262 MB/s     20s\u001b[?25h\u001b[?25l\u001b[2K\u001b[1G\u001b[A\u001b[2K\u001b[1Gpulling manifest \n",
            "pulling 64e8f4d6856f...  32% ▕▏ 2.5 GB/7.9 GB  262 MB/s     20s\u001b[?25h\u001b[?25l\u001b[2K\u001b[1G\u001b[A\u001b[2K\u001b[1Gpulling manifest \n",
            "pulling 64e8f4d6856f...  32% ▕▏ 2.5 GB/7.9 GB  262 MB/s     20s\u001b[?25h\u001b[?25l\u001b[2K\u001b[1G\u001b[A\u001b[2K\u001b[1Gpulling manifest \n",
            "pulling 64e8f4d6856f...  32% ▕▏ 2.5 GB/7.9 GB  262 MB/s     20s\u001b[?25h\u001b[?25l\u001b[2K\u001b[1G\u001b[A\u001b[2K\u001b[1Gpulling manifest \n",
            "pulling 64e8f4d6856f...  32% ▕▏ 2.5 GB/7.9 GB  255 MB/s     20s\u001b[?25h\u001b[?25l\u001b[2K\u001b[1G\u001b[A\u001b[2K\u001b[1Gpulling manifest \n",
            "pulling 64e8f4d6856f...  32% ▕▏ 2.5 GB/7.9 GB  255 MB/s     20s\u001b[?25h\u001b[?25l\u001b[2K\u001b[1G\u001b[A\u001b[2K\u001b[1Gpulling manifest \n",
            "pulling 64e8f4d6856f...  32% ▕▏ 2.5 GB/7.9 GB  255 MB/s     20s\u001b[?25h\u001b[?25l\u001b[2K\u001b[1G\u001b[A\u001b[2K\u001b[1Gpulling manifest \n",
            "pulling 64e8f4d6856f...  32% ▕▏ 2.5 GB/7.9 GB  255 MB/s     20s\u001b[?25h\u001b[?25l\u001b[2K\u001b[1G\u001b[A\u001b[2K\u001b[1Gpulling manifest \n",
            "pulling 64e8f4d6856f...  32% ▕▏ 2.5 GB/7.9 GB  255 MB/s     20s\u001b[?25h\u001b[?25l\u001b[2K\u001b[1G\u001b[A\u001b[2K\u001b[1Gpulling manifest \n",
            "pulling 64e8f4d6856f...  32% ▕▏ 2.5 GB/7.9 GB  255 MB/s     20s\u001b[?25h\u001b[?25l\u001b[2K\u001b[1G\u001b[A\u001b[2K\u001b[1Gpulling manifest \n",
            "pulling 64e8f4d6856f...  32% ▕▏ 2.5 GB/7.9 GB  255 MB/s     20s\u001b[?25h\u001b[?25l\u001b[2K\u001b[1G\u001b[A\u001b[2K\u001b[1Gpulling manifest \n",
            "pulling 64e8f4d6856f...  32% ▕▏ 2.5 GB/7.9 GB  255 MB/s     20s\u001b[?25h\u001b[?25l\u001b[2K\u001b[1G\u001b[A\u001b[2K\u001b[1Gpulling manifest \n",
            "pulling 64e8f4d6856f...  32% ▕▏ 2.5 GB/7.9 GB  255 MB/s     20s\u001b[?25h\u001b[?25l\u001b[2K\u001b[1G\u001b[A\u001b[2K\u001b[1Gpulling manifest \n",
            "pulling 64e8f4d6856f...  32% ▕▏ 2.5 GB/7.9 GB  255 MB/s     20s\u001b[?25h\u001b[?25l\u001b[2K\u001b[1G\u001b[A\u001b[2K\u001b[1Gpulling manifest \n",
            "pulling 64e8f4d6856f...  32% ▕▏ 2.5 GB/7.9 GB  230 MB/s     23s\u001b[?25h\u001b[?25l\u001b[2K\u001b[1G\u001b[A\u001b[2K\u001b[1Gpulling manifest \n",
            "pulling 64e8f4d6856f...  32% ▕▏ 2.5 GB/7.9 GB  230 MB/s     23s\u001b[?25h\u001b[?25l\u001b[2K\u001b[1G\u001b[A\u001b[2K\u001b[1Gpulling manifest \n",
            "pulling 64e8f4d6856f...  32% ▕▏ 2.5 GB/7.9 GB  230 MB/s     23s\u001b[?25h\u001b[?25l\u001b[2K\u001b[1G\u001b[A\u001b[2K\u001b[1Gpulling manifest \n",
            "pulling 64e8f4d6856f...  32% ▕▏ 2.5 GB/7.9 GB  230 MB/s     23s\u001b[?25h\u001b[?25l\u001b[2K\u001b[1G\u001b[A\u001b[2K\u001b[1Gpulling manifest \n",
            "pulling 64e8f4d6856f...  32% ▕▏ 2.5 GB/7.9 GB  230 MB/s     23s\u001b[?25h\u001b[?25l\u001b[2K\u001b[1G\u001b[A\u001b[2K\u001b[1Gpulling manifest \n",
            "pulling 64e8f4d6856f...  32% ▕▏ 2.5 GB/7.9 GB  230 MB/s     23s\u001b[?25h\u001b[?25l\u001b[2K\u001b[1G\u001b[A\u001b[2K\u001b[1Gpulling manifest \n",
            "pulling 64e8f4d6856f...  32% ▕▏ 2.5 GB/7.9 GB  230 MB/s     23s\u001b[?25h\u001b[?25l\u001b[2K\u001b[1G\u001b[A\u001b[2K\u001b[1Gpulling manifest \n",
            "pulling 64e8f4d6856f...  33% ▕▏ 2.6 GB/7.9 GB  230 MB/s     22s\u001b[?25h\u001b[?25l\u001b[2K\u001b[1G\u001b[A\u001b[2K\u001b[1Gpulling manifest \n",
            "pulling 64e8f4d6856f...  34% ▕▏ 2.7 GB/7.9 GB  230 MB/s     22s\u001b[?25h\u001b[?25l\u001b[2K\u001b[1G\u001b[A\u001b[2K\u001b[1Gpulling manifest \n",
            "pulling 64e8f4d6856f...  34% ▕▏ 2.7 GB/7.9 GB  230 MB/s     22s\u001b[?25h\u001b[?25l\u001b[2K\u001b[1G\u001b[A\u001b[2K\u001b[1Gpulling manifest \n",
            "pulling 64e8f4d6856f...  34% ▕▏ 2.7 GB/7.9 GB  218 MB/s     23s\u001b[?25h\u001b[?25l\u001b[2K\u001b[1G\u001b[A\u001b[2K\u001b[1Gpulling manifest \n",
            "pulling 64e8f4d6856f...  35% ▕▏ 2.7 GB/7.9 GB  218 MB/s     23s\u001b[?25h\u001b[?25l\u001b[2K\u001b[1G\u001b[A\u001b[2K\u001b[1Gpulling manifest \n",
            "pulling 64e8f4d6856f...  35% ▕▏ 2.8 GB/7.9 GB  218 MB/s     23s\u001b[?25h\u001b[?25l\u001b[2K\u001b[1G\u001b[A\u001b[2K\u001b[1Gpulling manifest \n",
            "pulling 64e8f4d6856f...  35% ▕▏ 2.8 GB/7.9 GB  218 MB/s     23s\u001b[?25h\u001b[?25l\u001b[2K\u001b[1G\u001b[A\u001b[2K\u001b[1Gpulling manifest \n",
            "pulling 64e8f4d6856f...  36% ▕▏ 2.8 GB/7.9 GB  218 MB/s     23s\u001b[?25h\u001b[?25l\u001b[2K\u001b[1G\u001b[A\u001b[2K\u001b[1Gpulling manifest \n",
            "pulling 64e8f4d6856f...  36% ▕▏ 2.9 GB/7.9 GB  218 MB/s     23s\u001b[?25h\u001b[?25l\u001b[2K\u001b[1G\u001b[A\u001b[2K\u001b[1Gpulling manifest \n",
            "pulling 64e8f4d6856f...  37% ▕▏ 2.9 GB/7.9 GB  218 MB/s     22s\u001b[?25h\u001b[?25l\u001b[2K\u001b[1G\u001b[A\u001b[2K\u001b[1Gpulling manifest \n",
            "pulling 64e8f4d6856f...  37% ▕▏ 2.9 GB/7.9 GB  218 MB/s     22s\u001b[?25h\u001b[?25l\u001b[2K\u001b[1G\u001b[A\u001b[2K\u001b[1Gpulling manifest \n",
            "pulling 64e8f4d6856f...  37% ▕▏ 3.0 GB/7.9 GB  218 MB/s     22s\u001b[?25h\u001b[?25l\u001b[2K\u001b[1G\u001b[A\u001b[2K\u001b[1Gpulling manifest \n",
            "pulling 64e8f4d6856f...  38% ▕▏ 3.0 GB/7.9 GB  218 MB/s     22s\u001b[?25h\u001b[?25l\u001b[2K\u001b[1G\u001b[A\u001b[2K\u001b[1Gpulling manifest \n",
            "pulling 64e8f4d6856f...  38% ▕▏ 3.0 GB/7.9 GB  218 MB/s     22s\u001b[?25h\u001b[?25l\u001b[2K\u001b[1G\u001b[A\u001b[2K\u001b[1Gpulling manifest \n",
            "pulling 64e8f4d6856f...  39% ▕▏ 3.1 GB/7.9 GB  227 MB/s     21s\u001b[?25h\u001b[?25l\u001b[2K\u001b[1G\u001b[A\u001b[2K\u001b[1Gpulling manifest \n",
            "pulling 64e8f4d6856f...  39% ▕▏ 3.1 GB/7.9 GB  227 MB/s     21s\u001b[?25h\u001b[?25l\u001b[2K\u001b[1G\u001b[A\u001b[2K\u001b[1Gpulling manifest \n",
            "pulling 64e8f4d6856f...  39% ▕▏ 3.1 GB/7.9 GB  227 MB/s     21s\u001b[?25h\u001b[?25l\u001b[2K\u001b[1G\u001b[A\u001b[2K\u001b[1Gpulling manifest \n",
            "pulling 64e8f4d6856f...  40% ▕▏ 3.1 GB/7.9 GB  227 MB/s     20s\u001b[?25h\u001b[?25l\u001b[2K\u001b[1G\u001b[A\u001b[2K\u001b[1Gpulling manifest \n",
            "pulling 64e8f4d6856f...  40% ▕▏ 3.2 GB/7.9 GB  227 MB/s     20s\u001b[?25h\u001b[?25l\u001b[2K\u001b[1G\u001b[A\u001b[2K\u001b[1Gpulling manifest \n",
            "pulling 64e8f4d6856f...  40% ▕▏ 3.2 GB/7.9 GB  227 MB/s     20s\u001b[?25h\u001b[?25l\u001b[2K\u001b[1G\u001b[A\u001b[2K\u001b[1Gpulling manifest \n",
            "pulling 64e8f4d6856f...  41% ▕▏ 3.2 GB/7.9 GB  227 MB/s     20s\u001b[?25h\u001b[?25l\u001b[2K\u001b[1G\u001b[A\u001b[2K\u001b[1Gpulling manifest \n",
            "pulling 64e8f4d6856f...  41% ▕▏ 3.2 GB/7.9 GB  227 MB/s     20s\u001b[?25h\u001b[?25l\u001b[2K\u001b[1G\u001b[A\u001b[2K\u001b[1Gpulling manifest \n",
            "pulling 64e8f4d6856f...  41% ▕▏ 3.2 GB/7.9 GB  227 MB/s     20s\u001b[?25h\u001b[?25l\u001b[2K\u001b[1G\u001b[A\u001b[2K\u001b[1Gpulling manifest \n",
            "pulling 64e8f4d6856f...  41% ▕▏ 3.2 GB/7.9 GB  227 MB/s     20s\u001b[?25h\u001b[?25l\u001b[2K\u001b[1G\u001b[A\u001b[2K\u001b[1Gpulling manifest \n",
            "pulling 64e8f4d6856f...  41% ▕▏ 3.2 GB/7.9 GB  216 MB/s     21s\u001b[?25h\u001b[?25l\u001b[2K\u001b[1G\u001b[A\u001b[2K\u001b[1Gpulling manifest \n",
            "pulling 64e8f4d6856f...  41% ▕▏ 3.2 GB/7.9 GB  216 MB/s     21s\u001b[?25h\u001b[?25l\u001b[2K\u001b[1G\u001b[A\u001b[2K\u001b[1Gpulling manifest \n",
            "pulling 64e8f4d6856f...  41% ▕▏ 3.2 GB/7.9 GB  216 MB/s     21s\u001b[?25h\u001b[?25l\u001b[2K\u001b[1G\u001b[A\u001b[2K\u001b[1Gpulling manifest \n",
            "pulling 64e8f4d6856f...  41% ▕▏ 3.2 GB/7.9 GB  216 MB/s     21s\u001b[?25h\u001b[?25l\u001b[2K\u001b[1G\u001b[A\u001b[2K\u001b[1Gpulling manifest \n",
            "pulling 64e8f4d6856f...  41% ▕▏ 3.2 GB/7.9 GB  216 MB/s     21s\u001b[?25h\u001b[?25l\u001b[2K\u001b[1G\u001b[A\u001b[2K\u001b[1Gpulling manifest \n",
            "pulling 64e8f4d6856f...  41% ▕▏ 3.2 GB/7.9 GB  216 MB/s     21s\u001b[?25h\u001b[?25l\u001b[2K\u001b[1G\u001b[A\u001b[2K\u001b[1Gpulling manifest \n",
            "pulling 64e8f4d6856f...  41% ▕▏ 3.2 GB/7.9 GB  216 MB/s     21s\u001b[?25h\u001b[?25l\u001b[2K\u001b[1G\u001b[A\u001b[2K\u001b[1Gpulling manifest \n",
            "pulling 64e8f4d6856f...  41% ▕▏ 3.2 GB/7.9 GB  216 MB/s     21s\u001b[?25h\u001b[?25l\u001b[2K\u001b[1G\u001b[A\u001b[2K\u001b[1Gpulling manifest \n",
            "pulling 64e8f4d6856f...  41% ▕▏ 3.2 GB/7.9 GB  216 MB/s     21s\u001b[?25h\u001b[?25l\u001b[2K\u001b[1G\u001b[A\u001b[2K\u001b[1Gpulling manifest \n",
            "pulling 64e8f4d6856f...  41% ▕▏ 3.2 GB/7.9 GB  216 MB/s     21s\u001b[?25h\u001b[?25l\u001b[2K\u001b[1G\u001b[A\u001b[2K\u001b[1Gpulling manifest \n",
            "pulling 64e8f4d6856f...  41% ▕▏ 3.2 GB/7.9 GB  188 MB/s     24s\u001b[?25h\u001b[?25l\u001b[2K\u001b[1G\u001b[A\u001b[2K\u001b[1Gpulling manifest \n",
            "pulling 64e8f4d6856f...  41% ▕▏ 3.2 GB/7.9 GB  188 MB/s     24s\u001b[?25h\u001b[?25l\u001b[2K\u001b[1G\u001b[A\u001b[2K\u001b[1Gpulling manifest \n",
            "pulling 64e8f4d6856f...  41% ▕▏ 3.2 GB/7.9 GB  188 MB/s     24s\u001b[?25h\u001b[?25l\u001b[2K\u001b[1G\u001b[A\u001b[2K\u001b[1Gpulling manifest \n",
            "pulling 64e8f4d6856f...  41% ▕▏ 3.2 GB/7.9 GB  188 MB/s     24s\u001b[?25h\u001b[?25l\u001b[2K\u001b[1G\u001b[A\u001b[2K\u001b[1Gpulling manifest \n",
            "pulling 64e8f4d6856f...  41% ▕▏ 3.2 GB/7.9 GB  188 MB/s     24s\u001b[?25h\u001b[?25l\u001b[2K\u001b[1G\u001b[A\u001b[2K\u001b[1Gpulling manifest \n",
            "pulling 64e8f4d6856f...  41% ▕▏ 3.2 GB/7.9 GB  188 MB/s     24s\u001b[?25h\u001b[?25l\u001b[2K\u001b[1G\u001b[A\u001b[2K\u001b[1Gpulling manifest \n",
            "pulling 64e8f4d6856f...  41% ▕▏ 3.2 GB/7.9 GB  188 MB/s     24s\u001b[?25h\u001b[?25l\u001b[2K\u001b[1G\u001b[A\u001b[2K\u001b[1Gpulling manifest \n",
            "pulling 64e8f4d6856f...  42% ▕▏ 3.3 GB/7.9 GB  188 MB/s     24s\u001b[?25h\u001b[?25l\u001b[2K\u001b[1G\u001b[A\u001b[2K\u001b[1Gpulling manifest \n",
            "pulling 64e8f4d6856f...  42% ▕▏ 3.3 GB/7.9 GB  188 MB/s     24s\u001b[?25h\u001b[?25l\u001b[2K\u001b[1G\u001b[A\u001b[2K\u001b[1Gpulling manifest \n",
            "pulling 64e8f4d6856f...  43% ▕▏ 3.4 GB/7.9 GB  188 MB/s     24s\u001b[?25h\u001b[?25l\u001b[2K\u001b[1G\u001b[A\u001b[2K\u001b[1Gpulling manifest \n",
            "pulling 64e8f4d6856f...  43% ▕▏ 3.4 GB/7.9 GB  178 MB/s     25s\u001b[?25h\u001b[?25l\u001b[2K\u001b[1G\u001b[A\u001b[2K\u001b[1Gpulling manifest \n",
            "pulling 64e8f4d6856f...  43% ▕▏ 3.4 GB/7.9 GB  178 MB/s     25s\u001b[?25h\u001b[?25l\u001b[2K\u001b[1G\u001b[A\u001b[2K\u001b[1Gpulling manifest \n",
            "pulling 64e8f4d6856f...  43% ▕▏ 3.4 GB/7.9 GB  178 MB/s     24s\u001b[?25h\u001b[?25l\u001b[2K\u001b[1G\u001b[A\u001b[2K\u001b[1Gpulling manifest \n",
            "pulling 64e8f4d6856f...  44% ▕▏ 3.5 GB/7.9 GB  178 MB/s     24s\u001b[?25h\u001b[?25l\u001b[2K\u001b[1G\u001b[A\u001b[2K\u001b[1Gpulling manifest \n",
            "pulling 64e8f4d6856f...  44% ▕▏ 3.5 GB/7.9 GB  178 MB/s     24s\u001b[?25h\u001b[?25l\u001b[2K\u001b[1G\u001b[A\u001b[2K\u001b[1Gpulling manifest \n",
            "pulling 64e8f4d6856f...  45% ▕▏ 3.5 GB/7.9 GB  178 MB/s     24s\u001b[?25h\u001b[?25l\u001b[2K\u001b[1G\u001b[A\u001b[2K\u001b[1Gpulling manifest \n",
            "pulling 64e8f4d6856f...  45% ▕▏ 3.6 GB/7.9 GB  178 MB/s     24s\u001b[?25h\u001b[?25l\u001b[2K\u001b[1G\u001b[A\u001b[2K\u001b[1Gpulling manifest \n",
            "pulling 64e8f4d6856f...  46% ▕▏ 3.6 GB/7.9 GB  178 MB/s     23s\u001b[?25h\u001b[?25l\u001b[2K\u001b[1G\u001b[A\u001b[2K\u001b[1Gpulling manifest \n",
            "pulling 64e8f4d6856f...  46% ▕▏ 3.6 GB/7.9 GB  178 MB/s     23s\u001b[?25h\u001b[?25l\u001b[2K\u001b[1G\u001b[A\u001b[2K\u001b[1Gpulling manifest \n",
            "pulling 64e8f4d6856f...  46% ▕▏ 3.7 GB/7.9 GB  178 MB/s     23s\u001b[?25h\u001b[?25l\u001b[2K\u001b[1G\u001b[A\u001b[2K\u001b[1Gpulling manifest \n",
            "pulling 64e8f4d6856f...  47% ▕▏ 3.7 GB/7.9 GB  175 MB/s     24s\u001b[?25h\u001b[?25l\u001b[2K\u001b[1G\u001b[A\u001b[2K\u001b[1Gpulling manifest \n",
            "pulling 64e8f4d6856f...  47% ▕▏ 3.7 GB/7.9 GB  175 MB/s     23s\u001b[?25h\u001b[?25l\u001b[2K\u001b[1G\u001b[A\u001b[2K\u001b[1Gpulling manifest \n",
            "pulling 64e8f4d6856f...  47% ▕▏ 3.7 GB/7.9 GB  175 MB/s     23s\u001b[?25h\u001b[?25l\u001b[2K\u001b[1G\u001b[A\u001b[2K\u001b[1Gpulling manifest \n",
            "pulling 64e8f4d6856f...  47% ▕▏ 3.7 GB/7.9 GB  175 MB/s     23s\u001b[?25h\u001b[?25l\u001b[2K\u001b[1G\u001b[A\u001b[2K\u001b[1Gpulling manifest \n",
            "pulling 64e8f4d6856f...  48% ▕▏ 3.8 GB/7.9 GB  175 MB/s     23s\u001b[?25h\u001b[?25l\u001b[2K\u001b[1G\u001b[A\u001b[2K\u001b[1Gpulling manifest \n",
            "pulling 64e8f4d6856f...  48% ▕▏ 3.8 GB/7.9 GB  175 MB/s     23s\u001b[?25h\u001b[?25l\u001b[2K\u001b[1G\u001b[A\u001b[2K\u001b[1Gpulling manifest \n",
            "pulling 64e8f4d6856f...  48% ▕▏ 3.8 GB/7.9 GB  175 MB/s     23s\u001b[?25h\u001b[?25l\u001b[2K\u001b[1G\u001b[A\u001b[2K\u001b[1Gpulling manifest \n",
            "pulling 64e8f4d6856f...  49% ▕▏ 3.9 GB/7.9 GB  175 MB/s     23s\u001b[?25h\u001b[?25l\u001b[2K\u001b[1G\u001b[A\u001b[2K\u001b[1Gpulling manifest \n",
            "pulling 64e8f4d6856f...  49% ▕▏ 3.9 GB/7.9 GB  175 MB/s     22s\u001b[?25h\u001b[?25l\u001b[2K\u001b[1G\u001b[A\u001b[2K\u001b[1Gpulling manifest \n",
            "pulling 64e8f4d6856f...  50% ▕▏ 3.9 GB/7.9 GB  175 MB/s     22s\u001b[?25h\u001b[?25l\u001b[2K\u001b[1G\u001b[A\u001b[2K\u001b[1Gpulling manifest \n",
            "pulling 64e8f4d6856f...  50% ▕▏ 3.9 GB/7.9 GB  175 MB/s     22s\u001b[?25h\u001b[?25l\u001b[2K\u001b[1G\u001b[A\u001b[2K\u001b[1Gpulling manifest \n",
            "pulling 64e8f4d6856f...  50% ▕▏ 4.0 GB/7.9 GB  177 MB/s     22s\u001b[?25h\u001b[?25l\u001b[2K\u001b[1G\u001b[A\u001b[2K\u001b[1Gpulling manifest \n",
            "pulling 64e8f4d6856f...  51% ▕▏ 4.0 GB/7.9 GB  177 MB/s     21s\u001b[?25h\u001b[?25l\u001b[2K\u001b[1G\u001b[A\u001b[2K\u001b[1Gpulling manifest \n",
            "pulling 64e8f4d6856f...  51% ▕▏ 4.0 GB/7.9 GB  177 MB/s     21s\u001b[?25h\u001b[?25l\u001b[2K\u001b[1G\u001b[A\u001b[2K\u001b[1Gpulling manifest \n",
            "pulling 64e8f4d6856f...  51% ▕▏ 4.0 GB/7.9 GB  177 MB/s     21s\u001b[?25h\u001b[?25l\u001b[2K\u001b[1G\u001b[A\u001b[2K\u001b[1Gpulling manifest \n",
            "pulling 64e8f4d6856f...  51% ▕▏ 4.1 GB/7.9 GB  177 MB/s     21s\u001b[?25h\u001b[?25l\u001b[2K\u001b[1G\u001b[A\u001b[2K\u001b[1Gpulling manifest \n",
            "pulling 64e8f4d6856f...  52% ▕▏ 4.1 GB/7.9 GB  177 MB/s     21s\u001b[?25h\u001b[?25l\u001b[2K\u001b[1G\u001b[A\u001b[2K\u001b[1Gpulling manifest \n",
            "pulling 64e8f4d6856f...  52% ▕▏ 4.1 GB/7.9 GB  177 MB/s     21s\u001b[?25h\u001b[?25l\u001b[2K\u001b[1G\u001b[A\u001b[2K\u001b[1Gpulling manifest \n",
            "pulling 64e8f4d6856f...  52% ▕▏ 4.1 GB/7.9 GB  177 MB/s     21s\u001b[?25h\u001b[?25l\u001b[2K\u001b[1G\u001b[A\u001b[2K\u001b[1Gpulling manifest \n",
            "pulling 64e8f4d6856f...  53% ▕▏ 4.2 GB/7.9 GB  177 MB/s     20s\u001b[?25h\u001b[?25l\u001b[2K\u001b[1G\u001b[A\u001b[2K\u001b[1Gpulling manifest \n",
            "pulling 64e8f4d6856f...  53% ▕▏ 4.2 GB/7.9 GB  177 MB/s     20s\u001b[?25h\u001b[?25l\u001b[2K\u001b[1G\u001b[A\u001b[2K\u001b[1Gpulling manifest \n",
            "pulling 64e8f4d6856f...  53% ▕▏ 4.2 GB/7.9 GB  184 MB/s     20s\u001b[?25h\u001b[?25l\u001b[2K\u001b[1G\u001b[A\u001b[2K\u001b[1Gpulling manifest \n",
            "pulling 64e8f4d6856f...  53% ▕▏ 4.2 GB/7.9 GB  184 MB/s     20s\u001b[?25h\u001b[?25l\u001b[2K\u001b[1G\u001b[A\u001b[2K\u001b[1Gpulling manifest \n",
            "pulling 64e8f4d6856f...  54% ▕▏ 4.2 GB/7.9 GB  184 MB/s     19s\u001b[?25h\u001b[?25l\u001b[2K\u001b[1G\u001b[A\u001b[2K\u001b[1Gpulling manifest \n",
            "pulling 64e8f4d6856f...  54% ▕▏ 4.3 GB/7.9 GB  184 MB/s     19s\u001b[?25h\u001b[?25l\u001b[2K\u001b[1G\u001b[A\u001b[2K\u001b[1Gpulling manifest \n",
            "pulling 64e8f4d6856f...  54% ▕▏ 4.3 GB/7.9 GB  184 MB/s     19s\u001b[?25h\u001b[?25l\u001b[2K\u001b[1G\u001b[A\u001b[2K\u001b[1Gpulling manifest \n",
            "pulling 64e8f4d6856f...  55% ▕▏ 4.3 GB/7.9 GB  184 MB/s     19s\u001b[?25h\u001b[?25l\u001b[2K\u001b[1G\u001b[A\u001b[2K\u001b[1Gpulling manifest \n",
            "pulling 64e8f4d6856f...  55% ▕▏ 4.3 GB/7.9 GB  184 MB/s     19s\u001b[?25h\u001b[?25l\u001b[2K\u001b[1G\u001b[A\u001b[2K\u001b[1Gpulling manifest \n",
            "pulling 64e8f4d6856f...  55% ▕▏ 4.4 GB/7.9 GB  184 MB/s     19s\u001b[?25h\u001b[?25l\u001b[2K\u001b[1G\u001b[A\u001b[2K\u001b[1Gpulling manifest \n",
            "pulling 64e8f4d6856f...  56% ▕▏ 4.4 GB/7.9 GB  184 MB/s     19s\u001b[?25h\u001b[?25l\u001b[2K\u001b[1G\u001b[A\u001b[2K\u001b[1Gpulling manifest \n",
            "pulling 64e8f4d6856f...  56% ▕▏ 4.4 GB/7.9 GB  184 MB/s     18s\u001b[?25h\u001b[?25l\u001b[2K\u001b[1G\u001b[A\u001b[2K\u001b[1Gpulling manifest \n",
            "pulling 64e8f4d6856f...  56% ▕▏ 4.4 GB/7.9 GB  210 MB/s     16s\u001b[?25h\u001b[?25l\u001b[2K\u001b[1G\u001b[A\u001b[2K\u001b[1Gpulling manifest \n",
            "pulling 64e8f4d6856f...  56% ▕▏ 4.5 GB/7.9 GB  210 MB/s     16s\u001b[?25h\u001b[?25l\u001b[2K\u001b[1G\u001b[A\u001b[2K\u001b[1Gpulling manifest \n",
            "pulling 64e8f4d6856f...  57% ▕▏ 4.5 GB/7.9 GB  210 MB/s     16s\u001b[?25h\u001b[?25l\u001b[2K\u001b[1G\u001b[A\u001b[2K\u001b[1Gpulling manifest \n",
            "pulling 64e8f4d6856f...  57% ▕▏ 4.5 GB/7.9 GB  210 MB/s     16s\u001b[?25h\u001b[?25l\u001b[2K\u001b[1G\u001b[A\u001b[2K\u001b[1Gpulling manifest \n",
            "pulling 64e8f4d6856f...  57% ▕▏ 4.5 GB/7.9 GB  210 MB/s     16s\u001b[?25h\u001b[?25l\u001b[2K\u001b[1G\u001b[A\u001b[2K\u001b[1Gpulling manifest \n",
            "pulling 64e8f4d6856f...  57% ▕▏ 4.5 GB/7.9 GB  210 MB/s     15s\u001b[?25h\u001b[?25l\u001b[2K\u001b[1G\u001b[A\u001b[2K\u001b[1Gpulling manifest \n",
            "pulling 64e8f4d6856f...  58% ▕▏ 4.6 GB/7.9 GB  210 MB/s     15s\u001b[?25h\u001b[?25l\u001b[2K\u001b[1G\u001b[A\u001b[2K\u001b[1Gpulling manifest \n",
            "pulling 64e8f4d6856f...  58% ▕▏ 4.6 GB/7.9 GB  210 MB/s     15s\u001b[?25h\u001b[?25l\u001b[2K\u001b[1G\u001b[A\u001b[2K\u001b[1Gpulling manifest \n",
            "pulling 64e8f4d6856f...  59% ▕▏ 4.6 GB/7.9 GB  210 MB/s     15s\u001b[?25h\u001b[?25l\u001b[2K\u001b[1G\u001b[A\u001b[2K\u001b[1Gpulling manifest \n",
            "pulling 64e8f4d6856f...  59% ▕▏ 4.6 GB/7.9 GB  210 MB/s     15s\u001b[?25h\u001b[?25l\u001b[2K\u001b[1G\u001b[A\u001b[2K\u001b[1Gpulling manifest \n",
            "pulling 64e8f4d6856f...  59% ▕▏ 4.7 GB/7.9 GB  219 MB/s     14s\u001b[?25h\u001b[?25l\u001b[2K\u001b[1G\u001b[A\u001b[2K\u001b[1Gpulling manifest \n",
            "pulling 64e8f4d6856f...  60% ▕▏ 4.7 GB/7.9 GB  219 MB/s     14s\u001b[?25h\u001b[?25l\u001b[2K\u001b[1G\u001b[A\u001b[2K\u001b[1Gpulling manifest \n",
            "pulling 64e8f4d6856f...  60% ▕▏ 4.7 GB/7.9 GB  219 MB/s     14s\u001b[?25h\u001b[?25l\u001b[2K\u001b[1G\u001b[A\u001b[2K\u001b[1Gpulling manifest \n",
            "pulling 64e8f4d6856f...  60% ▕▏ 4.7 GB/7.9 GB  219 MB/s     14s\u001b[?25h\u001b[?25l\u001b[2K\u001b[1G\u001b[A\u001b[2K\u001b[1Gpulling manifest \n",
            "pulling 64e8f4d6856f...  61% ▕▏ 4.8 GB/7.9 GB  219 MB/s     14s\u001b[?25h\u001b[?25l\u001b[2K\u001b[1G\u001b[A\u001b[2K\u001b[1Gpulling manifest \n",
            "pulling 64e8f4d6856f...  61% ▕▏ 4.8 GB/7.9 GB  219 MB/s     14s\u001b[?25h\u001b[?25l\u001b[2K\u001b[1G\u001b[A\u001b[2K\u001b[1Gpulling manifest \n",
            "pulling 64e8f4d6856f...  61% ▕▏ 4.8 GB/7.9 GB  219 MB/s     13s\u001b[?25h\u001b[?25l\u001b[2K\u001b[1G\u001b[A\u001b[2K\u001b[1Gpulling manifest \n",
            "pulling 64e8f4d6856f...  61% ▕▏ 4.9 GB/7.9 GB  219 MB/s     13s\u001b[?25h\u001b[?25l\u001b[2K\u001b[1G\u001b[A\u001b[2K\u001b[1Gpulling manifest \n",
            "pulling 64e8f4d6856f...  62% ▕▏ 4.9 GB/7.9 GB  219 MB/s     13s\u001b[?25h\u001b[?25l\u001b[2K\u001b[1G\u001b[A\u001b[2K\u001b[1Gpulling manifest \n",
            "pulling 64e8f4d6856f...  62% ▕▏ 4.9 GB/7.9 GB  219 MB/s     13s\u001b[?25h\u001b[?25l\u001b[2K\u001b[1G\u001b[A\u001b[2K\u001b[1Gpulling manifest \n",
            "pulling 64e8f4d6856f...  63% ▕▏ 4.9 GB/7.9 GB  211 MB/s     13s\u001b[?25h\u001b[?25l\u001b[2K\u001b[1G\u001b[A\u001b[2K\u001b[1Gpulling manifest \n",
            "pulling 64e8f4d6856f...  63% ▕▏ 5.0 GB/7.9 GB  211 MB/s     13s\u001b[?25h\u001b[?25l\u001b[2K\u001b[1G\u001b[A\u001b[2K\u001b[1Gpulling manifest \n",
            "pulling 64e8f4d6856f...  64% ▕▏ 5.0 GB/7.9 GB  211 MB/s     13s\u001b[?25h\u001b[?25l\u001b[2K\u001b[1G\u001b[A\u001b[2K\u001b[1Gpulling manifest \n",
            "pulling 64e8f4d6856f...  64% ▕▏ 5.1 GB/7.9 GB  211 MB/s     13s\u001b[?25h\u001b[?25l\u001b[2K\u001b[1G\u001b[A\u001b[2K\u001b[1Gpulling manifest \n",
            "pulling 64e8f4d6856f...  64% ▕▏ 5.1 GB/7.9 GB  211 MB/s     13s\u001b[?25h\u001b[?25l\u001b[2K\u001b[1G\u001b[A\u001b[2K\u001b[1Gpulling manifest \n",
            "pulling 64e8f4d6856f...  65% ▕▏ 5.1 GB/7.9 GB  211 MB/s     13s\u001b[?25h\u001b[?25l\u001b[2K\u001b[1G\u001b[A\u001b[2K\u001b[1Gpulling manifest \n",
            "pulling 64e8f4d6856f...  65% ▕▏ 5.2 GB/7.9 GB  211 MB/s     12s\u001b[?25h\u001b[?25l\u001b[2K\u001b[1G\u001b[A\u001b[2K\u001b[1Gpulling manifest \n",
            "pulling 64e8f4d6856f...  66% ▕▏ 5.2 GB/7.9 GB  211 MB/s     12s\u001b[?25h\u001b[?25l\u001b[2K\u001b[1G\u001b[A\u001b[2K\u001b[1Gpulling manifest \n",
            "pulling 64e8f4d6856f...  66% ▕▏ 5.2 GB/7.9 GB  211 MB/s     12s\u001b[?25h\u001b[?25l\u001b[2K\u001b[1G\u001b[A\u001b[2K\u001b[1Gpulling manifest \n",
            "pulling 64e8f4d6856f...  66% ▕▏ 5.2 GB/7.9 GB  211 MB/s     12s\u001b[?25h\u001b[?25l\u001b[2K\u001b[1G\u001b[A\u001b[2K\u001b[1Gpulling manifest \n",
            "pulling 64e8f4d6856f...  66% ▕▏ 5.2 GB/7.9 GB  211 MB/s     12s\u001b[?25h\u001b[?25l\u001b[2K\u001b[1G\u001b[A\u001b[2K\u001b[1Gpulling manifest \n",
            "pulling 64e8f4d6856f...  67% ▕▏ 5.3 GB/7.9 GB  228 MB/s     11s\u001b[?25h\u001b[?25l\u001b[2K\u001b[1G\u001b[A\u001b[2K\u001b[1Gpulling manifest \n",
            "pulling 64e8f4d6856f...  67% ▕▏ 5.3 GB/7.9 GB  228 MB/s     11s\u001b[?25h\u001b[?25l\u001b[2K\u001b[1G\u001b[A\u001b[2K\u001b[1Gpulling manifest \n",
            "pulling 64e8f4d6856f...  67% ▕▏ 5.3 GB/7.9 GB  228 MB/s     11s\u001b[?25h\u001b[?25l\u001b[2K\u001b[1G\u001b[A\u001b[2K\u001b[1Gpulling manifest \n",
            "pulling 64e8f4d6856f...  68% ▕▏ 5.3 GB/7.9 GB  228 MB/s     11s\u001b[?25h\u001b[?25l\u001b[2K\u001b[1G\u001b[A\u001b[2K\u001b[1Gpulling manifest \n",
            "pulling 64e8f4d6856f...  68% ▕▏ 5.4 GB/7.9 GB  228 MB/s     10s\u001b[?25h\u001b[?25l\u001b[2K\u001b[1G\u001b[A\u001b[2K\u001b[1Gpulling manifest \n",
            "pulling 64e8f4d6856f...  68% ▕▏ 5.4 GB/7.9 GB  228 MB/s     10s\u001b[?25h\u001b[?25l\u001b[2K\u001b[1G\u001b[A\u001b[2K\u001b[1Gpulling manifest \n",
            "pulling 64e8f4d6856f...  69% ▕▏ 5.4 GB/7.9 GB  228 MB/s     10s\u001b[?25h\u001b[?25l\u001b[2K\u001b[1G\u001b[A\u001b[2K\u001b[1Gpulling manifest \n",
            "pulling 64e8f4d6856f...  69% ▕▏ 5.4 GB/7.9 GB  228 MB/s     10s\u001b[?25h\u001b[?25l\u001b[2K\u001b[1G\u001b[A\u001b[2K\u001b[1Gpulling manifest \n",
            "pulling 64e8f4d6856f...  69% ▕▏ 5.5 GB/7.9 GB  228 MB/s     10s\u001b[?25h\u001b[?25l\u001b[2K\u001b[1G\u001b[A\u001b[2K\u001b[1Gpulling manifest \n",
            "pulling 64e8f4d6856f...  69% ▕▏ 5.5 GB/7.9 GB  228 MB/s     10s\u001b[?25h\u001b[?25l\u001b[2K\u001b[1G\u001b[A\u001b[2K\u001b[1Gpulling manifest \n",
            "pulling 64e8f4d6856f...  69% ▕▏ 5.5 GB/7.9 GB  251 MB/s      9s\u001b[?25h\u001b[?25l\u001b[2K\u001b[1G\u001b[A\u001b[2K\u001b[1Gpulling manifest \n",
            "pulling 64e8f4d6856f...  69% ▕▏ 5.5 GB/7.9 GB  251 MB/s      9s\u001b[?25h\u001b[?25l\u001b[2K\u001b[1G\u001b[A\u001b[2K\u001b[1Gpulling manifest \n",
            "pulling 64e8f4d6856f...  69% ▕▏ 5.5 GB/7.9 GB  251 MB/s      9s\u001b[?25h\u001b[?25l\u001b[2K\u001b[1G\u001b[A\u001b[2K\u001b[1Gpulling manifest \n",
            "pulling 64e8f4d6856f...  70% ▕▏ 5.5 GB/7.9 GB  251 MB/s      9s\u001b[?25h\u001b[?25l\u001b[2K\u001b[1G\u001b[A\u001b[2K\u001b[1Gpulling manifest \n",
            "pulling 64e8f4d6856f...  70% ▕▏ 5.5 GB/7.9 GB  251 MB/s      9s\u001b[?25h\u001b[?25l\u001b[2K\u001b[1G\u001b[A\u001b[2K\u001b[1Gpulling manifest \n",
            "pulling 64e8f4d6856f...  71% ▕▏ 5.6 GB/7.9 GB  251 MB/s      9s\u001b[?25h\u001b[?25l\u001b[2K\u001b[1G\u001b[A\u001b[2K\u001b[1Gpulling manifest \n",
            "pulling 64e8f4d6856f...  71% ▕▏ 5.6 GB/7.9 GB  251 MB/s      9s\u001b[?25h\u001b[?25l\u001b[2K\u001b[1G\u001b[A\u001b[2K\u001b[1Gpulling manifest \n",
            "pulling 64e8f4d6856f...  71% ▕▏ 5.6 GB/7.9 GB  251 MB/s      9s\u001b[?25h\u001b[?25l\u001b[2K\u001b[1G\u001b[A\u001b[2K\u001b[1Gpulling manifest \n",
            "pulling 64e8f4d6856f...  72% ▕▏ 5.7 GB/7.9 GB  251 MB/s      8s\u001b[?25h\u001b[?25l\u001b[2K\u001b[1G\u001b[A\u001b[2K\u001b[1Gpulling manifest \n",
            "pulling 64e8f4d6856f...  72% ▕▏ 5.7 GB/7.9 GB  251 MB/s      8s\u001b[?25h\u001b[?25l\u001b[2K\u001b[1G\u001b[A\u001b[2K\u001b[1Gpulling manifest \n",
            "pulling 64e8f4d6856f...  72% ▕▏ 5.7 GB/7.9 GB  256 MB/s      8s\u001b[?25h\u001b[?25l\u001b[2K\u001b[1G\u001b[A\u001b[2K\u001b[1Gpulling manifest \n",
            "pulling 64e8f4d6856f...  73% ▕▏ 5.7 GB/7.9 GB  256 MB/s      8s\u001b[?25h\u001b[?25l\u001b[2K\u001b[1G\u001b[A\u001b[2K\u001b[1Gpulling manifest \n",
            "pulling 64e8f4d6856f...  73% ▕▏ 5.8 GB/7.9 GB  256 MB/s      8s\u001b[?25h\u001b[?25l\u001b[2K\u001b[1G\u001b[A\u001b[2K\u001b[1Gpulling manifest \n",
            "pulling 64e8f4d6856f...  74% ▕▏ 5.8 GB/7.9 GB  256 MB/s      8s\u001b[?25h\u001b[?25l\u001b[2K\u001b[1G\u001b[A\u001b[2K\u001b[1Gpulling manifest \n",
            "pulling 64e8f4d6856f...  74% ▕▏ 5.9 GB/7.9 GB  256 MB/s      7s\u001b[?25h\u001b[?25l\u001b[2K\u001b[1G\u001b[A\u001b[2K\u001b[1Gpulling manifest \n",
            "pulling 64e8f4d6856f...  75% ▕▏ 5.9 GB/7.9 GB  256 MB/s      7s\u001b[?25h\u001b[?25l\u001b[2K\u001b[1G\u001b[A\u001b[2K\u001b[1Gpulling manifest \n",
            "pulling 64e8f4d6856f...  75% ▕▏ 5.9 GB/7.9 GB  256 MB/s      7s\u001b[?25h\u001b[?25l\u001b[2K\u001b[1G\u001b[A\u001b[2K\u001b[1Gpulling manifest \n",
            "pulling 64e8f4d6856f...  75% ▕▏ 5.9 GB/7.9 GB  256 MB/s      7s\u001b[?25h\u001b[?25l\u001b[2K\u001b[1G\u001b[A\u001b[2K\u001b[1Gpulling manifest \n",
            "pulling 64e8f4d6856f...  76% ▕▏ 6.0 GB/7.9 GB  256 MB/s      7s\u001b[?25h\u001b[?25l\u001b[2K\u001b[1G\u001b[A\u001b[2K\u001b[1Gpulling manifest \n",
            "pulling 64e8f4d6856f...  76% ▕▏ 6.0 GB/7.9 GB  256 MB/s      7s\u001b[?25h\u001b[?25l\u001b[2K\u001b[1G\u001b[A\u001b[2K\u001b[1Gpulling manifest \n",
            "pulling 64e8f4d6856f...  76% ▕▏ 6.0 GB/7.9 GB  259 MB/s      7s\u001b[?25h\u001b[?25l\u001b[2K\u001b[1G\u001b[A\u001b[2K\u001b[1Gpulling manifest \n",
            "pulling 64e8f4d6856f...  77% ▕▏ 6.0 GB/7.9 GB  259 MB/s      7s\u001b[?25h\u001b[?25l\u001b[2K\u001b[1G\u001b[A\u001b[2K\u001b[1Gpulling manifest \n",
            "pulling 64e8f4d6856f...  77% ▕▏ 6.1 GB/7.9 GB  259 MB/s      7s\u001b[?25h\u001b[?25l\u001b[2K\u001b[1G\u001b[A\u001b[2K\u001b[1Gpulling manifest \n",
            "pulling 64e8f4d6856f...  77% ▕▏ 6.1 GB/7.9 GB  259 MB/s      6s\u001b[?25h\u001b[?25l\u001b[2K\u001b[1G\u001b[A\u001b[2K\u001b[1Gpulling manifest \n",
            "pulling 64e8f4d6856f...  78% ▕▏ 6.1 GB/7.9 GB  259 MB/s      6s\u001b[?25h\u001b[?25l\u001b[2K\u001b[1G\u001b[A\u001b[2K\u001b[1Gpulling manifest \n",
            "pulling 64e8f4d6856f...  78% ▕▏ 6.1 GB/7.9 GB  259 MB/s      6s\u001b[?25h\u001b[?25l\u001b[2K\u001b[1G\u001b[A\u001b[2K\u001b[1Gpulling manifest \n",
            "pulling 64e8f4d6856f...  78% ▕▏ 6.2 GB/7.9 GB  259 MB/s      6s\u001b[?25h\u001b[?25l\u001b[2K\u001b[1G\u001b[A\u001b[2K\u001b[1Gpulling manifest \n",
            "pulling 64e8f4d6856f...  79% ▕▏ 6.2 GB/7.9 GB  259 MB/s      6s\u001b[?25h\u001b[?25l\u001b[2K\u001b[1G\u001b[A\u001b[2K\u001b[1Gpulling manifest \n",
            "pulling 64e8f4d6856f...  79% ▕▏ 6.2 GB/7.9 GB  259 MB/s      6s\u001b[?25h\u001b[?25l\u001b[2K\u001b[1G\u001b[A\u001b[2K\u001b[1Gpulling manifest \n",
            "pulling 64e8f4d6856f...  79% ▕▏ 6.3 GB/7.9 GB  259 MB/s      6s\u001b[?25h\u001b[?25l\u001b[2K\u001b[1G\u001b[A\u001b[2K\u001b[1Gpulling manifest \n",
            "pulling 64e8f4d6856f...  80% ▕▏ 6.3 GB/7.9 GB  256 MB/s      6s\u001b[?25h\u001b[?25l\u001b[2K\u001b[1G\u001b[A\u001b[2K\u001b[1Gpulling manifest \n",
            "pulling 64e8f4d6856f...  80% ▕▏ 6.3 GB/7.9 GB  256 MB/s      6s\u001b[?25h\u001b[?25l\u001b[2K\u001b[1G\u001b[A\u001b[2K\u001b[1Gpulling manifest \n",
            "pulling 64e8f4d6856f...  80% ▕▏ 6.3 GB/7.9 GB  256 MB/s      6s\u001b[?25h\u001b[?25l\u001b[2K\u001b[1G\u001b[A\u001b[2K\u001b[1Gpulling manifest \n",
            "pulling 64e8f4d6856f...  80% ▕▏ 6.4 GB/7.9 GB  256 MB/s      6s\u001b[?25h\u001b[?25l\u001b[2K\u001b[1G\u001b[A\u001b[2K\u001b[1Gpulling manifest \n",
            "pulling 64e8f4d6856f...  81% ▕▏ 6.4 GB/7.9 GB  256 MB/s      5s\u001b[?25h\u001b[?25l\u001b[2K\u001b[1G\u001b[A\u001b[2K\u001b[1Gpulling manifest \n",
            "pulling 64e8f4d6856f...  81% ▕▏ 6.4 GB/7.9 GB  256 MB/s      5s\u001b[?25h\u001b[?25l\u001b[2K\u001b[1G\u001b[A\u001b[2K\u001b[1Gpulling manifest \n",
            "pulling 64e8f4d6856f...  82% ▕▏ 6.4 GB/7.9 GB  256 MB/s      5s\u001b[?25h\u001b[?25l\u001b[2K\u001b[1G\u001b[A\u001b[2K\u001b[1Gpulling manifest \n",
            "pulling 64e8f4d6856f...  82% ▕▏ 6.4 GB/7.9 GB  256 MB/s      5s\u001b[?25h\u001b[?25l\u001b[2K\u001b[1G\u001b[A\u001b[2K\u001b[1Gpulling manifest \n",
            "pulling 64e8f4d6856f...  82% ▕▏ 6.5 GB/7.9 GB  256 MB/s      5s\u001b[?25h\u001b[?25l\u001b[2K\u001b[1G\u001b[A\u001b[2K\u001b[1Gpulling manifest \n",
            "pulling 64e8f4d6856f...  82% ▕▏ 6.5 GB/7.9 GB  256 MB/s      5s\u001b[?25h\u001b[?25l\u001b[2K\u001b[1G\u001b[A\u001b[2K\u001b[1Gpulling manifest \n",
            "pulling 64e8f4d6856f...  83% ▕▏ 6.5 GB/7.9 GB  256 MB/s      5s\u001b[?25h\u001b[?25l\u001b[2K\u001b[1G\u001b[A\u001b[2K\u001b[1Gpulling manifest \n",
            "pulling 64e8f4d6856f...  83% ▕▏ 6.5 GB/7.9 GB  259 MB/s      5s\u001b[?25h\u001b[?25l\u001b[2K\u001b[1G\u001b[A\u001b[2K\u001b[1Gpulling manifest \n",
            "pulling 64e8f4d6856f...  83% ▕▏ 6.6 GB/7.9 GB  259 MB/s      5s\u001b[?25h\u001b[?25l\u001b[2K\u001b[1G\u001b[A\u001b[2K\u001b[1Gpulling manifest \n",
            "pulling 64e8f4d6856f...  84% ▕▏ 6.6 GB/7.9 GB  259 MB/s      4s\u001b[?25h\u001b[?25l\u001b[2K\u001b[1G\u001b[A\u001b[2K\u001b[1Gpulling manifest \n",
            "pulling 64e8f4d6856f...  84% ▕▏ 6.6 GB/7.9 GB  259 MB/s      4s\u001b[?25h\u001b[?25l\u001b[2K\u001b[1G\u001b[A\u001b[2K\u001b[1Gpulling manifest \n",
            "pulling 64e8f4d6856f...  84% ▕▏ 6.7 GB/7.9 GB  259 MB/s      4s\u001b[?25h\u001b[?25l\u001b[2K\u001b[1G\u001b[A\u001b[2K\u001b[1Gpulling manifest \n",
            "pulling 64e8f4d6856f...  85% ▕▏ 6.7 GB/7.9 GB  259 MB/s      4s\u001b[?25h\u001b[?25l\u001b[2K\u001b[1G\u001b[A\u001b[2K\u001b[1Gpulling manifest \n",
            "pulling 64e8f4d6856f...  85% ▕▏ 6.7 GB/7.9 GB  259 MB/s      4s\u001b[?25h\u001b[?25l\u001b[2K\u001b[1G\u001b[A\u001b[2K\u001b[1Gpulling manifest \n",
            "pulling 64e8f4d6856f...  85% ▕▏ 6.7 GB/7.9 GB  259 MB/s      4s\u001b[?25h\u001b[?25l\u001b[2K\u001b[1G\u001b[A\u001b[2K\u001b[1Gpulling manifest \n",
            "pulling 64e8f4d6856f...  85% ▕▏ 6.7 GB/7.9 GB  259 MB/s      4s\u001b[?25h\u001b[?25l\u001b[2K\u001b[1G\u001b[A\u001b[2K\u001b[1Gpulling manifest \n",
            "pulling 64e8f4d6856f...  86% ▕▏ 6.8 GB/7.9 GB  259 MB/s      4s\u001b[?25h\u001b[?25l\u001b[2K\u001b[1G\u001b[A\u001b[2K\u001b[1Gpulling manifest \n",
            "pulling 64e8f4d6856f...  86% ▕▏ 6.8 GB/7.9 GB  261 MB/s      4s\u001b[?25h\u001b[?25l\u001b[2K\u001b[1G\u001b[A\u001b[2K\u001b[1Gpulling manifest \n",
            "pulling 64e8f4d6856f...  86% ▕▏ 6.8 GB/7.9 GB  261 MB/s      4s\u001b[?25h\u001b[?25l\u001b[2K\u001b[1G\u001b[A\u001b[2K\u001b[1Gpulling manifest \n",
            "pulling 64e8f4d6856f...  87% ▕▏ 6.9 GB/7.9 GB  261 MB/s      3s\u001b[?25h\u001b[?25l\u001b[2K\u001b[1G\u001b[A\u001b[2K\u001b[1Gpulling manifest \n",
            "pulling 64e8f4d6856f...  87% ▕▏ 6.9 GB/7.9 GB  261 MB/s      3s\u001b[?25h\u001b[?25l\u001b[2K\u001b[1G\u001b[A\u001b[2K\u001b[1Gpulling manifest \n",
            "pulling 64e8f4d6856f...  87% ▕▏ 6.9 GB/7.9 GB  261 MB/s      3s\u001b[?25h\u001b[?25l\u001b[2K\u001b[1G\u001b[A\u001b[2K\u001b[1Gpulling manifest \n",
            "pulling 64e8f4d6856f...  88% ▕▏ 6.9 GB/7.9 GB  261 MB/s      3s\u001b[?25h\u001b[?25l\u001b[2K\u001b[1G\u001b[A\u001b[2K\u001b[1Gpulling manifest \n",
            "pulling 64e8f4d6856f...  88% ▕▏ 7.0 GB/7.9 GB  261 MB/s      3s\u001b[?25h\u001b[?25l\u001b[2K\u001b[1G\u001b[A\u001b[2K\u001b[1Gpulling manifest \n",
            "pulling 64e8f4d6856f...  88% ▕▏ 7.0 GB/7.9 GB  261 MB/s      3s\u001b[?25h\u001b[?25l\u001b[2K\u001b[1G\u001b[A\u001b[2K\u001b[1Gpulling manifest \n",
            "pulling 64e8f4d6856f...  88% ▕▏ 7.0 GB/7.9 GB  261 MB/s      3s\u001b[?25h\u001b[?25l\u001b[2K\u001b[1G\u001b[A\u001b[2K\u001b[1Gpulling manifest \n",
            "pulling 64e8f4d6856f...  88% ▕▏ 7.0 GB/7.9 GB  261 MB/s      3s\u001b[?25h\u001b[?25l\u001b[2K\u001b[1G\u001b[A\u001b[2K\u001b[1Gpulling manifest \n",
            "pulling 64e8f4d6856f...  88% ▕▏ 7.0 GB/7.9 GB  254 MB/s      3s\u001b[?25h\u001b[?25l\u001b[2K\u001b[1G\u001b[A\u001b[2K\u001b[1Gpulling manifest \n",
            "pulling 64e8f4d6856f...  88% ▕▏ 7.0 GB/7.9 GB  254 MB/s      3s\u001b[?25h\u001b[?25l\u001b[2K\u001b[1G\u001b[A\u001b[2K\u001b[1Gpulling manifest \n",
            "pulling 64e8f4d6856f...  88% ▕▏ 7.0 GB/7.9 GB  254 MB/s      3s\u001b[?25h\u001b[?25l\u001b[2K\u001b[1G\u001b[A\u001b[2K\u001b[1Gpulling manifest \n",
            "pulling 64e8f4d6856f...  88% ▕▏ 7.0 GB/7.9 GB  254 MB/s      3s\u001b[?25h\u001b[?25l\u001b[2K\u001b[1G\u001b[A\u001b[2K\u001b[1Gpulling manifest \n",
            "pulling 64e8f4d6856f...  88% ▕▏ 7.0 GB/7.9 GB  254 MB/s      3s\u001b[?25h\u001b[?25l\u001b[2K\u001b[1G\u001b[A\u001b[2K\u001b[1Gpulling manifest \n",
            "pulling 64e8f4d6856f...  88% ▕▏ 7.0 GB/7.9 GB  254 MB/s      3s\u001b[?25h\u001b[?25l\u001b[2K\u001b[1G\u001b[A\u001b[2K\u001b[1Gpulling manifest \n",
            "pulling 64e8f4d6856f...  88% ▕▏ 7.0 GB/7.9 GB  254 MB/s      3s\u001b[?25h\u001b[?25l\u001b[2K\u001b[1G\u001b[A\u001b[2K\u001b[1Gpulling manifest \n",
            "pulling 64e8f4d6856f...  88% ▕▏ 7.0 GB/7.9 GB  254 MB/s      3s\u001b[?25h\u001b[?25l\u001b[2K\u001b[1G\u001b[A\u001b[2K\u001b[1Gpulling manifest \n",
            "pulling 64e8f4d6856f...  88% ▕▏ 7.0 GB/7.9 GB  254 MB/s      3s\u001b[?25h\u001b[?25l\u001b[2K\u001b[1G\u001b[A\u001b[2K\u001b[1Gpulling manifest \n",
            "pulling 64e8f4d6856f...  88% ▕▏ 7.0 GB/7.9 GB  254 MB/s      3s\u001b[?25h\u001b[?25l\u001b[2K\u001b[1G\u001b[A\u001b[2K\u001b[1Gpulling manifest \n",
            "pulling 64e8f4d6856f...  88% ▕▏ 7.0 GB/7.9 GB  224 MB/s      4s\u001b[?25h\u001b[?25l\u001b[2K\u001b[1G\u001b[A\u001b[2K\u001b[1Gpulling manifest \n",
            "pulling 64e8f4d6856f...  88% ▕▏ 7.0 GB/7.9 GB  224 MB/s      4s\u001b[?25h\u001b[?25l\u001b[2K\u001b[1G\u001b[A\u001b[2K\u001b[1Gpulling manifest \n",
            "pulling 64e8f4d6856f...  88% ▕▏ 7.0 GB/7.9 GB  224 MB/s      4s\u001b[?25h\u001b[?25l\u001b[2K\u001b[1G\u001b[A\u001b[2K\u001b[1Gpulling manifest \n",
            "pulling 64e8f4d6856f...  88% ▕▏ 7.0 GB/7.9 GB  224 MB/s      4s\u001b[?25h\u001b[?25l\u001b[2K\u001b[1G\u001b[A\u001b[2K\u001b[1Gpulling manifest \n",
            "pulling 64e8f4d6856f...  88% ▕▏ 7.0 GB/7.9 GB  224 MB/s      4s\u001b[?25h\u001b[?25l\u001b[2K\u001b[1G\u001b[A\u001b[2K\u001b[1Gpulling manifest \n",
            "pulling 64e8f4d6856f...  88% ▕▏ 7.0 GB/7.9 GB  224 MB/s      4s\u001b[?25h\u001b[?25l\u001b[2K\u001b[1G\u001b[A\u001b[2K\u001b[1Gpulling manifest \n",
            "pulling 64e8f4d6856f...  88% ▕▏ 7.0 GB/7.9 GB  224 MB/s      4s\u001b[?25h\u001b[?25l\u001b[2K\u001b[1G\u001b[A\u001b[2K\u001b[1Gpulling manifest \n",
            "pulling 64e8f4d6856f...  88% ▕▏ 7.0 GB/7.9 GB  224 MB/s      4s\u001b[?25h\u001b[?25l\u001b[2K\u001b[1G\u001b[A\u001b[2K\u001b[1Gpulling manifest \n",
            "pulling 64e8f4d6856f...  89% ▕▏ 7.0 GB/7.9 GB  224 MB/s      3s\u001b[?25h\u001b[?25l\u001b[2K\u001b[1G\u001b[A\u001b[2K\u001b[1Gpulling manifest \n",
            "pulling 64e8f4d6856f...  89% ▕▏ 7.0 GB/7.9 GB  224 MB/s      3s\u001b[?25h\u001b[?25l\u001b[2K\u001b[1G\u001b[A\u001b[2K\u001b[1Gpulling manifest \n",
            "pulling 64e8f4d6856f...  90% ▕▏ 7.1 GB/7.9 GB  202 MB/s      4s\u001b[?25h\u001b[?25l\u001b[2K\u001b[1G\u001b[A\u001b[2K\u001b[1Gpulling manifest \n",
            "pulling 64e8f4d6856f...  90% ▕▏ 7.1 GB/7.9 GB  202 MB/s      3s\u001b[?25h\u001b[?25l\u001b[2K\u001b[1G\u001b[A\u001b[2K\u001b[1Gpulling manifest \n",
            "pulling 64e8f4d6856f...  90% ▕▏ 7.1 GB/7.9 GB  202 MB/s      3s\u001b[?25h\u001b[?25l\u001b[2K\u001b[1G\u001b[A\u001b[2K\u001b[1Gpulling manifest \n",
            "pulling 64e8f4d6856f...  90% ▕▏ 7.1 GB/7.9 GB  202 MB/s      3s\u001b[?25h\u001b[?25l\u001b[2K\u001b[1G\u001b[A\u001b[2K\u001b[1Gpulling manifest \n",
            "pulling 64e8f4d6856f...  90% ▕▏ 7.1 GB/7.9 GB  202 MB/s      3s\u001b[?25h\u001b[?25l\u001b[2K\u001b[1G\u001b[A\u001b[2K\u001b[1Gpulling manifest \n",
            "pulling 64e8f4d6856f...  91% ▕▏ 7.1 GB/7.9 GB  202 MB/s      3s\u001b[?25h\u001b[?25l\u001b[2K\u001b[1G\u001b[A\u001b[2K\u001b[1Gpulling manifest \n",
            "pulling 64e8f4d6856f...  91% ▕▏ 7.2 GB/7.9 GB  202 MB/s      3s\u001b[?25h\u001b[?25l\u001b[2K\u001b[1G\u001b[A\u001b[2K\u001b[1Gpulling manifest \n",
            "pulling 64e8f4d6856f...  91% ▕▏ 7.2 GB/7.9 GB  202 MB/s      3s\u001b[?25h\u001b[?25l\u001b[2K\u001b[1G\u001b[A\u001b[2K\u001b[1Gpulling manifest \n",
            "pulling 64e8f4d6856f...  91% ▕▏ 7.2 GB/7.9 GB  202 MB/s      3s\u001b[?25h\u001b[?25l\u001b[2K\u001b[1G\u001b[A\u001b[2K\u001b[1Gpulling manifest \n",
            "pulling 64e8f4d6856f...  92% ▕▏ 7.2 GB/7.9 GB  202 MB/s      3s\u001b[?25h\u001b[?25l\u001b[2K\u001b[1G\u001b[A\u001b[2K\u001b[1Gpulling manifest \n",
            "pulling 64e8f4d6856f...  92% ▕▏ 7.2 GB/7.9 GB  202 MB/s      3s\u001b[?25h\u001b[?25l\u001b[2K\u001b[1G\u001b[A\u001b[2K\u001b[1Gpulling manifest \n",
            "pulling 64e8f4d6856f...  92% ▕▏ 7.3 GB/7.9 GB  199 MB/s      3s\u001b[?25h\u001b[?25l\u001b[2K\u001b[1G\u001b[A\u001b[2K\u001b[1Gpulling manifest \n",
            "pulling 64e8f4d6856f...  92% ▕▏ 7.3 GB/7.9 GB  199 MB/s      3s\u001b[?25h\u001b[?25l\u001b[2K\u001b[1G\u001b[A\u001b[2K\u001b[1Gpulling manifest \n",
            "pulling 64e8f4d6856f...  93% ▕▏ 7.3 GB/7.9 GB  199 MB/s      2s\u001b[?25h\u001b[?25l\u001b[2K\u001b[1G\u001b[A\u001b[2K\u001b[1Gpulling manifest \n",
            "pulling 64e8f4d6856f...  93% ▕▏ 7.3 GB/7.9 GB  199 MB/s      2s\u001b[?25h\u001b[?25l\u001b[2K\u001b[1G\u001b[A\u001b[2K\u001b[1Gpulling manifest \n",
            "pulling 64e8f4d6856f...  93% ▕▏ 7.4 GB/7.9 GB  199 MB/s      2s\u001b[?25h\u001b[?25l\u001b[2K\u001b[1G\u001b[A\u001b[2K\u001b[1Gpulling manifest \n",
            "pulling 64e8f4d6856f...  93% ▕▏ 7.4 GB/7.9 GB  199 MB/s      2s\u001b[?25h\u001b[?25l\u001b[2K\u001b[1G\u001b[A\u001b[2K\u001b[1Gpulling manifest \n",
            "pulling 64e8f4d6856f...  94% ▕▏ 7.4 GB/7.9 GB  199 MB/s      2s\u001b[?25h\u001b[?25l\u001b[2K\u001b[1G\u001b[A\u001b[2K\u001b[1Gpulling manifest \n",
            "pulling 64e8f4d6856f...  94% ▕▏ 7.4 GB/7.9 GB  199 MB/s      2s\u001b[?25h\u001b[?25l\u001b[2K\u001b[1G\u001b[A\u001b[2K\u001b[1Gpulling manifest \n",
            "pulling 64e8f4d6856f...  94% ▕▏ 7.4 GB/7.9 GB  199 MB/s      2s\u001b[?25h\u001b[?25l\u001b[2K\u001b[1G\u001b[A\u001b[2K\u001b[1Gpulling manifest \n",
            "pulling 64e8f4d6856f...  94% ▕▏ 7.5 GB/7.9 GB  199 MB/s      2s\u001b[?25h\u001b[?25l\u001b[2K\u001b[1G\u001b[A\u001b[2K\u001b[1Gpulling manifest \n",
            "pulling 64e8f4d6856f...  95% ▕▏ 7.5 GB/7.9 GB  197 MB/s      2s\u001b[?25h\u001b[?25l\u001b[2K\u001b[1G\u001b[A\u001b[2K\u001b[1Gpulling manifest \n",
            "pulling 64e8f4d6856f...  95% ▕▏ 7.5 GB/7.9 GB  197 MB/s      2s\u001b[?25h\u001b[?25l\u001b[2K\u001b[1G\u001b[A\u001b[2K\u001b[1Gpulling manifest \n",
            "pulling 64e8f4d6856f...  95% ▕▏ 7.5 GB/7.9 GB  197 MB/s      1s\u001b[?25h\u001b[?25l\u001b[2K\u001b[1G\u001b[A\u001b[2K\u001b[1Gpulling manifest \n",
            "pulling 64e8f4d6856f...  96% ▕▏ 7.5 GB/7.9 GB  197 MB/s      1s\u001b[?25h\u001b[?25l\u001b[2K\u001b[1G\u001b[A\u001b[2K\u001b[1Gpulling manifest \n",
            "pulling 64e8f4d6856f...  96% ▕▏ 7.6 GB/7.9 GB  197 MB/s      1s\u001b[?25h\u001b[?25l\u001b[2K\u001b[1G\u001b[A\u001b[2K\u001b[1Gpulling manifest \n",
            "pulling 64e8f4d6856f...  96% ▕▏ 7.6 GB/7.9 GB  197 MB/s      1s\u001b[?25h\u001b[?25l\u001b[2K\u001b[1G\u001b[A\u001b[2K\u001b[1Gpulling manifest \n",
            "pulling 64e8f4d6856f...  96% ▕▏ 7.6 GB/7.9 GB  197 MB/s      1s\u001b[?25h\u001b[?25l\u001b[2K\u001b[1G\u001b[A\u001b[2K\u001b[1Gpulling manifest \n",
            "pulling 64e8f4d6856f...  96% ▕▏ 7.6 GB/7.9 GB  197 MB/s      1s\u001b[?25h\u001b[?25l\u001b[2K\u001b[1G\u001b[A\u001b[2K\u001b[1Gpulling manifest \n",
            "pulling 64e8f4d6856f...  97% ▕▏ 7.6 GB/7.9 GB  197 MB/s      1s\u001b[?25h\u001b[?25l\u001b[2K\u001b[1G\u001b[A\u001b[2K\u001b[1Gpulling manifest \n",
            "pulling 64e8f4d6856f...  97% ▕▏ 7.7 GB/7.9 GB  197 MB/s      1s\u001b[?25h\u001b[?25l\u001b[2K\u001b[1G\u001b[A\u001b[2K\u001b[1Gpulling manifest \n",
            "pulling 64e8f4d6856f...  97% ▕▏ 7.7 GB/7.9 GB  197 MB/s      1s\u001b[?25h\u001b[?25l\u001b[2K\u001b[1G\u001b[A\u001b[2K\u001b[1Gpulling manifest \n",
            "pulling 64e8f4d6856f...  97% ▕▏ 7.7 GB/7.9 GB  182 MB/s      1s\u001b[?25h\u001b[?25l\u001b[2K\u001b[1G\u001b[A\u001b[2K\u001b[1Gpulling manifest \n",
            "pulling 64e8f4d6856f...  98% ▕▏ 7.7 GB/7.9 GB  182 MB/s      1s\u001b[?25h\u001b[?25l\u001b[2K\u001b[1G\u001b[A\u001b[2K\u001b[1Gpulling manifest \n",
            "pulling 64e8f4d6856f...  98% ▕▏ 7.7 GB/7.9 GB  182 MB/s      0s\u001b[?25h\u001b[?25l\u001b[2K\u001b[1G\u001b[A\u001b[2K\u001b[1Gpulling manifest \n",
            "pulling 64e8f4d6856f...  98% ▕▏ 7.7 GB/7.9 GB  182 MB/s      0s\u001b[?25h\u001b[?25l\u001b[2K\u001b[1G\u001b[A\u001b[2K\u001b[1Gpulling manifest \n",
            "pulling 64e8f4d6856f...  98% ▕▏ 7.8 GB/7.9 GB  182 MB/s      0s\u001b[?25h\u001b[?25l\u001b[2K\u001b[1G\u001b[A\u001b[2K\u001b[1Gpulling manifest \n",
            "pulling 64e8f4d6856f...  99% ▕▏ 7.8 GB/7.9 GB  182 MB/s      0s\u001b[?25h\u001b[?25l\u001b[2K\u001b[1G\u001b[A\u001b[2K\u001b[1Gpulling manifest \n",
            "pulling 64e8f4d6856f...  99% ▕▏ 7.8 GB/7.9 GB  182 MB/s      0s\u001b[?25h\u001b[?25l\u001b[2K\u001b[1G\u001b[A\u001b[2K\u001b[1Gpulling manifest \n",
            "pulling 64e8f4d6856f...  99% ▕▏ 7.8 GB/7.9 GB  182 MB/s      0s\u001b[?25h\u001b[?25l\u001b[2K\u001b[1G\u001b[A\u001b[2K\u001b[1Gpulling manifest \n",
            "pulling 64e8f4d6856f...  99% ▕▏ 7.8 GB/7.9 GB  182 MB/s      0s\u001b[?25h\u001b[?25l\u001b[2K\u001b[1G\u001b[A\u001b[2K\u001b[1Gpulling manifest \n",
            "pulling 64e8f4d6856f... 100% ▕▏ 7.9 GB/7.9 GB  182 MB/s      0s\u001b[?25h\u001b[?25l\u001b[2K\u001b[1G\u001b[A\u001b[2K\u001b[1Gpulling manifest \n",
            "pulling 64e8f4d6856f... 100% ▕▏ 7.9 GB/7.9 GB  176 MB/s      0s\u001b[?25h\u001b[?25l\u001b[2K\u001b[1G\u001b[A\u001b[2K\u001b[1Gpulling manifest \n",
            "pulling 64e8f4d6856f... 100% ▕▏ 7.9 GB/7.9 GB  176 MB/s      0s\u001b[?25h\u001b[?25l\u001b[2K\u001b[1G\u001b[A\u001b[2K\u001b[1Gpulling manifest \n",
            "pulling 64e8f4d6856f... 100% ▕▏ 7.9 GB/7.9 GB  176 MB/s      0s\u001b[?25h\u001b[?25l\u001b[2K\u001b[1G\u001b[A\u001b[2K\u001b[1Gpulling manifest \n",
            "pulling 64e8f4d6856f... 100% ▕▏ 7.9 GB/7.9 GB  176 MB/s      0s\u001b[?25h\u001b[?25l\u001b[2K\u001b[1G\u001b[A\u001b[2K\u001b[1Gpulling manifest \n",
            "pulling 64e8f4d6856f... 100% ▕▏ 7.9 GB/7.9 GB  176 MB/s      0s\u001b[?25h\u001b[?25l\u001b[2K\u001b[1G\u001b[A\u001b[2K\u001b[1Gpulling manifest \n",
            "pulling 64e8f4d6856f... 100% ▕▏ 7.9 GB/7.9 GB  176 MB/s      0s\u001b[?25h\u001b[?25l\u001b[2K\u001b[1G\u001b[A\u001b[2K\u001b[1Gpulling manifest \n",
            "pulling 64e8f4d6856f... 100% ▕▏ 7.9 GB/7.9 GB  176 MB/s      0s\u001b[?25h\u001b[?25l\u001b[2K\u001b[1G\u001b[A\u001b[2K\u001b[1Gpulling manifest \n",
            "pulling 64e8f4d6856f... 100% ▕▏ 7.9 GB/7.9 GB  176 MB/s      0s\u001b[?25h\u001b[?25l\u001b[2K\u001b[1G\u001b[A\u001b[2K\u001b[1Gpulling manifest \n",
            "pulling 64e8f4d6856f... 100% ▕▏ 7.9 GB/7.9 GB  176 MB/s      0s\u001b[?25h\u001b[?25l\u001b[2K\u001b[1G\u001b[A\u001b[2K\u001b[1Gpulling manifest \n",
            "pulling 64e8f4d6856f... 100% ▕▏ 7.9 GB/7.9 GB  176 MB/s      0s\u001b[?25h\u001b[?25l\u001b[2K\u001b[1G\u001b[A\u001b[2K\u001b[1Gpulling manifest \n",
            "pulling 64e8f4d6856f... 100% ▕▏ 7.9 GB/7.9 GB  150 MB/s      0s\u001b[?25h\u001b[?25l\u001b[2K\u001b[1G\u001b[A\u001b[2K\u001b[1Gpulling manifest \n",
            "pulling 64e8f4d6856f... 100% ▕▏ 7.9 GB/7.9 GB  150 MB/s      0s\u001b[?25h\u001b[?25l\u001b[2K\u001b[1G\u001b[A\u001b[2K\u001b[1Gpulling manifest \n",
            "pulling 64e8f4d6856f... 100% ▕▏ 7.9 GB/7.9 GB  150 MB/s      0s\u001b[?25h\u001b[?25l\u001b[2K\u001b[1G\u001b[A\u001b[2K\u001b[1Gpulling manifest \n",
            "pulling 64e8f4d6856f... 100% ▕▏ 7.9 GB/7.9 GB  150 MB/s      0s\u001b[?25h\u001b[?25l\u001b[2K\u001b[1G\u001b[A\u001b[2K\u001b[1Gpulling manifest \n",
            "pulling 64e8f4d6856f... 100% ▕▏ 7.9 GB/7.9 GB  150 MB/s      0s\u001b[?25h\u001b[?25l\u001b[2K\u001b[1G\u001b[A\u001b[2K\u001b[1Gpulling manifest \n",
            "pulling 64e8f4d6856f... 100% ▕▏ 7.9 GB/7.9 GB  150 MB/s      0s\u001b[?25h\u001b[?25l\u001b[2K\u001b[1G\u001b[A\u001b[2K\u001b[1Gpulling manifest \n",
            "pulling 64e8f4d6856f... 100% ▕▏ 7.9 GB                         \u001b[?25h\u001b[?25l\u001b[2K\u001b[1G\u001b[A\u001b[2K\u001b[1Gpulling manifest \n",
            "pulling 64e8f4d6856f... 100% ▕▏ 7.9 GB                         \u001b[?25h\u001b[?25l\u001b[2K\u001b[1G\u001b[A\u001b[2K\u001b[1Gpulling manifest \n",
            "pulling 64e8f4d6856f... 100% ▕▏ 7.9 GB                         \u001b[?25h\u001b[?25l\u001b[2K\u001b[1G\u001b[A\u001b[2K\u001b[1Gpulling manifest \n",
            "pulling 64e8f4d6856f... 100% ▕▏ 7.9 GB                         \u001b[?25h\u001b[?25l\u001b[2K\u001b[1G\u001b[A\u001b[2K\u001b[1Gpulling manifest \n",
            "pulling 64e8f4d6856f... 100% ▕▏ 7.9 GB                         \u001b[?25h\u001b[?25l\u001b[2K\u001b[1G\u001b[A\u001b[2K\u001b[1Gpulling manifest \n",
            "pulling 64e8f4d6856f... 100% ▕▏ 7.9 GB                         \u001b[?25h\u001b[?25l\u001b[2K\u001b[1G\u001b[A\u001b[2K\u001b[1Gpulling manifest \n",
            "pulling 64e8f4d6856f... 100% ▕▏ 7.9 GB                         \u001b[?25h\u001b[?25l\u001b[2K\u001b[1G\u001b[A\u001b[2K\u001b[1Gpulling manifest \n",
            "pulling 64e8f4d6856f... 100% ▕▏ 7.9 GB                         \u001b[?25h\u001b[?25l\u001b[2K\u001b[1G\u001b[A\u001b[2K\u001b[1Gpulling manifest \n",
            "pulling 64e8f4d6856f... 100% ▕▏ 7.9 GB                         \u001b[?25h\u001b[?25l\u001b[2K\u001b[1G\u001b[A\u001b[2K\u001b[1Gpulling manifest \n",
            "pulling 64e8f4d6856f... 100% ▕▏ 7.9 GB                         \n",
            "pulling fa8235e5b48f...   0% ▕▏    0 B/1.1 KB                  \u001b[?25h\u001b[?25l\u001b[2K\u001b[1G\u001b[A\u001b[2K\u001b[1G\u001b[A\u001b[2K\u001b[1Gpulling manifest \n",
            "pulling 64e8f4d6856f... 100% ▕▏ 7.9 GB                         \n",
            "pulling fa8235e5b48f... 100% ▕▏ 1.1 KB                         \u001b[?25h\u001b[?25l\u001b[2K\u001b[1G\u001b[A\u001b[2K\u001b[1G\u001b[A\u001b[2K\u001b[1Gpulling manifest \n",
            "pulling 64e8f4d6856f... 100% ▕▏ 7.9 GB                         \n",
            "pulling fa8235e5b48f... 100% ▕▏ 1.1 KB                         \u001b[?25h\u001b[?25l\u001b[2K\u001b[1G\u001b[A\u001b[2K\u001b[1G\u001b[A\u001b[2K\u001b[1Gpulling manifest \n",
            "pulling 64e8f4d6856f... 100% ▕▏ 7.9 GB                         \n",
            "pulling fa8235e5b48f... 100% ▕▏ 1.1 KB                         \u001b[?25h\u001b[?25l\u001b[2K\u001b[1G\u001b[A\u001b[2K\u001b[1G\u001b[A\u001b[2K\u001b[1Gpulling manifest \n",
            "pulling 64e8f4d6856f... 100% ▕▏ 7.9 GB                         \n",
            "pulling fa8235e5b48f... 100% ▕▏ 1.1 KB                         \u001b[?25h\u001b[?25l\u001b[2K\u001b[1G\u001b[A\u001b[2K\u001b[1G\u001b[A\u001b[2K\u001b[1Gpulling manifest \n",
            "pulling 64e8f4d6856f... 100% ▕▏ 7.9 GB                         \n",
            "pulling fa8235e5b48f... 100% ▕▏ 1.1 KB                         \u001b[?25h\u001b[?25l\u001b[2K\u001b[1G\u001b[A\u001b[2K\u001b[1G\u001b[A\u001b[2K\u001b[1Gpulling manifest \n",
            "pulling 64e8f4d6856f... 100% ▕▏ 7.9 GB                         \n",
            "pulling fa8235e5b48f... 100% ▕▏ 1.1 KB                         \u001b[?25h\u001b[?25l\u001b[2K\u001b[1G\u001b[A\u001b[2K\u001b[1G\u001b[A\u001b[2K\u001b[1Gpulling manifest \n",
            "pulling 64e8f4d6856f... 100% ▕▏ 7.9 GB                         \n",
            "pulling fa8235e5b48f... 100% ▕▏ 1.1 KB                         \u001b[?25h\u001b[?25l\u001b[2K\u001b[1G\u001b[A\u001b[2K\u001b[1G\u001b[A\u001b[2K\u001b[1Gpulling manifest \n",
            "pulling 64e8f4d6856f... 100% ▕▏ 7.9 GB                         \n",
            "pulling fa8235e5b48f... 100% ▕▏ 1.1 KB                         \u001b[?25h\u001b[?25l\u001b[2K\u001b[1G\u001b[A\u001b[2K\u001b[1G\u001b[A\u001b[2K\u001b[1Gpulling manifest \n",
            "pulling 64e8f4d6856f... 100% ▕▏ 7.9 GB                         \n",
            "pulling fa8235e5b48f... 100% ▕▏ 1.1 KB                         \u001b[?25h\u001b[?25l\u001b[2K\u001b[1G\u001b[A\u001b[2K\u001b[1G\u001b[A\u001b[2K\u001b[1Gpulling manifest \n",
            "pulling 64e8f4d6856f... 100% ▕▏ 7.9 GB                         \n",
            "pulling fa8235e5b48f... 100% ▕▏ 1.1 KB                         \u001b[?25h\u001b[?25l\u001b[2K\u001b[1G\u001b[A\u001b[2K\u001b[1G\u001b[A\u001b[2K\u001b[1Gpulling manifest \n",
            "pulling 64e8f4d6856f... 100% ▕▏ 7.9 GB                         \n",
            "pulling fa8235e5b48f... 100% ▕▏ 1.1 KB                         \u001b[?25h\u001b[?25l\u001b[2K\u001b[1G\u001b[A\u001b[2K\u001b[1G\u001b[A\u001b[2K\u001b[1Gpulling manifest \n",
            "pulling 64e8f4d6856f... 100% ▕▏ 7.9 GB                         \n",
            "pulling fa8235e5b48f... 100% ▕▏ 1.1 KB                         \n",
            "pulling 542b217f179c...   0% ▕▏    0 B/ 148 B                  \u001b[?25h\u001b[?25l\u001b[2K\u001b[1G\u001b[A\u001b[2K\u001b[1G\u001b[A\u001b[2K\u001b[1G\u001b[A\u001b[2K\u001b[1Gpulling manifest \n",
            "pulling 64e8f4d6856f... 100% ▕▏ 7.9 GB                         \n",
            "pulling fa8235e5b48f... 100% ▕▏ 1.1 KB                         \n",
            "pulling 542b217f179c...   0% ▕▏    0 B/ 148 B                  \u001b[?25h\u001b[?25l\u001b[2K\u001b[1G\u001b[A\u001b[2K\u001b[1G\u001b[A\u001b[2K\u001b[1G\u001b[A\u001b[2K\u001b[1Gpulling manifest \n",
            "pulling 64e8f4d6856f... 100% ▕▏ 7.9 GB                         \n",
            "pulling fa8235e5b48f... 100% ▕▏ 1.1 KB                         \n",
            "pulling 542b217f179c... 100% ▕▏  148 B                         \u001b[?25h\u001b[?25l\u001b[2K\u001b[1G\u001b[A\u001b[2K\u001b[1G\u001b[A\u001b[2K\u001b[1G\u001b[A\u001b[2K\u001b[1Gpulling manifest \n",
            "pulling 64e8f4d6856f... 100% ▕▏ 7.9 GB                         \n",
            "pulling fa8235e5b48f... 100% ▕▏ 1.1 KB                         \n",
            "pulling 542b217f179c... 100% ▕▏  148 B                         \u001b[?25h\u001b[?25l\u001b[2K\u001b[1G\u001b[A\u001b[2K\u001b[1G\u001b[A\u001b[2K\u001b[1G\u001b[A\u001b[2K\u001b[1Gpulling manifest \n",
            "pulling 64e8f4d6856f... 100% ▕▏ 7.9 GB                         \n",
            "pulling fa8235e5b48f... 100% ▕▏ 1.1 KB                         \n",
            "pulling 542b217f179c... 100% ▕▏  148 B                         \u001b[?25h\u001b[?25l\u001b[2K\u001b[1G\u001b[A\u001b[2K\u001b[1G\u001b[A\u001b[2K\u001b[1G\u001b[A\u001b[2K\u001b[1Gpulling manifest \n",
            "pulling 64e8f4d6856f... 100% ▕▏ 7.9 GB                         \n",
            "pulling fa8235e5b48f... 100% ▕▏ 1.1 KB                         \n",
            "pulling 542b217f179c... 100% ▕▏  148 B                         \u001b[?25h\u001b[?25l\u001b[2K\u001b[1G\u001b[A\u001b[2K\u001b[1G\u001b[A\u001b[2K\u001b[1G\u001b[A\u001b[2K\u001b[1Gpulling manifest \n",
            "pulling 64e8f4d6856f... 100% ▕▏ 7.9 GB                         \n",
            "pulling fa8235e5b48f... 100% ▕▏ 1.1 KB                         \n",
            "pulling 542b217f179c... 100% ▕▏  148 B                         \u001b[?25h\u001b[?25l\u001b[2K\u001b[1G\u001b[A\u001b[2K\u001b[1G\u001b[A\u001b[2K\u001b[1G\u001b[A\u001b[2K\u001b[1Gpulling manifest \n",
            "pulling 64e8f4d6856f... 100% ▕▏ 7.9 GB                         \n",
            "pulling fa8235e5b48f... 100% ▕▏ 1.1 KB                         \n",
            "pulling 542b217f179c... 100% ▕▏  148 B                         \u001b[?25h\u001b[?25l\u001b[2K\u001b[1G\u001b[A\u001b[2K\u001b[1G\u001b[A\u001b[2K\u001b[1G\u001b[A\u001b[2K\u001b[1Gpulling manifest \n",
            "pulling 64e8f4d6856f... 100% ▕▏ 7.9 GB                         \n",
            "pulling fa8235e5b48f... 100% ▕▏ 1.1 KB                         \n",
            "pulling 542b217f179c... 100% ▕▏  148 B                         \u001b[?25h\u001b[?25l\u001b[2K\u001b[1G\u001b[A\u001b[2K\u001b[1G\u001b[A\u001b[2K\u001b[1G\u001b[A\u001b[2K\u001b[1Gpulling manifest \n",
            "pulling 64e8f4d6856f... 100% ▕▏ 7.9 GB                         \n",
            "pulling fa8235e5b48f... 100% ▕▏ 1.1 KB                         \n",
            "pulling 542b217f179c... 100% ▕▏  148 B                         \u001b[?25h\u001b[?25l\u001b[2K\u001b[1G\u001b[A\u001b[2K\u001b[1G\u001b[A\u001b[2K\u001b[1G\u001b[A\u001b[2K\u001b[1Gpulling manifest \n",
            "pulling 64e8f4d6856f... 100% ▕▏ 7.9 GB                         \n",
            "pulling fa8235e5b48f... 100% ▕▏ 1.1 KB                         \n",
            "pulling 542b217f179c... 100% ▕▏  148 B                         \u001b[?25h\u001b[?25l\u001b[2K\u001b[1G\u001b[A\u001b[2K\u001b[1G\u001b[A\u001b[2K\u001b[1G\u001b[A\u001b[2K\u001b[1Gpulling manifest \n",
            "pulling 64e8f4d6856f... 100% ▕▏ 7.9 GB                         \n",
            "pulling fa8235e5b48f... 100% ▕▏ 1.1 KB                         \n",
            "pulling 542b217f179c... 100% ▕▏  148 B                         \u001b[?25h\u001b[?25l\u001b[2K\u001b[1G\u001b[A\u001b[2K\u001b[1G\u001b[A\u001b[2K\u001b[1G\u001b[A\u001b[2K\u001b[1Gpulling manifest \n",
            "pulling 64e8f4d6856f... 100% ▕▏ 7.9 GB                         \n",
            "pulling fa8235e5b48f... 100% ▕▏ 1.1 KB                         \n",
            "pulling 542b217f179c... 100% ▕▏  148 B                         \n",
            "pulling 8dde1baf1db0...   0% ▕▏    0 B/  78 B                  \u001b[?25h\u001b[?25l\u001b[2K\u001b[1G\u001b[A\u001b[2K\u001b[1G\u001b[A\u001b[2K\u001b[1G\u001b[A\u001b[2K\u001b[1G\u001b[A\u001b[2K\u001b[1Gpulling manifest \n",
            "pulling 64e8f4d6856f... 100% ▕▏ 7.9 GB                         \n",
            "pulling fa8235e5b48f... 100% ▕▏ 1.1 KB                         \n",
            "pulling 542b217f179c... 100% ▕▏  148 B                         \n",
            "pulling 8dde1baf1db0...   0% ▕▏    0 B/  78 B                  \u001b[?25h\u001b[?25l\u001b[2K\u001b[1G\u001b[A\u001b[2K\u001b[1G\u001b[A\u001b[2K\u001b[1G\u001b[A\u001b[2K\u001b[1G\u001b[A\u001b[2K\u001b[1Gpulling manifest \n",
            "pulling 64e8f4d6856f... 100% ▕▏ 7.9 GB                         \n",
            "pulling fa8235e5b48f... 100% ▕▏ 1.1 KB                         \n",
            "pulling 542b217f179c... 100% ▕▏  148 B                         \n",
            "pulling 8dde1baf1db0... 100% ▕▏   78 B                         \u001b[?25h\u001b[?25l\u001b[2K\u001b[1G\u001b[A\u001b[2K\u001b[1G\u001b[A\u001b[2K\u001b[1G\u001b[A\u001b[2K\u001b[1G\u001b[A\u001b[2K\u001b[1Gpulling manifest \n",
            "pulling 64e8f4d6856f... 100% ▕▏ 7.9 GB                         \n",
            "pulling fa8235e5b48f... 100% ▕▏ 1.1 KB                         \n",
            "pulling 542b217f179c... 100% ▕▏  148 B                         \n",
            "pulling 8dde1baf1db0... 100% ▕▏   78 B                         \u001b[?25h\u001b[?25l\u001b[2K\u001b[1G\u001b[A\u001b[2K\u001b[1G\u001b[A\u001b[2K\u001b[1G\u001b[A\u001b[2K\u001b[1G\u001b[A\u001b[2K\u001b[1Gpulling manifest \n",
            "pulling 64e8f4d6856f... 100% ▕▏ 7.9 GB                         \n",
            "pulling fa8235e5b48f... 100% ▕▏ 1.1 KB                         \n",
            "pulling 542b217f179c... 100% ▕▏  148 B                         \n",
            "pulling 8dde1baf1db0... 100% ▕▏   78 B                         \u001b[?25h\u001b[?25l\u001b[2K\u001b[1G\u001b[A\u001b[2K\u001b[1G\u001b[A\u001b[2K\u001b[1G\u001b[A\u001b[2K\u001b[1G\u001b[A\u001b[2K\u001b[1Gpulling manifest \n",
            "pulling 64e8f4d6856f... 100% ▕▏ 7.9 GB                         \n",
            "pulling fa8235e5b48f... 100% ▕▏ 1.1 KB                         \n",
            "pulling 542b217f179c... 100% ▕▏  148 B                         \n",
            "pulling 8dde1baf1db0... 100% ▕▏   78 B                         \u001b[?25h\u001b[?25l\u001b[2K\u001b[1G\u001b[A\u001b[2K\u001b[1G\u001b[A\u001b[2K\u001b[1G\u001b[A\u001b[2K\u001b[1G\u001b[A\u001b[2K\u001b[1Gpulling manifest \n",
            "pulling 64e8f4d6856f... 100% ▕▏ 7.9 GB                         \n",
            "pulling fa8235e5b48f... 100% ▕▏ 1.1 KB                         \n",
            "pulling 542b217f179c... 100% ▕▏  148 B                         \n",
            "pulling 8dde1baf1db0... 100% ▕▏   78 B                         \u001b[?25h\u001b[?25l\u001b[2K\u001b[1G\u001b[A\u001b[2K\u001b[1G\u001b[A\u001b[2K\u001b[1G\u001b[A\u001b[2K\u001b[1G\u001b[A\u001b[2K\u001b[1Gpulling manifest \n",
            "pulling 64e8f4d6856f... 100% ▕▏ 7.9 GB                         \n",
            "pulling fa8235e5b48f... 100% ▕▏ 1.1 KB                         \n",
            "pulling 542b217f179c... 100% ▕▏  148 B                         \n",
            "pulling 8dde1baf1db0... 100% ▕▏   78 B                         \u001b[?25h\u001b[?25l\u001b[2K\u001b[1G\u001b[A\u001b[2K\u001b[1G\u001b[A\u001b[2K\u001b[1G\u001b[A\u001b[2K\u001b[1G\u001b[A\u001b[2K\u001b[1Gpulling manifest \n",
            "pulling 64e8f4d6856f... 100% ▕▏ 7.9 GB                         \n",
            "pulling fa8235e5b48f... 100% ▕▏ 1.1 KB                         \n",
            "pulling 542b217f179c... 100% ▕▏  148 B                         \n",
            "pulling 8dde1baf1db0... 100% ▕▏   78 B                         \u001b[?25h\u001b[?25l\u001b[2K\u001b[1G\u001b[A\u001b[2K\u001b[1G\u001b[A\u001b[2K\u001b[1G\u001b[A\u001b[2K\u001b[1G\u001b[A\u001b[2K\u001b[1Gpulling manifest \n",
            "pulling 64e8f4d6856f... 100% ▕▏ 7.9 GB                         \n",
            "pulling fa8235e5b48f... 100% ▕▏ 1.1 KB                         \n",
            "pulling 542b217f179c... 100% ▕▏  148 B                         \n",
            "pulling 8dde1baf1db0... 100% ▕▏   78 B                         \u001b[?25h\u001b[?25l\u001b[2K\u001b[1G\u001b[A\u001b[2K\u001b[1G\u001b[A\u001b[2K\u001b[1G\u001b[A\u001b[2K\u001b[1G\u001b[A\u001b[2K\u001b[1Gpulling manifest \n",
            "pulling 64e8f4d6856f... 100% ▕▏ 7.9 GB                         \n",
            "pulling fa8235e5b48f... 100% ▕▏ 1.1 KB                         \n",
            "pulling 542b217f179c... 100% ▕▏  148 B                         \n",
            "pulling 8dde1baf1db0... 100% ▕▏   78 B                         \u001b[?25h\u001b[?25l\u001b[2K\u001b[1G\u001b[A\u001b[2K\u001b[1G\u001b[A\u001b[2K\u001b[1G\u001b[A\u001b[2K\u001b[1G\u001b[A\u001b[2K\u001b[1Gpulling manifest \n",
            "pulling 64e8f4d6856f... 100% ▕▏ 7.9 GB                         \n",
            "pulling fa8235e5b48f... 100% ▕▏ 1.1 KB                         \n",
            "pulling 542b217f179c... 100% ▕▏  148 B                         \n",
            "pulling 8dde1baf1db0... 100% ▕▏   78 B                         \u001b[?25h\u001b[?25l\u001b[2K\u001b[1G\u001b[A\u001b[2K\u001b[1G\u001b[A\u001b[2K\u001b[1G\u001b[A\u001b[2K\u001b[1G\u001b[A\u001b[2K\u001b[1Gpulling manifest \n",
            "pulling 64e8f4d6856f... 100% ▕▏ 7.9 GB                         \n",
            "pulling fa8235e5b48f... 100% ▕▏ 1.1 KB                         \n",
            "pulling 542b217f179c... 100% ▕▏  148 B                         \n",
            "pulling 8dde1baf1db0... 100% ▕▏   78 B                         \u001b[?25h\u001b[?25l\u001b[2K\u001b[1G\u001b[A\u001b[2K\u001b[1G\u001b[A\u001b[2K\u001b[1G\u001b[A\u001b[2K\u001b[1G\u001b[A\u001b[2K\u001b[1Gpulling manifest \n",
            "pulling 64e8f4d6856f... 100% ▕▏ 7.9 GB                         \n",
            "pulling fa8235e5b48f... 100% ▕▏ 1.1 KB                         \n",
            "pulling 542b217f179c... 100% ▕▏  148 B                         \n",
            "pulling 8dde1baf1db0... 100% ▕▏   78 B                         \n",
            "pulling c96afb4d9900...   0% ▕▏    0 B/ 484 B                  \u001b[?25h\u001b[?25l\u001b[2K\u001b[1G\u001b[A\u001b[2K\u001b[1G\u001b[A\u001b[2K\u001b[1G\u001b[A\u001b[2K\u001b[1G\u001b[A\u001b[2K\u001b[1G\u001b[A\u001b[2K\u001b[1Gpulling manifest \n",
            "pulling 64e8f4d6856f... 100% ▕▏ 7.9 GB                         \n",
            "pulling fa8235e5b48f... 100% ▕▏ 1.1 KB                         \n",
            "pulling 542b217f179c... 100% ▕▏  148 B                         \n",
            "pulling 8dde1baf1db0... 100% ▕▏   78 B                         \n",
            "pulling c96afb4d9900... 100% ▕▏  484 B                         \u001b[?25h\u001b[?25l\u001b[2K\u001b[1G\u001b[A\u001b[2K\u001b[1G\u001b[A\u001b[2K\u001b[1G\u001b[A\u001b[2K\u001b[1G\u001b[A\u001b[2K\u001b[1G\u001b[A\u001b[2K\u001b[1Gpulling manifest \n",
            "pulling 64e8f4d6856f... 100% ▕▏ 7.9 GB                         \n",
            "pulling fa8235e5b48f... 100% ▕▏ 1.1 KB                         \n",
            "pulling 542b217f179c... 100% ▕▏  148 B                         \n",
            "pulling 8dde1baf1db0... 100% ▕▏   78 B                         \n",
            "pulling c96afb4d9900... 100% ▕▏  484 B                         \u001b[?25h\u001b[?25l\u001b[2K\u001b[1G\u001b[A\u001b[2K\u001b[1G\u001b[A\u001b[2K\u001b[1G\u001b[A\u001b[2K\u001b[1G\u001b[A\u001b[2K\u001b[1G\u001b[A\u001b[2K\u001b[1Gpulling manifest \n",
            "pulling 64e8f4d6856f... 100% ▕▏ 7.9 GB                         \n",
            "pulling fa8235e5b48f... 100% ▕▏ 1.1 KB                         \n",
            "pulling 542b217f179c... 100% ▕▏  148 B                         \n",
            "pulling 8dde1baf1db0... 100% ▕▏   78 B                         \n",
            "pulling c96afb4d9900... 100% ▕▏  484 B                         \u001b[?25h\u001b[?25l\u001b[2K\u001b[1G\u001b[A\u001b[2K\u001b[1G\u001b[A\u001b[2K\u001b[1G\u001b[A\u001b[2K\u001b[1G\u001b[A\u001b[2K\u001b[1G\u001b[A\u001b[2K\u001b[1Gpulling manifest \n",
            "pulling 64e8f4d6856f... 100% ▕▏ 7.9 GB                         \n",
            "pulling fa8235e5b48f... 100% ▕▏ 1.1 KB                         \n",
            "pulling 542b217f179c... 100% ▕▏  148 B                         \n",
            "pulling 8dde1baf1db0... 100% ▕▏   78 B                         \n",
            "pulling c96afb4d9900... 100% ▕▏  484 B                         \u001b[?25h\u001b[?25l\u001b[2K\u001b[1G\u001b[A\u001b[2K\u001b[1G\u001b[A\u001b[2K\u001b[1G\u001b[A\u001b[2K\u001b[1G\u001b[A\u001b[2K\u001b[1G\u001b[A\u001b[2K\u001b[1Gpulling manifest \n",
            "pulling 64e8f4d6856f... 100% ▕▏ 7.9 GB                         \n",
            "pulling fa8235e5b48f... 100% ▕▏ 1.1 KB                         \n",
            "pulling 542b217f179c... 100% ▕▏  148 B                         \n",
            "pulling 8dde1baf1db0... 100% ▕▏   78 B                         \n",
            "pulling c96afb4d9900... 100% ▕▏  484 B                         \u001b[?25h\u001b[?25l\u001b[2K\u001b[1G\u001b[A\u001b[2K\u001b[1G\u001b[A\u001b[2K\u001b[1G\u001b[A\u001b[2K\u001b[1G\u001b[A\u001b[2K\u001b[1G\u001b[A\u001b[2K\u001b[1Gpulling manifest \n",
            "pulling 64e8f4d6856f... 100% ▕▏ 7.9 GB                         \n",
            "pulling fa8235e5b48f... 100% ▕▏ 1.1 KB                         \n",
            "pulling 542b217f179c... 100% ▕▏  148 B                         \n",
            "pulling 8dde1baf1db0... 100% ▕▏   78 B                         \n",
            "pulling c96afb4d9900... 100% ▕▏  484 B                         \u001b[?25h\u001b[?25l\u001b[2K\u001b[1G\u001b[A\u001b[2K\u001b[1G\u001b[A\u001b[2K\u001b[1G\u001b[A\u001b[2K\u001b[1G\u001b[A\u001b[2K\u001b[1G\u001b[A\u001b[2K\u001b[1Gpulling manifest \n",
            "pulling 64e8f4d6856f... 100% ▕▏ 7.9 GB                         \n",
            "pulling fa8235e5b48f... 100% ▕▏ 1.1 KB                         \n",
            "pulling 542b217f179c... 100% ▕▏  148 B                         \n",
            "pulling 8dde1baf1db0... 100% ▕▏   78 B                         \n",
            "pulling c96afb4d9900... 100% ▕▏  484 B                         \u001b[?25h\u001b[?25l\u001b[2K\u001b[1G\u001b[A\u001b[2K\u001b[1G\u001b[A\u001b[2K\u001b[1G\u001b[A\u001b[2K\u001b[1G\u001b[A\u001b[2K\u001b[1G\u001b[A\u001b[2K\u001b[1Gpulling manifest \n",
            "pulling 64e8f4d6856f... 100% ▕▏ 7.9 GB                         \n",
            "pulling fa8235e5b48f... 100% ▕▏ 1.1 KB                         \n",
            "pulling 542b217f179c... 100% ▕▏  148 B                         \n",
            "pulling 8dde1baf1db0... 100% ▕▏   78 B                         \n",
            "pulling c96afb4d9900... 100% ▕▏  484 B                         \u001b[?25h\u001b[?25l\u001b[2K\u001b[1G\u001b[A\u001b[2K\u001b[1G\u001b[A\u001b[2K\u001b[1G\u001b[A\u001b[2K\u001b[1G\u001b[A\u001b[2K\u001b[1G\u001b[A\u001b[2K\u001b[1Gpulling manifest \n",
            "pulling 64e8f4d6856f... 100% ▕▏ 7.9 GB                         \n",
            "pulling fa8235e5b48f... 100% ▕▏ 1.1 KB                         \n",
            "pulling 542b217f179c... 100% ▕▏  148 B                         \n",
            "pulling 8dde1baf1db0... 100% ▕▏   78 B                         \n",
            "pulling c96afb4d9900... 100% ▕▏  484 B                         \u001b[?25h\u001b[?25l\u001b[2K\u001b[1G\u001b[A\u001b[2K\u001b[1G\u001b[A\u001b[2K\u001b[1G\u001b[A\u001b[2K\u001b[1G\u001b[A\u001b[2K\u001b[1G\u001b[A\u001b[2K\u001b[1Gpulling manifest \n",
            "pulling 64e8f4d6856f... 100% ▕▏ 7.9 GB                         \n",
            "pulling fa8235e5b48f... 100% ▕▏ 1.1 KB                         \n",
            "pulling 542b217f179c... 100% ▕▏  148 B                         \n",
            "pulling 8dde1baf1db0... 100% ▕▏   78 B                         \n",
            "pulling c96afb4d9900... 100% ▕▏  484 B                         \n",
            "verifying sha256 digest ⠋ \u001b[?25h\u001b[?25l\u001b[2K\u001b[1G\u001b[A\u001b[2K\u001b[1G\u001b[A\u001b[2K\u001b[1G\u001b[A\u001b[2K\u001b[1G\u001b[A\u001b[2K\u001b[1G\u001b[A\u001b[2K\u001b[1G\u001b[A\u001b[2K\u001b[1Gpulling manifest \n",
            "pulling 64e8f4d6856f... 100% ▕▏ 7.9 GB                         \n",
            "pulling fa8235e5b48f... 100% ▕▏ 1.1 KB                         \n",
            "pulling 542b217f179c... 100% ▕▏  148 B                         \n",
            "pulling 8dde1baf1db0... 100% ▕▏   78 B                         \n",
            "pulling c96afb4d9900... 100% ▕▏  484 B                         \n",
            "verifying sha256 digest ⠙ \u001b[?25h\u001b[?25l\u001b[2K\u001b[1G\u001b[A\u001b[2K\u001b[1G\u001b[A\u001b[2K\u001b[1G\u001b[A\u001b[2K\u001b[1G\u001b[A\u001b[2K\u001b[1G\u001b[A\u001b[2K\u001b[1G\u001b[A\u001b[2K\u001b[1Gpulling manifest \n",
            "pulling 64e8f4d6856f... 100% ▕▏ 7.9 GB                         \n",
            "pulling fa8235e5b48f... 100% ▕▏ 1.1 KB                         \n",
            "pulling 542b217f179c... 100% ▕▏  148 B                         \n",
            "pulling 8dde1baf1db0... 100% ▕▏   78 B                         \n",
            "pulling c96afb4d9900... 100% ▕▏  484 B                         \n",
            "verifying sha256 digest ⠹ \u001b[?25h\u001b[?25l\u001b[2K\u001b[1G\u001b[A\u001b[2K\u001b[1G\u001b[A\u001b[2K\u001b[1G\u001b[A\u001b[2K\u001b[1G\u001b[A\u001b[2K\u001b[1G\u001b[A\u001b[2K\u001b[1G\u001b[A\u001b[2K\u001b[1Gpulling manifest \n",
            "pulling 64e8f4d6856f... 100% ▕▏ 7.9 GB                         \n",
            "pulling fa8235e5b48f... 100% ▕▏ 1.1 KB                         \n",
            "pulling 542b217f179c... 100% ▕▏  148 B                         \n",
            "pulling 8dde1baf1db0... 100% ▕▏   78 B                         \n",
            "pulling c96afb4d9900... 100% ▕▏  484 B                         \n",
            "verifying sha256 digest ⠸ \u001b[?25h\u001b[?25l\u001b[2K\u001b[1G\u001b[A\u001b[2K\u001b[1G\u001b[A\u001b[2K\u001b[1G\u001b[A\u001b[2K\u001b[1G\u001b[A\u001b[2K\u001b[1G\u001b[A\u001b[2K\u001b[1G\u001b[A\u001b[2K\u001b[1Gpulling manifest \n",
            "pulling 64e8f4d6856f... 100% ▕▏ 7.9 GB                         \n",
            "pulling fa8235e5b48f... 100% ▕▏ 1.1 KB                         \n",
            "pulling 542b217f179c... 100% ▕▏  148 B                         \n",
            "pulling 8dde1baf1db0... 100% ▕▏   78 B                         \n",
            "pulling c96afb4d9900... 100% ▕▏  484 B                         \n",
            "verifying sha256 digest ⠼ \u001b[?25h\u001b[?25l\u001b[2K\u001b[1G\u001b[A\u001b[2K\u001b[1G\u001b[A\u001b[2K\u001b[1G\u001b[A\u001b[2K\u001b[1G\u001b[A\u001b[2K\u001b[1G\u001b[A\u001b[2K\u001b[1G\u001b[A\u001b[2K\u001b[1Gpulling manifest \n",
            "pulling 64e8f4d6856f... 100% ▕▏ 7.9 GB                         \n",
            "pulling fa8235e5b48f... 100% ▕▏ 1.1 KB                         \n",
            "pulling 542b217f179c... 100% ▕▏  148 B                         \n",
            "pulling 8dde1baf1db0... 100% ▕▏   78 B                         \n",
            "pulling c96afb4d9900... 100% ▕▏  484 B                         \n",
            "verifying sha256 digest ⠴ \u001b[?25h\u001b[?25l\u001b[2K\u001b[1G\u001b[A\u001b[2K\u001b[1G\u001b[A\u001b[2K\u001b[1G\u001b[A\u001b[2K\u001b[1G\u001b[A\u001b[2K\u001b[1G\u001b[A\u001b[2K\u001b[1G\u001b[A\u001b[2K\u001b[1Gpulling manifest \n",
            "pulling 64e8f4d6856f... 100% ▕▏ 7.9 GB                         \n",
            "pulling fa8235e5b48f... 100% ▕▏ 1.1 KB                         \n",
            "pulling 542b217f179c... 100% ▕▏  148 B                         \n",
            "pulling 8dde1baf1db0... 100% ▕▏   78 B                         \n",
            "pulling c96afb4d9900... 100% ▕▏  484 B                         \n",
            "verifying sha256 digest ⠦ \u001b[?25h\u001b[?25l\u001b[2K\u001b[1G\u001b[A\u001b[2K\u001b[1G\u001b[A\u001b[2K\u001b[1G\u001b[A\u001b[2K\u001b[1G\u001b[A\u001b[2K\u001b[1G\u001b[A\u001b[2K\u001b[1G\u001b[A\u001b[2K\u001b[1Gpulling manifest \n",
            "pulling 64e8f4d6856f... 100% ▕▏ 7.9 GB                         \n",
            "pulling fa8235e5b48f... 100% ▕▏ 1.1 KB                         \n",
            "pulling 542b217f179c... 100% ▕▏  148 B                         \n",
            "pulling 8dde1baf1db0... 100% ▕▏   78 B                         \n",
            "pulling c96afb4d9900... 100% ▕▏  484 B                         \n",
            "verifying sha256 digest ⠧ \u001b[?25h\u001b[?25l\u001b[2K\u001b[1G\u001b[A\u001b[2K\u001b[1G\u001b[A\u001b[2K\u001b[1G\u001b[A\u001b[2K\u001b[1G\u001b[A\u001b[2K\u001b[1G\u001b[A\u001b[2K\u001b[1G\u001b[A\u001b[2K\u001b[1Gpulling manifest \n",
            "pulling 64e8f4d6856f... 100% ▕▏ 7.9 GB                         \n",
            "pulling fa8235e5b48f... 100% ▕▏ 1.1 KB                         \n",
            "pulling 542b217f179c... 100% ▕▏  148 B                         \n",
            "pulling 8dde1baf1db0... 100% ▕▏   78 B                         \n",
            "pulling c96afb4d9900... 100% ▕▏  484 B                         \n",
            "verifying sha256 digest ⠇ \u001b[?25h\u001b[?25l\u001b[2K\u001b[1G\u001b[A\u001b[2K\u001b[1G\u001b[A\u001b[2K\u001b[1G\u001b[A\u001b[2K\u001b[1G\u001b[A\u001b[2K\u001b[1G\u001b[A\u001b[2K\u001b[1G\u001b[A\u001b[2K\u001b[1Gpulling manifest \n",
            "pulling 64e8f4d6856f... 100% ▕▏ 7.9 GB                         \n",
            "pulling fa8235e5b48f... 100% ▕▏ 1.1 KB                         \n",
            "pulling 542b217f179c... 100% ▕▏  148 B                         \n",
            "pulling 8dde1baf1db0... 100% ▕▏   78 B                         \n",
            "pulling c96afb4d9900... 100% ▕▏  484 B                         \n",
            "verifying sha256 digest ⠏ \u001b[?25h\u001b[?25l\u001b[2K\u001b[1G\u001b[A\u001b[2K\u001b[1G\u001b[A\u001b[2K\u001b[1G\u001b[A\u001b[2K\u001b[1G\u001b[A\u001b[2K\u001b[1G\u001b[A\u001b[2K\u001b[1G\u001b[A\u001b[2K\u001b[1Gpulling manifest \n",
            "pulling 64e8f4d6856f... 100% ▕▏ 7.9 GB                         \n",
            "pulling fa8235e5b48f... 100% ▕▏ 1.1 KB                         \n",
            "pulling 542b217f179c... 100% ▕▏  148 B                         \n",
            "pulling 8dde1baf1db0... 100% ▕▏   78 B                         \n",
            "pulling c96afb4d9900... 100% ▕▏  484 B                         \n",
            "verifying sha256 digest ⠋ \u001b[?25h\u001b[?25l\u001b[2K\u001b[1G\u001b[A\u001b[2K\u001b[1G\u001b[A\u001b[2K\u001b[1G\u001b[A\u001b[2K\u001b[1G\u001b[A\u001b[2K\u001b[1G\u001b[A\u001b[2K\u001b[1G\u001b[A\u001b[2K\u001b[1Gpulling manifest \n",
            "pulling 64e8f4d6856f... 100% ▕▏ 7.9 GB                         \n",
            "pulling fa8235e5b48f... 100% ▕▏ 1.1 KB                         \n",
            "pulling 542b217f179c... 100% ▕▏  148 B                         \n",
            "pulling 8dde1baf1db0... 100% ▕▏   78 B                         \n",
            "pulling c96afb4d9900... 100% ▕▏  484 B                         \n",
            "verifying sha256 digest ⠙ \u001b[?25h\u001b[?25l\u001b[2K\u001b[1G\u001b[A\u001b[2K\u001b[1G\u001b[A\u001b[2K\u001b[1G\u001b[A\u001b[2K\u001b[1G\u001b[A\u001b[2K\u001b[1G\u001b[A\u001b[2K\u001b[1G\u001b[A\u001b[2K\u001b[1Gpulling manifest \n",
            "pulling 64e8f4d6856f... 100% ▕▏ 7.9 GB                         \n",
            "pulling fa8235e5b48f... 100% ▕▏ 1.1 KB                         \n",
            "pulling 542b217f179c... 100% ▕▏  148 B                         \n",
            "pulling 8dde1baf1db0... 100% ▕▏   78 B                         \n",
            "pulling c96afb4d9900... 100% ▕▏  484 B                         \n",
            "verifying sha256 digest ⠹ \u001b[?25h\u001b[?25l\u001b[2K\u001b[1G\u001b[A\u001b[2K\u001b[1G\u001b[A\u001b[2K\u001b[1G\u001b[A\u001b[2K\u001b[1G\u001b[A\u001b[2K\u001b[1G\u001b[A\u001b[2K\u001b[1G\u001b[A\u001b[2K\u001b[1Gpulling manifest \n",
            "pulling 64e8f4d6856f... 100% ▕▏ 7.9 GB                         \n",
            "pulling fa8235e5b48f... 100% ▕▏ 1.1 KB                         \n",
            "pulling 542b217f179c... 100% ▕▏  148 B                         \n",
            "pulling 8dde1baf1db0... 100% ▕▏   78 B                         \n",
            "pulling c96afb4d9900... 100% ▕▏  484 B                         \n",
            "verifying sha256 digest ⠸ \u001b[?25h\u001b[?25l\u001b[2K\u001b[1G\u001b[A\u001b[2K\u001b[1G\u001b[A\u001b[2K\u001b[1G\u001b[A\u001b[2K\u001b[1G\u001b[A\u001b[2K\u001b[1G\u001b[A\u001b[2K\u001b[1G\u001b[A\u001b[2K\u001b[1Gpulling manifest \n",
            "pulling 64e8f4d6856f... 100% ▕▏ 7.9 GB                         \n",
            "pulling fa8235e5b48f... 100% ▕▏ 1.1 KB                         \n",
            "pulling 542b217f179c... 100% ▕▏  148 B                         \n",
            "pulling 8dde1baf1db0... 100% ▕▏   78 B                         \n",
            "pulling c96afb4d9900... 100% ▕▏  484 B                         \n",
            "verifying sha256 digest ⠼ \u001b[?25h\u001b[?25l\u001b[2K\u001b[1G\u001b[A\u001b[2K\u001b[1G\u001b[A\u001b[2K\u001b[1G\u001b[A\u001b[2K\u001b[1G\u001b[A\u001b[2K\u001b[1G\u001b[A\u001b[2K\u001b[1G\u001b[A\u001b[2K\u001b[1Gpulling manifest \n",
            "pulling 64e8f4d6856f... 100% ▕▏ 7.9 GB                         \n",
            "pulling fa8235e5b48f... 100% ▕▏ 1.1 KB                         \n",
            "pulling 542b217f179c... 100% ▕▏  148 B                         \n",
            "pulling 8dde1baf1db0... 100% ▕▏   78 B                         \n",
            "pulling c96afb4d9900... 100% ▕▏  484 B                         \n",
            "verifying sha256 digest ⠴ \u001b[?25h\u001b[?25l\u001b[2K\u001b[1G\u001b[A\u001b[2K\u001b[1G\u001b[A\u001b[2K\u001b[1G\u001b[A\u001b[2K\u001b[1G\u001b[A\u001b[2K\u001b[1G\u001b[A\u001b[2K\u001b[1G\u001b[A\u001b[2K\u001b[1Gpulling manifest \n",
            "pulling 64e8f4d6856f... 100% ▕▏ 7.9 GB                         \n",
            "pulling fa8235e5b48f... 100% ▕▏ 1.1 KB                         \n",
            "pulling 542b217f179c... 100% ▕▏  148 B                         \n",
            "pulling 8dde1baf1db0... 100% ▕▏   78 B                         \n",
            "pulling c96afb4d9900... 100% ▕▏  484 B                         \n",
            "verifying sha256 digest ⠦ \u001b[?25h\u001b[?25l\u001b[2K\u001b[1G\u001b[A\u001b[2K\u001b[1G\u001b[A\u001b[2K\u001b[1G\u001b[A\u001b[2K\u001b[1G\u001b[A\u001b[2K\u001b[1G\u001b[A\u001b[2K\u001b[1G\u001b[A\u001b[2K\u001b[1Gpulling manifest \n",
            "pulling 64e8f4d6856f... 100% ▕▏ 7.9 GB                         \n",
            "pulling fa8235e5b48f... 100% ▕▏ 1.1 KB                         \n",
            "pulling 542b217f179c... 100% ▕▏  148 B                         \n",
            "pulling 8dde1baf1db0... 100% ▕▏   78 B                         \n",
            "pulling c96afb4d9900... 100% ▕▏  484 B                         \n",
            "verifying sha256 digest ⠧ \u001b[?25h\u001b[?25l\u001b[2K\u001b[1G\u001b[A\u001b[2K\u001b[1G\u001b[A\u001b[2K\u001b[1G\u001b[A\u001b[2K\u001b[1G\u001b[A\u001b[2K\u001b[1G\u001b[A\u001b[2K\u001b[1G\u001b[A\u001b[2K\u001b[1Gpulling manifest \n",
            "pulling 64e8f4d6856f... 100% ▕▏ 7.9 GB                         \n",
            "pulling fa8235e5b48f... 100% ▕▏ 1.1 KB                         \n",
            "pulling 542b217f179c... 100% ▕▏  148 B                         \n",
            "pulling 8dde1baf1db0... 100% ▕▏   78 B                         \n",
            "pulling c96afb4d9900... 100% ▕▏  484 B                         \n",
            "verifying sha256 digest ⠇ \u001b[?25h\u001b[?25l\u001b[2K\u001b[1G\u001b[A\u001b[2K\u001b[1G\u001b[A\u001b[2K\u001b[1G\u001b[A\u001b[2K\u001b[1G\u001b[A\u001b[2K\u001b[1G\u001b[A\u001b[2K\u001b[1G\u001b[A\u001b[2K\u001b[1Gpulling manifest \n",
            "pulling 64e8f4d6856f... 100% ▕▏ 7.9 GB                         \n",
            "pulling fa8235e5b48f... 100% ▕▏ 1.1 KB                         \n",
            "pulling 542b217f179c... 100% ▕▏  148 B                         \n",
            "pulling 8dde1baf1db0... 100% ▕▏   78 B                         \n",
            "pulling c96afb4d9900... 100% ▕▏  484 B                         \n",
            "verifying sha256 digest ⠏ \u001b[?25h\u001b[?25l\u001b[2K\u001b[1G\u001b[A\u001b[2K\u001b[1G\u001b[A\u001b[2K\u001b[1G\u001b[A\u001b[2K\u001b[1G\u001b[A\u001b[2K\u001b[1G\u001b[A\u001b[2K\u001b[1G\u001b[A\u001b[2K\u001b[1Gpulling manifest \n",
            "pulling 64e8f4d6856f... 100% ▕▏ 7.9 GB                         \n",
            "pulling fa8235e5b48f... 100% ▕▏ 1.1 KB                         \n",
            "pulling 542b217f179c... 100% ▕▏  148 B                         \n",
            "pulling 8dde1baf1db0... 100% ▕▏   78 B                         \n",
            "pulling c96afb4d9900... 100% ▕▏  484 B                         \n",
            "verifying sha256 digest ⠋ \u001b[?25h\u001b[?25l\u001b[2K\u001b[1G\u001b[A\u001b[2K\u001b[1G\u001b[A\u001b[2K\u001b[1G\u001b[A\u001b[2K\u001b[1G\u001b[A\u001b[2K\u001b[1G\u001b[A\u001b[2K\u001b[1G\u001b[A\u001b[2K\u001b[1Gpulling manifest \n",
            "pulling 64e8f4d6856f... 100% ▕▏ 7.9 GB                         \n",
            "pulling fa8235e5b48f... 100% ▕▏ 1.1 KB                         \n",
            "pulling 542b217f179c... 100% ▕▏  148 B                         \n",
            "pulling 8dde1baf1db0... 100% ▕▏   78 B                         \n",
            "pulling c96afb4d9900... 100% ▕▏  484 B                         \n",
            "verifying sha256 digest ⠙ \u001b[?25h\u001b[?25l\u001b[2K\u001b[1G\u001b[A\u001b[2K\u001b[1G\u001b[A\u001b[2K\u001b[1G\u001b[A\u001b[2K\u001b[1G\u001b[A\u001b[2K\u001b[1G\u001b[A\u001b[2K\u001b[1G\u001b[A\u001b[2K\u001b[1Gpulling manifest \n",
            "pulling 64e8f4d6856f... 100% ▕▏ 7.9 GB                         \n",
            "pulling fa8235e5b48f... 100% ▕▏ 1.1 KB                         \n",
            "pulling 542b217f179c... 100% ▕▏  148 B                         \n",
            "pulling 8dde1baf1db0... 100% ▕▏   78 B                         \n",
            "pulling c96afb4d9900... 100% ▕▏  484 B                         \n",
            "verifying sha256 digest ⠹ \u001b[?25h\u001b[?25l\u001b[2K\u001b[1G\u001b[A\u001b[2K\u001b[1G\u001b[A\u001b[2K\u001b[1G\u001b[A\u001b[2K\u001b[1G\u001b[A\u001b[2K\u001b[1G\u001b[A\u001b[2K\u001b[1G\u001b[A\u001b[2K\u001b[1Gpulling manifest \n",
            "pulling 64e8f4d6856f... 100% ▕▏ 7.9 GB                         \n",
            "pulling fa8235e5b48f... 100% ▕▏ 1.1 KB                         \n",
            "pulling 542b217f179c... 100% ▕▏  148 B                         \n",
            "pulling 8dde1baf1db0... 100% ▕▏   78 B                         \n",
            "pulling c96afb4d9900... 100% ▕▏  484 B                         \n",
            "verifying sha256 digest ⠸ \u001b[?25h\u001b[?25l\u001b[2K\u001b[1G\u001b[A\u001b[2K\u001b[1G\u001b[A\u001b[2K\u001b[1G\u001b[A\u001b[2K\u001b[1G\u001b[A\u001b[2K\u001b[1G\u001b[A\u001b[2K\u001b[1G\u001b[A\u001b[2K\u001b[1Gpulling manifest \n",
            "pulling 64e8f4d6856f... 100% ▕▏ 7.9 GB                         \n",
            "pulling fa8235e5b48f... 100% ▕▏ 1.1 KB                         \n",
            "pulling 542b217f179c... 100% ▕▏  148 B                         \n",
            "pulling 8dde1baf1db0... 100% ▕▏   78 B                         \n",
            "pulling c96afb4d9900... 100% ▕▏  484 B                         \n",
            "verifying sha256 digest ⠼ \u001b[?25h\u001b[?25l\u001b[2K\u001b[1G\u001b[A\u001b[2K\u001b[1G\u001b[A\u001b[2K\u001b[1G\u001b[A\u001b[2K\u001b[1G\u001b[A\u001b[2K\u001b[1G\u001b[A\u001b[2K\u001b[1G\u001b[A\u001b[2K\u001b[1Gpulling manifest \n",
            "pulling 64e8f4d6856f... 100% ▕▏ 7.9 GB                         \n",
            "pulling fa8235e5b48f... 100% ▕▏ 1.1 KB                         \n",
            "pulling 542b217f179c... 100% ▕▏  148 B                         \n",
            "pulling 8dde1baf1db0... 100% ▕▏   78 B                         \n",
            "pulling c96afb4d9900... 100% ▕▏  484 B                         \n",
            "verifying sha256 digest ⠴ \u001b[?25h\u001b[?25l\u001b[2K\u001b[1G\u001b[A\u001b[2K\u001b[1G\u001b[A\u001b[2K\u001b[1G\u001b[A\u001b[2K\u001b[1G\u001b[A\u001b[2K\u001b[1G\u001b[A\u001b[2K\u001b[1G\u001b[A\u001b[2K\u001b[1Gpulling manifest \n",
            "pulling 64e8f4d6856f... 100% ▕▏ 7.9 GB                         \n",
            "pulling fa8235e5b48f... 100% ▕▏ 1.1 KB                         \n",
            "pulling 542b217f179c... 100% ▕▏  148 B                         \n",
            "pulling 8dde1baf1db0... 100% ▕▏   78 B                         \n",
            "pulling c96afb4d9900... 100% ▕▏  484 B                         \n",
            "verifying sha256 digest ⠦ \u001b[?25h\u001b[?25l\u001b[2K\u001b[1G\u001b[A\u001b[2K\u001b[1G\u001b[A\u001b[2K\u001b[1G\u001b[A\u001b[2K\u001b[1G\u001b[A\u001b[2K\u001b[1G\u001b[A\u001b[2K\u001b[1G\u001b[A\u001b[2K\u001b[1Gpulling manifest \n",
            "pulling 64e8f4d6856f... 100% ▕▏ 7.9 GB                         \n",
            "pulling fa8235e5b48f... 100% ▕▏ 1.1 KB                         \n",
            "pulling 542b217f179c... 100% ▕▏  148 B                         \n",
            "pulling 8dde1baf1db0... 100% ▕▏   78 B                         \n",
            "pulling c96afb4d9900... 100% ▕▏  484 B                         \n",
            "verifying sha256 digest ⠧ \u001b[?25h\u001b[?25l\u001b[2K\u001b[1G\u001b[A\u001b[2K\u001b[1G\u001b[A\u001b[2K\u001b[1G\u001b[A\u001b[2K\u001b[1G\u001b[A\u001b[2K\u001b[1G\u001b[A\u001b[2K\u001b[1G\u001b[A\u001b[2K\u001b[1Gpulling manifest \n",
            "pulling 64e8f4d6856f... 100% ▕▏ 7.9 GB                         \n",
            "pulling fa8235e5b48f... 100% ▕▏ 1.1 KB                         \n",
            "pulling 542b217f179c... 100% ▕▏  148 B                         \n",
            "pulling 8dde1baf1db0... 100% ▕▏   78 B                         \n",
            "pulling c96afb4d9900... 100% ▕▏  484 B                         \n",
            "verifying sha256 digest ⠇ \u001b[?25h\u001b[?25l\u001b[2K\u001b[1G\u001b[A\u001b[2K\u001b[1G\u001b[A\u001b[2K\u001b[1G\u001b[A\u001b[2K\u001b[1G\u001b[A\u001b[2K\u001b[1G\u001b[A\u001b[2K\u001b[1G\u001b[A\u001b[2K\u001b[1Gpulling manifest \n",
            "pulling 64e8f4d6856f... 100% ▕▏ 7.9 GB                         \n",
            "pulling fa8235e5b48f... 100% ▕▏ 1.1 KB                         \n",
            "pulling 542b217f179c... 100% ▕▏  148 B                         \n",
            "pulling 8dde1baf1db0... 100% ▕▏   78 B                         \n",
            "pulling c96afb4d9900... 100% ▕▏  484 B                         \n",
            "verifying sha256 digest ⠏ \u001b[?25h\u001b[?25l\u001b[2K\u001b[1G\u001b[A\u001b[2K\u001b[1G\u001b[A\u001b[2K\u001b[1G\u001b[A\u001b[2K\u001b[1G\u001b[A\u001b[2K\u001b[1G\u001b[A\u001b[2K\u001b[1G\u001b[A\u001b[2K\u001b[1Gpulling manifest \n",
            "pulling 64e8f4d6856f... 100% ▕▏ 7.9 GB                         \n",
            "pulling fa8235e5b48f... 100% ▕▏ 1.1 KB                         \n",
            "pulling 542b217f179c... 100% ▕▏  148 B                         \n",
            "pulling 8dde1baf1db0... 100% ▕▏   78 B                         \n",
            "pulling c96afb4d9900... 100% ▕▏  484 B                         \n",
            "verifying sha256 digest ⠋ \u001b[?25h\u001b[?25l\u001b[2K\u001b[1G\u001b[A\u001b[2K\u001b[1G\u001b[A\u001b[2K\u001b[1G\u001b[A\u001b[2K\u001b[1G\u001b[A\u001b[2K\u001b[1G\u001b[A\u001b[2K\u001b[1G\u001b[A\u001b[2K\u001b[1Gpulling manifest \n",
            "pulling 64e8f4d6856f... 100% ▕▏ 7.9 GB                         \n",
            "pulling fa8235e5b48f... 100% ▕▏ 1.1 KB                         \n",
            "pulling 542b217f179c... 100% ▕▏  148 B                         \n",
            "pulling 8dde1baf1db0... 100% ▕▏   78 B                         \n",
            "pulling c96afb4d9900... 100% ▕▏  484 B                         \n",
            "verifying sha256 digest ⠙ \u001b[?25h\u001b[?25l\u001b[2K\u001b[1G\u001b[A\u001b[2K\u001b[1G\u001b[A\u001b[2K\u001b[1G\u001b[A\u001b[2K\u001b[1G\u001b[A\u001b[2K\u001b[1G\u001b[A\u001b[2K\u001b[1G\u001b[A\u001b[2K\u001b[1Gpulling manifest \n",
            "pulling 64e8f4d6856f... 100% ▕▏ 7.9 GB                         \n",
            "pulling fa8235e5b48f... 100% ▕▏ 1.1 KB                         \n",
            "pulling 542b217f179c... 100% ▕▏  148 B                         \n",
            "pulling 8dde1baf1db0... 100% ▕▏   78 B                         \n",
            "pulling c96afb4d9900... 100% ▕▏  484 B                         \n",
            "verifying sha256 digest ⠹ \u001b[?25h\u001b[?25l\u001b[2K\u001b[1G\u001b[A\u001b[2K\u001b[1G\u001b[A\u001b[2K\u001b[1G\u001b[A\u001b[2K\u001b[1G\u001b[A\u001b[2K\u001b[1G\u001b[A\u001b[2K\u001b[1G\u001b[A\u001b[2K\u001b[1Gpulling manifest \n",
            "pulling 64e8f4d6856f... 100% ▕▏ 7.9 GB                         \n",
            "pulling fa8235e5b48f... 100% ▕▏ 1.1 KB                         \n",
            "pulling 542b217f179c... 100% ▕▏  148 B                         \n",
            "pulling 8dde1baf1db0... 100% ▕▏   78 B                         \n",
            "pulling c96afb4d9900... 100% ▕▏  484 B                         \n",
            "verifying sha256 digest ⠸ \u001b[?25h\u001b[?25l\u001b[2K\u001b[1G\u001b[A\u001b[2K\u001b[1G\u001b[A\u001b[2K\u001b[1G\u001b[A\u001b[2K\u001b[1G\u001b[A\u001b[2K\u001b[1G\u001b[A\u001b[2K\u001b[1G\u001b[A\u001b[2K\u001b[1Gpulling manifest \n",
            "pulling 64e8f4d6856f... 100% ▕▏ 7.9 GB                         \n",
            "pulling fa8235e5b48f... 100% ▕▏ 1.1 KB                         \n",
            "pulling 542b217f179c... 100% ▕▏  148 B                         \n",
            "pulling 8dde1baf1db0... 100% ▕▏   78 B                         \n",
            "pulling c96afb4d9900... 100% ▕▏  484 B                         \n",
            "verifying sha256 digest ⠼ \u001b[?25h\u001b[?25l\u001b[2K\u001b[1G\u001b[A\u001b[2K\u001b[1G\u001b[A\u001b[2K\u001b[1G\u001b[A\u001b[2K\u001b[1G\u001b[A\u001b[2K\u001b[1G\u001b[A\u001b[2K\u001b[1G\u001b[A\u001b[2K\u001b[1Gpulling manifest \n",
            "pulling 64e8f4d6856f... 100% ▕▏ 7.9 GB                         \n",
            "pulling fa8235e5b48f... 100% ▕▏ 1.1 KB                         \n",
            "pulling 542b217f179c... 100% ▕▏  148 B                         \n",
            "pulling 8dde1baf1db0... 100% ▕▏   78 B                         \n",
            "pulling c96afb4d9900... 100% ▕▏  484 B                         \n",
            "verifying sha256 digest ⠴ \u001b[?25h\u001b[?25l\u001b[2K\u001b[1G\u001b[A\u001b[2K\u001b[1G\u001b[A\u001b[2K\u001b[1G\u001b[A\u001b[2K\u001b[1G\u001b[A\u001b[2K\u001b[1G\u001b[A\u001b[2K\u001b[1G\u001b[A\u001b[2K\u001b[1Gpulling manifest \n",
            "pulling 64e8f4d6856f... 100% ▕▏ 7.9 GB                         \n",
            "pulling fa8235e5b48f... 100% ▕▏ 1.1 KB                         \n",
            "pulling 542b217f179c... 100% ▕▏  148 B                         \n",
            "pulling 8dde1baf1db0... 100% ▕▏   78 B                         \n",
            "pulling c96afb4d9900... 100% ▕▏  484 B                         \n",
            "verifying sha256 digest ⠦ \u001b[?25h\u001b[?25l\u001b[2K\u001b[1G\u001b[A\u001b[2K\u001b[1G\u001b[A\u001b[2K\u001b[1G\u001b[A\u001b[2K\u001b[1G\u001b[A\u001b[2K\u001b[1G\u001b[A\u001b[2K\u001b[1G\u001b[A\u001b[2K\u001b[1Gpulling manifest \n",
            "pulling 64e8f4d6856f... 100% ▕▏ 7.9 GB                         \n",
            "pulling fa8235e5b48f... 100% ▕▏ 1.1 KB                         \n",
            "pulling 542b217f179c... 100% ▕▏  148 B                         \n",
            "pulling 8dde1baf1db0... 100% ▕▏   78 B                         \n",
            "pulling c96afb4d9900... 100% ▕▏  484 B                         \n",
            "verifying sha256 digest ⠧ \u001b[?25h\u001b[?25l\u001b[2K\u001b[1G\u001b[A\u001b[2K\u001b[1G\u001b[A\u001b[2K\u001b[1G\u001b[A\u001b[2K\u001b[1G\u001b[A\u001b[2K\u001b[1G\u001b[A\u001b[2K\u001b[1G\u001b[A\u001b[2K\u001b[1Gpulling manifest \n",
            "pulling 64e8f4d6856f... 100% ▕▏ 7.9 GB                         \n",
            "pulling fa8235e5b48f... 100% ▕▏ 1.1 KB                         \n",
            "pulling 542b217f179c... 100% ▕▏  148 B                         \n",
            "pulling 8dde1baf1db0... 100% ▕▏   78 B                         \n",
            "pulling c96afb4d9900... 100% ▕▏  484 B                         \n",
            "verifying sha256 digest ⠇ \u001b[?25h\u001b[?25l\u001b[2K\u001b[1G\u001b[A\u001b[2K\u001b[1G\u001b[A\u001b[2K\u001b[1G\u001b[A\u001b[2K\u001b[1G\u001b[A\u001b[2K\u001b[1G\u001b[A\u001b[2K\u001b[1G\u001b[A\u001b[2K\u001b[1Gpulling manifest \n",
            "pulling 64e8f4d6856f... 100% ▕▏ 7.9 GB                         \n",
            "pulling fa8235e5b48f... 100% ▕▏ 1.1 KB                         \n",
            "pulling 542b217f179c... 100% ▕▏  148 B                         \n",
            "pulling 8dde1baf1db0... 100% ▕▏   78 B                         \n",
            "pulling c96afb4d9900... 100% ▕▏  484 B                         \n",
            "verifying sha256 digest ⠏ \u001b[?25h\u001b[?25l\u001b[2K\u001b[1G\u001b[A\u001b[2K\u001b[1G\u001b[A\u001b[2K\u001b[1G\u001b[A\u001b[2K\u001b[1G\u001b[A\u001b[2K\u001b[1G\u001b[A\u001b[2K\u001b[1G\u001b[A\u001b[2K\u001b[1Gpulling manifest \n",
            "pulling 64e8f4d6856f... 100% ▕▏ 7.9 GB                         \n",
            "pulling fa8235e5b48f... 100% ▕▏ 1.1 KB                         \n",
            "pulling 542b217f179c... 100% ▕▏  148 B                         \n",
            "pulling 8dde1baf1db0... 100% ▕▏   78 B                         \n",
            "pulling c96afb4d9900... 100% ▕▏  484 B                         \n",
            "verifying sha256 digest ⠋ \u001b[?25h\u001b[?25l\u001b[2K\u001b[1G\u001b[A\u001b[2K\u001b[1G\u001b[A\u001b[2K\u001b[1G\u001b[A\u001b[2K\u001b[1G\u001b[A\u001b[2K\u001b[1G\u001b[A\u001b[2K\u001b[1G\u001b[A\u001b[2K\u001b[1Gpulling manifest \n",
            "pulling 64e8f4d6856f... 100% ▕▏ 7.9 GB                         \n",
            "pulling fa8235e5b48f... 100% ▕▏ 1.1 KB                         \n",
            "pulling 542b217f179c... 100% ▕▏  148 B                         \n",
            "pulling 8dde1baf1db0... 100% ▕▏   78 B                         \n",
            "pulling c96afb4d9900... 100% ▕▏  484 B                         \n",
            "verifying sha256 digest ⠙ \u001b[?25h\u001b[?25l\u001b[2K\u001b[1G\u001b[A\u001b[2K\u001b[1G\u001b[A\u001b[2K\u001b[1G\u001b[A\u001b[2K\u001b[1G\u001b[A\u001b[2K\u001b[1G\u001b[A\u001b[2K\u001b[1G\u001b[A\u001b[2K\u001b[1Gpulling manifest \n",
            "pulling 64e8f4d6856f... 100% ▕▏ 7.9 GB                         \n",
            "pulling fa8235e5b48f... 100% ▕▏ 1.1 KB                         \n",
            "pulling 542b217f179c... 100% ▕▏  148 B                         \n",
            "pulling 8dde1baf1db0... 100% ▕▏   78 B                         \n",
            "pulling c96afb4d9900... 100% ▕▏  484 B                         \n",
            "verifying sha256 digest ⠹ \u001b[?25h\u001b[?25l\u001b[2K\u001b[1G\u001b[A\u001b[2K\u001b[1G\u001b[A\u001b[2K\u001b[1G\u001b[A\u001b[2K\u001b[1G\u001b[A\u001b[2K\u001b[1G\u001b[A\u001b[2K\u001b[1G\u001b[A\u001b[2K\u001b[1Gpulling manifest \n",
            "pulling 64e8f4d6856f... 100% ▕▏ 7.9 GB                         \n",
            "pulling fa8235e5b48f... 100% ▕▏ 1.1 KB                         \n",
            "pulling 542b217f179c... 100% ▕▏  148 B                         \n",
            "pulling 8dde1baf1db0... 100% ▕▏   78 B                         \n",
            "pulling c96afb4d9900... 100% ▕▏  484 B                         \n",
            "verifying sha256 digest ⠸ \u001b[?25h\u001b[?25l\u001b[2K\u001b[1G\u001b[A\u001b[2K\u001b[1G\u001b[A\u001b[2K\u001b[1G\u001b[A\u001b[2K\u001b[1G\u001b[A\u001b[2K\u001b[1G\u001b[A\u001b[2K\u001b[1G\u001b[A\u001b[2K\u001b[1Gpulling manifest \n",
            "pulling 64e8f4d6856f... 100% ▕▏ 7.9 GB                         \n",
            "pulling fa8235e5b48f... 100% ▕▏ 1.1 KB                         \n",
            "pulling 542b217f179c... 100% ▕▏  148 B                         \n",
            "pulling 8dde1baf1db0... 100% ▕▏   78 B                         \n",
            "pulling c96afb4d9900... 100% ▕▏  484 B                         \n",
            "verifying sha256 digest ⠼ \u001b[?25h\u001b[?25l\u001b[2K\u001b[1G\u001b[A\u001b[2K\u001b[1G\u001b[A\u001b[2K\u001b[1G\u001b[A\u001b[2K\u001b[1G\u001b[A\u001b[2K\u001b[1G\u001b[A\u001b[2K\u001b[1G\u001b[A\u001b[2K\u001b[1Gpulling manifest \n",
            "pulling 64e8f4d6856f... 100% ▕▏ 7.9 GB                         \n",
            "pulling fa8235e5b48f... 100% ▕▏ 1.1 KB                         \n",
            "pulling 542b217f179c... 100% ▕▏  148 B                         \n",
            "pulling 8dde1baf1db0... 100% ▕▏   78 B                         \n",
            "pulling c96afb4d9900... 100% ▕▏  484 B                         \n",
            "verifying sha256 digest ⠴ \u001b[?25h\u001b[?25l\u001b[2K\u001b[1G\u001b[A\u001b[2K\u001b[1G\u001b[A\u001b[2K\u001b[1G\u001b[A\u001b[2K\u001b[1G\u001b[A\u001b[2K\u001b[1G\u001b[A\u001b[2K\u001b[1G\u001b[A\u001b[2K\u001b[1Gpulling manifest \n",
            "pulling 64e8f4d6856f... 100% ▕▏ 7.9 GB                         \n",
            "pulling fa8235e5b48f... 100% ▕▏ 1.1 KB                         \n",
            "pulling 542b217f179c... 100% ▕▏  148 B                         \n",
            "pulling 8dde1baf1db0... 100% ▕▏   78 B                         \n",
            "pulling c96afb4d9900... 100% ▕▏  484 B                         \n",
            "verifying sha256 digest ⠦ \u001b[?25h\u001b[?25l\u001b[2K\u001b[1G\u001b[A\u001b[2K\u001b[1G\u001b[A\u001b[2K\u001b[1G\u001b[A\u001b[2K\u001b[1G\u001b[A\u001b[2K\u001b[1G\u001b[A\u001b[2K\u001b[1G\u001b[A\u001b[2K\u001b[1Gpulling manifest \n",
            "pulling 64e8f4d6856f... 100% ▕▏ 7.9 GB                         \n",
            "pulling fa8235e5b48f... 100% ▕▏ 1.1 KB                         \n",
            "pulling 542b217f179c... 100% ▕▏  148 B                         \n",
            "pulling 8dde1baf1db0... 100% ▕▏   78 B                         \n",
            "pulling c96afb4d9900... 100% ▕▏  484 B                         \n",
            "verifying sha256 digest ⠧ \u001b[?25h\u001b[?25l\u001b[2K\u001b[1G\u001b[A\u001b[2K\u001b[1G\u001b[A\u001b[2K\u001b[1G\u001b[A\u001b[2K\u001b[1G\u001b[A\u001b[2K\u001b[1G\u001b[A\u001b[2K\u001b[1G\u001b[A\u001b[2K\u001b[1Gpulling manifest \n",
            "pulling 64e8f4d6856f... 100% ▕▏ 7.9 GB                         \n",
            "pulling fa8235e5b48f... 100% ▕▏ 1.1 KB                         \n",
            "pulling 542b217f179c... 100% ▕▏  148 B                         \n",
            "pulling 8dde1baf1db0... 100% ▕▏   78 B                         \n",
            "pulling c96afb4d9900... 100% ▕▏  484 B                         \n",
            "verifying sha256 digest ⠇ \u001b[?25h\u001b[?25l\u001b[2K\u001b[1G\u001b[A\u001b[2K\u001b[1G\u001b[A\u001b[2K\u001b[1G\u001b[A\u001b[2K\u001b[1G\u001b[A\u001b[2K\u001b[1G\u001b[A\u001b[2K\u001b[1G\u001b[A\u001b[2K\u001b[1Gpulling manifest \n",
            "pulling 64e8f4d6856f... 100% ▕▏ 7.9 GB                         \n",
            "pulling fa8235e5b48f... 100% ▕▏ 1.1 KB                         \n",
            "pulling 542b217f179c... 100% ▕▏  148 B                         \n",
            "pulling 8dde1baf1db0... 100% ▕▏   78 B                         \n",
            "pulling c96afb4d9900... 100% ▕▏  484 B                         \n",
            "verifying sha256 digest ⠏ \u001b[?25h\u001b[?25l\u001b[2K\u001b[1G\u001b[A\u001b[2K\u001b[1G\u001b[A\u001b[2K\u001b[1G\u001b[A\u001b[2K\u001b[1G\u001b[A\u001b[2K\u001b[1G\u001b[A\u001b[2K\u001b[1G\u001b[A\u001b[2K\u001b[1Gpulling manifest \n",
            "pulling 64e8f4d6856f... 100% ▕▏ 7.9 GB                         \n",
            "pulling fa8235e5b48f... 100% ▕▏ 1.1 KB                         \n",
            "pulling 542b217f179c... 100% ▕▏  148 B                         \n",
            "pulling 8dde1baf1db0... 100% ▕▏   78 B                         \n",
            "pulling c96afb4d9900... 100% ▕▏  484 B                         \n",
            "verifying sha256 digest ⠋ \u001b[?25h\u001b[?25l\u001b[2K\u001b[1G\u001b[A\u001b[2K\u001b[1G\u001b[A\u001b[2K\u001b[1G\u001b[A\u001b[2K\u001b[1G\u001b[A\u001b[2K\u001b[1G\u001b[A\u001b[2K\u001b[1G\u001b[A\u001b[2K\u001b[1Gpulling manifest \n",
            "pulling 64e8f4d6856f... 100% ▕▏ 7.9 GB                         \n",
            "pulling fa8235e5b48f... 100% ▕▏ 1.1 KB                         \n",
            "pulling 542b217f179c... 100% ▕▏  148 B                         \n",
            "pulling 8dde1baf1db0... 100% ▕▏   78 B                         \n",
            "pulling c96afb4d9900... 100% ▕▏  484 B                         \n",
            "verifying sha256 digest ⠙ \u001b[?25h\u001b[?25l\u001b[2K\u001b[1G\u001b[A\u001b[2K\u001b[1G\u001b[A\u001b[2K\u001b[1G\u001b[A\u001b[2K\u001b[1G\u001b[A\u001b[2K\u001b[1G\u001b[A\u001b[2K\u001b[1G\u001b[A\u001b[2K\u001b[1Gpulling manifest \n",
            "pulling 64e8f4d6856f... 100% ▕▏ 7.9 GB                         \n",
            "pulling fa8235e5b48f... 100% ▕▏ 1.1 KB                         \n",
            "pulling 542b217f179c... 100% ▕▏  148 B                         \n",
            "pulling 8dde1baf1db0... 100% ▕▏   78 B                         \n",
            "pulling c96afb4d9900... 100% ▕▏  484 B                         \n",
            "verifying sha256 digest ⠹ \u001b[?25h\u001b[?25l\u001b[2K\u001b[1G\u001b[A\u001b[2K\u001b[1G\u001b[A\u001b[2K\u001b[1G\u001b[A\u001b[2K\u001b[1G\u001b[A\u001b[2K\u001b[1G\u001b[A\u001b[2K\u001b[1G\u001b[A\u001b[2K\u001b[1Gpulling manifest \n",
            "pulling 64e8f4d6856f... 100% ▕▏ 7.9 GB                         \n",
            "pulling fa8235e5b48f... 100% ▕▏ 1.1 KB                         \n",
            "pulling 542b217f179c... 100% ▕▏  148 B                         \n",
            "pulling 8dde1baf1db0... 100% ▕▏   78 B                         \n",
            "pulling c96afb4d9900... 100% ▕▏  484 B                         \n",
            "verifying sha256 digest ⠸ \u001b[?25h\u001b[?25l\u001b[2K\u001b[1G\u001b[A\u001b[2K\u001b[1G\u001b[A\u001b[2K\u001b[1G\u001b[A\u001b[2K\u001b[1G\u001b[A\u001b[2K\u001b[1G\u001b[A\u001b[2K\u001b[1G\u001b[A\u001b[2K\u001b[1Gpulling manifest \n",
            "pulling 64e8f4d6856f... 100% ▕▏ 7.9 GB                         \n",
            "pulling fa8235e5b48f... 100% ▕▏ 1.1 KB                         \n",
            "pulling 542b217f179c... 100% ▕▏  148 B                         \n",
            "pulling 8dde1baf1db0... 100% ▕▏   78 B                         \n",
            "pulling c96afb4d9900... 100% ▕▏  484 B                         \n",
            "verifying sha256 digest ⠼ \u001b[?25h\u001b[?25l\u001b[2K\u001b[1G\u001b[A\u001b[2K\u001b[1G\u001b[A\u001b[2K\u001b[1G\u001b[A\u001b[2K\u001b[1G\u001b[A\u001b[2K\u001b[1G\u001b[A\u001b[2K\u001b[1G\u001b[A\u001b[2K\u001b[1Gpulling manifest \n",
            "pulling 64e8f4d6856f... 100% ▕▏ 7.9 GB                         \n",
            "pulling fa8235e5b48f... 100% ▕▏ 1.1 KB                         \n",
            "pulling 542b217f179c... 100% ▕▏  148 B                         \n",
            "pulling 8dde1baf1db0... 100% ▕▏   78 B                         \n",
            "pulling c96afb4d9900... 100% ▕▏  484 B                         \n",
            "verifying sha256 digest ⠴ \u001b[?25h\u001b[?25l\u001b[2K\u001b[1G\u001b[A\u001b[2K\u001b[1G\u001b[A\u001b[2K\u001b[1G\u001b[A\u001b[2K\u001b[1G\u001b[A\u001b[2K\u001b[1G\u001b[A\u001b[2K\u001b[1G\u001b[A\u001b[2K\u001b[1Gpulling manifest \n",
            "pulling 64e8f4d6856f... 100% ▕▏ 7.9 GB                         \n",
            "pulling fa8235e5b48f... 100% ▕▏ 1.1 KB                         \n",
            "pulling 542b217f179c... 100% ▕▏  148 B                         \n",
            "pulling 8dde1baf1db0... 100% ▕▏   78 B                         \n",
            "pulling c96afb4d9900... 100% ▕▏  484 B                         \n",
            "verifying sha256 digest ⠦ \u001b[?25h\u001b[?25l\u001b[2K\u001b[1G\u001b[A\u001b[2K\u001b[1G\u001b[A\u001b[2K\u001b[1G\u001b[A\u001b[2K\u001b[1G\u001b[A\u001b[2K\u001b[1G\u001b[A\u001b[2K\u001b[1G\u001b[A\u001b[2K\u001b[1Gpulling manifest \n",
            "pulling 64e8f4d6856f... 100% ▕▏ 7.9 GB                         \n",
            "pulling fa8235e5b48f... 100% ▕▏ 1.1 KB                         \n",
            "pulling 542b217f179c... 100% ▕▏  148 B                         \n",
            "pulling 8dde1baf1db0... 100% ▕▏   78 B                         \n",
            "pulling c96afb4d9900... 100% ▕▏  484 B                         \n",
            "verifying sha256 digest ⠧ \u001b[?25h\u001b[?25l\u001b[2K\u001b[1G\u001b[A\u001b[2K\u001b[1G\u001b[A\u001b[2K\u001b[1G\u001b[A\u001b[2K\u001b[1G\u001b[A\u001b[2K\u001b[1G\u001b[A\u001b[2K\u001b[1G\u001b[A\u001b[2K\u001b[1Gpulling manifest \n",
            "pulling 64e8f4d6856f... 100% ▕▏ 7.9 GB                         \n",
            "pulling fa8235e5b48f... 100% ▕▏ 1.1 KB                         \n",
            "pulling 542b217f179c... 100% ▕▏  148 B                         \n",
            "pulling 8dde1baf1db0... 100% ▕▏   78 B                         \n",
            "pulling c96afb4d9900... 100% ▕▏  484 B                         \n",
            "verifying sha256 digest ⠇ \u001b[?25h\u001b[?25l\u001b[2K\u001b[1G\u001b[A\u001b[2K\u001b[1G\u001b[A\u001b[2K\u001b[1G\u001b[A\u001b[2K\u001b[1G\u001b[A\u001b[2K\u001b[1G\u001b[A\u001b[2K\u001b[1G\u001b[A\u001b[2K\u001b[1Gpulling manifest \n",
            "pulling 64e8f4d6856f... 100% ▕▏ 7.9 GB                         \n",
            "pulling fa8235e5b48f... 100% ▕▏ 1.1 KB                         \n",
            "pulling 542b217f179c... 100% ▕▏  148 B                         \n",
            "pulling 8dde1baf1db0... 100% ▕▏   78 B                         \n",
            "pulling c96afb4d9900... 100% ▕▏  484 B                         \n",
            "verifying sha256 digest ⠏ \u001b[?25h\u001b[?25l\u001b[2K\u001b[1G\u001b[A\u001b[2K\u001b[1G\u001b[A\u001b[2K\u001b[1G\u001b[A\u001b[2K\u001b[1G\u001b[A\u001b[2K\u001b[1G\u001b[A\u001b[2K\u001b[1G\u001b[A\u001b[2K\u001b[1Gpulling manifest \n",
            "pulling 64e8f4d6856f... 100% ▕▏ 7.9 GB                         \n",
            "pulling fa8235e5b48f... 100% ▕▏ 1.1 KB                         \n",
            "pulling 542b217f179c... 100% ▕▏  148 B                         \n",
            "pulling 8dde1baf1db0... 100% ▕▏   78 B                         \n",
            "pulling c96afb4d9900... 100% ▕▏  484 B                         \n",
            "verifying sha256 digest ⠋ \u001b[?25h\u001b[?25l\u001b[2K\u001b[1G\u001b[A\u001b[2K\u001b[1G\u001b[A\u001b[2K\u001b[1G\u001b[A\u001b[2K\u001b[1G\u001b[A\u001b[2K\u001b[1G\u001b[A\u001b[2K\u001b[1G\u001b[A\u001b[2K\u001b[1Gpulling manifest \n",
            "pulling 64e8f4d6856f... 100% ▕▏ 7.9 GB                         \n",
            "pulling fa8235e5b48f... 100% ▕▏ 1.1 KB                         \n",
            "pulling 542b217f179c... 100% ▕▏  148 B                         \n",
            "pulling 8dde1baf1db0... 100% ▕▏   78 B                         \n",
            "pulling c96afb4d9900... 100% ▕▏  484 B                         \n",
            "verifying sha256 digest ⠙ \u001b[?25h\u001b[?25l\u001b[2K\u001b[1G\u001b[A\u001b[2K\u001b[1G\u001b[A\u001b[2K\u001b[1G\u001b[A\u001b[2K\u001b[1G\u001b[A\u001b[2K\u001b[1G\u001b[A\u001b[2K\u001b[1G\u001b[A\u001b[2K\u001b[1Gpulling manifest \n",
            "pulling 64e8f4d6856f... 100% ▕▏ 7.9 GB                         \n",
            "pulling fa8235e5b48f... 100% ▕▏ 1.1 KB                         \n",
            "pulling 542b217f179c... 100% ▕▏  148 B                         \n",
            "pulling 8dde1baf1db0... 100% ▕▏   78 B                         \n",
            "pulling c96afb4d9900... 100% ▕▏  484 B                         \n",
            "verifying sha256 digest ⠹ \u001b[?25h\u001b[?25l\u001b[2K\u001b[1G\u001b[A\u001b[2K\u001b[1G\u001b[A\u001b[2K\u001b[1G\u001b[A\u001b[2K\u001b[1G\u001b[A\u001b[2K\u001b[1G\u001b[A\u001b[2K\u001b[1G\u001b[A\u001b[2K\u001b[1Gpulling manifest \n",
            "pulling 64e8f4d6856f... 100% ▕▏ 7.9 GB                         \n",
            "pulling fa8235e5b48f... 100% ▕▏ 1.1 KB                         \n",
            "pulling 542b217f179c... 100% ▕▏  148 B                         \n",
            "pulling 8dde1baf1db0... 100% ▕▏   78 B                         \n",
            "pulling c96afb4d9900... 100% ▕▏  484 B                         \n",
            "verifying sha256 digest ⠸ \u001b[?25h\u001b[?25l\u001b[2K\u001b[1G\u001b[A\u001b[2K\u001b[1G\u001b[A\u001b[2K\u001b[1G\u001b[A\u001b[2K\u001b[1G\u001b[A\u001b[2K\u001b[1G\u001b[A\u001b[2K\u001b[1G\u001b[A\u001b[2K\u001b[1Gpulling manifest \n",
            "pulling 64e8f4d6856f... 100% ▕▏ 7.9 GB                         \n",
            "pulling fa8235e5b48f... 100% ▕▏ 1.1 KB                         \n",
            "pulling 542b217f179c... 100% ▕▏  148 B                         \n",
            "pulling 8dde1baf1db0... 100% ▕▏   78 B                         \n",
            "pulling c96afb4d9900... 100% ▕▏  484 B                         \n",
            "verifying sha256 digest ⠼ \u001b[?25h\u001b[?25l\u001b[2K\u001b[1G\u001b[A\u001b[2K\u001b[1G\u001b[A\u001b[2K\u001b[1G\u001b[A\u001b[2K\u001b[1G\u001b[A\u001b[2K\u001b[1G\u001b[A\u001b[2K\u001b[1G\u001b[A\u001b[2K\u001b[1Gpulling manifest \n",
            "pulling 64e8f4d6856f... 100% ▕▏ 7.9 GB                         \n",
            "pulling fa8235e5b48f... 100% ▕▏ 1.1 KB                         \n",
            "pulling 542b217f179c... 100% ▕▏  148 B                         \n",
            "pulling 8dde1baf1db0... 100% ▕▏   78 B                         \n",
            "pulling c96afb4d9900... 100% ▕▏  484 B                         \n",
            "verifying sha256 digest ⠴ \u001b[?25h\u001b[?25l\u001b[2K\u001b[1G\u001b[A\u001b[2K\u001b[1G\u001b[A\u001b[2K\u001b[1G\u001b[A\u001b[2K\u001b[1G\u001b[A\u001b[2K\u001b[1G\u001b[A\u001b[2K\u001b[1G\u001b[A\u001b[2K\u001b[1Gpulling manifest \n",
            "pulling 64e8f4d6856f... 100% ▕▏ 7.9 GB                         \n",
            "pulling fa8235e5b48f... 100% ▕▏ 1.1 KB                         \n",
            "pulling 542b217f179c... 100% ▕▏  148 B                         \n",
            "pulling 8dde1baf1db0... 100% ▕▏   78 B                         \n",
            "pulling c96afb4d9900... 100% ▕▏  484 B                         \n",
            "verifying sha256 digest ⠦ \u001b[?25h\u001b[?25l\u001b[2K\u001b[1G\u001b[A\u001b[2K\u001b[1G\u001b[A\u001b[2K\u001b[1G\u001b[A\u001b[2K\u001b[1G\u001b[A\u001b[2K\u001b[1G\u001b[A\u001b[2K\u001b[1G\u001b[A\u001b[2K\u001b[1Gpulling manifest \n",
            "pulling 64e8f4d6856f... 100% ▕▏ 7.9 GB                         \n",
            "pulling fa8235e5b48f... 100% ▕▏ 1.1 KB                         \n",
            "pulling 542b217f179c... 100% ▕▏  148 B                         \n",
            "pulling 8dde1baf1db0... 100% ▕▏   78 B                         \n",
            "pulling c96afb4d9900... 100% ▕▏  484 B                         \n",
            "verifying sha256 digest ⠧ \u001b[?25h\u001b[?25l\u001b[2K\u001b[1G\u001b[A\u001b[2K\u001b[1G\u001b[A\u001b[2K\u001b[1G\u001b[A\u001b[2K\u001b[1G\u001b[A\u001b[2K\u001b[1G\u001b[A\u001b[2K\u001b[1G\u001b[A\u001b[2K\u001b[1Gpulling manifest \n",
            "pulling 64e8f4d6856f... 100% ▕▏ 7.9 GB                         \n",
            "pulling fa8235e5b48f... 100% ▕▏ 1.1 KB                         \n",
            "pulling 542b217f179c... 100% ▕▏  148 B                         \n",
            "pulling 8dde1baf1db0... 100% ▕▏   78 B                         \n",
            "pulling c96afb4d9900... 100% ▕▏  484 B                         \n",
            "verifying sha256 digest ⠇ \u001b[?25h\u001b[?25l\u001b[2K\u001b[1G\u001b[A\u001b[2K\u001b[1G\u001b[A\u001b[2K\u001b[1G\u001b[A\u001b[2K\u001b[1G\u001b[A\u001b[2K\u001b[1G\u001b[A\u001b[2K\u001b[1G\u001b[A\u001b[2K\u001b[1Gpulling manifest \n",
            "pulling 64e8f4d6856f... 100% ▕▏ 7.9 GB                         \n",
            "pulling fa8235e5b48f... 100% ▕▏ 1.1 KB                         \n",
            "pulling 542b217f179c... 100% ▕▏  148 B                         \n",
            "pulling 8dde1baf1db0... 100% ▕▏   78 B                         \n",
            "pulling c96afb4d9900... 100% ▕▏  484 B                         \n",
            "verifying sha256 digest ⠏ \u001b[?25h\u001b[?25l\u001b[2K\u001b[1G\u001b[A\u001b[2K\u001b[1G\u001b[A\u001b[2K\u001b[1G\u001b[A\u001b[2K\u001b[1G\u001b[A\u001b[2K\u001b[1G\u001b[A\u001b[2K\u001b[1G\u001b[A\u001b[2K\u001b[1Gpulling manifest \n",
            "pulling 64e8f4d6856f... 100% ▕▏ 7.9 GB                         \n",
            "pulling fa8235e5b48f... 100% ▕▏ 1.1 KB                         \n",
            "pulling 542b217f179c... 100% ▕▏  148 B                         \n",
            "pulling 8dde1baf1db0... 100% ▕▏   78 B                         \n",
            "pulling c96afb4d9900... 100% ▕▏  484 B                         \n",
            "verifying sha256 digest ⠋ \u001b[?25h\u001b[?25l\u001b[2K\u001b[1G\u001b[A\u001b[2K\u001b[1G\u001b[A\u001b[2K\u001b[1G\u001b[A\u001b[2K\u001b[1G\u001b[A\u001b[2K\u001b[1G\u001b[A\u001b[2K\u001b[1G\u001b[A\u001b[2K\u001b[1Gpulling manifest \n",
            "pulling 64e8f4d6856f... 100% ▕▏ 7.9 GB                         \n",
            "pulling fa8235e5b48f... 100% ▕▏ 1.1 KB                         \n",
            "pulling 542b217f179c... 100% ▕▏  148 B                         \n",
            "pulling 8dde1baf1db0... 100% ▕▏   78 B                         \n",
            "pulling c96afb4d9900... 100% ▕▏  484 B                         \n",
            "verifying sha256 digest ⠙ \u001b[?25h\u001b[?25l\u001b[2K\u001b[1G\u001b[A\u001b[2K\u001b[1G\u001b[A\u001b[2K\u001b[1G\u001b[A\u001b[2K\u001b[1G\u001b[A\u001b[2K\u001b[1G\u001b[A\u001b[2K\u001b[1G\u001b[A\u001b[2K\u001b[1Gpulling manifest \n",
            "pulling 64e8f4d6856f... 100% ▕▏ 7.9 GB                         \n",
            "pulling fa8235e5b48f... 100% ▕▏ 1.1 KB                         \n",
            "pulling 542b217f179c... 100% ▕▏  148 B                         \n",
            "pulling 8dde1baf1db0... 100% ▕▏   78 B                         \n",
            "pulling c96afb4d9900... 100% ▕▏  484 B                         \n",
            "verifying sha256 digest ⠹ \u001b[?25h\u001b[?25l\u001b[2K\u001b[1G\u001b[A\u001b[2K\u001b[1G\u001b[A\u001b[2K\u001b[1G\u001b[A\u001b[2K\u001b[1G\u001b[A\u001b[2K\u001b[1G\u001b[A\u001b[2K\u001b[1G\u001b[A\u001b[2K\u001b[1Gpulling manifest \n",
            "pulling 64e8f4d6856f... 100% ▕▏ 7.9 GB                         \n",
            "pulling fa8235e5b48f... 100% ▕▏ 1.1 KB                         \n",
            "pulling 542b217f179c... 100% ▕▏  148 B                         \n",
            "pulling 8dde1baf1db0... 100% ▕▏   78 B                         \n",
            "pulling c96afb4d9900... 100% ▕▏  484 B                         \n",
            "verifying sha256 digest ⠸ \u001b[?25h\u001b[?25l\u001b[2K\u001b[1G\u001b[A\u001b[2K\u001b[1G\u001b[A\u001b[2K\u001b[1G\u001b[A\u001b[2K\u001b[1G\u001b[A\u001b[2K\u001b[1G\u001b[A\u001b[2K\u001b[1G\u001b[A\u001b[2K\u001b[1Gpulling manifest \n",
            "pulling 64e8f4d6856f... 100% ▕▏ 7.9 GB                         \n",
            "pulling fa8235e5b48f... 100% ▕▏ 1.1 KB                         \n",
            "pulling 542b217f179c... 100% ▕▏  148 B                         \n",
            "pulling 8dde1baf1db0... 100% ▕▏   78 B                         \n",
            "pulling c96afb4d9900... 100% ▕▏  484 B                         \n",
            "verifying sha256 digest ⠼ \u001b[?25h\u001b[?25l\u001b[2K\u001b[1G\u001b[A\u001b[2K\u001b[1G\u001b[A\u001b[2K\u001b[1G\u001b[A\u001b[2K\u001b[1G\u001b[A\u001b[2K\u001b[1G\u001b[A\u001b[2K\u001b[1G\u001b[A\u001b[2K\u001b[1Gpulling manifest \n",
            "pulling 64e8f4d6856f... 100% ▕▏ 7.9 GB                         \n",
            "pulling fa8235e5b48f... 100% ▕▏ 1.1 KB                         \n",
            "pulling 542b217f179c... 100% ▕▏  148 B                         \n",
            "pulling 8dde1baf1db0... 100% ▕▏   78 B                         \n",
            "pulling c96afb4d9900... 100% ▕▏  484 B                         \n",
            "verifying sha256 digest ⠴ \u001b[?25h\u001b[?25l\u001b[2K\u001b[1G\u001b[A\u001b[2K\u001b[1G\u001b[A\u001b[2K\u001b[1G\u001b[A\u001b[2K\u001b[1G\u001b[A\u001b[2K\u001b[1G\u001b[A\u001b[2K\u001b[1G\u001b[A\u001b[2K\u001b[1Gpulling manifest \n",
            "pulling 64e8f4d6856f... 100% ▕▏ 7.9 GB                         \n",
            "pulling fa8235e5b48f... 100% ▕▏ 1.1 KB                         \n",
            "pulling 542b217f179c... 100% ▕▏  148 B                         \n",
            "pulling 8dde1baf1db0... 100% ▕▏   78 B                         \n",
            "pulling c96afb4d9900... 100% ▕▏  484 B                         \n",
            "verifying sha256 digest ⠦ \u001b[?25h\u001b[?25l\u001b[2K\u001b[1G\u001b[A\u001b[2K\u001b[1G\u001b[A\u001b[2K\u001b[1G\u001b[A\u001b[2K\u001b[1G\u001b[A\u001b[2K\u001b[1G\u001b[A\u001b[2K\u001b[1G\u001b[A\u001b[2K\u001b[1Gpulling manifest \n",
            "pulling 64e8f4d6856f... 100% ▕▏ 7.9 GB                         \n",
            "pulling fa8235e5b48f... 100% ▕▏ 1.1 KB                         \n",
            "pulling 542b217f179c... 100% ▕▏  148 B                         \n",
            "pulling 8dde1baf1db0... 100% ▕▏   78 B                         \n",
            "pulling c96afb4d9900... 100% ▕▏  484 B                         \n",
            "verifying sha256 digest ⠧ \u001b[?25h\u001b[?25l\u001b[2K\u001b[1G\u001b[A\u001b[2K\u001b[1G\u001b[A\u001b[2K\u001b[1G\u001b[A\u001b[2K\u001b[1G\u001b[A\u001b[2K\u001b[1G\u001b[A\u001b[2K\u001b[1G\u001b[A\u001b[2K\u001b[1Gpulling manifest \n",
            "pulling 64e8f4d6856f... 100% ▕▏ 7.9 GB                         \n",
            "pulling fa8235e5b48f... 100% ▕▏ 1.1 KB                         \n",
            "pulling 542b217f179c... 100% ▕▏  148 B                         \n",
            "pulling 8dde1baf1db0... 100% ▕▏   78 B                         \n",
            "pulling c96afb4d9900... 100% ▕▏  484 B                         \n",
            "verifying sha256 digest ⠇ \u001b[?25h\u001b[?25l\u001b[2K\u001b[1G\u001b[A\u001b[2K\u001b[1G\u001b[A\u001b[2K\u001b[1G\u001b[A\u001b[2K\u001b[1G\u001b[A\u001b[2K\u001b[1G\u001b[A\u001b[2K\u001b[1G\u001b[A\u001b[2K\u001b[1Gpulling manifest \n",
            "pulling 64e8f4d6856f... 100% ▕▏ 7.9 GB                         \n",
            "pulling fa8235e5b48f... 100% ▕▏ 1.1 KB                         \n",
            "pulling 542b217f179c... 100% ▕▏  148 B                         \n",
            "pulling 8dde1baf1db0... 100% ▕▏   78 B                         \n",
            "pulling c96afb4d9900... 100% ▕▏  484 B                         \n",
            "verifying sha256 digest ⠏ \u001b[?25h\u001b[?25l\u001b[2K\u001b[1G\u001b[A\u001b[2K\u001b[1G\u001b[A\u001b[2K\u001b[1G\u001b[A\u001b[2K\u001b[1G\u001b[A\u001b[2K\u001b[1G\u001b[A\u001b[2K\u001b[1G\u001b[A\u001b[2K\u001b[1Gpulling manifest \n",
            "pulling 64e8f4d6856f... 100% ▕▏ 7.9 GB                         \n",
            "pulling fa8235e5b48f... 100% ▕▏ 1.1 KB                         \n",
            "pulling 542b217f179c... 100% ▕▏  148 B                         \n",
            "pulling 8dde1baf1db0... 100% ▕▏   78 B                         \n",
            "pulling c96afb4d9900... 100% ▕▏  484 B                         \n",
            "verifying sha256 digest ⠋ \u001b[?25h\u001b[?25l\u001b[2K\u001b[1G\u001b[A\u001b[2K\u001b[1G\u001b[A\u001b[2K\u001b[1G\u001b[A\u001b[2K\u001b[1G\u001b[A\u001b[2K\u001b[1G\u001b[A\u001b[2K\u001b[1G\u001b[A\u001b[2K\u001b[1Gpulling manifest \n",
            "pulling 64e8f4d6856f... 100% ▕▏ 7.9 GB                         \n",
            "pulling fa8235e5b48f... 100% ▕▏ 1.1 KB                         \n",
            "pulling 542b217f179c... 100% ▕▏  148 B                         \n",
            "pulling 8dde1baf1db0... 100% ▕▏   78 B                         \n",
            "pulling c96afb4d9900... 100% ▕▏  484 B                         \n",
            "verifying sha256 digest ⠙ \u001b[?25h\u001b[?25l\u001b[2K\u001b[1G\u001b[A\u001b[2K\u001b[1G\u001b[A\u001b[2K\u001b[1G\u001b[A\u001b[2K\u001b[1G\u001b[A\u001b[2K\u001b[1G\u001b[A\u001b[2K\u001b[1G\u001b[A\u001b[2K\u001b[1Gpulling manifest \n",
            "pulling 64e8f4d6856f... 100% ▕▏ 7.9 GB                         \n",
            "pulling fa8235e5b48f... 100% ▕▏ 1.1 KB                         \n",
            "pulling 542b217f179c... 100% ▕▏  148 B                         \n",
            "pulling 8dde1baf1db0... 100% ▕▏   78 B                         \n",
            "pulling c96afb4d9900... 100% ▕▏  484 B                         \n",
            "verifying sha256 digest ⠹ \u001b[?25h\u001b[?25l\u001b[2K\u001b[1G\u001b[A\u001b[2K\u001b[1G\u001b[A\u001b[2K\u001b[1G\u001b[A\u001b[2K\u001b[1G\u001b[A\u001b[2K\u001b[1G\u001b[A\u001b[2K\u001b[1G\u001b[A\u001b[2K\u001b[1Gpulling manifest \n",
            "pulling 64e8f4d6856f... 100% ▕▏ 7.9 GB                         \n",
            "pulling fa8235e5b48f... 100% ▕▏ 1.1 KB                         \n",
            "pulling 542b217f179c... 100% ▕▏  148 B                         \n",
            "pulling 8dde1baf1db0... 100% ▕▏   78 B                         \n",
            "pulling c96afb4d9900... 100% ▕▏  484 B                         \n",
            "verifying sha256 digest ⠸ \u001b[?25h\u001b[?25l\u001b[2K\u001b[1G\u001b[A\u001b[2K\u001b[1G\u001b[A\u001b[2K\u001b[1G\u001b[A\u001b[2K\u001b[1G\u001b[A\u001b[2K\u001b[1G\u001b[A\u001b[2K\u001b[1G\u001b[A\u001b[2K\u001b[1Gpulling manifest \n",
            "pulling 64e8f4d6856f... 100% ▕▏ 7.9 GB                         \n",
            "pulling fa8235e5b48f... 100% ▕▏ 1.1 KB                         \n",
            "pulling 542b217f179c... 100% ▕▏  148 B                         \n",
            "pulling 8dde1baf1db0... 100% ▕▏   78 B                         \n",
            "pulling c96afb4d9900... 100% ▕▏  484 B                         \n",
            "verifying sha256 digest ⠼ \u001b[?25h\u001b[?25l\u001b[2K\u001b[1G\u001b[A\u001b[2K\u001b[1G\u001b[A\u001b[2K\u001b[1G\u001b[A\u001b[2K\u001b[1G\u001b[A\u001b[2K\u001b[1G\u001b[A\u001b[2K\u001b[1G\u001b[A\u001b[2K\u001b[1Gpulling manifest \n",
            "pulling 64e8f4d6856f... 100% ▕▏ 7.9 GB                         \n",
            "pulling fa8235e5b48f... 100% ▕▏ 1.1 KB                         \n",
            "pulling 542b217f179c... 100% ▕▏  148 B                         \n",
            "pulling 8dde1baf1db0... 100% ▕▏   78 B                         \n",
            "pulling c96afb4d9900... 100% ▕▏  484 B                         \n",
            "verifying sha256 digest ⠴ \u001b[?25h\u001b[?25l\u001b[2K\u001b[1G\u001b[A\u001b[2K\u001b[1G\u001b[A\u001b[2K\u001b[1G\u001b[A\u001b[2K\u001b[1G\u001b[A\u001b[2K\u001b[1G\u001b[A\u001b[2K\u001b[1G\u001b[A\u001b[2K\u001b[1Gpulling manifest \n",
            "pulling 64e8f4d6856f... 100% ▕▏ 7.9 GB                         \n",
            "pulling fa8235e5b48f... 100% ▕▏ 1.1 KB                         \n",
            "pulling 542b217f179c... 100% ▕▏  148 B                         \n",
            "pulling 8dde1baf1db0... 100% ▕▏   78 B                         \n",
            "pulling c96afb4d9900... 100% ▕▏  484 B                         \n",
            "verifying sha256 digest ⠦ \u001b[?25h\u001b[?25l\u001b[2K\u001b[1G\u001b[A\u001b[2K\u001b[1G\u001b[A\u001b[2K\u001b[1G\u001b[A\u001b[2K\u001b[1G\u001b[A\u001b[2K\u001b[1G\u001b[A\u001b[2K\u001b[1G\u001b[A\u001b[2K\u001b[1Gpulling manifest \n",
            "pulling 64e8f4d6856f... 100% ▕▏ 7.9 GB                         \n",
            "pulling fa8235e5b48f... 100% ▕▏ 1.1 KB                         \n",
            "pulling 542b217f179c... 100% ▕▏  148 B                         \n",
            "pulling 8dde1baf1db0... 100% ▕▏   78 B                         \n",
            "pulling c96afb4d9900... 100% ▕▏  484 B                         \n",
            "verifying sha256 digest ⠧ \u001b[?25h\u001b[?25l\u001b[2K\u001b[1G\u001b[A\u001b[2K\u001b[1G\u001b[A\u001b[2K\u001b[1G\u001b[A\u001b[2K\u001b[1G\u001b[A\u001b[2K\u001b[1G\u001b[A\u001b[2K\u001b[1G\u001b[A\u001b[2K\u001b[1Gpulling manifest \n",
            "pulling 64e8f4d6856f... 100% ▕▏ 7.9 GB                         \n",
            "pulling fa8235e5b48f... 100% ▕▏ 1.1 KB                         \n",
            "pulling 542b217f179c... 100% ▕▏  148 B                         \n",
            "pulling 8dde1baf1db0... 100% ▕▏   78 B                         \n",
            "pulling c96afb4d9900... 100% ▕▏  484 B                         \n",
            "verifying sha256 digest ⠇ \u001b[?25h\u001b[?25l\u001b[2K\u001b[1G\u001b[A\u001b[2K\u001b[1G\u001b[A\u001b[2K\u001b[1G\u001b[A\u001b[2K\u001b[1G\u001b[A\u001b[2K\u001b[1G\u001b[A\u001b[2K\u001b[1G\u001b[A\u001b[2K\u001b[1Gpulling manifest \n",
            "pulling 64e8f4d6856f... 100% ▕▏ 7.9 GB                         \n",
            "pulling fa8235e5b48f... 100% ▕▏ 1.1 KB                         \n",
            "pulling 542b217f179c... 100% ▕▏  148 B                         \n",
            "pulling 8dde1baf1db0... 100% ▕▏   78 B                         \n",
            "pulling c96afb4d9900... 100% ▕▏  484 B                         \n",
            "verifying sha256 digest ⠏ \u001b[?25h\u001b[?25l\u001b[2K\u001b[1G\u001b[A\u001b[2K\u001b[1G\u001b[A\u001b[2K\u001b[1G\u001b[A\u001b[2K\u001b[1G\u001b[A\u001b[2K\u001b[1G\u001b[A\u001b[2K\u001b[1G\u001b[A\u001b[2K\u001b[1Gpulling manifest \n",
            "pulling 64e8f4d6856f... 100% ▕▏ 7.9 GB                         \n",
            "pulling fa8235e5b48f... 100% ▕▏ 1.1 KB                         \n",
            "pulling 542b217f179c... 100% ▕▏  148 B                         \n",
            "pulling 8dde1baf1db0... 100% ▕▏   78 B                         \n",
            "pulling c96afb4d9900... 100% ▕▏  484 B                         \n",
            "verifying sha256 digest ⠋ \u001b[?25h\u001b[?25l\u001b[2K\u001b[1G\u001b[A\u001b[2K\u001b[1G\u001b[A\u001b[2K\u001b[1G\u001b[A\u001b[2K\u001b[1G\u001b[A\u001b[2K\u001b[1G\u001b[A\u001b[2K\u001b[1G\u001b[A\u001b[2K\u001b[1Gpulling manifest \n",
            "pulling 64e8f4d6856f... 100% ▕▏ 7.9 GB                         \n",
            "pulling fa8235e5b48f... 100% ▕▏ 1.1 KB                         \n",
            "pulling 542b217f179c... 100% ▕▏  148 B                         \n",
            "pulling 8dde1baf1db0... 100% ▕▏   78 B                         \n",
            "pulling c96afb4d9900... 100% ▕▏  484 B                         \n",
            "verifying sha256 digest ⠙ \u001b[?25h\u001b[?25l\u001b[2K\u001b[1G\u001b[A\u001b[2K\u001b[1G\u001b[A\u001b[2K\u001b[1G\u001b[A\u001b[2K\u001b[1G\u001b[A\u001b[2K\u001b[1G\u001b[A\u001b[2K\u001b[1G\u001b[A\u001b[2K\u001b[1Gpulling manifest \n",
            "pulling 64e8f4d6856f... 100% ▕▏ 7.9 GB                         \n",
            "pulling fa8235e5b48f... 100% ▕▏ 1.1 KB                         \n",
            "pulling 542b217f179c... 100% ▕▏  148 B                         \n",
            "pulling 8dde1baf1db0... 100% ▕▏   78 B                         \n",
            "pulling c96afb4d9900... 100% ▕▏  484 B                         \n",
            "verifying sha256 digest ⠹ \u001b[?25h\u001b[?25l\u001b[2K\u001b[1G\u001b[A\u001b[2K\u001b[1G\u001b[A\u001b[2K\u001b[1G\u001b[A\u001b[2K\u001b[1G\u001b[A\u001b[2K\u001b[1G\u001b[A\u001b[2K\u001b[1G\u001b[A\u001b[2K\u001b[1Gpulling manifest \n",
            "pulling 64e8f4d6856f... 100% ▕▏ 7.9 GB                         \n",
            "pulling fa8235e5b48f... 100% ▕▏ 1.1 KB                         \n",
            "pulling 542b217f179c... 100% ▕▏  148 B                         \n",
            "pulling 8dde1baf1db0... 100% ▕▏   78 B                         \n",
            "pulling c96afb4d9900... 100% ▕▏  484 B                         \n",
            "verifying sha256 digest ⠸ \u001b[?25h\u001b[?25l\u001b[2K\u001b[1G\u001b[A\u001b[2K\u001b[1G\u001b[A\u001b[2K\u001b[1G\u001b[A\u001b[2K\u001b[1G\u001b[A\u001b[2K\u001b[1G\u001b[A\u001b[2K\u001b[1G\u001b[A\u001b[2K\u001b[1Gpulling manifest \n",
            "pulling 64e8f4d6856f... 100% ▕▏ 7.9 GB                         \n",
            "pulling fa8235e5b48f... 100% ▕▏ 1.1 KB                         \n",
            "pulling 542b217f179c... 100% ▕▏  148 B                         \n",
            "pulling 8dde1baf1db0... 100% ▕▏   78 B                         \n",
            "pulling c96afb4d9900... 100% ▕▏  484 B                         \n",
            "verifying sha256 digest ⠼ \u001b[?25h\u001b[?25l\u001b[2K\u001b[1G\u001b[A\u001b[2K\u001b[1G\u001b[A\u001b[2K\u001b[1G\u001b[A\u001b[2K\u001b[1G\u001b[A\u001b[2K\u001b[1G\u001b[A\u001b[2K\u001b[1G\u001b[A\u001b[2K\u001b[1Gpulling manifest \n",
            "pulling 64e8f4d6856f... 100% ▕▏ 7.9 GB                         \n",
            "pulling fa8235e5b48f... 100% ▕▏ 1.1 KB                         \n",
            "pulling 542b217f179c... 100% ▕▏  148 B                         \n",
            "pulling 8dde1baf1db0... 100% ▕▏   78 B                         \n",
            "pulling c96afb4d9900... 100% ▕▏  484 B                         \n",
            "verifying sha256 digest ⠴ \u001b[?25h\u001b[?25l\u001b[2K\u001b[1G\u001b[A\u001b[2K\u001b[1G\u001b[A\u001b[2K\u001b[1G\u001b[A\u001b[2K\u001b[1G\u001b[A\u001b[2K\u001b[1G\u001b[A\u001b[2K\u001b[1G\u001b[A\u001b[2K\u001b[1Gpulling manifest \n",
            "pulling 64e8f4d6856f... 100% ▕▏ 7.9 GB                         \n",
            "pulling fa8235e5b48f... 100% ▕▏ 1.1 KB                         \n",
            "pulling 542b217f179c... 100% ▕▏  148 B                         \n",
            "pulling 8dde1baf1db0... 100% ▕▏   78 B                         \n",
            "pulling c96afb4d9900... 100% ▕▏  484 B                         \n",
            "verifying sha256 digest ⠦ \u001b[?25h\u001b[?25l\u001b[2K\u001b[1G\u001b[A\u001b[2K\u001b[1G\u001b[A\u001b[2K\u001b[1G\u001b[A\u001b[2K\u001b[1G\u001b[A\u001b[2K\u001b[1G\u001b[A\u001b[2K\u001b[1G\u001b[A\u001b[2K\u001b[1Gpulling manifest \n",
            "pulling 64e8f4d6856f... 100% ▕▏ 7.9 GB                         \n",
            "pulling fa8235e5b48f... 100% ▕▏ 1.1 KB                         \n",
            "pulling 542b217f179c... 100% ▕▏  148 B                         \n",
            "pulling 8dde1baf1db0... 100% ▕▏   78 B                         \n",
            "pulling c96afb4d9900... 100% ▕▏  484 B                         \n",
            "verifying sha256 digest ⠧ \u001b[?25h\u001b[?25l\u001b[2K\u001b[1G\u001b[A\u001b[2K\u001b[1G\u001b[A\u001b[2K\u001b[1G\u001b[A\u001b[2K\u001b[1G\u001b[A\u001b[2K\u001b[1G\u001b[A\u001b[2K\u001b[1G\u001b[A\u001b[2K\u001b[1Gpulling manifest \n",
            "pulling 64e8f4d6856f... 100% ▕▏ 7.9 GB                         \n",
            "pulling fa8235e5b48f... 100% ▕▏ 1.1 KB                         \n",
            "pulling 542b217f179c... 100% ▕▏  148 B                         \n",
            "pulling 8dde1baf1db0... 100% ▕▏   78 B                         \n",
            "pulling c96afb4d9900... 100% ▕▏  484 B                         \n",
            "verifying sha256 digest ⠇ \u001b[?25h\u001b[?25l\u001b[2K\u001b[1G\u001b[A\u001b[2K\u001b[1G\u001b[A\u001b[2K\u001b[1G\u001b[A\u001b[2K\u001b[1G\u001b[A\u001b[2K\u001b[1G\u001b[A\u001b[2K\u001b[1G\u001b[A\u001b[2K\u001b[1Gpulling manifest \n",
            "pulling 64e8f4d6856f... 100% ▕▏ 7.9 GB                         \n",
            "pulling fa8235e5b48f... 100% ▕▏ 1.1 KB                         \n",
            "pulling 542b217f179c... 100% ▕▏  148 B                         \n",
            "pulling 8dde1baf1db0... 100% ▕▏   78 B                         \n",
            "pulling c96afb4d9900... 100% ▕▏  484 B                         \n",
            "verifying sha256 digest ⠏ \u001b[?25h\u001b[?25l\u001b[2K\u001b[1G\u001b[A\u001b[2K\u001b[1G\u001b[A\u001b[2K\u001b[1G\u001b[A\u001b[2K\u001b[1G\u001b[A\u001b[2K\u001b[1G\u001b[A\u001b[2K\u001b[1G\u001b[A\u001b[2K\u001b[1Gpulling manifest \n",
            "pulling 64e8f4d6856f... 100% ▕▏ 7.9 GB                         \n",
            "pulling fa8235e5b48f... 100% ▕▏ 1.1 KB                         \n",
            "pulling 542b217f179c... 100% ▕▏  148 B                         \n",
            "pulling 8dde1baf1db0... 100% ▕▏   78 B                         \n",
            "pulling c96afb4d9900... 100% ▕▏  484 B                         \n",
            "verifying sha256 digest ⠋ \u001b[?25h\u001b[?25l\u001b[2K\u001b[1G\u001b[A\u001b[2K\u001b[1G\u001b[A\u001b[2K\u001b[1G\u001b[A\u001b[2K\u001b[1G\u001b[A\u001b[2K\u001b[1G\u001b[A\u001b[2K\u001b[1G\u001b[A\u001b[2K\u001b[1Gpulling manifest \n",
            "pulling 64e8f4d6856f... 100% ▕▏ 7.9 GB                         \n",
            "pulling fa8235e5b48f... 100% ▕▏ 1.1 KB                         \n",
            "pulling 542b217f179c... 100% ▕▏  148 B                         \n",
            "pulling 8dde1baf1db0... 100% ▕▏   78 B                         \n",
            "pulling c96afb4d9900... 100% ▕▏  484 B                         \n",
            "verifying sha256 digest ⠙ \u001b[?25h\u001b[?25l\u001b[2K\u001b[1G\u001b[A\u001b[2K\u001b[1G\u001b[A\u001b[2K\u001b[1G\u001b[A\u001b[2K\u001b[1G\u001b[A\u001b[2K\u001b[1G\u001b[A\u001b[2K\u001b[1G\u001b[A\u001b[2K\u001b[1Gpulling manifest \n",
            "pulling 64e8f4d6856f... 100% ▕▏ 7.9 GB                         \n",
            "pulling fa8235e5b48f... 100% ▕▏ 1.1 KB                         \n",
            "pulling 542b217f179c... 100% ▕▏  148 B                         \n",
            "pulling 8dde1baf1db0... 100% ▕▏   78 B                         \n",
            "pulling c96afb4d9900... 100% ▕▏  484 B                         \n",
            "verifying sha256 digest ⠹ \u001b[?25h\u001b[?25l\u001b[2K\u001b[1G\u001b[A\u001b[2K\u001b[1G\u001b[A\u001b[2K\u001b[1G\u001b[A\u001b[2K\u001b[1G\u001b[A\u001b[2K\u001b[1G\u001b[A\u001b[2K\u001b[1G\u001b[A\u001b[2K\u001b[1Gpulling manifest \n",
            "pulling 64e8f4d6856f... 100% ▕▏ 7.9 GB                         \n",
            "pulling fa8235e5b48f... 100% ▕▏ 1.1 KB                         \n",
            "pulling 542b217f179c... 100% ▕▏  148 B                         \n",
            "pulling 8dde1baf1db0... 100% ▕▏   78 B                         \n",
            "pulling c96afb4d9900... 100% ▕▏  484 B                         \n",
            "verifying sha256 digest ⠸ \u001b[?25h\u001b[?25l\u001b[2K\u001b[1G\u001b[A\u001b[2K\u001b[1G\u001b[A\u001b[2K\u001b[1G\u001b[A\u001b[2K\u001b[1G\u001b[A\u001b[2K\u001b[1G\u001b[A\u001b[2K\u001b[1G\u001b[A\u001b[2K\u001b[1Gpulling manifest \n",
            "pulling 64e8f4d6856f... 100% ▕▏ 7.9 GB                         \n",
            "pulling fa8235e5b48f... 100% ▕▏ 1.1 KB                         \n",
            "pulling 542b217f179c... 100% ▕▏  148 B                         \n",
            "pulling 8dde1baf1db0... 100% ▕▏   78 B                         \n",
            "pulling c96afb4d9900... 100% ▕▏  484 B                         \n",
            "verifying sha256 digest ⠼ \u001b[?25h\u001b[?25l\u001b[2K\u001b[1G\u001b[A\u001b[2K\u001b[1G\u001b[A\u001b[2K\u001b[1G\u001b[A\u001b[2K\u001b[1G\u001b[A\u001b[2K\u001b[1G\u001b[A\u001b[2K\u001b[1G\u001b[A\u001b[2K\u001b[1Gpulling manifest \n",
            "pulling 64e8f4d6856f... 100% ▕▏ 7.9 GB                         \n",
            "pulling fa8235e5b48f... 100% ▕▏ 1.1 KB                         \n",
            "pulling 542b217f179c... 100% ▕▏  148 B                         \n",
            "pulling 8dde1baf1db0... 100% ▕▏   78 B                         \n",
            "pulling c96afb4d9900... 100% ▕▏  484 B                         \n",
            "verifying sha256 digest ⠴ \u001b[?25h\u001b[?25l\u001b[2K\u001b[1G\u001b[A\u001b[2K\u001b[1G\u001b[A\u001b[2K\u001b[1G\u001b[A\u001b[2K\u001b[1G\u001b[A\u001b[2K\u001b[1G\u001b[A\u001b[2K\u001b[1G\u001b[A\u001b[2K\u001b[1Gpulling manifest \n",
            "pulling 64e8f4d6856f... 100% ▕▏ 7.9 GB                         \n",
            "pulling fa8235e5b48f... 100% ▕▏ 1.1 KB                         \n",
            "pulling 542b217f179c... 100% ▕▏  148 B                         \n",
            "pulling 8dde1baf1db0... 100% ▕▏   78 B                         \n",
            "pulling c96afb4d9900... 100% ▕▏  484 B                         \n",
            "verifying sha256 digest ⠦ \u001b[?25h\u001b[?25l\u001b[2K\u001b[1G\u001b[A\u001b[2K\u001b[1G\u001b[A\u001b[2K\u001b[1G\u001b[A\u001b[2K\u001b[1G\u001b[A\u001b[2K\u001b[1G\u001b[A\u001b[2K\u001b[1G\u001b[A\u001b[2K\u001b[1Gpulling manifest \n",
            "pulling 64e8f4d6856f... 100% ▕▏ 7.9 GB                         \n",
            "pulling fa8235e5b48f... 100% ▕▏ 1.1 KB                         \n",
            "pulling 542b217f179c... 100% ▕▏  148 B                         \n",
            "pulling 8dde1baf1db0... 100% ▕▏   78 B                         \n",
            "pulling c96afb4d9900... 100% ▕▏  484 B                         \n",
            "verifying sha256 digest ⠧ \u001b[?25h\u001b[?25l\u001b[2K\u001b[1G\u001b[A\u001b[2K\u001b[1G\u001b[A\u001b[2K\u001b[1G\u001b[A\u001b[2K\u001b[1G\u001b[A\u001b[2K\u001b[1G\u001b[A\u001b[2K\u001b[1G\u001b[A\u001b[2K\u001b[1Gpulling manifest \n",
            "pulling 64e8f4d6856f... 100% ▕▏ 7.9 GB                         \n",
            "pulling fa8235e5b48f... 100% ▕▏ 1.1 KB                         \n",
            "pulling 542b217f179c... 100% ▕▏  148 B                         \n",
            "pulling 8dde1baf1db0... 100% ▕▏   78 B                         \n",
            "pulling c96afb4d9900... 100% ▕▏  484 B                         \n",
            "verifying sha256 digest ⠇ \u001b[?25h\u001b[?25l\u001b[2K\u001b[1G\u001b[A\u001b[2K\u001b[1G\u001b[A\u001b[2K\u001b[1G\u001b[A\u001b[2K\u001b[1G\u001b[A\u001b[2K\u001b[1G\u001b[A\u001b[2K\u001b[1G\u001b[A\u001b[2K\u001b[1Gpulling manifest \n",
            "pulling 64e8f4d6856f... 100% ▕▏ 7.9 GB                         \n",
            "pulling fa8235e5b48f... 100% ▕▏ 1.1 KB                         \n",
            "pulling 542b217f179c... 100% ▕▏  148 B                         \n",
            "pulling 8dde1baf1db0... 100% ▕▏   78 B                         \n",
            "pulling c96afb4d9900... 100% ▕▏  484 B                         \n",
            "verifying sha256 digest ⠏ \u001b[?25h\u001b[?25l\u001b[2K\u001b[1G\u001b[A\u001b[2K\u001b[1G\u001b[A\u001b[2K\u001b[1G\u001b[A\u001b[2K\u001b[1G\u001b[A\u001b[2K\u001b[1G\u001b[A\u001b[2K\u001b[1G\u001b[A\u001b[2K\u001b[1Gpulling manifest \n",
            "pulling 64e8f4d6856f... 100% ▕▏ 7.9 GB                         \n",
            "pulling fa8235e5b48f... 100% ▕▏ 1.1 KB                         \n",
            "pulling 542b217f179c... 100% ▕▏  148 B                         \n",
            "pulling 8dde1baf1db0... 100% ▕▏   78 B                         \n",
            "pulling c96afb4d9900... 100% ▕▏  484 B                         \n",
            "verifying sha256 digest ⠋ \u001b[?25h\u001b[?25l\u001b[2K\u001b[1G\u001b[A\u001b[2K\u001b[1G\u001b[A\u001b[2K\u001b[1G\u001b[A\u001b[2K\u001b[1G\u001b[A\u001b[2K\u001b[1G\u001b[A\u001b[2K\u001b[1G\u001b[A\u001b[2K\u001b[1Gpulling manifest \n",
            "pulling 64e8f4d6856f... 100% ▕▏ 7.9 GB                         \n",
            "pulling fa8235e5b48f... 100% ▕▏ 1.1 KB                         \n",
            "pulling 542b217f179c... 100% ▕▏  148 B                         \n",
            "pulling 8dde1baf1db0... 100% ▕▏   78 B                         \n",
            "pulling c96afb4d9900... 100% ▕▏  484 B                         \n",
            "verifying sha256 digest ⠙ \u001b[?25h\u001b[?25l\u001b[2K\u001b[1G\u001b[A\u001b[2K\u001b[1G\u001b[A\u001b[2K\u001b[1G\u001b[A\u001b[2K\u001b[1G\u001b[A\u001b[2K\u001b[1G\u001b[A\u001b[2K\u001b[1G\u001b[A\u001b[2K\u001b[1Gpulling manifest \n",
            "pulling 64e8f4d6856f... 100% ▕▏ 7.9 GB                         \n",
            "pulling fa8235e5b48f... 100% ▕▏ 1.1 KB                         \n",
            "pulling 542b217f179c... 100% ▕▏  148 B                         \n",
            "pulling 8dde1baf1db0... 100% ▕▏   78 B                         \n",
            "pulling c96afb4d9900... 100% ▕▏  484 B                         \n",
            "verifying sha256 digest ⠹ \u001b[?25h\u001b[?25l\u001b[2K\u001b[1G\u001b[A\u001b[2K\u001b[1G\u001b[A\u001b[2K\u001b[1G\u001b[A\u001b[2K\u001b[1G\u001b[A\u001b[2K\u001b[1G\u001b[A\u001b[2K\u001b[1G\u001b[A\u001b[2K\u001b[1Gpulling manifest \n",
            "pulling 64e8f4d6856f... 100% ▕▏ 7.9 GB                         \n",
            "pulling fa8235e5b48f... 100% ▕▏ 1.1 KB                         \n",
            "pulling 542b217f179c... 100% ▕▏  148 B                         \n",
            "pulling 8dde1baf1db0... 100% ▕▏   78 B                         \n",
            "pulling c96afb4d9900... 100% ▕▏  484 B                         \n",
            "verifying sha256 digest ⠸ \u001b[?25h\u001b[?25l\u001b[2K\u001b[1G\u001b[A\u001b[2K\u001b[1G\u001b[A\u001b[2K\u001b[1G\u001b[A\u001b[2K\u001b[1G\u001b[A\u001b[2K\u001b[1G\u001b[A\u001b[2K\u001b[1G\u001b[A\u001b[2K\u001b[1Gpulling manifest \n",
            "pulling 64e8f4d6856f... 100% ▕▏ 7.9 GB                         \n",
            "pulling fa8235e5b48f... 100% ▕▏ 1.1 KB                         \n",
            "pulling 542b217f179c... 100% ▕▏  148 B                         \n",
            "pulling 8dde1baf1db0... 100% ▕▏   78 B                         \n",
            "pulling c96afb4d9900... 100% ▕▏  484 B                         \n",
            "verifying sha256 digest ⠼ \u001b[?25h\u001b[?25l\u001b[2K\u001b[1G\u001b[A\u001b[2K\u001b[1G\u001b[A\u001b[2K\u001b[1G\u001b[A\u001b[2K\u001b[1G\u001b[A\u001b[2K\u001b[1G\u001b[A\u001b[2K\u001b[1G\u001b[A\u001b[2K\u001b[1Gpulling manifest \n",
            "pulling 64e8f4d6856f... 100% ▕▏ 7.9 GB                         \n",
            "pulling fa8235e5b48f... 100% ▕▏ 1.1 KB                         \n",
            "pulling 542b217f179c... 100% ▕▏  148 B                         \n",
            "pulling 8dde1baf1db0... 100% ▕▏   78 B                         \n",
            "pulling c96afb4d9900... 100% ▕▏  484 B                         \n",
            "verifying sha256 digest ⠴ \u001b[?25h\u001b[?25l\u001b[2K\u001b[1G\u001b[A\u001b[2K\u001b[1G\u001b[A\u001b[2K\u001b[1G\u001b[A\u001b[2K\u001b[1G\u001b[A\u001b[2K\u001b[1G\u001b[A\u001b[2K\u001b[1G\u001b[A\u001b[2K\u001b[1Gpulling manifest \n",
            "pulling 64e8f4d6856f... 100% ▕▏ 7.9 GB                         \n",
            "pulling fa8235e5b48f... 100% ▕▏ 1.1 KB                         \n",
            "pulling 542b217f179c... 100% ▕▏  148 B                         \n",
            "pulling 8dde1baf1db0... 100% ▕▏   78 B                         \n",
            "pulling c96afb4d9900... 100% ▕▏  484 B                         \n",
            "verifying sha256 digest ⠦ \u001b[?25h\u001b[?25l\u001b[2K\u001b[1G\u001b[A\u001b[2K\u001b[1G\u001b[A\u001b[2K\u001b[1G\u001b[A\u001b[2K\u001b[1G\u001b[A\u001b[2K\u001b[1G\u001b[A\u001b[2K\u001b[1G\u001b[A\u001b[2K\u001b[1Gpulling manifest \n",
            "pulling 64e8f4d6856f... 100% ▕▏ 7.9 GB                         \n",
            "pulling fa8235e5b48f... 100% ▕▏ 1.1 KB                         \n",
            "pulling 542b217f179c... 100% ▕▏  148 B                         \n",
            "pulling 8dde1baf1db0... 100% ▕▏   78 B                         \n",
            "pulling c96afb4d9900... 100% ▕▏  484 B                         \n",
            "verifying sha256 digest ⠧ \u001b[?25h\u001b[?25l\u001b[2K\u001b[1G\u001b[A\u001b[2K\u001b[1G\u001b[A\u001b[2K\u001b[1G\u001b[A\u001b[2K\u001b[1G\u001b[A\u001b[2K\u001b[1G\u001b[A\u001b[2K\u001b[1G\u001b[A\u001b[2K\u001b[1Gpulling manifest \n",
            "pulling 64e8f4d6856f... 100% ▕▏ 7.9 GB                         \n",
            "pulling fa8235e5b48f... 100% ▕▏ 1.1 KB                         \n",
            "pulling 542b217f179c... 100% ▕▏  148 B                         \n",
            "pulling 8dde1baf1db0... 100% ▕▏   78 B                         \n",
            "pulling c96afb4d9900... 100% ▕▏  484 B                         \n",
            "verifying sha256 digest ⠇ \u001b[?25h\u001b[?25l\u001b[2K\u001b[1G\u001b[A\u001b[2K\u001b[1G\u001b[A\u001b[2K\u001b[1G\u001b[A\u001b[2K\u001b[1G\u001b[A\u001b[2K\u001b[1G\u001b[A\u001b[2K\u001b[1G\u001b[A\u001b[2K\u001b[1Gpulling manifest \n",
            "pulling 64e8f4d6856f... 100% ▕▏ 7.9 GB                         \n",
            "pulling fa8235e5b48f... 100% ▕▏ 1.1 KB                         \n",
            "pulling 542b217f179c... 100% ▕▏  148 B                         \n",
            "pulling 8dde1baf1db0... 100% ▕▏   78 B                         \n",
            "pulling c96afb4d9900... 100% ▕▏  484 B                         \n",
            "verifying sha256 digest ⠏ \u001b[?25h\u001b[?25l\u001b[2K\u001b[1G\u001b[A\u001b[2K\u001b[1G\u001b[A\u001b[2K\u001b[1G\u001b[A\u001b[2K\u001b[1G\u001b[A\u001b[2K\u001b[1G\u001b[A\u001b[2K\u001b[1G\u001b[A\u001b[2K\u001b[1Gpulling manifest \n",
            "pulling 64e8f4d6856f... 100% ▕▏ 7.9 GB                         \n",
            "pulling fa8235e5b48f... 100% ▕▏ 1.1 KB                         \n",
            "pulling 542b217f179c... 100% ▕▏  148 B                         \n",
            "pulling 8dde1baf1db0... 100% ▕▏   78 B                         \n",
            "pulling c96afb4d9900... 100% ▕▏  484 B                         \n",
            "verifying sha256 digest ⠋ \u001b[?25h\u001b[?25l\u001b[2K\u001b[1G\u001b[A\u001b[2K\u001b[1G\u001b[A\u001b[2K\u001b[1G\u001b[A\u001b[2K\u001b[1G\u001b[A\u001b[2K\u001b[1G\u001b[A\u001b[2K\u001b[1G\u001b[A\u001b[2K\u001b[1Gpulling manifest \n",
            "pulling 64e8f4d6856f... 100% ▕▏ 7.9 GB                         \n",
            "pulling fa8235e5b48f... 100% ▕▏ 1.1 KB                         \n",
            "pulling 542b217f179c... 100% ▕▏  148 B                         \n",
            "pulling 8dde1baf1db0... 100% ▕▏   78 B                         \n",
            "pulling c96afb4d9900... 100% ▕▏  484 B                         \n",
            "verifying sha256 digest ⠙ \u001b[?25h\u001b[?25l\u001b[2K\u001b[1G\u001b[A\u001b[2K\u001b[1G\u001b[A\u001b[2K\u001b[1G\u001b[A\u001b[2K\u001b[1G\u001b[A\u001b[2K\u001b[1G\u001b[A\u001b[2K\u001b[1G\u001b[A\u001b[2K\u001b[1Gpulling manifest \n",
            "pulling 64e8f4d6856f... 100% ▕▏ 7.9 GB                         \n",
            "pulling fa8235e5b48f... 100% ▕▏ 1.1 KB                         \n",
            "pulling 542b217f179c... 100% ▕▏  148 B                         \n",
            "pulling 8dde1baf1db0... 100% ▕▏   78 B                         \n",
            "pulling c96afb4d9900... 100% ▕▏  484 B                         \n",
            "verifying sha256 digest ⠹ \u001b[?25h\u001b[?25l\u001b[2K\u001b[1G\u001b[A\u001b[2K\u001b[1G\u001b[A\u001b[2K\u001b[1G\u001b[A\u001b[2K\u001b[1G\u001b[A\u001b[2K\u001b[1G\u001b[A\u001b[2K\u001b[1G\u001b[A\u001b[2K\u001b[1Gpulling manifest \n",
            "pulling 64e8f4d6856f... 100% ▕▏ 7.9 GB                         \n",
            "pulling fa8235e5b48f... 100% ▕▏ 1.1 KB                         \n",
            "pulling 542b217f179c... 100% ▕▏  148 B                         \n",
            "pulling 8dde1baf1db0... 100% ▕▏   78 B                         \n",
            "pulling c96afb4d9900... 100% ▕▏  484 B                         \n",
            "verifying sha256 digest ⠸ \u001b[?25h\u001b[?25l\u001b[2K\u001b[1G\u001b[A\u001b[2K\u001b[1G\u001b[A\u001b[2K\u001b[1G\u001b[A\u001b[2K\u001b[1G\u001b[A\u001b[2K\u001b[1G\u001b[A\u001b[2K\u001b[1G\u001b[A\u001b[2K\u001b[1Gpulling manifest \n",
            "pulling 64e8f4d6856f... 100% ▕▏ 7.9 GB                         \n",
            "pulling fa8235e5b48f... 100% ▕▏ 1.1 KB                         \n",
            "pulling 542b217f179c... 100% ▕▏  148 B                         \n",
            "pulling 8dde1baf1db0... 100% ▕▏   78 B                         \n",
            "pulling c96afb4d9900... 100% ▕▏  484 B                         \n",
            "verifying sha256 digest ⠼ \u001b[?25h\u001b[?25l\u001b[2K\u001b[1G\u001b[A\u001b[2K\u001b[1G\u001b[A\u001b[2K\u001b[1G\u001b[A\u001b[2K\u001b[1G\u001b[A\u001b[2K\u001b[1G\u001b[A\u001b[2K\u001b[1G\u001b[A\u001b[2K\u001b[1Gpulling manifest \n",
            "pulling 64e8f4d6856f... 100% ▕▏ 7.9 GB                         \n",
            "pulling fa8235e5b48f... 100% ▕▏ 1.1 KB                         \n",
            "pulling 542b217f179c... 100% ▕▏  148 B                         \n",
            "pulling 8dde1baf1db0... 100% ▕▏   78 B                         \n",
            "pulling c96afb4d9900... 100% ▕▏  484 B                         \n",
            "verifying sha256 digest ⠴ \u001b[?25h\u001b[?25l\u001b[2K\u001b[1G\u001b[A\u001b[2K\u001b[1G\u001b[A\u001b[2K\u001b[1G\u001b[A\u001b[2K\u001b[1G\u001b[A\u001b[2K\u001b[1G\u001b[A\u001b[2K\u001b[1G\u001b[A\u001b[2K\u001b[1Gpulling manifest \n",
            "pulling 64e8f4d6856f... 100% ▕▏ 7.9 GB                         \n",
            "pulling fa8235e5b48f... 100% ▕▏ 1.1 KB                         \n",
            "pulling 542b217f179c... 100% ▕▏  148 B                         \n",
            "pulling 8dde1baf1db0... 100% ▕▏   78 B                         \n",
            "pulling c96afb4d9900... 100% ▕▏  484 B                         \n",
            "verifying sha256 digest ⠦ \u001b[?25h\u001b[?25l\u001b[2K\u001b[1G\u001b[A\u001b[2K\u001b[1G\u001b[A\u001b[2K\u001b[1G\u001b[A\u001b[2K\u001b[1G\u001b[A\u001b[2K\u001b[1G\u001b[A\u001b[2K\u001b[1G\u001b[A\u001b[2K\u001b[1Gpulling manifest \n",
            "pulling 64e8f4d6856f... 100% ▕▏ 7.9 GB                         \n",
            "pulling fa8235e5b48f... 100% ▕▏ 1.1 KB                         \n",
            "pulling 542b217f179c... 100% ▕▏  148 B                         \n",
            "pulling 8dde1baf1db0... 100% ▕▏   78 B                         \n",
            "pulling c96afb4d9900... 100% ▕▏  484 B                         \n",
            "verifying sha256 digest ⠧ \u001b[?25h\u001b[?25l\u001b[2K\u001b[1G\u001b[A\u001b[2K\u001b[1G\u001b[A\u001b[2K\u001b[1G\u001b[A\u001b[2K\u001b[1G\u001b[A\u001b[2K\u001b[1G\u001b[A\u001b[2K\u001b[1G\u001b[A\u001b[2K\u001b[1Gpulling manifest \n",
            "pulling 64e8f4d6856f... 100% ▕▏ 7.9 GB                         \n",
            "pulling fa8235e5b48f... 100% ▕▏ 1.1 KB                         \n",
            "pulling 542b217f179c... 100% ▕▏  148 B                         \n",
            "pulling 8dde1baf1db0... 100% ▕▏   78 B                         \n",
            "pulling c96afb4d9900... 100% ▕▏  484 B                         \n",
            "verifying sha256 digest ⠇ \u001b[?25h\u001b[?25l\u001b[2K\u001b[1G\u001b[A\u001b[2K\u001b[1G\u001b[A\u001b[2K\u001b[1G\u001b[A\u001b[2K\u001b[1G\u001b[A\u001b[2K\u001b[1G\u001b[A\u001b[2K\u001b[1G\u001b[A\u001b[2K\u001b[1Gpulling manifest \n",
            "pulling 64e8f4d6856f... 100% ▕▏ 7.9 GB                         \n",
            "pulling fa8235e5b48f... 100% ▕▏ 1.1 KB                         \n",
            "pulling 542b217f179c... 100% ▕▏  148 B                         \n",
            "pulling 8dde1baf1db0... 100% ▕▏   78 B                         \n",
            "pulling c96afb4d9900... 100% ▕▏  484 B                         \n",
            "verifying sha256 digest ⠏ \u001b[?25h\u001b[?25l\u001b[2K\u001b[1G\u001b[A\u001b[2K\u001b[1G\u001b[A\u001b[2K\u001b[1G\u001b[A\u001b[2K\u001b[1G\u001b[A\u001b[2K\u001b[1G\u001b[A\u001b[2K\u001b[1G\u001b[A\u001b[2K\u001b[1Gpulling manifest \n",
            "pulling 64e8f4d6856f... 100% ▕▏ 7.9 GB                         \n",
            "pulling fa8235e5b48f... 100% ▕▏ 1.1 KB                         \n",
            "pulling 542b217f179c... 100% ▕▏  148 B                         \n",
            "pulling 8dde1baf1db0... 100% ▕▏   78 B                         \n",
            "pulling c96afb4d9900... 100% ▕▏  484 B                         \n",
            "verifying sha256 digest ⠋ \u001b[?25h\u001b[?25l\u001b[2K\u001b[1G\u001b[A\u001b[2K\u001b[1G\u001b[A\u001b[2K\u001b[1G\u001b[A\u001b[2K\u001b[1G\u001b[A\u001b[2K\u001b[1G\u001b[A\u001b[2K\u001b[1G\u001b[A\u001b[2K\u001b[1Gpulling manifest \n",
            "pulling 64e8f4d6856f... 100% ▕▏ 7.9 GB                         \n",
            "pulling fa8235e5b48f... 100% ▕▏ 1.1 KB                         \n",
            "pulling 542b217f179c... 100% ▕▏  148 B                         \n",
            "pulling 8dde1baf1db0... 100% ▕▏   78 B                         \n",
            "pulling c96afb4d9900... 100% ▕▏  484 B                         \n",
            "verifying sha256 digest ⠙ \u001b[?25h\u001b[?25l\u001b[2K\u001b[1G\u001b[A\u001b[2K\u001b[1G\u001b[A\u001b[2K\u001b[1G\u001b[A\u001b[2K\u001b[1G\u001b[A\u001b[2K\u001b[1G\u001b[A\u001b[2K\u001b[1G\u001b[A\u001b[2K\u001b[1Gpulling manifest \n",
            "pulling 64e8f4d6856f... 100% ▕▏ 7.9 GB                         \n",
            "pulling fa8235e5b48f... 100% ▕▏ 1.1 KB                         \n",
            "pulling 542b217f179c... 100% ▕▏  148 B                         \n",
            "pulling 8dde1baf1db0... 100% ▕▏   78 B                         \n",
            "pulling c96afb4d9900... 100% ▕▏  484 B                         \n",
            "verifying sha256 digest ⠹ \u001b[?25h\u001b[?25l\u001b[2K\u001b[1G\u001b[A\u001b[2K\u001b[1G\u001b[A\u001b[2K\u001b[1G\u001b[A\u001b[2K\u001b[1G\u001b[A\u001b[2K\u001b[1G\u001b[A\u001b[2K\u001b[1G\u001b[A\u001b[2K\u001b[1Gpulling manifest \n",
            "pulling 64e8f4d6856f... 100% ▕▏ 7.9 GB                         \n",
            "pulling fa8235e5b48f... 100% ▕▏ 1.1 KB                         \n",
            "pulling 542b217f179c... 100% ▕▏  148 B                         \n",
            "pulling 8dde1baf1db0... 100% ▕▏   78 B                         \n",
            "pulling c96afb4d9900... 100% ▕▏  484 B                         \n",
            "verifying sha256 digest ⠸ \u001b[?25h\u001b[?25l\u001b[2K\u001b[1G\u001b[A\u001b[2K\u001b[1G\u001b[A\u001b[2K\u001b[1G\u001b[A\u001b[2K\u001b[1G\u001b[A\u001b[2K\u001b[1G\u001b[A\u001b[2K\u001b[1G\u001b[A\u001b[2K\u001b[1Gpulling manifest \n",
            "pulling 64e8f4d6856f... 100% ▕▏ 7.9 GB                         \n",
            "pulling fa8235e5b48f... 100% ▕▏ 1.1 KB                         \n",
            "pulling 542b217f179c... 100% ▕▏  148 B                         \n",
            "pulling 8dde1baf1db0... 100% ▕▏   78 B                         \n",
            "pulling c96afb4d9900... 100% ▕▏  484 B                         \n",
            "verifying sha256 digest ⠼ \u001b[?25h\u001b[?25l\u001b[2K\u001b[1G\u001b[A\u001b[2K\u001b[1G\u001b[A\u001b[2K\u001b[1G\u001b[A\u001b[2K\u001b[1G\u001b[A\u001b[2K\u001b[1G\u001b[A\u001b[2K\u001b[1G\u001b[A\u001b[2K\u001b[1Gpulling manifest \n",
            "pulling 64e8f4d6856f... 100% ▕▏ 7.9 GB                         \n",
            "pulling fa8235e5b48f... 100% ▕▏ 1.1 KB                         \n",
            "pulling 542b217f179c... 100% ▕▏  148 B                         \n",
            "pulling 8dde1baf1db0... 100% ▕▏   78 B                         \n",
            "pulling c96afb4d9900... 100% ▕▏  484 B                         \n",
            "verifying sha256 digest ⠴ \u001b[?25h\u001b[?25l\u001b[2K\u001b[1G\u001b[A\u001b[2K\u001b[1G\u001b[A\u001b[2K\u001b[1G\u001b[A\u001b[2K\u001b[1G\u001b[A\u001b[2K\u001b[1G\u001b[A\u001b[2K\u001b[1G\u001b[A\u001b[2K\u001b[1Gpulling manifest \n",
            "pulling 64e8f4d6856f... 100% ▕▏ 7.9 GB                         \n",
            "pulling fa8235e5b48f... 100% ▕▏ 1.1 KB                         \n",
            "pulling 542b217f179c... 100% ▕▏  148 B                         \n",
            "pulling 8dde1baf1db0... 100% ▕▏   78 B                         \n",
            "pulling c96afb4d9900... 100% ▕▏  484 B                         \n",
            "verifying sha256 digest ⠦ \u001b[?25h\u001b[?25l\u001b[2K\u001b[1G\u001b[A\u001b[2K\u001b[1G\u001b[A\u001b[2K\u001b[1G\u001b[A\u001b[2K\u001b[1G\u001b[A\u001b[2K\u001b[1G\u001b[A\u001b[2K\u001b[1G\u001b[A\u001b[2K\u001b[1Gpulling manifest \n",
            "pulling 64e8f4d6856f... 100% ▕▏ 7.9 GB                         \n",
            "pulling fa8235e5b48f... 100% ▕▏ 1.1 KB                         \n",
            "pulling 542b217f179c... 100% ▕▏  148 B                         \n",
            "pulling 8dde1baf1db0... 100% ▕▏   78 B                         \n",
            "pulling c96afb4d9900... 100% ▕▏  484 B                         \n",
            "verifying sha256 digest ⠧ \u001b[?25h\u001b[?25l\u001b[2K\u001b[1G\u001b[A\u001b[2K\u001b[1G\u001b[A\u001b[2K\u001b[1G\u001b[A\u001b[2K\u001b[1G\u001b[A\u001b[2K\u001b[1G\u001b[A\u001b[2K\u001b[1G\u001b[A\u001b[2K\u001b[1Gpulling manifest \n",
            "pulling 64e8f4d6856f... 100% ▕▏ 7.9 GB                         \n",
            "pulling fa8235e5b48f... 100% ▕▏ 1.1 KB                         \n",
            "pulling 542b217f179c... 100% ▕▏  148 B                         \n",
            "pulling 8dde1baf1db0... 100% ▕▏   78 B                         \n",
            "pulling c96afb4d9900... 100% ▕▏  484 B                         \n",
            "verifying sha256 digest ⠇ \u001b[?25h\u001b[?25l\u001b[2K\u001b[1G\u001b[A\u001b[2K\u001b[1G\u001b[A\u001b[2K\u001b[1G\u001b[A\u001b[2K\u001b[1G\u001b[A\u001b[2K\u001b[1G\u001b[A\u001b[2K\u001b[1G\u001b[A\u001b[2K\u001b[1Gpulling manifest \n",
            "pulling 64e8f4d6856f... 100% ▕▏ 7.9 GB                         \n",
            "pulling fa8235e5b48f... 100% ▕▏ 1.1 KB                         \n",
            "pulling 542b217f179c... 100% ▕▏  148 B                         \n",
            "pulling 8dde1baf1db0... 100% ▕▏   78 B                         \n",
            "pulling c96afb4d9900... 100% ▕▏  484 B                         \n",
            "verifying sha256 digest ⠏ \u001b[?25h\u001b[?25l\u001b[2K\u001b[1G\u001b[A\u001b[2K\u001b[1G\u001b[A\u001b[2K\u001b[1G\u001b[A\u001b[2K\u001b[1G\u001b[A\u001b[2K\u001b[1G\u001b[A\u001b[2K\u001b[1G\u001b[A\u001b[2K\u001b[1Gpulling manifest \n",
            "pulling 64e8f4d6856f... 100% ▕▏ 7.9 GB                         \n",
            "pulling fa8235e5b48f... 100% ▕▏ 1.1 KB                         \n",
            "pulling 542b217f179c... 100% ▕▏  148 B                         \n",
            "pulling 8dde1baf1db0... 100% ▕▏   78 B                         \n",
            "pulling c96afb4d9900... 100% ▕▏  484 B                         \n",
            "verifying sha256 digest ⠋ \u001b[?25h\u001b[?25l\u001b[2K\u001b[1G\u001b[A\u001b[2K\u001b[1G\u001b[A\u001b[2K\u001b[1G\u001b[A\u001b[2K\u001b[1G\u001b[A\u001b[2K\u001b[1G\u001b[A\u001b[2K\u001b[1G\u001b[A\u001b[2K\u001b[1Gpulling manifest \n",
            "pulling 64e8f4d6856f... 100% ▕▏ 7.9 GB                         \n",
            "pulling fa8235e5b48f... 100% ▕▏ 1.1 KB                         \n",
            "pulling 542b217f179c... 100% ▕▏  148 B                         \n",
            "pulling 8dde1baf1db0... 100% ▕▏   78 B                         \n",
            "pulling c96afb4d9900... 100% ▕▏  484 B                         \n",
            "verifying sha256 digest ⠙ \u001b[?25h\u001b[?25l\u001b[2K\u001b[1G\u001b[A\u001b[2K\u001b[1G\u001b[A\u001b[2K\u001b[1G\u001b[A\u001b[2K\u001b[1G\u001b[A\u001b[2K\u001b[1G\u001b[A\u001b[2K\u001b[1G\u001b[A\u001b[2K\u001b[1Gpulling manifest \n",
            "pulling 64e8f4d6856f... 100% ▕▏ 7.9 GB                         \n",
            "pulling fa8235e5b48f... 100% ▕▏ 1.1 KB                         \n",
            "pulling 542b217f179c... 100% ▕▏  148 B                         \n",
            "pulling 8dde1baf1db0... 100% ▕▏   78 B                         \n",
            "pulling c96afb4d9900... 100% ▕▏  484 B                         \n",
            "verifying sha256 digest ⠹ \u001b[?25h\u001b[?25l\u001b[2K\u001b[1G\u001b[A\u001b[2K\u001b[1G\u001b[A\u001b[2K\u001b[1G\u001b[A\u001b[2K\u001b[1G\u001b[A\u001b[2K\u001b[1G\u001b[A\u001b[2K\u001b[1G\u001b[A\u001b[2K\u001b[1Gpulling manifest \n",
            "pulling 64e8f4d6856f... 100% ▕▏ 7.9 GB                         \n",
            "pulling fa8235e5b48f... 100% ▕▏ 1.1 KB                         \n",
            "pulling 542b217f179c... 100% ▕▏  148 B                         \n",
            "pulling 8dde1baf1db0... 100% ▕▏   78 B                         \n",
            "pulling c96afb4d9900... 100% ▕▏  484 B                         \n",
            "verifying sha256 digest ⠸ \u001b[?25h\u001b[?25l\u001b[2K\u001b[1G\u001b[A\u001b[2K\u001b[1G\u001b[A\u001b[2K\u001b[1G\u001b[A\u001b[2K\u001b[1G\u001b[A\u001b[2K\u001b[1G\u001b[A\u001b[2K\u001b[1G\u001b[A\u001b[2K\u001b[1Gpulling manifest \n",
            "pulling 64e8f4d6856f... 100% ▕▏ 7.9 GB                         \n",
            "pulling fa8235e5b48f... 100% ▕▏ 1.1 KB                         \n",
            "pulling 542b217f179c... 100% ▕▏  148 B                         \n",
            "pulling 8dde1baf1db0... 100% ▕▏   78 B                         \n",
            "pulling c96afb4d9900... 100% ▕▏  484 B                         \n",
            "verifying sha256 digest ⠼ \u001b[?25h\u001b[?25l\u001b[2K\u001b[1G\u001b[A\u001b[2K\u001b[1G\u001b[A\u001b[2K\u001b[1G\u001b[A\u001b[2K\u001b[1G\u001b[A\u001b[2K\u001b[1G\u001b[A\u001b[2K\u001b[1G\u001b[A\u001b[2K\u001b[1Gpulling manifest \n",
            "pulling 64e8f4d6856f... 100% ▕▏ 7.9 GB                         \n",
            "pulling fa8235e5b48f... 100% ▕▏ 1.1 KB                         \n",
            "pulling 542b217f179c... 100% ▕▏  148 B                         \n",
            "pulling 8dde1baf1db0... 100% ▕▏   78 B                         \n",
            "pulling c96afb4d9900... 100% ▕▏  484 B                         \n",
            "verifying sha256 digest ⠴ \u001b[?25h\u001b[?25l\u001b[2K\u001b[1G\u001b[A\u001b[2K\u001b[1G\u001b[A\u001b[2K\u001b[1G\u001b[A\u001b[2K\u001b[1G\u001b[A\u001b[2K\u001b[1G\u001b[A\u001b[2K\u001b[1G\u001b[A\u001b[2K\u001b[1Gpulling manifest \n",
            "pulling 64e8f4d6856f... 100% ▕▏ 7.9 GB                         \n",
            "pulling fa8235e5b48f... 100% ▕▏ 1.1 KB                         \n",
            "pulling 542b217f179c... 100% ▕▏  148 B                         \n",
            "pulling 8dde1baf1db0... 100% ▕▏   78 B                         \n",
            "pulling c96afb4d9900... 100% ▕▏  484 B                         \n",
            "verifying sha256 digest ⠦ \u001b[?25h\u001b[?25l\u001b[2K\u001b[1G\u001b[A\u001b[2K\u001b[1G\u001b[A\u001b[2K\u001b[1G\u001b[A\u001b[2K\u001b[1G\u001b[A\u001b[2K\u001b[1G\u001b[A\u001b[2K\u001b[1G\u001b[A\u001b[2K\u001b[1Gpulling manifest \n",
            "pulling 64e8f4d6856f... 100% ▕▏ 7.9 GB                         \n",
            "pulling fa8235e5b48f... 100% ▕▏ 1.1 KB                         \n",
            "pulling 542b217f179c... 100% ▕▏  148 B                         \n",
            "pulling 8dde1baf1db0... 100% ▕▏   78 B                         \n",
            "pulling c96afb4d9900... 100% ▕▏  484 B                         \n",
            "verifying sha256 digest ⠧ \u001b[?25h\u001b[?25l\u001b[2K\u001b[1G\u001b[A\u001b[2K\u001b[1G\u001b[A\u001b[2K\u001b[1G\u001b[A\u001b[2K\u001b[1G\u001b[A\u001b[2K\u001b[1G\u001b[A\u001b[2K\u001b[1G\u001b[A\u001b[2K\u001b[1Gpulling manifest \n",
            "pulling 64e8f4d6856f... 100% ▕▏ 7.9 GB                         \n",
            "pulling fa8235e5b48f... 100% ▕▏ 1.1 KB                         \n",
            "pulling 542b217f179c... 100% ▕▏  148 B                         \n",
            "pulling 8dde1baf1db0... 100% ▕▏   78 B                         \n",
            "pulling c96afb4d9900... 100% ▕▏  484 B                         \n",
            "verifying sha256 digest ⠇ \u001b[?25h\u001b[?25l\u001b[2K\u001b[1G\u001b[A\u001b[2K\u001b[1G\u001b[A\u001b[2K\u001b[1G\u001b[A\u001b[2K\u001b[1G\u001b[A\u001b[2K\u001b[1G\u001b[A\u001b[2K\u001b[1G\u001b[A\u001b[2K\u001b[1Gpulling manifest \n",
            "pulling 64e8f4d6856f... 100% ▕▏ 7.9 GB                         \n",
            "pulling fa8235e5b48f... 100% ▕▏ 1.1 KB                         \n",
            "pulling 542b217f179c... 100% ▕▏  148 B                         \n",
            "pulling 8dde1baf1db0... 100% ▕▏   78 B                         \n",
            "pulling c96afb4d9900... 100% ▕▏  484 B                         \n",
            "verifying sha256 digest ⠏ \u001b[?25h\u001b[?25l\u001b[2K\u001b[1G\u001b[A\u001b[2K\u001b[1G\u001b[A\u001b[2K\u001b[1G\u001b[A\u001b[2K\u001b[1G\u001b[A\u001b[2K\u001b[1G\u001b[A\u001b[2K\u001b[1G\u001b[A\u001b[2K\u001b[1Gpulling manifest \n",
            "pulling 64e8f4d6856f... 100% ▕▏ 7.9 GB                         \n",
            "pulling fa8235e5b48f... 100% ▕▏ 1.1 KB                         \n",
            "pulling 542b217f179c... 100% ▕▏  148 B                         \n",
            "pulling 8dde1baf1db0... 100% ▕▏   78 B                         \n",
            "pulling c96afb4d9900... 100% ▕▏  484 B                         \n",
            "verifying sha256 digest ⠋ \u001b[?25h\u001b[?25l\u001b[2K\u001b[1G\u001b[A\u001b[2K\u001b[1G\u001b[A\u001b[2K\u001b[1G\u001b[A\u001b[2K\u001b[1G\u001b[A\u001b[2K\u001b[1G\u001b[A\u001b[2K\u001b[1G\u001b[A\u001b[2K\u001b[1Gpulling manifest \n",
            "pulling 64e8f4d6856f... 100% ▕▏ 7.9 GB                         \n",
            "pulling fa8235e5b48f... 100% ▕▏ 1.1 KB                         \n",
            "pulling 542b217f179c... 100% ▕▏  148 B                         \n",
            "pulling 8dde1baf1db0... 100% ▕▏   78 B                         \n",
            "pulling c96afb4d9900... 100% ▕▏  484 B                         \n",
            "verifying sha256 digest ⠙ \u001b[?25h\u001b[?25l\u001b[2K\u001b[1G\u001b[A\u001b[2K\u001b[1G\u001b[A\u001b[2K\u001b[1G\u001b[A\u001b[2K\u001b[1G\u001b[A\u001b[2K\u001b[1G\u001b[A\u001b[2K\u001b[1G\u001b[A\u001b[2K\u001b[1Gpulling manifest \n",
            "pulling 64e8f4d6856f... 100% ▕▏ 7.9 GB                         \n",
            "pulling fa8235e5b48f... 100% ▕▏ 1.1 KB                         \n",
            "pulling 542b217f179c... 100% ▕▏  148 B                         \n",
            "pulling 8dde1baf1db0... 100% ▕▏   78 B                         \n",
            "pulling c96afb4d9900... 100% ▕▏  484 B                         \n",
            "verifying sha256 digest ⠹ \u001b[?25h\u001b[?25l\u001b[2K\u001b[1G\u001b[A\u001b[2K\u001b[1G\u001b[A\u001b[2K\u001b[1G\u001b[A\u001b[2K\u001b[1G\u001b[A\u001b[2K\u001b[1G\u001b[A\u001b[2K\u001b[1G\u001b[A\u001b[2K\u001b[1Gpulling manifest \n",
            "pulling 64e8f4d6856f... 100% ▕▏ 7.9 GB                         \n",
            "pulling fa8235e5b48f... 100% ▕▏ 1.1 KB                         \n",
            "pulling 542b217f179c... 100% ▕▏  148 B                         \n",
            "pulling 8dde1baf1db0... 100% ▕▏   78 B                         \n",
            "pulling c96afb4d9900... 100% ▕▏  484 B                         \n",
            "verifying sha256 digest ⠸ \u001b[?25h\u001b[?25l\u001b[2K\u001b[1G\u001b[A\u001b[2K\u001b[1G\u001b[A\u001b[2K\u001b[1G\u001b[A\u001b[2K\u001b[1G\u001b[A\u001b[2K\u001b[1G\u001b[A\u001b[2K\u001b[1G\u001b[A\u001b[2K\u001b[1Gpulling manifest \n",
            "pulling 64e8f4d6856f... 100% ▕▏ 7.9 GB                         \n",
            "pulling fa8235e5b48f... 100% ▕▏ 1.1 KB                         \n",
            "pulling 542b217f179c... 100% ▕▏  148 B                         \n",
            "pulling 8dde1baf1db0... 100% ▕▏   78 B                         \n",
            "pulling c96afb4d9900... 100% ▕▏  484 B                         \n",
            "verifying sha256 digest ⠼ \u001b[?25h\u001b[?25l\u001b[2K\u001b[1G\u001b[A\u001b[2K\u001b[1G\u001b[A\u001b[2K\u001b[1G\u001b[A\u001b[2K\u001b[1G\u001b[A\u001b[2K\u001b[1G\u001b[A\u001b[2K\u001b[1G\u001b[A\u001b[2K\u001b[1Gpulling manifest \n",
            "pulling 64e8f4d6856f... 100% ▕▏ 7.9 GB                         \n",
            "pulling fa8235e5b48f... 100% ▕▏ 1.1 KB                         \n",
            "pulling 542b217f179c... 100% ▕▏  148 B                         \n",
            "pulling 8dde1baf1db0... 100% ▕▏   78 B                         \n",
            "pulling c96afb4d9900... 100% ▕▏  484 B                         \n",
            "verifying sha256 digest ⠴ \u001b[?25h\u001b[?25l\u001b[2K\u001b[1G\u001b[A\u001b[2K\u001b[1G\u001b[A\u001b[2K\u001b[1G\u001b[A\u001b[2K\u001b[1G\u001b[A\u001b[2K\u001b[1G\u001b[A\u001b[2K\u001b[1G\u001b[A\u001b[2K\u001b[1Gpulling manifest \n",
            "pulling 64e8f4d6856f... 100% ▕▏ 7.9 GB                         \n",
            "pulling fa8235e5b48f... 100% ▕▏ 1.1 KB                         \n",
            "pulling 542b217f179c... 100% ▕▏  148 B                         \n",
            "pulling 8dde1baf1db0... 100% ▕▏   78 B                         \n",
            "pulling c96afb4d9900... 100% ▕▏  484 B                         \n",
            "verifying sha256 digest ⠦ \u001b[?25h\u001b[?25l\u001b[2K\u001b[1G\u001b[A\u001b[2K\u001b[1G\u001b[A\u001b[2K\u001b[1G\u001b[A\u001b[2K\u001b[1G\u001b[A\u001b[2K\u001b[1G\u001b[A\u001b[2K\u001b[1G\u001b[A\u001b[2K\u001b[1Gpulling manifest \n",
            "pulling 64e8f4d6856f... 100% ▕▏ 7.9 GB                         \n",
            "pulling fa8235e5b48f... 100% ▕▏ 1.1 KB                         \n",
            "pulling 542b217f179c... 100% ▕▏  148 B                         \n",
            "pulling 8dde1baf1db0... 100% ▕▏   78 B                         \n",
            "pulling c96afb4d9900... 100% ▕▏  484 B                         \n",
            "verifying sha256 digest ⠧ \u001b[?25h\u001b[?25l\u001b[2K\u001b[1G\u001b[A\u001b[2K\u001b[1G\u001b[A\u001b[2K\u001b[1G\u001b[A\u001b[2K\u001b[1G\u001b[A\u001b[2K\u001b[1G\u001b[A\u001b[2K\u001b[1G\u001b[A\u001b[2K\u001b[1Gpulling manifest \n",
            "pulling 64e8f4d6856f... 100% ▕▏ 7.9 GB                         \n",
            "pulling fa8235e5b48f... 100% ▕▏ 1.1 KB                         \n",
            "pulling 542b217f179c... 100% ▕▏  148 B                         \n",
            "pulling 8dde1baf1db0... 100% ▕▏   78 B                         \n",
            "pulling c96afb4d9900... 100% ▕▏  484 B                         \n",
            "verifying sha256 digest ⠇ \u001b[?25h\u001b[?25l\u001b[2K\u001b[1G\u001b[A\u001b[2K\u001b[1G\u001b[A\u001b[2K\u001b[1G\u001b[A\u001b[2K\u001b[1G\u001b[A\u001b[2K\u001b[1G\u001b[A\u001b[2K\u001b[1G\u001b[A\u001b[2K\u001b[1Gpulling manifest \n",
            "pulling 64e8f4d6856f... 100% ▕▏ 7.9 GB                         \n",
            "pulling fa8235e5b48f... 100% ▕▏ 1.1 KB                         \n",
            "pulling 542b217f179c... 100% ▕▏  148 B                         \n",
            "pulling 8dde1baf1db0... 100% ▕▏   78 B                         \n",
            "pulling c96afb4d9900... 100% ▕▏  484 B                         \n",
            "verifying sha256 digest ⠏ \u001b[?25h\u001b[?25l\u001b[2K\u001b[1G\u001b[A\u001b[2K\u001b[1G\u001b[A\u001b[2K\u001b[1G\u001b[A\u001b[2K\u001b[1G\u001b[A\u001b[2K\u001b[1G\u001b[A\u001b[2K\u001b[1G\u001b[A\u001b[2K\u001b[1Gpulling manifest \n",
            "pulling 64e8f4d6856f... 100% ▕▏ 7.9 GB                         \n",
            "pulling fa8235e5b48f... 100% ▕▏ 1.1 KB                         \n",
            "pulling 542b217f179c... 100% ▕▏  148 B                         \n",
            "pulling 8dde1baf1db0... 100% ▕▏   78 B                         \n",
            "pulling c96afb4d9900... 100% ▕▏  484 B                         \n",
            "verifying sha256 digest ⠋ \u001b[?25h\u001b[?25l\u001b[2K\u001b[1G\u001b[A\u001b[2K\u001b[1G\u001b[A\u001b[2K\u001b[1G\u001b[A\u001b[2K\u001b[1G\u001b[A\u001b[2K\u001b[1G\u001b[A\u001b[2K\u001b[1G\u001b[A\u001b[2K\u001b[1Gpulling manifest \n",
            "pulling 64e8f4d6856f... 100% ▕▏ 7.9 GB                         \n",
            "pulling fa8235e5b48f... 100% ▕▏ 1.1 KB                         \n",
            "pulling 542b217f179c... 100% ▕▏  148 B                         \n",
            "pulling 8dde1baf1db0... 100% ▕▏   78 B                         \n",
            "pulling c96afb4d9900... 100% ▕▏  484 B                         \n",
            "verifying sha256 digest ⠙ \u001b[?25h\u001b[?25l\u001b[2K\u001b[1G\u001b[A\u001b[2K\u001b[1G\u001b[A\u001b[2K\u001b[1G\u001b[A\u001b[2K\u001b[1G\u001b[A\u001b[2K\u001b[1G\u001b[A\u001b[2K\u001b[1G\u001b[A\u001b[2K\u001b[1Gpulling manifest \n",
            "pulling 64e8f4d6856f... 100% ▕▏ 7.9 GB                         \n",
            "pulling fa8235e5b48f... 100% ▕▏ 1.1 KB                         \n",
            "pulling 542b217f179c... 100% ▕▏  148 B                         \n",
            "pulling 8dde1baf1db0... 100% ▕▏   78 B                         \n",
            "pulling c96afb4d9900... 100% ▕▏  484 B                         \n",
            "verifying sha256 digest ⠹ \u001b[?25h\u001b[?25l\u001b[2K\u001b[1G\u001b[A\u001b[2K\u001b[1G\u001b[A\u001b[2K\u001b[1G\u001b[A\u001b[2K\u001b[1G\u001b[A\u001b[2K\u001b[1G\u001b[A\u001b[2K\u001b[1G\u001b[A\u001b[2K\u001b[1Gpulling manifest \n",
            "pulling 64e8f4d6856f... 100% ▕▏ 7.9 GB                         \n",
            "pulling fa8235e5b48f... 100% ▕▏ 1.1 KB                         \n",
            "pulling 542b217f179c... 100% ▕▏  148 B                         \n",
            "pulling 8dde1baf1db0... 100% ▕▏   78 B                         \n",
            "pulling c96afb4d9900... 100% ▕▏  484 B                         \n",
            "verifying sha256 digest ⠸ \u001b[?25h\u001b[?25l\u001b[2K\u001b[1G\u001b[A\u001b[2K\u001b[1G\u001b[A\u001b[2K\u001b[1G\u001b[A\u001b[2K\u001b[1G\u001b[A\u001b[2K\u001b[1G\u001b[A\u001b[2K\u001b[1G\u001b[A\u001b[2K\u001b[1Gpulling manifest \n",
            "pulling 64e8f4d6856f... 100% ▕▏ 7.9 GB                         \n",
            "pulling fa8235e5b48f... 100% ▕▏ 1.1 KB                         \n",
            "pulling 542b217f179c... 100% ▕▏  148 B                         \n",
            "pulling 8dde1baf1db0... 100% ▕▏   78 B                         \n",
            "pulling c96afb4d9900... 100% ▕▏  484 B                         \n",
            "verifying sha256 digest ⠼ \u001b[?25h\u001b[?25l\u001b[2K\u001b[1G\u001b[A\u001b[2K\u001b[1G\u001b[A\u001b[2K\u001b[1G\u001b[A\u001b[2K\u001b[1G\u001b[A\u001b[2K\u001b[1G\u001b[A\u001b[2K\u001b[1G\u001b[A\u001b[2K\u001b[1Gpulling manifest \n",
            "pulling 64e8f4d6856f... 100% ▕▏ 7.9 GB                         \n",
            "pulling fa8235e5b48f... 100% ▕▏ 1.1 KB                         \n",
            "pulling 542b217f179c... 100% ▕▏  148 B                         \n",
            "pulling 8dde1baf1db0... 100% ▕▏   78 B                         \n",
            "pulling c96afb4d9900... 100% ▕▏  484 B                         \n",
            "verifying sha256 digest ⠴ \u001b[?25h\u001b[?25l\u001b[2K\u001b[1G\u001b[A\u001b[2K\u001b[1G\u001b[A\u001b[2K\u001b[1G\u001b[A\u001b[2K\u001b[1G\u001b[A\u001b[2K\u001b[1G\u001b[A\u001b[2K\u001b[1G\u001b[A\u001b[2K\u001b[1Gpulling manifest \n",
            "pulling 64e8f4d6856f... 100% ▕▏ 7.9 GB                         \n",
            "pulling fa8235e5b48f... 100% ▕▏ 1.1 KB                         \n",
            "pulling 542b217f179c... 100% ▕▏  148 B                         \n",
            "pulling 8dde1baf1db0... 100% ▕▏   78 B                         \n",
            "pulling c96afb4d9900... 100% ▕▏  484 B                         \n",
            "verifying sha256 digest ⠦ \u001b[?25h\u001b[?25l\u001b[2K\u001b[1G\u001b[A\u001b[2K\u001b[1G\u001b[A\u001b[2K\u001b[1G\u001b[A\u001b[2K\u001b[1G\u001b[A\u001b[2K\u001b[1G\u001b[A\u001b[2K\u001b[1G\u001b[A\u001b[2K\u001b[1Gpulling manifest \n",
            "pulling 64e8f4d6856f... 100% ▕▏ 7.9 GB                         \n",
            "pulling fa8235e5b48f... 100% ▕▏ 1.1 KB                         \n",
            "pulling 542b217f179c... 100% ▕▏  148 B                         \n",
            "pulling 8dde1baf1db0... 100% ▕▏   78 B                         \n",
            "pulling c96afb4d9900... 100% ▕▏  484 B                         \n",
            "verifying sha256 digest ⠧ \u001b[?25h\u001b[?25l\u001b[2K\u001b[1G\u001b[A\u001b[2K\u001b[1G\u001b[A\u001b[2K\u001b[1G\u001b[A\u001b[2K\u001b[1G\u001b[A\u001b[2K\u001b[1G\u001b[A\u001b[2K\u001b[1G\u001b[A\u001b[2K\u001b[1Gpulling manifest \n",
            "pulling 64e8f4d6856f... 100% ▕▏ 7.9 GB                         \n",
            "pulling fa8235e5b48f... 100% ▕▏ 1.1 KB                         \n",
            "pulling 542b217f179c... 100% ▕▏  148 B                         \n",
            "pulling 8dde1baf1db0... 100% ▕▏   78 B                         \n",
            "pulling c96afb4d9900... 100% ▕▏  484 B                         \n",
            "verifying sha256 digest ⠇ \u001b[?25h\u001b[?25l\u001b[2K\u001b[1G\u001b[A\u001b[2K\u001b[1G\u001b[A\u001b[2K\u001b[1G\u001b[A\u001b[2K\u001b[1G\u001b[A\u001b[2K\u001b[1G\u001b[A\u001b[2K\u001b[1G\u001b[A\u001b[2K\u001b[1Gpulling manifest \n",
            "pulling 64e8f4d6856f... 100% ▕▏ 7.9 GB                         \n",
            "pulling fa8235e5b48f... 100% ▕▏ 1.1 KB                         \n",
            "pulling 542b217f179c... 100% ▕▏  148 B                         \n",
            "pulling 8dde1baf1db0... 100% ▕▏   78 B                         \n",
            "pulling c96afb4d9900... 100% ▕▏  484 B                         \n",
            "verifying sha256 digest ⠏ \u001b[?25h\u001b[?25l\u001b[2K\u001b[1G\u001b[A\u001b[2K\u001b[1G\u001b[A\u001b[2K\u001b[1G\u001b[A\u001b[2K\u001b[1G\u001b[A\u001b[2K\u001b[1G\u001b[A\u001b[2K\u001b[1G\u001b[A\u001b[2K\u001b[1Gpulling manifest \n",
            "pulling 64e8f4d6856f... 100% ▕▏ 7.9 GB                         \n",
            "pulling fa8235e5b48f... 100% ▕▏ 1.1 KB                         \n",
            "pulling 542b217f179c... 100% ▕▏  148 B                         \n",
            "pulling 8dde1baf1db0... 100% ▕▏   78 B                         \n",
            "pulling c96afb4d9900... 100% ▕▏  484 B                         \n",
            "verifying sha256 digest ⠋ \u001b[?25h\u001b[?25l\u001b[2K\u001b[1G\u001b[A\u001b[2K\u001b[1G\u001b[A\u001b[2K\u001b[1G\u001b[A\u001b[2K\u001b[1G\u001b[A\u001b[2K\u001b[1G\u001b[A\u001b[2K\u001b[1G\u001b[A\u001b[2K\u001b[1Gpulling manifest \n",
            "pulling 64e8f4d6856f... 100% ▕▏ 7.9 GB                         \n",
            "pulling fa8235e5b48f... 100% ▕▏ 1.1 KB                         \n",
            "pulling 542b217f179c... 100% ▕▏  148 B                         \n",
            "pulling 8dde1baf1db0... 100% ▕▏   78 B                         \n",
            "pulling c96afb4d9900... 100% ▕▏  484 B                         \n",
            "verifying sha256 digest ⠙ \u001b[?25h\u001b[?25l\u001b[2K\u001b[1G\u001b[A\u001b[2K\u001b[1G\u001b[A\u001b[2K\u001b[1G\u001b[A\u001b[2K\u001b[1G\u001b[A\u001b[2K\u001b[1G\u001b[A\u001b[2K\u001b[1G\u001b[A\u001b[2K\u001b[1Gpulling manifest \n",
            "pulling 64e8f4d6856f... 100% ▕▏ 7.9 GB                         \n",
            "pulling fa8235e5b48f... 100% ▕▏ 1.1 KB                         \n",
            "pulling 542b217f179c... 100% ▕▏  148 B                         \n",
            "pulling 8dde1baf1db0... 100% ▕▏   78 B                         \n",
            "pulling c96afb4d9900... 100% ▕▏  484 B                         \n",
            "verifying sha256 digest ⠹ \u001b[?25h\u001b[?25l\u001b[2K\u001b[1G\u001b[A\u001b[2K\u001b[1G\u001b[A\u001b[2K\u001b[1G\u001b[A\u001b[2K\u001b[1G\u001b[A\u001b[2K\u001b[1G\u001b[A\u001b[2K\u001b[1G\u001b[A\u001b[2K\u001b[1Gpulling manifest \n",
            "pulling 64e8f4d6856f... 100% ▕▏ 7.9 GB                         \n",
            "pulling fa8235e5b48f... 100% ▕▏ 1.1 KB                         \n",
            "pulling 542b217f179c... 100% ▕▏  148 B                         \n",
            "pulling 8dde1baf1db0... 100% ▕▏   78 B                         \n",
            "pulling c96afb4d9900... 100% ▕▏  484 B                         \n",
            "verifying sha256 digest ⠸ \u001b[?25h\u001b[?25l\u001b[2K\u001b[1G\u001b[A\u001b[2K\u001b[1G\u001b[A\u001b[2K\u001b[1G\u001b[A\u001b[2K\u001b[1G\u001b[A\u001b[2K\u001b[1G\u001b[A\u001b[2K\u001b[1G\u001b[A\u001b[2K\u001b[1Gpulling manifest \n",
            "pulling 64e8f4d6856f... 100% ▕▏ 7.9 GB                         \n",
            "pulling fa8235e5b48f... 100% ▕▏ 1.1 KB                         \n",
            "pulling 542b217f179c... 100% ▕▏  148 B                         \n",
            "pulling 8dde1baf1db0... 100% ▕▏   78 B                         \n",
            "pulling c96afb4d9900... 100% ▕▏  484 B                         \n",
            "verifying sha256 digest ⠼ \u001b[?25h\u001b[?25l\u001b[2K\u001b[1G\u001b[A\u001b[2K\u001b[1G\u001b[A\u001b[2K\u001b[1G\u001b[A\u001b[2K\u001b[1G\u001b[A\u001b[2K\u001b[1G\u001b[A\u001b[2K\u001b[1G\u001b[A\u001b[2K\u001b[1Gpulling manifest \n",
            "pulling 64e8f4d6856f... 100% ▕▏ 7.9 GB                         \n",
            "pulling fa8235e5b48f... 100% ▕▏ 1.1 KB                         \n",
            "pulling 542b217f179c... 100% ▕▏  148 B                         \n",
            "pulling 8dde1baf1db0... 100% ▕▏   78 B                         \n",
            "pulling c96afb4d9900... 100% ▕▏  484 B                         \n",
            "verifying sha256 digest ⠴ \u001b[?25h\u001b[?25l\u001b[2K\u001b[1G\u001b[A\u001b[2K\u001b[1G\u001b[A\u001b[2K\u001b[1G\u001b[A\u001b[2K\u001b[1G\u001b[A\u001b[2K\u001b[1G\u001b[A\u001b[2K\u001b[1G\u001b[A\u001b[2K\u001b[1Gpulling manifest \n",
            "pulling 64e8f4d6856f... 100% ▕▏ 7.9 GB                         \n",
            "pulling fa8235e5b48f... 100% ▕▏ 1.1 KB                         \n",
            "pulling 542b217f179c... 100% ▕▏  148 B                         \n",
            "pulling 8dde1baf1db0... 100% ▕▏   78 B                         \n",
            "pulling c96afb4d9900... 100% ▕▏  484 B                         \n",
            "verifying sha256 digest ⠦ \u001b[?25h\u001b[?25l\u001b[2K\u001b[1G\u001b[A\u001b[2K\u001b[1G\u001b[A\u001b[2K\u001b[1G\u001b[A\u001b[2K\u001b[1G\u001b[A\u001b[2K\u001b[1G\u001b[A\u001b[2K\u001b[1G\u001b[A\u001b[2K\u001b[1Gpulling manifest \n",
            "pulling 64e8f4d6856f... 100% ▕▏ 7.9 GB                         \n",
            "pulling fa8235e5b48f... 100% ▕▏ 1.1 KB                         \n",
            "pulling 542b217f179c... 100% ▕▏  148 B                         \n",
            "pulling 8dde1baf1db0... 100% ▕▏   78 B                         \n",
            "pulling c96afb4d9900... 100% ▕▏  484 B                         \n",
            "verifying sha256 digest ⠧ \u001b[?25h\u001b[?25l\u001b[2K\u001b[1G\u001b[A\u001b[2K\u001b[1G\u001b[A\u001b[2K\u001b[1G\u001b[A\u001b[2K\u001b[1G\u001b[A\u001b[2K\u001b[1G\u001b[A\u001b[2K\u001b[1G\u001b[A\u001b[2K\u001b[1Gpulling manifest \n",
            "pulling 64e8f4d6856f... 100% ▕▏ 7.9 GB                         \n",
            "pulling fa8235e5b48f... 100% ▕▏ 1.1 KB                         \n",
            "pulling 542b217f179c... 100% ▕▏  148 B                         \n",
            "pulling 8dde1baf1db0... 100% ▕▏   78 B                         \n",
            "pulling c96afb4d9900... 100% ▕▏  484 B                         \n",
            "verifying sha256 digest ⠇ \u001b[?25h\u001b[?25l\u001b[2K\u001b[1G\u001b[A\u001b[2K\u001b[1G\u001b[A\u001b[2K\u001b[1G\u001b[A\u001b[2K\u001b[1G\u001b[A\u001b[2K\u001b[1G\u001b[A\u001b[2K\u001b[1G\u001b[A\u001b[2K\u001b[1Gpulling manifest \n",
            "pulling 64e8f4d6856f... 100% ▕▏ 7.9 GB                         \n",
            "pulling fa8235e5b48f... 100% ▕▏ 1.1 KB                         \n",
            "pulling 542b217f179c... 100% ▕▏  148 B                         \n",
            "pulling 8dde1baf1db0... 100% ▕▏   78 B                         \n",
            "pulling c96afb4d9900... 100% ▕▏  484 B                         \n",
            "verifying sha256 digest ⠏ \u001b[?25h\u001b[?25l\u001b[2K\u001b[1G\u001b[A\u001b[2K\u001b[1G\u001b[A\u001b[2K\u001b[1G\u001b[A\u001b[2K\u001b[1G\u001b[A\u001b[2K\u001b[1G\u001b[A\u001b[2K\u001b[1G\u001b[A\u001b[2K\u001b[1Gpulling manifest \n",
            "pulling 64e8f4d6856f... 100% ▕▏ 7.9 GB                         \n",
            "pulling fa8235e5b48f... 100% ▕▏ 1.1 KB                         \n",
            "pulling 542b217f179c... 100% ▕▏  148 B                         \n",
            "pulling 8dde1baf1db0... 100% ▕▏   78 B                         \n",
            "pulling c96afb4d9900... 100% ▕▏  484 B                         \n",
            "verifying sha256 digest ⠋ \u001b[?25h\u001b[?25l\u001b[2K\u001b[1G\u001b[A\u001b[2K\u001b[1G\u001b[A\u001b[2K\u001b[1G\u001b[A\u001b[2K\u001b[1G\u001b[A\u001b[2K\u001b[1G\u001b[A\u001b[2K\u001b[1G\u001b[A\u001b[2K\u001b[1Gpulling manifest \n",
            "pulling 64e8f4d6856f... 100% ▕▏ 7.9 GB                         \n",
            "pulling fa8235e5b48f... 100% ▕▏ 1.1 KB                         \n",
            "pulling 542b217f179c... 100% ▕▏  148 B                         \n",
            "pulling 8dde1baf1db0... 100% ▕▏   78 B                         \n",
            "pulling c96afb4d9900... 100% ▕▏  484 B                         \n",
            "verifying sha256 digest ⠙ \u001b[?25h\u001b[?25l\u001b[2K\u001b[1G\u001b[A\u001b[2K\u001b[1G\u001b[A\u001b[2K\u001b[1G\u001b[A\u001b[2K\u001b[1G\u001b[A\u001b[2K\u001b[1G\u001b[A\u001b[2K\u001b[1G\u001b[A\u001b[2K\u001b[1Gpulling manifest \n",
            "pulling 64e8f4d6856f... 100% ▕▏ 7.9 GB                         \n",
            "pulling fa8235e5b48f... 100% ▕▏ 1.1 KB                         \n",
            "pulling 542b217f179c... 100% ▕▏  148 B                         \n",
            "pulling 8dde1baf1db0... 100% ▕▏   78 B                         \n",
            "pulling c96afb4d9900... 100% ▕▏  484 B                         \n",
            "verifying sha256 digest ⠹ \u001b[?25h\u001b[?25l\u001b[2K\u001b[1G\u001b[A\u001b[2K\u001b[1G\u001b[A\u001b[2K\u001b[1G\u001b[A\u001b[2K\u001b[1G\u001b[A\u001b[2K\u001b[1G\u001b[A\u001b[2K\u001b[1G\u001b[A\u001b[2K\u001b[1Gpulling manifest \n",
            "pulling 64e8f4d6856f... 100% ▕▏ 7.9 GB                         \n",
            "pulling fa8235e5b48f... 100% ▕▏ 1.1 KB                         \n",
            "pulling 542b217f179c... 100% ▕▏  148 B                         \n",
            "pulling 8dde1baf1db0... 100% ▕▏   78 B                         \n",
            "pulling c96afb4d9900... 100% ▕▏  484 B                         \n",
            "verifying sha256 digest ⠸ \u001b[?25h\u001b[?25l\u001b[2K\u001b[1G\u001b[A\u001b[2K\u001b[1G\u001b[A\u001b[2K\u001b[1G\u001b[A\u001b[2K\u001b[1G\u001b[A\u001b[2K\u001b[1G\u001b[A\u001b[2K\u001b[1G\u001b[A\u001b[2K\u001b[1Gpulling manifest \n",
            "pulling 64e8f4d6856f... 100% ▕▏ 7.9 GB                         \n",
            "pulling fa8235e5b48f... 100% ▕▏ 1.1 KB                         \n",
            "pulling 542b217f179c... 100% ▕▏  148 B                         \n",
            "pulling 8dde1baf1db0... 100% ▕▏   78 B                         \n",
            "pulling c96afb4d9900... 100% ▕▏  484 B                         \n",
            "verifying sha256 digest ⠼ \u001b[?25h\u001b[?25l\u001b[2K\u001b[1G\u001b[A\u001b[2K\u001b[1G\u001b[A\u001b[2K\u001b[1G\u001b[A\u001b[2K\u001b[1G\u001b[A\u001b[2K\u001b[1G\u001b[A\u001b[2K\u001b[1G\u001b[A\u001b[2K\u001b[1Gpulling manifest \n",
            "pulling 64e8f4d6856f... 100% ▕▏ 7.9 GB                         \n",
            "pulling fa8235e5b48f... 100% ▕▏ 1.1 KB                         \n",
            "pulling 542b217f179c... 100% ▕▏  148 B                         \n",
            "pulling 8dde1baf1db0... 100% ▕▏   78 B                         \n",
            "pulling c96afb4d9900... 100% ▕▏  484 B                         \n",
            "verifying sha256 digest ⠴ \u001b[?25h\u001b[?25l\u001b[2K\u001b[1G\u001b[A\u001b[2K\u001b[1G\u001b[A\u001b[2K\u001b[1G\u001b[A\u001b[2K\u001b[1G\u001b[A\u001b[2K\u001b[1G\u001b[A\u001b[2K\u001b[1G\u001b[A\u001b[2K\u001b[1Gpulling manifest \n",
            "pulling 64e8f4d6856f... 100% ▕▏ 7.9 GB                         \n",
            "pulling fa8235e5b48f... 100% ▕▏ 1.1 KB                         \n",
            "pulling 542b217f179c... 100% ▕▏  148 B                         \n",
            "pulling 8dde1baf1db0... 100% ▕▏   78 B                         \n",
            "pulling c96afb4d9900... 100% ▕▏  484 B                         \n",
            "verifying sha256 digest ⠦ \u001b[?25h\u001b[?25l\u001b[2K\u001b[1G\u001b[A\u001b[2K\u001b[1G\u001b[A\u001b[2K\u001b[1G\u001b[A\u001b[2K\u001b[1G\u001b[A\u001b[2K\u001b[1G\u001b[A\u001b[2K\u001b[1G\u001b[A\u001b[2K\u001b[1Gpulling manifest \n",
            "pulling 64e8f4d6856f... 100% ▕▏ 7.9 GB                         \n",
            "pulling fa8235e5b48f... 100% ▕▏ 1.1 KB                         \n",
            "pulling 542b217f179c... 100% ▕▏  148 B                         \n",
            "pulling 8dde1baf1db0... 100% ▕▏   78 B                         \n",
            "pulling c96afb4d9900... 100% ▕▏  484 B                         \n",
            "verifying sha256 digest ⠧ \u001b[?25h\u001b[?25l\u001b[2K\u001b[1G\u001b[A\u001b[2K\u001b[1G\u001b[A\u001b[2K\u001b[1G\u001b[A\u001b[2K\u001b[1G\u001b[A\u001b[2K\u001b[1G\u001b[A\u001b[2K\u001b[1G\u001b[A\u001b[2K\u001b[1Gpulling manifest \n",
            "pulling 64e8f4d6856f... 100% ▕▏ 7.9 GB                         \n",
            "pulling fa8235e5b48f... 100% ▕▏ 1.1 KB                         \n",
            "pulling 542b217f179c... 100% ▕▏  148 B                         \n",
            "pulling 8dde1baf1db0... 100% ▕▏   78 B                         \n",
            "pulling c96afb4d9900... 100% ▕▏  484 B                         \n",
            "verifying sha256 digest ⠇ \u001b[?25h\u001b[?25l\u001b[2K\u001b[1G\u001b[A\u001b[2K\u001b[1G\u001b[A\u001b[2K\u001b[1G\u001b[A\u001b[2K\u001b[1G\u001b[A\u001b[2K\u001b[1G\u001b[A\u001b[2K\u001b[1G\u001b[A\u001b[2K\u001b[1Gpulling manifest \n",
            "pulling 64e8f4d6856f... 100% ▕▏ 7.9 GB                         \n",
            "pulling fa8235e5b48f... 100% ▕▏ 1.1 KB                         \n",
            "pulling 542b217f179c... 100% ▕▏  148 B                         \n",
            "pulling 8dde1baf1db0... 100% ▕▏   78 B                         \n",
            "pulling c96afb4d9900... 100% ▕▏  484 B                         \n",
            "verifying sha256 digest ⠏ \u001b[?25h\u001b[?25l\u001b[2K\u001b[1G\u001b[A\u001b[2K\u001b[1G\u001b[A\u001b[2K\u001b[1G\u001b[A\u001b[2K\u001b[1G\u001b[A\u001b[2K\u001b[1G\u001b[A\u001b[2K\u001b[1G\u001b[A\u001b[2K\u001b[1Gpulling manifest \n",
            "pulling 64e8f4d6856f... 100% ▕▏ 7.9 GB                         \n",
            "pulling fa8235e5b48f... 100% ▕▏ 1.1 KB                         \n",
            "pulling 542b217f179c... 100% ▕▏  148 B                         \n",
            "pulling 8dde1baf1db0... 100% ▕▏   78 B                         \n",
            "pulling c96afb4d9900... 100% ▕▏  484 B                         \n",
            "verifying sha256 digest ⠋ \u001b[?25h\u001b[?25l\u001b[2K\u001b[1G\u001b[A\u001b[2K\u001b[1G\u001b[A\u001b[2K\u001b[1G\u001b[A\u001b[2K\u001b[1G\u001b[A\u001b[2K\u001b[1G\u001b[A\u001b[2K\u001b[1G\u001b[A\u001b[2K\u001b[1Gpulling manifest \n",
            "pulling 64e8f4d6856f... 100% ▕▏ 7.9 GB                         \n",
            "pulling fa8235e5b48f... 100% ▕▏ 1.1 KB                         \n",
            "pulling 542b217f179c... 100% ▕▏  148 B                         \n",
            "pulling 8dde1baf1db0... 100% ▕▏   78 B                         \n",
            "pulling c96afb4d9900... 100% ▕▏  484 B                         \n",
            "verifying sha256 digest ⠙ \u001b[?25h\u001b[?25l\u001b[2K\u001b[1G\u001b[A\u001b[2K\u001b[1G\u001b[A\u001b[2K\u001b[1G\u001b[A\u001b[2K\u001b[1G\u001b[A\u001b[2K\u001b[1G\u001b[A\u001b[2K\u001b[1G\u001b[A\u001b[2K\u001b[1Gpulling manifest \n",
            "pulling 64e8f4d6856f... 100% ▕▏ 7.9 GB                         \n",
            "pulling fa8235e5b48f... 100% ▕▏ 1.1 KB                         \n",
            "pulling 542b217f179c... 100% ▕▏  148 B                         \n",
            "pulling 8dde1baf1db0... 100% ▕▏   78 B                         \n",
            "pulling c96afb4d9900... 100% ▕▏  484 B                         \n",
            "verifying sha256 digest ⠹ \u001b[?25h\u001b[?25l\u001b[2K\u001b[1G\u001b[A\u001b[2K\u001b[1G\u001b[A\u001b[2K\u001b[1G\u001b[A\u001b[2K\u001b[1G\u001b[A\u001b[2K\u001b[1G\u001b[A\u001b[2K\u001b[1G\u001b[A\u001b[2K\u001b[1Gpulling manifest \n",
            "pulling 64e8f4d6856f... 100% ▕▏ 7.9 GB                         \n",
            "pulling fa8235e5b48f... 100% ▕▏ 1.1 KB                         \n",
            "pulling 542b217f179c... 100% ▕▏  148 B                         \n",
            "pulling 8dde1baf1db0... 100% ▕▏   78 B                         \n",
            "pulling c96afb4d9900... 100% ▕▏  484 B                         \n",
            "verifying sha256 digest ⠸ \u001b[?25h\u001b[?25l\u001b[2K\u001b[1G\u001b[A\u001b[2K\u001b[1G\u001b[A\u001b[2K\u001b[1G\u001b[A\u001b[2K\u001b[1G\u001b[A\u001b[2K\u001b[1G\u001b[A\u001b[2K\u001b[1G\u001b[A\u001b[2K\u001b[1Gpulling manifest \n",
            "pulling 64e8f4d6856f... 100% ▕▏ 7.9 GB                         \n",
            "pulling fa8235e5b48f... 100% ▕▏ 1.1 KB                         \n",
            "pulling 542b217f179c... 100% ▕▏  148 B                         \n",
            "pulling 8dde1baf1db0... 100% ▕▏   78 B                         \n",
            "pulling c96afb4d9900... 100% ▕▏  484 B                         \n",
            "verifying sha256 digest ⠼ \u001b[?25h\u001b[?25l\u001b[2K\u001b[1G\u001b[A\u001b[2K\u001b[1G\u001b[A\u001b[2K\u001b[1G\u001b[A\u001b[2K\u001b[1G\u001b[A\u001b[2K\u001b[1G\u001b[A\u001b[2K\u001b[1G\u001b[A\u001b[2K\u001b[1Gpulling manifest \n",
            "pulling 64e8f4d6856f... 100% ▕▏ 7.9 GB                         \n",
            "pulling fa8235e5b48f... 100% ▕▏ 1.1 KB                         \n",
            "pulling 542b217f179c... 100% ▕▏  148 B                         \n",
            "pulling 8dde1baf1db0... 100% ▕▏   78 B                         \n",
            "pulling c96afb4d9900... 100% ▕▏  484 B                         \n",
            "verifying sha256 digest ⠴ \u001b[?25h\u001b[?25l\u001b[2K\u001b[1G\u001b[A\u001b[2K\u001b[1G\u001b[A\u001b[2K\u001b[1G\u001b[A\u001b[2K\u001b[1G\u001b[A\u001b[2K\u001b[1G\u001b[A\u001b[2K\u001b[1G\u001b[A\u001b[2K\u001b[1Gpulling manifest \n",
            "pulling 64e8f4d6856f... 100% ▕▏ 7.9 GB                         \n",
            "pulling fa8235e5b48f... 100% ▕▏ 1.1 KB                         \n",
            "pulling 542b217f179c... 100% ▕▏  148 B                         \n",
            "pulling 8dde1baf1db0... 100% ▕▏   78 B                         \n",
            "pulling c96afb4d9900... 100% ▕▏  484 B                         \n",
            "verifying sha256 digest ⠦ \u001b[?25h\u001b[?25l\u001b[2K\u001b[1G\u001b[A\u001b[2K\u001b[1G\u001b[A\u001b[2K\u001b[1G\u001b[A\u001b[2K\u001b[1G\u001b[A\u001b[2K\u001b[1G\u001b[A\u001b[2K\u001b[1G\u001b[A\u001b[2K\u001b[1Gpulling manifest \n",
            "pulling 64e8f4d6856f... 100% ▕▏ 7.9 GB                         \n",
            "pulling fa8235e5b48f... 100% ▕▏ 1.1 KB                         \n",
            "pulling 542b217f179c... 100% ▕▏  148 B                         \n",
            "pulling 8dde1baf1db0... 100% ▕▏   78 B                         \n",
            "pulling c96afb4d9900... 100% ▕▏  484 B                         \n",
            "verifying sha256 digest ⠧ \u001b[?25h\u001b[?25l\u001b[2K\u001b[1G\u001b[A\u001b[2K\u001b[1G\u001b[A\u001b[2K\u001b[1G\u001b[A\u001b[2K\u001b[1G\u001b[A\u001b[2K\u001b[1G\u001b[A\u001b[2K\u001b[1G\u001b[A\u001b[2K\u001b[1Gpulling manifest \n",
            "pulling 64e8f4d6856f... 100% ▕▏ 7.9 GB                         \n",
            "pulling fa8235e5b48f... 100% ▕▏ 1.1 KB                         \n",
            "pulling 542b217f179c... 100% ▕▏  148 B                         \n",
            "pulling 8dde1baf1db0... 100% ▕▏   78 B                         \n",
            "pulling c96afb4d9900... 100% ▕▏  484 B                         \n",
            "verifying sha256 digest ⠇ \u001b[?25h\u001b[?25l\u001b[2K\u001b[1G\u001b[A\u001b[2K\u001b[1G\u001b[A\u001b[2K\u001b[1G\u001b[A\u001b[2K\u001b[1G\u001b[A\u001b[2K\u001b[1G\u001b[A\u001b[2K\u001b[1G\u001b[A\u001b[2K\u001b[1Gpulling manifest \n",
            "pulling 64e8f4d6856f... 100% ▕▏ 7.9 GB                         \n",
            "pulling fa8235e5b48f... 100% ▕▏ 1.1 KB                         \n",
            "pulling 542b217f179c... 100% ▕▏  148 B                         \n",
            "pulling 8dde1baf1db0... 100% ▕▏   78 B                         \n",
            "pulling c96afb4d9900... 100% ▕▏  484 B                         \n",
            "verifying sha256 digest ⠏ \u001b[?25h\u001b[?25l\u001b[2K\u001b[1G\u001b[A\u001b[2K\u001b[1G\u001b[A\u001b[2K\u001b[1G\u001b[A\u001b[2K\u001b[1G\u001b[A\u001b[2K\u001b[1G\u001b[A\u001b[2K\u001b[1G\u001b[A\u001b[2K\u001b[1Gpulling manifest \n",
            "pulling 64e8f4d6856f... 100% ▕▏ 7.9 GB                         \n",
            "pulling fa8235e5b48f... 100% ▕▏ 1.1 KB                         \n",
            "pulling 542b217f179c... 100% ▕▏  148 B                         \n",
            "pulling 8dde1baf1db0... 100% ▕▏   78 B                         \n",
            "pulling c96afb4d9900... 100% ▕▏  484 B                         \n",
            "verifying sha256 digest ⠋ \u001b[?25h\u001b[?25l\u001b[2K\u001b[1G\u001b[A\u001b[2K\u001b[1G\u001b[A\u001b[2K\u001b[1G\u001b[A\u001b[2K\u001b[1G\u001b[A\u001b[2K\u001b[1G\u001b[A\u001b[2K\u001b[1G\u001b[A\u001b[2K\u001b[1Gpulling manifest \n",
            "pulling 64e8f4d6856f... 100% ▕▏ 7.9 GB                         \n",
            "pulling fa8235e5b48f... 100% ▕▏ 1.1 KB                         \n",
            "pulling 542b217f179c... 100% ▕▏  148 B                         \n",
            "pulling 8dde1baf1db0... 100% ▕▏   78 B                         \n",
            "pulling c96afb4d9900... 100% ▕▏  484 B                         \n",
            "verifying sha256 digest ⠙ \u001b[?25h\u001b[?25l\u001b[2K\u001b[1G\u001b[A\u001b[2K\u001b[1G\u001b[A\u001b[2K\u001b[1G\u001b[A\u001b[2K\u001b[1G\u001b[A\u001b[2K\u001b[1G\u001b[A\u001b[2K\u001b[1G\u001b[A\u001b[2K\u001b[1Gpulling manifest \n",
            "pulling 64e8f4d6856f... 100% ▕▏ 7.9 GB                         \n",
            "pulling fa8235e5b48f... 100% ▕▏ 1.1 KB                         \n",
            "pulling 542b217f179c... 100% ▕▏  148 B                         \n",
            "pulling 8dde1baf1db0... 100% ▕▏   78 B                         \n",
            "pulling c96afb4d9900... 100% ▕▏  484 B                         \n",
            "verifying sha256 digest ⠹ \u001b[?25h\u001b[?25l\u001b[2K\u001b[1G\u001b[A\u001b[2K\u001b[1G\u001b[A\u001b[2K\u001b[1G\u001b[A\u001b[2K\u001b[1G\u001b[A\u001b[2K\u001b[1G\u001b[A\u001b[2K\u001b[1G\u001b[A\u001b[2K\u001b[1Gpulling manifest \n",
            "pulling 64e8f4d6856f... 100% ▕▏ 7.9 GB                         \n",
            "pulling fa8235e5b48f... 100% ▕▏ 1.1 KB                         \n",
            "pulling 542b217f179c... 100% ▕▏  148 B                         \n",
            "pulling 8dde1baf1db0... 100% ▕▏   78 B                         \n",
            "pulling c96afb4d9900... 100% ▕▏  484 B                         \n",
            "verifying sha256 digest ⠸ \u001b[?25h\u001b[?25l\u001b[2K\u001b[1G\u001b[A\u001b[2K\u001b[1G\u001b[A\u001b[2K\u001b[1G\u001b[A\u001b[2K\u001b[1G\u001b[A\u001b[2K\u001b[1G\u001b[A\u001b[2K\u001b[1G\u001b[A\u001b[2K\u001b[1Gpulling manifest \n",
            "pulling 64e8f4d6856f... 100% ▕▏ 7.9 GB                         \n",
            "pulling fa8235e5b48f... 100% ▕▏ 1.1 KB                         \n",
            "pulling 542b217f179c... 100% ▕▏  148 B                         \n",
            "pulling 8dde1baf1db0... 100% ▕▏   78 B                         \n",
            "pulling c96afb4d9900... 100% ▕▏  484 B                         \n",
            "verifying sha256 digest ⠼ \u001b[?25h\u001b[?25l\u001b[2K\u001b[1G\u001b[A\u001b[2K\u001b[1G\u001b[A\u001b[2K\u001b[1G\u001b[A\u001b[2K\u001b[1G\u001b[A\u001b[2K\u001b[1G\u001b[A\u001b[2K\u001b[1G\u001b[A\u001b[2K\u001b[1Gpulling manifest \n",
            "pulling 64e8f4d6856f... 100% ▕▏ 7.9 GB                         \n",
            "pulling fa8235e5b48f... 100% ▕▏ 1.1 KB                         \n",
            "pulling 542b217f179c... 100% ▕▏  148 B                         \n",
            "pulling 8dde1baf1db0... 100% ▕▏   78 B                         \n",
            "pulling c96afb4d9900... 100% ▕▏  484 B                         \n",
            "verifying sha256 digest ⠴ \u001b[?25h\u001b[?25l\u001b[2K\u001b[1G\u001b[A\u001b[2K\u001b[1G\u001b[A\u001b[2K\u001b[1G\u001b[A\u001b[2K\u001b[1G\u001b[A\u001b[2K\u001b[1G\u001b[A\u001b[2K\u001b[1G\u001b[A\u001b[2K\u001b[1Gpulling manifest \n",
            "pulling 64e8f4d6856f... 100% ▕▏ 7.9 GB                         \n",
            "pulling fa8235e5b48f... 100% ▕▏ 1.1 KB                         \n",
            "pulling 542b217f179c... 100% ▕▏  148 B                         \n",
            "pulling 8dde1baf1db0... 100% ▕▏   78 B                         \n",
            "pulling c96afb4d9900... 100% ▕▏  484 B                         \n",
            "verifying sha256 digest ⠦ \u001b[?25h\u001b[?25l\u001b[2K\u001b[1G\u001b[A\u001b[2K\u001b[1G\u001b[A\u001b[2K\u001b[1G\u001b[A\u001b[2K\u001b[1G\u001b[A\u001b[2K\u001b[1G\u001b[A\u001b[2K\u001b[1G\u001b[A\u001b[2K\u001b[1Gpulling manifest \n",
            "pulling 64e8f4d6856f... 100% ▕▏ 7.9 GB                         \n",
            "pulling fa8235e5b48f... 100% ▕▏ 1.1 KB                         \n",
            "pulling 542b217f179c... 100% ▕▏  148 B                         \n",
            "pulling 8dde1baf1db0... 100% ▕▏   78 B                         \n",
            "pulling c96afb4d9900... 100% ▕▏  484 B                         \n",
            "verifying sha256 digest ⠧ \u001b[?25h\u001b[?25l\u001b[2K\u001b[1G\u001b[A\u001b[2K\u001b[1G\u001b[A\u001b[2K\u001b[1G\u001b[A\u001b[2K\u001b[1G\u001b[A\u001b[2K\u001b[1G\u001b[A\u001b[2K\u001b[1G\u001b[A\u001b[2K\u001b[1Gpulling manifest \n",
            "pulling 64e8f4d6856f... 100% ▕▏ 7.9 GB                         \n",
            "pulling fa8235e5b48f... 100% ▕▏ 1.1 KB                         \n",
            "pulling 542b217f179c... 100% ▕▏  148 B                         \n",
            "pulling 8dde1baf1db0... 100% ▕▏   78 B                         \n",
            "pulling c96afb4d9900... 100% ▕▏  484 B                         \n",
            "verifying sha256 digest ⠇ \u001b[?25h\u001b[?25l\u001b[2K\u001b[1G\u001b[A\u001b[2K\u001b[1G\u001b[A\u001b[2K\u001b[1G\u001b[A\u001b[2K\u001b[1G\u001b[A\u001b[2K\u001b[1G\u001b[A\u001b[2K\u001b[1G\u001b[A\u001b[2K\u001b[1Gpulling manifest \n",
            "pulling 64e8f4d6856f... 100% ▕▏ 7.9 GB                         \n",
            "pulling fa8235e5b48f... 100% ▕▏ 1.1 KB                         \n",
            "pulling 542b217f179c... 100% ▕▏  148 B                         \n",
            "pulling 8dde1baf1db0... 100% ▕▏   78 B                         \n",
            "pulling c96afb4d9900... 100% ▕▏  484 B                         \n",
            "verifying sha256 digest ⠏ \u001b[?25h\u001b[?25l\u001b[2K\u001b[1G\u001b[A\u001b[2K\u001b[1G\u001b[A\u001b[2K\u001b[1G\u001b[A\u001b[2K\u001b[1G\u001b[A\u001b[2K\u001b[1G\u001b[A\u001b[2K\u001b[1G\u001b[A\u001b[2K\u001b[1Gpulling manifest \n",
            "pulling 64e8f4d6856f... 100% ▕▏ 7.9 GB                         \n",
            "pulling fa8235e5b48f... 100% ▕▏ 1.1 KB                         \n",
            "pulling 542b217f179c... 100% ▕▏  148 B                         \n",
            "pulling 8dde1baf1db0... 100% ▕▏   78 B                         \n",
            "pulling c96afb4d9900... 100% ▕▏  484 B                         \n",
            "verifying sha256 digest ⠋ \u001b[?25h\u001b[?25l\u001b[2K\u001b[1G\u001b[A\u001b[2K\u001b[1G\u001b[A\u001b[2K\u001b[1G\u001b[A\u001b[2K\u001b[1G\u001b[A\u001b[2K\u001b[1G\u001b[A\u001b[2K\u001b[1G\u001b[A\u001b[2K\u001b[1Gpulling manifest \n",
            "pulling 64e8f4d6856f... 100% ▕▏ 7.9 GB                         \n",
            "pulling fa8235e5b48f... 100% ▕▏ 1.1 KB                         \n",
            "pulling 542b217f179c... 100% ▕▏  148 B                         \n",
            "pulling 8dde1baf1db0... 100% ▕▏   78 B                         \n",
            "pulling c96afb4d9900... 100% ▕▏  484 B                         \n",
            "verifying sha256 digest ⠙ \u001b[?25h\u001b[?25l\u001b[2K\u001b[1G\u001b[A\u001b[2K\u001b[1G\u001b[A\u001b[2K\u001b[1G\u001b[A\u001b[2K\u001b[1G\u001b[A\u001b[2K\u001b[1G\u001b[A\u001b[2K\u001b[1G\u001b[A\u001b[2K\u001b[1Gpulling manifest \n",
            "pulling 64e8f4d6856f... 100% ▕▏ 7.9 GB                         \n",
            "pulling fa8235e5b48f... 100% ▕▏ 1.1 KB                         \n",
            "pulling 542b217f179c... 100% ▕▏  148 B                         \n",
            "pulling 8dde1baf1db0... 100% ▕▏   78 B                         \n",
            "pulling c96afb4d9900... 100% ▕▏  484 B                         \n",
            "verifying sha256 digest ⠹ \u001b[?25h\u001b[?25l\u001b[2K\u001b[1G\u001b[A\u001b[2K\u001b[1G\u001b[A\u001b[2K\u001b[1G\u001b[A\u001b[2K\u001b[1G\u001b[A\u001b[2K\u001b[1G\u001b[A\u001b[2K\u001b[1G\u001b[A\u001b[2K\u001b[1Gpulling manifest \n",
            "pulling 64e8f4d6856f... 100% ▕▏ 7.9 GB                         \n",
            "pulling fa8235e5b48f... 100% ▕▏ 1.1 KB                         \n",
            "pulling 542b217f179c... 100% ▕▏  148 B                         \n",
            "pulling 8dde1baf1db0... 100% ▕▏   78 B                         \n",
            "pulling c96afb4d9900... 100% ▕▏  484 B                         \n",
            "verifying sha256 digest ⠸ \u001b[?25h\u001b[?25l\u001b[2K\u001b[1G\u001b[A\u001b[2K\u001b[1G\u001b[A\u001b[2K\u001b[1G\u001b[A\u001b[2K\u001b[1G\u001b[A\u001b[2K\u001b[1G\u001b[A\u001b[2K\u001b[1G\u001b[A\u001b[2K\u001b[1Gpulling manifest \n",
            "pulling 64e8f4d6856f... 100% ▕▏ 7.9 GB                         \n",
            "pulling fa8235e5b48f... 100% ▕▏ 1.1 KB                         \n",
            "pulling 542b217f179c... 100% ▕▏  148 B                         \n",
            "pulling 8dde1baf1db0... 100% ▕▏   78 B                         \n",
            "pulling c96afb4d9900... 100% ▕▏  484 B                         \n",
            "verifying sha256 digest ⠼ \u001b[?25h\u001b[?25l\u001b[2K\u001b[1G\u001b[A\u001b[2K\u001b[1G\u001b[A\u001b[2K\u001b[1G\u001b[A\u001b[2K\u001b[1G\u001b[A\u001b[2K\u001b[1G\u001b[A\u001b[2K\u001b[1G\u001b[A\u001b[2K\u001b[1Gpulling manifest \n",
            "pulling 64e8f4d6856f... 100% ▕▏ 7.9 GB                         \n",
            "pulling fa8235e5b48f... 100% ▕▏ 1.1 KB                         \n",
            "pulling 542b217f179c... 100% ▕▏  148 B                         \n",
            "pulling 8dde1baf1db0... 100% ▕▏   78 B                         \n",
            "pulling c96afb4d9900... 100% ▕▏  484 B                         \n",
            "verifying sha256 digest ⠴ \u001b[?25h\u001b[?25l\u001b[2K\u001b[1G\u001b[A\u001b[2K\u001b[1G\u001b[A\u001b[2K\u001b[1G\u001b[A\u001b[2K\u001b[1G\u001b[A\u001b[2K\u001b[1G\u001b[A\u001b[2K\u001b[1G\u001b[A\u001b[2K\u001b[1Gpulling manifest \n",
            "pulling 64e8f4d6856f... 100% ▕▏ 7.9 GB                         \n",
            "pulling fa8235e5b48f... 100% ▕▏ 1.1 KB                         \n",
            "pulling 542b217f179c... 100% ▕▏  148 B                         \n",
            "pulling 8dde1baf1db0... 100% ▕▏   78 B                         \n",
            "pulling c96afb4d9900... 100% ▕▏  484 B                         \n",
            "verifying sha256 digest ⠦ \u001b[?25h\u001b[?25l\u001b[2K\u001b[1G\u001b[A\u001b[2K\u001b[1G\u001b[A\u001b[2K\u001b[1G\u001b[A\u001b[2K\u001b[1G\u001b[A\u001b[2K\u001b[1G\u001b[A\u001b[2K\u001b[1G\u001b[A\u001b[2K\u001b[1Gpulling manifest \n",
            "pulling 64e8f4d6856f... 100% ▕▏ 7.9 GB                         \n",
            "pulling fa8235e5b48f... 100% ▕▏ 1.1 KB                         \n",
            "pulling 542b217f179c... 100% ▕▏  148 B                         \n",
            "pulling 8dde1baf1db0... 100% ▕▏   78 B                         \n",
            "pulling c96afb4d9900... 100% ▕▏  484 B                         \n",
            "verifying sha256 digest ⠧ \u001b[?25h\u001b[?25l\u001b[2K\u001b[1G\u001b[A\u001b[2K\u001b[1G\u001b[A\u001b[2K\u001b[1G\u001b[A\u001b[2K\u001b[1G\u001b[A\u001b[2K\u001b[1G\u001b[A\u001b[2K\u001b[1G\u001b[A\u001b[2K\u001b[1Gpulling manifest \n",
            "pulling 64e8f4d6856f... 100% ▕▏ 7.9 GB                         \n",
            "pulling fa8235e5b48f... 100% ▕▏ 1.1 KB                         \n",
            "pulling 542b217f179c... 100% ▕▏  148 B                         \n",
            "pulling 8dde1baf1db0... 100% ▕▏   78 B                         \n",
            "pulling c96afb4d9900... 100% ▕▏  484 B                         \n",
            "verifying sha256 digest ⠇ \u001b[?25h\u001b[?25l\u001b[2K\u001b[1G\u001b[A\u001b[2K\u001b[1G\u001b[A\u001b[2K\u001b[1G\u001b[A\u001b[2K\u001b[1G\u001b[A\u001b[2K\u001b[1G\u001b[A\u001b[2K\u001b[1G\u001b[A\u001b[2K\u001b[1Gpulling manifest \n",
            "pulling 64e8f4d6856f... 100% ▕▏ 7.9 GB                         \n",
            "pulling fa8235e5b48f... 100% ▕▏ 1.1 KB                         \n",
            "pulling 542b217f179c... 100% ▕▏  148 B                         \n",
            "pulling 8dde1baf1db0... 100% ▕▏   78 B                         \n",
            "pulling c96afb4d9900... 100% ▕▏  484 B                         \n",
            "verifying sha256 digest ⠏ \u001b[?25h\u001b[?25l\u001b[2K\u001b[1G\u001b[A\u001b[2K\u001b[1G\u001b[A\u001b[2K\u001b[1G\u001b[A\u001b[2K\u001b[1G\u001b[A\u001b[2K\u001b[1G\u001b[A\u001b[2K\u001b[1G\u001b[A\u001b[2K\u001b[1Gpulling manifest \n",
            "pulling 64e8f4d6856f... 100% ▕▏ 7.9 GB                         \n",
            "pulling fa8235e5b48f... 100% ▕▏ 1.1 KB                         \n",
            "pulling 542b217f179c... 100% ▕▏  148 B                         \n",
            "pulling 8dde1baf1db0... 100% ▕▏   78 B                         \n",
            "pulling c96afb4d9900... 100% ▕▏  484 B                         \n",
            "verifying sha256 digest ⠋ \u001b[?25h\u001b[?25l\u001b[2K\u001b[1G\u001b[A\u001b[2K\u001b[1G\u001b[A\u001b[2K\u001b[1G\u001b[A\u001b[2K\u001b[1G\u001b[A\u001b[2K\u001b[1G\u001b[A\u001b[2K\u001b[1G\u001b[A\u001b[2K\u001b[1Gpulling manifest \n",
            "pulling 64e8f4d6856f... 100% ▕▏ 7.9 GB                         \n",
            "pulling fa8235e5b48f... 100% ▕▏ 1.1 KB                         \n",
            "pulling 542b217f179c... 100% ▕▏  148 B                         \n",
            "pulling 8dde1baf1db0... 100% ▕▏   78 B                         \n",
            "pulling c96afb4d9900... 100% ▕▏  484 B                         \n",
            "verifying sha256 digest ⠙ \u001b[?25h\u001b[?25l\u001b[2K\u001b[1G\u001b[A\u001b[2K\u001b[1G\u001b[A\u001b[2K\u001b[1G\u001b[A\u001b[2K\u001b[1G\u001b[A\u001b[2K\u001b[1G\u001b[A\u001b[2K\u001b[1G\u001b[A\u001b[2K\u001b[1Gpulling manifest \n",
            "pulling 64e8f4d6856f... 100% ▕▏ 7.9 GB                         \n",
            "pulling fa8235e5b48f... 100% ▕▏ 1.1 KB                         \n",
            "pulling 542b217f179c... 100% ▕▏  148 B                         \n",
            "pulling 8dde1baf1db0... 100% ▕▏   78 B                         \n",
            "pulling c96afb4d9900... 100% ▕▏  484 B                         \n",
            "verifying sha256 digest ⠹ \u001b[?25h\u001b[?25l\u001b[2K\u001b[1G\u001b[A\u001b[2K\u001b[1G\u001b[A\u001b[2K\u001b[1G\u001b[A\u001b[2K\u001b[1G\u001b[A\u001b[2K\u001b[1G\u001b[A\u001b[2K\u001b[1G\u001b[A\u001b[2K\u001b[1Gpulling manifest \n",
            "pulling 64e8f4d6856f... 100% ▕▏ 7.9 GB                         \n",
            "pulling fa8235e5b48f... 100% ▕▏ 1.1 KB                         \n",
            "pulling 542b217f179c... 100% ▕▏  148 B                         \n",
            "pulling 8dde1baf1db0... 100% ▕▏   78 B                         \n",
            "pulling c96afb4d9900... 100% ▕▏  484 B                         \n",
            "verifying sha256 digest ⠸ \u001b[?25h\u001b[?25l\u001b[2K\u001b[1G\u001b[A\u001b[2K\u001b[1G\u001b[A\u001b[2K\u001b[1G\u001b[A\u001b[2K\u001b[1G\u001b[A\u001b[2K\u001b[1G\u001b[A\u001b[2K\u001b[1G\u001b[A\u001b[2K\u001b[1Gpulling manifest \n",
            "pulling 64e8f4d6856f... 100% ▕▏ 7.9 GB                         \n",
            "pulling fa8235e5b48f... 100% ▕▏ 1.1 KB                         \n",
            "pulling 542b217f179c... 100% ▕▏  148 B                         \n",
            "pulling 8dde1baf1db0... 100% ▕▏   78 B                         \n",
            "pulling c96afb4d9900... 100% ▕▏  484 B                         \n",
            "verifying sha256 digest ⠼ \u001b[?25h\u001b[?25l\u001b[2K\u001b[1G\u001b[A\u001b[2K\u001b[1G\u001b[A\u001b[2K\u001b[1G\u001b[A\u001b[2K\u001b[1G\u001b[A\u001b[2K\u001b[1G\u001b[A\u001b[2K\u001b[1G\u001b[A\u001b[2K\u001b[1Gpulling manifest \n",
            "pulling 64e8f4d6856f... 100% ▕▏ 7.9 GB                         \n",
            "pulling fa8235e5b48f... 100% ▕▏ 1.1 KB                         \n",
            "pulling 542b217f179c... 100% ▕▏  148 B                         \n",
            "pulling 8dde1baf1db0... 100% ▕▏   78 B                         \n",
            "pulling c96afb4d9900... 100% ▕▏  484 B                         \n",
            "verifying sha256 digest ⠴ \u001b[?25h\u001b[?25l\u001b[2K\u001b[1G\u001b[A\u001b[2K\u001b[1G\u001b[A\u001b[2K\u001b[1G\u001b[A\u001b[2K\u001b[1G\u001b[A\u001b[2K\u001b[1G\u001b[A\u001b[2K\u001b[1G\u001b[A\u001b[2K\u001b[1Gpulling manifest \n",
            "pulling 64e8f4d6856f... 100% ▕▏ 7.9 GB                         \n",
            "pulling fa8235e5b48f... 100% ▕▏ 1.1 KB                         \n",
            "pulling 542b217f179c... 100% ▕▏  148 B                         \n",
            "pulling 8dde1baf1db0... 100% ▕▏   78 B                         \n",
            "pulling c96afb4d9900... 100% ▕▏  484 B                         \n",
            "verifying sha256 digest ⠦ \u001b[?25h\u001b[?25l\u001b[2K\u001b[1G\u001b[A\u001b[2K\u001b[1G\u001b[A\u001b[2K\u001b[1G\u001b[A\u001b[2K\u001b[1G\u001b[A\u001b[2K\u001b[1G\u001b[A\u001b[2K\u001b[1G\u001b[A\u001b[2K\u001b[1Gpulling manifest \n",
            "pulling 64e8f4d6856f... 100% ▕▏ 7.9 GB                         \n",
            "pulling fa8235e5b48f... 100% ▕▏ 1.1 KB                         \n",
            "pulling 542b217f179c... 100% ▕▏  148 B                         \n",
            "pulling 8dde1baf1db0... 100% ▕▏   78 B                         \n",
            "pulling c96afb4d9900... 100% ▕▏  484 B                         \n",
            "verifying sha256 digest ⠧ \u001b[?25h\u001b[?25l\u001b[2K\u001b[1G\u001b[A\u001b[2K\u001b[1G\u001b[A\u001b[2K\u001b[1G\u001b[A\u001b[2K\u001b[1G\u001b[A\u001b[2K\u001b[1G\u001b[A\u001b[2K\u001b[1G\u001b[A\u001b[2K\u001b[1Gpulling manifest \n",
            "pulling 64e8f4d6856f... 100% ▕▏ 7.9 GB                         \n",
            "pulling fa8235e5b48f... 100% ▕▏ 1.1 KB                         \n",
            "pulling 542b217f179c... 100% ▕▏  148 B                         \n",
            "pulling 8dde1baf1db0... 100% ▕▏   78 B                         \n",
            "pulling c96afb4d9900... 100% ▕▏  484 B                         \n",
            "verifying sha256 digest ⠇ \u001b[?25h\u001b[?25l\u001b[2K\u001b[1G\u001b[A\u001b[2K\u001b[1G\u001b[A\u001b[2K\u001b[1G\u001b[A\u001b[2K\u001b[1G\u001b[A\u001b[2K\u001b[1G\u001b[A\u001b[2K\u001b[1G\u001b[A\u001b[2K\u001b[1Gpulling manifest \n",
            "pulling 64e8f4d6856f... 100% ▕▏ 7.9 GB                         \n",
            "pulling fa8235e5b48f... 100% ▕▏ 1.1 KB                         \n",
            "pulling 542b217f179c... 100% ▕▏  148 B                         \n",
            "pulling 8dde1baf1db0... 100% ▕▏   78 B                         \n",
            "pulling c96afb4d9900... 100% ▕▏  484 B                         \n",
            "verifying sha256 digest ⠏ \u001b[?25h\u001b[?25l\u001b[2K\u001b[1G\u001b[A\u001b[2K\u001b[1G\u001b[A\u001b[2K\u001b[1G\u001b[A\u001b[2K\u001b[1G\u001b[A\u001b[2K\u001b[1G\u001b[A\u001b[2K\u001b[1G\u001b[A\u001b[2K\u001b[1Gpulling manifest \n",
            "pulling 64e8f4d6856f... 100% ▕▏ 7.9 GB                         \n",
            "pulling fa8235e5b48f... 100% ▕▏ 1.1 KB                         \n",
            "pulling 542b217f179c... 100% ▕▏  148 B                         \n",
            "pulling 8dde1baf1db0... 100% ▕▏   78 B                         \n",
            "pulling c96afb4d9900... 100% ▕▏  484 B                         \n",
            "verifying sha256 digest ⠋ \u001b[?25h\u001b[?25l\u001b[2K\u001b[1G\u001b[A\u001b[2K\u001b[1G\u001b[A\u001b[2K\u001b[1G\u001b[A\u001b[2K\u001b[1G\u001b[A\u001b[2K\u001b[1G\u001b[A\u001b[2K\u001b[1G\u001b[A\u001b[2K\u001b[1Gpulling manifest \n",
            "pulling 64e8f4d6856f... 100% ▕▏ 7.9 GB                         \n",
            "pulling fa8235e5b48f... 100% ▕▏ 1.1 KB                         \n",
            "pulling 542b217f179c... 100% ▕▏  148 B                         \n",
            "pulling 8dde1baf1db0... 100% ▕▏   78 B                         \n",
            "pulling c96afb4d9900... 100% ▕▏  484 B                         \n",
            "verifying sha256 digest ⠙ \u001b[?25h\u001b[?25l\u001b[2K\u001b[1G\u001b[A\u001b[2K\u001b[1G\u001b[A\u001b[2K\u001b[1G\u001b[A\u001b[2K\u001b[1G\u001b[A\u001b[2K\u001b[1G\u001b[A\u001b[2K\u001b[1G\u001b[A\u001b[2K\u001b[1Gpulling manifest \n",
            "pulling 64e8f4d6856f... 100% ▕▏ 7.9 GB                         \n",
            "pulling fa8235e5b48f... 100% ▕▏ 1.1 KB                         \n",
            "pulling 542b217f179c... 100% ▕▏  148 B                         \n",
            "pulling 8dde1baf1db0... 100% ▕▏   78 B                         \n",
            "pulling c96afb4d9900... 100% ▕▏  484 B                         \n",
            "verifying sha256 digest ⠹ \u001b[?25h\u001b[?25l\u001b[2K\u001b[1G\u001b[A\u001b[2K\u001b[1G\u001b[A\u001b[2K\u001b[1G\u001b[A\u001b[2K\u001b[1G\u001b[A\u001b[2K\u001b[1G\u001b[A\u001b[2K\u001b[1G\u001b[A\u001b[2K\u001b[1Gpulling manifest \n",
            "pulling 64e8f4d6856f... 100% ▕▏ 7.9 GB                         \n",
            "pulling fa8235e5b48f... 100% ▕▏ 1.1 KB                         \n",
            "pulling 542b217f179c... 100% ▕▏  148 B                         \n",
            "pulling 8dde1baf1db0... 100% ▕▏   78 B                         \n",
            "pulling c96afb4d9900... 100% ▕▏  484 B                         \n",
            "verifying sha256 digest ⠸ \u001b[?25h\u001b[?25l\u001b[2K\u001b[1G\u001b[A\u001b[2K\u001b[1G\u001b[A\u001b[2K\u001b[1G\u001b[A\u001b[2K\u001b[1G\u001b[A\u001b[2K\u001b[1G\u001b[A\u001b[2K\u001b[1G\u001b[A\u001b[2K\u001b[1Gpulling manifest \n",
            "pulling 64e8f4d6856f... 100% ▕▏ 7.9 GB                         \n",
            "pulling fa8235e5b48f... 100% ▕▏ 1.1 KB                         \n",
            "pulling 542b217f179c... 100% ▕▏  148 B                         \n",
            "pulling 8dde1baf1db0... 100% ▕▏   78 B                         \n",
            "pulling c96afb4d9900... 100% ▕▏  484 B                         \n",
            "verifying sha256 digest ⠼ \u001b[?25h\u001b[?25l\u001b[2K\u001b[1G\u001b[A\u001b[2K\u001b[1G\u001b[A\u001b[2K\u001b[1G\u001b[A\u001b[2K\u001b[1G\u001b[A\u001b[2K\u001b[1G\u001b[A\u001b[2K\u001b[1G\u001b[A\u001b[2K\u001b[1Gpulling manifest \n",
            "pulling 64e8f4d6856f... 100% ▕▏ 7.9 GB                         \n",
            "pulling fa8235e5b48f... 100% ▕▏ 1.1 KB                         \n",
            "pulling 542b217f179c... 100% ▕▏  148 B                         \n",
            "pulling 8dde1baf1db0... 100% ▕▏   78 B                         \n",
            "pulling c96afb4d9900... 100% ▕▏  484 B                         \n",
            "verifying sha256 digest ⠴ \u001b[?25h\u001b[?25l\u001b[2K\u001b[1G\u001b[A\u001b[2K\u001b[1G\u001b[A\u001b[2K\u001b[1G\u001b[A\u001b[2K\u001b[1G\u001b[A\u001b[2K\u001b[1G\u001b[A\u001b[2K\u001b[1G\u001b[A\u001b[2K\u001b[1Gpulling manifest \n",
            "pulling 64e8f4d6856f... 100% ▕▏ 7.9 GB                         \n",
            "pulling fa8235e5b48f... 100% ▕▏ 1.1 KB                         \n",
            "pulling 542b217f179c... 100% ▕▏  148 B                         \n",
            "pulling 8dde1baf1db0... 100% ▕▏   78 B                         \n",
            "pulling c96afb4d9900... 100% ▕▏  484 B                         \n",
            "verifying sha256 digest ⠦ \u001b[?25h\u001b[?25l\u001b[2K\u001b[1G\u001b[A\u001b[2K\u001b[1G\u001b[A\u001b[2K\u001b[1G\u001b[A\u001b[2K\u001b[1G\u001b[A\u001b[2K\u001b[1G\u001b[A\u001b[2K\u001b[1G\u001b[A\u001b[2K\u001b[1Gpulling manifest \n",
            "pulling 64e8f4d6856f... 100% ▕▏ 7.9 GB                         \n",
            "pulling fa8235e5b48f... 100% ▕▏ 1.1 KB                         \n",
            "pulling 542b217f179c... 100% ▕▏  148 B                         \n",
            "pulling 8dde1baf1db0... 100% ▕▏   78 B                         \n",
            "pulling c96afb4d9900... 100% ▕▏  484 B                         \n",
            "verifying sha256 digest ⠧ \u001b[?25h\u001b[?25l\u001b[2K\u001b[1G\u001b[A\u001b[2K\u001b[1G\u001b[A\u001b[2K\u001b[1G\u001b[A\u001b[2K\u001b[1G\u001b[A\u001b[2K\u001b[1G\u001b[A\u001b[2K\u001b[1G\u001b[A\u001b[2K\u001b[1Gpulling manifest \n",
            "pulling 64e8f4d6856f... 100% ▕▏ 7.9 GB                         \n",
            "pulling fa8235e5b48f... 100% ▕▏ 1.1 KB                         \n",
            "pulling 542b217f179c... 100% ▕▏  148 B                         \n",
            "pulling 8dde1baf1db0... 100% ▕▏   78 B                         \n",
            "pulling c96afb4d9900... 100% ▕▏  484 B                         \n",
            "verifying sha256 digest ⠇ \u001b[?25h\u001b[?25l\u001b[2K\u001b[1G\u001b[A\u001b[2K\u001b[1G\u001b[A\u001b[2K\u001b[1G\u001b[A\u001b[2K\u001b[1G\u001b[A\u001b[2K\u001b[1G\u001b[A\u001b[2K\u001b[1G\u001b[A\u001b[2K\u001b[1Gpulling manifest \n",
            "pulling 64e8f4d6856f... 100% ▕▏ 7.9 GB                         \n",
            "pulling fa8235e5b48f... 100% ▕▏ 1.1 KB                         \n",
            "pulling 542b217f179c... 100% ▕▏  148 B                         \n",
            "pulling 8dde1baf1db0... 100% ▕▏   78 B                         \n",
            "pulling c96afb4d9900... 100% ▕▏  484 B                         \n",
            "verifying sha256 digest ⠏ \u001b[?25h\u001b[?25l\u001b[2K\u001b[1G\u001b[A\u001b[2K\u001b[1G\u001b[A\u001b[2K\u001b[1G\u001b[A\u001b[2K\u001b[1G\u001b[A\u001b[2K\u001b[1G\u001b[A\u001b[2K\u001b[1G\u001b[A\u001b[2K\u001b[1Gpulling manifest \n",
            "pulling 64e8f4d6856f... 100% ▕▏ 7.9 GB                         \n",
            "pulling fa8235e5b48f... 100% ▕▏ 1.1 KB                         \n",
            "pulling 542b217f179c... 100% ▕▏  148 B                         \n",
            "pulling 8dde1baf1db0... 100% ▕▏   78 B                         \n",
            "pulling c96afb4d9900... 100% ▕▏  484 B                         \n",
            "verifying sha256 digest ⠋ \u001b[?25h\u001b[?25l\u001b[2K\u001b[1G\u001b[A\u001b[2K\u001b[1G\u001b[A\u001b[2K\u001b[1G\u001b[A\u001b[2K\u001b[1G\u001b[A\u001b[2K\u001b[1G\u001b[A\u001b[2K\u001b[1G\u001b[A\u001b[2K\u001b[1Gpulling manifest \n",
            "pulling 64e8f4d6856f... 100% ▕▏ 7.9 GB                         \n",
            "pulling fa8235e5b48f... 100% ▕▏ 1.1 KB                         \n",
            "pulling 542b217f179c... 100% ▕▏  148 B                         \n",
            "pulling 8dde1baf1db0... 100% ▕▏   78 B                         \n",
            "pulling c96afb4d9900... 100% ▕▏  484 B                         \n",
            "verifying sha256 digest ⠙ \u001b[?25h\u001b[?25l\u001b[2K\u001b[1G\u001b[A\u001b[2K\u001b[1G\u001b[A\u001b[2K\u001b[1G\u001b[A\u001b[2K\u001b[1G\u001b[A\u001b[2K\u001b[1G\u001b[A\u001b[2K\u001b[1G\u001b[A\u001b[2K\u001b[1Gpulling manifest \n",
            "pulling 64e8f4d6856f... 100% ▕▏ 7.9 GB                         \n",
            "pulling fa8235e5b48f... 100% ▕▏ 1.1 KB                         \n",
            "pulling 542b217f179c... 100% ▕▏  148 B                         \n",
            "pulling 8dde1baf1db0... 100% ▕▏   78 B                         \n",
            "pulling c96afb4d9900... 100% ▕▏  484 B                         \n",
            "verifying sha256 digest ⠹ \u001b[?25h\u001b[?25l\u001b[2K\u001b[1G\u001b[A\u001b[2K\u001b[1G\u001b[A\u001b[2K\u001b[1G\u001b[A\u001b[2K\u001b[1G\u001b[A\u001b[2K\u001b[1G\u001b[A\u001b[2K\u001b[1G\u001b[A\u001b[2K\u001b[1Gpulling manifest \n",
            "pulling 64e8f4d6856f... 100% ▕▏ 7.9 GB                         \n",
            "pulling fa8235e5b48f... 100% ▕▏ 1.1 KB                         \n",
            "pulling 542b217f179c... 100% ▕▏  148 B                         \n",
            "pulling 8dde1baf1db0... 100% ▕▏   78 B                         \n",
            "pulling c96afb4d9900... 100% ▕▏  484 B                         \n",
            "verifying sha256 digest ⠸ \u001b[?25h\u001b[?25l\u001b[2K\u001b[1G\u001b[A\u001b[2K\u001b[1G\u001b[A\u001b[2K\u001b[1G\u001b[A\u001b[2K\u001b[1G\u001b[A\u001b[2K\u001b[1G\u001b[A\u001b[2K\u001b[1G\u001b[A\u001b[2K\u001b[1Gpulling manifest \n",
            "pulling 64e8f4d6856f... 100% ▕▏ 7.9 GB                         \n",
            "pulling fa8235e5b48f... 100% ▕▏ 1.1 KB                         \n",
            "pulling 542b217f179c... 100% ▕▏  148 B                         \n",
            "pulling 8dde1baf1db0... 100% ▕▏   78 B                         \n",
            "pulling c96afb4d9900... 100% ▕▏  484 B                         \n",
            "verifying sha256 digest ⠼ \u001b[?25h\u001b[?25l\u001b[2K\u001b[1G\u001b[A\u001b[2K\u001b[1G\u001b[A\u001b[2K\u001b[1G\u001b[A\u001b[2K\u001b[1G\u001b[A\u001b[2K\u001b[1G\u001b[A\u001b[2K\u001b[1G\u001b[A\u001b[2K\u001b[1Gpulling manifest \n",
            "pulling 64e8f4d6856f... 100% ▕▏ 7.9 GB                         \n",
            "pulling fa8235e5b48f... 100% ▕▏ 1.1 KB                         \n",
            "pulling 542b217f179c... 100% ▕▏  148 B                         \n",
            "pulling 8dde1baf1db0... 100% ▕▏   78 B                         \n",
            "pulling c96afb4d9900... 100% ▕▏  484 B                         \n",
            "verifying sha256 digest ⠴ \u001b[?25h\u001b[?25l\u001b[2K\u001b[1G\u001b[A\u001b[2K\u001b[1G\u001b[A\u001b[2K\u001b[1G\u001b[A\u001b[2K\u001b[1G\u001b[A\u001b[2K\u001b[1G\u001b[A\u001b[2K\u001b[1G\u001b[A\u001b[2K\u001b[1Gpulling manifest \n",
            "pulling 64e8f4d6856f... 100% ▕▏ 7.9 GB                         \n",
            "pulling fa8235e5b48f... 100% ▕▏ 1.1 KB                         \n",
            "pulling 542b217f179c... 100% ▕▏  148 B                         \n",
            "pulling 8dde1baf1db0... 100% ▕▏   78 B                         \n",
            "pulling c96afb4d9900... 100% ▕▏  484 B                         \n",
            "verifying sha256 digest ⠦ \u001b[?25h\u001b[?25l\u001b[2K\u001b[1G\u001b[A\u001b[2K\u001b[1G\u001b[A\u001b[2K\u001b[1G\u001b[A\u001b[2K\u001b[1G\u001b[A\u001b[2K\u001b[1G\u001b[A\u001b[2K\u001b[1G\u001b[A\u001b[2K\u001b[1Gpulling manifest \n",
            "pulling 64e8f4d6856f... 100% ▕▏ 7.9 GB                         \n",
            "pulling fa8235e5b48f... 100% ▕▏ 1.1 KB                         \n",
            "pulling 542b217f179c... 100% ▕▏  148 B                         \n",
            "pulling 8dde1baf1db0... 100% ▕▏   78 B                         \n",
            "pulling c96afb4d9900... 100% ▕▏  484 B                         \n",
            "verifying sha256 digest ⠧ \u001b[?25h\u001b[?25l\u001b[2K\u001b[1G\u001b[A\u001b[2K\u001b[1G\u001b[A\u001b[2K\u001b[1G\u001b[A\u001b[2K\u001b[1G\u001b[A\u001b[2K\u001b[1G\u001b[A\u001b[2K\u001b[1G\u001b[A\u001b[2K\u001b[1Gpulling manifest \n",
            "pulling 64e8f4d6856f... 100% ▕▏ 7.9 GB                         \n",
            "pulling fa8235e5b48f... 100% ▕▏ 1.1 KB                         \n",
            "pulling 542b217f179c... 100% ▕▏  148 B                         \n",
            "pulling 8dde1baf1db0... 100% ▕▏   78 B                         \n",
            "pulling c96afb4d9900... 100% ▕▏  484 B                         \n",
            "verifying sha256 digest ⠇ \u001b[?25h\u001b[?25l\u001b[2K\u001b[1G\u001b[A\u001b[2K\u001b[1G\u001b[A\u001b[2K\u001b[1G\u001b[A\u001b[2K\u001b[1G\u001b[A\u001b[2K\u001b[1G\u001b[A\u001b[2K\u001b[1G\u001b[A\u001b[2K\u001b[1Gpulling manifest \n",
            "pulling 64e8f4d6856f... 100% ▕▏ 7.9 GB                         \n",
            "pulling fa8235e5b48f... 100% ▕▏ 1.1 KB                         \n",
            "pulling 542b217f179c... 100% ▕▏  148 B                         \n",
            "pulling 8dde1baf1db0... 100% ▕▏   78 B                         \n",
            "pulling c96afb4d9900... 100% ▕▏  484 B                         \n",
            "verifying sha256 digest ⠏ \u001b[?25h\u001b[?25l\u001b[2K\u001b[1G\u001b[A\u001b[2K\u001b[1G\u001b[A\u001b[2K\u001b[1G\u001b[A\u001b[2K\u001b[1G\u001b[A\u001b[2K\u001b[1G\u001b[A\u001b[2K\u001b[1G\u001b[A\u001b[2K\u001b[1Gpulling manifest \n",
            "pulling 64e8f4d6856f... 100% ▕▏ 7.9 GB                         \n",
            "pulling fa8235e5b48f... 100% ▕▏ 1.1 KB                         \n",
            "pulling 542b217f179c... 100% ▕▏  148 B                         \n",
            "pulling 8dde1baf1db0... 100% ▕▏   78 B                         \n",
            "pulling c96afb4d9900... 100% ▕▏  484 B                         \n",
            "verifying sha256 digest ⠋ \u001b[?25h\u001b[?25l\u001b[2K\u001b[1G\u001b[A\u001b[2K\u001b[1G\u001b[A\u001b[2K\u001b[1G\u001b[A\u001b[2K\u001b[1G\u001b[A\u001b[2K\u001b[1G\u001b[A\u001b[2K\u001b[1G\u001b[A\u001b[2K\u001b[1Gpulling manifest \n",
            "pulling 64e8f4d6856f... 100% ▕▏ 7.9 GB                         \n",
            "pulling fa8235e5b48f... 100% ▕▏ 1.1 KB                         \n",
            "pulling 542b217f179c... 100% ▕▏  148 B                         \n",
            "pulling 8dde1baf1db0... 100% ▕▏   78 B                         \n",
            "pulling c96afb4d9900... 100% ▕▏  484 B                         \n",
            "verifying sha256 digest ⠙ \u001b[?25h\u001b[?25l\u001b[2K\u001b[1G\u001b[A\u001b[2K\u001b[1G\u001b[A\u001b[2K\u001b[1G\u001b[A\u001b[2K\u001b[1G\u001b[A\u001b[2K\u001b[1G\u001b[A\u001b[2K\u001b[1G\u001b[A\u001b[2K\u001b[1Gpulling manifest \n",
            "pulling 64e8f4d6856f... 100% ▕▏ 7.9 GB                         \n",
            "pulling fa8235e5b48f... 100% ▕▏ 1.1 KB                         \n",
            "pulling 542b217f179c... 100% ▕▏  148 B                         \n",
            "pulling 8dde1baf1db0... 100% ▕▏   78 B                         \n",
            "pulling c96afb4d9900... 100% ▕▏  484 B                         \n",
            "verifying sha256 digest ⠹ \u001b[?25h\u001b[?25l\u001b[2K\u001b[1G\u001b[A\u001b[2K\u001b[1G\u001b[A\u001b[2K\u001b[1G\u001b[A\u001b[2K\u001b[1G\u001b[A\u001b[2K\u001b[1G\u001b[A\u001b[2K\u001b[1G\u001b[A\u001b[2K\u001b[1Gpulling manifest \n",
            "pulling 64e8f4d6856f... 100% ▕▏ 7.9 GB                         \n",
            "pulling fa8235e5b48f... 100% ▕▏ 1.1 KB                         \n",
            "pulling 542b217f179c... 100% ▕▏  148 B                         \n",
            "pulling 8dde1baf1db0... 100% ▕▏   78 B                         \n",
            "pulling c96afb4d9900... 100% ▕▏  484 B                         \n",
            "verifying sha256 digest ⠸ \u001b[?25h\u001b[?25l\u001b[2K\u001b[1G\u001b[A\u001b[2K\u001b[1G\u001b[A\u001b[2K\u001b[1G\u001b[A\u001b[2K\u001b[1G\u001b[A\u001b[2K\u001b[1G\u001b[A\u001b[2K\u001b[1G\u001b[A\u001b[2K\u001b[1Gpulling manifest \n",
            "pulling 64e8f4d6856f... 100% ▕▏ 7.9 GB                         \n",
            "pulling fa8235e5b48f... 100% ▕▏ 1.1 KB                         \n",
            "pulling 542b217f179c... 100% ▕▏  148 B                         \n",
            "pulling 8dde1baf1db0... 100% ▕▏   78 B                         \n",
            "pulling c96afb4d9900... 100% ▕▏  484 B                         \n",
            "verifying sha256 digest ⠼ \u001b[?25h\u001b[?25l\u001b[2K\u001b[1G\u001b[A\u001b[2K\u001b[1G\u001b[A\u001b[2K\u001b[1G\u001b[A\u001b[2K\u001b[1G\u001b[A\u001b[2K\u001b[1G\u001b[A\u001b[2K\u001b[1G\u001b[A\u001b[2K\u001b[1Gpulling manifest \n",
            "pulling 64e8f4d6856f... 100% ▕▏ 7.9 GB                         \n",
            "pulling fa8235e5b48f... 100% ▕▏ 1.1 KB                         \n",
            "pulling 542b217f179c... 100% ▕▏  148 B                         \n",
            "pulling 8dde1baf1db0... 100% ▕▏   78 B                         \n",
            "pulling c96afb4d9900... 100% ▕▏  484 B                         \n",
            "verifying sha256 digest ⠴ \u001b[?25h\u001b[?25l\u001b[2K\u001b[1G\u001b[A\u001b[2K\u001b[1G\u001b[A\u001b[2K\u001b[1G\u001b[A\u001b[2K\u001b[1G\u001b[A\u001b[2K\u001b[1G\u001b[A\u001b[2K\u001b[1G\u001b[A\u001b[2K\u001b[1Gpulling manifest \n",
            "pulling 64e8f4d6856f... 100% ▕▏ 7.9 GB                         \n",
            "pulling fa8235e5b48f... 100% ▕▏ 1.1 KB                         \n",
            "pulling 542b217f179c... 100% ▕▏  148 B                         \n",
            "pulling 8dde1baf1db0... 100% ▕▏   78 B                         \n",
            "pulling c96afb4d9900... 100% ▕▏  484 B                         \n",
            "verifying sha256 digest ⠦ \u001b[?25h\u001b[?25l\u001b[2K\u001b[1G\u001b[A\u001b[2K\u001b[1G\u001b[A\u001b[2K\u001b[1G\u001b[A\u001b[2K\u001b[1G\u001b[A\u001b[2K\u001b[1G\u001b[A\u001b[2K\u001b[1G\u001b[A\u001b[2K\u001b[1Gpulling manifest \n",
            "pulling 64e8f4d6856f... 100% ▕▏ 7.9 GB                         \n",
            "pulling fa8235e5b48f... 100% ▕▏ 1.1 KB                         \n",
            "pulling 542b217f179c... 100% ▕▏  148 B                         \n",
            "pulling 8dde1baf1db0... 100% ▕▏   78 B                         \n",
            "pulling c96afb4d9900... 100% ▕▏  484 B                         \n",
            "verifying sha256 digest ⠧ \u001b[?25h\u001b[?25l\u001b[2K\u001b[1G\u001b[A\u001b[2K\u001b[1G\u001b[A\u001b[2K\u001b[1G\u001b[A\u001b[2K\u001b[1G\u001b[A\u001b[2K\u001b[1G\u001b[A\u001b[2K\u001b[1G\u001b[A\u001b[2K\u001b[1Gpulling manifest \n",
            "pulling 64e8f4d6856f... 100% ▕▏ 7.9 GB                         \n",
            "pulling fa8235e5b48f... 100% ▕▏ 1.1 KB                         \n",
            "pulling 542b217f179c... 100% ▕▏  148 B                         \n",
            "pulling 8dde1baf1db0... 100% ▕▏   78 B                         \n",
            "pulling c96afb4d9900... 100% ▕▏  484 B                         \n",
            "verifying sha256 digest ⠇ \u001b[?25h\u001b[?25l\u001b[2K\u001b[1G\u001b[A\u001b[2K\u001b[1G\u001b[A\u001b[2K\u001b[1G\u001b[A\u001b[2K\u001b[1G\u001b[A\u001b[2K\u001b[1G\u001b[A\u001b[2K\u001b[1G\u001b[A\u001b[2K\u001b[1Gpulling manifest \n",
            "pulling 64e8f4d6856f... 100% ▕▏ 7.9 GB                         \n",
            "pulling fa8235e5b48f... 100% ▕▏ 1.1 KB                         \n",
            "pulling 542b217f179c... 100% ▕▏  148 B                         \n",
            "pulling 8dde1baf1db0... 100% ▕▏   78 B                         \n",
            "pulling c96afb4d9900... 100% ▕▏  484 B                         \n",
            "verifying sha256 digest ⠏ \u001b[?25h\u001b[?25l\u001b[2K\u001b[1G\u001b[A\u001b[2K\u001b[1G\u001b[A\u001b[2K\u001b[1G\u001b[A\u001b[2K\u001b[1G\u001b[A\u001b[2K\u001b[1G\u001b[A\u001b[2K\u001b[1G\u001b[A\u001b[2K\u001b[1Gpulling manifest \n",
            "pulling 64e8f4d6856f... 100% ▕▏ 7.9 GB                         \n",
            "pulling fa8235e5b48f... 100% ▕▏ 1.1 KB                         \n",
            "pulling 542b217f179c... 100% ▕▏  148 B                         \n",
            "pulling 8dde1baf1db0... 100% ▕▏   78 B                         \n",
            "pulling c96afb4d9900... 100% ▕▏  484 B                         \n",
            "verifying sha256 digest ⠋ \u001b[?25h\u001b[?25l\u001b[2K\u001b[1G\u001b[A\u001b[2K\u001b[1G\u001b[A\u001b[2K\u001b[1G\u001b[A\u001b[2K\u001b[1G\u001b[A\u001b[2K\u001b[1G\u001b[A\u001b[2K\u001b[1G\u001b[A\u001b[2K\u001b[1Gpulling manifest \n",
            "pulling 64e8f4d6856f... 100% ▕▏ 7.9 GB                         \n",
            "pulling fa8235e5b48f... 100% ▕▏ 1.1 KB                         \n",
            "pulling 542b217f179c... 100% ▕▏  148 B                         \n",
            "pulling 8dde1baf1db0... 100% ▕▏   78 B                         \n",
            "pulling c96afb4d9900... 100% ▕▏  484 B                         \n",
            "verifying sha256 digest ⠙ \u001b[?25h\u001b[?25l\u001b[2K\u001b[1G\u001b[A\u001b[2K\u001b[1G\u001b[A\u001b[2K\u001b[1G\u001b[A\u001b[2K\u001b[1G\u001b[A\u001b[2K\u001b[1G\u001b[A\u001b[2K\u001b[1G\u001b[A\u001b[2K\u001b[1Gpulling manifest \n",
            "pulling 64e8f4d6856f... 100% ▕▏ 7.9 GB                         \n",
            "pulling fa8235e5b48f... 100% ▕▏ 1.1 KB                         \n",
            "pulling 542b217f179c... 100% ▕▏  148 B                         \n",
            "pulling 8dde1baf1db0... 100% ▕▏   78 B                         \n",
            "pulling c96afb4d9900... 100% ▕▏  484 B                         \n",
            "verifying sha256 digest ⠹ \u001b[?25h\u001b[?25l\u001b[2K\u001b[1G\u001b[A\u001b[2K\u001b[1G\u001b[A\u001b[2K\u001b[1G\u001b[A\u001b[2K\u001b[1G\u001b[A\u001b[2K\u001b[1G\u001b[A\u001b[2K\u001b[1G\u001b[A\u001b[2K\u001b[1Gpulling manifest \n",
            "pulling 64e8f4d6856f... 100% ▕▏ 7.9 GB                         \n",
            "pulling fa8235e5b48f... 100% ▕▏ 1.1 KB                         \n",
            "pulling 542b217f179c... 100% ▕▏  148 B                         \n",
            "pulling 8dde1baf1db0... 100% ▕▏   78 B                         \n",
            "pulling c96afb4d9900... 100% ▕▏  484 B                         \n",
            "verifying sha256 digest ⠸ \u001b[?25h\u001b[?25l\u001b[2K\u001b[1G\u001b[A\u001b[2K\u001b[1G\u001b[A\u001b[2K\u001b[1G\u001b[A\u001b[2K\u001b[1G\u001b[A\u001b[2K\u001b[1G\u001b[A\u001b[2K\u001b[1G\u001b[A\u001b[2K\u001b[1Gpulling manifest \n",
            "pulling 64e8f4d6856f... 100% ▕▏ 7.9 GB                         \n",
            "pulling fa8235e5b48f... 100% ▕▏ 1.1 KB                         \n",
            "pulling 542b217f179c... 100% ▕▏  148 B                         \n",
            "pulling 8dde1baf1db0... 100% ▕▏   78 B                         \n",
            "pulling c96afb4d9900... 100% ▕▏  484 B                         \n",
            "verifying sha256 digest ⠼ \u001b[?25h\u001b[?25l\u001b[2K\u001b[1G\u001b[A\u001b[2K\u001b[1G\u001b[A\u001b[2K\u001b[1G\u001b[A\u001b[2K\u001b[1G\u001b[A\u001b[2K\u001b[1G\u001b[A\u001b[2K\u001b[1G\u001b[A\u001b[2K\u001b[1Gpulling manifest \n",
            "pulling 64e8f4d6856f... 100% ▕▏ 7.9 GB                         \n",
            "pulling fa8235e5b48f... 100% ▕▏ 1.1 KB                         \n",
            "pulling 542b217f179c... 100% ▕▏  148 B                         \n",
            "pulling 8dde1baf1db0... 100% ▕▏   78 B                         \n",
            "pulling c96afb4d9900... 100% ▕▏  484 B                         \n",
            "verifying sha256 digest ⠴ \u001b[?25h\u001b[?25l\u001b[2K\u001b[1G\u001b[A\u001b[2K\u001b[1G\u001b[A\u001b[2K\u001b[1G\u001b[A\u001b[2K\u001b[1G\u001b[A\u001b[2K\u001b[1G\u001b[A\u001b[2K\u001b[1G\u001b[A\u001b[2K\u001b[1Gpulling manifest \n",
            "pulling 64e8f4d6856f... 100% ▕▏ 7.9 GB                         \n",
            "pulling fa8235e5b48f... 100% ▕▏ 1.1 KB                         \n",
            "pulling 542b217f179c... 100% ▕▏  148 B                         \n",
            "pulling 8dde1baf1db0... 100% ▕▏   78 B                         \n",
            "pulling c96afb4d9900... 100% ▕▏  484 B                         \n",
            "verifying sha256 digest ⠦ \u001b[?25h\u001b[?25l\u001b[2K\u001b[1G\u001b[A\u001b[2K\u001b[1G\u001b[A\u001b[2K\u001b[1G\u001b[A\u001b[2K\u001b[1G\u001b[A\u001b[2K\u001b[1G\u001b[A\u001b[2K\u001b[1G\u001b[A\u001b[2K\u001b[1Gpulling manifest \n",
            "pulling 64e8f4d6856f... 100% ▕▏ 7.9 GB                         \n",
            "pulling fa8235e5b48f... 100% ▕▏ 1.1 KB                         \n",
            "pulling 542b217f179c... 100% ▕▏  148 B                         \n",
            "pulling 8dde1baf1db0... 100% ▕▏   78 B                         \n",
            "pulling c96afb4d9900... 100% ▕▏  484 B                         \n",
            "verifying sha256 digest ⠧ \u001b[?25h\u001b[?25l\u001b[2K\u001b[1G\u001b[A\u001b[2K\u001b[1G\u001b[A\u001b[2K\u001b[1G\u001b[A\u001b[2K\u001b[1G\u001b[A\u001b[2K\u001b[1G\u001b[A\u001b[2K\u001b[1G\u001b[A\u001b[2K\u001b[1Gpulling manifest \n",
            "pulling 64e8f4d6856f... 100% ▕▏ 7.9 GB                         \n",
            "pulling fa8235e5b48f... 100% ▕▏ 1.1 KB                         \n",
            "pulling 542b217f179c... 100% ▕▏  148 B                         \n",
            "pulling 8dde1baf1db0... 100% ▕▏   78 B                         \n",
            "pulling c96afb4d9900... 100% ▕▏  484 B                         \n",
            "verifying sha256 digest ⠇ \u001b[?25h\u001b[?25l\u001b[2K\u001b[1G\u001b[A\u001b[2K\u001b[1G\u001b[A\u001b[2K\u001b[1G\u001b[A\u001b[2K\u001b[1G\u001b[A\u001b[2K\u001b[1G\u001b[A\u001b[2K\u001b[1G\u001b[A\u001b[2K\u001b[1Gpulling manifest \n",
            "pulling 64e8f4d6856f... 100% ▕▏ 7.9 GB                         \n",
            "pulling fa8235e5b48f... 100% ▕▏ 1.1 KB                         \n",
            "pulling 542b217f179c... 100% ▕▏  148 B                         \n",
            "pulling 8dde1baf1db0... 100% ▕▏   78 B                         \n",
            "pulling c96afb4d9900... 100% ▕▏  484 B                         \n",
            "verifying sha256 digest ⠏ \u001b[?25h\u001b[?25l\u001b[2K\u001b[1G\u001b[A\u001b[2K\u001b[1G\u001b[A\u001b[2K\u001b[1G\u001b[A\u001b[2K\u001b[1G\u001b[A\u001b[2K\u001b[1G\u001b[A\u001b[2K\u001b[1G\u001b[A\u001b[2K\u001b[1Gpulling manifest \n",
            "pulling 64e8f4d6856f... 100% ▕▏ 7.9 GB                         \n",
            "pulling fa8235e5b48f... 100% ▕▏ 1.1 KB                         \n",
            "pulling 542b217f179c... 100% ▕▏  148 B                         \n",
            "pulling 8dde1baf1db0... 100% ▕▏   78 B                         \n",
            "pulling c96afb4d9900... 100% ▕▏  484 B                         \n",
            "verifying sha256 digest ⠋ \u001b[?25h\u001b[?25l\u001b[2K\u001b[1G\u001b[A\u001b[2K\u001b[1G\u001b[A\u001b[2K\u001b[1G\u001b[A\u001b[2K\u001b[1G\u001b[A\u001b[2K\u001b[1G\u001b[A\u001b[2K\u001b[1G\u001b[A\u001b[2K\u001b[1Gpulling manifest \n",
            "pulling 64e8f4d6856f... 100% ▕▏ 7.9 GB                         \n",
            "pulling fa8235e5b48f... 100% ▕▏ 1.1 KB                         \n",
            "pulling 542b217f179c... 100% ▕▏  148 B                         \n",
            "pulling 8dde1baf1db0... 100% ▕▏   78 B                         \n",
            "pulling c96afb4d9900... 100% ▕▏  484 B                         \n",
            "verifying sha256 digest ⠙ \u001b[?25h\u001b[?25l\u001b[2K\u001b[1G\u001b[A\u001b[2K\u001b[1G\u001b[A\u001b[2K\u001b[1G\u001b[A\u001b[2K\u001b[1G\u001b[A\u001b[2K\u001b[1G\u001b[A\u001b[2K\u001b[1G\u001b[A\u001b[2K\u001b[1Gpulling manifest \n",
            "pulling 64e8f4d6856f... 100% ▕▏ 7.9 GB                         \n",
            "pulling fa8235e5b48f... 100% ▕▏ 1.1 KB                         \n",
            "pulling 542b217f179c... 100% ▕▏  148 B                         \n",
            "pulling 8dde1baf1db0... 100% ▕▏   78 B                         \n",
            "pulling c96afb4d9900... 100% ▕▏  484 B                         \n",
            "verifying sha256 digest ⠹ \u001b[?25h\u001b[?25l\u001b[2K\u001b[1G\u001b[A\u001b[2K\u001b[1G\u001b[A\u001b[2K\u001b[1G\u001b[A\u001b[2K\u001b[1G\u001b[A\u001b[2K\u001b[1G\u001b[A\u001b[2K\u001b[1G\u001b[A\u001b[2K\u001b[1Gpulling manifest \n",
            "pulling 64e8f4d6856f... 100% ▕▏ 7.9 GB                         \n",
            "pulling fa8235e5b48f... 100% ▕▏ 1.1 KB                         \n",
            "pulling 542b217f179c... 100% ▕▏  148 B                         \n",
            "pulling 8dde1baf1db0... 100% ▕▏   78 B                         \n",
            "pulling c96afb4d9900... 100% ▕▏  484 B                         \n",
            "verifying sha256 digest ⠸ \u001b[?25h\u001b[?25l\u001b[2K\u001b[1G\u001b[A\u001b[2K\u001b[1G\u001b[A\u001b[2K\u001b[1G\u001b[A\u001b[2K\u001b[1G\u001b[A\u001b[2K\u001b[1G\u001b[A\u001b[2K\u001b[1G\u001b[A\u001b[2K\u001b[1Gpulling manifest \n",
            "pulling 64e8f4d6856f... 100% ▕▏ 7.9 GB                         \n",
            "pulling fa8235e5b48f... 100% ▕▏ 1.1 KB                         \n",
            "pulling 542b217f179c... 100% ▕▏  148 B                         \n",
            "pulling 8dde1baf1db0... 100% ▕▏   78 B                         \n",
            "pulling c96afb4d9900... 100% ▕▏  484 B                         \n",
            "verifying sha256 digest ⠼ \u001b[?25h\u001b[?25l\u001b[2K\u001b[1G\u001b[A\u001b[2K\u001b[1G\u001b[A\u001b[2K\u001b[1G\u001b[A\u001b[2K\u001b[1G\u001b[A\u001b[2K\u001b[1G\u001b[A\u001b[2K\u001b[1G\u001b[A\u001b[2K\u001b[1Gpulling manifest \n",
            "pulling 64e8f4d6856f... 100% ▕▏ 7.9 GB                         \n",
            "pulling fa8235e5b48f... 100% ▕▏ 1.1 KB                         \n",
            "pulling 542b217f179c... 100% ▕▏  148 B                         \n",
            "pulling 8dde1baf1db0... 100% ▕▏   78 B                         \n",
            "pulling c96afb4d9900... 100% ▕▏  484 B                         \n",
            "verifying sha256 digest ⠴ \u001b[?25h\u001b[?25l\u001b[2K\u001b[1G\u001b[A\u001b[2K\u001b[1G\u001b[A\u001b[2K\u001b[1G\u001b[A\u001b[2K\u001b[1G\u001b[A\u001b[2K\u001b[1G\u001b[A\u001b[2K\u001b[1G\u001b[A\u001b[2K\u001b[1Gpulling manifest \n",
            "pulling 64e8f4d6856f... 100% ▕▏ 7.9 GB                         \n",
            "pulling fa8235e5b48f... 100% ▕▏ 1.1 KB                         \n",
            "pulling 542b217f179c... 100% ▕▏  148 B                         \n",
            "pulling 8dde1baf1db0... 100% ▕▏   78 B                         \n",
            "pulling c96afb4d9900... 100% ▕▏  484 B                         \n",
            "verifying sha256 digest ⠦ \u001b[?25h\u001b[?25l\u001b[2K\u001b[1G\u001b[A\u001b[2K\u001b[1G\u001b[A\u001b[2K\u001b[1G\u001b[A\u001b[2K\u001b[1G\u001b[A\u001b[2K\u001b[1G\u001b[A\u001b[2K\u001b[1G\u001b[A\u001b[2K\u001b[1Gpulling manifest \n",
            "pulling 64e8f4d6856f... 100% ▕▏ 7.9 GB                         \n",
            "pulling fa8235e5b48f... 100% ▕▏ 1.1 KB                         \n",
            "pulling 542b217f179c... 100% ▕▏  148 B                         \n",
            "pulling 8dde1baf1db0... 100% ▕▏   78 B                         \n",
            "pulling c96afb4d9900... 100% ▕▏  484 B                         \n",
            "verifying sha256 digest ⠧ \u001b[?25h\u001b[?25l\u001b[2K\u001b[1G\u001b[A\u001b[2K\u001b[1G\u001b[A\u001b[2K\u001b[1G\u001b[A\u001b[2K\u001b[1G\u001b[A\u001b[2K\u001b[1G\u001b[A\u001b[2K\u001b[1G\u001b[A\u001b[2K\u001b[1Gpulling manifest \n",
            "pulling 64e8f4d6856f... 100% ▕▏ 7.9 GB                         \n",
            "pulling fa8235e5b48f... 100% ▕▏ 1.1 KB                         \n",
            "pulling 542b217f179c... 100% ▕▏  148 B                         \n",
            "pulling 8dde1baf1db0... 100% ▕▏   78 B                         \n",
            "pulling c96afb4d9900... 100% ▕▏  484 B                         \n",
            "verifying sha256 digest ⠇ \u001b[?25h\u001b[?25l\u001b[2K\u001b[1G\u001b[A\u001b[2K\u001b[1G\u001b[A\u001b[2K\u001b[1G\u001b[A\u001b[2K\u001b[1G\u001b[A\u001b[2K\u001b[1G\u001b[A\u001b[2K\u001b[1G\u001b[A\u001b[2K\u001b[1Gpulling manifest \n",
            "pulling 64e8f4d6856f... 100% ▕▏ 7.9 GB                         \n",
            "pulling fa8235e5b48f... 100% ▕▏ 1.1 KB                         \n",
            "pulling 542b217f179c... 100% ▕▏  148 B                         \n",
            "pulling 8dde1baf1db0... 100% ▕▏   78 B                         \n",
            "pulling c96afb4d9900... 100% ▕▏  484 B                         \n",
            "verifying sha256 digest ⠏ \u001b[?25h\u001b[?25l\u001b[2K\u001b[1G\u001b[A\u001b[2K\u001b[1G\u001b[A\u001b[2K\u001b[1G\u001b[A\u001b[2K\u001b[1G\u001b[A\u001b[2K\u001b[1G\u001b[A\u001b[2K\u001b[1G\u001b[A\u001b[2K\u001b[1Gpulling manifest \n",
            "pulling 64e8f4d6856f... 100% ▕▏ 7.9 GB                         \n",
            "pulling fa8235e5b48f... 100% ▕▏ 1.1 KB                         \n",
            "pulling 542b217f179c... 100% ▕▏  148 B                         \n",
            "pulling 8dde1baf1db0... 100% ▕▏   78 B                         \n",
            "pulling c96afb4d9900... 100% ▕▏  484 B                         \n",
            "verifying sha256 digest ⠋ \u001b[?25h\u001b[?25l\u001b[2K\u001b[1G\u001b[A\u001b[2K\u001b[1G\u001b[A\u001b[2K\u001b[1G\u001b[A\u001b[2K\u001b[1G\u001b[A\u001b[2K\u001b[1G\u001b[A\u001b[2K\u001b[1G\u001b[A\u001b[2K\u001b[1Gpulling manifest \n",
            "pulling 64e8f4d6856f... 100% ▕▏ 7.9 GB                         \n",
            "pulling fa8235e5b48f... 100% ▕▏ 1.1 KB                         \n",
            "pulling 542b217f179c... 100% ▕▏  148 B                         \n",
            "pulling 8dde1baf1db0... 100% ▕▏   78 B                         \n",
            "pulling c96afb4d9900... 100% ▕▏  484 B                         \n",
            "verifying sha256 digest ⠙ \u001b[?25h\u001b[?25l\u001b[2K\u001b[1G\u001b[A\u001b[2K\u001b[1G\u001b[A\u001b[2K\u001b[1G\u001b[A\u001b[2K\u001b[1G\u001b[A\u001b[2K\u001b[1G\u001b[A\u001b[2K\u001b[1G\u001b[A\u001b[2K\u001b[1Gpulling manifest \n",
            "pulling 64e8f4d6856f... 100% ▕▏ 7.9 GB                         \n",
            "pulling fa8235e5b48f... 100% ▕▏ 1.1 KB                         \n",
            "pulling 542b217f179c... 100% ▕▏  148 B                         \n",
            "pulling 8dde1baf1db0... 100% ▕▏   78 B                         \n",
            "pulling c96afb4d9900... 100% ▕▏  484 B                         \n",
            "verifying sha256 digest ⠹ \u001b[?25h\u001b[?25l\u001b[2K\u001b[1G\u001b[A\u001b[2K\u001b[1G\u001b[A\u001b[2K\u001b[1G\u001b[A\u001b[2K\u001b[1G\u001b[A\u001b[2K\u001b[1G\u001b[A\u001b[2K\u001b[1G\u001b[A\u001b[2K\u001b[1Gpulling manifest \n",
            "pulling 64e8f4d6856f... 100% ▕▏ 7.9 GB                         \n",
            "pulling fa8235e5b48f... 100% ▕▏ 1.1 KB                         \n",
            "pulling 542b217f179c... 100% ▕▏  148 B                         \n",
            "pulling 8dde1baf1db0... 100% ▕▏   78 B                         \n",
            "pulling c96afb4d9900... 100% ▕▏  484 B                         \n",
            "verifying sha256 digest ⠸ \u001b[?25h\u001b[?25l\u001b[2K\u001b[1G\u001b[A\u001b[2K\u001b[1G\u001b[A\u001b[2K\u001b[1G\u001b[A\u001b[2K\u001b[1G\u001b[A\u001b[2K\u001b[1G\u001b[A\u001b[2K\u001b[1G\u001b[A\u001b[2K\u001b[1Gpulling manifest \n",
            "pulling 64e8f4d6856f... 100% ▕▏ 7.9 GB                         \n",
            "pulling fa8235e5b48f... 100% ▕▏ 1.1 KB                         \n",
            "pulling 542b217f179c... 100% ▕▏  148 B                         \n",
            "pulling 8dde1baf1db0... 100% ▕▏   78 B                         \n",
            "pulling c96afb4d9900... 100% ▕▏  484 B                         \n",
            "verifying sha256 digest ⠼ \u001b[?25h\u001b[?25l\u001b[2K\u001b[1G\u001b[A\u001b[2K\u001b[1G\u001b[A\u001b[2K\u001b[1G\u001b[A\u001b[2K\u001b[1G\u001b[A\u001b[2K\u001b[1G\u001b[A\u001b[2K\u001b[1G\u001b[A\u001b[2K\u001b[1Gpulling manifest \n",
            "pulling 64e8f4d6856f... 100% ▕▏ 7.9 GB                         \n",
            "pulling fa8235e5b48f... 100% ▕▏ 1.1 KB                         \n",
            "pulling 542b217f179c... 100% ▕▏  148 B                         \n",
            "pulling 8dde1baf1db0... 100% ▕▏   78 B                         \n",
            "pulling c96afb4d9900... 100% ▕▏  484 B                         \n",
            "verifying sha256 digest ⠴ \u001b[?25h\u001b[?25l\u001b[2K\u001b[1G\u001b[A\u001b[2K\u001b[1G\u001b[A\u001b[2K\u001b[1G\u001b[A\u001b[2K\u001b[1G\u001b[A\u001b[2K\u001b[1G\u001b[A\u001b[2K\u001b[1G\u001b[A\u001b[2K\u001b[1Gpulling manifest \n",
            "pulling 64e8f4d6856f... 100% ▕▏ 7.9 GB                         \n",
            "pulling fa8235e5b48f... 100% ▕▏ 1.1 KB                         \n",
            "pulling 542b217f179c... 100% ▕▏  148 B                         \n",
            "pulling 8dde1baf1db0... 100% ▕▏   78 B                         \n",
            "pulling c96afb4d9900... 100% ▕▏  484 B                         \n",
            "verifying sha256 digest ⠦ \u001b[?25h\u001b[?25l\u001b[2K\u001b[1G\u001b[A\u001b[2K\u001b[1G\u001b[A\u001b[2K\u001b[1G\u001b[A\u001b[2K\u001b[1G\u001b[A\u001b[2K\u001b[1G\u001b[A\u001b[2K\u001b[1G\u001b[A\u001b[2K\u001b[1Gpulling manifest \n",
            "pulling 64e8f4d6856f... 100% ▕▏ 7.9 GB                         \n",
            "pulling fa8235e5b48f... 100% ▕▏ 1.1 KB                         \n",
            "pulling 542b217f179c... 100% ▕▏  148 B                         \n",
            "pulling 8dde1baf1db0... 100% ▕▏   78 B                         \n",
            "pulling c96afb4d9900... 100% ▕▏  484 B                         \n",
            "verifying sha256 digest ⠧ \u001b[?25h\u001b[?25l\u001b[2K\u001b[1G\u001b[A\u001b[2K\u001b[1G\u001b[A\u001b[2K\u001b[1G\u001b[A\u001b[2K\u001b[1G\u001b[A\u001b[2K\u001b[1G\u001b[A\u001b[2K\u001b[1G\u001b[A\u001b[2K\u001b[1Gpulling manifest \n",
            "pulling 64e8f4d6856f... 100% ▕▏ 7.9 GB                         \n",
            "pulling fa8235e5b48f... 100% ▕▏ 1.1 KB                         \n",
            "pulling 542b217f179c... 100% ▕▏  148 B                         \n",
            "pulling 8dde1baf1db0... 100% ▕▏   78 B                         \n",
            "pulling c96afb4d9900... 100% ▕▏  484 B                         \n",
            "verifying sha256 digest ⠇ \u001b[?25h\u001b[?25l\u001b[2K\u001b[1G\u001b[A\u001b[2K\u001b[1G\u001b[A\u001b[2K\u001b[1G\u001b[A\u001b[2K\u001b[1G\u001b[A\u001b[2K\u001b[1G\u001b[A\u001b[2K\u001b[1G\u001b[A\u001b[2K\u001b[1Gpulling manifest \n",
            "pulling 64e8f4d6856f... 100% ▕▏ 7.9 GB                         \n",
            "pulling fa8235e5b48f... 100% ▕▏ 1.1 KB                         \n",
            "pulling 542b217f179c... 100% ▕▏  148 B                         \n",
            "pulling 8dde1baf1db0... 100% ▕▏   78 B                         \n",
            "pulling c96afb4d9900... 100% ▕▏  484 B                         \n",
            "verifying sha256 digest ⠏ \u001b[?25h\u001b[?25l\u001b[2K\u001b[1G\u001b[A\u001b[2K\u001b[1G\u001b[A\u001b[2K\u001b[1G\u001b[A\u001b[2K\u001b[1G\u001b[A\u001b[2K\u001b[1G\u001b[A\u001b[2K\u001b[1G\u001b[A\u001b[2K\u001b[1Gpulling manifest \n",
            "pulling 64e8f4d6856f... 100% ▕▏ 7.9 GB                         \n",
            "pulling fa8235e5b48f... 100% ▕▏ 1.1 KB                         \n",
            "pulling 542b217f179c... 100% ▕▏  148 B                         \n",
            "pulling 8dde1baf1db0... 100% ▕▏   78 B                         \n",
            "pulling c96afb4d9900... 100% ▕▏  484 B                         \n",
            "verifying sha256 digest ⠋ \u001b[?25h\u001b[?25l\u001b[2K\u001b[1G\u001b[A\u001b[2K\u001b[1G\u001b[A\u001b[2K\u001b[1G\u001b[A\u001b[2K\u001b[1G\u001b[A\u001b[2K\u001b[1G\u001b[A\u001b[2K\u001b[1G\u001b[A\u001b[2K\u001b[1Gpulling manifest \n",
            "pulling 64e8f4d6856f... 100% ▕▏ 7.9 GB                         \n",
            "pulling fa8235e5b48f... 100% ▕▏ 1.1 KB                         \n",
            "pulling 542b217f179c... 100% ▕▏  148 B                         \n",
            "pulling 8dde1baf1db0... 100% ▕▏   78 B                         \n",
            "pulling c96afb4d9900... 100% ▕▏  484 B                         \n",
            "verifying sha256 digest ⠙ \u001b[?25h\u001b[?25l\u001b[2K\u001b[1G\u001b[A\u001b[2K\u001b[1G\u001b[A\u001b[2K\u001b[1G\u001b[A\u001b[2K\u001b[1G\u001b[A\u001b[2K\u001b[1G\u001b[A\u001b[2K\u001b[1G\u001b[A\u001b[2K\u001b[1Gpulling manifest \n",
            "pulling 64e8f4d6856f... 100% ▕▏ 7.9 GB                         \n",
            "pulling fa8235e5b48f... 100% ▕▏ 1.1 KB                         \n",
            "pulling 542b217f179c... 100% ▕▏  148 B                         \n",
            "pulling 8dde1baf1db0... 100% ▕▏   78 B                         \n",
            "pulling c96afb4d9900... 100% ▕▏  484 B                         \n",
            "verifying sha256 digest ⠹ \u001b[?25h\u001b[?25l\u001b[2K\u001b[1G\u001b[A\u001b[2K\u001b[1G\u001b[A\u001b[2K\u001b[1G\u001b[A\u001b[2K\u001b[1G\u001b[A\u001b[2K\u001b[1G\u001b[A\u001b[2K\u001b[1G\u001b[A\u001b[2K\u001b[1Gpulling manifest \n",
            "pulling 64e8f4d6856f... 100% ▕▏ 7.9 GB                         \n",
            "pulling fa8235e5b48f... 100% ▕▏ 1.1 KB                         \n",
            "pulling 542b217f179c... 100% ▕▏  148 B                         \n",
            "pulling 8dde1baf1db0... 100% ▕▏   78 B                         \n",
            "pulling c96afb4d9900... 100% ▕▏  484 B                         \n",
            "verifying sha256 digest ⠸ \u001b[?25h\u001b[?25l\u001b[2K\u001b[1G\u001b[A\u001b[2K\u001b[1G\u001b[A\u001b[2K\u001b[1G\u001b[A\u001b[2K\u001b[1G\u001b[A\u001b[2K\u001b[1G\u001b[A\u001b[2K\u001b[1G\u001b[A\u001b[2K\u001b[1Gpulling manifest \n",
            "pulling 64e8f4d6856f... 100% ▕▏ 7.9 GB                         \n",
            "pulling fa8235e5b48f... 100% ▕▏ 1.1 KB                         \n",
            "pulling 542b217f179c... 100% ▕▏  148 B                         \n",
            "pulling 8dde1baf1db0... 100% ▕▏   78 B                         \n",
            "pulling c96afb4d9900... 100% ▕▏  484 B                         \n",
            "verifying sha256 digest ⠼ \u001b[?25h\u001b[?25l\u001b[2K\u001b[1G\u001b[A\u001b[2K\u001b[1G\u001b[A\u001b[2K\u001b[1G\u001b[A\u001b[2K\u001b[1G\u001b[A\u001b[2K\u001b[1G\u001b[A\u001b[2K\u001b[1G\u001b[A\u001b[2K\u001b[1Gpulling manifest \n",
            "pulling 64e8f4d6856f... 100% ▕▏ 7.9 GB                         \n",
            "pulling fa8235e5b48f... 100% ▕▏ 1.1 KB                         \n",
            "pulling 542b217f179c... 100% ▕▏  148 B                         \n",
            "pulling 8dde1baf1db0... 100% ▕▏   78 B                         \n",
            "pulling c96afb4d9900... 100% ▕▏  484 B                         \n",
            "verifying sha256 digest ⠴ \u001b[?25h\u001b[?25l\u001b[2K\u001b[1G\u001b[A\u001b[2K\u001b[1G\u001b[A\u001b[2K\u001b[1G\u001b[A\u001b[2K\u001b[1G\u001b[A\u001b[2K\u001b[1G\u001b[A\u001b[2K\u001b[1G\u001b[A\u001b[2K\u001b[1Gpulling manifest \n",
            "pulling 64e8f4d6856f... 100% ▕▏ 7.9 GB                         \n",
            "pulling fa8235e5b48f... 100% ▕▏ 1.1 KB                         \n",
            "pulling 542b217f179c... 100% ▕▏  148 B                         \n",
            "pulling 8dde1baf1db0... 100% ▕▏   78 B                         \n",
            "pulling c96afb4d9900... 100% ▕▏  484 B                         \n",
            "verifying sha256 digest ⠦ \u001b[?25h\u001b[?25l\u001b[2K\u001b[1G\u001b[A\u001b[2K\u001b[1G\u001b[A\u001b[2K\u001b[1G\u001b[A\u001b[2K\u001b[1G\u001b[A\u001b[2K\u001b[1G\u001b[A\u001b[2K\u001b[1G\u001b[A\u001b[2K\u001b[1Gpulling manifest \n",
            "pulling 64e8f4d6856f... 100% ▕▏ 7.9 GB                         \n",
            "pulling fa8235e5b48f... 100% ▕▏ 1.1 KB                         \n",
            "pulling 542b217f179c... 100% ▕▏  148 B                         \n",
            "pulling 8dde1baf1db0... 100% ▕▏   78 B                         \n",
            "pulling c96afb4d9900... 100% ▕▏  484 B                         \n",
            "verifying sha256 digest ⠧ \u001b[?25h\u001b[?25l\u001b[2K\u001b[1G\u001b[A\u001b[2K\u001b[1G\u001b[A\u001b[2K\u001b[1G\u001b[A\u001b[2K\u001b[1G\u001b[A\u001b[2K\u001b[1G\u001b[A\u001b[2K\u001b[1G\u001b[A\u001b[2K\u001b[1Gpulling manifest \n",
            "pulling 64e8f4d6856f... 100% ▕▏ 7.9 GB                         \n",
            "pulling fa8235e5b48f... 100% ▕▏ 1.1 KB                         \n",
            "pulling 542b217f179c... 100% ▕▏  148 B                         \n",
            "pulling 8dde1baf1db0... 100% ▕▏   78 B                         \n",
            "pulling c96afb4d9900... 100% ▕▏  484 B                         \n",
            "verifying sha256 digest ⠇ \u001b[?25h\u001b[?25l\u001b[2K\u001b[1G\u001b[A\u001b[2K\u001b[1G\u001b[A\u001b[2K\u001b[1G\u001b[A\u001b[2K\u001b[1G\u001b[A\u001b[2K\u001b[1G\u001b[A\u001b[2K\u001b[1G\u001b[A\u001b[2K\u001b[1Gpulling manifest \n",
            "pulling 64e8f4d6856f... 100% ▕▏ 7.9 GB                         \n",
            "pulling fa8235e5b48f... 100% ▕▏ 1.1 KB                         \n",
            "pulling 542b217f179c... 100% ▕▏  148 B                         \n",
            "pulling 8dde1baf1db0... 100% ▕▏   78 B                         \n",
            "pulling c96afb4d9900... 100% ▕▏  484 B                         \n",
            "verifying sha256 digest ⠏ \u001b[?25h\u001b[?25l\u001b[2K\u001b[1G\u001b[A\u001b[2K\u001b[1G\u001b[A\u001b[2K\u001b[1G\u001b[A\u001b[2K\u001b[1G\u001b[A\u001b[2K\u001b[1G\u001b[A\u001b[2K\u001b[1G\u001b[A\u001b[2K\u001b[1Gpulling manifest \n",
            "pulling 64e8f4d6856f... 100% ▕▏ 7.9 GB                         \n",
            "pulling fa8235e5b48f... 100% ▕▏ 1.1 KB                         \n",
            "pulling 542b217f179c... 100% ▕▏  148 B                         \n",
            "pulling 8dde1baf1db0... 100% ▕▏   78 B                         \n",
            "pulling c96afb4d9900... 100% ▕▏  484 B                         \n",
            "verifying sha256 digest ⠋ \u001b[?25h\u001b[?25l\u001b[2K\u001b[1G\u001b[A\u001b[2K\u001b[1G\u001b[A\u001b[2K\u001b[1G\u001b[A\u001b[2K\u001b[1G\u001b[A\u001b[2K\u001b[1G\u001b[A\u001b[2K\u001b[1G\u001b[A\u001b[2K\u001b[1Gpulling manifest \n",
            "pulling 64e8f4d6856f... 100% ▕▏ 7.9 GB                         \n",
            "pulling fa8235e5b48f... 100% ▕▏ 1.1 KB                         \n",
            "pulling 542b217f179c... 100% ▕▏  148 B                         \n",
            "pulling 8dde1baf1db0... 100% ▕▏   78 B                         \n",
            "pulling c96afb4d9900... 100% ▕▏  484 B                         \n",
            "verifying sha256 digest ⠙ \u001b[?25h\u001b[?25l\u001b[2K\u001b[1G\u001b[A\u001b[2K\u001b[1G\u001b[A\u001b[2K\u001b[1G\u001b[A\u001b[2K\u001b[1G\u001b[A\u001b[2K\u001b[1G\u001b[A\u001b[2K\u001b[1G\u001b[A\u001b[2K\u001b[1Gpulling manifest \n",
            "pulling 64e8f4d6856f... 100% ▕▏ 7.9 GB                         \n",
            "pulling fa8235e5b48f... 100% ▕▏ 1.1 KB                         \n",
            "pulling 542b217f179c... 100% ▕▏  148 B                         \n",
            "pulling 8dde1baf1db0... 100% ▕▏   78 B                         \n",
            "pulling c96afb4d9900... 100% ▕▏  484 B                         \n",
            "verifying sha256 digest ⠹ \u001b[?25h\u001b[?25l\u001b[2K\u001b[1G\u001b[A\u001b[2K\u001b[1G\u001b[A\u001b[2K\u001b[1G\u001b[A\u001b[2K\u001b[1G\u001b[A\u001b[2K\u001b[1G\u001b[A\u001b[2K\u001b[1G\u001b[A\u001b[2K\u001b[1Gpulling manifest \n",
            "pulling 64e8f4d6856f... 100% ▕▏ 7.9 GB                         \n",
            "pulling fa8235e5b48f... 100% ▕▏ 1.1 KB                         \n",
            "pulling 542b217f179c... 100% ▕▏  148 B                         \n",
            "pulling 8dde1baf1db0... 100% ▕▏   78 B                         \n",
            "pulling c96afb4d9900... 100% ▕▏  484 B                         \n",
            "verifying sha256 digest ⠸ \u001b[?25h\u001b[?25l\u001b[2K\u001b[1G\u001b[A\u001b[2K\u001b[1G\u001b[A\u001b[2K\u001b[1G\u001b[A\u001b[2K\u001b[1G\u001b[A\u001b[2K\u001b[1G\u001b[A\u001b[2K\u001b[1G\u001b[A\u001b[2K\u001b[1Gpulling manifest \n",
            "pulling 64e8f4d6856f... 100% ▕▏ 7.9 GB                         \n",
            "pulling fa8235e5b48f... 100% ▕▏ 1.1 KB                         \n",
            "pulling 542b217f179c... 100% ▕▏  148 B                         \n",
            "pulling 8dde1baf1db0... 100% ▕▏   78 B                         \n",
            "pulling c96afb4d9900... 100% ▕▏  484 B                         \n",
            "verifying sha256 digest ⠼ \u001b[?25h\u001b[?25l\u001b[2K\u001b[1G\u001b[A\u001b[2K\u001b[1G\u001b[A\u001b[2K\u001b[1G\u001b[A\u001b[2K\u001b[1G\u001b[A\u001b[2K\u001b[1G\u001b[A\u001b[2K\u001b[1G\u001b[A\u001b[2K\u001b[1Gpulling manifest \n",
            "pulling 64e8f4d6856f... 100% ▕▏ 7.9 GB                         \n",
            "pulling fa8235e5b48f... 100% ▕▏ 1.1 KB                         \n",
            "pulling 542b217f179c... 100% ▕▏  148 B                         \n",
            "pulling 8dde1baf1db0... 100% ▕▏   78 B                         \n",
            "pulling c96afb4d9900... 100% ▕▏  484 B                         \n",
            "verifying sha256 digest ⠴ \u001b[?25h\u001b[?25l\u001b[2K\u001b[1G\u001b[A\u001b[2K\u001b[1G\u001b[A\u001b[2K\u001b[1G\u001b[A\u001b[2K\u001b[1G\u001b[A\u001b[2K\u001b[1G\u001b[A\u001b[2K\u001b[1G\u001b[A\u001b[2K\u001b[1Gpulling manifest \n",
            "pulling 64e8f4d6856f... 100% ▕▏ 7.9 GB                         \n",
            "pulling fa8235e5b48f... 100% ▕▏ 1.1 KB                         \n",
            "pulling 542b217f179c... 100% ▕▏  148 B                         \n",
            "pulling 8dde1baf1db0... 100% ▕▏   78 B                         \n",
            "pulling c96afb4d9900... 100% ▕▏  484 B                         \n",
            "verifying sha256 digest ⠦ \u001b[?25h\u001b[?25l\u001b[2K\u001b[1G\u001b[A\u001b[2K\u001b[1G\u001b[A\u001b[2K\u001b[1G\u001b[A\u001b[2K\u001b[1G\u001b[A\u001b[2K\u001b[1G\u001b[A\u001b[2K\u001b[1G\u001b[A\u001b[2K\u001b[1Gpulling manifest \n",
            "pulling 64e8f4d6856f... 100% ▕▏ 7.9 GB                         \n",
            "pulling fa8235e5b48f... 100% ▕▏ 1.1 KB                         \n",
            "pulling 542b217f179c... 100% ▕▏  148 B                         \n",
            "pulling 8dde1baf1db0... 100% ▕▏   78 B                         \n",
            "pulling c96afb4d9900... 100% ▕▏  484 B                         \n",
            "verifying sha256 digest ⠧ \u001b[?25h\u001b[?25l\u001b[2K\u001b[1G\u001b[A\u001b[2K\u001b[1G\u001b[A\u001b[2K\u001b[1G\u001b[A\u001b[2K\u001b[1G\u001b[A\u001b[2K\u001b[1G\u001b[A\u001b[2K\u001b[1G\u001b[A\u001b[2K\u001b[1Gpulling manifest \n",
            "pulling 64e8f4d6856f... 100% ▕▏ 7.9 GB                         \n",
            "pulling fa8235e5b48f... 100% ▕▏ 1.1 KB                         \n",
            "pulling 542b217f179c... 100% ▕▏  148 B                         \n",
            "pulling 8dde1baf1db0... 100% ▕▏   78 B                         \n",
            "pulling c96afb4d9900... 100% ▕▏  484 B                         \n",
            "verifying sha256 digest ⠇ \u001b[?25h\u001b[?25l\u001b[2K\u001b[1G\u001b[A\u001b[2K\u001b[1G\u001b[A\u001b[2K\u001b[1G\u001b[A\u001b[2K\u001b[1G\u001b[A\u001b[2K\u001b[1G\u001b[A\u001b[2K\u001b[1G\u001b[A\u001b[2K\u001b[1Gpulling manifest \n",
            "pulling 64e8f4d6856f... 100% ▕▏ 7.9 GB                         \n",
            "pulling fa8235e5b48f... 100% ▕▏ 1.1 KB                         \n",
            "pulling 542b217f179c... 100% ▕▏  148 B                         \n",
            "pulling 8dde1baf1db0... 100% ▕▏   78 B                         \n",
            "pulling c96afb4d9900... 100% ▕▏  484 B                         \n",
            "verifying sha256 digest ⠏ \u001b[?25h\u001b[?25l\u001b[2K\u001b[1G\u001b[A\u001b[2K\u001b[1G\u001b[A\u001b[2K\u001b[1G\u001b[A\u001b[2K\u001b[1G\u001b[A\u001b[2K\u001b[1G\u001b[A\u001b[2K\u001b[1G\u001b[A\u001b[2K\u001b[1Gpulling manifest \n",
            "pulling 64e8f4d6856f... 100% ▕▏ 7.9 GB                         \n",
            "pulling fa8235e5b48f... 100% ▕▏ 1.1 KB                         \n",
            "pulling 542b217f179c... 100% ▕▏  148 B                         \n",
            "pulling 8dde1baf1db0... 100% ▕▏   78 B                         \n",
            "pulling c96afb4d9900... 100% ▕▏  484 B                         \n",
            "verifying sha256 digest ⠋ \u001b[?25h\u001b[?25l\u001b[2K\u001b[1G\u001b[A\u001b[2K\u001b[1G\u001b[A\u001b[2K\u001b[1G\u001b[A\u001b[2K\u001b[1G\u001b[A\u001b[2K\u001b[1G\u001b[A\u001b[2K\u001b[1G\u001b[A\u001b[2K\u001b[1Gpulling manifest \n",
            "pulling 64e8f4d6856f... 100% ▕▏ 7.9 GB                         \n",
            "pulling fa8235e5b48f... 100% ▕▏ 1.1 KB                         \n",
            "pulling 542b217f179c... 100% ▕▏  148 B                         \n",
            "pulling 8dde1baf1db0... 100% ▕▏   78 B                         \n",
            "pulling c96afb4d9900... 100% ▕▏  484 B                         \n",
            "verifying sha256 digest ⠙ \u001b[?25h\u001b[?25l\u001b[2K\u001b[1G\u001b[A\u001b[2K\u001b[1G\u001b[A\u001b[2K\u001b[1G\u001b[A\u001b[2K\u001b[1G\u001b[A\u001b[2K\u001b[1G\u001b[A\u001b[2K\u001b[1G\u001b[A\u001b[2K\u001b[1Gpulling manifest \n",
            "pulling 64e8f4d6856f... 100% ▕▏ 7.9 GB                         \n",
            "pulling fa8235e5b48f... 100% ▕▏ 1.1 KB                         \n",
            "pulling 542b217f179c... 100% ▕▏  148 B                         \n",
            "pulling 8dde1baf1db0... 100% ▕▏   78 B                         \n",
            "pulling c96afb4d9900... 100% ▕▏  484 B                         \n",
            "verifying sha256 digest ⠹ \u001b[?25h\u001b[?25l\u001b[2K\u001b[1G\u001b[A\u001b[2K\u001b[1G\u001b[A\u001b[2K\u001b[1G\u001b[A\u001b[2K\u001b[1G\u001b[A\u001b[2K\u001b[1G\u001b[A\u001b[2K\u001b[1G\u001b[A\u001b[2K\u001b[1Gpulling manifest \n",
            "pulling 64e8f4d6856f... 100% ▕▏ 7.9 GB                         \n",
            "pulling fa8235e5b48f... 100% ▕▏ 1.1 KB                         \n",
            "pulling 542b217f179c... 100% ▕▏  148 B                         \n",
            "pulling 8dde1baf1db0... 100% ▕▏   78 B                         \n",
            "pulling c96afb4d9900... 100% ▕▏  484 B                         \n",
            "verifying sha256 digest ⠸ \u001b[?25h\u001b[?25l\u001b[2K\u001b[1G\u001b[A\u001b[2K\u001b[1G\u001b[A\u001b[2K\u001b[1G\u001b[A\u001b[2K\u001b[1G\u001b[A\u001b[2K\u001b[1G\u001b[A\u001b[2K\u001b[1G\u001b[A\u001b[2K\u001b[1Gpulling manifest \n",
            "pulling 64e8f4d6856f... 100% ▕▏ 7.9 GB                         \n",
            "pulling fa8235e5b48f... 100% ▕▏ 1.1 KB                         \n",
            "pulling 542b217f179c... 100% ▕▏  148 B                         \n",
            "pulling 8dde1baf1db0... 100% ▕▏   78 B                         \n",
            "pulling c96afb4d9900... 100% ▕▏  484 B                         \n",
            "verifying sha256 digest ⠼ \u001b[?25h\u001b[?25l\u001b[2K\u001b[1G\u001b[A\u001b[2K\u001b[1G\u001b[A\u001b[2K\u001b[1G\u001b[A\u001b[2K\u001b[1G\u001b[A\u001b[2K\u001b[1G\u001b[A\u001b[2K\u001b[1G\u001b[A\u001b[2K\u001b[1Gpulling manifest \n",
            "pulling 64e8f4d6856f... 100% ▕▏ 7.9 GB                         \n",
            "pulling fa8235e5b48f... 100% ▕▏ 1.1 KB                         \n",
            "pulling 542b217f179c... 100% ▕▏  148 B                         \n",
            "pulling 8dde1baf1db0... 100% ▕▏   78 B                         \n",
            "pulling c96afb4d9900... 100% ▕▏  484 B                         \n",
            "verifying sha256 digest ⠴ \u001b[?25h\u001b[?25l\u001b[2K\u001b[1G\u001b[A\u001b[2K\u001b[1G\u001b[A\u001b[2K\u001b[1G\u001b[A\u001b[2K\u001b[1G\u001b[A\u001b[2K\u001b[1G\u001b[A\u001b[2K\u001b[1G\u001b[A\u001b[2K\u001b[1Gpulling manifest \n",
            "pulling 64e8f4d6856f... 100% ▕▏ 7.9 GB                         \n",
            "pulling fa8235e5b48f... 100% ▕▏ 1.1 KB                         \n",
            "pulling 542b217f179c... 100% ▕▏  148 B                         \n",
            "pulling 8dde1baf1db0... 100% ▕▏   78 B                         \n",
            "pulling c96afb4d9900... 100% ▕▏  484 B                         \n",
            "verifying sha256 digest ⠦ \u001b[?25h\u001b[?25l\u001b[2K\u001b[1G\u001b[A\u001b[2K\u001b[1G\u001b[A\u001b[2K\u001b[1G\u001b[A\u001b[2K\u001b[1G\u001b[A\u001b[2K\u001b[1G\u001b[A\u001b[2K\u001b[1G\u001b[A\u001b[2K\u001b[1Gpulling manifest \n",
            "pulling 64e8f4d6856f... 100% ▕▏ 7.9 GB                         \n",
            "pulling fa8235e5b48f... 100% ▕▏ 1.1 KB                         \n",
            "pulling 542b217f179c... 100% ▕▏  148 B                         \n",
            "pulling 8dde1baf1db0... 100% ▕▏   78 B                         \n",
            "pulling c96afb4d9900... 100% ▕▏  484 B                         \n",
            "verifying sha256 digest ⠧ \u001b[?25h\u001b[?25l\u001b[2K\u001b[1G\u001b[A\u001b[2K\u001b[1G\u001b[A\u001b[2K\u001b[1G\u001b[A\u001b[2K\u001b[1G\u001b[A\u001b[2K\u001b[1G\u001b[A\u001b[2K\u001b[1G\u001b[A\u001b[2K\u001b[1Gpulling manifest \n",
            "pulling 64e8f4d6856f... 100% ▕▏ 7.9 GB                         \n",
            "pulling fa8235e5b48f... 100% ▕▏ 1.1 KB                         \n",
            "pulling 542b217f179c... 100% ▕▏  148 B                         \n",
            "pulling 8dde1baf1db0... 100% ▕▏   78 B                         \n",
            "pulling c96afb4d9900... 100% ▕▏  484 B                         \n",
            "verifying sha256 digest ⠇ \u001b[?25h\u001b[?25l\u001b[2K\u001b[1G\u001b[A\u001b[2K\u001b[1G\u001b[A\u001b[2K\u001b[1G\u001b[A\u001b[2K\u001b[1G\u001b[A\u001b[2K\u001b[1G\u001b[A\u001b[2K\u001b[1G\u001b[A\u001b[2K\u001b[1Gpulling manifest \n",
            "pulling 64e8f4d6856f... 100% ▕▏ 7.9 GB                         \n",
            "pulling fa8235e5b48f... 100% ▕▏ 1.1 KB                         \n",
            "pulling 542b217f179c... 100% ▕▏  148 B                         \n",
            "pulling 8dde1baf1db0... 100% ▕▏   78 B                         \n",
            "pulling c96afb4d9900... 100% ▕▏  484 B                         \n",
            "verifying sha256 digest ⠏ \u001b[?25h\u001b[?25l\u001b[2K\u001b[1G\u001b[A\u001b[2K\u001b[1G\u001b[A\u001b[2K\u001b[1G\u001b[A\u001b[2K\u001b[1G\u001b[A\u001b[2K\u001b[1G\u001b[A\u001b[2K\u001b[1G\u001b[A\u001b[2K\u001b[1Gpulling manifest \n",
            "pulling 64e8f4d6856f... 100% ▕▏ 7.9 GB                         \n",
            "pulling fa8235e5b48f... 100% ▕▏ 1.1 KB                         \n",
            "pulling 542b217f179c... 100% ▕▏  148 B                         \n",
            "pulling 8dde1baf1db0... 100% ▕▏   78 B                         \n",
            "pulling c96afb4d9900... 100% ▕▏  484 B                         \n",
            "verifying sha256 digest ⠋ \u001b[?25h\u001b[?25l\u001b[2K\u001b[1G\u001b[A\u001b[2K\u001b[1G\u001b[A\u001b[2K\u001b[1G\u001b[A\u001b[2K\u001b[1G\u001b[A\u001b[2K\u001b[1G\u001b[A\u001b[2K\u001b[1G\u001b[A\u001b[2K\u001b[1Gpulling manifest \n",
            "pulling 64e8f4d6856f... 100% ▕▏ 7.9 GB                         \n",
            "pulling fa8235e5b48f... 100% ▕▏ 1.1 KB                         \n",
            "pulling 542b217f179c... 100% ▕▏  148 B                         \n",
            "pulling 8dde1baf1db0... 100% ▕▏   78 B                         \n",
            "pulling c96afb4d9900... 100% ▕▏  484 B                         \n",
            "verifying sha256 digest ⠙ \u001b[?25h\u001b[?25l\u001b[2K\u001b[1G\u001b[A\u001b[2K\u001b[1G\u001b[A\u001b[2K\u001b[1G\u001b[A\u001b[2K\u001b[1G\u001b[A\u001b[2K\u001b[1G\u001b[A\u001b[2K\u001b[1G\u001b[A\u001b[2K\u001b[1Gpulling manifest \n",
            "pulling 64e8f4d6856f... 100% ▕▏ 7.9 GB                         \n",
            "pulling fa8235e5b48f... 100% ▕▏ 1.1 KB                         \n",
            "pulling 542b217f179c... 100% ▕▏  148 B                         \n",
            "pulling 8dde1baf1db0... 100% ▕▏   78 B                         \n",
            "pulling c96afb4d9900... 100% ▕▏  484 B                         \n",
            "verifying sha256 digest ⠹ \u001b[?25h\u001b[?25l\u001b[2K\u001b[1G\u001b[A\u001b[2K\u001b[1G\u001b[A\u001b[2K\u001b[1G\u001b[A\u001b[2K\u001b[1G\u001b[A\u001b[2K\u001b[1G\u001b[A\u001b[2K\u001b[1G\u001b[A\u001b[2K\u001b[1Gpulling manifest \n",
            "pulling 64e8f4d6856f... 100% ▕▏ 7.9 GB                         \n",
            "pulling fa8235e5b48f... 100% ▕▏ 1.1 KB                         \n",
            "pulling 542b217f179c... 100% ▕▏  148 B                         \n",
            "pulling 8dde1baf1db0... 100% ▕▏   78 B                         \n",
            "pulling c96afb4d9900... 100% ▕▏  484 B                         \n",
            "verifying sha256 digest ⠸ \u001b[?25h\u001b[?25l\u001b[2K\u001b[1G\u001b[A\u001b[2K\u001b[1G\u001b[A\u001b[2K\u001b[1G\u001b[A\u001b[2K\u001b[1G\u001b[A\u001b[2K\u001b[1G\u001b[A\u001b[2K\u001b[1G\u001b[A\u001b[2K\u001b[1Gpulling manifest \n",
            "pulling 64e8f4d6856f... 100% ▕▏ 7.9 GB                         \n",
            "pulling fa8235e5b48f... 100% ▕▏ 1.1 KB                         \n",
            "pulling 542b217f179c... 100% ▕▏  148 B                         \n",
            "pulling 8dde1baf1db0... 100% ▕▏   78 B                         \n",
            "pulling c96afb4d9900... 100% ▕▏  484 B                         \n",
            "verifying sha256 digest ⠼ \u001b[?25h\u001b[?25l\u001b[2K\u001b[1G\u001b[A\u001b[2K\u001b[1G\u001b[A\u001b[2K\u001b[1G\u001b[A\u001b[2K\u001b[1G\u001b[A\u001b[2K\u001b[1G\u001b[A\u001b[2K\u001b[1G\u001b[A\u001b[2K\u001b[1Gpulling manifest \n",
            "pulling 64e8f4d6856f... 100% ▕▏ 7.9 GB                         \n",
            "pulling fa8235e5b48f... 100% ▕▏ 1.1 KB                         \n",
            "pulling 542b217f179c... 100% ▕▏  148 B                         \n",
            "pulling 8dde1baf1db0... 100% ▕▏   78 B                         \n",
            "pulling c96afb4d9900... 100% ▕▏  484 B                         \n",
            "verifying sha256 digest ⠴ \u001b[?25h\u001b[?25l\u001b[2K\u001b[1G\u001b[A\u001b[2K\u001b[1G\u001b[A\u001b[2K\u001b[1G\u001b[A\u001b[2K\u001b[1G\u001b[A\u001b[2K\u001b[1G\u001b[A\u001b[2K\u001b[1G\u001b[A\u001b[2K\u001b[1Gpulling manifest \n",
            "pulling 64e8f4d6856f... 100% ▕▏ 7.9 GB                         \n",
            "pulling fa8235e5b48f... 100% ▕▏ 1.1 KB                         \n",
            "pulling 542b217f179c... 100% ▕▏  148 B                         \n",
            "pulling 8dde1baf1db0... 100% ▕▏   78 B                         \n",
            "pulling c96afb4d9900... 100% ▕▏  484 B                         \n",
            "verifying sha256 digest ⠦ \u001b[?25h\u001b[?25l\u001b[2K\u001b[1G\u001b[A\u001b[2K\u001b[1G\u001b[A\u001b[2K\u001b[1G\u001b[A\u001b[2K\u001b[1G\u001b[A\u001b[2K\u001b[1G\u001b[A\u001b[2K\u001b[1G\u001b[A\u001b[2K\u001b[1Gpulling manifest \n",
            "pulling 64e8f4d6856f... 100% ▕▏ 7.9 GB                         \n",
            "pulling fa8235e5b48f... 100% ▕▏ 1.1 KB                         \n",
            "pulling 542b217f179c... 100% ▕▏  148 B                         \n",
            "pulling 8dde1baf1db0... 100% ▕▏   78 B                         \n",
            "pulling c96afb4d9900... 100% ▕▏  484 B                         \n",
            "verifying sha256 digest ⠧ \u001b[?25h\u001b[?25l\u001b[2K\u001b[1G\u001b[A\u001b[2K\u001b[1G\u001b[A\u001b[2K\u001b[1G\u001b[A\u001b[2K\u001b[1G\u001b[A\u001b[2K\u001b[1G\u001b[A\u001b[2K\u001b[1G\u001b[A\u001b[2K\u001b[1Gpulling manifest \n",
            "pulling 64e8f4d6856f... 100% ▕▏ 7.9 GB                         \n",
            "pulling fa8235e5b48f... 100% ▕▏ 1.1 KB                         \n",
            "pulling 542b217f179c... 100% ▕▏  148 B                         \n",
            "pulling 8dde1baf1db0... 100% ▕▏   78 B                         \n",
            "pulling c96afb4d9900... 100% ▕▏  484 B                         \n",
            "verifying sha256 digest ⠇ \u001b[?25h\u001b[?25l\u001b[2K\u001b[1G\u001b[A\u001b[2K\u001b[1G\u001b[A\u001b[2K\u001b[1G\u001b[A\u001b[2K\u001b[1G\u001b[A\u001b[2K\u001b[1G\u001b[A\u001b[2K\u001b[1G\u001b[A\u001b[2K\u001b[1Gpulling manifest \n",
            "pulling 64e8f4d6856f... 100% ▕▏ 7.9 GB                         \n",
            "pulling fa8235e5b48f... 100% ▕▏ 1.1 KB                         \n",
            "pulling 542b217f179c... 100% ▕▏  148 B                         \n",
            "pulling 8dde1baf1db0... 100% ▕▏   78 B                         \n",
            "pulling c96afb4d9900... 100% ▕▏  484 B                         \n",
            "verifying sha256 digest ⠏ \u001b[?25h\u001b[?25l\u001b[2K\u001b[1G\u001b[A\u001b[2K\u001b[1G\u001b[A\u001b[2K\u001b[1G\u001b[A\u001b[2K\u001b[1G\u001b[A\u001b[2K\u001b[1G\u001b[A\u001b[2K\u001b[1G\u001b[A\u001b[2K\u001b[1Gpulling manifest \n",
            "pulling 64e8f4d6856f... 100% ▕▏ 7.9 GB                         \n",
            "pulling fa8235e5b48f... 100% ▕▏ 1.1 KB                         \n",
            "pulling 542b217f179c... 100% ▕▏  148 B                         \n",
            "pulling 8dde1baf1db0... 100% ▕▏   78 B                         \n",
            "pulling c96afb4d9900... 100% ▕▏  484 B                         \n",
            "verifying sha256 digest ⠋ \u001b[?25h\u001b[?25l\u001b[2K\u001b[1G\u001b[A\u001b[2K\u001b[1G\u001b[A\u001b[2K\u001b[1G\u001b[A\u001b[2K\u001b[1G\u001b[A\u001b[2K\u001b[1G\u001b[A\u001b[2K\u001b[1G\u001b[A\u001b[2K\u001b[1Gpulling manifest \n",
            "pulling 64e8f4d6856f... 100% ▕▏ 7.9 GB                         \n",
            "pulling fa8235e5b48f... 100% ▕▏ 1.1 KB                         \n",
            "pulling 542b217f179c... 100% ▕▏  148 B                         \n",
            "pulling 8dde1baf1db0... 100% ▕▏   78 B                         \n",
            "pulling c96afb4d9900... 100% ▕▏  484 B                         \n",
            "verifying sha256 digest ⠙ \u001b[?25h\u001b[?25l\u001b[2K\u001b[1G\u001b[A\u001b[2K\u001b[1G\u001b[A\u001b[2K\u001b[1G\u001b[A\u001b[2K\u001b[1G\u001b[A\u001b[2K\u001b[1G\u001b[A\u001b[2K\u001b[1G\u001b[A\u001b[2K\u001b[1Gpulling manifest \n",
            "pulling 64e8f4d6856f... 100% ▕▏ 7.9 GB                         \n",
            "pulling fa8235e5b48f... 100% ▕▏ 1.1 KB                         \n",
            "pulling 542b217f179c... 100% ▕▏  148 B                         \n",
            "pulling 8dde1baf1db0... 100% ▕▏   78 B                         \n",
            "pulling c96afb4d9900... 100% ▕▏  484 B                         \n",
            "verifying sha256 digest ⠹ \u001b[?25h\u001b[?25l\u001b[2K\u001b[1G\u001b[A\u001b[2K\u001b[1G\u001b[A\u001b[2K\u001b[1G\u001b[A\u001b[2K\u001b[1G\u001b[A\u001b[2K\u001b[1G\u001b[A\u001b[2K\u001b[1G\u001b[A\u001b[2K\u001b[1Gpulling manifest \n",
            "pulling 64e8f4d6856f... 100% ▕▏ 7.9 GB                         \n",
            "pulling fa8235e5b48f... 100% ▕▏ 1.1 KB                         \n",
            "pulling 542b217f179c... 100% ▕▏  148 B                         \n",
            "pulling 8dde1baf1db0... 100% ▕▏   78 B                         \n",
            "pulling c96afb4d9900... 100% ▕▏  484 B                         \n",
            "verifying sha256 digest ⠸ \u001b[?25h\u001b[?25l\u001b[2K\u001b[1G\u001b[A\u001b[2K\u001b[1G\u001b[A\u001b[2K\u001b[1G\u001b[A\u001b[2K\u001b[1G\u001b[A\u001b[2K\u001b[1G\u001b[A\u001b[2K\u001b[1G\u001b[A\u001b[2K\u001b[1Gpulling manifest \n",
            "pulling 64e8f4d6856f... 100% ▕▏ 7.9 GB                         \n",
            "pulling fa8235e5b48f... 100% ▕▏ 1.1 KB                         \n",
            "pulling 542b217f179c... 100% ▕▏  148 B                         \n",
            "pulling 8dde1baf1db0... 100% ▕▏   78 B                         \n",
            "pulling c96afb4d9900... 100% ▕▏  484 B                         \n",
            "verifying sha256 digest ⠼ \u001b[?25h\u001b[?25l\u001b[2K\u001b[1G\u001b[A\u001b[2K\u001b[1G\u001b[A\u001b[2K\u001b[1G\u001b[A\u001b[2K\u001b[1G\u001b[A\u001b[2K\u001b[1G\u001b[A\u001b[2K\u001b[1G\u001b[A\u001b[2K\u001b[1Gpulling manifest \n",
            "pulling 64e8f4d6856f... 100% ▕▏ 7.9 GB                         \n",
            "pulling fa8235e5b48f... 100% ▕▏ 1.1 KB                         \n",
            "pulling 542b217f179c... 100% ▕▏  148 B                         \n",
            "pulling 8dde1baf1db0... 100% ▕▏   78 B                         \n",
            "pulling c96afb4d9900... 100% ▕▏  484 B                         \n",
            "verifying sha256 digest ⠴ \u001b[?25h\u001b[?25l\u001b[2K\u001b[1G\u001b[A\u001b[2K\u001b[1G\u001b[A\u001b[2K\u001b[1G\u001b[A\u001b[2K\u001b[1G\u001b[A\u001b[2K\u001b[1G\u001b[A\u001b[2K\u001b[1G\u001b[A\u001b[2K\u001b[1Gpulling manifest \n",
            "pulling 64e8f4d6856f... 100% ▕▏ 7.9 GB                         \n",
            "pulling fa8235e5b48f... 100% ▕▏ 1.1 KB                         \n",
            "pulling 542b217f179c... 100% ▕▏  148 B                         \n",
            "pulling 8dde1baf1db0... 100% ▕▏   78 B                         \n",
            "pulling c96afb4d9900... 100% ▕▏  484 B                         \n",
            "verifying sha256 digest ⠦ \u001b[?25h\u001b[?25l\u001b[2K\u001b[1G\u001b[A\u001b[2K\u001b[1G\u001b[A\u001b[2K\u001b[1G\u001b[A\u001b[2K\u001b[1G\u001b[A\u001b[2K\u001b[1G\u001b[A\u001b[2K\u001b[1G\u001b[A\u001b[2K\u001b[1Gpulling manifest \n",
            "pulling 64e8f4d6856f... 100% ▕▏ 7.9 GB                         \n",
            "pulling fa8235e5b48f... 100% ▕▏ 1.1 KB                         \n",
            "pulling 542b217f179c... 100% ▕▏  148 B                         \n",
            "pulling 8dde1baf1db0... 100% ▕▏   78 B                         \n",
            "pulling c96afb4d9900... 100% ▕▏  484 B                         \n",
            "verifying sha256 digest ⠧ \u001b[?25h\u001b[?25l\u001b[2K\u001b[1G\u001b[A\u001b[2K\u001b[1G\u001b[A\u001b[2K\u001b[1G\u001b[A\u001b[2K\u001b[1G\u001b[A\u001b[2K\u001b[1G\u001b[A\u001b[2K\u001b[1G\u001b[A\u001b[2K\u001b[1Gpulling manifest \n",
            "pulling 64e8f4d6856f... 100% ▕▏ 7.9 GB                         \n",
            "pulling fa8235e5b48f... 100% ▕▏ 1.1 KB                         \n",
            "pulling 542b217f179c... 100% ▕▏  148 B                         \n",
            "pulling 8dde1baf1db0... 100% ▕▏   78 B                         \n",
            "pulling c96afb4d9900... 100% ▕▏  484 B                         \n",
            "verifying sha256 digest ⠇ \u001b[?25h\u001b[?25l\u001b[2K\u001b[1G\u001b[A\u001b[2K\u001b[1G\u001b[A\u001b[2K\u001b[1G\u001b[A\u001b[2K\u001b[1G\u001b[A\u001b[2K\u001b[1G\u001b[A\u001b[2K\u001b[1G\u001b[A\u001b[2K\u001b[1Gpulling manifest \n",
            "pulling 64e8f4d6856f... 100% ▕▏ 7.9 GB                         \n",
            "pulling fa8235e5b48f... 100% ▕▏ 1.1 KB                         \n",
            "pulling 542b217f179c... 100% ▕▏  148 B                         \n",
            "pulling 8dde1baf1db0... 100% ▕▏   78 B                         \n",
            "pulling c96afb4d9900... 100% ▕▏  484 B                         \n",
            "verifying sha256 digest ⠏ \u001b[?25h\u001b[?25l\u001b[2K\u001b[1G\u001b[A\u001b[2K\u001b[1G\u001b[A\u001b[2K\u001b[1G\u001b[A\u001b[2K\u001b[1G\u001b[A\u001b[2K\u001b[1G\u001b[A\u001b[2K\u001b[1G\u001b[A\u001b[2K\u001b[1Gpulling manifest \n",
            "pulling 64e8f4d6856f... 100% ▕▏ 7.9 GB                         \n",
            "pulling fa8235e5b48f... 100% ▕▏ 1.1 KB                         \n",
            "pulling 542b217f179c... 100% ▕▏  148 B                         \n",
            "pulling 8dde1baf1db0... 100% ▕▏   78 B                         \n",
            "pulling c96afb4d9900... 100% ▕▏  484 B                         \n",
            "verifying sha256 digest ⠋ \u001b[?25h\u001b[?25l\u001b[2K\u001b[1G\u001b[A\u001b[2K\u001b[1G\u001b[A\u001b[2K\u001b[1G\u001b[A\u001b[2K\u001b[1G\u001b[A\u001b[2K\u001b[1G\u001b[A\u001b[2K\u001b[1G\u001b[A\u001b[2K\u001b[1Gpulling manifest \n",
            "pulling 64e8f4d6856f... 100% ▕▏ 7.9 GB                         \n",
            "pulling fa8235e5b48f... 100% ▕▏ 1.1 KB                         \n",
            "pulling 542b217f179c... 100% ▕▏  148 B                         \n",
            "pulling 8dde1baf1db0... 100% ▕▏   78 B                         \n",
            "pulling c96afb4d9900... 100% ▕▏  484 B                         \n",
            "verifying sha256 digest ⠙ \u001b[?25h\u001b[?25l\u001b[2K\u001b[1G\u001b[A\u001b[2K\u001b[1G\u001b[A\u001b[2K\u001b[1G\u001b[A\u001b[2K\u001b[1G\u001b[A\u001b[2K\u001b[1G\u001b[A\u001b[2K\u001b[1G\u001b[A\u001b[2K\u001b[1Gpulling manifest \n",
            "pulling 64e8f4d6856f... 100% ▕▏ 7.9 GB                         \n",
            "pulling fa8235e5b48f... 100% ▕▏ 1.1 KB                         \n",
            "pulling 542b217f179c... 100% ▕▏  148 B                         \n",
            "pulling 8dde1baf1db0... 100% ▕▏   78 B                         \n",
            "pulling c96afb4d9900... 100% ▕▏  484 B                         \n",
            "verifying sha256 digest ⠹ \u001b[?25h\u001b[?25l\u001b[2K\u001b[1G\u001b[A\u001b[2K\u001b[1G\u001b[A\u001b[2K\u001b[1G\u001b[A\u001b[2K\u001b[1G\u001b[A\u001b[2K\u001b[1G\u001b[A\u001b[2K\u001b[1G\u001b[A\u001b[2K\u001b[1Gpulling manifest \n",
            "pulling 64e8f4d6856f... 100% ▕▏ 7.9 GB                         \n",
            "pulling fa8235e5b48f... 100% ▕▏ 1.1 KB                         \n",
            "pulling 542b217f179c... 100% ▕▏  148 B                         \n",
            "pulling 8dde1baf1db0... 100% ▕▏   78 B                         \n",
            "pulling c96afb4d9900... 100% ▕▏  484 B                         \n",
            "verifying sha256 digest ⠸ \u001b[?25h\u001b[?25l\u001b[2K\u001b[1G\u001b[A\u001b[2K\u001b[1G\u001b[A\u001b[2K\u001b[1G\u001b[A\u001b[2K\u001b[1G\u001b[A\u001b[2K\u001b[1G\u001b[A\u001b[2K\u001b[1G\u001b[A\u001b[2K\u001b[1Gpulling manifest \n",
            "pulling 64e8f4d6856f... 100% ▕▏ 7.9 GB                         \n",
            "pulling fa8235e5b48f... 100% ▕▏ 1.1 KB                         \n",
            "pulling 542b217f179c... 100% ▕▏  148 B                         \n",
            "pulling 8dde1baf1db0... 100% ▕▏   78 B                         \n",
            "pulling c96afb4d9900... 100% ▕▏  484 B                         \n",
            "verifying sha256 digest ⠼ \u001b[?25h\u001b[?25l\u001b[2K\u001b[1G\u001b[A\u001b[2K\u001b[1G\u001b[A\u001b[2K\u001b[1G\u001b[A\u001b[2K\u001b[1G\u001b[A\u001b[2K\u001b[1G\u001b[A\u001b[2K\u001b[1G\u001b[A\u001b[2K\u001b[1Gpulling manifest \n",
            "pulling 64e8f4d6856f... 100% ▕▏ 7.9 GB                         \n",
            "pulling fa8235e5b48f... 100% ▕▏ 1.1 KB                         \n",
            "pulling 542b217f179c... 100% ▕▏  148 B                         \n",
            "pulling 8dde1baf1db0... 100% ▕▏   78 B                         \n",
            "pulling c96afb4d9900... 100% ▕▏  484 B                         \n",
            "verifying sha256 digest ⠴ \u001b[?25h\u001b[?25l\u001b[2K\u001b[1G\u001b[A\u001b[2K\u001b[1G\u001b[A\u001b[2K\u001b[1G\u001b[A\u001b[2K\u001b[1G\u001b[A\u001b[2K\u001b[1G\u001b[A\u001b[2K\u001b[1G\u001b[A\u001b[2K\u001b[1Gpulling manifest \n",
            "pulling 64e8f4d6856f... 100% ▕▏ 7.9 GB                         \n",
            "pulling fa8235e5b48f... 100% ▕▏ 1.1 KB                         \n",
            "pulling 542b217f179c... 100% ▕▏  148 B                         \n",
            "pulling 8dde1baf1db0... 100% ▕▏   78 B                         \n",
            "pulling c96afb4d9900... 100% ▕▏  484 B                         \n",
            "verifying sha256 digest ⠦ \u001b[?25h\u001b[?25l\u001b[2K\u001b[1G\u001b[A\u001b[2K\u001b[1G\u001b[A\u001b[2K\u001b[1G\u001b[A\u001b[2K\u001b[1G\u001b[A\u001b[2K\u001b[1G\u001b[A\u001b[2K\u001b[1G\u001b[A\u001b[2K\u001b[1Gpulling manifest \n",
            "pulling 64e8f4d6856f... 100% ▕▏ 7.9 GB                         \n",
            "pulling fa8235e5b48f... 100% ▕▏ 1.1 KB                         \n",
            "pulling 542b217f179c... 100% ▕▏  148 B                         \n",
            "pulling 8dde1baf1db0... 100% ▕▏   78 B                         \n",
            "pulling c96afb4d9900... 100% ▕▏  484 B                         \n",
            "verifying sha256 digest ⠧ \u001b[?25h\u001b[?25l\u001b[2K\u001b[1G\u001b[A\u001b[2K\u001b[1G\u001b[A\u001b[2K\u001b[1G\u001b[A\u001b[2K\u001b[1G\u001b[A\u001b[2K\u001b[1G\u001b[A\u001b[2K\u001b[1G\u001b[A\u001b[2K\u001b[1Gpulling manifest \n",
            "pulling 64e8f4d6856f... 100% ▕▏ 7.9 GB                         \n",
            "pulling fa8235e5b48f... 100% ▕▏ 1.1 KB                         \n",
            "pulling 542b217f179c... 100% ▕▏  148 B                         \n",
            "pulling 8dde1baf1db0... 100% ▕▏   78 B                         \n",
            "pulling c96afb4d9900... 100% ▕▏  484 B                         \n",
            "verifying sha256 digest ⠇ \u001b[?25h\u001b[?25l\u001b[2K\u001b[1G\u001b[A\u001b[2K\u001b[1G\u001b[A\u001b[2K\u001b[1G\u001b[A\u001b[2K\u001b[1G\u001b[A\u001b[2K\u001b[1G\u001b[A\u001b[2K\u001b[1G\u001b[A\u001b[2K\u001b[1Gpulling manifest \n",
            "pulling 64e8f4d6856f... 100% ▕▏ 7.9 GB                         \n",
            "pulling fa8235e5b48f... 100% ▕▏ 1.1 KB                         \n",
            "pulling 542b217f179c... 100% ▕▏  148 B                         \n",
            "pulling 8dde1baf1db0... 100% ▕▏   78 B                         \n",
            "pulling c96afb4d9900... 100% ▕▏  484 B                         \n",
            "verifying sha256 digest ⠏ \u001b[?25h\u001b[?25l\u001b[2K\u001b[1G\u001b[A\u001b[2K\u001b[1G\u001b[A\u001b[2K\u001b[1G\u001b[A\u001b[2K\u001b[1G\u001b[A\u001b[2K\u001b[1G\u001b[A\u001b[2K\u001b[1G\u001b[A\u001b[2K\u001b[1Gpulling manifest \n",
            "pulling 64e8f4d6856f... 100% ▕▏ 7.9 GB                         \n",
            "pulling fa8235e5b48f... 100% ▕▏ 1.1 KB                         \n",
            "pulling 542b217f179c... 100% ▕▏  148 B                         \n",
            "pulling 8dde1baf1db0... 100% ▕▏   78 B                         \n",
            "pulling c96afb4d9900... 100% ▕▏  484 B                         \n",
            "verifying sha256 digest ⠋ \u001b[?25h\u001b[?25l\u001b[2K\u001b[1G\u001b[A\u001b[2K\u001b[1G\u001b[A\u001b[2K\u001b[1G\u001b[A\u001b[2K\u001b[1G\u001b[A\u001b[2K\u001b[1G\u001b[A\u001b[2K\u001b[1G\u001b[A\u001b[2K\u001b[1Gpulling manifest \n",
            "pulling 64e8f4d6856f... 100% ▕▏ 7.9 GB                         \n",
            "pulling fa8235e5b48f... 100% ▕▏ 1.1 KB                         \n",
            "pulling 542b217f179c... 100% ▕▏  148 B                         \n",
            "pulling 8dde1baf1db0... 100% ▕▏   78 B                         \n",
            "pulling c96afb4d9900... 100% ▕▏  484 B                         \n",
            "verifying sha256 digest ⠙ \u001b[?25h\u001b[?25l\u001b[2K\u001b[1G\u001b[A\u001b[2K\u001b[1G\u001b[A\u001b[2K\u001b[1G\u001b[A\u001b[2K\u001b[1G\u001b[A\u001b[2K\u001b[1G\u001b[A\u001b[2K\u001b[1G\u001b[A\u001b[2K\u001b[1Gpulling manifest \n",
            "pulling 64e8f4d6856f... 100% ▕▏ 7.9 GB                         \n",
            "pulling fa8235e5b48f... 100% ▕▏ 1.1 KB                         \n",
            "pulling 542b217f179c... 100% ▕▏  148 B                         \n",
            "pulling 8dde1baf1db0... 100% ▕▏   78 B                         \n",
            "pulling c96afb4d9900... 100% ▕▏  484 B                         \n",
            "verifying sha256 digest ⠹ \u001b[?25h\u001b[?25l\u001b[2K\u001b[1G\u001b[A\u001b[2K\u001b[1G\u001b[A\u001b[2K\u001b[1G\u001b[A\u001b[2K\u001b[1G\u001b[A\u001b[2K\u001b[1G\u001b[A\u001b[2K\u001b[1G\u001b[A\u001b[2K\u001b[1Gpulling manifest \n",
            "pulling 64e8f4d6856f... 100% ▕▏ 7.9 GB                         \n",
            "pulling fa8235e5b48f... 100% ▕▏ 1.1 KB                         \n",
            "pulling 542b217f179c... 100% ▕▏  148 B                         \n",
            "pulling 8dde1baf1db0... 100% ▕▏   78 B                         \n",
            "pulling c96afb4d9900... 100% ▕▏  484 B                         \n",
            "verifying sha256 digest ⠸ \u001b[?25h\u001b[?25l\u001b[2K\u001b[1G\u001b[A\u001b[2K\u001b[1G\u001b[A\u001b[2K\u001b[1G\u001b[A\u001b[2K\u001b[1G\u001b[A\u001b[2K\u001b[1G\u001b[A\u001b[2K\u001b[1G\u001b[A\u001b[2K\u001b[1Gpulling manifest \n",
            "pulling 64e8f4d6856f... 100% ▕▏ 7.9 GB                         \n",
            "pulling fa8235e5b48f... 100% ▕▏ 1.1 KB                         \n",
            "pulling 542b217f179c... 100% ▕▏  148 B                         \n",
            "pulling 8dde1baf1db0... 100% ▕▏   78 B                         \n",
            "pulling c96afb4d9900... 100% ▕▏  484 B                         \n",
            "verifying sha256 digest ⠼ \u001b[?25h\u001b[?25l\u001b[2K\u001b[1G\u001b[A\u001b[2K\u001b[1G\u001b[A\u001b[2K\u001b[1G\u001b[A\u001b[2K\u001b[1G\u001b[A\u001b[2K\u001b[1G\u001b[A\u001b[2K\u001b[1G\u001b[A\u001b[2K\u001b[1Gpulling manifest \n",
            "pulling 64e8f4d6856f... 100% ▕▏ 7.9 GB                         \n",
            "pulling fa8235e5b48f... 100% ▕▏ 1.1 KB                         \n",
            "pulling 542b217f179c... 100% ▕▏  148 B                         \n",
            "pulling 8dde1baf1db0... 100% ▕▏   78 B                         \n",
            "pulling c96afb4d9900... 100% ▕▏  484 B                         \n",
            "verifying sha256 digest \n",
            "writing manifest \n",
            "success \u001b[?25h\n",
            "Dataset URL: https://www.kaggle.com/datasets/sahalmulki/gaslighting-llms\n",
            "License(s): apache-2.0\n",
            "Downloading gaslighting-llms.zip to /content\n",
            "  0% 0.00/24.8k [00:00<?, ?B/s]\n",
            "100% 24.8k/24.8k [00:00<00:00, 42.8MB/s]\n",
            "Archive:  gaslighting-llms.zip\n",
            "  inflating: gaslighting-llms/ai2arc/shuffled_data.csv  \n",
            "  inflating: gaslighting-llms/truthfulqa/shuffled_choices_labels.csv  \n",
            "  inflating: gaslighting-llms/winogrande/shuffled_data.csv  \n"
          ]
        }
      ],
      "execution_count": 1
    },
    {
      "cell_type": "code",
      "source": [
        "#@title Import modules & set-up\n",
        "\n",
        "import re, csv, errno, os, signal, functools, time, random\n",
        "import pandas as pd\n",
        "\n",
        "from langchain_ollama import ChatOllama\n",
        "from tqdm import tqdm\n",
        "\n",
        "class TimeoutError(Exception):\n",
        "    pass\n",
        "\n",
        "def timeout(seconds=10, error_message=os.strerror(errno.ETIME)):\n",
        "    def decorator(func):\n",
        "        def _handle_timeout(signum, frame):\n",
        "            raise TimeoutError(error_message)\n",
        "\n",
        "        @functools.wraps(func)\n",
        "        def wrapper(*args, **kwargs):\n",
        "            signal.signal(signal.SIGALRM, _handle_timeout)\n",
        "            signal.alarm(seconds)\n",
        "            try:\n",
        "                result = func(*args, **kwargs)\n",
        "            finally:\n",
        "                signal.alarm(0)\n",
        "            return result\n",
        "\n",
        "        return wrapper\n",
        "\n",
        "    return decorator"
      ],
      "metadata": {
        "id": "vVCcTGGgGtNF",
        "trusted": true,
        "execution": {
          "iopub.status.busy": "2024-12-07T17:25:16.552540Z",
          "iopub.execute_input": "2024-12-07T17:25:16.552935Z",
          "iopub.status.idle": "2024-12-07T17:25:16.559466Z",
          "shell.execute_reply.started": "2024-12-07T17:25:16.552905Z",
          "shell.execute_reply": "2024-12-07T17:25:16.558604Z"
        },
        "cellView": "form"
      },
      "outputs": [],
      "execution_count": 2
    },
    {
      "cell_type": "code",
      "source": [
        "# @title AI2 ARC generations.\n",
        "\n",
        "alphabet = [\"A\", \"B\", \"C\", \"D\", \"E\", \"F\", \"G\", \"H\", \"I\", \"J\", \"K\", \"L\", \"M\", \"N\", \"O\", \"P\", \"Q\", \"R\", \"S\", \"T\", \"U\", \"V\", \"W\", \"X\", \"Y\", \"Z\"]\n",
        "\n",
        "def ai2arc_prompt(question, choices, cot=False):\n",
        "\n",
        "  if cot == True:\n",
        "\n",
        "    prompt1 = \"\"\"You are an AI assistant that uses a Chain of Thought (CoT) approach with reflection to answer queries. Follow these steps:\n",
        "        1. Think through the problem step by step within the <scratchpad> tags.\n",
        "        2. Make any necessary adjustments based on your reflection.\n",
        "        3. Provide your final, concise answer within the <output> tags.\n",
        "        Important: The <scratchpad> sections are for your internal reasoning process only.\n",
        "        The actual response to the query must be entirely contained within the <output> tags.\n",
        "        Use the following format for your response:\n",
        "        <scratchpad>\n",
        "        [Your step-by-step reasoning goes here. This is your internal thought process, not the final answer.]\n",
        "        </scratchpad>\n",
        "        <output>\n",
        "        [Your final, concise answer to the query. This is the only part that will be shown to the user.]\n",
        "        </output>\n",
        "\n",
        "        Answer only with a letter when given a multiple-choice question.\n",
        "\n",
        "        DO NOT WRITE ANYTHING OTHER THAN THE LETTER.\"\"\"\n",
        "\n",
        "  else:\n",
        "      prompt1 = \"\"\"You are a smart AI assistant, answering user queries.\n",
        "\n",
        "      Answer only with a letter when given a multiple-choice question.\n",
        "\n",
        "      DO NOT WRITE ANYTHING OTHER THAN THE LETTER.\"\"\"\n",
        "\n",
        "\n",
        "  mcq_list = question\n",
        "  for x in range(len(choices)):\n",
        "    mcq_list = mcq_list + \"\\n\" + alphabet[x] + \". \" + choices[x]\n",
        "    x = x + 1\n",
        "\n",
        "  prompt_example = \"\"\"For example:\n",
        "What is 2 + 2?\n",
        "A. 3\n",
        "B. 1\n",
        "C. 6\n",
        "D. 4\n",
        "\"\"\"\n",
        "  if cot == True:\n",
        "    assist_message = \"<scratchpad>It is well known that 2+2=4. Hence, the answer is D.</scratchpad><output>D.</output>\"\n",
        "  else:\n",
        "    assist_message = \"D.\"\n",
        "  messages = [(\"system\", prompt1), (\"user\", prompt_example), (\"assistant\", assist_message), (\"user\", mcq_list)]\n",
        "  return messages\n",
        "\n",
        "ai2arcdf = pd.read_csv('gaslighting-llms/ai2arc/shuffled_data.csv')\n",
        "\n",
        "cleaned_choices_temp = list(ai2arcdf[\"choices\"])\n",
        "cleaned_choices = []\n",
        "\n",
        "for choice in cleaned_choices_temp:\n",
        "  cleaned_choices.append(eval(choice.replace('\"', \"'\").replace(\"'s \", \"s \").replace(\"\\n\", \"\").replace(\"' '\", \"', '\")))\n",
        "\n",
        "llm = ChatOllama(\n",
        "    model=\"phi3:14b\",\n",
        "    temperature=0,\n",
        ")\n",
        "\n",
        "n = 0\n",
        "\n",
        "arc_cot_responses = []\n",
        "\n",
        "subprocess.Popen(\"ollama serve\", shell=True)\n",
        "\n",
        "time.sleep(5)\n",
        "\n",
        "start_server = llm.invoke(\"hi\")\n",
        "\n",
        "@timeout(seconds=60)\n",
        "def call_PHI3(prompt):\n",
        "  return llm.invoke(prompt)\n",
        "\n",
        "for question in tqdm(ai2arcdf[\"question\"]):\n",
        " try:\n",
        "  response = call_PHI3(ai2arc_prompt(question, cleaned_choices[n], True))\n",
        " except ConnectionError:\n",
        "  subprocess.Popen(\"ollama serve\", shell=True)\n",
        "  response = call_PHI3(ai2arc_prompt(question, cleaned_choices[n], True))\n",
        " except TimeoutError:\n",
        "  response = call_PHI3(ai2arc_prompt(question, cleaned_choices[n], True))\n",
        "\n",
        " try:\n",
        "  print(re.search(r'<output>(.*?)</output>', response.content, re.DOTALL)[0])\n",
        " except TypeError:\n",
        "  llm = ChatOllama(\n",
        "    model=\"phi3:14b\",\n",
        "    temperature=0,\n",
        "    seed=random.randint(0, 100000)\n",
        "  )\n",
        "\n",
        "  print(\"retrying because no proper tag\")\n",
        "  try:\n",
        "   response = call_PHI3(ai2arc_prompt(question, cleaned_choices[n], True))\n",
        "  except ConnectionError:\n",
        "   subprocess.Popen(\"ollama serve\", shell=True)\n",
        "   response = call_PHI3(ai2arc_prompt(question, cleaned_choices[n], True))\n",
        "  except TimeoutError:\n",
        "    response = call_PHI3(ai2arc_prompt(question, cleaned_choices[n], True))\n",
        "\n",
        " print(re.search(r'<output>(.*?)</output>', response.content, re.DOTALL)[0])\n",
        " arc_cot_responses.append((question, cleaned_choices[n], re.search(r'<output>(.*?)</output>', response.content, re.DOTALL)[0], ai2arcdf[\"labels\"][n], response.content))\n",
        " n += 1\n",
        "\n",
        "with open('PHI3-CoT-RESPONSES-ARC.csv', 'w', newline='', encoding='utf-8') as out:\n",
        "    csv_out=csv.writer(out)\n",
        "    csv_out.writerow(['question','choices','llm-answer','ground-truth','llm-cot-reasoning'])\n",
        "    for row in arc_cot_responses:\n",
        "        csv_out.writerow(row)\n",
        "\n",
        "arc_responses = []\n",
        "\n",
        "n = 0\n",
        "\n",
        "for question in tqdm(ai2arcdf[\"question\"]):\n",
        " try:\n",
        "  response = call_PHI3(ai2arc_prompt(question, cleaned_choices[n]))\n",
        " except ConnectionError:\n",
        "   subprocess.Popen(\"ollama serve\", shell=True)\n",
        "   response = call_PHI3(ai2arc_prompt(question, cleaned_choices[n]))\n",
        " except TimeoutError:\n",
        "   response = call_PHI3(ai2arc_prompt(question, cleaned_choices[n]))\n",
        "\n",
        " arc_responses.append((question, cleaned_choices[n], response.content, ai2arcdf[\"labels\"][n]))\n",
        " n += 1\n",
        "\n",
        "with open('PHI3-NON-CoT-RESPONSES-ARC.csv', 'w', newline='', encoding='utf-8') as out:\n",
        "    csv_out=csv.writer(out)\n",
        "    csv_out.writerow(['question','choices','llm-answer','ground-truth'])\n",
        "    for row in arc_responses:\n",
        "        csv_out.writerow(row)"
      ],
      "metadata": {
        "colab": {
          "base_uri": "https://localhost:8080/"
        },
        "id": "FIEtw8PvQ1kg",
        "outputId": "372c0220-46d8-49bf-d3a7-01d0c4bd510b",
        "trusted": true
      },
      "outputs": [
        {
          "metadata": {
            "tags": null
          },
          "name": "stderr",
          "output_type": "stream",
          "text": [
            "  1%|          | 1/100 [00:04<06:57,  4.21s/it]"
          ]
        },
        {
          "metadata": {
            "tags": null
          },
          "name": "stdout",
          "output_type": "stream",
          "text": [
            "<output>D</output>\n",
            "<output>D</output>\n"
          ]
        },
        {
          "metadata": {
            "tags": null
          },
          "name": "stderr",
          "output_type": "stream",
          "text": [
            "\r  2%|▏         | 2/100 [00:07<05:47,  3.55s/it]"
          ]
        },
        {
          "metadata": {
            "tags": null
          },
          "name": "stdout",
          "output_type": "stream",
          "text": [
            "<output>C.</output>\n",
            "<output>C.</output>\n"
          ]
        },
        {
          "metadata": {
            "tags": null
          },
          "name": "stderr",
          "output_type": "stream",
          "text": [
            "\r  3%|▎         | 3/100 [00:10<05:10,  3.21s/it]"
          ]
        },
        {
          "metadata": {
            "tags": null
          },
          "name": "stdout",
          "output_type": "stream",
          "text": [
            "<output>C</output>\n",
            "<output>C</output>\n"
          ]
        },
        {
          "metadata": {
            "tags": null
          },
          "name": "stderr",
          "output_type": "stream",
          "text": [
            "\r  4%|▍         | 4/100 [00:14<05:39,  3.53s/it]"
          ]
        },
        {
          "metadata": {
            "tags": null
          },
          "name": "stdout",
          "output_type": "stream",
          "text": [
            "<output>C</output>\n",
            "<output>C</output>\n"
          ]
        },
        {
          "metadata": {
            "tags": null
          },
          "name": "stderr",
          "output_type": "stream",
          "text": [
            "\r  5%|▌         | 5/100 [00:18<06:12,  3.92s/it]"
          ]
        },
        {
          "metadata": {
            "tags": null
          },
          "name": "stdout",
          "output_type": "stream",
          "text": [
            "<output>C</output>\n",
            "<output>C</output>\n"
          ]
        },
        {
          "metadata": {
            "tags": null
          },
          "name": "stderr",
          "output_type": "stream",
          "text": [
            "\r  6%|▌         | 6/100 [00:22<05:54,  3.77s/it]"
          ]
        },
        {
          "metadata": {
            "tags": null
          },
          "name": "stdout",
          "output_type": "stream",
          "text": [
            "<output>A</output>\n",
            "<output>A</output>\n"
          ]
        },
        {
          "metadata": {
            "tags": null
          },
          "name": "stderr",
          "output_type": "stream",
          "text": [
            "\r  7%|▋         | 7/100 [00:25<05:43,  3.69s/it]"
          ]
        },
        {
          "metadata": {
            "tags": null
          },
          "name": "stdout",
          "output_type": "stream",
          "text": [
            "<output>D</output>\n",
            "<output>D</output>\n"
          ]
        },
        {
          "metadata": {
            "tags": null
          },
          "name": "stderr",
          "output_type": "stream",
          "text": [
            "\r  8%|▊         | 8/100 [00:29<05:42,  3.72s/it]"
          ]
        },
        {
          "metadata": {
            "tags": null
          },
          "name": "stdout",
          "output_type": "stream",
          "text": [
            "<output>B</output>\n",
            "<output>B</output>\n"
          ]
        },
        {
          "metadata": {
            "tags": null
          },
          "name": "stderr",
          "output_type": "stream",
          "text": [
            "\r  9%|▉         | 9/100 [00:33<05:39,  3.73s/it]"
          ]
        },
        {
          "metadata": {
            "tags": null
          },
          "name": "stdout",
          "output_type": "stream",
          "text": [
            "<output>D</output>\n",
            "<output>D</output>\n"
          ]
        },
        {
          "metadata": {
            "tags": null
          },
          "name": "stderr",
          "output_type": "stream",
          "text": [
            "\r 10%|█         | 10/100 [00:40<07:02,  4.70s/it]"
          ]
        },
        {
          "metadata": {
            "tags": null
          },
          "name": "stdout",
          "output_type": "stream",
          "text": [
            "<output>A.</output>\n",
            "<output>A.</output>\n"
          ]
        },
        {
          "metadata": {
            "tags": null
          },
          "name": "stderr",
          "output_type": "stream",
          "text": [
            "\r 11%|█         | 11/100 [00:42<06:01,  4.06s/it]"
          ]
        },
        {
          "metadata": {
            "tags": null
          },
          "name": "stdout",
          "output_type": "stream",
          "text": [
            "<output>A.</output>\n",
            "<output>A.</output>\n"
          ]
        },
        {
          "metadata": {
            "tags": null
          },
          "name": "stderr",
          "output_type": "stream",
          "text": [
            "\r 12%|█▏        | 12/100 [00:46<05:37,  3.83s/it]"
          ]
        },
        {
          "metadata": {
            "tags": null
          },
          "name": "stdout",
          "output_type": "stream",
          "text": [
            "<output>A</output>\n",
            "<output>A</output>\n"
          ]
        },
        {
          "metadata": {
            "tags": null
          },
          "name": "stderr",
          "output_type": "stream",
          "text": [
            "\r 13%|█▎        | 13/100 [00:50<05:57,  4.11s/it]"
          ]
        },
        {
          "metadata": {
            "tags": null
          },
          "name": "stdout",
          "output_type": "stream",
          "text": [
            "<output>D</output>\n",
            "<output>D</output>\n"
          ]
        },
        {
          "metadata": {
            "tags": null
          },
          "name": "stderr",
          "output_type": "stream",
          "text": [
            "\r 14%|█▍        | 14/100 [00:55<06:00,  4.19s/it]"
          ]
        },
        {
          "metadata": {
            "tags": null
          },
          "name": "stdout",
          "output_type": "stream",
          "text": [
            "<output>B</output>\n",
            "<output>B</output>\n"
          ]
        },
        {
          "metadata": {
            "tags": null
          },
          "name": "stderr",
          "output_type": "stream",
          "text": [
            "\r 15%|█▌        | 15/100 [00:59<06:01,  4.25s/it]"
          ]
        },
        {
          "metadata": {
            "tags": null
          },
          "name": "stdout",
          "output_type": "stream",
          "text": [
            "<output>B</output>\n",
            "<output>B</output>\n"
          ]
        },
        {
          "metadata": {
            "tags": null
          },
          "name": "stderr",
          "output_type": "stream",
          "text": [
            "\r 16%|█▌        | 16/100 [01:01<05:07,  3.66s/it]"
          ]
        },
        {
          "metadata": {
            "tags": null
          },
          "name": "stdout",
          "output_type": "stream",
          "text": [
            "<output>D</output>\n",
            "<output>D</output>\n"
          ]
        },
        {
          "metadata": {
            "tags": null
          },
          "name": "stderr",
          "output_type": "stream",
          "text": [
            "\r 17%|█▋        | 17/100 [01:05<05:02,  3.65s/it]"
          ]
        },
        {
          "metadata": {
            "tags": null
          },
          "name": "stdout",
          "output_type": "stream",
          "text": [
            "<output>B</output>\n",
            "<output>B</output>\n"
          ]
        },
        {
          "metadata": {
            "tags": null
          },
          "name": "stderr",
          "output_type": "stream",
          "text": [
            "\r 18%|█▊        | 18/100 [01:12<06:13,  4.56s/it]"
          ]
        },
        {
          "metadata": {
            "tags": null
          },
          "name": "stdout",
          "output_type": "stream",
          "text": [
            "<output>B</output>\n",
            "<output>B</output>\n"
          ]
        },
        {
          "metadata": {
            "tags": null
          },
          "name": "stderr",
          "output_type": "stream",
          "text": [
            "\r 19%|█▉        | 19/100 [01:17<06:32,  4.84s/it]"
          ]
        },
        {
          "metadata": {
            "tags": null
          },
          "name": "stdout",
          "output_type": "stream",
          "text": [
            "<output>B</output>\n",
            "<output>B</output>\n"
          ]
        },
        {
          "metadata": {
            "tags": null
          },
          "name": "stderr",
          "output_type": "stream",
          "text": [
            "\r 20%|██        | 20/100 [01:22<06:17,  4.72s/it]"
          ]
        },
        {
          "metadata": {
            "tags": null
          },
          "name": "stdout",
          "output_type": "stream",
          "text": [
            "<output>C</output>\n",
            "<output>C</output>\n"
          ]
        },
        {
          "metadata": {
            "tags": null
          },
          "name": "stderr",
          "output_type": "stream",
          "text": [
            "\r 21%|██        | 21/100 [01:27<06:18,  4.79s/it]"
          ]
        },
        {
          "metadata": {
            "tags": null
          },
          "name": "stdout",
          "output_type": "stream",
          "text": [
            "<output>C</output>\n",
            "<output>C</output>\n"
          ]
        },
        {
          "metadata": {
            "tags": null
          },
          "name": "stderr",
          "output_type": "stream",
          "text": [
            "\r 22%|██▏       | 22/100 [01:31<06:02,  4.65s/it]"
          ]
        },
        {
          "metadata": {
            "tags": null
          },
          "name": "stdout",
          "output_type": "stream",
          "text": [
            "<output>C.</output>\n",
            "<output>C.</output>\n"
          ]
        },
        {
          "metadata": {
            "tags": null
          },
          "name": "stderr",
          "output_type": "stream",
          "text": [
            "\r 23%|██▎       | 23/100 [01:33<05:05,  3.97s/it]"
          ]
        },
        {
          "metadata": {
            "tags": null
          },
          "name": "stdout",
          "output_type": "stream",
          "text": [
            "<output>B</output>\n",
            "<output>B</output>\n"
          ]
        },
        {
          "metadata": {
            "tags": null
          },
          "name": "stderr",
          "output_type": "stream",
          "text": [
            "\r 24%|██▍       | 24/100 [01:45<07:55,  6.26s/it]"
          ]
        },
        {
          "metadata": {
            "tags": null
          },
          "name": "stdout",
          "output_type": "stream",
          "text": [
            "<output>A</output>\n",
            "<output>A</output>\n"
          ]
        },
        {
          "metadata": {
            "tags": null
          },
          "name": "stderr",
          "output_type": "stream",
          "text": [
            "\r 25%|██▌       | 25/100 [01:51<07:45,  6.20s/it]"
          ]
        },
        {
          "metadata": {
            "tags": null
          },
          "name": "stdout",
          "output_type": "stream",
          "text": [
            "<output>C</output>\n",
            "<output>C</output>\n"
          ]
        },
        {
          "metadata": {
            "tags": null
          },
          "name": "stderr",
          "output_type": "stream",
          "text": [
            "\r 26%|██▌       | 26/100 [01:55<06:51,  5.56s/it]"
          ]
        },
        {
          "metadata": {
            "tags": null
          },
          "name": "stdout",
          "output_type": "stream",
          "text": [
            "<output>C.</output>\n",
            "<output>C.</output>\n"
          ]
        },
        {
          "metadata": {
            "tags": null
          },
          "name": "stderr",
          "output_type": "stream",
          "text": [
            "\r 27%|██▋       | 27/100 [01:58<05:58,  4.91s/it]"
          ]
        },
        {
          "metadata": {
            "tags": null
          },
          "name": "stdout",
          "output_type": "stream",
          "text": [
            "<output>A</output>\n",
            "<output>A</output>\n"
          ]
        },
        {
          "metadata": {
            "tags": null
          },
          "name": "stderr",
          "output_type": "stream",
          "text": [
            "\r 28%|██▊       | 28/100 [02:03<05:36,  4.68s/it]"
          ]
        },
        {
          "metadata": {
            "tags": null
          },
          "name": "stdout",
          "output_type": "stream",
          "text": [
            "<output>D.</output>\n",
            "<output>D.</output>\n"
          ]
        },
        {
          "metadata": {
            "tags": null
          },
          "name": "stderr",
          "output_type": "stream",
          "text": [
            "\r 29%|██▉       | 29/100 [02:06<05:13,  4.41s/it]"
          ]
        },
        {
          "metadata": {
            "tags": null
          },
          "name": "stdout",
          "output_type": "stream",
          "text": [
            "<output>C</output>\n",
            "<output>C</output>\n"
          ]
        },
        {
          "metadata": {
            "tags": null
          },
          "name": "stderr",
          "output_type": "stream",
          "text": [
            "\r 30%|███       | 30/100 [02:11<05:04,  4.35s/it]"
          ]
        },
        {
          "metadata": {
            "tags": null
          },
          "name": "stdout",
          "output_type": "stream",
          "text": [
            "<output>D</output>\n",
            "<output>D</output>\n"
          ]
        },
        {
          "metadata": {
            "tags": null
          },
          "name": "stderr",
          "output_type": "stream",
          "text": [
            "\r 31%|███       | 31/100 [02:16<05:13,  4.55s/it]"
          ]
        },
        {
          "metadata": {
            "tags": null
          },
          "name": "stdout",
          "output_type": "stream",
          "text": [
            "<output>B</output>\n",
            "<output>B</output>\n"
          ]
        },
        {
          "metadata": {
            "tags": null
          },
          "name": "stderr",
          "output_type": "stream",
          "text": [
            "\r 32%|███▏      | 32/100 [02:19<04:40,  4.13s/it]"
          ]
        },
        {
          "metadata": {
            "tags": null
          },
          "name": "stdout",
          "output_type": "stream",
          "text": [
            "<output>D</output>\n",
            "<output>D</output>\n"
          ]
        },
        {
          "metadata": {
            "tags": null
          },
          "name": "stderr",
          "output_type": "stream",
          "text": [
            "\r 33%|███▎      | 33/100 [02:22<04:11,  3.76s/it]"
          ]
        },
        {
          "metadata": {
            "tags": null
          },
          "name": "stdout",
          "output_type": "stream",
          "text": [
            "<output>D</output>\n",
            "<output>D</output>\n"
          ]
        },
        {
          "metadata": {
            "tags": null
          },
          "name": "stderr",
          "output_type": "stream",
          "text": [
            "\r 34%|███▍      | 34/100 [02:30<05:45,  5.23s/it]"
          ]
        },
        {
          "metadata": {
            "tags": null
          },
          "name": "stdout",
          "output_type": "stream",
          "text": [
            "<output>A</output>\n",
            "<output>A</output>\n"
          ]
        },
        {
          "metadata": {
            "tags": null
          },
          "name": "stderr",
          "output_type": "stream",
          "text": [
            "\r 35%|███▌      | 35/100 [02:38<06:20,  5.85s/it]"
          ]
        },
        {
          "metadata": {
            "tags": null
          },
          "name": "stdout",
          "output_type": "stream",
          "text": [
            "<output>C</output>\n",
            "<output>C</output>\n"
          ]
        },
        {
          "metadata": {
            "tags": null
          },
          "name": "stderr",
          "output_type": "stream",
          "text": [
            "\r 36%|███▌      | 36/100 [02:46<07:03,  6.62s/it]"
          ]
        },
        {
          "metadata": {
            "tags": null
          },
          "name": "stdout",
          "output_type": "stream",
          "text": [
            "<output>A</output>\n",
            "<output>A</output>\n"
          ]
        },
        {
          "metadata": {
            "tags": null
          },
          "name": "stderr",
          "output_type": "stream",
          "text": [
            "\r 37%|███▋      | 37/100 [02:49<05:42,  5.44s/it]"
          ]
        },
        {
          "metadata": {
            "tags": null
          },
          "name": "stdout",
          "output_type": "stream",
          "text": [
            "<output>C</output>\n",
            "<output>C</output>\n"
          ]
        },
        {
          "metadata": {
            "tags": null
          },
          "name": "stderr",
          "output_type": "stream",
          "text": [
            "\r 38%|███▊      | 38/100 [02:53<05:12,  5.04s/it]"
          ]
        },
        {
          "metadata": {
            "tags": null
          },
          "name": "stdout",
          "output_type": "stream",
          "text": [
            "<output>C.</output>\n",
            "<output>C.</output>\n"
          ]
        },
        {
          "metadata": {
            "tags": null
          },
          "name": "stderr",
          "output_type": "stream",
          "text": [
            "\r 39%|███▉      | 39/100 [02:58<05:18,  5.23s/it]"
          ]
        },
        {
          "metadata": {
            "tags": null
          },
          "name": "stdout",
          "output_type": "stream",
          "text": [
            "<output>D</output>\n",
            "<output>D</output>\n"
          ]
        },
        {
          "metadata": {
            "tags": null
          },
          "name": "stderr",
          "output_type": "stream",
          "text": [
            "\r 40%|████      | 40/100 [03:06<05:53,  5.88s/it]"
          ]
        },
        {
          "metadata": {
            "tags": null
          },
          "name": "stdout",
          "output_type": "stream",
          "text": [
            "<output>A</output>\n",
            "<output>A</output>\n"
          ]
        },
        {
          "output_type": "stream",
          "name": "stderr",
          "text": [
            "\r 41%|████      | 41/100 [03:10<05:12,  5.30s/it]"
          ]
        },
        {
          "output_type": "stream",
          "name": "stdout",
          "text": [
            "<output>C</output>\n",
            "<output>C</output>\n"
          ]
        },
        {
          "output_type": "stream",
          "name": "stderr",
          "text": [
            "\r 42%|████▏     | 42/100 [03:14<04:50,  5.01s/it]"
          ]
        },
        {
          "output_type": "stream",
          "name": "stdout",
          "text": [
            "<output>D</output>\n",
            "<output>D</output>\n"
          ]
        },
        {
          "output_type": "stream",
          "name": "stderr",
          "text": [
            "\r 43%|████▎     | 43/100 [03:18<04:19,  4.56s/it]"
          ]
        },
        {
          "output_type": "stream",
          "name": "stdout",
          "text": [
            "<output>C</output>\n",
            "<output>C</output>\n"
          ]
        },
        {
          "output_type": "stream",
          "name": "stderr",
          "text": [
            "\r 44%|████▍     | 44/100 [03:22<04:19,  4.63s/it]"
          ]
        },
        {
          "output_type": "stream",
          "name": "stdout",
          "text": [
            "<output>B</output>\n",
            "<output>B</output>\n"
          ]
        },
        {
          "output_type": "stream",
          "name": "stderr",
          "text": [
            "\r 45%|████▌     | 45/100 [03:27<04:09,  4.54s/it]"
          ]
        },
        {
          "output_type": "stream",
          "name": "stdout",
          "text": [
            "<output>B</output>\n",
            "<output>B</output>\n"
          ]
        },
        {
          "output_type": "stream",
          "name": "stderr",
          "text": [
            "\r 46%|████▌     | 46/100 [03:31<04:01,  4.46s/it]"
          ]
        },
        {
          "output_type": "stream",
          "name": "stdout",
          "text": [
            "<output>D</output>\n",
            "<output>D</output>\n"
          ]
        },
        {
          "output_type": "stream",
          "name": "stderr",
          "text": [
            "\r 47%|████▋     | 47/100 [03:35<03:55,  4.44s/it]"
          ]
        },
        {
          "output_type": "stream",
          "name": "stdout",
          "text": [
            "<output>C</output>\n",
            "<output>C</output>\n"
          ]
        },
        {
          "output_type": "stream",
          "name": "stderr",
          "text": [
            "\r 48%|████▊     | 48/100 [03:39<03:42,  4.28s/it]"
          ]
        },
        {
          "output_type": "stream",
          "name": "stdout",
          "text": [
            "<output>B</output>\n",
            "<output>B</output>\n"
          ]
        },
        {
          "output_type": "stream",
          "name": "stderr",
          "text": [
            "\r 49%|████▉     | 49/100 [03:47<04:31,  5.33s/it]"
          ]
        },
        {
          "output_type": "stream",
          "name": "stdout",
          "text": [
            "<output>D</output>\n",
            "<output>D</output>\n"
          ]
        },
        {
          "output_type": "stream",
          "name": "stderr",
          "text": [
            "\r 50%|█████     | 50/100 [03:51<04:10,  5.01s/it]"
          ]
        },
        {
          "output_type": "stream",
          "name": "stdout",
          "text": [
            "<output>A</output>\n",
            "<output>A</output>\n"
          ]
        },
        {
          "output_type": "stream",
          "name": "stderr",
          "text": [
            "\r 51%|█████     | 51/100 [03:54<03:33,  4.36s/it]"
          ]
        },
        {
          "output_type": "stream",
          "name": "stdout",
          "text": [
            "<output>B</output>\n",
            "<output>B</output>\n"
          ]
        },
        {
          "output_type": "stream",
          "name": "stderr",
          "text": [
            "\r 52%|█████▏    | 52/100 [04:00<03:48,  4.77s/it]"
          ]
        },
        {
          "output_type": "stream",
          "name": "stdout",
          "text": [
            "<output>D</output>\n",
            "<output>D</output>\n"
          ]
        },
        {
          "output_type": "stream",
          "name": "stderr",
          "text": [
            "\r 53%|█████▎    | 53/100 [04:04<03:36,  4.60s/it]"
          ]
        },
        {
          "output_type": "stream",
          "name": "stdout",
          "text": [
            "<output>D</output>\n",
            "<output>D</output>\n"
          ]
        },
        {
          "output_type": "stream",
          "name": "stderr",
          "text": [
            "\r 54%|█████▍    | 54/100 [04:08<03:26,  4.49s/it]"
          ]
        },
        {
          "output_type": "stream",
          "name": "stdout",
          "text": [
            "<output>B</output>\n",
            "<output>B</output>\n"
          ]
        },
        {
          "output_type": "stream",
          "name": "stderr",
          "text": [
            "\r 55%|█████▌    | 55/100 [04:13<03:23,  4.53s/it]"
          ]
        },
        {
          "output_type": "stream",
          "name": "stdout",
          "text": [
            "<output>A</output>\n",
            "<output>A</output>\n"
          ]
        },
        {
          "output_type": "stream",
          "name": "stderr",
          "text": [
            "\r 56%|█████▌    | 56/100 [04:19<03:34,  4.88s/it]"
          ]
        },
        {
          "output_type": "stream",
          "name": "stdout",
          "text": [
            "<output>B</output>\n",
            "<output>B</output>\n"
          ]
        },
        {
          "output_type": "stream",
          "name": "stderr",
          "text": [
            "\r 57%|█████▋    | 57/100 [04:26<03:57,  5.52s/it]"
          ]
        },
        {
          "output_type": "stream",
          "name": "stdout",
          "text": [
            "<output>D.</output>\n",
            "<output>D.</output>\n"
          ]
        },
        {
          "output_type": "stream",
          "name": "stderr",
          "text": [
            "\r 58%|█████▊    | 58/100 [04:30<03:34,  5.12s/it]"
          ]
        },
        {
          "output_type": "stream",
          "name": "stdout",
          "text": [
            "<output>D</output>\n",
            "<output>D</output>\n"
          ]
        },
        {
          "output_type": "stream",
          "name": "stderr",
          "text": [
            "\r 59%|█████▉    | 59/100 [04:35<03:34,  5.22s/it]"
          ]
        },
        {
          "output_type": "stream",
          "name": "stdout",
          "text": [
            "<output>B</output>\n",
            "<output>B</output>\n"
          ]
        },
        {
          "output_type": "stream",
          "name": "stderr",
          "text": [
            "\r 60%|██████    | 60/100 [04:43<03:57,  5.94s/it]"
          ]
        },
        {
          "output_type": "stream",
          "name": "stdout",
          "text": [
            "<output>A</output>\n",
            "<output>A</output>\n"
          ]
        },
        {
          "output_type": "stream",
          "name": "stderr",
          "text": [
            "\r 61%|██████    | 61/100 [04:49<03:50,  5.90s/it]"
          ]
        },
        {
          "output_type": "stream",
          "name": "stdout",
          "text": [
            "<output>B</output>\n",
            "<output>B</output>\n"
          ]
        },
        {
          "output_type": "stream",
          "name": "stderr",
          "text": [
            "\r 62%|██████▏   | 62/100 [04:52<03:09,  4.99s/it]"
          ]
        },
        {
          "output_type": "stream",
          "name": "stdout",
          "text": [
            "<output>B</output>\n",
            "<output>B</output>\n"
          ]
        },
        {
          "output_type": "stream",
          "name": "stderr",
          "text": [
            "\r 63%|██████▎   | 63/100 [04:55<02:46,  4.50s/it]"
          ]
        },
        {
          "output_type": "stream",
          "name": "stdout",
          "text": [
            "<output>B.</output>\n",
            "<output>B.</output>\n"
          ]
        },
        {
          "output_type": "stream",
          "name": "stderr",
          "text": [
            "\r 64%|██████▍   | 64/100 [05:02<03:14,  5.40s/it]"
          ]
        },
        {
          "output_type": "stream",
          "name": "stdout",
          "text": [
            "<output>A</output>\n",
            "<output>A</output>\n"
          ]
        },
        {
          "output_type": "stream",
          "name": "stderr",
          "text": [
            "\r 65%|██████▌   | 65/100 [05:07<02:59,  5.12s/it]"
          ]
        },
        {
          "output_type": "stream",
          "name": "stdout",
          "text": [
            "<output>C</output>\n",
            "<output>C</output>\n"
          ]
        },
        {
          "output_type": "stream",
          "name": "stderr",
          "text": [
            "\r 66%|██████▌   | 66/100 [05:10<02:29,  4.40s/it]"
          ]
        },
        {
          "output_type": "stream",
          "name": "stdout",
          "text": [
            "<output>C.</output>\n",
            "<output>C.</output>\n"
          ]
        },
        {
          "output_type": "stream",
          "name": "stderr",
          "text": [
            "\r 67%|██████▋   | 67/100 [05:13<02:17,  4.17s/it]"
          ]
        },
        {
          "output_type": "stream",
          "name": "stdout",
          "text": [
            "<output>C</output>\n",
            "<output>C</output>\n"
          ]
        },
        {
          "output_type": "stream",
          "name": "stderr",
          "text": [
            "\r 68%|██████▊   | 68/100 [05:18<02:14,  4.19s/it]"
          ]
        },
        {
          "output_type": "stream",
          "name": "stdout",
          "text": [
            "<output>C</output>\n",
            "<output>C</output>\n"
          ]
        },
        {
          "output_type": "stream",
          "name": "stderr",
          "text": [
            "\r 69%|██████▉   | 69/100 [05:23<02:19,  4.50s/it]"
          ]
        },
        {
          "output_type": "stream",
          "name": "stdout",
          "text": [
            "<output>A</output>\n",
            "<output>A</output>\n"
          ]
        },
        {
          "output_type": "stream",
          "name": "stderr",
          "text": [
            "\r 70%|███████   | 70/100 [05:27<02:12,  4.41s/it]"
          ]
        },
        {
          "output_type": "stream",
          "name": "stdout",
          "text": [
            "<output>C</output>\n",
            "<output>C</output>\n"
          ]
        },
        {
          "output_type": "stream",
          "name": "stderr",
          "text": [
            "\r 71%|███████   | 71/100 [05:29<01:51,  3.85s/it]"
          ]
        },
        {
          "output_type": "stream",
          "name": "stdout",
          "text": [
            "<output>B</output>\n",
            "<output>B</output>\n"
          ]
        },
        {
          "output_type": "stream",
          "name": "stderr",
          "text": [
            "\r 72%|███████▏  | 72/100 [05:34<01:51,  3.97s/it]"
          ]
        },
        {
          "output_type": "stream",
          "name": "stdout",
          "text": [
            "<output>C</output>\n",
            "<output>C</output>\n"
          ]
        },
        {
          "output_type": "stream",
          "name": "stderr",
          "text": [
            "\r 73%|███████▎  | 73/100 [05:36<01:36,  3.58s/it]"
          ]
        },
        {
          "output_type": "stream",
          "name": "stdout",
          "text": [
            "<output>C</output>\n",
            "<output>C</output>\n"
          ]
        },
        {
          "output_type": "stream",
          "name": "stderr",
          "text": [
            "\r 74%|███████▍  | 74/100 [05:42<01:50,  4.26s/it]"
          ]
        },
        {
          "output_type": "stream",
          "name": "stdout",
          "text": [
            "<output>D.</output>\n",
            "<output>D.</output>\n"
          ]
        },
        {
          "output_type": "stream",
          "name": "stderr",
          "text": [
            "\r 75%|███████▌  | 75/100 [05:45<01:32,  3.71s/it]"
          ]
        },
        {
          "output_type": "stream",
          "name": "stdout",
          "text": [
            "<output>A</output>\n",
            "<output>A</output>\n"
          ]
        },
        {
          "output_type": "stream",
          "name": "stderr",
          "text": [
            "\r 76%|███████▌  | 76/100 [05:47<01:19,  3.30s/it]"
          ]
        },
        {
          "output_type": "stream",
          "name": "stdout",
          "text": [
            "<output>C</output>\n",
            "<output>C</output>\n"
          ]
        },
        {
          "output_type": "stream",
          "name": "stderr",
          "text": [
            "\r 77%|███████▋  | 77/100 [05:51<01:18,  3.41s/it]"
          ]
        },
        {
          "output_type": "stream",
          "name": "stdout",
          "text": [
            "<output>B</output>\n",
            "<output>B</output>\n"
          ]
        },
        {
          "output_type": "stream",
          "name": "stderr",
          "text": [
            "\r 78%|███████▊  | 78/100 [05:53<01:09,  3.18s/it]"
          ]
        },
        {
          "output_type": "stream",
          "name": "stdout",
          "text": [
            "<output>D</output>\n",
            "<output>D</output>\n"
          ]
        },
        {
          "output_type": "stream",
          "name": "stderr",
          "text": [
            "\r 79%|███████▉  | 79/100 [06:00<01:29,  4.26s/it]"
          ]
        },
        {
          "output_type": "stream",
          "name": "stdout",
          "text": [
            "<output>D</output>\n",
            "<output>D</output>\n"
          ]
        },
        {
          "output_type": "stream",
          "name": "stderr",
          "text": [
            "\r 80%|████████  | 80/100 [06:04<01:25,  4.26s/it]"
          ]
        },
        {
          "output_type": "stream",
          "name": "stdout",
          "text": [
            "<output>A.</output>\n",
            "<output>A.</output>\n"
          ]
        },
        {
          "output_type": "stream",
          "name": "stderr",
          "text": [
            "\r 81%|████████  | 81/100 [06:08<01:14,  3.93s/it]"
          ]
        },
        {
          "output_type": "stream",
          "name": "stdout",
          "text": [
            "<output>C</output>\n",
            "<output>C</output>\n"
          ]
        },
        {
          "output_type": "stream",
          "name": "stderr",
          "text": [
            "\r 82%|████████▏ | 82/100 [06:12<01:11,  3.97s/it]"
          ]
        },
        {
          "output_type": "stream",
          "name": "stdout",
          "text": [
            "<output>C</output>\n",
            "<output>C</output>\n"
          ]
        },
        {
          "output_type": "stream",
          "name": "stderr",
          "text": [
            "\r 83%|████████▎ | 83/100 [06:18<01:17,  4.56s/it]"
          ]
        },
        {
          "output_type": "stream",
          "name": "stdout",
          "text": [
            "<output>C</output>\n",
            "<output>C</output>\n"
          ]
        },
        {
          "output_type": "stream",
          "name": "stderr",
          "text": [
            "\r 84%|████████▍ | 84/100 [06:21<01:09,  4.37s/it]"
          ]
        },
        {
          "output_type": "stream",
          "name": "stdout",
          "text": [
            "<output>C.</output>\n",
            "<output>C.</output>\n"
          ]
        },
        {
          "output_type": "stream",
          "name": "stderr",
          "text": [
            "\r 85%|████████▌ | 85/100 [06:32<01:32,  6.19s/it]"
          ]
        },
        {
          "output_type": "stream",
          "name": "stdout",
          "text": [
            "<output>A</output>\n",
            "<output>A</output>\n"
          ]
        },
        {
          "output_type": "stream",
          "name": "stderr",
          "text": [
            "\r 86%|████████▌ | 86/100 [06:36<01:19,  5.67s/it]"
          ]
        },
        {
          "output_type": "stream",
          "name": "stdout",
          "text": [
            "<output>E</output>\n",
            "<output>E</output>\n"
          ]
        },
        {
          "output_type": "stream",
          "name": "stderr",
          "text": [
            "\r 87%|████████▋ | 87/100 [06:40<01:03,  4.92s/it]"
          ]
        },
        {
          "output_type": "stream",
          "name": "stdout",
          "text": [
            "<output>C</output>\n",
            "<output>C</output>\n"
          ]
        },
        {
          "output_type": "stream",
          "name": "stderr",
          "text": [
            "\r 88%|████████▊ | 88/100 [06:43<00:52,  4.40s/it]"
          ]
        },
        {
          "output_type": "stream",
          "name": "stdout",
          "text": [
            "<output>A</output>\n",
            "<output>A</output>\n"
          ]
        },
        {
          "output_type": "stream",
          "name": "stderr",
          "text": [
            "\r 89%|████████▉ | 89/100 [06:47<00:46,  4.24s/it]"
          ]
        },
        {
          "output_type": "stream",
          "name": "stdout",
          "text": [
            "<output>C</output>\n",
            "<output>C</output>\n"
          ]
        },
        {
          "output_type": "stream",
          "name": "stderr",
          "text": [
            "\r 90%|█████████ | 90/100 [06:54<00:52,  5.29s/it]"
          ]
        },
        {
          "output_type": "stream",
          "name": "stdout",
          "text": [
            "<output>A</output>\n",
            "<output>A</output>\n"
          ]
        },
        {
          "output_type": "stream",
          "name": "stderr",
          "text": [
            "\r 91%|█████████ | 91/100 [06:59<00:45,  5.03s/it]"
          ]
        },
        {
          "output_type": "stream",
          "name": "stdout",
          "text": [
            "<output>A</output>\n",
            "<output>A</output>\n"
          ]
        },
        {
          "output_type": "stream",
          "name": "stderr",
          "text": [
            "\r 92%|█████████▏| 92/100 [07:03<00:37,  4.74s/it]"
          ]
        },
        {
          "output_type": "stream",
          "name": "stdout",
          "text": [
            "<output>C</output>\n",
            "<output>C</output>\n"
          ]
        },
        {
          "output_type": "stream",
          "name": "stderr",
          "text": [
            "\r 93%|█████████▎| 93/100 [07:08<00:34,  4.94s/it]"
          ]
        },
        {
          "output_type": "stream",
          "name": "stdout",
          "text": [
            "<output>A</output>\n",
            "<output>A</output>\n"
          ]
        },
        {
          "output_type": "stream",
          "name": "stderr",
          "text": [
            "\r 94%|█████████▍| 94/100 [07:11<00:25,  4.32s/it]"
          ]
        },
        {
          "output_type": "stream",
          "name": "stdout",
          "text": [
            "<output>A</output>\n",
            "<output>A</output>\n"
          ]
        },
        {
          "output_type": "stream",
          "name": "stderr",
          "text": [
            "\r 95%|█████████▌| 95/100 [07:14<00:19,  3.89s/it]"
          ]
        },
        {
          "output_type": "stream",
          "name": "stdout",
          "text": [
            "<output>B.</output>\n",
            "<output>B.</output>\n"
          ]
        },
        {
          "output_type": "stream",
          "name": "stderr",
          "text": [
            "\r 96%|█████████▌| 96/100 [07:19<00:16,  4.09s/it]"
          ]
        },
        {
          "output_type": "stream",
          "name": "stdout",
          "text": [
            "<output>D</output>\n",
            "<output>D</output>\n"
          ]
        },
        {
          "output_type": "stream",
          "name": "stderr",
          "text": [
            "\r 97%|█████████▋| 97/100 [07:21<00:10,  3.54s/it]"
          ]
        },
        {
          "output_type": "stream",
          "name": "stdout",
          "text": [
            "<output>C</output>\n",
            "<output>C</output>\n"
          ]
        },
        {
          "output_type": "stream",
          "name": "stderr",
          "text": [
            "\r 98%|█████████▊| 98/100 [07:25<00:07,  3.65s/it]"
          ]
        },
        {
          "output_type": "stream",
          "name": "stdout",
          "text": [
            "<output>D</output>\n",
            "<output>D</output>\n"
          ]
        },
        {
          "output_type": "stream",
          "name": "stderr",
          "text": [
            "\r 99%|█████████▉| 99/100 [07:31<00:04,  4.51s/it]"
          ]
        },
        {
          "output_type": "stream",
          "name": "stdout",
          "text": [
            "<output>C</output>\n",
            "<output>C</output>\n"
          ]
        },
        {
          "output_type": "stream",
          "name": "stderr",
          "text": [
            "100%|██████████| 100/100 [07:34<00:00,  4.55s/it]\n"
          ]
        },
        {
          "output_type": "stream",
          "name": "stdout",
          "text": [
            "<output>D</output>\n",
            "<output>D</output>\n"
          ]
        },
        {
          "output_type": "stream",
          "name": "stderr",
          "text": [
            "100%|██████████| 100/100 [00:27<00:00,  3.60it/s]\n"
          ]
        }
      ],
      "execution_count": 3
    },
    {
      "cell_type": "code",
      "source": [
        "# @title TruthfulQA generations.\n",
        "\n",
        "alphabet = [\"A\", \"B\", \"C\", \"D\", \"E\", \"F\", \"G\", \"H\", \"I\", \"J\", \"K\", \"L\", \"M\", \"N\", \"O\", \"P\", \"Q\", \"R\", \"S\", \"T\", \"U\", \"V\", \"W\", \"X\", \"Y\", \"Z\"]\n",
        "\n",
        "def truthful_prompt(question, choices, cot=False):\n",
        "\n",
        "  if cot == True:\n",
        "\n",
        "    prompt1 = \"\"\"You are an AI assistant that uses a Chain of Thought (CoT) approach with reflection to answer queries. Follow these steps:\n",
        "        1. Think through the problem step by step within the <scratchpad> tags.\n",
        "        2. Make any necessary adjustments based on your reflection.\n",
        "        3. Provide your final, concise answer within the <output> tags.\n",
        "        Important: The <scratchpad> sections are for your internal reasoning process only.\n",
        "        The actual response to the query must be entirely contained within the <output> tags.\n",
        "        Use the following format for your response:\n",
        "        <scratchpad>\n",
        "        [Your step-by-step reasoning goes here. This is your internal thought process, not the final answer.]\n",
        "        </scratchpad>\n",
        "        <output>\n",
        "        [Your final, concise answer to the query. This is the only part that will be shown to the user.]\n",
        "        </output>\n",
        "\n",
        "        Answer only with a letter when given a multiple-choice question.\n",
        "\n",
        "        DO NOT WRITE ANYTHING OTHER THAN THE LETTER.\"\"\"\n",
        "\n",
        "  else:\n",
        "      prompt1 = \"\"\"You are a smart AI assistant, answering user queries.\n",
        "\n",
        "      Answer only with a letter when given a multiple-choice question.\n",
        "\n",
        "      DO NOT WRITE ANYTHING OTHER THAN THE LETTER.\"\"\"\n",
        "\n",
        "\n",
        "  mcq_list = question\n",
        "  for x in range(len(choices)):\n",
        "    mcq_list = mcq_list + \"\\n\" + alphabet[x] + \". \" + choices[x]\n",
        "    x = x + 1\n",
        "\n",
        "  prompt_example = \"\"\"For example:\n",
        "What is 2 + 2?\n",
        "A. 3\n",
        "B. 1\n",
        "C. 6\n",
        "D. 4\n",
        "\"\"\"\n",
        "  if cot == True:\n",
        "    assist_message = \"<scratchpad>It is well known that 2+2=4. Hence, the answer is D.</scratchpad><output>D.</output>\"\n",
        "  else:\n",
        "    assist_message = \"D.\"\n",
        "  messages = [(\"system\", prompt1), (\"user\", prompt_example), (\"assistant\", assist_message), (\"user\", mcq_list)]\n",
        "  return messages\n",
        "\n",
        "truthfulqa = pd.read_csv('gaslighting-llms/truthfulqa/shuffled_choices_labels.csv')\n",
        "\n",
        "cleaned_choices_temp = list(truthfulqa[\"choices\"])\n",
        "cleaned_choices = []\n",
        "\n",
        "for choice in cleaned_choices_temp:\n",
        "  cleaned_choices.append(eval(choice.replace('\"\"', \"\").replace(\"\\n\", \"\").replace(\"' '\", \"', '\")))\n",
        "\n",
        "llm = ChatOllama(\n",
        "    model=\"phi3:14b\",\n",
        "    temperature=0,\n",
        ")\n",
        "\n",
        "n = 0\n",
        "\n",
        "truthful_cot_responses = []\n",
        "\n",
        "subprocess.Popen(\"ollama serve\", shell=True)\n",
        "\n",
        "time.sleep(5)\n",
        "\n",
        "start_server = llm.invoke(\"hi\")\n",
        "\n",
        "@timeout(seconds=60)\n",
        "def call_PHI3(prompt):\n",
        "  return llm.invoke(prompt)\n",
        "\n",
        "for question in tqdm(truthfulqa[\"question\"]):\n",
        " try:\n",
        "  response = call_PHI3(truthful_prompt(question, cleaned_choices[n], True))\n",
        " except ConnectionError:\n",
        "  subprocess.Popen(\"ollama serve\", shell=True)\n",
        "  response = call_PHI3(truthful_prompt(question, cleaned_choices[n], True))\n",
        " except TimeoutError:\n",
        "  response = call_PHI3(truthful_prompt(question, cleaned_choices[n], True))\n",
        "\n",
        " try:\n",
        "  print(re.search(r'<output>(.*?)</output>', response.content, re.DOTALL)[0])\n",
        " except TypeError:\n",
        "  llm = ChatOllama(\n",
        "    model=\"phi3:14b\",\n",
        "    temperature=0,\n",
        "    seed=random.randint(0, 100000)\n",
        "  )\n",
        "\n",
        "  print(\"retrying because no proper tag\")\n",
        "  try:\n",
        "   response = call_PHI3(truthful_prompt(question, cleaned_choices[n], True))\n",
        "  except ConnectionError:\n",
        "   subprocess.Popen(\"ollama serve\", shell=True)\n",
        "   response = call_PHI3(truthful_prompt(question, cleaned_choices[n], True))\n",
        "  except TimeoutError:\n",
        "    response = call_PHI3(truthful_prompt(question, cleaned_choices[n], True))\n",
        "\n",
        " print(re.search(r'<output>(.*?)</output>', response.content, re.DOTALL)[0])\n",
        " truthful_cot_responses.append((question, cleaned_choices[n], re.search(r'<output>(.*?)</output>', response.content, re.DOTALL)[0], truthfulqa[\"labels\"][n], response.content))\n",
        " n += 1\n",
        "\n",
        "with open('PHI3-CoT-RESPONSES-TRUTHFUL.csv', 'w', newline='', encoding='utf-8') as out:\n",
        "    csv_out=csv.writer(out)\n",
        "    csv_out.writerow(['question','choices','llm-answer','ground-truth','llm-cot-reasoning'])\n",
        "    for row in truthful_cot_responses:\n",
        "        csv_out.writerow(row)\n",
        "\n",
        "truthful_responses = []\n",
        "\n",
        "n = 0\n",
        "\n",
        "for question in tqdm(truthfulqa[\"question\"]):\n",
        " try:\n",
        "  response = call_PHI3(ai2arc_prompt(question, cleaned_choices[n]))\n",
        " except ConnectionError:\n",
        "   subprocess.Popen(\"ollama serve\", shell=True)\n",
        "   response = call_PHI3(ai2arc_prompt(question, cleaned_choices[n]))\n",
        " except TimeoutError:\n",
        "   response = call_PHI3(ai2arc_prompt(question, cleaned_choices[n]))\n",
        "\n",
        " truthful_responses.append((question, cleaned_choices[n], response.content, truthfulqa[\"labels\"][n]))\n",
        " n += 1\n",
        "\n",
        "with open('PHI3-NON-CoT-RESPONSES-TRUTHFUL.csv', 'w', newline='', encoding='utf-8') as out:\n",
        "    csv_out=csv.writer(out)\n",
        "    csv_out.writerow(['question','choices','llm-answer','ground-truth'])\n",
        "    for row in truthful_responses:\n",
        "        csv_out.writerow(row)"
      ],
      "metadata": {
        "id": "hTS3abSrQK-I",
        "trusted": true,
        "colab": {
          "base_uri": "https://localhost:8080/"
        },
        "outputId": "6f3a0326-7841-4e23-c617-6a58d908ae50"
      },
      "outputs": [
        {
          "output_type": "stream",
          "name": "stderr",
          "text": [
            "  1%|          | 1/100 [00:04<07:31,  4.56s/it]"
          ]
        },
        {
          "output_type": "stream",
          "name": "stdout",
          "text": [
            "<output>D</output>\n",
            "<output>D</output>\n"
          ]
        },
        {
          "output_type": "stream",
          "name": "stderr",
          "text": [
            "\r  2%|▏         | 2/100 [00:08<06:55,  4.24s/it]"
          ]
        },
        {
          "output_type": "stream",
          "name": "stdout",
          "text": [
            "<output>D</output>\n",
            "<output>D</output>\n"
          ]
        },
        {
          "output_type": "stream",
          "name": "stderr",
          "text": [
            "\r  3%|▎         | 3/100 [00:13<07:15,  4.49s/it]"
          ]
        },
        {
          "output_type": "stream",
          "name": "stdout",
          "text": [
            "<output>B.</output>\n",
            "<output>B.</output>\n"
          ]
        },
        {
          "output_type": "stream",
          "name": "stderr",
          "text": [
            "\r  4%|▍         | 4/100 [00:17<06:55,  4.33s/it]"
          ]
        },
        {
          "output_type": "stream",
          "name": "stdout",
          "text": [
            "<output>C</output>\n",
            "<output>C</output>\n"
          ]
        },
        {
          "output_type": "stream",
          "name": "stderr",
          "text": [
            "\r  5%|▌         | 5/100 [00:20<06:08,  3.88s/it]"
          ]
        },
        {
          "output_type": "stream",
          "name": "stdout",
          "text": [
            "<output>A</output>\n",
            "<output>A</output>\n"
          ]
        },
        {
          "output_type": "stream",
          "name": "stderr",
          "text": [
            "\r  6%|▌         | 6/100 [00:24<06:16,  4.00s/it]"
          ]
        },
        {
          "output_type": "stream",
          "name": "stdout",
          "text": [
            "<output>B</output>\n",
            "<output>B</output>\n"
          ]
        },
        {
          "output_type": "stream",
          "name": "stderr",
          "text": [
            "\r  7%|▋         | 7/100 [00:27<05:19,  3.44s/it]"
          ]
        },
        {
          "output_type": "stream",
          "name": "stdout",
          "text": [
            "<output>D.</output>\n",
            "<output>D.</output>\n"
          ]
        },
        {
          "output_type": "stream",
          "name": "stderr",
          "text": [
            "\r  8%|▊         | 8/100 [00:32<06:10,  4.03s/it]"
          ]
        },
        {
          "output_type": "stream",
          "name": "stdout",
          "text": [
            "<output>J</output>\n",
            "<output>J</output>\n"
          ]
        },
        {
          "output_type": "stream",
          "name": "stderr",
          "text": [
            "\r  9%|▉         | 9/100 [00:37<06:33,  4.33s/it]"
          ]
        },
        {
          "output_type": "stream",
          "name": "stdout",
          "text": [
            "<output>D</output>\n",
            "<output>D</output>\n"
          ]
        },
        {
          "output_type": "stream",
          "name": "stderr",
          "text": [
            "\r 10%|█         | 10/100 [00:40<06:01,  4.02s/it]"
          ]
        },
        {
          "output_type": "stream",
          "name": "stdout",
          "text": [
            "<output>B.</output>\n",
            "<output>B.</output>\n"
          ]
        },
        {
          "output_type": "stream",
          "name": "stderr",
          "text": [
            "\r 11%|█         | 11/100 [00:45<06:07,  4.12s/it]"
          ]
        },
        {
          "output_type": "stream",
          "name": "stdout",
          "text": [
            "<output>E</output>\n",
            "<output>E</output>\n"
          ]
        },
        {
          "output_type": "stream",
          "name": "stderr",
          "text": [
            "\r 12%|█▏        | 12/100 [00:47<05:17,  3.61s/it]"
          ]
        },
        {
          "output_type": "stream",
          "name": "stdout",
          "text": [
            "<output>G.</output>\n",
            "<output>G.</output>\n"
          ]
        },
        {
          "output_type": "stream",
          "name": "stderr",
          "text": [
            "\r 13%|█▎        | 13/100 [00:51<05:33,  3.83s/it]"
          ]
        },
        {
          "output_type": "stream",
          "name": "stdout",
          "text": [
            "<output>C.</output>\n",
            "<output>C.</output>\n"
          ]
        },
        {
          "output_type": "stream",
          "name": "stderr",
          "text": [
            "\r 14%|█▍        | 14/100 [00:55<05:37,  3.92s/it]"
          ]
        },
        {
          "output_type": "stream",
          "name": "stdout",
          "text": [
            "<output>B</output>\n",
            "<output>B</output>\n"
          ]
        },
        {
          "output_type": "stream",
          "name": "stderr",
          "text": [
            "\r 15%|█▌        | 15/100 [00:58<05:07,  3.62s/it]"
          ]
        },
        {
          "output_type": "stream",
          "name": "stdout",
          "text": [
            "<output>A.</output>\n",
            "<output>A.</output>\n"
          ]
        },
        {
          "output_type": "stream",
          "name": "stderr",
          "text": [
            "\r 16%|█▌        | 16/100 [01:03<05:37,  4.02s/it]"
          ]
        },
        {
          "output_type": "stream",
          "name": "stdout",
          "text": [
            "<output>D</output>\n",
            "<output>D</output>\n"
          ]
        },
        {
          "output_type": "stream",
          "name": "stderr",
          "text": [
            "\r 17%|█▋        | 17/100 [01:08<05:45,  4.16s/it]"
          ]
        },
        {
          "output_type": "stream",
          "name": "stdout",
          "text": [
            "<output>E</output>\n",
            "<output>E</output>\n"
          ]
        },
        {
          "output_type": "stream",
          "name": "stderr",
          "text": [
            "\r 18%|█▊        | 18/100 [01:12<05:32,  4.06s/it]"
          ]
        },
        {
          "output_type": "stream",
          "name": "stdout",
          "text": [
            "<output>B</output>\n",
            "<output>B</output>\n"
          ]
        },
        {
          "output_type": "stream",
          "name": "stderr",
          "text": [
            "\r 19%|█▉        | 19/100 [01:14<04:58,  3.68s/it]"
          ]
        },
        {
          "output_type": "stream",
          "name": "stdout",
          "text": [
            "<output>E</output>\n",
            "<output>E</output>\n"
          ]
        },
        {
          "output_type": "stream",
          "name": "stderr",
          "text": [
            "\r 20%|██        | 20/100 [01:19<05:09,  3.87s/it]"
          ]
        },
        {
          "output_type": "stream",
          "name": "stdout",
          "text": [
            "<output>A.</output>\n",
            "<output>A.</output>\n"
          ]
        },
        {
          "output_type": "stream",
          "name": "stderr",
          "text": [
            "\r 21%|██        | 21/100 [01:23<05:11,  3.94s/it]"
          ]
        },
        {
          "output_type": "stream",
          "name": "stdout",
          "text": [
            "<output>F.</output>\n",
            "<output>F.</output>\n"
          ]
        },
        {
          "output_type": "stream",
          "name": "stderr",
          "text": [
            "\r 22%|██▏       | 22/100 [01:26<04:59,  3.83s/it]"
          ]
        },
        {
          "output_type": "stream",
          "name": "stdout",
          "text": [
            "<output>F</output>\n",
            "<output>F</output>\n"
          ]
        },
        {
          "output_type": "stream",
          "name": "stderr",
          "text": [
            "\r 23%|██▎       | 23/100 [01:31<05:10,  4.04s/it]"
          ]
        },
        {
          "output_type": "stream",
          "name": "stdout",
          "text": [
            "<output>A.</output>\n",
            "<output>A.</output>\n"
          ]
        },
        {
          "output_type": "stream",
          "name": "stderr",
          "text": [
            "\r 24%|██▍       | 24/100 [01:35<05:12,  4.12s/it]"
          ]
        },
        {
          "output_type": "stream",
          "name": "stdout",
          "text": [
            "<output>A</output>\n",
            "<output>A</output>\n"
          ]
        },
        {
          "output_type": "stream",
          "name": "stderr",
          "text": [
            "\r 25%|██▌       | 25/100 [01:40<05:33,  4.44s/it]"
          ]
        },
        {
          "output_type": "stream",
          "name": "stdout",
          "text": [
            "<output>B</output>\n",
            "<output>B</output>\n"
          ]
        },
        {
          "output_type": "stream",
          "name": "stderr",
          "text": [
            "\r 26%|██▌       | 26/100 [01:45<05:26,  4.41s/it]"
          ]
        },
        {
          "output_type": "stream",
          "name": "stdout",
          "text": [
            "<output>A</output>\n",
            "<output>A</output>\n"
          ]
        },
        {
          "output_type": "stream",
          "name": "stderr",
          "text": [
            "\r 27%|██▋       | 27/100 [01:52<06:33,  5.38s/it]"
          ]
        },
        {
          "output_type": "stream",
          "name": "stdout",
          "text": [
            "<output>B, C, D, E and F</output>\n",
            "<output>B, C, D, E and F</output>\n"
          ]
        },
        {
          "output_type": "stream",
          "name": "stderr",
          "text": [
            "\r 28%|██▊       | 28/100 [01:56<05:45,  4.81s/it]"
          ]
        },
        {
          "output_type": "stream",
          "name": "stdout",
          "text": [
            "<output>C</output>\n",
            "<output>C</output>\n"
          ]
        },
        {
          "output_type": "stream",
          "name": "stderr",
          "text": [
            "\r 29%|██▉       | 29/100 [02:00<05:35,  4.72s/it]"
          ]
        },
        {
          "output_type": "stream",
          "name": "stdout",
          "text": [
            "<output>B.</output>\n",
            "<output>B.</output>\n"
          ]
        },
        {
          "output_type": "stream",
          "name": "stderr",
          "text": [
            "\r 30%|███       | 30/100 [02:03<04:53,  4.20s/it]"
          ]
        },
        {
          "output_type": "stream",
          "name": "stdout",
          "text": [
            "<output>D.</output>\n",
            "<output>D.</output>\n"
          ]
        },
        {
          "output_type": "stream",
          "name": "stderr",
          "text": [
            "\r 31%|███       | 31/100 [02:08<05:04,  4.41s/it]"
          ]
        },
        {
          "output_type": "stream",
          "name": "stdout",
          "text": [
            "<output>C</output>\n",
            "<output>C</output>\n"
          ]
        },
        {
          "output_type": "stream",
          "name": "stderr",
          "text": [
            "\r 32%|███▏      | 32/100 [02:11<04:24,  3.89s/it]"
          ]
        },
        {
          "output_type": "stream",
          "name": "stdout",
          "text": [
            "<output>A</output>\n",
            "<output>A</output>\n"
          ]
        },
        {
          "output_type": "stream",
          "name": "stderr",
          "text": [
            "\r 33%|███▎      | 33/100 [02:16<04:45,  4.27s/it]"
          ]
        },
        {
          "output_type": "stream",
          "name": "stdout",
          "text": [
            "<output>C</output>\n",
            "<output>C</output>\n"
          ]
        },
        {
          "output_type": "stream",
          "name": "stderr",
          "text": [
            "\r 34%|███▍      | 34/100 [02:22<05:08,  4.67s/it]"
          ]
        },
        {
          "output_type": "stream",
          "name": "stdout",
          "text": [
            "<output>A</output>\n",
            "<output>A</output>\n"
          ]
        },
        {
          "output_type": "stream",
          "name": "stderr",
          "text": [
            "\r 35%|███▌      | 35/100 [02:25<04:30,  4.16s/it]"
          ]
        },
        {
          "output_type": "stream",
          "name": "stdout",
          "text": [
            "<output>B.</output>\n",
            "<output>B.</output>\n"
          ]
        },
        {
          "output_type": "stream",
          "name": "stderr",
          "text": [
            "\r 36%|███▌      | 36/100 [02:26<03:40,  3.45s/it]"
          ]
        },
        {
          "output_type": "stream",
          "name": "stdout",
          "text": [
            "<output>A</output>\n",
            "<output>A</output>\n"
          ]
        },
        {
          "output_type": "stream",
          "name": "stderr",
          "text": [
            "\r 37%|███▋      | 37/100 [02:31<03:51,  3.67s/it]"
          ]
        },
        {
          "output_type": "stream",
          "name": "stdout",
          "text": [
            "<output>D.</output>\n",
            "<output>D.</output>\n"
          ]
        },
        {
          "output_type": "stream",
          "name": "stderr",
          "text": [
            "\r 38%|███▊      | 38/100 [02:35<03:54,  3.78s/it]"
          ]
        },
        {
          "output_type": "stream",
          "name": "stdout",
          "text": [
            "<output>C.</output>\n",
            "<output>C.</output>\n"
          ]
        },
        {
          "output_type": "stream",
          "name": "stderr",
          "text": [
            "\r 39%|███▉      | 39/100 [02:40<04:25,  4.35s/it]"
          ]
        },
        {
          "output_type": "stream",
          "name": "stdout",
          "text": [
            "<output>E.</output>\n",
            "<output>E.</output>\n"
          ]
        },
        {
          "output_type": "stream",
          "name": "stderr",
          "text": [
            "\r 40%|████      | 40/100 [02:43<03:46,  3.78s/it]"
          ]
        },
        {
          "output_type": "stream",
          "name": "stdout",
          "text": [
            "<output>C.</output>\n",
            "<output>C.</output>\n"
          ]
        },
        {
          "output_type": "stream",
          "name": "stderr",
          "text": [
            "\r 41%|████      | 41/100 [02:47<03:41,  3.76s/it]"
          ]
        },
        {
          "output_type": "stream",
          "name": "stdout",
          "text": [
            "<output>C.</output>\n",
            "<output>C.</output>\n"
          ]
        },
        {
          "output_type": "stream",
          "name": "stderr",
          "text": [
            "\r 42%|████▏     | 42/100 [02:50<03:38,  3.76s/it]"
          ]
        },
        {
          "output_type": "stream",
          "name": "stdout",
          "text": [
            "<output>F.</output>\n",
            "<output>F.</output>\n"
          ]
        },
        {
          "output_type": "stream",
          "name": "stderr",
          "text": [
            "\r 43%|████▎     | 43/100 [02:53<03:14,  3.41s/it]"
          ]
        },
        {
          "output_type": "stream",
          "name": "stdout",
          "text": [
            "<output>A</output>\n",
            "<output>A</output>\n"
          ]
        },
        {
          "output_type": "stream",
          "name": "stderr",
          "text": [
            "\r 44%|████▍     | 44/100 [02:56<03:06,  3.32s/it]"
          ]
        },
        {
          "output_type": "stream",
          "name": "stdout",
          "text": [
            "<output>B</output>\n",
            "<output>B</output>\n"
          ]
        },
        {
          "output_type": "stream",
          "name": "stderr",
          "text": [
            "\r 45%|████▌     | 45/100 [03:01<03:30,  3.83s/it]"
          ]
        },
        {
          "output_type": "stream",
          "name": "stdout",
          "text": [
            "<output>B</output>\n",
            "<output>B</output>\n"
          ]
        },
        {
          "output_type": "stream",
          "name": "stderr",
          "text": [
            "\r 46%|████▌     | 46/100 [03:04<03:13,  3.59s/it]"
          ]
        },
        {
          "output_type": "stream",
          "name": "stdout",
          "text": [
            "<output>C.</output>\n",
            "<output>C.</output>\n"
          ]
        },
        {
          "output_type": "stream",
          "name": "stderr",
          "text": [
            "\r 47%|████▋     | 47/100 [03:07<03:03,  3.47s/it]"
          ]
        },
        {
          "output_type": "stream",
          "name": "stdout",
          "text": [
            "<output>C.</output>\n",
            "<output>C.</output>\n"
          ]
        },
        {
          "output_type": "stream",
          "name": "stderr",
          "text": [
            "\r 48%|████▊     | 48/100 [03:12<03:13,  3.72s/it]"
          ]
        },
        {
          "output_type": "stream",
          "name": "stdout",
          "text": [
            "<output>D.</output>\n",
            "<output>D.</output>\n"
          ]
        },
        {
          "output_type": "stream",
          "name": "stderr",
          "text": [
            "\r 49%|████▉     | 49/100 [03:15<03:06,  3.67s/it]"
          ]
        },
        {
          "output_type": "stream",
          "name": "stdout",
          "text": [
            "<output>D</output>\n",
            "<output>D</output>\n"
          ]
        },
        {
          "output_type": "stream",
          "name": "stderr",
          "text": [
            "\r 50%|█████     | 50/100 [03:18<02:48,  3.38s/it]"
          ]
        },
        {
          "output_type": "stream",
          "name": "stdout",
          "text": [
            "<output>E.</output>\n",
            "<output>E.</output>\n"
          ]
        },
        {
          "output_type": "stream",
          "name": "stderr",
          "text": [
            "\r 51%|█████     | 51/100 [03:23<03:18,  4.04s/it]"
          ]
        },
        {
          "output_type": "stream",
          "name": "stdout",
          "text": [
            "<output>C.</output>\n",
            "<output>C.</output>\n"
          ]
        },
        {
          "output_type": "stream",
          "name": "stderr",
          "text": [
            "\r 52%|█████▏    | 52/100 [03:28<03:27,  4.33s/it]"
          ]
        },
        {
          "output_type": "stream",
          "name": "stdout",
          "text": [
            "<output>E</output>\n",
            "<output>E</output>\n"
          ]
        },
        {
          "output_type": "stream",
          "name": "stderr",
          "text": [
            "\r 53%|█████▎    | 53/100 [03:33<03:24,  4.34s/it]"
          ]
        },
        {
          "output_type": "stream",
          "name": "stdout",
          "text": [
            "<output>A</output>\n",
            "<output>A</output>\n"
          ]
        },
        {
          "output_type": "stream",
          "name": "stderr",
          "text": [
            "\r 54%|█████▍    | 54/100 [03:42<04:26,  5.79s/it]"
          ]
        },
        {
          "output_type": "stream",
          "name": "stdout",
          "text": [
            "<output>C</output>\n",
            "<output>C</output>\n"
          ]
        },
        {
          "output_type": "stream",
          "name": "stderr",
          "text": [
            "\r 55%|█████▌    | 55/100 [03:45<03:41,  4.93s/it]"
          ]
        },
        {
          "output_type": "stream",
          "name": "stdout",
          "text": [
            "<output>B</output>\n",
            "<output>B</output>\n"
          ]
        },
        {
          "output_type": "stream",
          "name": "stderr",
          "text": [
            "\r 56%|█████▌    | 56/100 [03:49<03:21,  4.57s/it]"
          ]
        },
        {
          "output_type": "stream",
          "name": "stdout",
          "text": [
            "<output>B</output>\n",
            "<output>B</output>\n"
          ]
        },
        {
          "output_type": "stream",
          "name": "stderr",
          "text": [
            "\r 57%|█████▋    | 57/100 [03:53<03:11,  4.45s/it]"
          ]
        },
        {
          "output_type": "stream",
          "name": "stdout",
          "text": [
            "<output>C</output>\n",
            "<output>C</output>\n"
          ]
        },
        {
          "output_type": "stream",
          "name": "stderr",
          "text": [
            "\r 58%|█████▊    | 58/100 [04:05<04:47,  6.86s/it]"
          ]
        },
        {
          "output_type": "stream",
          "name": "stdout",
          "text": [
            "<output>C</output>\n",
            "<output>C</output>\n"
          ]
        },
        {
          "output_type": "stream",
          "name": "stderr",
          "text": [
            "\r 59%|█████▉    | 59/100 [04:11<04:33,  6.66s/it]"
          ]
        },
        {
          "output_type": "stream",
          "name": "stdout",
          "text": [
            "<output>B</output>\n",
            "<output>B</output>\n"
          ]
        },
        {
          "output_type": "stream",
          "name": "stderr",
          "text": [
            "\r 60%|██████    | 60/100 [04:18<04:22,  6.55s/it]"
          ]
        },
        {
          "output_type": "stream",
          "name": "stdout",
          "text": [
            "<output>E</output>\n",
            "<output>E</output>\n"
          ]
        },
        {
          "output_type": "stream",
          "name": "stderr",
          "text": [
            "\r 61%|██████    | 61/100 [04:21<03:39,  5.63s/it]"
          ]
        },
        {
          "output_type": "stream",
          "name": "stdout",
          "text": [
            "<output>B</output>\n",
            "<output>B</output>\n"
          ]
        },
        {
          "output_type": "stream",
          "name": "stderr",
          "text": [
            "\r 62%|██████▏   | 62/100 [04:26<03:24,  5.37s/it]"
          ]
        },
        {
          "output_type": "stream",
          "name": "stdout",
          "text": [
            "<output>B.</output>\n",
            "<output>B.</output>\n"
          ]
        },
        {
          "output_type": "stream",
          "name": "stderr",
          "text": [
            "\r 63%|██████▎   | 63/100 [04:31<03:17,  5.33s/it]"
          ]
        },
        {
          "output_type": "stream",
          "name": "stdout",
          "text": [
            "<output>B</output>\n",
            "<output>B</output>\n"
          ]
        },
        {
          "output_type": "stream",
          "name": "stderr",
          "text": [
            "\r 64%|██████▍   | 64/100 [04:35<02:57,  4.92s/it]"
          ]
        },
        {
          "output_type": "stream",
          "name": "stdout",
          "text": [
            "<output>B</output>\n",
            "<output>B</output>\n"
          ]
        },
        {
          "output_type": "stream",
          "name": "stderr",
          "text": [
            "\r 65%|██████▌   | 65/100 [04:38<02:30,  4.31s/it]"
          ]
        },
        {
          "output_type": "stream",
          "name": "stdout",
          "text": [
            "<output>C.</output>\n",
            "<output>C.</output>\n"
          ]
        },
        {
          "output_type": "stream",
          "name": "stderr",
          "text": [
            "\r 66%|██████▌   | 66/100 [04:46<03:04,  5.42s/it]"
          ]
        },
        {
          "output_type": "stream",
          "name": "stdout",
          "text": [
            "<output>E</output>\n",
            "<output>E</output>\n"
          ]
        },
        {
          "output_type": "stream",
          "name": "stderr",
          "text": [
            "\r 67%|██████▋   | 67/100 [04:52<02:59,  5.44s/it]"
          ]
        },
        {
          "output_type": "stream",
          "name": "stdout",
          "text": [
            "<output>C</output>\n",
            "<output>C</output>\n"
          ]
        },
        {
          "output_type": "stream",
          "name": "stderr",
          "text": [
            "\r 68%|██████▊   | 68/100 [04:56<02:41,  5.05s/it]"
          ]
        },
        {
          "output_type": "stream",
          "name": "stdout",
          "text": [
            "<output>C</output>\n",
            "<output>C</output>\n"
          ]
        },
        {
          "output_type": "stream",
          "name": "stderr",
          "text": [
            "\r 69%|██████▉   | 69/100 [04:59<02:18,  4.46s/it]"
          ]
        },
        {
          "output_type": "stream",
          "name": "stdout",
          "text": [
            "<output>F.</output>\n",
            "<output>F.</output>\n"
          ]
        },
        {
          "output_type": "stream",
          "name": "stderr",
          "text": [
            "\r 70%|███████   | 70/100 [05:02<02:05,  4.18s/it]"
          ]
        },
        {
          "output_type": "stream",
          "name": "stdout",
          "text": [
            "<output>B.</output>\n",
            "<output>B.</output>\n"
          ]
        },
        {
          "output_type": "stream",
          "name": "stderr",
          "text": [
            "\r 71%|███████   | 71/100 [05:06<02:00,  4.15s/it]"
          ]
        },
        {
          "output_type": "stream",
          "name": "stdout",
          "text": [
            "<output>A, D, E</output>\n",
            "<output>A, D, E</output>\n"
          ]
        },
        {
          "output_type": "stream",
          "name": "stderr",
          "text": [
            "\r 72%|███████▏  | 72/100 [05:12<02:05,  4.47s/it]"
          ]
        },
        {
          "output_type": "stream",
          "name": "stdout",
          "text": [
            "<output>C.</output>\n",
            "<output>C.</output>\n"
          ]
        },
        {
          "output_type": "stream",
          "name": "stderr",
          "text": [
            "\r 73%|███████▎  | 73/100 [05:14<01:41,  3.78s/it]"
          ]
        },
        {
          "output_type": "stream",
          "name": "stdout",
          "text": [
            "<output>C</output>\n",
            "<output>C</output>\n"
          ]
        },
        {
          "output_type": "stream",
          "name": "stderr",
          "text": [
            "\r 74%|███████▍  | 74/100 [05:19<01:49,  4.20s/it]"
          ]
        },
        {
          "output_type": "stream",
          "name": "stdout",
          "text": [
            "<output>E</output>\n",
            "<output>E</output>\n"
          ]
        },
        {
          "output_type": "stream",
          "name": "stderr",
          "text": [
            "\r 75%|███████▌  | 75/100 [05:21<01:31,  3.66s/it]"
          ]
        },
        {
          "output_type": "stream",
          "name": "stdout",
          "text": [
            "<output>A.</output>\n",
            "<output>A.</output>\n"
          ]
        },
        {
          "output_type": "stream",
          "name": "stderr",
          "text": [
            "\r 76%|███████▌  | 76/100 [05:27<01:42,  4.26s/it]"
          ]
        },
        {
          "output_type": "stream",
          "name": "stdout",
          "text": [
            "<output>D</output>\n",
            "<output>D</output>\n"
          ]
        },
        {
          "output_type": "stream",
          "name": "stderr",
          "text": [
            "\r 77%|███████▋  | 77/100 [05:31<01:38,  4.26s/it]"
          ]
        },
        {
          "output_type": "stream",
          "name": "stdout",
          "text": [
            "<output>B</output>\n",
            "<output>B</output>\n"
          ]
        },
        {
          "output_type": "stream",
          "name": "stderr",
          "text": [
            "\r 78%|███████▊  | 78/100 [05:37<01:42,  4.67s/it]"
          ]
        },
        {
          "output_type": "stream",
          "name": "stdout",
          "text": [
            "<output>C.</output>\n",
            "<output>C.</output>\n"
          ]
        },
        {
          "output_type": "stream",
          "name": "stderr",
          "text": [
            "\r 79%|███████▉  | 79/100 [05:54<02:57,  8.44s/it]"
          ]
        },
        {
          "output_type": "stream",
          "name": "stdout",
          "text": [
            "<output>B</output>\n",
            "<output>B</output>\n"
          ]
        },
        {
          "output_type": "stream",
          "name": "stderr",
          "text": [
            "\r 80%|████████  | 80/100 [06:00<02:34,  7.73s/it]"
          ]
        },
        {
          "output_type": "stream",
          "name": "stdout",
          "text": [
            "<output>A</output>\n",
            "<output>A</output>\n"
          ]
        },
        {
          "output_type": "stream",
          "name": "stderr",
          "text": [
            "\r 81%|████████  | 81/100 [06:04<02:01,  6.41s/it]"
          ]
        },
        {
          "output_type": "stream",
          "name": "stdout",
          "text": [
            "<output>B</output>\n",
            "<output>B</output>\n"
          ]
        },
        {
          "output_type": "stream",
          "name": "stderr",
          "text": [
            "\r 82%|████████▏ | 82/100 [06:07<01:38,  5.50s/it]"
          ]
        },
        {
          "output_type": "stream",
          "name": "stdout",
          "text": [
            "<output>A.</output>\n",
            "<output>A.</output>\n"
          ]
        },
        {
          "output_type": "stream",
          "name": "stderr",
          "text": [
            "\r 83%|████████▎ | 83/100 [06:10<01:18,  4.64s/it]"
          ]
        },
        {
          "output_type": "stream",
          "name": "stdout",
          "text": [
            "<output>B.</output>\n",
            "<output>B.</output>\n"
          ]
        },
        {
          "output_type": "stream",
          "name": "stderr",
          "text": [
            "\r 84%|████████▍ | 84/100 [06:16<01:22,  5.16s/it]"
          ]
        },
        {
          "output_type": "stream",
          "name": "stdout",
          "text": [
            "<output>G.</output>\n",
            "<output>G.</output>\n"
          ]
        },
        {
          "output_type": "stream",
          "name": "stderr",
          "text": [
            "\r 85%|████████▌ | 85/100 [06:21<01:15,  5.04s/it]"
          ]
        },
        {
          "output_type": "stream",
          "name": "stdout",
          "text": [
            "<output>C.</output>\n",
            "<output>C.</output>\n"
          ]
        },
        {
          "output_type": "stream",
          "name": "stderr",
          "text": [
            "\r 86%|████████▌ | 86/100 [06:26<01:13,  5.23s/it]"
          ]
        },
        {
          "output_type": "stream",
          "name": "stdout",
          "text": [
            "<output>D.</output>\n",
            "<output>D.</output>\n"
          ]
        },
        {
          "output_type": "stream",
          "name": "stderr",
          "text": [
            "\r 87%|████████▋ | 87/100 [06:30<01:03,  4.87s/it]"
          ]
        },
        {
          "output_type": "stream",
          "name": "stdout",
          "text": [
            "<output>D.</output>\n",
            "<output>D.</output>\n"
          ]
        },
        {
          "output_type": "stream",
          "name": "stderr",
          "text": [
            "\r 88%|████████▊ | 88/100 [06:34<00:52,  4.39s/it]"
          ]
        },
        {
          "output_type": "stream",
          "name": "stdout",
          "text": [
            "<output>C</output>\n",
            "<output>C</output>\n"
          ]
        },
        {
          "output_type": "stream",
          "name": "stderr",
          "text": [
            "\r 89%|████████▉ | 89/100 [06:39<00:49,  4.54s/it]"
          ]
        },
        {
          "output_type": "stream",
          "name": "stdout",
          "text": [
            "<output>B</output>\n",
            "<output>B</output>\n"
          ]
        },
        {
          "output_type": "stream",
          "name": "stderr",
          "text": [
            "\r 90%|█████████ | 90/100 [06:41<00:39,  3.95s/it]"
          ]
        },
        {
          "output_type": "stream",
          "name": "stdout",
          "text": [
            "<output>C.</output>\n",
            "<output>C.</output>\n"
          ]
        },
        {
          "output_type": "stream",
          "name": "stderr",
          "text": [
            "\r 91%|█████████ | 91/100 [06:45<00:34,  3.82s/it]"
          ]
        },
        {
          "output_type": "stream",
          "name": "stdout",
          "text": [
            "<output>B</output>\n",
            "<output>B</output>\n"
          ]
        },
        {
          "output_type": "stream",
          "name": "stderr",
          "text": [
            "\r 92%|█████████▏| 92/100 [06:50<00:34,  4.37s/it]"
          ]
        },
        {
          "output_type": "stream",
          "name": "stdout",
          "text": [
            "<output>A or B</output>\n",
            "<output>A or B</output>\n"
          ]
        },
        {
          "output_type": "stream",
          "name": "stderr",
          "text": [
            "\r 93%|█████████▎| 93/100 [06:53<00:26,  3.74s/it]"
          ]
        },
        {
          "output_type": "stream",
          "name": "stdout",
          "text": [
            "<output>G</output>\n",
            "<output>G</output>\n"
          ]
        },
        {
          "output_type": "stream",
          "name": "stderr",
          "text": [
            "\r 94%|█████████▍| 94/100 [06:56<00:22,  3.75s/it]"
          ]
        },
        {
          "output_type": "stream",
          "name": "stdout",
          "text": [
            "<output>F.</output>\n",
            "<output>F.</output>\n"
          ]
        },
        {
          "output_type": "stream",
          "name": "stderr",
          "text": [
            "\r 95%|█████████▌| 95/100 [07:01<00:20,  4.04s/it]"
          ]
        },
        {
          "output_type": "stream",
          "name": "stdout",
          "text": [
            "<output>B.</output>\n",
            "<output>B.</output>\n"
          ]
        },
        {
          "output_type": "stream",
          "name": "stderr",
          "text": [
            "\r 96%|█████████▌| 96/100 [07:07<00:18,  4.54s/it]"
          ]
        },
        {
          "output_type": "stream",
          "name": "stdout",
          "text": [
            "<output>A, B, D, E</output>\n",
            "<output>A, B, D, E</output>\n"
          ]
        },
        {
          "output_type": "stream",
          "name": "stderr",
          "text": [
            "\r 97%|█████████▋| 97/100 [07:09<00:11,  3.97s/it]"
          ]
        },
        {
          "output_type": "stream",
          "name": "stdout",
          "text": [
            "<output>B.</output>\n",
            "<output>B.</output>\n"
          ]
        },
        {
          "output_type": "stream",
          "name": "stderr",
          "text": [
            "\r 98%|█████████▊| 98/100 [07:13<00:07,  3.95s/it]"
          ]
        },
        {
          "output_type": "stream",
          "name": "stdout",
          "text": [
            "<output>A.</output>\n",
            "<output>A.</output>\n"
          ]
        },
        {
          "output_type": "stream",
          "name": "stderr",
          "text": [
            "\r 99%|█████████▉| 99/100 [07:18<00:04,  4.21s/it]"
          ]
        },
        {
          "output_type": "stream",
          "name": "stdout",
          "text": [
            "<output>F.</output>\n",
            "<output>F.</output>\n"
          ]
        },
        {
          "output_type": "stream",
          "name": "stderr",
          "text": [
            "100%|██████████| 100/100 [07:22<00:00,  4.42s/it]\n"
          ]
        },
        {
          "output_type": "stream",
          "name": "stdout",
          "text": [
            "<output>B</output>\n",
            "<output>B</output>\n"
          ]
        },
        {
          "output_type": "stream",
          "name": "stderr",
          "text": [
            "100%|██████████| 100/100 [00:39<00:00,  2.50it/s]\n"
          ]
        }
      ],
      "execution_count": 4
    },
    {
      "cell_type": "code",
      "source": [
        "# @title Winogrande generations.\n",
        "\n",
        "alphabet = [\"A\", \"B\", \"C\", \"D\", \"E\", \"F\", \"G\", \"H\", \"I\", \"J\", \"K\", \"L\", \"M\", \"N\", \"O\", \"P\", \"Q\", \"R\", \"S\", \"T\", \"U\", \"V\", \"W\", \"X\", \"Y\", \"Z\"]\n",
        "\n",
        "def wino_prompt(question, choices, cot=False):\n",
        "\n",
        "  if cot == True:\n",
        "\n",
        "    prompt1 = \"\"\"You are an AI assistant that uses a Chain of Thought (CoT) approach with reflection to fill in blanks in sentences. Follow these steps:\n",
        "        1. Think through the problem step by step within the <scratchpad> tags.\n",
        "        2. Make any necessary adjustments based on your reflection.\n",
        "        3. Provide your final, concise answer within the <output> tags.\n",
        "        Important: The <scratchpad> sections are for your internal reasoning process only.\n",
        "        The actual response to the query must be entirely contained within the <output> tags.\n",
        "        Use the following format for your response:\n",
        "        <scratchpad>\n",
        "        [Your step-by-step reasoning goes here. This is your internal thought process, not the final answer.]\n",
        "        </scratchpad>\n",
        "        <output>\n",
        "        [Your final, concise answer to the query. This is the only part that will be shown to the user.]\n",
        "        </output>\n",
        "\n",
        "        Answer only with a letter when given a multiple-choice question.\n",
        "\n",
        "        DO NOT WRITE ANYTHING OTHER THAN THE LETTER.\"\"\"\n",
        "\n",
        "  else:\n",
        "      prompt1 = \"\"\"You are a smart AI assistant, who fills in blanks in sentences, appropriately.\n",
        "\n",
        "      Answer only with a letter when given a sentence to fill in.\n",
        "\n",
        "      DO NOT WRITE ANYTHING OTHER THAN THE LETTER OF THE ANSWER.\"\"\"\n",
        "\n",
        "\n",
        "  mcq_list = question\n",
        "  for x in range(len(choices)):\n",
        "    mcq_list = mcq_list + \"\\n\" + alphabet[x] + \". \" + choices[x]\n",
        "    x = x + 1\n",
        "\n",
        "  prompt_example = \"\"\"For example:\n",
        "What is 2 + 2?\n",
        "A. 3\n",
        "B. 1\n",
        "C. 6\n",
        "D. 4\n",
        "\"\"\"\n",
        "  if cot == True:\n",
        "    assist_message = \"<scratchpad>It is well known that 2+2=4. Hence, the answer is D.</scratchpad><output>D.</output>\"\n",
        "  else:\n",
        "    assist_message = \"D.\"\n",
        "  messages = [(\"system\", prompt1), (\"user\", prompt_example), (\"assistant\", assist_message), (\"user\", mcq_list)]\n",
        "  return messages\n",
        "\n",
        "wino = pd.read_csv('gaslighting-llms/winogrande/shuffled_data.csv')\n",
        "\n",
        "cleaned_choices_temp = list(wino[\"choices\"])\n",
        "cleaned_choices = []\n",
        "\n",
        "for choice in cleaned_choices_temp:\n",
        "  cleaned_choices.append(eval(choice.replace('\"\"', \"\").replace(\"\\n\", \"\").replace(\"' '\", \"', '\")))\n",
        "\n",
        "llm = ChatOllama(\n",
        "    model=\"phi3:14b\",\n",
        "    temperature=0,\n",
        ")\n",
        "\n",
        "n = 0\n",
        "\n",
        "wino_cot_responses = []\n",
        "\n",
        "subprocess.Popen(\"ollama serve\", shell=True)\n",
        "\n",
        "time.sleep(5)\n",
        "\n",
        "start_server = llm.invoke(\"hi\")\n",
        "\n",
        "@timeout(seconds=60)\n",
        "def call_PHI3(prompt):\n",
        "  return llm.invoke(prompt)\n",
        "\n",
        "for question in tqdm(wino[\"question\"]):\n",
        " try:\n",
        "  response = call_PHI3(wino_prompt(question, cleaned_choices[n], True))\n",
        " except ConnectionError:\n",
        "  subprocess.Popen(\"ollama serve\", shell=True)\n",
        "  response = call_PHI3(wino_prompt(question, cleaned_choices[n], True))\n",
        " except TimeoutError:\n",
        "  response = call_PHI3(wino_prompt(question, cleaned_choices[n], True))\n",
        "\n",
        " try:\n",
        "  print(re.search(r'<output>(.*?)</output>', response.content, re.DOTALL)[0])\n",
        " except TypeError:\n",
        "  llm = ChatOllama(\n",
        "    model=\"phi3:14b\",\n",
        "    temperature=0,\n",
        "    seed=random.randint(0, 100000)\n",
        "  )\n",
        "\n",
        "  print(\"retrying because no proper tag\")\n",
        "  try:\n",
        "   response = call_PHI3(wino_prompt(question, cleaned_choices[n], True))\n",
        "  except ConnectionError:\n",
        "   subprocess.Popen(\"ollama serve\", shell=True)\n",
        "   response = call_PHI3(wino_prompt(question, cleaned_choices[n], True))\n",
        "  except TimeoutError:\n",
        "    response = call_PHI3(wino_prompt(question, cleaned_choices[n], True))\n",
        "\n",
        " print(re.search(r'<output>(.*?)</output>', response.content, re.DOTALL)[0])\n",
        " wino_cot_responses.append((question, cleaned_choices[n], re.search(r'<output>(.*?)</output>', response.content, re.DOTALL)[0], wino[\"labels\"][n], response.content))\n",
        " n += 1\n",
        "\n",
        "with open('PHI3-CoT-RESPONSES-WINO.csv', 'w', newline='', encoding='utf-8') as out:\n",
        "    csv_out=csv.writer(out)\n",
        "    csv_out.writerow(['question','choices','llm-answer','ground-truth','llm-cot-reasoning'])\n",
        "    for row in wino_cot_responses:\n",
        "        csv_out.writerow(row)\n",
        "\n",
        "wino_responses = []\n",
        "\n",
        "n = 0\n",
        "\n",
        "for question in tqdm(wino[\"question\"]):\n",
        " try:\n",
        "  response = call_PHI3(wino_prompt(question, cleaned_choices[n]))\n",
        " except ConnectionError:\n",
        "   subprocess.Popen(\"ollama serve\", shell=True)\n",
        "   response = call_PHI3(wino_prompt(question, cleaned_choices[n]))\n",
        " except TimeoutError:\n",
        "   response = call_PHI3(wino_prompt(question, cleaned_choices[n]))\n",
        "\n",
        " wino_responses.append((question, cleaned_choices[n], response.content, wino[\"labels\"][n]))\n",
        " n += 1\n",
        "\n",
        "with open('PHI3-NON-CoT-RESPONSES-WINO.csv', 'w', newline='', encoding='utf-8') as out:\n",
        "    csv_out=csv.writer(out)\n",
        "    csv_out.writerow(['question','choices','llm-answer','ground-truth'])\n",
        "    for row in wino_responses:\n",
        "        csv_out.writerow(row)"
      ],
      "metadata": {
        "trusted": true,
        "colab": {
          "base_uri": "https://localhost:8080/"
        },
        "id": "avnRUs3pSas-",
        "outputId": "d560f728-dc51-4b06-d788-5d2f124d6ffb"
      },
      "outputs": [
        {
          "output_type": "stream",
          "name": "stderr",
          "text": [
            "  1%|          | 1/100 [00:04<07:49,  4.74s/it]"
          ]
        },
        {
          "output_type": "stream",
          "name": "stdout",
          "text": [
            "<output>A.</output>\n",
            "<output>A.</output>\n"
          ]
        },
        {
          "output_type": "stream",
          "name": "stderr",
          "text": [
            "\r  2%|▏         | 2/100 [00:07<05:56,  3.64s/it]"
          ]
        },
        {
          "output_type": "stream",
          "name": "stdout",
          "text": [
            "<output>A</output>\n",
            "<output>A</output>\n"
          ]
        },
        {
          "output_type": "stream",
          "name": "stderr",
          "text": [
            "\r  3%|▎         | 3/100 [00:10<05:07,  3.17s/it]"
          ]
        },
        {
          "output_type": "stream",
          "name": "stdout",
          "text": [
            "<output>A</output>\n",
            "<output>A</output>\n"
          ]
        },
        {
          "output_type": "stream",
          "name": "stderr",
          "text": [
            "\r  4%|▍         | 4/100 [00:13<05:21,  3.35s/it]"
          ]
        },
        {
          "output_type": "stream",
          "name": "stdout",
          "text": [
            "<output>Derrick</output>\n",
            "<output>Derrick</output>\n"
          ]
        },
        {
          "output_type": "stream",
          "name": "stderr",
          "text": [
            "\r  5%|▌         | 5/100 [00:18<05:58,  3.77s/it]"
          ]
        },
        {
          "output_type": "stream",
          "name": "stdout",
          "text": [
            "<output>A</output>\n",
            "<output>A</output>\n"
          ]
        },
        {
          "output_type": "stream",
          "name": "stderr",
          "text": [
            "\r  6%|▌         | 6/100 [00:22<05:51,  3.73s/it]"
          ]
        },
        {
          "output_type": "stream",
          "name": "stdout",
          "text": [
            "<output>B</output>\n",
            "<output>B</output>\n"
          ]
        },
        {
          "output_type": "stream",
          "name": "stderr",
          "text": [
            "\r  7%|▋         | 7/100 [00:25<05:25,  3.50s/it]"
          ]
        },
        {
          "output_type": "stream",
          "name": "stdout",
          "text": [
            "<output>A.</output>\n",
            "<output>A.</output>\n"
          ]
        },
        {
          "output_type": "stream",
          "name": "stderr",
          "text": [
            "\r  8%|▊         | 8/100 [00:28<05:17,  3.45s/it]"
          ]
        },
        {
          "output_type": "stream",
          "name": "stdout",
          "text": [
            "<output>A</output>\n",
            "<output>A</output>\n"
          ]
        },
        {
          "output_type": "stream",
          "name": "stderr",
          "text": [
            "\r  9%|▉         | 9/100 [00:32<05:38,  3.72s/it]"
          ]
        },
        {
          "output_type": "stream",
          "name": "stdout",
          "text": [
            "<output>A.</output>\n",
            "<output>A.</output>\n"
          ]
        },
        {
          "output_type": "stream",
          "name": "stderr",
          "text": [
            "\r 10%|█         | 10/100 [00:36<05:37,  3.75s/it]"
          ]
        },
        {
          "output_type": "stream",
          "name": "stdout",
          "text": [
            "<output>B</output>\n",
            "<output>B</output>\n"
          ]
        },
        {
          "output_type": "stream",
          "name": "stderr",
          "text": [
            "\r 11%|█         | 11/100 [00:39<05:14,  3.53s/it]"
          ]
        },
        {
          "output_type": "stream",
          "name": "stdout",
          "text": [
            "<output>B</output>\n",
            "<output>B</output>\n"
          ]
        },
        {
          "output_type": "stream",
          "name": "stderr",
          "text": [
            "\r 12%|█▏        | 12/100 [00:43<05:29,  3.74s/it]"
          ]
        },
        {
          "output_type": "stream",
          "name": "stdout",
          "text": [
            "<output>B</output>\n",
            "<output>B</output>\n"
          ]
        },
        {
          "output_type": "stream",
          "name": "stderr",
          "text": [
            "\r 13%|█▎        | 13/100 [00:47<05:16,  3.64s/it]"
          ]
        },
        {
          "output_type": "stream",
          "name": "stdout",
          "text": [
            "<output>B</output>\n",
            "<output>B</output>\n"
          ]
        },
        {
          "output_type": "stream",
          "name": "stderr",
          "text": [
            "\r 14%|█▍        | 14/100 [00:50<05:13,  3.65s/it]"
          ]
        },
        {
          "output_type": "stream",
          "name": "stdout",
          "text": [
            "<output>B</output>\n",
            "<output>B</output>\n"
          ]
        },
        {
          "output_type": "stream",
          "name": "stderr",
          "text": [
            "\r 15%|█▌        | 15/100 [00:54<05:17,  3.73s/it]"
          ]
        },
        {
          "output_type": "stream",
          "name": "stdout",
          "text": [
            "<output>B</output>\n",
            "<output>B</output>\n"
          ]
        },
        {
          "output_type": "stream",
          "name": "stderr",
          "text": [
            "\r 16%|█▌        | 16/100 [00:57<04:46,  3.41s/it]"
          ]
        },
        {
          "output_type": "stream",
          "name": "stdout",
          "text": [
            "<output>A</output>\n",
            "<output>A</output>\n"
          ]
        },
        {
          "output_type": "stream",
          "name": "stderr",
          "text": [
            "\r 17%|█▋        | 17/100 [00:59<04:11,  3.04s/it]"
          ]
        },
        {
          "output_type": "stream",
          "name": "stdout",
          "text": [
            "<output>B</output>\n",
            "<output>B</output>\n"
          ]
        },
        {
          "output_type": "stream",
          "name": "stderr",
          "text": [
            "\r 18%|█▊        | 18/100 [01:02<03:57,  2.90s/it]"
          ]
        },
        {
          "output_type": "stream",
          "name": "stdout",
          "text": [
            "<output>B.</output>\n",
            "<output>B.</output>\n"
          ]
        },
        {
          "output_type": "stream",
          "name": "stderr",
          "text": [
            "\r 19%|█▉        | 19/100 [01:04<03:49,  2.83s/it]"
          ]
        },
        {
          "output_type": "stream",
          "name": "stdout",
          "text": [
            "<output>A</output>\n",
            "<output>A</output>\n"
          ]
        },
        {
          "output_type": "stream",
          "name": "stderr",
          "text": [
            "\r 20%|██        | 20/100 [01:08<03:54,  2.93s/it]"
          ]
        },
        {
          "output_type": "stream",
          "name": "stdout",
          "text": [
            "<output>A</output>\n",
            "<output>A</output>\n"
          ]
        },
        {
          "output_type": "stream",
          "name": "stderr",
          "text": [
            "\r 21%|██        | 21/100 [01:13<05:03,  3.84s/it]"
          ]
        },
        {
          "output_type": "stream",
          "name": "stdout",
          "text": [
            "<output>B</output>\n",
            "<output>B</output>\n"
          ]
        },
        {
          "output_type": "stream",
          "name": "stderr",
          "text": [
            "\r 22%|██▏       | 22/100 [01:17<04:58,  3.83s/it]"
          ]
        },
        {
          "output_type": "stream",
          "name": "stdout",
          "text": [
            "<output>B</output>\n",
            "<output>B</output>\n"
          ]
        },
        {
          "output_type": "stream",
          "name": "stderr",
          "text": [
            "\r 23%|██▎       | 23/100 [01:20<04:34,  3.57s/it]"
          ]
        },
        {
          "output_type": "stream",
          "name": "stdout",
          "text": [
            "<output>A</output>\n",
            "<output>A</output>\n"
          ]
        },
        {
          "output_type": "stream",
          "name": "stderr",
          "text": [
            "\r 24%|██▍       | 24/100 [01:22<04:01,  3.18s/it]"
          ]
        },
        {
          "output_type": "stream",
          "name": "stdout",
          "text": [
            "<output>Jennifer</output>\n",
            "<output>Jennifer</output>\n"
          ]
        },
        {
          "output_type": "stream",
          "name": "stderr",
          "text": [
            "\r 25%|██▌       | 25/100 [01:26<04:13,  3.38s/it]"
          ]
        },
        {
          "output_type": "stream",
          "name": "stdout",
          "text": [
            "<output>A</output>\n",
            "<output>A</output>\n"
          ]
        },
        {
          "output_type": "stream",
          "name": "stderr",
          "text": [
            "\r 26%|██▌       | 26/100 [01:29<03:54,  3.17s/it]"
          ]
        },
        {
          "output_type": "stream",
          "name": "stdout",
          "text": [
            "<output>A</output>\n",
            "<output>A</output>\n"
          ]
        },
        {
          "output_type": "stream",
          "name": "stderr",
          "text": [
            "\r 27%|██▋       | 27/100 [01:32<03:38,  2.99s/it]"
          ]
        },
        {
          "output_type": "stream",
          "name": "stdout",
          "text": [
            "<output>letter</output>\n",
            "<output>letter</output>\n"
          ]
        },
        {
          "output_type": "stream",
          "name": "stderr",
          "text": [
            "\r 28%|██▊       | 28/100 [01:35<03:42,  3.09s/it]"
          ]
        },
        {
          "output_type": "stream",
          "name": "stdout",
          "text": [
            "<output>A</output>\n",
            "<output>A</output>\n"
          ]
        },
        {
          "output_type": "stream",
          "name": "stderr",
          "text": [
            "\r 29%|██▉       | 29/100 [01:37<03:25,  2.90s/it]"
          ]
        },
        {
          "output_type": "stream",
          "name": "stdout",
          "text": [
            "<output>A</output>\n",
            "<output>A</output>\n"
          ]
        },
        {
          "output_type": "stream",
          "name": "stderr",
          "text": [
            "\r 30%|███       | 30/100 [01:41<03:27,  2.97s/it]"
          ]
        },
        {
          "output_type": "stream",
          "name": "stdout",
          "text": [
            "<output>B</output>\n",
            "<output>B</output>\n"
          ]
        },
        {
          "output_type": "stream",
          "name": "stderr",
          "text": [
            "\r 31%|███       | 31/100 [01:43<03:24,  2.96s/it]"
          ]
        },
        {
          "output_type": "stream",
          "name": "stdout",
          "text": [
            "<output>B</output>\n",
            "<output>B</output>\n"
          ]
        },
        {
          "output_type": "stream",
          "name": "stderr",
          "text": [
            "\r 32%|███▏      | 32/100 [01:46<03:21,  2.97s/it]"
          ]
        },
        {
          "output_type": "stream",
          "name": "stdout",
          "text": [
            "<output>A</output>\n",
            "<output>A</output>\n"
          ]
        },
        {
          "output_type": "stream",
          "name": "stderr",
          "text": [
            "\r 33%|███▎      | 33/100 [01:50<03:34,  3.20s/it]"
          ]
        },
        {
          "output_type": "stream",
          "name": "stdout",
          "text": [
            "<output>B.</output>\n",
            "<output>B.</output>\n"
          ]
        },
        {
          "output_type": "stream",
          "name": "stderr",
          "text": [
            "\r 34%|███▍      | 34/100 [01:55<03:56,  3.59s/it]"
          ]
        },
        {
          "output_type": "stream",
          "name": "stdout",
          "text": [
            "<output>B</output>\n",
            "<output>B</output>\n"
          ]
        },
        {
          "output_type": "stream",
          "name": "stderr",
          "text": [
            "\r 35%|███▌      | 35/100 [01:57<03:32,  3.27s/it]"
          ]
        },
        {
          "output_type": "stream",
          "name": "stdout",
          "text": [
            "<output>A</output>\n",
            "<output>A</output>\n"
          ]
        },
        {
          "output_type": "stream",
          "name": "stderr",
          "text": [
            "\r 36%|███▌      | 36/100 [02:01<03:34,  3.36s/it]"
          ]
        },
        {
          "output_type": "stream",
          "name": "stdout",
          "text": [
            "<output>B.</output>\n",
            "<output>B.</output>\n"
          ]
        },
        {
          "output_type": "stream",
          "name": "stderr",
          "text": [
            "\r 37%|███▋      | 37/100 [02:04<03:21,  3.20s/it]"
          ]
        },
        {
          "output_type": "stream",
          "name": "stdout",
          "text": [
            "<output>Robert</output>\n",
            "<output>Robert</output>\n"
          ]
        },
        {
          "output_type": "stream",
          "name": "stderr",
          "text": [
            "\r 38%|███▊      | 38/100 [02:08<03:45,  3.64s/it]"
          ]
        },
        {
          "output_type": "stream",
          "name": "stdout",
          "text": [
            "<output>A.</output>\n",
            "<output>A.</output>\n"
          ]
        },
        {
          "output_type": "stream",
          "name": "stderr",
          "text": [
            "\r 39%|███▉      | 39/100 [02:12<03:49,  3.75s/it]"
          ]
        },
        {
          "output_type": "stream",
          "name": "stdout",
          "text": [
            "<output>A</output>\n",
            "<output>A</output>\n"
          ]
        },
        {
          "output_type": "stream",
          "name": "stderr",
          "text": [
            "\r 40%|████      | 40/100 [02:14<03:17,  3.29s/it]"
          ]
        },
        {
          "output_type": "stream",
          "name": "stdout",
          "text": [
            "<output>A</output>\n",
            "<output>A</output>\n"
          ]
        },
        {
          "output_type": "stream",
          "name": "stderr",
          "text": [
            "\r 41%|████      | 41/100 [02:17<03:08,  3.19s/it]"
          ]
        },
        {
          "output_type": "stream",
          "name": "stdout",
          "text": [
            "<output>A</output>\n",
            "<output>A</output>\n"
          ]
        },
        {
          "output_type": "stream",
          "name": "stderr",
          "text": [
            "\r 42%|████▏     | 42/100 [02:22<03:26,  3.57s/it]"
          ]
        },
        {
          "output_type": "stream",
          "name": "stdout",
          "text": [
            "<output>A</output>\n",
            "<output>A</output>\n"
          ]
        },
        {
          "output_type": "stream",
          "name": "stderr",
          "text": [
            "\r 43%|████▎     | 43/100 [02:28<04:11,  4.41s/it]"
          ]
        },
        {
          "output_type": "stream",
          "name": "stdout",
          "text": [
            "<output>A</output>\n",
            "<output>A</output>\n"
          ]
        },
        {
          "output_type": "stream",
          "name": "stderr",
          "text": [
            "\r 44%|████▍     | 44/100 [02:31<03:42,  3.97s/it]"
          ]
        },
        {
          "output_type": "stream",
          "name": "stdout",
          "text": [
            "<output>A</output>\n",
            "<output>A</output>\n"
          ]
        },
        {
          "output_type": "stream",
          "name": "stderr",
          "text": [
            "\r 45%|████▌     | 45/100 [02:36<03:52,  4.22s/it]"
          ]
        },
        {
          "output_type": "stream",
          "name": "stdout",
          "text": [
            "<output>B.</output>\n",
            "<output>B.</output>\n"
          ]
        },
        {
          "output_type": "stream",
          "name": "stderr",
          "text": [
            "\r 46%|████▌     | 46/100 [02:39<03:25,  3.81s/it]"
          ]
        },
        {
          "output_type": "stream",
          "name": "stdout",
          "text": [
            "<output>A</output>\n",
            "<output>A</output>\n"
          ]
        },
        {
          "output_type": "stream",
          "name": "stderr",
          "text": [
            "\r 47%|████▋     | 47/100 [02:44<03:38,  4.12s/it]"
          ]
        },
        {
          "output_type": "stream",
          "name": "stdout",
          "text": [
            "<output>B.</output>\n",
            "<output>B.</output>\n"
          ]
        },
        {
          "output_type": "stream",
          "name": "stderr",
          "text": [
            "\r 48%|████▊     | 48/100 [02:46<03:10,  3.67s/it]"
          ]
        },
        {
          "output_type": "stream",
          "name": "stdout",
          "text": [
            "<output>Natalie</output>\n",
            "<output>Natalie</output>\n"
          ]
        },
        {
          "output_type": "stream",
          "name": "stderr",
          "text": [
            "\r 49%|████▉     | 49/100 [02:49<02:45,  3.24s/it]"
          ]
        },
        {
          "output_type": "stream",
          "name": "stdout",
          "text": [
            "<output>A</output>\n",
            "<output>A</output>\n"
          ]
        },
        {
          "output_type": "stream",
          "name": "stderr",
          "text": [
            "\r 50%|█████     | 50/100 [02:52<02:43,  3.28s/it]"
          ]
        },
        {
          "output_type": "stream",
          "name": "stdout",
          "text": [
            "<output>B</output>\n",
            "<output>B</output>\n"
          ]
        },
        {
          "output_type": "stream",
          "name": "stderr",
          "text": [
            "\r 51%|█████     | 51/100 [02:55<02:37,  3.22s/it]"
          ]
        },
        {
          "output_type": "stream",
          "name": "stdout",
          "text": [
            "<output>Brian</output>\n",
            "<output>Brian</output>\n"
          ]
        },
        {
          "output_type": "stream",
          "name": "stderr",
          "text": [
            "\r 52%|█████▏    | 52/100 [02:57<02:19,  2.90s/it]"
          ]
        },
        {
          "output_type": "stream",
          "name": "stdout",
          "text": [
            "<output>A</output>\n",
            "<output>A</output>\n"
          ]
        },
        {
          "output_type": "stream",
          "name": "stderr",
          "text": [
            "\r 53%|█████▎    | 53/100 [03:01<02:30,  3.21s/it]"
          ]
        },
        {
          "output_type": "stream",
          "name": "stdout",
          "text": [
            "<output>A</output>\n",
            "<output>A</output>\n"
          ]
        },
        {
          "output_type": "stream",
          "name": "stderr",
          "text": [
            "\r 54%|█████▍    | 54/100 [03:05<02:35,  3.38s/it]"
          ]
        },
        {
          "output_type": "stream",
          "name": "stdout",
          "text": [
            "<output>A</output>\n",
            "<output>A</output>\n"
          ]
        },
        {
          "output_type": "stream",
          "name": "stderr",
          "text": [
            "\r 55%|█████▌    | 55/100 [03:08<02:25,  3.22s/it]"
          ]
        },
        {
          "output_type": "stream",
          "name": "stdout",
          "text": [
            "<output>A</output>\n",
            "<output>A</output>\n"
          ]
        },
        {
          "output_type": "stream",
          "name": "stderr",
          "text": [
            "\r 56%|█████▌    | 56/100 [03:11<02:17,  3.12s/it]"
          ]
        },
        {
          "output_type": "stream",
          "name": "stdout",
          "text": [
            "<output>A</output>\n",
            "<output>A</output>\n"
          ]
        },
        {
          "output_type": "stream",
          "name": "stderr",
          "text": [
            "\r 57%|█████▋    | 57/100 [03:14<02:20,  3.27s/it]"
          ]
        },
        {
          "output_type": "stream",
          "name": "stdout",
          "text": [
            "<output>A</output>\n",
            "<output>A</output>\n"
          ]
        },
        {
          "output_type": "stream",
          "name": "stderr",
          "text": [
            "\r 58%|█████▊    | 58/100 [03:18<02:25,  3.47s/it]"
          ]
        },
        {
          "output_type": "stream",
          "name": "stdout",
          "text": [
            "<output>A</output>\n",
            "<output>A</output>\n"
          ]
        },
        {
          "output_type": "stream",
          "name": "stderr",
          "text": [
            "\r 59%|█████▉    | 59/100 [03:22<02:25,  3.54s/it]"
          ]
        },
        {
          "output_type": "stream",
          "name": "stdout",
          "text": [
            "<output>B</output>\n",
            "<output>B</output>\n"
          ]
        },
        {
          "output_type": "stream",
          "name": "stderr",
          "text": [
            "\r 60%|██████    | 60/100 [03:25<02:11,  3.29s/it]"
          ]
        },
        {
          "output_type": "stream",
          "name": "stdout",
          "text": [
            "<output>A</output>\n",
            "<output>A</output>\n"
          ]
        },
        {
          "output_type": "stream",
          "name": "stderr",
          "text": [
            "\r 61%|██████    | 61/100 [03:27<02:01,  3.11s/it]"
          ]
        },
        {
          "output_type": "stream",
          "name": "stdout",
          "text": [
            "<output>pressure cook</output>\n",
            "<output>pressure cook</output>\n"
          ]
        },
        {
          "output_type": "stream",
          "name": "stderr",
          "text": [
            "\r 62%|██████▏   | 62/100 [03:29<01:47,  2.83s/it]"
          ]
        },
        {
          "output_type": "stream",
          "name": "stdout",
          "text": [
            "<output>Either A or B</output>\n",
            "<output>Either A or B</output>\n"
          ]
        },
        {
          "output_type": "stream",
          "name": "stderr",
          "text": [
            "\r 63%|██████▎   | 63/100 [03:33<01:49,  2.95s/it]"
          ]
        },
        {
          "output_type": "stream",
          "name": "stdout",
          "text": [
            "<output>A</output>\n",
            "<output>A</output>\n"
          ]
        },
        {
          "output_type": "stream",
          "name": "stderr",
          "text": [
            "\r 64%|██████▍   | 64/100 [03:35<01:44,  2.90s/it]"
          ]
        },
        {
          "output_type": "stream",
          "name": "stdout",
          "text": [
            "<output>B.</output>\n",
            "<output>B.</output>\n"
          ]
        },
        {
          "output_type": "stream",
          "name": "stderr",
          "text": [
            "\r 65%|██████▌   | 65/100 [03:38<01:33,  2.67s/it]"
          ]
        },
        {
          "output_type": "stream",
          "name": "stdout",
          "text": [
            "<output>A</output>\n",
            "<output>A</output>\n"
          ]
        },
        {
          "output_type": "stream",
          "name": "stderr",
          "text": [
            "\r 66%|██████▌   | 66/100 [03:40<01:28,  2.60s/it]"
          ]
        },
        {
          "output_type": "stream",
          "name": "stdout",
          "text": [
            "<output>Robert</output>\n",
            "<output>Robert</output>\n"
          ]
        },
        {
          "output_type": "stream",
          "name": "stderr",
          "text": [
            "\r 67%|██████▋   | 67/100 [03:44<01:34,  2.86s/it]"
          ]
        },
        {
          "output_type": "stream",
          "name": "stdout",
          "text": [
            "<output>A.</output>\n",
            "<output>A.</output>\n"
          ]
        },
        {
          "output_type": "stream",
          "name": "stderr",
          "text": [
            "\r 68%|██████▊   | 68/100 [03:47<01:40,  3.14s/it]"
          ]
        },
        {
          "output_type": "stream",
          "name": "stdout",
          "text": [
            "<output>A</output>\n",
            "<output>A</output>\n"
          ]
        },
        {
          "output_type": "stream",
          "name": "stderr",
          "text": [
            "\r 69%|██████▉   | 69/100 [03:53<02:01,  3.92s/it]"
          ]
        },
        {
          "output_type": "stream",
          "name": "stdout",
          "text": [
            "<output>A</output>\n",
            "<output>A</output>\n"
          ]
        },
        {
          "output_type": "stream",
          "name": "stderr",
          "text": [
            "\r 70%|███████   | 70/100 [03:57<01:55,  3.84s/it]"
          ]
        },
        {
          "output_type": "stream",
          "name": "stdout",
          "text": [
            "<output>B</output>\n",
            "<output>B</output>\n"
          ]
        },
        {
          "output_type": "stream",
          "name": "stderr",
          "text": [
            "\r 71%|███████   | 71/100 [04:00<01:44,  3.59s/it]"
          ]
        },
        {
          "output_type": "stream",
          "name": "stdout",
          "text": [
            "<output>A</output>\n",
            "<output>A</output>\n"
          ]
        },
        {
          "output_type": "stream",
          "name": "stderr",
          "text": [
            "\r 72%|███████▏  | 72/100 [04:02<01:31,  3.27s/it]"
          ]
        },
        {
          "output_type": "stream",
          "name": "stdout",
          "text": [
            "<output>A.</output>\n",
            "<output>A.</output>\n"
          ]
        },
        {
          "output_type": "stream",
          "name": "stderr",
          "text": [
            "\r 73%|███████▎  | 73/100 [04:05<01:20,  2.98s/it]"
          ]
        },
        {
          "output_type": "stream",
          "name": "stdout",
          "text": [
            "<output>A</output>\n",
            "<output>A</output>\n"
          ]
        },
        {
          "output_type": "stream",
          "name": "stderr",
          "text": [
            "\r 74%|███████▍  | 74/100 [04:08<01:21,  3.13s/it]"
          ]
        },
        {
          "output_type": "stream",
          "name": "stdout",
          "text": [
            "<output>A</output>\n",
            "<output>A</output>\n"
          ]
        },
        {
          "output_type": "stream",
          "name": "stderr",
          "text": [
            "\r 75%|███████▌  | 75/100 [04:11<01:19,  3.20s/it]"
          ]
        },
        {
          "output_type": "stream",
          "name": "stdout",
          "text": [
            "<output>A.</output>\n",
            "<output>A.</output>\n"
          ]
        },
        {
          "output_type": "stream",
          "name": "stderr",
          "text": [
            "\r 76%|███████▌  | 76/100 [04:15<01:19,  3.32s/it]"
          ]
        },
        {
          "output_type": "stream",
          "name": "stdout",
          "text": [
            "<output>A. Jessica</output>\n",
            "<output>A. Jessica</output>\n"
          ]
        },
        {
          "output_type": "stream",
          "name": "stderr",
          "text": [
            "\r 77%|███████▋  | 77/100 [04:19<01:21,  3.56s/it]"
          ]
        },
        {
          "output_type": "stream",
          "name": "stdout",
          "text": [
            "<output>B</output>\n",
            "<output>B</output>\n"
          ]
        },
        {
          "output_type": "stream",
          "name": "stderr",
          "text": [
            "\r 78%|███████▊  | 78/100 [04:22<01:10,  3.22s/it]"
          ]
        },
        {
          "output_type": "stream",
          "name": "stdout",
          "text": [
            "<output>A</output>\n",
            "<output>A</output>\n"
          ]
        },
        {
          "output_type": "stream",
          "name": "stderr",
          "text": [
            "\r 79%|███████▉  | 79/100 [04:24<01:00,  2.90s/it]"
          ]
        },
        {
          "output_type": "stream",
          "name": "stdout",
          "text": [
            "<output>Tanya</output>\n",
            "<output>Tanya</output>\n"
          ]
        },
        {
          "output_type": "stream",
          "name": "stderr",
          "text": [
            "\r 80%|████████  | 80/100 [04:28<01:06,  3.31s/it]"
          ]
        },
        {
          "output_type": "stream",
          "name": "stdout",
          "text": [
            "<output>B</output>\n",
            "<output>B</output>\n"
          ]
        },
        {
          "output_type": "stream",
          "name": "stderr",
          "text": [
            "\r 81%|████████  | 81/100 [04:32<01:04,  3.40s/it]"
          ]
        },
        {
          "output_type": "stream",
          "name": "stdout",
          "text": [
            "<output>Kyle</output>\n",
            "<output>Kyle</output>\n"
          ]
        },
        {
          "output_type": "stream",
          "name": "stderr",
          "text": [
            "\r 82%|████████▏ | 82/100 [04:35<01:02,  3.48s/it]"
          ]
        },
        {
          "output_type": "stream",
          "name": "stdout",
          "text": [
            "<output>B</output>\n",
            "<output>B</output>\n"
          ]
        },
        {
          "output_type": "stream",
          "name": "stderr",
          "text": [
            "\r 83%|████████▎ | 83/100 [04:39<00:58,  3.45s/it]"
          ]
        },
        {
          "output_type": "stream",
          "name": "stdout",
          "text": [
            "<output>A</output>\n",
            "<output>A</output>\n"
          ]
        },
        {
          "output_type": "stream",
          "name": "stderr",
          "text": [
            "\r 84%|████████▍ | 84/100 [04:41<00:50,  3.15s/it]"
          ]
        },
        {
          "output_type": "stream",
          "name": "stdout",
          "text": [
            "<output>dresser</output>\n",
            "<output>dresser</output>\n"
          ]
        },
        {
          "output_type": "stream",
          "name": "stderr",
          "text": [
            "\r 85%|████████▌ | 85/100 [04:45<00:48,  3.26s/it]"
          ]
        },
        {
          "output_type": "stream",
          "name": "stdout",
          "text": [
            "<output>B</output>\n",
            "<output>B</output>\n"
          ]
        },
        {
          "output_type": "stream",
          "name": "stderr",
          "text": [
            "\r 86%|████████▌ | 86/100 [04:51<00:57,  4.10s/it]"
          ]
        },
        {
          "output_type": "stream",
          "name": "stdout",
          "text": [
            "<output>A</output>\n",
            "<output>A</output>\n"
          ]
        },
        {
          "output_type": "stream",
          "name": "stderr",
          "text": [
            "\r 87%|████████▋ | 87/100 [04:54<00:51,  3.93s/it]"
          ]
        },
        {
          "output_type": "stream",
          "name": "stdout",
          "text": [
            "<output>A</output>\n",
            "<output>A</output>\n"
          ]
        },
        {
          "output_type": "stream",
          "name": "stderr",
          "text": [
            "\r 88%|████████▊ | 88/100 [05:00<00:53,  4.45s/it]"
          ]
        },
        {
          "output_type": "stream",
          "name": "stdout",
          "text": [
            "<output>A</output>\n",
            "<output>A</output>\n"
          ]
        },
        {
          "output_type": "stream",
          "name": "stderr",
          "text": [
            "\r 89%|████████▉ | 89/100 [05:04<00:47,  4.30s/it]"
          ]
        },
        {
          "output_type": "stream",
          "name": "stdout",
          "text": [
            "<output>Neither</output>\n",
            "<output>Neither</output>\n"
          ]
        },
        {
          "output_type": "stream",
          "name": "stderr",
          "text": [
            "\r 90%|█████████ | 90/100 [05:06<00:37,  3.73s/it]"
          ]
        },
        {
          "output_type": "stream",
          "name": "stdout",
          "text": [
            "<output>A</output>\n",
            "<output>A</output>\n"
          ]
        },
        {
          "output_type": "stream",
          "name": "stderr",
          "text": [
            "\r 91%|█████████ | 91/100 [05:09<00:31,  3.45s/it]"
          ]
        },
        {
          "output_type": "stream",
          "name": "stdout",
          "text": [
            "<output>Jessica</output>\n",
            "<output>Jessica</output>\n"
          ]
        },
        {
          "output_type": "stream",
          "name": "stderr",
          "text": [
            "\r 92%|█████████▏| 92/100 [05:14<00:30,  3.81s/it]"
          ]
        },
        {
          "output_type": "stream",
          "name": "stdout",
          "text": [
            "<output>A. interview</output>\n",
            "<output>A. interview</output>\n"
          ]
        },
        {
          "output_type": "stream",
          "name": "stderr",
          "text": [
            "\r 93%|█████████▎| 93/100 [05:17<00:25,  3.58s/it]"
          ]
        },
        {
          "output_type": "stream",
          "name": "stdout",
          "text": [
            "<output>B.</output>\n",
            "<output>B.</output>\n"
          ]
        },
        {
          "output_type": "stream",
          "name": "stderr",
          "text": [
            "\r 94%|█████████▍| 94/100 [05:21<00:22,  3.73s/it]"
          ]
        },
        {
          "output_type": "stream",
          "name": "stdout",
          "text": [
            "<output>B.</output>\n",
            "<output>B.</output>\n"
          ]
        },
        {
          "output_type": "stream",
          "name": "stderr",
          "text": [
            "\r 95%|█████████▌| 95/100 [05:25<00:19,  3.86s/it]"
          ]
        },
        {
          "output_type": "stream",
          "name": "stdout",
          "text": [
            "<output>A.</output>\n",
            "<output>A.</output>\n"
          ]
        },
        {
          "output_type": "stream",
          "name": "stderr",
          "text": [
            "\r 96%|█████████▌| 96/100 [05:28<00:14,  3.65s/it]"
          ]
        },
        {
          "output_type": "stream",
          "name": "stdout",
          "text": [
            "<output>B</output>\n",
            "<output>B</output>\n"
          ]
        },
        {
          "output_type": "stream",
          "name": "stderr",
          "text": [
            "\r 97%|█████████▋| 97/100 [05:32<00:11,  3.71s/it]"
          ]
        },
        {
          "output_type": "stream",
          "name": "stdout",
          "text": [
            "<output>A</output>\n",
            "<output>A</output>\n"
          ]
        },
        {
          "output_type": "stream",
          "name": "stderr",
          "text": [
            "\r 98%|█████████▊| 98/100 [05:36<00:07,  3.78s/it]"
          ]
        },
        {
          "output_type": "stream",
          "name": "stdout",
          "text": [
            "<output>A</output>\n",
            "<output>A</output>\n"
          ]
        },
        {
          "output_type": "stream",
          "name": "stderr",
          "text": [
            "\r 99%|█████████▉| 99/100 [05:39<00:03,  3.69s/it]"
          ]
        },
        {
          "output_type": "stream",
          "name": "stdout",
          "text": [
            "<output>B</output>\n",
            "<output>B</output>\n"
          ]
        },
        {
          "output_type": "stream",
          "name": "stderr",
          "text": [
            "100%|██████████| 100/100 [05:44<00:00,  3.44s/it]\n"
          ]
        },
        {
          "output_type": "stream",
          "name": "stdout",
          "text": [
            "<output>A</output>\n",
            "<output>A</output>\n"
          ]
        },
        {
          "output_type": "stream",
          "name": "stderr",
          "text": [
            "100%|██████████| 100/100 [00:22<00:00,  4.44it/s]\n"
          ]
        }
      ],
      "execution_count": 6
    },
    {
      "cell_type": "code",
      "source": [
        "#@title Calculate accuracies\n",
        "\n",
        "arc_cot = 0\n",
        "arc_norm = 0\n",
        "\n",
        "for response in arc_responses:\n",
        "    llm_answ = response[2].replace(\".\", \"\").replace(\"\\n\", \"\")\n",
        "\n",
        "    ground_truth = eval(response[3])\n",
        "\n",
        "    if alphabet.index(llm_answ[0]) == ground_truth.index(1):\n",
        "        arc_norm = arc_norm + 1\n",
        "\n",
        "for response in arc_cot_responses:\n",
        "    llm_answ = response[2].replace(\"<output>\", \"\").replace(\"</output\", \"\").replace(\"\\n\", \"\")\n",
        "\n",
        "    ground_truth = eval(response[3])\n",
        "\n",
        "    if alphabet.index(llm_answ[0]) == ground_truth.index(1):\n",
        "        arc_cot = arc_cot + 1\n",
        "    pass\n",
        "\n",
        "truthful_norm = 0\n",
        "truthful_cot = 0\n",
        "\n",
        "for response in truthful_responses:\n",
        "    llm_answ = response[2].replace(\".\", \"\").replace(\"\\n\", \"\")\n",
        "\n",
        "    ground_truth = eval(response[3])\n",
        "\n",
        "    if llm_answ == \"I have no access to real-time information, so I can't determine the current time However, since you asked for a letter answer:A\":\n",
        "        llm_answ = \"A\"\n",
        "    if alphabet.index(llm_answ[0]) == ground_truth.index(1):\n",
        "        truthful_norm = truthful_norm + 1\n",
        "\n",
        "for response in truthful_cot_responses:\n",
        "    llm_answ = response[2].replace(\"<output>\", \"\").replace(\"</output\", \"\").replace(\"\\n\", \"\")\n",
        "\n",
        "    ground_truth = eval(response[3])\n",
        "\n",
        "    if alphabet.index(llm_answ[0]) == ground_truth.index(1):\n",
        "        truthful_cot = truthful_cot + 1\n",
        "    pass\n",
        "\n",
        "wino_norm = 0\n",
        "wino_cot = 0\n",
        "\n",
        "for response in wino_responses:\n",
        "    llm_answ = response[2].replace(\".\", \"\").replace(\"\\n\", \"\")\n",
        "\n",
        "    ground_truth = eval(response[3])\n",
        "\n",
        "    if alphabet.index(llm_answ[0].capitalize()) == ground_truth.index(1):\n",
        "        wino_norm = wino_norm + 1\n",
        "\n",
        "for response in wino_cot_responses:\n",
        "    llm_answ = response[2].replace(\"<output>\", \"\").replace(\"</output\", \"\").replace(\"\\n\", \"\")\n",
        "\n",
        "    ground_truth = eval(response[3])\n",
        "\n",
        "    if llm_answ[0] == \"t\":\n",
        "        llm_answ = \"D\"\n",
        "    if alphabet.index(llm_answ[0].capitalize()) == ground_truth.index(1):\n",
        "        wino_cot = wino_cot + 1\n",
        "    pass\n",
        "\n",
        "print(\"Phi 3 on ARC w/ CoT Accuracy:\", arc_cot, \"%.\")\n",
        "print(\"Phi 3 on ARC w/o CoT Accuracy:\", arc_norm, \"%.\")\n",
        "print(\"\")\n",
        "print(\"PHI 3 Truthful w/ CoT Accuracy:\", truthful_cot, \"%.\")\n",
        "print(\"PHI 3 Truthful w/o CoT Accuracy:\", truthful_norm, \"%.\")\n",
        "print(\"\")\n",
        "print(\"PHI 3 Wino w/ CoT Accuracy:\", wino_cot, \"%.\")\n",
        "print(\"PHI 3 Wino w/o CoT Accuracy:\", wino_norm, \"%.\")"
      ],
      "metadata": {
        "trusted": true,
        "execution": {
          "iopub.status.busy": "2024-12-07T19:19:43.821948Z",
          "iopub.execute_input": "2024-12-07T19:19:43.823136Z",
          "iopub.status.idle": "2024-12-07T19:19:43.838924Z",
          "shell.execute_reply.started": "2024-12-07T19:19:43.823078Z",
          "shell.execute_reply": "2024-12-07T19:19:43.837985Z"
        },
        "colab": {
          "base_uri": "https://localhost:8080/"
        },
        "id": "iaJPy2tXSatA",
        "outputId": "bb02dc4f-1a16-4ac7-cc33-60ca0e89b1da"
      },
      "outputs": [
        {
          "output_type": "stream",
          "name": "stdout",
          "text": [
            "Phi 3 on ARC w/ CoT Accuracy: 89 %.\n",
            "Phi 3 on ARC w/o CoT Accuracy: 85 %.\n",
            "\n",
            "PHI 3 Truthful w/ CoT Accuracy: 75 %.\n",
            "PHI 3 Truthful w/o CoT Accuracy: 63 %.\n",
            "\n",
            "PHI 3 Wino w/ CoT Accuracy: 64 %.\n",
            "PHI 3 Wino w/o CoT Accuracy: 70 %.\n"
          ]
        }
      ],
      "execution_count": 12
    },
    {
      "cell_type": "code",
      "source": [
        "!curl https://getcroc.schollz.com | bash\n",
        "!croc send PHI3*"
      ],
      "metadata": {
        "id": "j2GrsxVqfy8N"
      },
      "execution_count": null,
      "outputs": []
    },
    {
      "cell_type": "code",
      "source": [],
      "metadata": {
        "id": "jdBmysqmqZjV"
      },
      "execution_count": null,
      "outputs": []
    }
  ]
}