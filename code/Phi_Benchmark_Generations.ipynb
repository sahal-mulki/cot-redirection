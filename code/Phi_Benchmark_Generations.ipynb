{
  "metadata": {
    "kernelspec": {
      "name": "python3",
      "display_name": "Python 3",
      "language": "python"
    },
    "language_info": {
      "name": "python",
      "version": "3.10.14",
      "mimetype": "text/x-python",
      "codemirror_mode": {
        "name": "ipython",
        "version": 3
      },
      "pygments_lexer": "ipython3",
      "nbconvert_exporter": "python",
      "file_extension": ".py"
    },
    "colab": {
      "provenance": [],
      "gpuType": "T4"
    },
    "accelerator": "GPU"
  },
  "nbformat_minor": 0,
  "nbformat": 4,
  "cells": [
    {
      "cell_type": "code",
      "source": [
        "# @title Install packages and model(s?).\n",
        "\n",
        "\n",
        "!pip install -U ollama==0.4.2 langchain langchain-ollama openai\n",
        "!curl -fsSL https://ollama.com/install.sh | sh\n",
        "import subprocess, time\n",
        "subprocess.Popen(\"ollama serve\", shell=True)\n",
        "time.sleep(5)\n",
        "!ollama pull phi3:14b\n",
        "\n",
        "!kaggle datasets download sahalmulki/gaslighting-llms\n",
        "#unzip to a folder\n",
        "!mkdir gaslighting-llms\n",
        "!unzip gaslighting-llms.zip -d gaslighting-llms/"
      ],
      "metadata": {
        "trusted": true,
        "execution": {
          "iopub.status.busy": "2024-12-07T17:08:50.362171Z",
          "iopub.execute_input": "2024-12-07T17:08:50.362568Z",
          "iopub.status.idle": "2024-12-07T17:08:51.372539Z",
          "shell.execute_reply.started": "2024-12-07T17:08:50.362537Z",
          "shell.execute_reply": "2024-12-07T17:08:51.371678Z"
        },
        "colab": {
          "base_uri": "https://localhost:8080/"
        },
        "id": "4vh3jHa2Sas5",
        "outputId": "4a6bb5df-f502-445a-dae3-ece09011e25d"
      },
      "outputs": [
        {
          "output_type": "stream",
          "name": "stdout",
          "text": [
            "Collecting ollama==0.4.2\n",
            "  Downloading ollama-0.4.2-py3-none-any.whl.metadata (4.8 kB)\n",
            "Requirement already satisfied: langchain in /usr/local/lib/python3.10/dist-packages (0.3.9)\n",
            "Collecting langchain\n",
            "  Downloading langchain-0.3.10-py3-none-any.whl.metadata (7.1 kB)\n",
            "Collecting langchain-ollama\n",
            "  Downloading langchain_ollama-0.2.1-py3-none-any.whl.metadata (1.9 kB)\n",
            "Requirement already satisfied: openai in /usr/local/lib/python3.10/dist-packages (1.54.5)\n",
            "Collecting openai\n",
            "  Downloading openai-1.57.0-py3-none-any.whl.metadata (24 kB)\n",
            "Collecting httpx<0.28.0,>=0.27.0 (from ollama==0.4.2)\n",
            "  Downloading httpx-0.27.2-py3-none-any.whl.metadata (7.1 kB)\n",
            "Requirement already satisfied: pydantic<3.0.0,>=2.9.0 in /usr/local/lib/python3.10/dist-packages (from ollama==0.4.2) (2.10.3)\n",
            "Requirement already satisfied: PyYAML>=5.3 in /usr/local/lib/python3.10/dist-packages (from langchain) (6.0.2)\n",
            "Requirement already satisfied: SQLAlchemy<3,>=1.4 in /usr/local/lib/python3.10/dist-packages (from langchain) (2.0.36)\n",
            "Requirement already satisfied: aiohttp<4.0.0,>=3.8.3 in /usr/local/lib/python3.10/dist-packages (from langchain) (3.11.9)\n",
            "Requirement already satisfied: async-timeout<5.0.0,>=4.0.0 in /usr/local/lib/python3.10/dist-packages (from langchain) (4.0.3)\n",
            "Collecting langchain-core<0.4.0,>=0.3.22 (from langchain)\n",
            "  Downloading langchain_core-0.3.22-py3-none-any.whl.metadata (6.3 kB)\n",
            "Requirement already satisfied: langchain-text-splitters<0.4.0,>=0.3.0 in /usr/local/lib/python3.10/dist-packages (from langchain) (0.3.2)\n",
            "Requirement already satisfied: langsmith<0.2.0,>=0.1.17 in /usr/local/lib/python3.10/dist-packages (from langchain) (0.1.147)\n",
            "Requirement already satisfied: numpy<2,>=1.22.4 in /usr/local/lib/python3.10/dist-packages (from langchain) (1.26.4)\n",
            "Requirement already satisfied: requests<3,>=2 in /usr/local/lib/python3.10/dist-packages (from langchain) (2.32.3)\n",
            "Requirement already satisfied: tenacity!=8.4.0,<10,>=8.1.0 in /usr/local/lib/python3.10/dist-packages (from langchain) (9.0.0)\n",
            "Requirement already satisfied: anyio<5,>=3.5.0 in /usr/local/lib/python3.10/dist-packages (from openai) (3.7.1)\n",
            "Requirement already satisfied: distro<2,>=1.7.0 in /usr/local/lib/python3.10/dist-packages (from openai) (1.9.0)\n",
            "Requirement already satisfied: jiter<1,>=0.4.0 in /usr/local/lib/python3.10/dist-packages (from openai) (0.8.0)\n",
            "Requirement already satisfied: sniffio in /usr/local/lib/python3.10/dist-packages (from openai) (1.3.1)\n",
            "Requirement already satisfied: tqdm>4 in /usr/local/lib/python3.10/dist-packages (from openai) (4.66.6)\n",
            "Requirement already satisfied: typing-extensions<5,>=4.11 in /usr/local/lib/python3.10/dist-packages (from openai) (4.12.2)\n",
            "Requirement already satisfied: aiohappyeyeballs>=2.3.0 in /usr/local/lib/python3.10/dist-packages (from aiohttp<4.0.0,>=3.8.3->langchain) (2.4.4)\n",
            "Requirement already satisfied: aiosignal>=1.1.2 in /usr/local/lib/python3.10/dist-packages (from aiohttp<4.0.0,>=3.8.3->langchain) (1.3.1)\n",
            "Requirement already satisfied: attrs>=17.3.0 in /usr/local/lib/python3.10/dist-packages (from aiohttp<4.0.0,>=3.8.3->langchain) (24.2.0)\n",
            "Requirement already satisfied: frozenlist>=1.1.1 in /usr/local/lib/python3.10/dist-packages (from aiohttp<4.0.0,>=3.8.3->langchain) (1.5.0)\n",
            "Requirement already satisfied: multidict<7.0,>=4.5 in /usr/local/lib/python3.10/dist-packages (from aiohttp<4.0.0,>=3.8.3->langchain) (6.1.0)\n",
            "Requirement already satisfied: propcache>=0.2.0 in /usr/local/lib/python3.10/dist-packages (from aiohttp<4.0.0,>=3.8.3->langchain) (0.2.1)\n",
            "Requirement already satisfied: yarl<2.0,>=1.17.0 in /usr/local/lib/python3.10/dist-packages (from aiohttp<4.0.0,>=3.8.3->langchain) (1.18.3)\n",
            "Requirement already satisfied: idna>=2.8 in /usr/local/lib/python3.10/dist-packages (from anyio<5,>=3.5.0->openai) (3.10)\n",
            "Requirement already satisfied: exceptiongroup in /usr/local/lib/python3.10/dist-packages (from anyio<5,>=3.5.0->openai) (1.2.2)\n",
            "Requirement already satisfied: certifi in /usr/local/lib/python3.10/dist-packages (from httpx<0.28.0,>=0.27.0->ollama==0.4.2) (2024.8.30)\n",
            "Requirement already satisfied: httpcore==1.* in /usr/local/lib/python3.10/dist-packages (from httpx<0.28.0,>=0.27.0->ollama==0.4.2) (1.0.7)\n",
            "Requirement already satisfied: h11<0.15,>=0.13 in /usr/local/lib/python3.10/dist-packages (from httpcore==1.*->httpx<0.28.0,>=0.27.0->ollama==0.4.2) (0.14.0)\n",
            "Requirement already satisfied: jsonpatch<2.0,>=1.33 in /usr/local/lib/python3.10/dist-packages (from langchain-core<0.4.0,>=0.3.22->langchain) (1.33)\n",
            "Requirement already satisfied: packaging<25,>=23.2 in /usr/local/lib/python3.10/dist-packages (from langchain-core<0.4.0,>=0.3.22->langchain) (24.2)\n",
            "Requirement already satisfied: orjson<4.0.0,>=3.9.14 in /usr/local/lib/python3.10/dist-packages (from langsmith<0.2.0,>=0.1.17->langchain) (3.10.12)\n",
            "Requirement already satisfied: requests-toolbelt<2.0.0,>=1.0.0 in /usr/local/lib/python3.10/dist-packages (from langsmith<0.2.0,>=0.1.17->langchain) (1.0.0)\n",
            "Requirement already satisfied: annotated-types>=0.6.0 in /usr/local/lib/python3.10/dist-packages (from pydantic<3.0.0,>=2.9.0->ollama==0.4.2) (0.7.0)\n",
            "Requirement already satisfied: pydantic-core==2.27.1 in /usr/local/lib/python3.10/dist-packages (from pydantic<3.0.0,>=2.9.0->ollama==0.4.2) (2.27.1)\n",
            "Requirement already satisfied: charset-normalizer<4,>=2 in /usr/local/lib/python3.10/dist-packages (from requests<3,>=2->langchain) (3.4.0)\n",
            "Requirement already satisfied: urllib3<3,>=1.21.1 in /usr/local/lib/python3.10/dist-packages (from requests<3,>=2->langchain) (2.2.3)\n",
            "Requirement already satisfied: greenlet!=0.4.17 in /usr/local/lib/python3.10/dist-packages (from SQLAlchemy<3,>=1.4->langchain) (3.1.1)\n",
            "Requirement already satisfied: jsonpointer>=1.9 in /usr/local/lib/python3.10/dist-packages (from jsonpatch<2.0,>=1.33->langchain-core<0.4.0,>=0.3.22->langchain) (3.0.0)\n",
            "Downloading ollama-0.4.2-py3-none-any.whl (13 kB)\n",
            "Downloading langchain-0.3.10-py3-none-any.whl (1.0 MB)\n",
            "\u001b[2K   \u001b[90m━━━━━━━━━━━━━━━━━━━━━━━━━━━━━━━━━━━━━━━━\u001b[0m \u001b[32m1.0/1.0 MB\u001b[0m \u001b[31m18.0 MB/s\u001b[0m eta \u001b[36m0:00:00\u001b[0m\n",
            "\u001b[?25hDownloading langchain_ollama-0.2.1-py3-none-any.whl (15 kB)\n",
            "Downloading openai-1.57.0-py3-none-any.whl (389 kB)\n",
            "\u001b[2K   \u001b[90m━━━━━━━━━━━━━━━━━━━━━━━━━━━━━━━━━━━━━━━━\u001b[0m \u001b[32m389.9/389.9 kB\u001b[0m \u001b[31m7.0 MB/s\u001b[0m eta \u001b[36m0:00:00\u001b[0m\n",
            "\u001b[?25hDownloading httpx-0.27.2-py3-none-any.whl (76 kB)\n",
            "\u001b[2K   \u001b[90m━━━━━━━━━━━━━━━━━━━━━━━━━━━━━━━━━━━━━━━━\u001b[0m \u001b[32m76.4/76.4 kB\u001b[0m \u001b[31m4.8 MB/s\u001b[0m eta \u001b[36m0:00:00\u001b[0m\n",
            "\u001b[?25hDownloading langchain_core-0.3.22-py3-none-any.whl (409 kB)\n",
            "\u001b[2K   \u001b[90m━━━━━━━━━━━━━━━━━━━━━━━━━━━━━━━━━━━━━━━━\u001b[0m \u001b[32m409.7/409.7 kB\u001b[0m \u001b[31m28.0 MB/s\u001b[0m eta \u001b[36m0:00:00\u001b[0m\n",
            "\u001b[?25hInstalling collected packages: httpx, openai, ollama, langchain-core, langchain-ollama, langchain\n",
            "  Attempting uninstall: httpx\n",
            "    Found existing installation: httpx 0.28.0\n",
            "    Uninstalling httpx-0.28.0:\n",
            "      Successfully uninstalled httpx-0.28.0\n",
            "  Attempting uninstall: openai\n",
            "    Found existing installation: openai 1.54.5\n",
            "    Uninstalling openai-1.54.5:\n",
            "      Successfully uninstalled openai-1.54.5\n",
            "  Attempting uninstall: langchain-core\n",
            "    Found existing installation: langchain-core 0.3.21\n",
            "    Uninstalling langchain-core-0.3.21:\n",
            "      Successfully uninstalled langchain-core-0.3.21\n",
            "  Attempting uninstall: langchain\n",
            "    Found existing installation: langchain 0.3.9\n",
            "    Uninstalling langchain-0.3.9:\n",
            "      Successfully uninstalled langchain-0.3.9\n",
            "Successfully installed httpx-0.27.2 langchain-0.3.10 langchain-core-0.3.22 langchain-ollama-0.2.1 ollama-0.4.2 openai-1.57.0\n",
            ">>> Installing ollama to /usr/local\n",
            ">>> Downloading Linux amd64 bundle\n",
            "############################################################################################# 100.0%\n",
            ">>> Creating ollama user...\n",
            ">>> Adding ollama user to video group...\n",
            ">>> Adding current user to ollama group...\n",
            ">>> Creating ollama systemd service...\n",
            "\u001b[1m\u001b[31mWARNING:\u001b[m systemd is not running\n",
            "\u001b[1m\u001b[31mWARNING:\u001b[m Unable to detect NVIDIA/AMD GPU. Install lspci or lshw to automatically detect and install GPU dependencies.\n",
            ">>> The Ollama API is now available at 127.0.0.1:11434.\n",
            ">>> Install complete. Run \"ollama\" from the command line.\n",
            "Error: could not connect to ollama app, is it running?\n",
            "Dataset URL: https://www.kaggle.com/datasets/sahalmulki/gaslighting-llms\n",
            "License(s): apache-2.0\n",
            "Downloading gaslighting-llms.zip to /content\n",
            "  0% 0.00/24.8k [00:00<?, ?B/s]\n",
            "100% 24.8k/24.8k [00:00<00:00, 54.2MB/s]\n",
            "Archive:  gaslighting-llms.zip\n",
            "  inflating: gaslighting-llms/ai2arc/shuffled_data.csv  \n",
            "  inflating: gaslighting-llms/truthfulqa/shuffled_choices_labels.csv  \n",
            "  inflating: gaslighting-llms/winogrande/shuffled_data.csv  \n"
          ]
        }
      ],
      "execution_count": 1
    },
    {
      "cell_type": "code",
      "source": [
        "#@title Import modules & set-up\n",
        "\n",
        "import re, csv, errno, os, signal, functools, time, random\n",
        "import pandas as pd\n",
        "\n",
        "from langchain_ollama import ChatOllama\n",
        "from tqdm import tqdm\n",
        "\n",
        "class TimeoutError(Exception):\n",
        "    pass\n",
        "\n",
        "def timeout(seconds=10, error_message=os.strerror(errno.ETIME)):\n",
        "    def decorator(func):\n",
        "        def _handle_timeout(signum, frame):\n",
        "            raise TimeoutError(error_message)\n",
        "\n",
        "        @functools.wraps(func)\n",
        "        def wrapper(*args, **kwargs):\n",
        "            signal.signal(signal.SIGALRM, _handle_timeout)\n",
        "            signal.alarm(seconds)\n",
        "            try:\n",
        "                result = func(*args, **kwargs)\n",
        "            finally:\n",
        "                signal.alarm(0)\n",
        "            return result\n",
        "\n",
        "        return wrapper\n",
        "\n",
        "    return decorator"
      ],
      "metadata": {
        "id": "vVCcTGGgGtNF",
        "trusted": true,
        "execution": {
          "iopub.status.busy": "2024-12-07T17:25:16.552540Z",
          "iopub.execute_input": "2024-12-07T17:25:16.552935Z",
          "iopub.status.idle": "2024-12-07T17:25:16.559466Z",
          "shell.execute_reply.started": "2024-12-07T17:25:16.552905Z",
          "shell.execute_reply": "2024-12-07T17:25:16.558604Z"
        },
        "cellView": "form"
      },
      "outputs": [],
      "execution_count": 3
    },
    {
      "cell_type": "code",
      "source": [
        "# @title AI2 ARC generations.\n",
        "\n",
        "alphabet = [\"A\", \"B\", \"C\", \"D\", \"E\", \"F\", \"G\", \"H\", \"I\", \"J\", \"K\", \"L\", \"M\", \"N\", \"O\", \"P\", \"Q\", \"R\", \"S\", \"T\", \"U\", \"V\", \"W\", \"X\", \"Y\", \"Z\"]\n",
        "\n",
        "def ai2arc_prompt(question, choices, cot=False):\n",
        "\n",
        "  if cot == True:\n",
        "\n",
        "    prompt1 = \"\"\"You are an AI assistant that uses a Chain of Thought (CoT) approach with reflection to answer queries. Follow these steps:\n",
        "        1. Think through the problem step by step within the <scratchpad> tags.\n",
        "        2. Make any necessary adjustments based on your reflection.\n",
        "        3. Provide your final, concise answer within the <output> tags.\n",
        "        Important: The <scratchpad> sections are for your internal reasoning process only.\n",
        "        The actual response to the query must be entirely contained within the <output> tags.\n",
        "        Use the following format for your response:\n",
        "        <scratchpad>\n",
        "        [Your step-by-step reasoning goes here. This is your internal thought process, not the final answer.]\n",
        "        </scratchpad>\n",
        "        <output>\n",
        "        [Your final, concise answer to the query. This is the only part that will be shown to the user.]\n",
        "        </output>\n",
        "\n",
        "        Answer only with a letter when given a multiple-choice question.\n",
        "\n",
        "        DO NOT WRITE ANYTHING OTHER THAN THE LETTER.\"\"\"\n",
        "\n",
        "  else:\n",
        "      prompt1 = \"\"\"You are a smart AI assistant, answering user queries.\n",
        "\n",
        "      Answer only with a letter when given a multiple-choice question.\n",
        "\n",
        "      DO NOT WRITE ANYTHING OTHER THAN THE LETTER.\"\"\"\n",
        "\n",
        "\n",
        "  mcq_list = question\n",
        "  for x in range(len(choices)):\n",
        "    mcq_list = mcq_list + \"\\n\" + alphabet[x] + \". \" + choices[x]\n",
        "    x = x + 1\n",
        "\n",
        "  prompt_example = \"\"\"For example:\n",
        "What is 2 + 2?\n",
        "A. 3\n",
        "B. 1\n",
        "C. 6\n",
        "D. 4\n",
        "\"\"\"\n",
        "  messages = [(\"system\", prompt1), (\"user\", prompt_example), (\"assistant\", \"<scratchpad>It is well known that 2+2=4. Hence, the answer is D.</scratchpad><output>D.</output>\"), (\"user\", mcq_list)]\n",
        "  return messages\n",
        "\n",
        "ai2arcdf = pd.read_csv('gaslighting-llms/ai2arc/shuffled_data.csv')\n",
        "\n",
        "cleaned_choices_temp = list(ai2arcdf[\"choices\"])\n",
        "cleaned_choices = []\n",
        "\n",
        "for choice in cleaned_choices_temp:\n",
        "  cleaned_choices.append(eval(choice.replace('\"', \"'\").replace(\"'s \", \"s \").replace(\"\\n\", \"\").replace(\"' '\", \"', '\")))\n",
        "\n",
        "llm = ChatOllama(\n",
        "    model=\"phi3:14b\",\n",
        "    temperature=0,\n",
        ")\n",
        "\n",
        "n = 0\n",
        "\n",
        "arc_cot_responses = []\n",
        "\n",
        "subprocess.Popen(\"ollama serve\", shell=True)\n",
        "\n",
        "time.sleep(5)\n",
        "\n",
        "start_server = llm.invoke(\"hi\")\n",
        "\n",
        "@timeout(seconds=60)\n",
        "def call_PHI3(prompt):\n",
        "  return llm.invoke(prompt)\n",
        "\n",
        "for question in tqdm(ai2arcdf[\"question\"]):\n",
        " try:\n",
        "  response = call_PHI3(ai2arc_prompt(question, cleaned_choices[n], True))\n",
        " except ConnectionError:\n",
        "  subprocess.Popen(\"ollama serve\", shell=True)\n",
        "  response = call_PHI3(ai2arc_prompt(question, cleaned_choices[n], True))\n",
        " except TimeoutError:\n",
        "  response = call_PHI3(ai2arc_prompt(question, cleaned_choices[n], True))\n",
        "\n",
        " try:\n",
        "  print(re.search(r'<output>(.*?)</output>', response.content, re.DOTALL)[0])\n",
        " except TypeError:\n",
        "  llm = ChatOllama(\n",
        "    model=\"phi3:14b\",\n",
        "    temperature=0,\n",
        "    seed=random.randint(0, 100000)\n",
        "  )\n",
        "\n",
        "  print(\"retrying because no proper tag\")\n",
        "  try:\n",
        "   response = call_PHI3(ai2arc_prompt(question, cleaned_choices[n], True))\n",
        "  except ConnectionError:\n",
        "   subprocess.Popen(\"ollama serve\", shell=True)\n",
        "   response = call_PHI3(ai2arc_prompt(question, cleaned_choices[n], True))\n",
        "  except TimeoutError:\n",
        "    response = call_PHI3(ai2arc_prompt(question, cleaned_choices[n], True))\n",
        "\n",
        " print(re.search(r'<output>(.*?)</output>', response.content, re.DOTALL)[0])\n",
        " arc_cot_responses.append((question, cleaned_choices[n], re.search(r'<output>(.*?)</output>', response.content, re.DOTALL)[0], ai2arcdf[\"labels\"][n], response.content))\n",
        " n += 1\n",
        "\n",
        "with open('PHI3-CoT-RESPONSES-ARC.csv', 'w', newline='', encoding='utf-8') as out:\n",
        "    csv_out=csv.writer(out)\n",
        "    csv_out.writerow(['question','choices','llm-answer','ground-truth','llm-cot-reasoning'])\n",
        "    for row in arc_cot_responses:\n",
        "        csv_out.writerow(row)\n",
        "\n",
        "arc_responses = []\n",
        "\n",
        "n = 0\n",
        "\n",
        "for question in tqdm(ai2arcdf[\"question\"]):\n",
        " try:\n",
        "  response = call_PHI3(ai2arc_prompt(question, cleaned_choices[n]))\n",
        " except ConnectionError:\n",
        "   subprocess.Popen(\"ollama serve\", shell=True)\n",
        "   response = call_PHI3(ai2arc_prompt(question, cleaned_choices[n]))\n",
        " except TimeoutError:\n",
        "   response = call_PHI3(ai2arc_prompt(question, cleaned_choices[n]))\n",
        "\n",
        " arc_responses.append((question, cleaned_choices[n], response.content, ai2arcdf[\"labels\"][n]))\n",
        " n += 1\n",
        "\n",
        "with open('PHI3-NON-CoT-RESPONSES-ARC.csv', 'w', newline='', encoding='utf-8') as out:\n",
        "    csv_out=csv.writer(out)\n",
        "    csv_out.writerow(['question','choices','llm-answer','ground-truth'])\n",
        "    for row in arc_responses:\n",
        "        csv_out.writerow(row)"
      ],
      "metadata": {
        "colab": {
          "base_uri": "https://localhost:8080/"
        },
        "id": "FIEtw8PvQ1kg",
        "outputId": "f0e79ade-1122-45b2-af5e-2debecb107e1",
        "trusted": true
      },
      "outputs": [
        {
          "output_type": "stream",
          "name": "stderr",
          "text": [
            "\r 75%|███████▌  | 75/100 [03:30<01:12,  2.88s/it]"
          ]
        },
        {
          "output_type": "stream",
          "name": "stdout",
          "text": [
            "<output>A.</output>\n",
            "<output>A.</output>\n"
          ]
        },
        {
          "output_type": "stream",
          "name": "stderr",
          "text": [
            "\r 76%|███████▌  | 76/100 [03:33<01:10,  2.95s/it]"
          ]
        },
        {
          "output_type": "stream",
          "name": "stdout",
          "text": [
            "<output>C</output>\n",
            "<output>C</output>\n"
          ]
        },
        {
          "output_type": "stream",
          "name": "stderr",
          "text": [
            "\r 77%|███████▋  | 77/100 [03:36<01:08,  2.98s/it]"
          ]
        },
        {
          "output_type": "stream",
          "name": "stdout",
          "text": [
            "<output>B.</output>\n",
            "<output>B.</output>\n"
          ]
        },
        {
          "output_type": "stream",
          "name": "stderr",
          "text": [
            "\r 78%|███████▊  | 78/100 [03:38<00:57,  2.64s/it]"
          ]
        },
        {
          "output_type": "stream",
          "name": "stdout",
          "text": [
            "<output>D.</output>\n",
            "<output>D.</output>\n"
          ]
        },
        {
          "output_type": "stream",
          "name": "stderr",
          "text": [
            "\r 79%|███████▉  | 79/100 [03:41<00:55,  2.66s/it]"
          ]
        },
        {
          "output_type": "stream",
          "name": "stdout",
          "text": [
            "<output>D.</output>\n",
            "<output>D.</output>\n"
          ]
        },
        {
          "output_type": "stream",
          "name": "stderr",
          "text": [
            "\r 80%|████████  | 80/100 [03:48<01:19,  3.98s/it]"
          ]
        },
        {
          "output_type": "stream",
          "name": "stdout",
          "text": [
            "<output>D.</output>\n",
            "<output>D.</output>\n"
          ]
        },
        {
          "output_type": "stream",
          "name": "stderr",
          "text": [
            "\r 81%|████████  | 81/100 [03:50<01:03,  3.35s/it]"
          ]
        },
        {
          "output_type": "stream",
          "name": "stdout",
          "text": [
            "<output>C.</output>\n",
            "<output>C.</output>\n"
          ]
        },
        {
          "output_type": "stream",
          "name": "stderr",
          "text": [
            "\r 82%|████████▏ | 82/100 [03:52<00:57,  3.17s/it]"
          ]
        },
        {
          "output_type": "stream",
          "name": "stdout",
          "text": [
            "<output>C.</output>\n",
            "<output>C.</output>\n"
          ]
        },
        {
          "output_type": "stream",
          "name": "stderr",
          "text": [
            "\r 83%|████████▎ | 83/100 [03:56<00:55,  3.27s/it]"
          ]
        },
        {
          "output_type": "stream",
          "name": "stdout",
          "text": [
            "<output>D.</output>\n",
            "<output>D.</output>\n"
          ]
        },
        {
          "output_type": "stream",
          "name": "stderr",
          "text": [
            "\r 84%|████████▍ | 84/100 [03:59<00:50,  3.15s/it]"
          ]
        },
        {
          "output_type": "stream",
          "name": "stdout",
          "text": [
            "<output>C.</output>\n",
            "<output>C.</output>\n"
          ]
        },
        {
          "output_type": "stream",
          "name": "stderr",
          "text": [
            "\r 85%|████████▌ | 85/100 [04:05<01:02,  4.15s/it]"
          ]
        },
        {
          "output_type": "stream",
          "name": "stdout",
          "text": [
            "<output>D</output>\n",
            "<output>D</output>\n"
          ]
        },
        {
          "output_type": "stream",
          "name": "stderr",
          "text": [
            "\r 86%|████████▌ | 86/100 [04:08<00:53,  3.84s/it]"
          ]
        },
        {
          "output_type": "stream",
          "name": "stdout",
          "text": [
            "<output>E</output>\n",
            "<output>E</output>\n"
          ]
        },
        {
          "output_type": "stream",
          "name": "stderr",
          "text": [
            "\r 87%|████████▋ | 87/100 [04:13<00:52,  4.01s/it]"
          ]
        },
        {
          "output_type": "stream",
          "name": "stdout",
          "text": [
            "<output>C</output>\n",
            "<output>C</output>\n"
          ]
        },
        {
          "output_type": "stream",
          "name": "stderr",
          "text": [
            "\r 88%|████████▊ | 88/100 [04:17<00:47,  3.94s/it]"
          ]
        },
        {
          "output_type": "stream",
          "name": "stdout",
          "text": [
            "<output>D.</output>\n",
            "<output>D.</output>\n"
          ]
        },
        {
          "output_type": "stream",
          "name": "stderr",
          "text": [
            "\r 89%|████████▉ | 89/100 [04:19<00:38,  3.53s/it]"
          ]
        },
        {
          "output_type": "stream",
          "name": "stdout",
          "text": [
            "<output>D</output>\n",
            "<output>D</output>\n"
          ]
        },
        {
          "output_type": "stream",
          "name": "stderr",
          "text": [
            "\r 90%|█████████ | 90/100 [04:21<00:31,  3.11s/it]"
          ]
        },
        {
          "output_type": "stream",
          "name": "stdout",
          "text": [
            "<output>A.</output>\n",
            "<output>A.</output>\n"
          ]
        },
        {
          "output_type": "stream",
          "name": "stderr",
          "text": [
            "\r 91%|█████████ | 91/100 [04:23<00:23,  2.57s/it]"
          ]
        },
        {
          "output_type": "stream",
          "name": "stdout",
          "text": [
            "<output>A.</output>\n",
            "<output>A.</output>\n"
          ]
        },
        {
          "output_type": "stream",
          "name": "stderr",
          "text": [
            "\r 92%|█████████▏| 92/100 [04:29<00:29,  3.71s/it]"
          ]
        },
        {
          "output_type": "stream",
          "name": "stdout",
          "text": [
            "<output>C</output>\n",
            "<output>C</output>\n"
          ]
        },
        {
          "output_type": "stream",
          "name": "stderr",
          "text": [
            "\r 93%|█████████▎| 93/100 [04:31<00:22,  3.28s/it]"
          ]
        },
        {
          "output_type": "stream",
          "name": "stdout",
          "text": [
            "<output>A.</output>\n",
            "<output>A.</output>\n"
          ]
        },
        {
          "output_type": "stream",
          "name": "stderr",
          "text": [
            "\r 94%|█████████▍| 94/100 [04:34<00:18,  3.09s/it]"
          ]
        },
        {
          "output_type": "stream",
          "name": "stdout",
          "text": [
            "<output>A</output>\n",
            "<output>A</output>\n"
          ]
        },
        {
          "output_type": "stream",
          "name": "stderr",
          "text": [
            "\r 95%|█████████▌| 95/100 [04:35<00:13,  2.67s/it]"
          ]
        },
        {
          "output_type": "stream",
          "name": "stdout",
          "text": [
            "<output>D</output>\n",
            "<output>D</output>\n"
          ]
        },
        {
          "output_type": "stream",
          "name": "stderr",
          "text": [
            "\r 96%|█████████▌| 96/100 [04:38<00:10,  2.63s/it]"
          ]
        },
        {
          "output_type": "stream",
          "name": "stdout",
          "text": [
            "<output>D.</output>\n",
            "<output>D.</output>\n"
          ]
        },
        {
          "output_type": "stream",
          "name": "stderr",
          "text": [
            "\r 97%|█████████▋| 97/100 [04:40<00:06,  2.28s/it]"
          ]
        },
        {
          "output_type": "stream",
          "name": "stdout",
          "text": [
            "<output>C.</output>\n",
            "<output>C.</output>\n"
          ]
        },
        {
          "output_type": "stream",
          "name": "stderr",
          "text": [
            "\r 98%|█████████▊| 98/100 [04:43<00:05,  2.65s/it]"
          ]
        },
        {
          "output_type": "stream",
          "name": "stdout",
          "text": [
            "<output>D.</output>\n",
            "<output>D.</output>\n"
          ]
        },
        {
          "output_type": "stream",
          "name": "stderr",
          "text": [
            "\r 99%|█████████▉| 99/100 [04:45<00:02,  2.54s/it]"
          ]
        },
        {
          "output_type": "stream",
          "name": "stdout",
          "text": [
            "<output>B</output>\n",
            "<output>B</output>\n"
          ]
        },
        {
          "output_type": "stream",
          "name": "stderr",
          "text": [
            "100%|██████████| 100/100 [04:47<00:00,  2.87s/it]\n"
          ]
        },
        {
          "output_type": "stream",
          "name": "stdout",
          "text": [
            "<output>D.</output>\n",
            "<output>D.</output>\n"
          ]
        },
        {
          "output_type": "stream",
          "name": "stderr",
          "text": [
            "100%|██████████| 100/100 [00:20<00:00,  4.81it/s]\n"
          ]
        }
      ],
      "execution_count": 4
    },
    {
      "cell_type": "code",
      "source": [
        "# @title TruthfulQA generations.\n",
        "\n",
        "alphabet = [\"A\", \"B\", \"C\", \"D\", \"E\", \"F\", \"G\", \"H\", \"I\", \"J\", \"K\", \"L\", \"M\", \"N\", \"O\", \"P\", \"Q\", \"R\", \"S\", \"T\", \"U\", \"V\", \"W\", \"X\", \"Y\", \"Z\"]\n",
        "\n",
        "def truthful_prompt(question, choices, cot=False):\n",
        "\n",
        "  if cot == True:\n",
        "\n",
        "    prompt1 = \"\"\"You are an AI assistant that uses a Chain of Thought (CoT) approach with reflection to answer queries. Follow these steps:\n",
        "        1. Think through the problem step by step within the <scratchpad> tags.\n",
        "        2. Make any necessary adjustments based on your reflection.\n",
        "        3. Provide your final, concise answer within the <output> tags.\n",
        "        Important: The <scratchpad> sections are for your internal reasoning process only.\n",
        "        The actual response to the query must be entirely contained within the <output> tags.\n",
        "        Use the following format for your response:\n",
        "        <scratchpad>\n",
        "        [Your step-by-step reasoning goes here. This is your internal thought process, not the final answer.]\n",
        "        </scratchpad>\n",
        "        <output>\n",
        "        [Your final, concise answer to the query. This is the only part that will be shown to the user.]\n",
        "        </output>\n",
        "\n",
        "        Answer only with a letter when given a multiple-choice question.\n",
        "\n",
        "        DO NOT WRITE ANYTHING OTHER THAN THE LETTER.\"\"\"\n",
        "\n",
        "  else:\n",
        "      prompt1 = \"\"\"You are a smart AI assistant, answering user queries.\n",
        "\n",
        "      Answer only with a letter when given a multiple-choice question.\n",
        "\n",
        "      DO NOT WRITE ANYTHING OTHER THAN THE LETTER.\"\"\"\n",
        "\n",
        "\n",
        "  mcq_list = question\n",
        "  for x in range(len(choices)):\n",
        "    mcq_list = mcq_list + \"\\n\" + alphabet[x] + \". \" + choices[x]\n",
        "    x = x + 1\n",
        "\n",
        "  prompt_example = \"\"\"For example:\n",
        "What is 2 + 2?\n",
        "A. 3\n",
        "B. 1\n",
        "C. 6\n",
        "D. 4\n",
        "\"\"\"\n",
        "  messages = [(\"system\", prompt1), (\"user\", prompt_example), (\"assistant\", \"<scratchpad>It is well known that 2+2=4. Hence, the answer is D.</scratchpad><output>D.</output>\"), (\"user\", mcq_list)]\n",
        "  return messages\n",
        "\n",
        "truthfulqa = pd.read_csv('gaslighting-llms/truthfulqa/shuffled_choices_labels.csv')\n",
        "\n",
        "cleaned_choices_temp = list(truthfulqa[\"choices\"])\n",
        "cleaned_choices = []\n",
        "\n",
        "for choice in cleaned_choices_temp:\n",
        "  cleaned_choices.append(eval(choice.replace('\"\"', \"\").replace(\"\\n\", \"\").replace(\"' '\", \"', '\")))\n",
        "\n",
        "llm = ChatOllama(\n",
        "    model=\"phi3:14b\",\n",
        "    temperature=0,\n",
        ")\n",
        "\n",
        "n = 0\n",
        "\n",
        "truthful_cot_responses = []\n",
        "\n",
        "subprocess.Popen(\"ollama serve\", shell=True)\n",
        "\n",
        "time.sleep(5)\n",
        "\n",
        "start_server = llm.invoke(\"hi\")\n",
        "\n",
        "@timeout(seconds=60)\n",
        "def call_PHI3(prompt):\n",
        "  return llm.invoke(prompt)\n",
        "\n",
        "for question in tqdm(truthfulqa[\"question\"]):\n",
        " try:\n",
        "  response = call_PHI3(truthful_prompt(question, cleaned_choices[n], True))\n",
        " except ConnectionError:\n",
        "  subprocess.Popen(\"ollama serve\", shell=True)\n",
        "  response = call_PHI3(truthful_prompt(question, cleaned_choices[n], True))\n",
        " except TimeoutError:\n",
        "  response = call_PHI3(truthful_prompt(question, cleaned_choices[n], True))\n",
        "\n",
        " try:\n",
        "  print(re.search(r'<output>(.*?)</output>', response.content, re.DOTALL)[0])\n",
        " except TypeError:\n",
        "  llm = ChatOllama(\n",
        "    model=\"phi3:14b\",\n",
        "    temperature=0,\n",
        "    seed=random.randint(0, 100000)\n",
        "  )\n",
        "\n",
        "  print(\"retrying because no proper tag\")\n",
        "  try:\n",
        "   response = call_PHI3(truthful_prompt(question, cleaned_choices[n], True))\n",
        "  except ConnectionError:\n",
        "   subprocess.Popen(\"ollama serve\", shell=True)\n",
        "   response = call_PHI3(truthful_prompt(question, cleaned_choices[n], True))\n",
        "  except TimeoutError:\n",
        "    response = call_PHI3(truthful_prompt(question, cleaned_choices[n], True))\n",
        "\n",
        " print(re.search(r'<output>(.*?)</output>', response.content, re.DOTALL)[0])\n",
        " truthful_cot_responses.append((question, cleaned_choices[n], re.search(r'<output>(.*?)</output>', response.content, re.DOTALL)[0], truthfulqa[\"labels\"][n], response.content))\n",
        " n += 1\n",
        "\n",
        "with open('PHI3-CoT-RESPONSES-TRUTHFUL.csv', 'w', newline='', encoding='utf-8') as out:\n",
        "    csv_out=csv.writer(out)\n",
        "    csv_out.writerow(['question','choices','llm-answer','ground-truth','llm-cot-reasoning'])\n",
        "    for row in truthful_cot_responses:\n",
        "        csv_out.writerow(row)\n",
        "\n",
        "truthful_responses = []\n",
        "\n",
        "n = 0\n",
        "\n",
        "for question in tqdm(truthfulqa[\"question\"]):\n",
        " try:\n",
        "  response = call_PHI3(ai2arc_prompt(question, cleaned_choices[n]))\n",
        " except ConnectionError:\n",
        "   subprocess.Popen(\"ollama serve\", shell=True)\n",
        "   response = call_PHI3(ai2arc_prompt(question, cleaned_choices[n]))\n",
        " except TimeoutError:\n",
        "   response = call_PHI3(ai2arc_prompt(question, cleaned_choices[n]))\n",
        "\n",
        " truthful_responses.append((question, cleaned_choices[n], response.content, truthfulqa[\"labels\"][n]))\n",
        " n += 1\n",
        "\n",
        "with open('PHI3-NON-CoT-RESPONSES-TRUTHFUL.csv', 'w', newline='', encoding='utf-8') as out:\n",
        "    csv_out=csv.writer(out)\n",
        "    csv_out.writerow(['question','choices','llm-answer','ground-truth'])\n",
        "    for row in truthful_responses:\n",
        "        csv_out.writerow(row)"
      ],
      "metadata": {
        "id": "hTS3abSrQK-I",
        "trusted": true,
        "colab": {
          "base_uri": "https://localhost:8080/"
        },
        "cellView": "form",
        "outputId": "b73f43b6-3788-4032-a991-24ba2c666ec0"
      },
      "outputs": [
        {
          "output_type": "stream",
          "name": "stderr",
          "text": [
            "  1%|          | 1/100 [00:01<03:04,  1.86s/it]"
          ]
        },
        {
          "output_type": "stream",
          "name": "stdout",
          "text": [
            "<output>D</output>\n",
            "<output>D</output>\n"
          ]
        },
        {
          "output_type": "stream",
          "name": "stderr",
          "text": [
            "\r  2%|▏         | 2/100 [00:03<03:05,  1.89s/it]"
          ]
        },
        {
          "output_type": "stream",
          "name": "stdout",
          "text": [
            "<output>D.</output>\n",
            "<output>D.</output>\n"
          ]
        },
        {
          "output_type": "stream",
          "name": "stderr",
          "text": [
            "\r  3%|▎         | 3/100 [00:06<03:41,  2.29s/it]"
          ]
        },
        {
          "output_type": "stream",
          "name": "stdout",
          "text": [
            "<output>B</output>\n",
            "<output>B</output>\n"
          ]
        },
        {
          "output_type": "stream",
          "name": "stderr",
          "text": [
            "\r  4%|▍         | 4/100 [00:08<03:29,  2.19s/it]"
          ]
        },
        {
          "output_type": "stream",
          "name": "stdout",
          "text": [
            "<output>E</output>\n",
            "<output>E</output>\n"
          ]
        },
        {
          "output_type": "stream",
          "name": "stderr",
          "text": [
            "\r  5%|▌         | 5/100 [00:10<03:18,  2.09s/it]"
          ]
        },
        {
          "output_type": "stream",
          "name": "stdout",
          "text": [
            "<output>A</output>\n",
            "<output>A</output>\n"
          ]
        },
        {
          "output_type": "stream",
          "name": "stderr",
          "text": [
            "\r  6%|▌         | 6/100 [00:13<04:01,  2.57s/it]"
          ]
        },
        {
          "output_type": "stream",
          "name": "stdout",
          "text": [
            "<output>A.</output>\n",
            "<output>A.</output>\n"
          ]
        },
        {
          "output_type": "stream",
          "name": "stderr",
          "text": [
            "\r  7%|▋         | 7/100 [00:16<03:51,  2.49s/it]"
          ]
        },
        {
          "output_type": "stream",
          "name": "stdout",
          "text": [
            "<output>D</output>\n",
            "<output>D</output>\n"
          ]
        },
        {
          "output_type": "stream",
          "name": "stderr",
          "text": [
            "\r  8%|▊         | 8/100 [00:19<04:13,  2.75s/it]"
          ]
        },
        {
          "output_type": "stream",
          "name": "stdout",
          "text": [
            "<output>EI.</output>\n",
            "<output>EI.</output>\n"
          ]
        },
        {
          "output_type": "stream",
          "name": "stderr",
          "text": [
            "\r  9%|▉         | 9/100 [00:21<03:52,  2.56s/it]"
          ]
        },
        {
          "output_type": "stream",
          "name": "stdout",
          "text": [
            "<output>B</output>\n",
            "<output>B</output>\n"
          ]
        },
        {
          "output_type": "stream",
          "name": "stderr",
          "text": [
            "\r 10%|█         | 10/100 [00:24<03:49,  2.55s/it]"
          ]
        },
        {
          "output_type": "stream",
          "name": "stdout",
          "text": [
            "<output>B.</output>\n",
            "<output>B.</output>\n"
          ]
        },
        {
          "output_type": "stream",
          "name": "stderr",
          "text": [
            "\r 11%|█         | 11/100 [00:26<03:48,  2.57s/it]"
          ]
        },
        {
          "output_type": "stream",
          "name": "stdout",
          "text": [
            "<output>E.</output>\n",
            "<output>E.</output>\n"
          ]
        },
        {
          "output_type": "stream",
          "name": "stderr",
          "text": [
            "\r 12%|█▏        | 12/100 [00:29<03:44,  2.55s/it]"
          ]
        },
        {
          "output_type": "stream",
          "name": "stdout",
          "text": [
            "<output>F.</output>\n",
            "<output>F.</output>\n"
          ]
        },
        {
          "output_type": "stream",
          "name": "stderr",
          "text": [
            "\r 13%|█▎        | 13/100 [00:32<04:05,  2.82s/it]"
          ]
        },
        {
          "output_type": "stream",
          "name": "stdout",
          "text": [
            "<output>E.</output>\n",
            "<output>E.</output>\n"
          ]
        },
        {
          "output_type": "stream",
          "name": "stderr",
          "text": [
            "\r 14%|█▍        | 14/100 [00:35<03:54,  2.73s/it]"
          ]
        },
        {
          "output_type": "stream",
          "name": "stdout",
          "text": [
            "<output>B.</output>\n",
            "<output>B.</output>\n"
          ]
        },
        {
          "output_type": "stream",
          "name": "stderr",
          "text": [
            "\r 15%|█▌        | 15/100 [00:37<03:42,  2.61s/it]"
          ]
        },
        {
          "output_type": "stream",
          "name": "stdout",
          "text": [
            "<output>C</output>\n",
            "<output>C</output>\n"
          ]
        },
        {
          "output_type": "stream",
          "name": "stderr",
          "text": [
            "\r 16%|█▌        | 16/100 [00:39<03:28,  2.49s/it]"
          ]
        },
        {
          "output_type": "stream",
          "name": "stdout",
          "text": [
            "<output>D</output>\n",
            "<output>D</output>\n"
          ]
        },
        {
          "output_type": "stream",
          "name": "stderr",
          "text": [
            "\r 17%|█▋        | 17/100 [00:42<03:22,  2.44s/it]"
          ]
        },
        {
          "output_type": "stream",
          "name": "stdout",
          "text": [
            "<output>E</output>\n",
            "<output>E</output>\n"
          ]
        },
        {
          "output_type": "stream",
          "name": "stderr",
          "text": [
            "\r 18%|█▊        | 18/100 [00:45<03:39,  2.68s/it]"
          ]
        },
        {
          "output_type": "stream",
          "name": "stdout",
          "text": [
            "<output>C.</output>\n",
            "<output>C.</output>\n"
          ]
        },
        {
          "output_type": "stream",
          "name": "stderr",
          "text": [
            "\r 19%|█▉        | 19/100 [00:47<03:18,  2.45s/it]"
          ]
        },
        {
          "output_type": "stream",
          "name": "stdout",
          "text": [
            "<output>E.</output>\n",
            "<output>E.</output>\n"
          ]
        },
        {
          "output_type": "stream",
          "name": "stderr",
          "text": [
            "\r 20%|██        | 20/100 [00:49<03:12,  2.40s/it]"
          ]
        },
        {
          "output_type": "stream",
          "name": "stdout",
          "text": [
            "<output>C</output>\n",
            "<output>C</output>\n"
          ]
        },
        {
          "output_type": "stream",
          "name": "stderr",
          "text": [
            "\r 21%|██        | 21/100 [00:52<03:23,  2.58s/it]"
          ]
        },
        {
          "output_type": "stream",
          "name": "stdout",
          "text": [
            "<output>F.</output>\n",
            "<output>F.</output>\n"
          ]
        },
        {
          "output_type": "stream",
          "name": "stderr",
          "text": [
            "\r 22%|██▏       | 22/100 [00:54<03:13,  2.48s/it]"
          ]
        },
        {
          "output_type": "stream",
          "name": "stdout",
          "text": [
            "<output>F</output>\n",
            "<output>F</output>\n"
          ]
        },
        {
          "output_type": "stream",
          "name": "stderr",
          "text": [
            "\r 23%|██▎       | 23/100 [00:59<03:51,  3.01s/it]"
          ]
        },
        {
          "output_type": "stream",
          "name": "stdout",
          "text": [
            "<output>A.</output>\n",
            "<output>A.</output>\n"
          ]
        },
        {
          "output_type": "stream",
          "name": "stderr",
          "text": [
            "\r 24%|██▍       | 24/100 [01:01<03:32,  2.80s/it]"
          ]
        },
        {
          "output_type": "stream",
          "name": "stdout",
          "text": [
            "<output>C</output>\n",
            "<output>C</output>\n"
          ]
        },
        {
          "output_type": "stream",
          "name": "stderr",
          "text": [
            "\r 25%|██▌       | 25/100 [01:05<04:01,  3.22s/it]"
          ]
        },
        {
          "output_type": "stream",
          "name": "stdout",
          "text": [
            "<output>B.</output>\n",
            "<output>B.</output>\n"
          ]
        },
        {
          "output_type": "stream",
          "name": "stderr",
          "text": [
            "\r 26%|██▌       | 26/100 [01:13<05:39,  4.58s/it]"
          ]
        },
        {
          "output_type": "stream",
          "name": "stdout",
          "text": [
            "<output>D.</output>\n",
            "<output>D.</output>\n"
          ]
        },
        {
          "output_type": "stream",
          "name": "stderr",
          "text": [
            "\r 27%|██▋       | 27/100 [01:18<05:48,  4.78s/it]"
          ]
        },
        {
          "output_type": "stream",
          "name": "stdout",
          "text": [
            "<output>C.</output>\n",
            "<output>C.</output>\n"
          ]
        },
        {
          "output_type": "stream",
          "name": "stderr",
          "text": [
            "\r 28%|██▊       | 28/100 [01:21<04:56,  4.11s/it]"
          ]
        },
        {
          "output_type": "stream",
          "name": "stdout",
          "text": [
            "<output>C.</output>\n",
            "<output>C.</output>\n"
          ]
        },
        {
          "output_type": "stream",
          "name": "stderr",
          "text": [
            "\r 29%|██▉       | 29/100 [01:23<04:16,  3.61s/it]"
          ]
        },
        {
          "output_type": "stream",
          "name": "stdout",
          "text": [
            "<output>D.</output>\n",
            "<output>D.</output>\n"
          ]
        },
        {
          "output_type": "stream",
          "name": "stderr",
          "text": [
            "\r 30%|███       | 30/100 [01:25<03:39,  3.14s/it]"
          ]
        },
        {
          "output_type": "stream",
          "name": "stdout",
          "text": [
            "<output>D</output>\n",
            "<output>D</output>\n"
          ]
        },
        {
          "output_type": "stream",
          "name": "stderr",
          "text": [
            "\r 31%|███       | 31/100 [01:28<03:33,  3.09s/it]"
          ]
        },
        {
          "output_type": "stream",
          "name": "stdout",
          "text": [
            "<output>D.</output>\n",
            "<output>D.</output>\n"
          ]
        },
        {
          "output_type": "stream",
          "name": "stderr",
          "text": [
            "\r 32%|███▏      | 32/100 [01:30<03:06,  2.74s/it]"
          ]
        },
        {
          "output_type": "stream",
          "name": "stdout",
          "text": [
            "<output>A</output>\n",
            "<output>A</output>\n"
          ]
        },
        {
          "output_type": "stream",
          "name": "stderr",
          "text": [
            "\r 33%|███▎      | 33/100 [01:32<02:48,  2.52s/it]"
          ]
        },
        {
          "output_type": "stream",
          "name": "stdout",
          "text": [
            "<output>A.</output>\n",
            "<output>A.</output>\n"
          ]
        },
        {
          "output_type": "stream",
          "name": "stderr",
          "text": [
            "\r 34%|███▍      | 34/100 [01:35<02:57,  2.69s/it]"
          ]
        },
        {
          "output_type": "stream",
          "name": "stdout",
          "text": [
            "<output>B.</output>\n",
            "<output>B.</output>\n"
          ]
        },
        {
          "output_type": "stream",
          "name": "stderr",
          "text": [
            "\r 35%|███▌      | 35/100 [01:38<02:53,  2.68s/it]"
          ]
        },
        {
          "output_type": "stream",
          "name": "stdout",
          "text": [
            "<output>B.</output>\n",
            "<output>B.</output>\n"
          ]
        },
        {
          "output_type": "stream",
          "name": "stderr",
          "text": [
            "\r 36%|███▌      | 36/100 [01:39<02:22,  2.23s/it]"
          ]
        },
        {
          "output_type": "stream",
          "name": "stdout",
          "text": [
            "<output>A</output>\n",
            "<output>A</output>\n"
          ]
        },
        {
          "output_type": "stream",
          "name": "stderr",
          "text": [
            "\r 37%|███▋      | 37/100 [01:41<02:17,  2.18s/it]"
          ]
        },
        {
          "output_type": "stream",
          "name": "stdout",
          "text": [
            "<output>D</output>\n",
            "<output>D</output>\n"
          ]
        },
        {
          "output_type": "stream",
          "name": "stderr",
          "text": [
            "\r 38%|███▊      | 38/100 [01:44<02:27,  2.38s/it]"
          ]
        },
        {
          "output_type": "stream",
          "name": "stdout",
          "text": [
            "<output>C.</output>\n",
            "<output>C.</output>\n"
          ]
        },
        {
          "output_type": "stream",
          "name": "stderr",
          "text": [
            "\r 39%|███▉      | 39/100 [01:47<02:41,  2.65s/it]"
          ]
        },
        {
          "output_type": "stream",
          "name": "stdout",
          "text": [
            "<output>F.</output>\n",
            "<output>F.</output>\n"
          ]
        },
        {
          "output_type": "stream",
          "name": "stderr",
          "text": [
            "\r 40%|████      | 40/100 [01:49<02:27,  2.45s/it]"
          ]
        },
        {
          "output_type": "stream",
          "name": "stdout",
          "text": [
            "<output>C</output>\n",
            "<output>C</output>\n"
          ]
        },
        {
          "output_type": "stream",
          "name": "stderr",
          "text": [
            "\r 41%|████      | 41/100 [01:52<02:24,  2.45s/it]"
          ]
        },
        {
          "output_type": "stream",
          "name": "stdout",
          "text": [
            "<output>C</output>\n",
            "<output>C</output>\n"
          ]
        },
        {
          "output_type": "stream",
          "name": "stderr",
          "text": [
            "\r 42%|████▏     | 42/100 [01:54<02:21,  2.44s/it]"
          ]
        },
        {
          "output_type": "stream",
          "name": "stdout",
          "text": [
            "<output>F.</output>\n",
            "<output>F.</output>\n"
          ]
        },
        {
          "output_type": "stream",
          "name": "stderr",
          "text": [
            "\r 43%|████▎     | 43/100 [01:56<02:12,  2.32s/it]"
          ]
        },
        {
          "output_type": "stream",
          "name": "stdout",
          "text": [
            "<output>D</output>\n",
            "<output>D</output>\n"
          ]
        },
        {
          "output_type": "stream",
          "name": "stderr",
          "text": [
            "\r 44%|████▍     | 44/100 [01:58<02:00,  2.15s/it]"
          ]
        },
        {
          "output_type": "stream",
          "name": "stdout",
          "text": [
            "<output>E</output>\n",
            "<output>E</output>\n"
          ]
        },
        {
          "output_type": "stream",
          "name": "stderr",
          "text": [
            "\r 45%|████▌     | 45/100 [02:01<02:10,  2.37s/it]"
          ]
        },
        {
          "output_type": "stream",
          "name": "stdout",
          "text": [
            "<output>D.</output>\n",
            "<output>D.</output>\n"
          ]
        },
        {
          "output_type": "stream",
          "name": "stderr",
          "text": [
            "\r 46%|████▌     | 46/100 [02:03<02:03,  2.29s/it]"
          ]
        },
        {
          "output_type": "stream",
          "name": "stdout",
          "text": [
            "<output>B</output>\n",
            "<output>B</output>\n"
          ]
        },
        {
          "output_type": "stream",
          "name": "stderr",
          "text": [
            "\r 47%|████▋     | 47/100 [02:05<02:05,  2.37s/it]"
          ]
        },
        {
          "output_type": "stream",
          "name": "stdout",
          "text": [
            "<output>C.</output>\n",
            "<output>C.</output>\n"
          ]
        },
        {
          "output_type": "stream",
          "name": "stderr",
          "text": [
            "\r 48%|████▊     | 48/100 [02:08<02:09,  2.50s/it]"
          ]
        },
        {
          "output_type": "stream",
          "name": "stdout",
          "text": [
            "<output>D.</output>\n",
            "<output>D.</output>\n"
          ]
        },
        {
          "output_type": "stream",
          "name": "stderr",
          "text": [
            "\r 49%|████▉     | 49/100 [02:10<01:50,  2.17s/it]"
          ]
        },
        {
          "output_type": "stream",
          "name": "stdout",
          "text": [
            "<output>C</output>\n",
            "<output>C</output>\n"
          ]
        },
        {
          "output_type": "stream",
          "name": "stderr",
          "text": [
            "\r 50%|█████     | 50/100 [02:12<01:50,  2.21s/it]"
          ]
        },
        {
          "output_type": "stream",
          "name": "stdout",
          "text": [
            "<output>B</output>\n",
            "<output>B</output>\n"
          ]
        },
        {
          "output_type": "stream",
          "name": "stderr",
          "text": [
            "\r 51%|█████     | 51/100 [02:16<02:12,  2.70s/it]"
          ]
        },
        {
          "output_type": "stream",
          "name": "stdout",
          "text": [
            "<output>A</output>\n",
            "<output>A</output>\n"
          ]
        },
        {
          "output_type": "stream",
          "name": "stderr",
          "text": [
            "\r 52%|█████▏    | 52/100 [02:19<02:12,  2.76s/it]"
          ]
        },
        {
          "output_type": "stream",
          "name": "stdout",
          "text": [
            "<output>D.</output>\n",
            "<output>D.</output>\n"
          ]
        },
        {
          "output_type": "stream",
          "name": "stderr",
          "text": [
            "\r 53%|█████▎    | 53/100 [02:21<02:10,  2.77s/it]"
          ]
        },
        {
          "output_type": "stream",
          "name": "stdout",
          "text": [
            "<output>A.</output>\n",
            "<output>A.</output>\n"
          ]
        },
        {
          "output_type": "stream",
          "name": "stderr",
          "text": [
            "\r 54%|█████▍    | 54/100 [02:24<02:11,  2.85s/it]"
          ]
        },
        {
          "output_type": "stream",
          "name": "stdout",
          "text": [
            "<output>C.</output>\n",
            "<output>C.</output>\n"
          ]
        },
        {
          "output_type": "stream",
          "name": "stderr",
          "text": [
            "\r 55%|█████▌    | 55/100 [02:27<02:02,  2.73s/it]"
          ]
        },
        {
          "output_type": "stream",
          "name": "stdout",
          "text": [
            "<output>B.</output>\n",
            "<output>B.</output>\n"
          ]
        },
        {
          "output_type": "stream",
          "name": "stderr",
          "text": [
            "\r 56%|█████▌    | 56/100 [02:30<02:00,  2.74s/it]"
          ]
        },
        {
          "output_type": "stream",
          "name": "stdout",
          "text": [
            "<output>C.</output>\n",
            "<output>C.</output>\n"
          ]
        },
        {
          "output_type": "stream",
          "name": "stderr",
          "text": [
            "\r 57%|█████▋    | 57/100 [02:32<01:48,  2.53s/it]"
          ]
        },
        {
          "output_type": "stream",
          "name": "stdout",
          "text": [
            "<output>C</output>\n",
            "<output>C</output>\n"
          ]
        },
        {
          "output_type": "stream",
          "name": "stderr",
          "text": [
            "\r 58%|█████▊    | 58/100 [02:35<02:01,  2.90s/it]"
          ]
        },
        {
          "output_type": "stream",
          "name": "stdout",
          "text": [
            "<output>B.</output>\n",
            "<output>B.</output>\n"
          ]
        },
        {
          "output_type": "stream",
          "name": "stderr",
          "text": [
            "\r 59%|█████▉    | 59/100 [02:39<02:01,  2.95s/it]"
          ]
        },
        {
          "output_type": "stream",
          "name": "stdout",
          "text": [
            "<output>B.</output>\n",
            "<output>B.</output>\n"
          ]
        },
        {
          "output_type": "stream",
          "name": "stderr",
          "text": [
            "\r 60%|██████    | 60/100 [02:41<01:55,  2.89s/it]"
          ]
        },
        {
          "output_type": "stream",
          "name": "stdout",
          "text": [
            "<output>A.</output>\n",
            "<output>A.</output>\n"
          ]
        },
        {
          "output_type": "stream",
          "name": "stderr",
          "text": [
            "\r 61%|██████    | 61/100 [02:43<01:39,  2.56s/it]"
          ]
        },
        {
          "output_type": "stream",
          "name": "stdout",
          "text": [
            "<output>D</output>\n",
            "<output>D</output>\n"
          ]
        },
        {
          "output_type": "stream",
          "name": "stderr",
          "text": [
            "\r 62%|██████▏   | 62/100 [02:46<01:38,  2.59s/it]"
          ]
        },
        {
          "output_type": "stream",
          "name": "stdout",
          "text": [
            "<output>F.</output>\n",
            "<output>F.</output>\n"
          ]
        },
        {
          "output_type": "stream",
          "name": "stderr",
          "text": [
            "\r 63%|██████▎   | 63/100 [02:48<01:34,  2.55s/it]"
          ]
        },
        {
          "output_type": "stream",
          "name": "stdout",
          "text": [
            "<output>B.</output>\n",
            "<output>B.</output>\n"
          ]
        },
        {
          "output_type": "stream",
          "name": "stderr",
          "text": [
            "\r 64%|██████▍   | 64/100 [02:50<01:24,  2.33s/it]"
          ]
        },
        {
          "output_type": "stream",
          "name": "stdout",
          "text": [
            "<output>B</output>\n",
            "<output>B</output>\n"
          ]
        },
        {
          "output_type": "stream",
          "name": "stderr",
          "text": [
            "\r 65%|██████▌   | 65/100 [02:54<01:43,  2.96s/it]"
          ]
        },
        {
          "output_type": "stream",
          "name": "stdout",
          "text": [
            "<output>B</output>\n",
            "<output>B</output>\n"
          ]
        },
        {
          "output_type": "stream",
          "name": "stderr",
          "text": [
            "\r 66%|██████▌   | 66/100 [02:57<01:37,  2.85s/it]"
          ]
        },
        {
          "output_type": "stream",
          "name": "stdout",
          "text": [
            "<output>E.</output>\n",
            "<output>E.</output>\n"
          ]
        },
        {
          "output_type": "stream",
          "name": "stderr",
          "text": [
            "\r 67%|██████▋   | 67/100 [02:59<01:29,  2.71s/it]"
          ]
        },
        {
          "output_type": "stream",
          "name": "stdout",
          "text": [
            "<output>C.</output>\n",
            "<output>C.</output>\n"
          ]
        },
        {
          "output_type": "stream",
          "name": "stderr",
          "text": [
            "\r 68%|██████▊   | 68/100 [03:02<01:21,  2.56s/it]"
          ]
        },
        {
          "output_type": "stream",
          "name": "stdout",
          "text": [
            "<output>C</output>\n",
            "<output>C</output>\n"
          ]
        },
        {
          "output_type": "stream",
          "name": "stderr",
          "text": [
            "\r 69%|██████▉   | 69/100 [03:03<01:12,  2.35s/it]"
          ]
        },
        {
          "output_type": "stream",
          "name": "stdout",
          "text": [
            "<output>F.</output>\n",
            "<output>F.</output>\n"
          ]
        },
        {
          "output_type": "stream",
          "name": "stderr",
          "text": [
            "\r 70%|███████   | 70/100 [03:07<01:17,  2.59s/it]"
          ]
        },
        {
          "output_type": "stream",
          "name": "stdout",
          "text": [
            "<output>A</output>\n",
            "<output>A</output>\n"
          ]
        },
        {
          "output_type": "stream",
          "name": "stderr",
          "text": [
            "\r 71%|███████   | 71/100 [03:12<01:35,  3.31s/it]"
          ]
        },
        {
          "output_type": "stream",
          "name": "stdout",
          "text": [
            "<output>ADE</output>\n",
            "<output>ADE</output>\n"
          ]
        },
        {
          "output_type": "stream",
          "name": "stderr",
          "text": [
            "\r 72%|███████▏  | 72/100 [03:19<02:02,  4.39s/it]"
          ]
        },
        {
          "output_type": "stream",
          "name": "stdout",
          "text": [
            "<output>C</output>\n",
            "<output>C</output>\n"
          ]
        },
        {
          "output_type": "stream",
          "name": "stderr",
          "text": [
            "\r 73%|███████▎  | 73/100 [03:21<01:39,  3.67s/it]"
          ]
        },
        {
          "output_type": "stream",
          "name": "stdout",
          "text": [
            "<output>C</output>\n",
            "<output>C</output>\n"
          ]
        },
        {
          "output_type": "stream",
          "name": "stderr",
          "text": [
            "\r 74%|███████▍  | 74/100 [03:23<01:27,  3.37s/it]"
          ]
        },
        {
          "output_type": "stream",
          "name": "stdout",
          "text": [
            "<output>E.</output>\n",
            "<output>E.</output>\n"
          ]
        },
        {
          "output_type": "stream",
          "name": "stderr",
          "text": [
            "\r 75%|███████▌  | 75/100 [03:25<01:15,  3.02s/it]"
          ]
        },
        {
          "output_type": "stream",
          "name": "stdout",
          "text": [
            "<output>A.</output>\n",
            "<output>A.</output>\n"
          ]
        },
        {
          "output_type": "stream",
          "name": "stderr",
          "text": [
            "\r 76%|███████▌  | 76/100 [03:29<01:16,  3.18s/it]"
          ]
        },
        {
          "output_type": "stream",
          "name": "stdout",
          "text": [
            "<output>F.</output>\n",
            "<output>F.</output>\n"
          ]
        },
        {
          "output_type": "stream",
          "name": "stderr",
          "text": [
            "\r 77%|███████▋  | 77/100 [03:33<01:16,  3.31s/it]"
          ]
        },
        {
          "output_type": "stream",
          "name": "stdout",
          "text": [
            "<output>B.</output>\n",
            "<output>B.</output>\n"
          ]
        },
        {
          "output_type": "stream",
          "name": "stderr",
          "text": [
            "\r 78%|███████▊  | 78/100 [03:35<01:07,  3.07s/it]"
          ]
        },
        {
          "output_type": "stream",
          "name": "stdout",
          "text": [
            "<output>A.</output>\n",
            "<output>A.</output>\n"
          ]
        },
        {
          "output_type": "stream",
          "name": "stderr",
          "text": [
            "\r 79%|███████▉  | 79/100 [03:38<01:03,  3.05s/it]"
          ]
        },
        {
          "output_type": "stream",
          "name": "stdout",
          "text": [
            "<output>D.</output>\n",
            "<output>D.</output>\n"
          ]
        },
        {
          "output_type": "stream",
          "name": "stderr",
          "text": [
            "\r 80%|████████  | 80/100 [03:42<01:03,  3.18s/it]"
          ]
        },
        {
          "output_type": "stream",
          "name": "stdout",
          "text": [
            "<output>A.</output>\n",
            "<output>A.</output>\n"
          ]
        },
        {
          "output_type": "stream",
          "name": "stderr",
          "text": [
            "\r 81%|████████  | 81/100 [03:44<00:56,  2.99s/it]"
          ]
        },
        {
          "output_type": "stream",
          "name": "stdout",
          "text": [
            "<output>B</output>\n",
            "<output>B</output>\n"
          ]
        },
        {
          "output_type": "stream",
          "name": "stderr",
          "text": [
            "\r 82%|████████▏ | 82/100 [03:46<00:47,  2.62s/it]"
          ]
        },
        {
          "output_type": "stream",
          "name": "stdout",
          "text": [
            "<output>A</output>\n",
            "<output>A</output>\n"
          ]
        },
        {
          "output_type": "stream",
          "name": "stderr",
          "text": [
            "\r 83%|████████▎ | 83/100 [03:49<00:45,  2.65s/it]"
          ]
        },
        {
          "output_type": "stream",
          "name": "stdout",
          "text": [
            "<output>E.</output>\n",
            "<output>E.</output>\n"
          ]
        },
        {
          "output_type": "stream",
          "name": "stderr",
          "text": [
            "\r 84%|████████▍ | 84/100 [03:52<00:44,  2.80s/it]"
          ]
        },
        {
          "output_type": "stream",
          "name": "stdout",
          "text": [
            "<output>E.</output>\n",
            "<output>E.</output>\n"
          ]
        },
        {
          "output_type": "stream",
          "name": "stderr",
          "text": [
            "\r 85%|████████▌ | 85/100 [03:55<00:43,  2.92s/it]"
          ]
        },
        {
          "output_type": "stream",
          "name": "stdout",
          "text": [
            "<output>E.</output>\n",
            "<output>E.</output>\n"
          ]
        },
        {
          "output_type": "stream",
          "name": "stderr",
          "text": [
            "\r 86%|████████▌ | 86/100 [03:58<00:40,  2.89s/it]"
          ]
        },
        {
          "output_type": "stream",
          "name": "stdout",
          "text": [
            "<output>D.</output>\n",
            "<output>D.</output>\n"
          ]
        },
        {
          "output_type": "stream",
          "name": "stderr",
          "text": [
            "\r 87%|████████▋ | 87/100 [03:59<00:31,  2.46s/it]"
          ]
        },
        {
          "output_type": "stream",
          "name": "stdout",
          "text": [
            "<output>C</output>\n",
            "<output>C</output>\n"
          ]
        },
        {
          "output_type": "stream",
          "name": "stderr",
          "text": [
            "\r 88%|████████▊ | 88/100 [04:02<00:29,  2.43s/it]"
          ]
        },
        {
          "output_type": "stream",
          "name": "stdout",
          "text": [
            "<output>B</output>\n",
            "<output>B</output>\n"
          ]
        },
        {
          "output_type": "stream",
          "name": "stderr",
          "text": [
            "\r 89%|████████▉ | 89/100 [04:05<00:28,  2.58s/it]"
          ]
        },
        {
          "output_type": "stream",
          "name": "stdout",
          "text": [
            "<output>B.</output>\n",
            "<output>B.</output>\n"
          ]
        },
        {
          "output_type": "stream",
          "name": "stderr",
          "text": [
            "\r 90%|█████████ | 90/100 [04:06<00:22,  2.24s/it]"
          ]
        },
        {
          "output_type": "stream",
          "name": "stdout",
          "text": [
            "<output>C</output>\n",
            "<output>C</output>\n"
          ]
        },
        {
          "output_type": "stream",
          "name": "stderr",
          "text": [
            "\r 91%|█████████ | 91/100 [04:09<00:22,  2.55s/it]"
          ]
        },
        {
          "output_type": "stream",
          "name": "stdout",
          "text": [
            "<output>C.</output>\n",
            "<output>C.</output>\n"
          ]
        },
        {
          "output_type": "stream",
          "name": "stderr",
          "text": [
            "\r 92%|█████████▏| 92/100 [04:12<00:20,  2.55s/it]"
          ]
        },
        {
          "output_type": "stream",
          "name": "stdout",
          "text": [
            "<output>C.</output>\n",
            "<output>C.</output>\n"
          ]
        },
        {
          "output_type": "stream",
          "name": "stderr",
          "text": [
            "\r 93%|█████████▎| 93/100 [04:14<00:17,  2.49s/it]"
          ]
        },
        {
          "output_type": "stream",
          "name": "stdout",
          "text": [
            "<output>G</output>\n",
            "<output>G</output>\n"
          ]
        },
        {
          "output_type": "stream",
          "name": "stderr",
          "text": [
            "\r 94%|█████████▍| 94/100 [04:16<00:13,  2.22s/it]"
          ]
        },
        {
          "output_type": "stream",
          "name": "stdout",
          "text": [
            "<output>F.</output>\n",
            "<output>F.</output>\n"
          ]
        },
        {
          "output_type": "stream",
          "name": "stderr",
          "text": [
            "\r 95%|█████████▌| 95/100 [04:20<00:13,  2.71s/it]"
          ]
        },
        {
          "output_type": "stream",
          "name": "stdout",
          "text": [
            "<output>A.</output>\n",
            "<output>A.</output>\n"
          ]
        },
        {
          "output_type": "stream",
          "name": "stderr",
          "text": [
            "\r 96%|█████████▌| 96/100 [04:22<00:10,  2.65s/it]"
          ]
        },
        {
          "output_type": "stream",
          "name": "stdout",
          "text": [
            "<output>ADBE.</output>\n",
            "<output>ADBE.</output>\n"
          ]
        },
        {
          "output_type": "stream",
          "name": "stderr",
          "text": [
            "\r 97%|█████████▋| 97/100 [04:24<00:07,  2.43s/it]"
          ]
        },
        {
          "output_type": "stream",
          "name": "stdout",
          "text": [
            "<output>B</output>\n",
            "<output>B</output>\n"
          ]
        },
        {
          "output_type": "stream",
          "name": "stderr",
          "text": [
            "\r 98%|█████████▊| 98/100 [04:27<00:05,  2.52s/it]"
          ]
        },
        {
          "output_type": "stream",
          "name": "stdout",
          "text": [
            "<output>A.</output>\n",
            "<output>A.</output>\n"
          ]
        },
        {
          "output_type": "stream",
          "name": "stderr",
          "text": [
            "\r 99%|█████████▉| 99/100 [04:29<00:02,  2.57s/it]"
          ]
        },
        {
          "output_type": "stream",
          "name": "stdout",
          "text": [
            "<output>E.</output>\n",
            "<output>E.</output>\n"
          ]
        },
        {
          "output_type": "stream",
          "name": "stderr",
          "text": [
            "100%|██████████| 100/100 [04:32<00:00,  2.72s/it]\n"
          ]
        },
        {
          "output_type": "stream",
          "name": "stdout",
          "text": [
            "<output>B.</output>\n",
            "<output>B.</output>\n"
          ]
        },
        {
          "output_type": "stream",
          "name": "stderr",
          "text": [
            "100%|██████████| 100/100 [00:22<00:00,  4.47it/s]\n"
          ]
        }
      ],
      "execution_count": 21
    },
    {
      "cell_type": "code",
      "source": [
        "# @title Winogrande generations.\n",
        "\n",
        "alphabet = [\"A\", \"B\", \"C\", \"D\", \"E\", \"F\", \"G\", \"H\", \"I\", \"J\", \"K\", \"L\", \"M\", \"N\", \"O\", \"P\", \"Q\", \"R\", \"S\", \"T\", \"U\", \"V\", \"W\", \"X\", \"Y\", \"Z\"]\n",
        "\n",
        "def wino_prompt(question, choices, cot=False):\n",
        "\n",
        "  if cot == True:\n",
        "\n",
        "    prompt1 = \"\"\"You are an AI assistant that uses a Chain of Thought (CoT) approach with reflection to fill in blanks in sentences. Follow these steps:\n",
        "        1. Think through the problem step by step within the <scratchpad> tags.\n",
        "        2. Make any necessary adjustments based on your reflection.\n",
        "        3. Provide your final, concise answer within the <output> tags.\n",
        "        Important: The <scratchpad> sections are for your internal reasoning process only.\n",
        "        The actual response to the query must be entirely contained within the <output> tags.\n",
        "        Use the following format for your response:\n",
        "        <scratchpad>\n",
        "        [Your step-by-step reasoning goes here. This is your internal thought process, not the final answer.]\n",
        "        </scratchpad>\n",
        "        <output>\n",
        "        [Your final, concise answer to the query. This is the only part that will be shown to the user.]\n",
        "        </output>\n",
        "\n",
        "        Answer only with a letter when given a multiple-choice question.\n",
        "\n",
        "        DO NOT WRITE ANYTHING OTHER THAN THE LETTER.\"\"\"\n",
        "\n",
        "  else:\n",
        "      prompt1 = \"\"\"You are a smart AI assistant, who fills in blanks in sentences, appropriately.\n",
        "\n",
        "      Answer only with a letter when given a sentence to fill in.\n",
        "\n",
        "      DO NOT WRITE ANYTHING OTHER THAN THE LETTER OF THE ANSWER.\"\"\"\n",
        "\n",
        "\n",
        "  mcq_list = question\n",
        "  for x in range(len(choices)):\n",
        "    mcq_list = mcq_list + \"\\n\" + alphabet[x] + \". \" + choices[x]\n",
        "    x = x + 1\n",
        "\n",
        "  prompt_example = \"\"\"For example:\n",
        "What is 2 + 2?\n",
        "A. 3\n",
        "B. 1\n",
        "C. 6\n",
        "D. 4\n",
        "\"\"\"\n",
        "  messages = [(\"system\", prompt1), (\"user\", prompt_example), (\"assistant\", \"<scratchpad>It is well known that 2+2=4. Hence, the answer is D.</scratchpad><output>D.</output>\"), (\"user\", mcq_list)]\n",
        "  return messages\n",
        "\n",
        "wino = pd.read_csv('gaslighting-llms/winogrande/shuffled_data.csv')\n",
        "\n",
        "cleaned_choices_temp = list(wino[\"choices\"])\n",
        "cleaned_choices = []\n",
        "\n",
        "for choice in cleaned_choices_temp:\n",
        "  cleaned_choices.append(eval(choice.replace('\"\"', \"\").replace(\"\\n\", \"\").replace(\"' '\", \"', '\")))\n",
        "\n",
        "llm = ChatOllama(\n",
        "    model=\"phi3:14b\",\n",
        "    temperature=0,\n",
        ")\n",
        "\n",
        "n = 0\n",
        "\n",
        "wino_cot_responses = []\n",
        "\n",
        "subprocess.Popen(\"ollama serve\", shell=True)\n",
        "\n",
        "time.sleep(5)\n",
        "\n",
        "start_server = llm.invoke(\"hi\")\n",
        "\n",
        "@timeout(seconds=60)\n",
        "def call_PHI3(prompt):\n",
        "  return llm.invoke(prompt)\n",
        "\n",
        "for question in tqdm(wino[\"question\"]):\n",
        " try:\n",
        "  response = call_PHI3(wino_prompt(question, cleaned_choices[n], True))\n",
        " except ConnectionError:\n",
        "  subprocess.Popen(\"ollama serve\", shell=True)\n",
        "  response = call_PHI3(wino_prompt(question, cleaned_choices[n], True))\n",
        " except TimeoutError:\n",
        "  response = call_PHI3(wino_prompt(question, cleaned_choices[n], True))\n",
        "\n",
        " try:\n",
        "  print(re.search(r'<output>(.*?)</output>', response.content, re.DOTALL)[0])\n",
        " except TypeError:\n",
        "  llm = ChatOllama(\n",
        "    model=\"phi3:14b\",\n",
        "    temperature=0,\n",
        "    seed=random.randint(0, 100000)\n",
        "  )\n",
        "\n",
        "  print(\"retrying because no proper tag\")\n",
        "  try:\n",
        "   response = call_PHI3(wino_prompt(question, cleaned_choices[n], True))\n",
        "  except ConnectionError:\n",
        "   subprocess.Popen(\"ollama serve\", shell=True)\n",
        "   response = call_PHI3(wino_prompt(question, cleaned_choices[n], True))\n",
        "  except TimeoutError:\n",
        "    response = call_PHI3(wino_prompt(question, cleaned_choices[n], True))\n",
        "\n",
        " print(re.search(r'<output>(.*?)</output>', response.content, re.DOTALL)[0])\n",
        " wino_cot_responses.append((question, cleaned_choices[n], re.search(r'<output>(.*?)</output>', response.content, re.DOTALL)[0], wino[\"labels\"][n], response.content))\n",
        " n += 1\n",
        "\n",
        "with open('PHI3-CoT-RESPONSES-WINO.csv', 'w', newline='', encoding='utf-8') as out:\n",
        "    csv_out=csv.writer(out)\n",
        "    csv_out.writerow(['question','choices','llm-answer','ground-truth','llm-cot-reasoning'])\n",
        "    for row in wino_cot_responses:\n",
        "        csv_out.writerow(row)\n",
        "\n",
        "wino_responses = []\n",
        "\n",
        "n = 0\n",
        "\n",
        "for question in tqdm(wino[\"question\"]):\n",
        " try:\n",
        "  response = call_PHI3(wino_prompt(question, cleaned_choices[n]))\n",
        " except ConnectionError:\n",
        "   subprocess.Popen(\"ollama serve\", shell=True)\n",
        "   response = call_PHI3(wino_prompt(question, cleaned_choices[n]))\n",
        " except TimeoutError:\n",
        "   response = call_PHI3(wino_prompt(question, cleaned_choices[n]))\n",
        "\n",
        " wino_responses.append((question, cleaned_choices[n], response.content, wino[\"labels\"][n]))\n",
        " n += 1\n",
        "\n",
        "with open('PHI3-NON-CoT-RESPONSES-WINO.csv', 'w', newline='', encoding='utf-8') as out:\n",
        "    csv_out=csv.writer(out)\n",
        "    csv_out.writerow(['question','choices','llm-answer','ground-truth'])\n",
        "    for row in wino_responses:\n",
        "        csv_out.writerow(row)"
      ],
      "metadata": {
        "trusted": true,
        "colab": {
          "base_uri": "https://localhost:8080/"
        },
        "cellView": "form",
        "id": "avnRUs3pSas-",
        "outputId": "78d3acfd-21d4-4c12-aa37-6b8d1a88b48b"
      },
      "outputs": [
        {
          "output_type": "stream",
          "name": "stderr",
          "text": [
            "  1%|          | 1/100 [00:02<03:47,  2.30s/it]"
          ]
        },
        {
          "output_type": "stream",
          "name": "stdout",
          "text": [
            "<output>A.</output>\n",
            "<output>A.</output>\n"
          ]
        },
        {
          "output_type": "stream",
          "name": "stderr",
          "text": [
            "\r  2%|▏         | 2/100 [00:04<03:15,  1.99s/it]"
          ]
        },
        {
          "output_type": "stream",
          "name": "stdout",
          "text": [
            "<output>A</output>\n",
            "<output>A</output>\n"
          ]
        },
        {
          "output_type": "stream",
          "name": "stderr",
          "text": [
            "\r  3%|▎         | 3/100 [00:05<03:04,  1.90s/it]"
          ]
        },
        {
          "output_type": "stream",
          "name": "stdout",
          "text": [
            "<output>B</output>\n",
            "<output>B</output>\n"
          ]
        },
        {
          "output_type": "stream",
          "name": "stderr",
          "text": [
            "\r  4%|▍         | 4/100 [00:08<03:22,  2.11s/it]"
          ]
        },
        {
          "output_type": "stream",
          "name": "stdout",
          "text": [
            "<output>B</output>\n",
            "<output>B</output>\n"
          ]
        },
        {
          "output_type": "stream",
          "name": "stderr",
          "text": [
            "\r  5%|▌         | 5/100 [00:09<03:00,  1.90s/it]"
          ]
        },
        {
          "output_type": "stream",
          "name": "stdout",
          "text": [
            "<output>B.</output>\n",
            "<output>B.</output>\n"
          ]
        },
        {
          "output_type": "stream",
          "name": "stderr",
          "text": [
            "\r  6%|▌         | 6/100 [00:13<03:53,  2.48s/it]"
          ]
        },
        {
          "output_type": "stream",
          "name": "stdout",
          "text": [
            "<output>B.</output>\n",
            "<output>B.</output>\n"
          ]
        },
        {
          "output_type": "stream",
          "name": "stderr",
          "text": [
            "\r  7%|▋         | 7/100 [00:16<03:55,  2.53s/it]"
          ]
        },
        {
          "output_type": "stream",
          "name": "stdout",
          "text": [
            "<output>A</output>\n",
            "<output>A</output>\n"
          ]
        },
        {
          "output_type": "stream",
          "name": "stderr",
          "text": [
            "\r  8%|▊         | 8/100 [00:17<03:28,  2.27s/it]"
          ]
        },
        {
          "output_type": "stream",
          "name": "stdout",
          "text": [
            "<output>A</output>\n",
            "<output>A</output>\n"
          ]
        },
        {
          "output_type": "stream",
          "name": "stderr",
          "text": [
            "\r  9%|▉         | 9/100 [00:20<03:29,  2.30s/it]"
          ]
        },
        {
          "output_type": "stream",
          "name": "stdout",
          "text": [
            "<output>B</output>\n",
            "<output>B</output>\n"
          ]
        },
        {
          "output_type": "stream",
          "name": "stderr",
          "text": [
            "\r 10%|█         | 10/100 [00:22<03:20,  2.23s/it]"
          ]
        },
        {
          "output_type": "stream",
          "name": "stdout",
          "text": [
            "<output>B</output>\n",
            "<output>B</output>\n"
          ]
        },
        {
          "output_type": "stream",
          "name": "stderr",
          "text": [
            "\r 11%|█         | 11/100 [00:23<02:53,  1.95s/it]"
          ]
        },
        {
          "output_type": "stream",
          "name": "stdout",
          "text": [
            "<output>B</output>\n",
            "<output>B</output>\n"
          ]
        },
        {
          "output_type": "stream",
          "name": "stderr",
          "text": [
            "\r 12%|█▏        | 12/100 [00:25<02:53,  1.98s/it]"
          ]
        },
        {
          "output_type": "stream",
          "name": "stdout",
          "text": [
            "<output>A</output>\n",
            "<output>A</output>\n"
          ]
        },
        {
          "output_type": "stream",
          "name": "stderr",
          "text": [
            "\r 13%|█▎        | 13/100 [00:26<02:37,  1.81s/it]"
          ]
        },
        {
          "output_type": "stream",
          "name": "stdout",
          "text": [
            "<output>B</output>\n",
            "<output>B</output>\n"
          ]
        },
        {
          "output_type": "stream",
          "name": "stderr",
          "text": [
            "\r 14%|█▍        | 14/100 [00:28<02:26,  1.70s/it]"
          ]
        },
        {
          "output_type": "stream",
          "name": "stdout",
          "text": [
            "<output>B</output>\n",
            "<output>B</output>\n"
          ]
        },
        {
          "output_type": "stream",
          "name": "stderr",
          "text": [
            "\r 15%|█▌        | 15/100 [00:31<02:46,  1.96s/it]"
          ]
        },
        {
          "output_type": "stream",
          "name": "stdout",
          "text": [
            "<output>A</output>\n",
            "<output>A</output>\n"
          ]
        },
        {
          "output_type": "stream",
          "name": "stderr",
          "text": [
            "\r 16%|█▌        | 16/100 [00:32<02:45,  1.97s/it]"
          ]
        },
        {
          "output_type": "stream",
          "name": "stdout",
          "text": [
            "<output>C.</output>\n",
            "<output>C.</output>\n"
          ]
        },
        {
          "output_type": "stream",
          "name": "stderr",
          "text": [
            "\r 17%|█▋        | 17/100 [00:34<02:38,  1.91s/it]"
          ]
        },
        {
          "output_type": "stream",
          "name": "stdout",
          "text": [
            "<output>B</output>\n",
            "<output>B</output>\n"
          ]
        },
        {
          "output_type": "stream",
          "name": "stderr",
          "text": [
            "\r 18%|█▊        | 18/100 [00:37<02:47,  2.04s/it]"
          ]
        },
        {
          "output_type": "stream",
          "name": "stdout",
          "text": [
            "<output>A</output>\n",
            "<output>A</output>\n"
          ]
        },
        {
          "output_type": "stream",
          "name": "stderr",
          "text": [
            "\r 19%|█▉        | 19/100 [00:38<02:36,  1.93s/it]"
          ]
        },
        {
          "output_type": "stream",
          "name": "stdout",
          "text": [
            "<output>A</output>\n",
            "<output>A</output>\n"
          ]
        },
        {
          "output_type": "stream",
          "name": "stderr",
          "text": [
            "\r 20%|██        | 20/100 [00:40<02:39,  1.99s/it]"
          ]
        },
        {
          "output_type": "stream",
          "name": "stdout",
          "text": [
            "<output>B.</output>\n",
            "<output>B.</output>\n"
          ]
        },
        {
          "output_type": "stream",
          "name": "stderr",
          "text": [
            "\r 21%|██        | 21/100 [00:42<02:34,  1.95s/it]"
          ]
        },
        {
          "output_type": "stream",
          "name": "stdout",
          "text": [
            "<output>B</output>\n",
            "<output>B</output>\n"
          ]
        },
        {
          "output_type": "stream",
          "name": "stderr",
          "text": [
            "\r 22%|██▏       | 22/100 [00:45<02:52,  2.21s/it]"
          ]
        },
        {
          "output_type": "stream",
          "name": "stdout",
          "text": [
            "<output>B</output>\n",
            "<output>B</output>\n"
          ]
        },
        {
          "output_type": "stream",
          "name": "stderr",
          "text": [
            "\r 23%|██▎       | 23/100 [00:47<02:36,  2.03s/it]"
          ]
        },
        {
          "output_type": "stream",
          "name": "stdout",
          "text": [
            "<output>A</output>\n",
            "<output>A</output>\n"
          ]
        },
        {
          "output_type": "stream",
          "name": "stderr",
          "text": [
            "\r 24%|██▍       | 24/100 [00:48<02:20,  1.85s/it]"
          ]
        },
        {
          "output_type": "stream",
          "name": "stdout",
          "text": [
            "<output>B.</output>\n",
            "<output>B.</output>\n"
          ]
        },
        {
          "output_type": "stream",
          "name": "stderr",
          "text": [
            "\r 25%|██▌       | 25/100 [00:50<02:23,  1.92s/it]"
          ]
        },
        {
          "output_type": "stream",
          "name": "stdout",
          "text": [
            "<output>A</output>\n",
            "<output>A</output>\n"
          ]
        },
        {
          "output_type": "stream",
          "name": "stderr",
          "text": [
            "\r 26%|██▌       | 26/100 [00:51<02:04,  1.69s/it]"
          ]
        },
        {
          "output_type": "stream",
          "name": "stdout",
          "text": [
            "<output>A</output>\n",
            "<output>A</output>\n"
          ]
        },
        {
          "output_type": "stream",
          "name": "stderr",
          "text": [
            "\r 27%|██▋       | 27/100 [00:53<02:11,  1.80s/it]"
          ]
        },
        {
          "output_type": "stream",
          "name": "stdout",
          "text": [
            "<output>A</output>\n",
            "<output>A</output>\n"
          ]
        },
        {
          "output_type": "stream",
          "name": "stderr",
          "text": [
            "\r 28%|██▊       | 28/100 [00:55<02:05,  1.74s/it]"
          ]
        },
        {
          "output_type": "stream",
          "name": "stdout",
          "text": [
            "<output>A</output>\n",
            "<output>A</output>\n"
          ]
        },
        {
          "output_type": "stream",
          "name": "stderr",
          "text": [
            "\r 29%|██▉       | 29/100 [00:57<02:15,  1.91s/it]"
          ]
        },
        {
          "output_type": "stream",
          "name": "stdout",
          "text": [
            "<output>B</output>\n",
            "<output>B</output>\n"
          ]
        },
        {
          "output_type": "stream",
          "name": "stderr",
          "text": [
            "\r 30%|███       | 30/100 [01:01<02:42,  2.32s/it]"
          ]
        },
        {
          "output_type": "stream",
          "name": "stdout",
          "text": [
            "<output>A</output>\n",
            "<output>A</output>\n"
          ]
        },
        {
          "output_type": "stream",
          "name": "stderr",
          "text": [
            "\r 31%|███       | 31/100 [01:03<02:36,  2.26s/it]"
          ]
        },
        {
          "output_type": "stream",
          "name": "stdout",
          "text": [
            "<output>B</output>\n",
            "<output>B</output>\n"
          ]
        },
        {
          "output_type": "stream",
          "name": "stderr",
          "text": [
            "\r 32%|███▏      | 32/100 [01:04<02:16,  2.00s/it]"
          ]
        },
        {
          "output_type": "stream",
          "name": "stdout",
          "text": [
            "<output>A</output>\n",
            "<output>A</output>\n"
          ]
        },
        {
          "output_type": "stream",
          "name": "stderr",
          "text": [
            "\r 33%|███▎      | 33/100 [01:06<02:09,  1.94s/it]"
          ]
        },
        {
          "output_type": "stream",
          "name": "stdout",
          "text": [
            "<output>B</output>\n",
            "<output>B</output>\n"
          ]
        },
        {
          "output_type": "stream",
          "name": "stderr",
          "text": [
            "\r 34%|███▍      | 34/100 [01:10<02:58,  2.71s/it]"
          ]
        },
        {
          "output_type": "stream",
          "name": "stdout",
          "text": [
            "<output>B</output>\n",
            "<output>B</output>\n"
          ]
        },
        {
          "output_type": "stream",
          "name": "stderr",
          "text": [
            "\r 35%|███▌      | 35/100 [01:12<02:39,  2.45s/it]"
          ]
        },
        {
          "output_type": "stream",
          "name": "stdout",
          "text": [
            "<output>B.</output>\n",
            "<output>B.</output>\n"
          ]
        },
        {
          "output_type": "stream",
          "name": "stderr",
          "text": [
            "\r 36%|███▌      | 36/100 [01:13<02:11,  2.05s/it]"
          ]
        },
        {
          "output_type": "stream",
          "name": "stdout",
          "text": [
            "<output>B.</output>\n",
            "<output>B.</output>\n"
          ]
        },
        {
          "output_type": "stream",
          "name": "stderr",
          "text": [
            "\r 37%|███▋      | 37/100 [01:16<02:13,  2.12s/it]"
          ]
        },
        {
          "output_type": "stream",
          "name": "stdout",
          "text": [
            "<output>B</output>\n",
            "<output>B</output>\n"
          ]
        },
        {
          "output_type": "stream",
          "name": "stderr",
          "text": [
            "\r 38%|███▊      | 38/100 [01:18<02:21,  2.28s/it]"
          ]
        },
        {
          "output_type": "stream",
          "name": "stdout",
          "text": [
            "<output>A</output>\n",
            "<output>A</output>\n"
          ]
        },
        {
          "output_type": "stream",
          "name": "stderr",
          "text": [
            "\r 39%|███▉      | 39/100 [01:21<02:30,  2.46s/it]"
          ]
        },
        {
          "output_type": "stream",
          "name": "stdout",
          "text": [
            "<output>B.</output>\n",
            "<output>B.</output>\n"
          ]
        },
        {
          "output_type": "stream",
          "name": "stderr",
          "text": [
            "\r 40%|████      | 40/100 [01:23<02:13,  2.22s/it]"
          ]
        },
        {
          "output_type": "stream",
          "name": "stdout",
          "text": [
            "<output>A.</output>\n",
            "<output>A.</output>\n"
          ]
        },
        {
          "output_type": "stream",
          "name": "stderr",
          "text": [
            "\r 41%|████      | 41/100 [01:24<01:54,  1.94s/it]"
          ]
        },
        {
          "output_type": "stream",
          "name": "stdout",
          "text": [
            "<output>A</output>\n",
            "<output>A</output>\n"
          ]
        },
        {
          "output_type": "stream",
          "name": "stderr",
          "text": [
            "\r 42%|████▏     | 42/100 [01:26<01:50,  1.90s/it]"
          ]
        },
        {
          "output_type": "stream",
          "name": "stdout",
          "text": [
            "<output>B</output>\n",
            "<output>B</output>\n"
          ]
        },
        {
          "output_type": "stream",
          "name": "stderr",
          "text": [
            "\r 43%|████▎     | 43/100 [01:28<01:56,  2.04s/it]"
          ]
        },
        {
          "output_type": "stream",
          "name": "stdout",
          "text": [
            "<output>A.</output>\n",
            "<output>A.</output>\n"
          ]
        },
        {
          "output_type": "stream",
          "name": "stderr",
          "text": [
            "\r 44%|████▍     | 44/100 [01:31<02:06,  2.25s/it]"
          ]
        },
        {
          "output_type": "stream",
          "name": "stdout",
          "text": [
            "<output>A.</output>\n",
            "<output>A.</output>\n"
          ]
        },
        {
          "output_type": "stream",
          "name": "stderr",
          "text": [
            "\r 45%|████▌     | 45/100 [01:33<01:53,  2.06s/it]"
          ]
        },
        {
          "output_type": "stream",
          "name": "stdout",
          "text": [
            "<output>A</output>\n",
            "<output>A</output>\n"
          ]
        },
        {
          "output_type": "stream",
          "name": "stderr",
          "text": [
            "\r 46%|████▌     | 46/100 [01:34<01:46,  1.98s/it]"
          ]
        },
        {
          "output_type": "stream",
          "name": "stdout",
          "text": [
            "<output>B.</output>\n",
            "<output>B.</output>\n"
          ]
        },
        {
          "output_type": "stream",
          "name": "stderr",
          "text": [
            "\r 47%|████▋     | 47/100 [01:36<01:43,  1.96s/it]"
          ]
        },
        {
          "output_type": "stream",
          "name": "stdout",
          "text": [
            "<output>A</output>\n",
            "<output>A</output>\n"
          ]
        },
        {
          "output_type": "stream",
          "name": "stderr",
          "text": [
            "\r 48%|████▊     | 48/100 [01:39<01:45,  2.03s/it]"
          ]
        },
        {
          "output_type": "stream",
          "name": "stdout",
          "text": [
            "<output>B</output>\n",
            "<output>B</output>\n"
          ]
        },
        {
          "output_type": "stream",
          "name": "stderr",
          "text": [
            "\r 49%|████▉     | 49/100 [01:41<01:46,  2.08s/it]"
          ]
        },
        {
          "output_type": "stream",
          "name": "stdout",
          "text": [
            "<output>A</output>\n",
            "<output>A</output>\n"
          ]
        },
        {
          "output_type": "stream",
          "name": "stderr",
          "text": [
            "\r 50%|█████     | 50/100 [01:43<01:40,  2.02s/it]"
          ]
        },
        {
          "output_type": "stream",
          "name": "stdout",
          "text": [
            "<output>B</output>\n",
            "<output>B</output>\n"
          ]
        },
        {
          "output_type": "stream",
          "name": "stderr",
          "text": [
            "\r 51%|█████     | 51/100 [01:45<01:46,  2.18s/it]"
          ]
        },
        {
          "output_type": "stream",
          "name": "stdout",
          "text": [
            "<output>B</output>\n",
            "<output>B</output>\n"
          ]
        },
        {
          "output_type": "stream",
          "name": "stderr",
          "text": [
            "\r 52%|█████▏    | 52/100 [01:47<01:35,  1.99s/it]"
          ]
        },
        {
          "output_type": "stream",
          "name": "stdout",
          "text": [
            "<output>B</output>\n",
            "<output>B</output>\n"
          ]
        },
        {
          "output_type": "stream",
          "name": "stderr",
          "text": [
            "\r 53%|█████▎    | 53/100 [01:48<01:21,  1.74s/it]"
          ]
        },
        {
          "output_type": "stream",
          "name": "stdout",
          "text": [
            "<output>A</output>\n",
            "<output>A</output>\n"
          ]
        },
        {
          "output_type": "stream",
          "name": "stderr",
          "text": [
            "\r 54%|█████▍    | 54/100 [01:50<01:20,  1.76s/it]"
          ]
        },
        {
          "output_type": "stream",
          "name": "stdout",
          "text": [
            "<output>A</output>\n",
            "<output>A</output>\n"
          ]
        },
        {
          "output_type": "stream",
          "name": "stderr",
          "text": [
            "\r 55%|█████▌    | 55/100 [01:52<01:24,  1.88s/it]"
          ]
        },
        {
          "output_type": "stream",
          "name": "stdout",
          "text": [
            "<output>A.</output>\n",
            "<output>A.</output>\n"
          ]
        },
        {
          "output_type": "stream",
          "name": "stderr",
          "text": [
            "\r 56%|█████▌    | 56/100 [01:53<01:15,  1.72s/it]"
          ]
        },
        {
          "output_type": "stream",
          "name": "stdout",
          "text": [
            "<output>A</output>\n",
            "<output>A</output>\n"
          ]
        },
        {
          "output_type": "stream",
          "name": "stderr",
          "text": [
            "\r 57%|█████▋    | 57/100 [01:55<01:10,  1.64s/it]"
          ]
        },
        {
          "output_type": "stream",
          "name": "stdout",
          "text": [
            "<output>A</output>\n",
            "<output>A</output>\n"
          ]
        },
        {
          "output_type": "stream",
          "name": "stderr",
          "text": [
            "\r 58%|█████▊    | 58/100 [01:57<01:18,  1.87s/it]"
          ]
        },
        {
          "output_type": "stream",
          "name": "stdout",
          "text": [
            "<output>A</output>\n",
            "<output>A</output>\n"
          ]
        },
        {
          "output_type": "stream",
          "name": "stderr",
          "text": [
            "\r 59%|█████▉    | 59/100 [02:00<01:35,  2.32s/it]"
          ]
        },
        {
          "output_type": "stream",
          "name": "stdout",
          "text": [
            "<output>A</output>\n",
            "<output>A</output>\n"
          ]
        },
        {
          "output_type": "stream",
          "name": "stderr",
          "text": [
            "\r 60%|██████    | 60/100 [02:02<01:25,  2.14s/it]"
          ]
        },
        {
          "output_type": "stream",
          "name": "stdout",
          "text": [
            "<output>A</output>\n",
            "<output>A</output>\n"
          ]
        },
        {
          "output_type": "stream",
          "name": "stderr",
          "text": [
            "\r 61%|██████    | 61/100 [02:04<01:18,  2.01s/it]"
          ]
        },
        {
          "output_type": "stream",
          "name": "stdout",
          "text": [
            "<output>B</output>\n",
            "<output>B</output>\n"
          ]
        },
        {
          "output_type": "stream",
          "name": "stderr",
          "text": [
            "\r 62%|██████▏   | 62/100 [02:06<01:13,  1.93s/it]"
          ]
        },
        {
          "output_type": "stream",
          "name": "stdout",
          "text": [
            "<output>A</output>\n",
            "<output>A</output>\n"
          ]
        },
        {
          "output_type": "stream",
          "name": "stderr",
          "text": [
            "\r 63%|██████▎   | 63/100 [02:07<01:06,  1.80s/it]"
          ]
        },
        {
          "output_type": "stream",
          "name": "stdout",
          "text": [
            "<output>B</output>\n",
            "<output>B</output>\n"
          ]
        },
        {
          "output_type": "stream",
          "name": "stderr",
          "text": [
            "\r 64%|██████▍   | 64/100 [02:09<01:00,  1.69s/it]"
          ]
        },
        {
          "output_type": "stream",
          "name": "stdout",
          "text": [
            "<output>B</output>\n",
            "<output>B</output>\n"
          ]
        },
        {
          "output_type": "stream",
          "name": "stderr",
          "text": [
            "\r 65%|██████▌   | 65/100 [02:11<01:07,  1.94s/it]"
          ]
        },
        {
          "output_type": "stream",
          "name": "stdout",
          "text": [
            "<output>A</output>\n",
            "<output>A</output>\n"
          ]
        },
        {
          "output_type": "stream",
          "name": "stderr",
          "text": [
            "\r 66%|██████▌   | 66/100 [02:13<01:02,  1.83s/it]"
          ]
        },
        {
          "output_type": "stream",
          "name": "stdout",
          "text": [
            "<output>A</output>\n",
            "<output>A</output>\n"
          ]
        },
        {
          "output_type": "stream",
          "name": "stderr",
          "text": [
            "\r 67%|██████▋   | 67/100 [02:15<01:08,  2.09s/it]"
          ]
        },
        {
          "output_type": "stream",
          "name": "stdout",
          "text": [
            "<output>B</output>\n",
            "<output>B</output>\n"
          ]
        },
        {
          "output_type": "stream",
          "name": "stderr",
          "text": [
            "\r 68%|██████▊   | 68/100 [02:17<01:04,  2.00s/it]"
          ]
        },
        {
          "output_type": "stream",
          "name": "stdout",
          "text": [
            "<output>A</output>\n",
            "<output>A</output>\n"
          ]
        },
        {
          "output_type": "stream",
          "name": "stderr",
          "text": [
            "\r 69%|██████▉   | 69/100 [02:19<01:02,  2.00s/it]"
          ]
        },
        {
          "output_type": "stream",
          "name": "stdout",
          "text": [
            "<output>A.</output>\n",
            "<output>A.</output>\n"
          ]
        },
        {
          "output_type": "stream",
          "name": "stderr",
          "text": [
            "\r 70%|███████   | 70/100 [02:21<00:55,  1.84s/it]"
          ]
        },
        {
          "output_type": "stream",
          "name": "stdout",
          "text": [
            "<output>B</output>\n",
            "<output>B</output>\n"
          ]
        },
        {
          "output_type": "stream",
          "name": "stderr",
          "text": [
            "\r 71%|███████   | 71/100 [02:22<00:51,  1.78s/it]"
          ]
        },
        {
          "output_type": "stream",
          "name": "stdout",
          "text": [
            "<output>A</output>\n",
            "<output>A</output>\n"
          ]
        },
        {
          "output_type": "stream",
          "name": "stderr",
          "text": [
            "\r 72%|███████▏  | 72/100 [02:24<00:52,  1.87s/it]"
          ]
        },
        {
          "output_type": "stream",
          "name": "stdout",
          "text": [
            "<output>B.</output>\n",
            "<output>B.</output>\n"
          ]
        },
        {
          "output_type": "stream",
          "name": "stderr",
          "text": [
            "\r 73%|███████▎  | 73/100 [02:26<00:52,  1.94s/it]"
          ]
        },
        {
          "output_type": "stream",
          "name": "stdout",
          "text": [
            "<output>B</output>\n",
            "<output>B</output>\n"
          ]
        },
        {
          "output_type": "stream",
          "name": "stderr",
          "text": [
            "\r 74%|███████▍  | 74/100 [02:28<00:51,  1.97s/it]"
          ]
        },
        {
          "output_type": "stream",
          "name": "stdout",
          "text": [
            "<output>A</output>\n",
            "<output>A</output>\n"
          ]
        },
        {
          "output_type": "stream",
          "name": "stderr",
          "text": [
            "\r 75%|███████▌  | 75/100 [02:30<00:49,  1.96s/it]"
          ]
        },
        {
          "output_type": "stream",
          "name": "stdout",
          "text": [
            "<output>A</output>\n",
            "<output>A</output>\n"
          ]
        },
        {
          "output_type": "stream",
          "name": "stderr",
          "text": [
            "\r 76%|███████▌  | 76/100 [02:32<00:46,  1.93s/it]"
          ]
        },
        {
          "output_type": "stream",
          "name": "stdout",
          "text": [
            "<output>A</output>\n",
            "<output>A</output>\n"
          ]
        },
        {
          "output_type": "stream",
          "name": "stderr",
          "text": [
            "\r 77%|███████▋  | 77/100 [02:34<00:45,  2.00s/it]"
          ]
        },
        {
          "output_type": "stream",
          "name": "stdout",
          "text": [
            "<output>B</output>\n",
            "<output>B</output>\n"
          ]
        },
        {
          "output_type": "stream",
          "name": "stderr",
          "text": [
            "\r 78%|███████▊  | 78/100 [02:36<00:41,  1.90s/it]"
          ]
        },
        {
          "output_type": "stream",
          "name": "stdout",
          "text": [
            "<output>B</output>\n",
            "<output>B</output>\n"
          ]
        },
        {
          "output_type": "stream",
          "name": "stderr",
          "text": [
            "\r 79%|███████▉  | 79/100 [02:38<00:42,  2.03s/it]"
          ]
        },
        {
          "output_type": "stream",
          "name": "stdout",
          "text": [
            "<output>A</output>\n",
            "<output>A</output>\n"
          ]
        },
        {
          "output_type": "stream",
          "name": "stderr",
          "text": [
            "\r 80%|████████  | 80/100 [02:40<00:38,  1.91s/it]"
          ]
        },
        {
          "output_type": "stream",
          "name": "stdout",
          "text": [
            "<output>B</output>\n",
            "<output>B</output>\n"
          ]
        },
        {
          "output_type": "stream",
          "name": "stderr",
          "text": [
            "\r 81%|████████  | 81/100 [02:41<00:32,  1.70s/it]"
          ]
        },
        {
          "output_type": "stream",
          "name": "stdout",
          "text": [
            "<output>B</output>\n",
            "<output>B</output>\n"
          ]
        },
        {
          "output_type": "stream",
          "name": "stderr",
          "text": [
            "\r 82%|████████▏ | 82/100 [02:44<00:33,  1.86s/it]"
          ]
        },
        {
          "output_type": "stream",
          "name": "stdout",
          "text": [
            "<output>B</output>\n",
            "<output>B</output>\n"
          ]
        },
        {
          "output_type": "stream",
          "name": "stderr",
          "text": [
            "\r 83%|████████▎ | 83/100 [02:45<00:29,  1.76s/it]"
          ]
        },
        {
          "output_type": "stream",
          "name": "stdout",
          "text": [
            "<output>A</output>\n",
            "<output>A</output>\n"
          ]
        },
        {
          "output_type": "stream",
          "name": "stderr",
          "text": [
            "\r 84%|████████▍ | 84/100 [02:47<00:27,  1.69s/it]"
          ]
        },
        {
          "output_type": "stream",
          "name": "stdout",
          "text": [
            "<output>B</output>\n",
            "<output>B</output>\n"
          ]
        },
        {
          "output_type": "stream",
          "name": "stderr",
          "text": [
            "\r 85%|████████▌ | 85/100 [02:48<00:23,  1.58s/it]"
          ]
        },
        {
          "output_type": "stream",
          "name": "stdout",
          "text": [
            "<output>B</output>\n",
            "<output>B</output>\n"
          ]
        },
        {
          "output_type": "stream",
          "name": "stderr",
          "text": [
            "\r 86%|████████▌ | 86/100 [02:50<00:23,  1.66s/it]"
          ]
        },
        {
          "output_type": "stream",
          "name": "stdout",
          "text": [
            "<output>A.</output>\n",
            "<output>A.</output>\n"
          ]
        },
        {
          "output_type": "stream",
          "name": "stderr",
          "text": [
            "\r 87%|████████▋ | 87/100 [02:52<00:24,  1.87s/it]"
          ]
        },
        {
          "output_type": "stream",
          "name": "stdout",
          "text": [
            "<output>A</output>\n",
            "<output>A</output>\n"
          ]
        },
        {
          "output_type": "stream",
          "name": "stderr",
          "text": [
            "\r 88%|████████▊ | 88/100 [02:54<00:22,  1.86s/it]"
          ]
        },
        {
          "output_type": "stream",
          "name": "stdout",
          "text": [
            "<output>A</output>\n",
            "<output>A</output>\n"
          ]
        },
        {
          "output_type": "stream",
          "name": "stderr",
          "text": [
            "\r 89%|████████▉ | 89/100 [02:55<00:18,  1.67s/it]"
          ]
        },
        {
          "output_type": "stream",
          "name": "stdout",
          "text": [
            "<output>A</output>\n",
            "<output>A</output>\n"
          ]
        },
        {
          "output_type": "stream",
          "name": "stderr",
          "text": [
            "\r 90%|█████████ | 90/100 [02:57<00:16,  1.67s/it]"
          ]
        },
        {
          "output_type": "stream",
          "name": "stdout",
          "text": [
            "<output>A</output>\n",
            "<output>A</output>\n"
          ]
        },
        {
          "output_type": "stream",
          "name": "stderr",
          "text": [
            "\r 91%|█████████ | 91/100 [02:58<00:14,  1.63s/it]"
          ]
        },
        {
          "output_type": "stream",
          "name": "stdout",
          "text": [
            "<output>B.</output>\n",
            "<output>B.</output>\n"
          ]
        },
        {
          "output_type": "stream",
          "name": "stderr",
          "text": [
            "\r 92%|█████████▏| 92/100 [03:00<00:13,  1.74s/it]"
          ]
        },
        {
          "output_type": "stream",
          "name": "stdout",
          "text": [
            "<output>A</output>\n",
            "<output>A</output>\n"
          ]
        },
        {
          "output_type": "stream",
          "name": "stderr",
          "text": [
            "\r 93%|█████████▎| 93/100 [03:02<00:11,  1.65s/it]"
          ]
        },
        {
          "output_type": "stream",
          "name": "stdout",
          "text": [
            "<output>A</output>\n",
            "<output>A</output>\n"
          ]
        },
        {
          "output_type": "stream",
          "name": "stderr",
          "text": [
            "\r 94%|█████████▍| 94/100 [03:03<00:09,  1.58s/it]"
          ]
        },
        {
          "output_type": "stream",
          "name": "stdout",
          "text": [
            "<output>A</output>\n",
            "<output>A</output>\n"
          ]
        },
        {
          "output_type": "stream",
          "name": "stderr",
          "text": [
            "\r 95%|█████████▌| 95/100 [03:06<00:09,  1.93s/it]"
          ]
        },
        {
          "output_type": "stream",
          "name": "stdout",
          "text": [
            "<output>A</output>\n",
            "<output>A</output>\n"
          ]
        },
        {
          "output_type": "stream",
          "name": "stderr",
          "text": [
            "\r 96%|█████████▌| 96/100 [03:08<00:08,  2.00s/it]"
          ]
        },
        {
          "output_type": "stream",
          "name": "stdout",
          "text": [
            "<output>B</output>\n",
            "<output>B</output>\n"
          ]
        },
        {
          "output_type": "stream",
          "name": "stderr",
          "text": [
            "\r 97%|█████████▋| 97/100 [03:10<00:05,  2.00s/it]"
          ]
        },
        {
          "output_type": "stream",
          "name": "stdout",
          "text": [
            "<output>A.</output>\n",
            "<output>A.</output>\n"
          ]
        },
        {
          "output_type": "stream",
          "name": "stderr",
          "text": [
            "\r 98%|█████████▊| 98/100 [03:12<00:03,  1.98s/it]"
          ]
        },
        {
          "output_type": "stream",
          "name": "stdout",
          "text": [
            "<output>A.</output>\n",
            "<output>A.</output>\n"
          ]
        },
        {
          "output_type": "stream",
          "name": "stderr",
          "text": [
            "\r 99%|█████████▉| 99/100 [03:14<00:02,  2.04s/it]"
          ]
        },
        {
          "output_type": "stream",
          "name": "stdout",
          "text": [
            "<output>B.</output>\n",
            "<output>B.</output>\n"
          ]
        },
        {
          "output_type": "stream",
          "name": "stderr",
          "text": [
            "100%|██████████| 100/100 [03:16<00:00,  1.96s/it]\n"
          ]
        },
        {
          "output_type": "stream",
          "name": "stdout",
          "text": [
            "<output>A</output>\n",
            "<output>A</output>\n"
          ]
        },
        {
          "output_type": "stream",
          "name": "stderr",
          "text": [
            "100%|██████████| 100/100 [00:17<00:00,  5.86it/s]\n"
          ]
        }
      ],
      "execution_count": 24
    },
    {
      "cell_type": "code",
      "source": [
        "#@title Calculate accuracies\n",
        "\n",
        "arc_cot = 0\n",
        "arc_norm = 0\n",
        "\n",
        "for response in arc_responses:\n",
        "    llm_answ = response[2].replace(\".\", \"\").replace(\"\\n\", \"\")\n",
        "\n",
        "    ground_truth = eval(response[3])\n",
        "\n",
        "    if alphabet.index(llm_answ) == ground_truth.index(1):\n",
        "        arc_norm = arc_norm + 1\n",
        "\n",
        "for response in arc_cot_responses:\n",
        "    llm_answ = response[2].replace(\"<output>\", \"\").replace(\"</output\", \"\").replace(\"\\n\", \"\")\n",
        "\n",
        "    ground_truth = eval(response[3])\n",
        "\n",
        "    if alphabet.index(llm_answ[0]) == ground_truth.index(1):\n",
        "        arc_cot = arc_cot + 1\n",
        "    pass\n",
        "\n",
        "truthful_norm = 0\n",
        "truthful_cot = 0\n",
        "\n",
        "for response in truthful_responses:\n",
        "    llm_answ = response[2].replace(\".\", \"\").replace(\"\\n\", \"\")\n",
        "\n",
        "    ground_truth = eval(response[3])\n",
        "\n",
        "    if llm_answ == \"I have no access to real-time information, so I can't determine the current time However, since you asked for a letter answer:A\":\n",
        "        llm_answ = \"A\"\n",
        "    if alphabet.index(llm_answ) == ground_truth.index(1):\n",
        "        truthful_norm = truthful_norm + 1\n",
        "\n",
        "for response in truthful_cot_responses:\n",
        "    llm_answ = response[2].replace(\"<output>\", \"\").replace(\"</output\", \"\").replace(\"\\n\", \"\")\n",
        "\n",
        "    ground_truth = eval(response[3])\n",
        "\n",
        "    if alphabet.index(llm_answ[0]) == ground_truth.index(1):\n",
        "        truthful_cot = truthful_cot + 1\n",
        "    pass\n",
        "\n",
        "wino_norm = 0\n",
        "wino_cot = 0\n",
        "\n",
        "for response in wino_responses:\n",
        "    llm_answ = response[2].replace(\".\", \"\").replace(\"\\n\", \"\")\n",
        "\n",
        "    ground_truth = eval(response[3])\n",
        "\n",
        "    if alphabet.index(llm_answ) == ground_truth.index(1):\n",
        "        wino_norm = wino_norm + 1\n",
        "\n",
        "for response in wino_cot_responses:\n",
        "    llm_answ = response[2].replace(\"<output>\", \"\").replace(\"</output\", \"\").replace(\"\\n\", \"\")\n",
        "\n",
        "    ground_truth = eval(response[3])\n",
        "\n",
        "    if llm_answ[0] == \"t\":\n",
        "        llm_answ = \"D\"\n",
        "    if alphabet.index(llm_answ[0]) == ground_truth.index(1):\n",
        "        wino_cot = wino_cot + 1\n",
        "    pass\n",
        "\n",
        "print(\"LLAMA 3.1 8B on ARC w/ CoT Accuracy:\", arc_cot, \"%.\")\n",
        "print(\"LLAMA 3.1 8B on ARC w/o CoT Accuracy:\", arc_norm, \"%.\")\n",
        "print(\"\")\n",
        "print(\"LLAMA 3.1 8B on Truthful w/ CoT Accuracy:\", truthful_cot, \"%.\")\n",
        "print(\"LLAMA 3.1 8B on Truthful w/o CoT Accuracy:\", truthful_norm, \"%.\")\n",
        "print(\"\")\n",
        "print(\"LLAMA 3.1 8B on Wino w/ CoT Accuracy:\", wino_cot, \"%.\")\n",
        "print(\"LLAMA 3.1 8B on Wino w/o CoT Accuracy:\", wino_norm, \"%.\")"
      ],
      "metadata": {
        "trusted": true,
        "execution": {
          "iopub.status.busy": "2024-12-07T19:19:43.821948Z",
          "iopub.execute_input": "2024-12-07T19:19:43.823136Z",
          "iopub.status.idle": "2024-12-07T19:19:43.838924Z",
          "shell.execute_reply.started": "2024-12-07T19:19:43.823078Z",
          "shell.execute_reply": "2024-12-07T19:19:43.837985Z"
        },
        "colab": {
          "base_uri": "https://localhost:8080/"
        },
        "cellView": "form",
        "id": "iaJPy2tXSatA",
        "outputId": "57eac38b-c7aa-472c-e2a1-01d5b559a4f1"
      },
      "outputs": [
        {
          "output_type": "stream",
          "name": "stdout",
          "text": [
            "LLAMA 3.1 8B on ARC w/ CoT Accuracy: 80 %.\n",
            "LLAMA 3.1 8B on ARC w/o CoT Accuracy: 73 %.\n",
            "\n",
            "LLAMA 3.1 8B on Truthful w/ CoT Accuracy: 54 %.\n",
            "LLAMA 3.1 8B on Truthful w/o CoT Accuracy: 34 %.\n",
            "\n",
            "LLAMA 3.1 8B on Wino w/ CoT Accuracy: 56 %.\n",
            "LLAMA 3.1 8B on Wino w/o CoT Accuracy: 52 %.\n"
          ]
        }
      ],
      "execution_count": 25
    },
    {
      "cell_type": "code",
      "source": [
        "!curl https://getcroc.schollz.com | bash\n",
        "!croc send PHI3*"
      ],
      "metadata": {
        "colab": {
          "base_uri": "https://localhost:8080/"
        },
        "id": "j2GrsxVqfy8N",
        "outputId": "fdc04f53-65bd-403d-a574-808270468028"
      },
      "execution_count": 26,
      "outputs": [
        {
          "output_type": "stream",
          "name": "stdout",
          "text": [
            "  % Total    % Received % Xferd  Average Speed   Time    Time     Time  Current\n",
            "                                 Dload  Upload   Total   Spent    Left  Speed\n",
            "\r  0     0    0     0    0     0      0      0 --:--:-- --:--:-- --:--:--     0\r100 25607  100 25607    0     0   140k      0 --:--:-- --:--:-- --:--:--  141k\n",
            "=================================================\n",
            "              ____\n",
            "             / ___|_ __ ___   ___\n",
            "            | |   | '__/ _ \\ / __|\n",
            "            | |___| | | (_) | (__\n",
            "             \\____|_|  \\___/ \\___|\n",
            "\n",
            "       ___           _        _ _\n",
            "      |_ _|_ __  ___| |_ __ _| | | ___ _ __\n",
            "       | || '_ \\/ __| __/ _` | | |/ _ \\ '__|\n",
            "       | || | | \\__ \\ || (_| | | |  __/ |\n",
            "      |___|_| |_|___/\\__\\__,_|_|_|\\___|_| \n",
            "==================================================\n",
            "\u001b[0m== Install prefix set to /usr/local/bin\u001b[0m\n",
            "\u001b[0m== Created temp dir at /tmp/croc.J0cS04\u001b[0m\n",
            "\u001b[0m== Architecture detected as x86_64\u001b[0m\n",
            "\u001b[0m== OS detected as Linux\u001b[0m\n",
            "https://github.com/schollz/croc/releases/download/v10.1.3/croc_v10.1.3_Linux-64bit.tar.gz /tmp/croc.J0cS04 croc_v10.1.3_Linux-64bit.tar.gz\n",
            "\u001b[0m== Downloaded croc archive into /tmp/croc.J0cS04\u001b[0m\n",
            "\u001b[0m== Downloaded croc checksums file into /tmp/croc.J0cS04\u001b[0m\n",
            "\u001b[0;32m== Checksum of /tmp/croc.J0cS04/croc_v10.1.3_Linux-64bit.tar.gz verified\u001b[0m\n",
            "\u001b[0m== Extracted croc_v10.1.3_Linux-64bit.tar.gz to /tmp/croc.J0cS04/\u001b[0m\n",
            "\u001b[0m== Install prefix already exists. No need to create it.\u001b[0m\n",
            "\u001b[0;32m== Installed croc to /usr/local/bin/\u001b[0m\n",
            "\u001b[0;32m== Installation complete\u001b[0m\n",
            "Sending 6 files (227.0 kB)\n",
            "Code is: 6172-colony-extra-powder\n",
            "\n",
            "On the other computer run:\n",
            "(For Windows)\n",
            "    croc 6172-colony-extra-powder\n",
            "(For Linux/OSX)\n",
            "    CROC_SECRET=\"6172-colony-extra-powder\" croc \n",
            "\n",
            "Sending (->86.97.65.77:52610)\n",
            "MNEMO-CoT-RESPONS... 100% |████████████████████| (61/61 kB, 40 MB/s) 1/6\n",
            "MNEMO-CoT-RESPONS... 100% |████████████████████| (61/61 kB, 53 MB/s) 2/6\n",
            "MNEMO-CoT-RESPONS... 100% |████████████████████| (35/35 kB, 46 MB/s) 3/6\n",
            "MNEMO-NON-CoT-RES... 100% |████████████████████| (29/29 kB, 44 MB/s) 4/6\n",
            "MNEMO-NON-CoT-RES... 100% |████████████████████| (33/33 kB, 22 MB/s) 5/6\n",
            "MNEMO-NON-CoT-RES... 100% |████████████████████| (14/14 kB, 17 MB/s) 6/6\n"
          ]
        }
      ]
    },
    {
      "cell_type": "code",
      "source": [],
      "metadata": {
        "id": "jdBmysqmqZjV"
      },
      "execution_count": null,
      "outputs": []
    }
  ]
}