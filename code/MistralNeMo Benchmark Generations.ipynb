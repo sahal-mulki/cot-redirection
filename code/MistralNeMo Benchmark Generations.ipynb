{
  "metadata": {
    "kernelspec": {
      "name": "python3",
      "display_name": "Python 3",
      "language": "python"
    },
    "language_info": {
      "name": "python",
      "version": "3.10.14",
      "mimetype": "text/x-python",
      "codemirror_mode": {
        "name": "ipython",
        "version": 3
      },
      "pygments_lexer": "ipython3",
      "nbconvert_exporter": "python",
      "file_extension": ".py"
    },
    "colab": {
      "provenance": [],
      "gpuType": "T4"
    },
    "accelerator": "GPU"
  },
  "nbformat_minor": 0,
  "nbformat": 4,
  "cells": [
    {
      "cell_type": "code",
      "source": [
        "# @title Install packages and model(s?).\n",
        "\n",
        "\n",
        "!pip install -U ollama==0.4.2 langchain langchain-ollama openai\n",
        "!curl -fsSL https://ollama.com/install.sh | sh\n",
        "import subprocess\n",
        "subprocess.Popen(\"ollama serve\", shell=True)\n",
        "!ollama pull mistral-nemo:12b\n",
        "\n",
        "!kaggle datasets download sahalmulki/gaslighting-llms\n",
        "#unzip to a folder\n",
        "!mkdir gaslighting-llms\n",
        "!unzip gaslighting-llms.zip -d gaslighting-llms/"
      ],
      "metadata": {
        "trusted": true,
        "execution": {
          "iopub.status.busy": "2024-12-07T17:08:50.362171Z",
          "iopub.execute_input": "2024-12-07T17:08:50.362568Z",
          "iopub.status.idle": "2024-12-07T17:08:51.372539Z",
          "shell.execute_reply.started": "2024-12-07T17:08:50.362537Z",
          "shell.execute_reply": "2024-12-07T17:08:51.371678Z"
        },
        "colab": {
          "base_uri": "https://localhost:8080/"
        },
        "id": "4vh3jHa2Sas5",
        "outputId": "bf318324-19c4-4a91-ed20-7d7de93a9601"
      },
      "outputs": [
        {
          "output_type": "stream",
          "name": "stdout",
          "text": [
            "Requirement already satisfied: ollama==0.4.2 in /usr/local/lib/python3.10/dist-packages (0.4.2)\n",
            "Requirement already satisfied: langchain in /usr/local/lib/python3.10/dist-packages (0.3.10)\n",
            "Requirement already satisfied: langchain-ollama in /usr/local/lib/python3.10/dist-packages (0.2.1)\n",
            "Requirement already satisfied: openai in /usr/local/lib/python3.10/dist-packages (1.57.1)\n",
            "Requirement already satisfied: httpx<0.28.0,>=0.27.0 in /usr/local/lib/python3.10/dist-packages (from ollama==0.4.2) (0.27.2)\n",
            "Requirement already satisfied: pydantic<3.0.0,>=2.9.0 in /usr/local/lib/python3.10/dist-packages (from ollama==0.4.2) (2.10.3)\n",
            "Requirement already satisfied: PyYAML>=5.3 in /usr/local/lib/python3.10/dist-packages (from langchain) (6.0.2)\n",
            "Requirement already satisfied: SQLAlchemy<3,>=1.4 in /usr/local/lib/python3.10/dist-packages (from langchain) (2.0.36)\n",
            "Requirement already satisfied: aiohttp<4.0.0,>=3.8.3 in /usr/local/lib/python3.10/dist-packages (from langchain) (3.11.9)\n",
            "Requirement already satisfied: async-timeout<5.0.0,>=4.0.0 in /usr/local/lib/python3.10/dist-packages (from langchain) (4.0.3)\n",
            "Requirement already satisfied: langchain-core<0.4.0,>=0.3.22 in /usr/local/lib/python3.10/dist-packages (from langchain) (0.3.22)\n",
            "Requirement already satisfied: langchain-text-splitters<0.4.0,>=0.3.0 in /usr/local/lib/python3.10/dist-packages (from langchain) (0.3.2)\n",
            "Requirement already satisfied: langsmith<0.2.0,>=0.1.17 in /usr/local/lib/python3.10/dist-packages (from langchain) (0.1.147)\n",
            "Requirement already satisfied: numpy<2,>=1.22.4 in /usr/local/lib/python3.10/dist-packages (from langchain) (1.26.4)\n",
            "Requirement already satisfied: requests<3,>=2 in /usr/local/lib/python3.10/dist-packages (from langchain) (2.32.3)\n",
            "Requirement already satisfied: tenacity!=8.4.0,<10,>=8.1.0 in /usr/local/lib/python3.10/dist-packages (from langchain) (9.0.0)\n",
            "Requirement already satisfied: anyio<5,>=3.5.0 in /usr/local/lib/python3.10/dist-packages (from openai) (3.7.1)\n",
            "Requirement already satisfied: distro<2,>=1.7.0 in /usr/local/lib/python3.10/dist-packages (from openai) (1.9.0)\n",
            "Requirement already satisfied: jiter<1,>=0.4.0 in /usr/local/lib/python3.10/dist-packages (from openai) (0.8.0)\n",
            "Requirement already satisfied: sniffio in /usr/local/lib/python3.10/dist-packages (from openai) (1.3.1)\n",
            "Requirement already satisfied: tqdm>4 in /usr/local/lib/python3.10/dist-packages (from openai) (4.66.6)\n",
            "Requirement already satisfied: typing-extensions<5,>=4.11 in /usr/local/lib/python3.10/dist-packages (from openai) (4.12.2)\n",
            "Requirement already satisfied: aiohappyeyeballs>=2.3.0 in /usr/local/lib/python3.10/dist-packages (from aiohttp<4.0.0,>=3.8.3->langchain) (2.4.4)\n",
            "Requirement already satisfied: aiosignal>=1.1.2 in /usr/local/lib/python3.10/dist-packages (from aiohttp<4.0.0,>=3.8.3->langchain) (1.3.1)\n",
            "Requirement already satisfied: attrs>=17.3.0 in /usr/local/lib/python3.10/dist-packages (from aiohttp<4.0.0,>=3.8.3->langchain) (24.2.0)\n",
            "Requirement already satisfied: frozenlist>=1.1.1 in /usr/local/lib/python3.10/dist-packages (from aiohttp<4.0.0,>=3.8.3->langchain) (1.5.0)\n",
            "Requirement already satisfied: multidict<7.0,>=4.5 in /usr/local/lib/python3.10/dist-packages (from aiohttp<4.0.0,>=3.8.3->langchain) (6.1.0)\n",
            "Requirement already satisfied: propcache>=0.2.0 in /usr/local/lib/python3.10/dist-packages (from aiohttp<4.0.0,>=3.8.3->langchain) (0.2.1)\n",
            "Requirement already satisfied: yarl<2.0,>=1.17.0 in /usr/local/lib/python3.10/dist-packages (from aiohttp<4.0.0,>=3.8.3->langchain) (1.18.3)\n",
            "Requirement already satisfied: idna>=2.8 in /usr/local/lib/python3.10/dist-packages (from anyio<5,>=3.5.0->openai) (3.10)\n",
            "Requirement already satisfied: exceptiongroup in /usr/local/lib/python3.10/dist-packages (from anyio<5,>=3.5.0->openai) (1.2.2)\n",
            "Requirement already satisfied: certifi in /usr/local/lib/python3.10/dist-packages (from httpx<0.28.0,>=0.27.0->ollama==0.4.2) (2024.8.30)\n",
            "Requirement already satisfied: httpcore==1.* in /usr/local/lib/python3.10/dist-packages (from httpx<0.28.0,>=0.27.0->ollama==0.4.2) (1.0.7)\n",
            "Requirement already satisfied: h11<0.15,>=0.13 in /usr/local/lib/python3.10/dist-packages (from httpcore==1.*->httpx<0.28.0,>=0.27.0->ollama==0.4.2) (0.14.0)\n",
            "Requirement already satisfied: jsonpatch<2.0,>=1.33 in /usr/local/lib/python3.10/dist-packages (from langchain-core<0.4.0,>=0.3.22->langchain) (1.33)\n",
            "Requirement already satisfied: packaging<25,>=23.2 in /usr/local/lib/python3.10/dist-packages (from langchain-core<0.4.0,>=0.3.22->langchain) (24.2)\n",
            "Requirement already satisfied: orjson<4.0.0,>=3.9.14 in /usr/local/lib/python3.10/dist-packages (from langsmith<0.2.0,>=0.1.17->langchain) (3.10.12)\n",
            "Requirement already satisfied: requests-toolbelt<2.0.0,>=1.0.0 in /usr/local/lib/python3.10/dist-packages (from langsmith<0.2.0,>=0.1.17->langchain) (1.0.0)\n",
            "Requirement already satisfied: annotated-types>=0.6.0 in /usr/local/lib/python3.10/dist-packages (from pydantic<3.0.0,>=2.9.0->ollama==0.4.2) (0.7.0)\n",
            "Requirement already satisfied: pydantic-core==2.27.1 in /usr/local/lib/python3.10/dist-packages (from pydantic<3.0.0,>=2.9.0->ollama==0.4.2) (2.27.1)\n",
            "Requirement already satisfied: charset-normalizer<4,>=2 in /usr/local/lib/python3.10/dist-packages (from requests<3,>=2->langchain) (3.4.0)\n",
            "Requirement already satisfied: urllib3<3,>=1.21.1 in /usr/local/lib/python3.10/dist-packages (from requests<3,>=2->langchain) (2.2.3)\n",
            "Requirement already satisfied: greenlet!=0.4.17 in /usr/local/lib/python3.10/dist-packages (from SQLAlchemy<3,>=1.4->langchain) (3.1.1)\n",
            "Requirement already satisfied: jsonpointer>=1.9 in /usr/local/lib/python3.10/dist-packages (from jsonpatch<2.0,>=1.33->langchain-core<0.4.0,>=0.3.22->langchain) (3.0.0)\n",
            ">>> Installing ollama to /usr/local\n",
            ">>> Downloading Linux amd64 bundle\n",
            "############################################################################################# 100.0%\n",
            ">>> Adding ollama user to video group...\n",
            ">>> Adding current user to ollama group...\n",
            ">>> Creating ollama systemd service...\n",
            "\u001b[1m\u001b[31mWARNING:\u001b[m systemd is not running\n",
            "\u001b[1m\u001b[31mWARNING:\u001b[m Unable to detect NVIDIA/AMD GPU. Install lspci or lshw to automatically detect and install GPU dependencies.\n",
            ">>> The Ollama API is now available at 127.0.0.1:11434.\n",
            ">>> Install complete. Run \"ollama\" from the command line.\n",
            "\u001b[?25lpulling manifest ⠋ \u001b[?25h\u001b[?25l\u001b[2K\u001b[1Gpulling manifest ⠙ \u001b[?25h\u001b[?25l\u001b[2K\u001b[1Gpulling manifest ⠹ \u001b[?25h\u001b[?25l\u001b[2K\u001b[1Gpulling manifest ⠸ \u001b[?25h\u001b[?25l\u001b[2K\u001b[1Gpulling manifest ⠼ \u001b[?25h\u001b[?25l\u001b[2K\u001b[1Gpulling manifest ⠴ \u001b[?25h\u001b[?25l\u001b[2K\u001b[1Gpulling manifest ⠦ \u001b[?25h\u001b[?25l\u001b[2K\u001b[1Gpulling manifest ⠧ \u001b[?25h\u001b[?25l\u001b[2K\u001b[1Gpulling manifest ⠇ \u001b[?25h\u001b[?25l\u001b[2K\u001b[1Gpulling manifest ⠏ \u001b[?25h\u001b[?25l\u001b[2K\u001b[1Gpulling manifest ⠋ \u001b[?25h\u001b[?25l\u001b[2K\u001b[1Gpulling manifest ⠙ \u001b[?25h\u001b[?25l\u001b[2K\u001b[1Gpulling manifest ⠹ \u001b[?25h\u001b[?25l\u001b[2K\u001b[1Gpulling manifest ⠸ \u001b[?25h\u001b[?25l\u001b[2K\u001b[1Gpulling manifest ⠼ \u001b[?25h\u001b[?25l\u001b[2K\u001b[1Gpulling manifest ⠴ \u001b[?25h\u001b[?25l\u001b[2K\u001b[1Gpulling manifest ⠦ \u001b[?25h\u001b[?25l\u001b[2K\u001b[1Gpulling manifest \n",
            "pulling b559938ab7a0...   0% ▕▏    0 B/7.1 GB                  \u001b[?25h\u001b[?25l\u001b[2K\u001b[1G\u001b[A\u001b[2K\u001b[1Gpulling manifest \n",
            "pulling b559938ab7a0...   0% ▕▏    0 B/7.1 GB                  \u001b[?25h\u001b[?25l\u001b[2K\u001b[1G\u001b[A\u001b[2K\u001b[1Gpulling manifest \n",
            "pulling b559938ab7a0...   0% ▕▏    0 B/7.1 GB                  \u001b[?25h\u001b[?25l\u001b[2K\u001b[1G\u001b[A\u001b[2K\u001b[1Gpulling manifest \n",
            "pulling b559938ab7a0...   0% ▕▏ 735 KB/7.1 GB                  \u001b[?25h\u001b[?25l\u001b[2K\u001b[1G\u001b[A\u001b[2K\u001b[1Gpulling manifest \n",
            "pulling b559938ab7a0...   0% ▕▏  10 MB/7.1 GB                  \u001b[?25h\u001b[?25l\u001b[2K\u001b[1G\u001b[A\u001b[2K\u001b[1Gpulling manifest \n",
            "pulling b559938ab7a0...   0% ▕▏  33 MB/7.1 GB                  \u001b[?25h\u001b[?25l\u001b[2K\u001b[1G\u001b[A\u001b[2K\u001b[1Gpulling manifest \n",
            "pulling b559938ab7a0...   1% ▕▏  55 MB/7.1 GB                  \u001b[?25h\u001b[?25l\u001b[2K\u001b[1G\u001b[A\u001b[2K\u001b[1Gpulling manifest \n",
            "pulling b559938ab7a0...   1% ▕▏  73 MB/7.1 GB                  \u001b[?25h\u001b[?25l\u001b[2K\u001b[1G\u001b[A\u001b[2K\u001b[1Gpulling manifest \n",
            "pulling b559938ab7a0...   1% ▕▏ 100 MB/7.1 GB                  \u001b[?25h\u001b[?25l\u001b[2K\u001b[1G\u001b[A\u001b[2K\u001b[1Gpulling manifest \n",
            "pulling b559938ab7a0...   2% ▕▏ 126 MB/7.1 GB                  \u001b[?25h\u001b[?25l\u001b[2K\u001b[1G\u001b[A\u001b[2K\u001b[1Gpulling manifest \n",
            "pulling b559938ab7a0...   2% ▕▏ 138 MB/7.1 GB                  \u001b[?25h\u001b[?25l\u001b[2K\u001b[1G\u001b[A\u001b[2K\u001b[1Gpulling manifest \n",
            "pulling b559938ab7a0...   2% ▕▏ 157 MB/7.1 GB  147 MB/s     46s\u001b[?25h\u001b[?25l\u001b[2K\u001b[1G\u001b[A\u001b[2K\u001b[1Gpulling manifest \n",
            "pulling b559938ab7a0...   2% ▕▏ 176 MB/7.1 GB  147 MB/s     46s\u001b[?25h\u001b[?25l\u001b[2K\u001b[1G\u001b[A\u001b[2K\u001b[1Gpulling manifest \n",
            "pulling b559938ab7a0...   3% ▕▏ 184 MB/7.1 GB  147 MB/s     46s\u001b[?25h\u001b[?25l\u001b[2K\u001b[1G\u001b[A\u001b[2K\u001b[1Gpulling manifest \n",
            "pulling b559938ab7a0...   3% ▕▏ 209 MB/7.1 GB  147 MB/s     46s\u001b[?25h\u001b[?25l\u001b[2K\u001b[1G\u001b[A\u001b[2K\u001b[1Gpulling manifest \n",
            "pulling b559938ab7a0...   3% ▕▏ 231 MB/7.1 GB  147 MB/s     46s\u001b[?25h\u001b[?25l\u001b[2K\u001b[1G\u001b[A\u001b[2K\u001b[1Gpulling manifest \n",
            "pulling b559938ab7a0...   3% ▕▏ 240 MB/7.1 GB  147 MB/s     46s\u001b[?25h\u001b[?25l\u001b[2K\u001b[1G\u001b[A\u001b[2K\u001b[1Gpulling manifest \n",
            "pulling b559938ab7a0...   4% ▕▏ 260 MB/7.1 GB  147 MB/s     46s\u001b[?25h\u001b[?25l\u001b[2K\u001b[1G\u001b[A\u001b[2K\u001b[1Gpulling manifest \n",
            "pulling b559938ab7a0...   4% ▕▏ 285 MB/7.1 GB  147 MB/s     45s\u001b[?25h\u001b[?25l\u001b[2K\u001b[1G\u001b[A\u001b[2K\u001b[1Gpulling manifest \n",
            "pulling b559938ab7a0...   4% ▕▏ 302 MB/7.1 GB  147 MB/s     45s\u001b[?25h\u001b[?25l\u001b[2K\u001b[1G\u001b[A\u001b[2K\u001b[1Gpulling manifest \n",
            "pulling b559938ab7a0...   5% ▕▏ 330 MB/7.1 GB  147 MB/s     45s\u001b[?25h\u001b[?25l\u001b[2K\u001b[1G\u001b[A\u001b[2K\u001b[1Gpulling manifest \n",
            "pulling b559938ab7a0...   5% ▕▏ 359 MB/7.1 GB  171 MB/s     39s\u001b[?25h\u001b[?25l\u001b[2K\u001b[1G\u001b[A\u001b[2K\u001b[1Gpulling manifest \n",
            "pulling b559938ab7a0...   5% ▕▏ 381 MB/7.1 GB  171 MB/s     39s\u001b[?25h\u001b[?25l\u001b[2K\u001b[1G\u001b[A\u001b[2K\u001b[1Gpulling manifest \n",
            "pulling b559938ab7a0...   6% ▕▏ 416 MB/7.1 GB  171 MB/s     38s\u001b[?25h\u001b[?25l\u001b[2K\u001b[1G\u001b[A\u001b[2K\u001b[1Gpulling manifest \n",
            "pulling b559938ab7a0...   7% ▕▏ 460 MB/7.1 GB  171 MB/s     38s\u001b[?25h\u001b[?25l\u001b[2K\u001b[1G\u001b[A\u001b[2K\u001b[1Gpulling manifest \n",
            "pulling b559938ab7a0...   7% ▕▏ 474 MB/7.1 GB  171 MB/s     38s\u001b[?25h\u001b[?25l\u001b[2K\u001b[1G\u001b[A\u001b[2K\u001b[1Gpulling manifest \n",
            "pulling b559938ab7a0...   7% ▕▏ 507 MB/7.1 GB  171 MB/s     38s\u001b[?25h\u001b[?25l\u001b[2K\u001b[1G\u001b[A\u001b[2K\u001b[1Gpulling manifest \n",
            "pulling b559938ab7a0...   8% ▕▏ 542 MB/7.1 GB  171 MB/s     38s\u001b[?25h\u001b[?25l\u001b[2K\u001b[1G\u001b[A\u001b[2K\u001b[1Gpulling manifest \n",
            "pulling b559938ab7a0...   8% ▕▏ 599 MB/7.1 GB  171 MB/s     37s\u001b[?25h\u001b[?25l\u001b[2K\u001b[1G\u001b[A\u001b[2K\u001b[1Gpulling manifest \n",
            "pulling b559938ab7a0...   9% ▕▏ 622 MB/7.1 GB  171 MB/s     37s\u001b[?25h\u001b[?25l\u001b[2K\u001b[1G\u001b[A\u001b[2K\u001b[1Gpulling manifest \n",
            "pulling b559938ab7a0...   9% ▕▏ 653 MB/7.1 GB  171 MB/s     37s\u001b[?25h\u001b[?25l\u001b[2K\u001b[1G\u001b[A\u001b[2K\u001b[1Gpulling manifest \n",
            "pulling b559938ab7a0...   9% ▕▏ 668 MB/7.1 GB  222 MB/s     28s\u001b[?25h\u001b[?25l\u001b[2K\u001b[1G\u001b[A\u001b[2K\u001b[1Gpulling manifest \n",
            "pulling b559938ab7a0...  10% ▕▏ 708 MB/7.1 GB  222 MB/s     28s\u001b[?25h\u001b[?25l\u001b[2K\u001b[1G\u001b[A\u001b[2K\u001b[1Gpulling manifest \n",
            "pulling b559938ab7a0...  11% ▕▏ 757 MB/7.1 GB  222 MB/s     28s\u001b[?25h\u001b[?25l\u001b[2K\u001b[1G\u001b[A\u001b[2K\u001b[1Gpulling manifest \n",
            "pulling b559938ab7a0...  11% ▕▏ 767 MB/7.1 GB  222 MB/s     28s\u001b[?25h\u001b[?25l\u001b[2K\u001b[1G\u001b[A\u001b[2K\u001b[1Gpulling manifest \n",
            "pulling b559938ab7a0...  11% ▕▏ 799 MB/7.1 GB  222 MB/s     28s\u001b[?25h\u001b[?25l\u001b[2K\u001b[1G\u001b[A\u001b[2K\u001b[1Gpulling manifest \n",
            "pulling b559938ab7a0...  12% ▕▏ 824 MB/7.1 GB  222 MB/s     28s\u001b[?25h\u001b[?25l\u001b[2K\u001b[1G\u001b[A\u001b[2K\u001b[1Gpulling manifest \n",
            "pulling b559938ab7a0...  12% ▕▏ 834 MB/7.1 GB  222 MB/s     27s\u001b[?25h\u001b[?25l\u001b[2K\u001b[1G\u001b[A\u001b[2K\u001b[1Gpulling manifest \n",
            "pulling b559938ab7a0...  12% ▕▏ 871 MB/7.1 GB  222 MB/s     27s\u001b[?25h\u001b[?25l\u001b[2K\u001b[1G\u001b[A\u001b[2K\u001b[1Gpulling manifest \n",
            "pulling b559938ab7a0...  13% ▕▏ 900 MB/7.1 GB  222 MB/s     27s\u001b[?25h\u001b[?25l\u001b[2K\u001b[1G\u001b[A\u001b[2K\u001b[1Gpulling manifest \n",
            "pulling b559938ab7a0...  13% ▕▏ 910 MB/7.1 GB  222 MB/s     27s\u001b[?25h\u001b[?25l\u001b[2K\u001b[1G\u001b[A\u001b[2K\u001b[1Gpulling manifest \n",
            "pulling b559938ab7a0...  13% ▕▏ 939 MB/7.1 GB  234 MB/s     26s\u001b[?25h\u001b[?25l\u001b[2K\u001b[1G\u001b[A\u001b[2K\u001b[1Gpulling manifest \n",
            "pulling b559938ab7a0...  14% ▕▏ 968 MB/7.1 GB  234 MB/s     25s\u001b[?25h\u001b[?25l\u001b[2K\u001b[1G\u001b[A\u001b[2K\u001b[1Gpulling manifest \n",
            "pulling b559938ab7a0...  14% ▕▏ 984 MB/7.1 GB  234 MB/s     25s\u001b[?25h\u001b[?25l\u001b[2K\u001b[1G\u001b[A\u001b[2K\u001b[1Gpulling manifest \n",
            "pulling b559938ab7a0...  14% ▕▏ 1.0 GB/7.1 GB  234 MB/s     25s\u001b[?25h\u001b[?25l\u001b[2K\u001b[1G\u001b[A\u001b[2K\u001b[1Gpulling manifest \n",
            "pulling b559938ab7a0...  15% ▕▏ 1.0 GB/7.1 GB  234 MB/s     25s\u001b[?25h\u001b[?25l\u001b[2K\u001b[1G\u001b[A\u001b[2K\u001b[1Gpulling manifest \n",
            "pulling b559938ab7a0...  15% ▕▏ 1.1 GB/7.1 GB  234 MB/s     25s\u001b[?25h\u001b[?25l\u001b[2K\u001b[1G\u001b[A\u001b[2K\u001b[1Gpulling manifest \n",
            "pulling b559938ab7a0...  16% ▕▏ 1.1 GB/7.1 GB  234 MB/s     25s\u001b[?25h\u001b[?25l\u001b[2K\u001b[1G\u001b[A\u001b[2K\u001b[1Gpulling manifest \n",
            "pulling b559938ab7a0...  16% ▕▏ 1.1 GB/7.1 GB  234 MB/s     25s\u001b[?25h\u001b[?25l\u001b[2K\u001b[1G\u001b[A\u001b[2K\u001b[1Gpulling manifest \n",
            "pulling b559938ab7a0...  16% ▕▏ 1.1 GB/7.1 GB  234 MB/s     25s\u001b[?25h\u001b[?25l\u001b[2K\u001b[1G\u001b[A\u001b[2K\u001b[1Gpulling manifest \n",
            "pulling b559938ab7a0...  17% ▕▏ 1.2 GB/7.1 GB  234 MB/s     25s\u001b[?25h\u001b[?25l\u001b[2K\u001b[1G\u001b[A\u001b[2K\u001b[1Gpulling manifest \n",
            "pulling b559938ab7a0...  17% ▕▏ 1.2 GB/7.1 GB  240 MB/s     24s\u001b[?25h\u001b[?25l\u001b[2K\u001b[1G\u001b[A\u001b[2K\u001b[1Gpulling manifest \n",
            "pulling b559938ab7a0...  17% ▕▏ 1.2 GB/7.1 GB  240 MB/s     24s\u001b[?25h\u001b[?25l\u001b[2K\u001b[1G\u001b[A\u001b[2K\u001b[1Gpulling manifest \n",
            "pulling b559938ab7a0...  18% ▕▏ 1.2 GB/7.1 GB  240 MB/s     24s\u001b[?25h\u001b[?25l\u001b[2K\u001b[1G\u001b[A\u001b[2K\u001b[1Gpulling manifest \n",
            "pulling b559938ab7a0...  18% ▕▏ 1.3 GB/7.1 GB  240 MB/s     24s\u001b[?25h\u001b[?25l\u001b[2K\u001b[1G\u001b[A\u001b[2K\u001b[1Gpulling manifest \n",
            "pulling b559938ab7a0...  18% ▕▏ 1.3 GB/7.1 GB  240 MB/s     24s\u001b[?25h\u001b[?25l\u001b[2K\u001b[1G\u001b[A\u001b[2K\u001b[1Gpulling manifest \n",
            "pulling b559938ab7a0...  19% ▕▏ 1.3 GB/7.1 GB  240 MB/s     23s\u001b[?25h\u001b[?25l\u001b[2K\u001b[1G\u001b[A\u001b[2K\u001b[1Gpulling manifest \n",
            "pulling b559938ab7a0...  19% ▕▏ 1.3 GB/7.1 GB  240 MB/s     23s\u001b[?25h\u001b[?25l\u001b[2K\u001b[1G\u001b[A\u001b[2K\u001b[1Gpulling manifest \n",
            "pulling b559938ab7a0...  19% ▕▏ 1.4 GB/7.1 GB  240 MB/s     23s\u001b[?25h\u001b[?25l\u001b[2K\u001b[1G\u001b[A\u001b[2K\u001b[1Gpulling manifest \n",
            "pulling b559938ab7a0...  20% ▕▏ 1.4 GB/7.1 GB  240 MB/s     23s\u001b[?25h\u001b[?25l\u001b[2K\u001b[1G\u001b[A\u001b[2K\u001b[1Gpulling manifest \n",
            "pulling b559938ab7a0...  20% ▕▏ 1.4 GB/7.1 GB  240 MB/s     23s\u001b[?25h\u001b[?25l\u001b[2K\u001b[1G\u001b[A\u001b[2K\u001b[1Gpulling manifest \n",
            "pulling b559938ab7a0...  20% ▕▏ 1.4 GB/7.1 GB  240 MB/s     23s\u001b[?25h\u001b[?25l\u001b[2K\u001b[1G\u001b[A\u001b[2K\u001b[1Gpulling manifest \n",
            "pulling b559938ab7a0...  21% ▕▏ 1.5 GB/7.1 GB  240 MB/s     23s\u001b[?25h\u001b[?25l\u001b[2K\u001b[1G\u001b[A\u001b[2K\u001b[1Gpulling manifest \n",
            "pulling b559938ab7a0...  21% ▕▏ 1.5 GB/7.1 GB  240 MB/s     23s\u001b[?25h\u001b[?25l\u001b[2K\u001b[1G\u001b[A\u001b[2K\u001b[1Gpulling manifest \n",
            "pulling b559938ab7a0...  21% ▕▏ 1.5 GB/7.1 GB  240 MB/s     23s\u001b[?25h\u001b[?25l\u001b[2K\u001b[1G\u001b[A\u001b[2K\u001b[1Gpulling manifest \n",
            "pulling b559938ab7a0...  22% ▕▏ 1.5 GB/7.1 GB  240 MB/s     23s\u001b[?25h\u001b[?25l\u001b[2K\u001b[1G\u001b[A\u001b[2K\u001b[1Gpulling manifest \n",
            "pulling b559938ab7a0...  22% ▕▏ 1.5 GB/7.1 GB  240 MB/s     22s\u001b[?25h\u001b[?25l\u001b[2K\u001b[1G\u001b[A\u001b[2K\u001b[1Gpulling manifest \n",
            "pulling b559938ab7a0...  22% ▕▏ 1.6 GB/7.1 GB  240 MB/s     22s\u001b[?25h\u001b[?25l\u001b[2K\u001b[1G\u001b[A\u001b[2K\u001b[1Gpulling manifest \n",
            "pulling b559938ab7a0...  23% ▕▏ 1.6 GB/7.1 GB  240 MB/s     22s\u001b[?25h\u001b[?25l\u001b[2K\u001b[1G\u001b[A\u001b[2K\u001b[1Gpulling manifest \n",
            "pulling b559938ab7a0...  23% ▕▏ 1.6 GB/7.1 GB  240 MB/s     22s\u001b[?25h\u001b[?25l\u001b[2K\u001b[1G\u001b[A\u001b[2K\u001b[1Gpulling manifest \n",
            "pulling b559938ab7a0...  23% ▕▏ 1.6 GB/7.1 GB  240 MB/s     22s\u001b[?25h\u001b[?25l\u001b[2K\u001b[1G\u001b[A\u001b[2K\u001b[1Gpulling manifest \n",
            "pulling b559938ab7a0...  23% ▕▏ 1.6 GB/7.1 GB  240 MB/s     22s\u001b[?25h\u001b[?25l\u001b[2K\u001b[1G\u001b[A\u001b[2K\u001b[1Gpulling manifest \n",
            "pulling b559938ab7a0...  24% ▕▏ 1.7 GB/7.1 GB  237 MB/s     22s\u001b[?25h\u001b[?25l\u001b[2K\u001b[1G\u001b[A\u001b[2K\u001b[1Gpulling manifest \n",
            "pulling b559938ab7a0...  24% ▕▏ 1.7 GB/7.1 GB  237 MB/s     22s\u001b[?25h\u001b[?25l\u001b[2K\u001b[1G\u001b[A\u001b[2K\u001b[1Gpulling manifest \n",
            "pulling b559938ab7a0...  24% ▕▏ 1.7 GB/7.1 GB  237 MB/s     22s\u001b[?25h\u001b[?25l\u001b[2K\u001b[1G\u001b[A\u001b[2K\u001b[1Gpulling manifest \n",
            "pulling b559938ab7a0...  24% ▕▏ 1.7 GB/7.1 GB  237 MB/s     22s\u001b[?25h\u001b[?25l\u001b[2K\u001b[1G\u001b[A\u001b[2K\u001b[1Gpulling manifest \n",
            "pulling b559938ab7a0...  25% ▕▏ 1.7 GB/7.1 GB  237 MB/s     22s\u001b[?25h\u001b[?25l\u001b[2K\u001b[1G\u001b[A\u001b[2K\u001b[1Gpulling manifest \n",
            "pulling b559938ab7a0...  25% ▕▏ 1.8 GB/7.1 GB  237 MB/s     22s\u001b[?25h\u001b[?25l\u001b[2K\u001b[1G\u001b[A\u001b[2K\u001b[1Gpulling manifest \n",
            "pulling b559938ab7a0...  25% ▕▏ 1.8 GB/7.1 GB  237 MB/s     22s\u001b[?25h\u001b[?25l\u001b[2K\u001b[1G\u001b[A\u001b[2K\u001b[1Gpulling manifest \n",
            "pulling b559938ab7a0...  26% ▕▏ 1.8 GB/7.1 GB  237 MB/s     22s\u001b[?25h\u001b[?25l\u001b[2K\u001b[1G\u001b[A\u001b[2K\u001b[1Gpulling manifest \n",
            "pulling b559938ab7a0...  26% ▕▏ 1.8 GB/7.1 GB  237 MB/s     21s\u001b[?25h\u001b[?25l\u001b[2K\u001b[1G\u001b[A\u001b[2K\u001b[1Gpulling manifest \n",
            "pulling b559938ab7a0...  27% ▕▏ 1.9 GB/7.1 GB  237 MB/s     21s\u001b[?25h\u001b[?25l\u001b[2K\u001b[1G\u001b[A\u001b[2K\u001b[1Gpulling manifest \n",
            "pulling b559938ab7a0...  27% ▕▏ 1.9 GB/7.1 GB  235 MB/s     21s\u001b[?25h\u001b[?25l\u001b[2K\u001b[1G\u001b[A\u001b[2K\u001b[1Gpulling manifest \n",
            "pulling b559938ab7a0...  27% ▕▏ 1.9 GB/7.1 GB  235 MB/s     21s\u001b[?25h\u001b[?25l\u001b[2K\u001b[1G\u001b[A\u001b[2K\u001b[1Gpulling manifest \n",
            "pulling b559938ab7a0...  27% ▕▏ 1.9 GB/7.1 GB  235 MB/s     21s\u001b[?25h\u001b[?25l\u001b[2K\u001b[1G\u001b[A\u001b[2K\u001b[1Gpulling manifest \n",
            "pulling b559938ab7a0...  28% ▕▏ 1.9 GB/7.1 GB  235 MB/s     21s\u001b[?25h\u001b[?25l\u001b[2K\u001b[1G\u001b[A\u001b[2K\u001b[1Gpulling manifest \n",
            "pulling b559938ab7a0...  28% ▕▏ 2.0 GB/7.1 GB  235 MB/s     21s\u001b[?25h\u001b[?25l\u001b[2K\u001b[1G\u001b[A\u001b[2K\u001b[1Gpulling manifest \n",
            "pulling b559938ab7a0...  28% ▕▏ 2.0 GB/7.1 GB  235 MB/s     21s\u001b[?25h\u001b[?25l\u001b[2K\u001b[1G\u001b[A\u001b[2K\u001b[1Gpulling manifest \n",
            "pulling b559938ab7a0...  29% ▕▏ 2.0 GB/7.1 GB  235 MB/s     21s\u001b[?25h\u001b[?25l\u001b[2K\u001b[1G\u001b[A\u001b[2K\u001b[1Gpulling manifest \n",
            "pulling b559938ab7a0...  29% ▕▏ 2.1 GB/7.1 GB  235 MB/s     21s\u001b[?25h\u001b[?25l\u001b[2K\u001b[1G\u001b[A\u001b[2K\u001b[1Gpulling manifest \n",
            "pulling b559938ab7a0...  29% ▕▏ 2.1 GB/7.1 GB  235 MB/s     21s\u001b[?25h\u001b[?25l\u001b[2K\u001b[1G\u001b[A\u001b[2K\u001b[1Gpulling manifest \n",
            "pulling b559938ab7a0...  30% ▕▏ 2.1 GB/7.1 GB  235 MB/s     21s\u001b[?25h\u001b[?25l\u001b[2K\u001b[1G\u001b[A\u001b[2K\u001b[1Gpulling manifest \n",
            "pulling b559938ab7a0...  30% ▕▏ 2.1 GB/7.1 GB  236 MB/s     20s\u001b[?25h\u001b[?25l\u001b[2K\u001b[1G\u001b[A\u001b[2K\u001b[1Gpulling manifest \n",
            "pulling b559938ab7a0...  31% ▕▏ 2.2 GB/7.1 GB  236 MB/s     20s\u001b[?25h\u001b[?25l\u001b[2K\u001b[1G\u001b[A\u001b[2K\u001b[1Gpulling manifest \n",
            "pulling b559938ab7a0...  31% ▕▏ 2.2 GB/7.1 GB  236 MB/s     20s\u001b[?25h\u001b[?25l\u001b[2K\u001b[1G\u001b[A\u001b[2K\u001b[1Gpulling manifest \n",
            "pulling b559938ab7a0...  31% ▕▏ 2.2 GB/7.1 GB  236 MB/s     20s\u001b[?25h\u001b[?25l\u001b[2K\u001b[1G\u001b[A\u001b[2K\u001b[1Gpulling manifest \n",
            "pulling b559938ab7a0...  32% ▕▏ 2.2 GB/7.1 GB  236 MB/s     20s\u001b[?25h\u001b[?25l\u001b[2K\u001b[1G\u001b[A\u001b[2K\u001b[1Gpulling manifest \n",
            "pulling b559938ab7a0...  32% ▕▏ 2.3 GB/7.1 GB  236 MB/s     20s\u001b[?25h\u001b[?25l\u001b[2K\u001b[1G\u001b[A\u001b[2K\u001b[1Gpulling manifest \n",
            "pulling b559938ab7a0...  32% ▕▏ 2.3 GB/7.1 GB  236 MB/s     20s\u001b[?25h\u001b[?25l\u001b[2K\u001b[1G\u001b[A\u001b[2K\u001b[1Gpulling manifest \n",
            "pulling b559938ab7a0...  33% ▕▏ 2.3 GB/7.1 GB  236 MB/s     20s\u001b[?25h\u001b[?25l\u001b[2K\u001b[1G\u001b[A\u001b[2K\u001b[1Gpulling manifest \n",
            "pulling b559938ab7a0...  33% ▕▏ 2.3 GB/7.1 GB  236 MB/s     20s\u001b[?25h\u001b[?25l\u001b[2K\u001b[1G\u001b[A\u001b[2K\u001b[1Gpulling manifest \n",
            "pulling b559938ab7a0...  33% ▕▏ 2.4 GB/7.1 GB  236 MB/s     19s\u001b[?25h\u001b[?25l\u001b[2K\u001b[1G\u001b[A\u001b[2K\u001b[1Gpulling manifest \n",
            "pulling b559938ab7a0...  34% ▕▏ 2.4 GB/7.1 GB  249 MB/s     18s\u001b[?25h\u001b[?25l\u001b[2K\u001b[1G\u001b[A\u001b[2K\u001b[1Gpulling manifest \n",
            "pulling b559938ab7a0...  34% ▕▏ 2.4 GB/7.1 GB  249 MB/s     18s\u001b[?25h\u001b[?25l\u001b[2K\u001b[1G\u001b[A\u001b[2K\u001b[1Gpulling manifest \n",
            "pulling b559938ab7a0...  35% ▕▏ 2.4 GB/7.1 GB  249 MB/s     18s\u001b[?25h\u001b[?25l\u001b[2K\u001b[1G\u001b[A\u001b[2K\u001b[1Gpulling manifest \n",
            "pulling b559938ab7a0...  35% ▕▏ 2.5 GB/7.1 GB  249 MB/s     18s\u001b[?25h\u001b[?25l\u001b[2K\u001b[1G\u001b[A\u001b[2K\u001b[1Gpulling manifest \n",
            "pulling b559938ab7a0...  35% ▕▏ 2.5 GB/7.1 GB  249 MB/s     18s\u001b[?25h\u001b[?25l\u001b[2K\u001b[1G\u001b[A\u001b[2K\u001b[1Gpulling manifest \n",
            "pulling b559938ab7a0...  36% ▕▏ 2.5 GB/7.1 GB  249 MB/s     18s\u001b[?25h\u001b[?25l\u001b[2K\u001b[1G\u001b[A\u001b[2K\u001b[1Gpulling manifest \n",
            "pulling b559938ab7a0...  36% ▕▏ 2.5 GB/7.1 GB  249 MB/s     18s\u001b[?25h\u001b[?25l\u001b[2K\u001b[1G\u001b[A\u001b[2K\u001b[1Gpulling manifest \n",
            "pulling b559938ab7a0...  36% ▕▏ 2.6 GB/7.1 GB  249 MB/s     18s\u001b[?25h\u001b[?25l\u001b[2K\u001b[1G\u001b[A\u001b[2K\u001b[1Gpulling manifest \n",
            "pulling b559938ab7a0...  37% ▕▏ 2.6 GB/7.1 GB  249 MB/s     17s\u001b[?25h\u001b[?25l\u001b[2K\u001b[1G\u001b[A\u001b[2K\u001b[1Gpulling manifest \n",
            "pulling b559938ab7a0...  37% ▕▏ 2.6 GB/7.1 GB  249 MB/s     17s\u001b[?25h\u001b[?25l\u001b[2K\u001b[1G\u001b[A\u001b[2K\u001b[1Gpulling manifest \n",
            "pulling b559938ab7a0...  38% ▕▏ 2.7 GB/7.1 GB  249 MB/s     17s\u001b[?25h\u001b[?25l\u001b[2K\u001b[1G\u001b[A\u001b[2K\u001b[1Gpulling manifest \n",
            "pulling b559938ab7a0...  38% ▕▏ 2.7 GB/7.1 GB  260 MB/s     16s\u001b[?25h\u001b[?25l\u001b[2K\u001b[1G\u001b[A\u001b[2K\u001b[1Gpulling manifest \n",
            "pulling b559938ab7a0...  39% ▕▏ 2.8 GB/7.1 GB  260 MB/s     16s\u001b[?25h\u001b[?25l\u001b[2K\u001b[1G\u001b[A\u001b[2K\u001b[1Gpulling manifest \n",
            "pulling b559938ab7a0...  39% ▕▏ 2.8 GB/7.1 GB  260 MB/s     16s\u001b[?25h\u001b[?25l\u001b[2K\u001b[1G\u001b[A\u001b[2K\u001b[1Gpulling manifest \n",
            "pulling b559938ab7a0...  40% ▕▏ 2.8 GB/7.1 GB  260 MB/s     16s\u001b[?25h\u001b[?25l\u001b[2K\u001b[1G\u001b[A\u001b[2K\u001b[1Gpulling manifest \n",
            "pulling b559938ab7a0...  40% ▕▏ 2.8 GB/7.1 GB  260 MB/s     16s\u001b[?25h\u001b[?25l\u001b[2K\u001b[1G\u001b[A\u001b[2K\u001b[1Gpulling manifest \n",
            "pulling b559938ab7a0...  40% ▕▏ 2.9 GB/7.1 GB  260 MB/s     16s\u001b[?25h\u001b[?25l\u001b[2K\u001b[1G\u001b[A\u001b[2K\u001b[1Gpulling manifest \n",
            "pulling b559938ab7a0...  41% ▕▏ 2.9 GB/7.1 GB  260 MB/s     16s\u001b[?25h\u001b[?25l\u001b[2K\u001b[1G\u001b[A\u001b[2K\u001b[1Gpulling manifest \n",
            "pulling b559938ab7a0...  41% ▕▏ 2.9 GB/7.1 GB  260 MB/s     16s\u001b[?25h\u001b[?25l\u001b[2K\u001b[1G\u001b[A\u001b[2K\u001b[1Gpulling manifest \n",
            "pulling b559938ab7a0...  41% ▕▏ 2.9 GB/7.1 GB  260 MB/s     16s\u001b[?25h\u001b[?25l\u001b[2K\u001b[1G\u001b[A\u001b[2K\u001b[1Gpulling manifest \n",
            "pulling b559938ab7a0...  41% ▕▏ 2.9 GB/7.1 GB  260 MB/s     15s\u001b[?25h\u001b[?25l\u001b[2K\u001b[1G\u001b[A\u001b[2K\u001b[1Gpulling manifest \n",
            "pulling b559938ab7a0...  42% ▕▏ 2.9 GB/7.1 GB  250 MB/s     16s\u001b[?25h\u001b[?25l\u001b[2K\u001b[1G\u001b[A\u001b[2K\u001b[1Gpulling manifest \n",
            "pulling b559938ab7a0...  42% ▕▏ 3.0 GB/7.1 GB  250 MB/s     16s\u001b[?25h\u001b[?25l\u001b[2K\u001b[1G\u001b[A\u001b[2K\u001b[1Gpulling manifest \n",
            "pulling b559938ab7a0...  42% ▕▏ 3.0 GB/7.1 GB  250 MB/s     16s\u001b[?25h\u001b[?25l\u001b[2K\u001b[1G\u001b[A\u001b[2K\u001b[1Gpulling manifest \n",
            "pulling b559938ab7a0...  43% ▕▏ 3.0 GB/7.1 GB  250 MB/s     16s\u001b[?25h\u001b[?25l\u001b[2K\u001b[1G\u001b[A\u001b[2K\u001b[1Gpulling manifest \n",
            "pulling b559938ab7a0...  43% ▕▏ 3.1 GB/7.1 GB  250 MB/s     16s\u001b[?25h\u001b[?25l\u001b[2K\u001b[1G\u001b[A\u001b[2K\u001b[1Gpulling manifest \n",
            "pulling b559938ab7a0...  44% ▕▏ 3.1 GB/7.1 GB  250 MB/s     15s\u001b[?25h\u001b[?25l\u001b[2K\u001b[1G\u001b[A\u001b[2K\u001b[1Gpulling manifest \n",
            "pulling b559938ab7a0...  44% ▕▏ 3.1 GB/7.1 GB  250 MB/s     15s\u001b[?25h\u001b[?25l\u001b[2K\u001b[1G\u001b[A\u001b[2K\u001b[1Gpulling manifest \n",
            "pulling b559938ab7a0...  44% ▕▏ 3.1 GB/7.1 GB  250 MB/s     15s\u001b[?25h\u001b[?25l\u001b[2K\u001b[1G\u001b[A\u001b[2K\u001b[1Gpulling manifest \n",
            "pulling b559938ab7a0...  45% ▕▏ 3.2 GB/7.1 GB  250 MB/s     15s\u001b[?25h\u001b[?25l\u001b[2K\u001b[1G\u001b[A\u001b[2K\u001b[1Gpulling manifest \n",
            "pulling b559938ab7a0...  45% ▕▏ 3.2 GB/7.1 GB  250 MB/s     15s\u001b[?25h\u001b[?25l\u001b[2K\u001b[1G\u001b[A\u001b[2K\u001b[1Gpulling manifest \n",
            "pulling b559938ab7a0...  45% ▕▏ 3.2 GB/7.1 GB  252 MB/s     15s\u001b[?25h\u001b[?25l\u001b[2K\u001b[1G\u001b[A\u001b[2K\u001b[1Gpulling manifest \n",
            "pulling b559938ab7a0...  46% ▕▏ 3.2 GB/7.1 GB  252 MB/s     15s\u001b[?25h\u001b[?25l\u001b[2K\u001b[1G\u001b[A\u001b[2K\u001b[1Gpulling manifest \n",
            "pulling b559938ab7a0...  46% ▕▏ 3.2 GB/7.1 GB  252 MB/s     15s\u001b[?25h\u001b[?25l\u001b[2K\u001b[1G\u001b[A\u001b[2K\u001b[1Gpulling manifest \n",
            "pulling b559938ab7a0...  46% ▕▏ 3.2 GB/7.1 GB  252 MB/s     15s\u001b[?25h\u001b[?25l\u001b[2K\u001b[1G\u001b[A\u001b[2K\u001b[1Gpulling manifest \n",
            "pulling b559938ab7a0...  46% ▕▏ 3.2 GB/7.1 GB  252 MB/s     15s\u001b[?25h\u001b[?25l\u001b[2K\u001b[1G\u001b[A\u001b[2K\u001b[1Gpulling manifest \n",
            "pulling b559938ab7a0...  46% ▕▏ 3.2 GB/7.1 GB  252 MB/s     15s\u001b[?25h\u001b[?25l\u001b[2K\u001b[1G\u001b[A\u001b[2K\u001b[1Gpulling manifest \n",
            "pulling b559938ab7a0...  46% ▕▏ 3.2 GB/7.1 GB  252 MB/s     15s\u001b[?25h\u001b[?25l\u001b[2K\u001b[1G\u001b[A\u001b[2K\u001b[1Gpulling manifest \n",
            "pulling b559938ab7a0...  46% ▕▏ 3.2 GB/7.1 GB  252 MB/s     15s\u001b[?25h\u001b[?25l\u001b[2K\u001b[1G\u001b[A\u001b[2K\u001b[1Gpulling manifest \n",
            "pulling b559938ab7a0...  46% ▕▏ 3.2 GB/7.1 GB  252 MB/s     15s\u001b[?25h\u001b[?25l\u001b[2K\u001b[1G\u001b[A\u001b[2K\u001b[1Gpulling manifest \n",
            "pulling b559938ab7a0...  46% ▕▏ 3.2 GB/7.1 GB  252 MB/s     15s\u001b[?25h\u001b[?25l\u001b[2K\u001b[1G\u001b[A\u001b[2K\u001b[1Gpulling manifest \n",
            "pulling b559938ab7a0...  46% ▕▏ 3.2 GB/7.1 GB  225 MB/s     17s\u001b[?25h\u001b[?25l\u001b[2K\u001b[1G\u001b[A\u001b[2K\u001b[1Gpulling manifest \n",
            "pulling b559938ab7a0...  46% ▕▏ 3.2 GB/7.1 GB  225 MB/s     17s\u001b[?25h\u001b[?25l\u001b[2K\u001b[1G\u001b[A\u001b[2K\u001b[1Gpulling manifest \n",
            "pulling b559938ab7a0...  46% ▕▏ 3.2 GB/7.1 GB  225 MB/s     17s\u001b[?25h\u001b[?25l\u001b[2K\u001b[1G\u001b[A\u001b[2K\u001b[1Gpulling manifest \n",
            "pulling b559938ab7a0...  46% ▕▏ 3.2 GB/7.1 GB  225 MB/s     17s\u001b[?25h\u001b[?25l\u001b[2K\u001b[1G\u001b[A\u001b[2K\u001b[1Gpulling manifest \n",
            "pulling b559938ab7a0...  46% ▕▏ 3.2 GB/7.1 GB  225 MB/s     17s\u001b[?25h\u001b[?25l\u001b[2K\u001b[1G\u001b[A\u001b[2K\u001b[1Gpulling manifest \n",
            "pulling b559938ab7a0...  46% ▕▏ 3.2 GB/7.1 GB  225 MB/s     17s\u001b[?25h\u001b[?25l\u001b[2K\u001b[1G\u001b[A\u001b[2K\u001b[1Gpulling manifest \n",
            "pulling b559938ab7a0...  46% ▕▏ 3.2 GB/7.1 GB  225 MB/s     17s\u001b[?25h\u001b[?25l\u001b[2K\u001b[1G\u001b[A\u001b[2K\u001b[1Gpulling manifest \n",
            "pulling b559938ab7a0...  46% ▕▏ 3.2 GB/7.1 GB  225 MB/s     17s\u001b[?25h\u001b[?25l\u001b[2K\u001b[1G\u001b[A\u001b[2K\u001b[1Gpulling manifest \n",
            "pulling b559938ab7a0...  46% ▕▏ 3.2 GB/7.1 GB  225 MB/s     17s\u001b[?25h\u001b[?25l\u001b[2K\u001b[1G\u001b[A\u001b[2K\u001b[1Gpulling manifest \n",
            "pulling b559938ab7a0...  46% ▕▏ 3.2 GB/7.1 GB  225 MB/s     17s\u001b[?25h\u001b[?25l\u001b[2K\u001b[1G\u001b[A\u001b[2K\u001b[1Gpulling manifest \n",
            "pulling b559938ab7a0...  46% ▕▏ 3.2 GB/7.1 GB  198 MB/s     19s\u001b[?25h\u001b[?25l\u001b[2K\u001b[1G\u001b[A\u001b[2K\u001b[1Gpulling manifest \n",
            "pulling b559938ab7a0...  46% ▕▏ 3.2 GB/7.1 GB  198 MB/s     19s\u001b[?25h\u001b[?25l\u001b[2K\u001b[1G\u001b[A\u001b[2K\u001b[1Gpulling manifest \n",
            "pulling b559938ab7a0...  47% ▕▏ 3.3 GB/7.1 GB  198 MB/s     18s\u001b[?25h\u001b[?25l\u001b[2K\u001b[1G\u001b[A\u001b[2K\u001b[1Gpulling manifest \n",
            "pulling b559938ab7a0...  48% ▕▏ 3.4 GB/7.1 GB  198 MB/s     18s\u001b[?25h\u001b[?25l\u001b[2K\u001b[1G\u001b[A\u001b[2K\u001b[1Gpulling manifest \n",
            "pulling b559938ab7a0...  48% ▕▏ 3.4 GB/7.1 GB  198 MB/s     18s\u001b[?25h\u001b[?25l\u001b[2K\u001b[1G\u001b[A\u001b[2K\u001b[1Gpulling manifest \n",
            "pulling b559938ab7a0...  48% ▕▏ 3.4 GB/7.1 GB  198 MB/s     18s\u001b[?25h\u001b[?25l\u001b[2K\u001b[1G\u001b[A\u001b[2K\u001b[1Gpulling manifest \n",
            "pulling b559938ab7a0...  49% ▕▏ 3.5 GB/7.1 GB  198 MB/s     18s\u001b[?25h\u001b[?25l\u001b[2K\u001b[1G\u001b[A\u001b[2K\u001b[1Gpulling manifest \n",
            "pulling b559938ab7a0...  49% ▕▏ 3.5 GB/7.1 GB  198 MB/s     18s\u001b[?25h\u001b[?25l\u001b[2K\u001b[1G\u001b[A\u001b[2K\u001b[1Gpulling manifest \n",
            "pulling b559938ab7a0...  49% ▕▏ 3.5 GB/7.1 GB  198 MB/s     18s\u001b[?25h\u001b[?25l\u001b[2K\u001b[1G\u001b[A\u001b[2K\u001b[1Gpulling manifest \n",
            "pulling b559938ab7a0...  49% ▕▏ 3.5 GB/7.1 GB  198 MB/s     18s\u001b[?25h\u001b[?25l\u001b[2K\u001b[1G\u001b[A\u001b[2K\u001b[1Gpulling manifest \n",
            "pulling b559938ab7a0...  49% ▕▏ 3.5 GB/7.1 GB  198 MB/s     18s\u001b[?25h\u001b[?25l\u001b[2K\u001b[1G\u001b[A\u001b[2K\u001b[1Gpulling manifest \n",
            "pulling b559938ab7a0...  50% ▕▏ 3.5 GB/7.1 GB  202 MB/s     17s\u001b[?25h\u001b[?25l\u001b[2K\u001b[1G\u001b[A\u001b[2K\u001b[1Gpulling manifest \n",
            "pulling b559938ab7a0...  50% ▕▏ 3.5 GB/7.1 GB  202 MB/s     17s\u001b[?25h\u001b[?25l\u001b[2K\u001b[1G\u001b[A\u001b[2K\u001b[1Gpulling manifest \n",
            "pulling b559938ab7a0...  50% ▕▏ 3.6 GB/7.1 GB  202 MB/s     17s\u001b[?25h\u001b[?25l\u001b[2K\u001b[1G\u001b[A\u001b[2K\u001b[1Gpulling manifest \n",
            "pulling b559938ab7a0...  51% ▕▏ 3.6 GB/7.1 GB  202 MB/s     17s\u001b[?25h\u001b[?25l\u001b[2K\u001b[1G\u001b[A\u001b[2K\u001b[1Gpulling manifest \n",
            "pulling b559938ab7a0...  51% ▕▏ 3.6 GB/7.1 GB  202 MB/s     17s\u001b[?25h\u001b[?25l\u001b[2K\u001b[1G\u001b[A\u001b[2K\u001b[1Gpulling manifest \n",
            "pulling b559938ab7a0...  51% ▕▏ 3.6 GB/7.1 GB  202 MB/s     16s\u001b[?25h\u001b[?25l\u001b[2K\u001b[1G\u001b[A\u001b[2K\u001b[1Gpulling manifest \n",
            "pulling b559938ab7a0...  52% ▕▏ 3.7 GB/7.1 GB  202 MB/s     16s\u001b[?25h\u001b[?25l\u001b[2K\u001b[1G\u001b[A\u001b[2K\u001b[1Gpulling manifest \n",
            "pulling b559938ab7a0...  52% ▕▏ 3.7 GB/7.1 GB  202 MB/s     16s\u001b[?25h\u001b[?25l\u001b[2K\u001b[1G\u001b[A\u001b[2K\u001b[1Gpulling manifest \n",
            "pulling b559938ab7a0...  52% ▕▏ 3.7 GB/7.1 GB  202 MB/s     16s\u001b[?25h\u001b[?25l\u001b[2K\u001b[1G\u001b[A\u001b[2K\u001b[1Gpulling manifest \n",
            "pulling b559938ab7a0...  53% ▕▏ 3.7 GB/7.1 GB  202 MB/s     16s\u001b[?25h\u001b[?25l\u001b[2K\u001b[1G\u001b[A\u001b[2K\u001b[1Gpulling manifest \n",
            "pulling b559938ab7a0...  53% ▕▏ 3.8 GB/7.1 GB  206 MB/s     16s\u001b[?25h\u001b[?25l\u001b[2K\u001b[1G\u001b[A\u001b[2K\u001b[1Gpulling manifest \n",
            "pulling b559938ab7a0...  53% ▕▏ 3.8 GB/7.1 GB  206 MB/s     15s\u001b[?25h\u001b[?25l\u001b[2K\u001b[1G\u001b[A\u001b[2K\u001b[1Gpulling manifest \n",
            "pulling b559938ab7a0...  54% ▕▏ 3.8 GB/7.1 GB  206 MB/s     15s\u001b[?25h\u001b[?25l\u001b[2K\u001b[1G\u001b[A\u001b[2K\u001b[1Gpulling manifest \n",
            "pulling b559938ab7a0...  54% ▕▏ 3.8 GB/7.1 GB  206 MB/s     15s\u001b[?25h\u001b[?25l\u001b[2K\u001b[1G\u001b[A\u001b[2K\u001b[1Gpulling manifest \n",
            "pulling b559938ab7a0...  55% ▕▏ 3.9 GB/7.1 GB  206 MB/s     15s\u001b[?25h\u001b[?25l\u001b[2K\u001b[1G\u001b[A\u001b[2K\u001b[1Gpulling manifest \n",
            "pulling b559938ab7a0...  55% ▕▏ 3.9 GB/7.1 GB  206 MB/s     15s\u001b[?25h\u001b[?25l\u001b[2K\u001b[1G\u001b[A\u001b[2K\u001b[1Gpulling manifest \n",
            "pulling b559938ab7a0...  55% ▕▏ 3.9 GB/7.1 GB  206 MB/s     15s\u001b[?25h\u001b[?25l\u001b[2K\u001b[1G\u001b[A\u001b[2K\u001b[1Gpulling manifest \n",
            "pulling b559938ab7a0...  55% ▕▏ 3.9 GB/7.1 GB  206 MB/s     15s\u001b[?25h\u001b[?25l\u001b[2K\u001b[1G\u001b[A\u001b[2K\u001b[1Gpulling manifest \n",
            "pulling b559938ab7a0...  55% ▕▏ 3.9 GB/7.1 GB  206 MB/s     15s\u001b[?25h\u001b[?25l\u001b[2K\u001b[1G\u001b[A\u001b[2K\u001b[1Gpulling manifest \n",
            "pulling b559938ab7a0...  55% ▕▏ 3.9 GB/7.1 GB  206 MB/s     15s\u001b[?25h\u001b[?25l\u001b[2K\u001b[1G\u001b[A\u001b[2K\u001b[1Gpulling manifest \n",
            "pulling b559938ab7a0...  55% ▕▏ 3.9 GB/7.1 GB  199 MB/s     15s\u001b[?25h\u001b[?25l\u001b[2K\u001b[1G\u001b[A\u001b[2K\u001b[1Gpulling manifest \n",
            "pulling b559938ab7a0...  56% ▕▏ 3.9 GB/7.1 GB  199 MB/s     15s\u001b[?25h\u001b[?25l\u001b[2K\u001b[1G\u001b[A\u001b[2K\u001b[1Gpulling manifest \n",
            "pulling b559938ab7a0...  56% ▕▏ 3.9 GB/7.1 GB  199 MB/s     15s\u001b[?25h\u001b[?25l\u001b[2K\u001b[1G\u001b[A\u001b[2K\u001b[1Gpulling manifest \n",
            "pulling b559938ab7a0...  56% ▕▏ 3.9 GB/7.1 GB  199 MB/s     15s\u001b[?25h\u001b[?25l\u001b[2K\u001b[1G\u001b[A\u001b[2K\u001b[1Gpulling manifest \n",
            "pulling b559938ab7a0...  56% ▕▏ 3.9 GB/7.1 GB  199 MB/s     15s\u001b[?25h\u001b[?25l\u001b[2K\u001b[1G\u001b[A\u001b[2K\u001b[1Gpulling manifest \n",
            "pulling b559938ab7a0...  56% ▕▏ 3.9 GB/7.1 GB  199 MB/s     15s\u001b[?25h\u001b[?25l\u001b[2K\u001b[1G\u001b[A\u001b[2K\u001b[1Gpulling manifest \n",
            "pulling b559938ab7a0...  56% ▕▏ 3.9 GB/7.1 GB  199 MB/s     15s\u001b[?25h\u001b[?25l\u001b[2K\u001b[1G\u001b[A\u001b[2K\u001b[1Gpulling manifest \n",
            "pulling b559938ab7a0...  56% ▕▏ 3.9 GB/7.1 GB  199 MB/s     15s\u001b[?25h\u001b[?25l\u001b[2K\u001b[1G\u001b[A\u001b[2K\u001b[1Gpulling manifest \n",
            "pulling b559938ab7a0...  56% ▕▏ 3.9 GB/7.1 GB  199 MB/s     15s\u001b[?25h\u001b[?25l\u001b[2K\u001b[1G\u001b[A\u001b[2K\u001b[1Gpulling manifest \n",
            "pulling b559938ab7a0...  56% ▕▏ 3.9 GB/7.1 GB  199 MB/s     15s\u001b[?25h\u001b[?25l\u001b[2K\u001b[1G\u001b[A\u001b[2K\u001b[1Gpulling manifest \n",
            "pulling b559938ab7a0...  56% ▕▏ 3.9 GB/7.1 GB  171 MB/s     18s\u001b[?25h\u001b[?25l\u001b[2K\u001b[1G\u001b[A\u001b[2K\u001b[1Gpulling manifest \n",
            "pulling b559938ab7a0...  56% ▕▏ 3.9 GB/7.1 GB  171 MB/s     18s\u001b[?25h\u001b[?25l\u001b[2K\u001b[1G\u001b[A\u001b[2K\u001b[1Gpulling manifest \n",
            "pulling b559938ab7a0...  56% ▕▏ 3.9 GB/7.1 GB  171 MB/s     18s\u001b[?25h\u001b[?25l\u001b[2K\u001b[1G\u001b[A\u001b[2K\u001b[1Gpulling manifest \n",
            "pulling b559938ab7a0...  56% ▕▏ 3.9 GB/7.1 GB  171 MB/s     18s\u001b[?25h\u001b[?25l\u001b[2K\u001b[1G\u001b[A\u001b[2K\u001b[1Gpulling manifest \n",
            "pulling b559938ab7a0...  56% ▕▏ 3.9 GB/7.1 GB  171 MB/s     18s\u001b[?25h\u001b[?25l\u001b[2K\u001b[1G\u001b[A\u001b[2K\u001b[1Gpulling manifest \n",
            "pulling b559938ab7a0...  56% ▕▏ 3.9 GB/7.1 GB  171 MB/s     18s\u001b[?25h\u001b[?25l\u001b[2K\u001b[1G\u001b[A\u001b[2K\u001b[1Gpulling manifest \n",
            "pulling b559938ab7a0...  56% ▕▏ 3.9 GB/7.1 GB  171 MB/s     18s\u001b[?25h\u001b[?25l\u001b[2K\u001b[1G\u001b[A\u001b[2K\u001b[1Gpulling manifest \n",
            "pulling b559938ab7a0...  56% ▕▏ 3.9 GB/7.1 GB  171 MB/s     18s\u001b[?25h\u001b[?25l\u001b[2K\u001b[1G\u001b[A\u001b[2K\u001b[1Gpulling manifest \n",
            "pulling b559938ab7a0...  56% ▕▏ 3.9 GB/7.1 GB  171 MB/s     18s\u001b[?25h\u001b[?25l\u001b[2K\u001b[1G\u001b[A\u001b[2K\u001b[1Gpulling manifest \n",
            "pulling b559938ab7a0...  56% ▕▏ 3.9 GB/7.1 GB  171 MB/s     18s\u001b[?25h\u001b[?25l\u001b[2K\u001b[1G\u001b[A\u001b[2K\u001b[1Gpulling manifest \n",
            "pulling b559938ab7a0...  56% ▕▏ 3.9 GB/7.1 GB  138 MB/s     22s\u001b[?25h\u001b[?25l\u001b[2K\u001b[1G\u001b[A\u001b[2K\u001b[1Gpulling manifest \n",
            "pulling b559938ab7a0...  56% ▕▏ 3.9 GB/7.1 GB  138 MB/s     22s\u001b[?25h\u001b[?25l\u001b[2K\u001b[1G\u001b[A\u001b[2K\u001b[1Gpulling manifest \n",
            "pulling b559938ab7a0...  56% ▕▏ 3.9 GB/7.1 GB  138 MB/s     22s\u001b[?25h\u001b[?25l\u001b[2K\u001b[1G\u001b[A\u001b[2K\u001b[1Gpulling manifest \n",
            "pulling b559938ab7a0...  56% ▕▏ 3.9 GB/7.1 GB  138 MB/s     22s\u001b[?25h\u001b[?25l\u001b[2K\u001b[1G\u001b[A\u001b[2K\u001b[1Gpulling manifest \n",
            "pulling b559938ab7a0...  56% ▕▏ 3.9 GB/7.1 GB  138 MB/s     22s\u001b[?25h\u001b[?25l\u001b[2K\u001b[1G\u001b[A\u001b[2K\u001b[1Gpulling manifest \n",
            "pulling b559938ab7a0...  56% ▕▏ 3.9 GB/7.1 GB  138 MB/s     22s\u001b[?25h\u001b[?25l\u001b[2K\u001b[1G\u001b[A\u001b[2K\u001b[1Gpulling manifest \n",
            "pulling b559938ab7a0...  56% ▕▏ 3.9 GB/7.1 GB  138 MB/s     22s\u001b[?25h\u001b[?25l\u001b[2K\u001b[1G\u001b[A\u001b[2K\u001b[1Gpulling manifest \n",
            "pulling b559938ab7a0...  56% ▕▏ 3.9 GB/7.1 GB  138 MB/s     22s\u001b[?25h\u001b[?25l\u001b[2K\u001b[1G\u001b[A\u001b[2K\u001b[1Gpulling manifest \n",
            "pulling b559938ab7a0...  56% ▕▏ 3.9 GB/7.1 GB  138 MB/s     22s\u001b[?25h\u001b[?25l\u001b[2K\u001b[1G\u001b[A\u001b[2K\u001b[1Gpulling manifest \n",
            "pulling b559938ab7a0...  56% ▕▏ 3.9 GB/7.1 GB  138 MB/s     22s\u001b[?25h\u001b[?25l\u001b[2K\u001b[1G\u001b[A\u001b[2K\u001b[1Gpulling manifest \n",
            "pulling b559938ab7a0...  56% ▕▏ 3.9 GB/7.1 GB  138 MB/s     22s\u001b[?25h\u001b[?25l\u001b[2K\u001b[1G\u001b[A\u001b[2K\u001b[1Gpulling manifest \n",
            "pulling b559938ab7a0...  56% ▕▏ 3.9 GB/7.1 GB  112 MB/s     27s\u001b[?25h\u001b[?25l\u001b[2K\u001b[1G\u001b[A\u001b[2K\u001b[1Gpulling manifest \n",
            "pulling b559938ab7a0...  56% ▕▏ 4.0 GB/7.1 GB  112 MB/s     27s\u001b[?25h\u001b[?25l\u001b[2K\u001b[1G\u001b[A\u001b[2K\u001b[1Gpulling manifest \n",
            "pulling b559938ab7a0...  56% ▕▏ 4.0 GB/7.1 GB  112 MB/s     27s\u001b[?25h\u001b[?25l\u001b[2K\u001b[1G\u001b[A\u001b[2K\u001b[1Gpulling manifest \n",
            "pulling b559938ab7a0...  57% ▕▏ 4.0 GB/7.1 GB  112 MB/s     27s\u001b[?25h\u001b[?25l\u001b[2K\u001b[1G\u001b[A\u001b[2K\u001b[1Gpulling manifest \n",
            "pulling b559938ab7a0...  57% ▕▏ 4.0 GB/7.1 GB  112 MB/s     26s\u001b[?25h\u001b[?25l\u001b[2K\u001b[1G\u001b[A\u001b[2K\u001b[1Gpulling manifest \n",
            "pulling b559938ab7a0...  57% ▕▏ 4.0 GB/7.1 GB  112 MB/s     26s\u001b[?25h\u001b[?25l\u001b[2K\u001b[1G\u001b[A\u001b[2K\u001b[1Gpulling manifest \n",
            "pulling b559938ab7a0...  58% ▕▏ 4.1 GB/7.1 GB  112 MB/s     26s\u001b[?25h\u001b[?25l\u001b[2K\u001b[1G\u001b[A\u001b[2K\u001b[1Gpulling manifest \n",
            "pulling b559938ab7a0...  58% ▕▏ 4.1 GB/7.1 GB  112 MB/s     26s\u001b[?25h\u001b[?25l\u001b[2K\u001b[1G\u001b[A\u001b[2K\u001b[1Gpulling manifest \n",
            "pulling b559938ab7a0...  58% ▕▏ 4.1 GB/7.1 GB  112 MB/s     26s\u001b[?25h\u001b[?25l\u001b[2K\u001b[1G\u001b[A\u001b[2K\u001b[1Gpulling manifest \n",
            "pulling b559938ab7a0...  59% ▕▏ 4.1 GB/7.1 GB  112 MB/s     25s\u001b[?25h\u001b[?25l\u001b[2K\u001b[1G\u001b[A\u001b[2K\u001b[1Gpulling manifest \n",
            "pulling b559938ab7a0...  59% ▕▏ 4.2 GB/7.1 GB  104 MB/s     27s\u001b[?25h\u001b[?25l\u001b[2K\u001b[1G\u001b[A\u001b[2K\u001b[1Gpulling manifest \n",
            "pulling b559938ab7a0...  59% ▕▏ 4.2 GB/7.1 GB  104 MB/s     27s\u001b[?25h\u001b[?25l\u001b[2K\u001b[1G\u001b[A\u001b[2K\u001b[1Gpulling manifest \n",
            "pulling b559938ab7a0...  60% ▕▏ 4.2 GB/7.1 GB  104 MB/s     27s\u001b[?25h\u001b[?25l\u001b[2K\u001b[1G\u001b[A\u001b[2K\u001b[1Gpulling manifest \n",
            "pulling b559938ab7a0...  60% ▕▏ 4.2 GB/7.1 GB  104 MB/s     27s\u001b[?25h\u001b[?25l\u001b[2K\u001b[1G\u001b[A\u001b[2K\u001b[1Gpulling manifest \n",
            "pulling b559938ab7a0...  60% ▕▏ 4.3 GB/7.1 GB  104 MB/s     26s\u001b[?25h\u001b[?25l\u001b[2K\u001b[1G\u001b[A\u001b[2K\u001b[1Gpulling manifest \n",
            "pulling b559938ab7a0...  61% ▕▏ 4.3 GB/7.1 GB  104 MB/s     26s\u001b[?25h\u001b[?25l\u001b[2K\u001b[1G\u001b[A\u001b[2K\u001b[1Gpulling manifest \n",
            "pulling b559938ab7a0...  61% ▕▏ 4.3 GB/7.1 GB  104 MB/s     26s\u001b[?25h\u001b[?25l\u001b[2K\u001b[1G\u001b[A\u001b[2K\u001b[1Gpulling manifest \n",
            "pulling b559938ab7a0...  61% ▕▏ 4.3 GB/7.1 GB  104 MB/s     26s\u001b[?25h\u001b[?25l\u001b[2K\u001b[1G\u001b[A\u001b[2K\u001b[1Gpulling manifest \n",
            "pulling b559938ab7a0...  62% ▕▏ 4.4 GB/7.1 GB  104 MB/s     25s\u001b[?25h\u001b[?25l\u001b[2K\u001b[1G\u001b[A\u001b[2K\u001b[1Gpulling manifest \n",
            "pulling b559938ab7a0...  63% ▕▏ 4.4 GB/7.1 GB  104 MB/s     25s\u001b[?25h\u001b[?25l\u001b[2K\u001b[1G\u001b[A\u001b[2K\u001b[1Gpulling manifest \n",
            "pulling b559938ab7a0...  63% ▕▏ 4.4 GB/7.1 GB  134 MB/s     19s\u001b[?25h\u001b[?25l\u001b[2K\u001b[1G\u001b[A\u001b[2K\u001b[1Gpulling manifest \n",
            "pulling b559938ab7a0...  63% ▕▏ 4.5 GB/7.1 GB  134 MB/s     19s\u001b[?25h\u001b[?25l\u001b[2K\u001b[1G\u001b[A\u001b[2K\u001b[1Gpulling manifest \n",
            "pulling b559938ab7a0...  64% ▕▏ 4.5 GB/7.1 GB  134 MB/s     19s\u001b[?25h\u001b[?25l\u001b[2K\u001b[1G\u001b[A\u001b[2K\u001b[1Gpulling manifest \n",
            "pulling b559938ab7a0...  64% ▕▏ 4.5 GB/7.1 GB  134 MB/s     19s\u001b[?25h\u001b[?25l\u001b[2K\u001b[1G\u001b[A\u001b[2K\u001b[1Gpulling manifest \n",
            "pulling b559938ab7a0...  64% ▕▏ 4.5 GB/7.1 GB  134 MB/s     18s\u001b[?25h\u001b[?25l\u001b[2K\u001b[1G\u001b[A\u001b[2K\u001b[1Gpulling manifest \n",
            "pulling b559938ab7a0...  64% ▕▏ 4.5 GB/7.1 GB  134 MB/s     18s\u001b[?25h\u001b[?25l\u001b[2K\u001b[1G\u001b[A\u001b[2K\u001b[1Gpulling manifest \n",
            "pulling b559938ab7a0...  64% ▕▏ 4.5 GB/7.1 GB  134 MB/s     18s\u001b[?25h\u001b[?25l\u001b[2K\u001b[1G\u001b[A\u001b[2K\u001b[1Gpulling manifest \n",
            "pulling b559938ab7a0...  64% ▕▏ 4.6 GB/7.1 GB  134 MB/s     18s\u001b[?25h\u001b[?25l\u001b[2K\u001b[1G\u001b[A\u001b[2K\u001b[1Gpulling manifest \n",
            "pulling b559938ab7a0...  64% ▕▏ 4.6 GB/7.1 GB  134 MB/s     18s\u001b[?25h\u001b[?25l\u001b[2K\u001b[1G\u001b[A\u001b[2K\u001b[1Gpulling manifest \n",
            "pulling b559938ab7a0...  64% ▕▏ 4.6 GB/7.1 GB  134 MB/s     18s\u001b[?25h\u001b[?25l\u001b[2K\u001b[1G\u001b[A\u001b[2K\u001b[1Gpulling manifest \n",
            "pulling b559938ab7a0...  64% ▕▏ 4.6 GB/7.1 GB  147 MB/s     17s\u001b[?25h\u001b[?25l\u001b[2K\u001b[1G\u001b[A\u001b[2K\u001b[1Gpulling manifest \n",
            "pulling b559938ab7a0...  64% ▕▏ 4.6 GB/7.1 GB  147 MB/s     17s\u001b[?25h\u001b[?25l\u001b[2K\u001b[1G\u001b[A\u001b[2K\u001b[1Gpulling manifest \n",
            "pulling b559938ab7a0...  64% ▕▏ 4.6 GB/7.1 GB  147 MB/s     17s\u001b[?25h\u001b[?25l\u001b[2K\u001b[1G\u001b[A\u001b[2K\u001b[1Gpulling manifest \n",
            "pulling b559938ab7a0...  64% ▕▏ 4.6 GB/7.1 GB  147 MB/s     17s\u001b[?25h\u001b[?25l\u001b[2K\u001b[1G\u001b[A\u001b[2K\u001b[1Gpulling manifest \n",
            "pulling b559938ab7a0...  64% ▕▏ 4.6 GB/7.1 GB  147 MB/s     17s\u001b[?25h\u001b[?25l\u001b[2K\u001b[1G\u001b[A\u001b[2K\u001b[1Gpulling manifest \n",
            "pulling b559938ab7a0...  64% ▕▏ 4.6 GB/7.1 GB  147 MB/s     17s\u001b[?25h\u001b[?25l\u001b[2K\u001b[1G\u001b[A\u001b[2K\u001b[1Gpulling manifest \n",
            "pulling b559938ab7a0...  64% ▕▏ 4.6 GB/7.1 GB  147 MB/s     17s\u001b[?25h\u001b[?25l\u001b[2K\u001b[1G\u001b[A\u001b[2K\u001b[1Gpulling manifest \n",
            "pulling b559938ab7a0...  64% ▕▏ 4.6 GB/7.1 GB  147 MB/s     17s\u001b[?25h\u001b[?25l\u001b[2K\u001b[1G\u001b[A\u001b[2K\u001b[1Gpulling manifest \n",
            "pulling b559938ab7a0...  64% ▕▏ 4.6 GB/7.1 GB  147 MB/s     17s\u001b[?25h\u001b[?25l\u001b[2K\u001b[1G\u001b[A\u001b[2K\u001b[1Gpulling manifest \n",
            "pulling b559938ab7a0...  64% ▕▏ 4.6 GB/7.1 GB  147 MB/s     17s\u001b[?25h\u001b[?25l\u001b[2K\u001b[1G\u001b[A\u001b[2K\u001b[1Gpulling manifest \n",
            "pulling b559938ab7a0...  64% ▕▏ 4.6 GB/7.1 GB  119 MB/s     21s\u001b[?25h\u001b[?25l\u001b[2K\u001b[1G\u001b[A\u001b[2K\u001b[1Gpulling manifest \n",
            "pulling b559938ab7a0...  64% ▕▏ 4.6 GB/7.1 GB  119 MB/s     21s\u001b[?25h\u001b[?25l\u001b[2K\u001b[1G\u001b[A\u001b[2K\u001b[1Gpulling manifest \n",
            "pulling b559938ab7a0...  64% ▕▏ 4.6 GB/7.1 GB  119 MB/s     21s\u001b[?25h\u001b[?25l\u001b[2K\u001b[1G\u001b[A\u001b[2K\u001b[1Gpulling manifest \n",
            "pulling b559938ab7a0...  64% ▕▏ 4.6 GB/7.1 GB  119 MB/s     21s\u001b[?25h\u001b[?25l\u001b[2K\u001b[1G\u001b[A\u001b[2K\u001b[1Gpulling manifest \n",
            "pulling b559938ab7a0...  64% ▕▏ 4.6 GB/7.1 GB  119 MB/s     21s\u001b[?25h\u001b[?25l\u001b[2K\u001b[1G\u001b[A\u001b[2K\u001b[1Gpulling manifest \n",
            "pulling b559938ab7a0...  64% ▕▏ 4.6 GB/7.1 GB  119 MB/s     21s\u001b[?25h\u001b[?25l\u001b[2K\u001b[1G\u001b[A\u001b[2K\u001b[1Gpulling manifest \n",
            "pulling b559938ab7a0...  65% ▕▏ 4.6 GB/7.1 GB  119 MB/s     21s\u001b[?25h\u001b[?25l\u001b[2K\u001b[1G\u001b[A\u001b[2K\u001b[1Gpulling manifest \n",
            "pulling b559938ab7a0...  65% ▕▏ 4.6 GB/7.1 GB  119 MB/s     21s\u001b[?25h\u001b[?25l\u001b[2K\u001b[1G\u001b[A\u001b[2K\u001b[1Gpulling manifest \n",
            "pulling b559938ab7a0...  65% ▕▏ 4.6 GB/7.1 GB  119 MB/s     21s\u001b[?25h\u001b[?25l\u001b[2K\u001b[1G\u001b[A\u001b[2K\u001b[1Gpulling manifest \n",
            "pulling b559938ab7a0...  65% ▕▏ 4.6 GB/7.1 GB  119 MB/s     21s\u001b[?25h\u001b[?25l\u001b[2K\u001b[1G\u001b[A\u001b[2K\u001b[1Gpulling manifest \n",
            "pulling b559938ab7a0...  65% ▕▏ 4.6 GB/7.1 GB  119 MB/s     21s\u001b[?25h\u001b[?25l\u001b[2K\u001b[1G\u001b[A\u001b[2K\u001b[1Gpulling manifest \n",
            "pulling b559938ab7a0...  65% ▕▏ 4.6 GB/7.1 GB   90 MB/s     27s\u001b[?25h\u001b[?25l\u001b[2K\u001b[1G\u001b[A\u001b[2K\u001b[1Gpulling manifest \n",
            "pulling b559938ab7a0...  65% ▕▏ 4.6 GB/7.1 GB   90 MB/s     27s\u001b[?25h\u001b[?25l\u001b[2K\u001b[1G\u001b[A\u001b[2K\u001b[1Gpulling manifest \n",
            "pulling b559938ab7a0...  65% ▕▏ 4.6 GB/7.1 GB   90 MB/s     27s\u001b[?25h\u001b[?25l\u001b[2K\u001b[1G\u001b[A\u001b[2K\u001b[1Gpulling manifest \n",
            "pulling b559938ab7a0...  65% ▕▏ 4.6 GB/7.1 GB   90 MB/s     27s\u001b[?25h\u001b[?25l\u001b[2K\u001b[1G\u001b[A\u001b[2K\u001b[1Gpulling manifest \n",
            "pulling b559938ab7a0...  65% ▕▏ 4.6 GB/7.1 GB   90 MB/s     27s\u001b[?25h\u001b[?25l\u001b[2K\u001b[1G\u001b[A\u001b[2K\u001b[1Gpulling manifest \n",
            "pulling b559938ab7a0...  65% ▕▏ 4.6 GB/7.1 GB   90 MB/s     27s\u001b[?25h\u001b[?25l\u001b[2K\u001b[1G\u001b[A\u001b[2K\u001b[1Gpulling manifest \n",
            "pulling b559938ab7a0...  65% ▕▏ 4.6 GB/7.1 GB   90 MB/s     27s\u001b[?25h\u001b[?25l\u001b[2K\u001b[1G\u001b[A\u001b[2K\u001b[1Gpulling manifest \n",
            "pulling b559938ab7a0...  65% ▕▏ 4.6 GB/7.1 GB   90 MB/s     27s\u001b[?25h\u001b[?25l\u001b[2K\u001b[1G\u001b[A\u001b[2K\u001b[1Gpulling manifest \n",
            "pulling b559938ab7a0...  65% ▕▏ 4.6 GB/7.1 GB   90 MB/s     27s\u001b[?25h\u001b[?25l\u001b[2K\u001b[1G\u001b[A\u001b[2K\u001b[1Gpulling manifest \n",
            "pulling b559938ab7a0...  65% ▕▏ 4.6 GB/7.1 GB   90 MB/s     27s\u001b[?25h\u001b[?25l\u001b[2K\u001b[1G\u001b[A\u001b[2K\u001b[1Gpulling manifest \n",
            "pulling b559938ab7a0...  65% ▕▏ 4.6 GB/7.1 GB   71 MB/s     35s\u001b[?25h\u001b[?25l\u001b[2K\u001b[1G\u001b[A\u001b[2K\u001b[1Gpulling manifest \n",
            "pulling b559938ab7a0...  65% ▕▏ 4.6 GB/7.1 GB   71 MB/s     35s\u001b[?25h\u001b[?25l\u001b[2K\u001b[1G\u001b[A\u001b[2K\u001b[1Gpulling manifest \n",
            "pulling b559938ab7a0...  66% ▕▏ 4.7 GB/7.1 GB   71 MB/s     33s\u001b[?25h\u001b[?25l\u001b[2K\u001b[1G\u001b[A\u001b[2K\u001b[1Gpulling manifest \n",
            "pulling b559938ab7a0...  67% ▕▏ 4.7 GB/7.1 GB   71 MB/s     33s\u001b[?25h\u001b[?25l\u001b[2K\u001b[1G\u001b[A\u001b[2K\u001b[1Gpulling manifest \n",
            "pulling b559938ab7a0...  67% ▕▏ 4.7 GB/7.1 GB   71 MB/s     33s\u001b[?25h\u001b[?25l\u001b[2K\u001b[1G\u001b[A\u001b[2K\u001b[1Gpulling manifest \n",
            "pulling b559938ab7a0...  67% ▕▏ 4.7 GB/7.1 GB   71 MB/s     32s\u001b[?25h\u001b[?25l\u001b[2K\u001b[1G\u001b[A\u001b[2K\u001b[1Gpulling manifest \n",
            "pulling b559938ab7a0...  67% ▕▏ 4.8 GB/7.1 GB   71 MB/s     32s\u001b[?25h\u001b[?25l\u001b[2K\u001b[1G\u001b[A\u001b[2K\u001b[1Gpulling manifest \n",
            "pulling b559938ab7a0...  68% ▕▏ 4.8 GB/7.1 GB   71 MB/s     32s\u001b[?25h\u001b[?25l\u001b[2K\u001b[1G\u001b[A\u001b[2K\u001b[1Gpulling manifest \n",
            "pulling b559938ab7a0...  68% ▕▏ 4.8 GB/7.1 GB   71 MB/s     31s\u001b[?25h\u001b[?25l\u001b[2K\u001b[1G\u001b[A\u001b[2K\u001b[1Gpulling manifest \n",
            "pulling b559938ab7a0...  69% ▕▏ 4.9 GB/7.1 GB   71 MB/s     31s\u001b[?25h\u001b[?25l\u001b[2K\u001b[1G\u001b[A\u001b[2K\u001b[1Gpulling manifest \n",
            "pulling b559938ab7a0...  69% ▕▏ 4.9 GB/7.1 GB  105 MB/s     20s\u001b[?25h\u001b[?25l\u001b[2K\u001b[1G\u001b[A\u001b[2K\u001b[1Gpulling manifest \n",
            "pulling b559938ab7a0...  69% ▕▏ 4.9 GB/7.1 GB  105 MB/s     20s\u001b[?25h\u001b[?25l\u001b[2K\u001b[1G\u001b[A\u001b[2K\u001b[1Gpulling manifest \n",
            "pulling b559938ab7a0...  70% ▕▏ 4.9 GB/7.1 GB  105 MB/s     20s\u001b[?25h\u001b[?25l\u001b[2K\u001b[1G\u001b[A\u001b[2K\u001b[1Gpulling manifest \n",
            "pulling b559938ab7a0...  70% ▕▏ 5.0 GB/7.1 GB  105 MB/s     20s\u001b[?25h\u001b[?25l\u001b[2K\u001b[1G\u001b[A\u001b[2K\u001b[1Gpulling manifest \n",
            "pulling b559938ab7a0...  71% ▕▏ 5.0 GB/7.1 GB  105 MB/s     19s\u001b[?25h\u001b[?25l\u001b[2K\u001b[1G\u001b[A\u001b[2K\u001b[1Gpulling manifest \n",
            "pulling b559938ab7a0...  71% ▕▏ 5.0 GB/7.1 GB  105 MB/s     19s\u001b[?25h\u001b[?25l\u001b[2K\u001b[1G\u001b[A\u001b[2K\u001b[1Gpulling manifest \n",
            "pulling b559938ab7a0...  71% ▕▏ 5.1 GB/7.1 GB  105 MB/s     19s\u001b[?25h\u001b[?25l\u001b[2K\u001b[1G\u001b[A\u001b[2K\u001b[1Gpulling manifest \n",
            "pulling b559938ab7a0...  72% ▕▏ 5.1 GB/7.1 GB  105 MB/s     18s\u001b[?25h\u001b[?25l\u001b[2K\u001b[1G\u001b[A\u001b[2K\u001b[1Gpulling manifest \n",
            "pulling b559938ab7a0...  73% ▕▏ 5.1 GB/7.1 GB  105 MB/s     18s\u001b[?25h\u001b[?25l\u001b[2K\u001b[1G\u001b[A\u001b[2K\u001b[1Gpulling manifest \n",
            "pulling b559938ab7a0...  73% ▕▏ 5.2 GB/7.1 GB  105 MB/s     18s\u001b[?25h\u001b[?25l\u001b[2K\u001b[1G\u001b[A\u001b[2K\u001b[1Gpulling manifest \n",
            "pulling b559938ab7a0...  73% ▕▏ 5.2 GB/7.1 GB  139 MB/s     13s\u001b[?25h\u001b[?25l\u001b[2K\u001b[1G\u001b[A\u001b[2K\u001b[1Gpulling manifest \n",
            "pulling b559938ab7a0...  74% ▕▏ 5.2 GB/7.1 GB  139 MB/s     13s\u001b[?25h\u001b[?25l\u001b[2K\u001b[1G\u001b[A\u001b[2K\u001b[1Gpulling manifest \n",
            "pulling b559938ab7a0...  74% ▕▏ 5.2 GB/7.1 GB  139 MB/s     13s\u001b[?25h\u001b[?25l\u001b[2K\u001b[1G\u001b[A\u001b[2K\u001b[1Gpulling manifest \n",
            "pulling b559938ab7a0...  75% ▕▏ 5.3 GB/7.1 GB  139 MB/s     12s\u001b[?25h\u001b[?25l\u001b[2K\u001b[1G\u001b[A\u001b[2K\u001b[1Gpulling manifest \n",
            "pulling b559938ab7a0...  75% ▕▏ 5.3 GB/7.1 GB  139 MB/s     12s\u001b[?25h\u001b[?25l\u001b[2K\u001b[1G\u001b[A\u001b[2K\u001b[1Gpulling manifest \n",
            "pulling b559938ab7a0...  75% ▕▏ 5.3 GB/7.1 GB  139 MB/s     12s\u001b[?25h\u001b[?25l\u001b[2K\u001b[1G\u001b[A\u001b[2K\u001b[1Gpulling manifest \n",
            "pulling b559938ab7a0...  76% ▕▏ 5.3 GB/7.1 GB  139 MB/s     12s\u001b[?25h\u001b[?25l\u001b[2K\u001b[1G\u001b[A\u001b[2K\u001b[1Gpulling manifest \n",
            "pulling b559938ab7a0...  76% ▕▏ 5.4 GB/7.1 GB  139 MB/s     12s\u001b[?25h\u001b[?25l\u001b[2K\u001b[1G\u001b[A\u001b[2K\u001b[1Gpulling manifest \n",
            "pulling b559938ab7a0...  76% ▕▏ 5.4 GB/7.1 GB  139 MB/s     12s\u001b[?25h\u001b[?25l\u001b[2K\u001b[1G\u001b[A\u001b[2K\u001b[1Gpulling manifest \n",
            "pulling b559938ab7a0...  77% ▕▏ 5.4 GB/7.1 GB  139 MB/s     11s\u001b[?25h\u001b[?25l\u001b[2K\u001b[1G\u001b[A\u001b[2K\u001b[1Gpulling manifest \n",
            "pulling b559938ab7a0...  77% ▕▏ 5.5 GB/7.1 GB  168 MB/s      9s\u001b[?25h\u001b[?25l\u001b[2K\u001b[1G\u001b[A\u001b[2K\u001b[1Gpulling manifest \n",
            "pulling b559938ab7a0...  77% ▕▏ 5.5 GB/7.1 GB  168 MB/s      9s\u001b[?25h\u001b[?25l\u001b[2K\u001b[1G\u001b[A\u001b[2K\u001b[1Gpulling manifest \n",
            "pulling b559938ab7a0...  78% ▕▏ 5.5 GB/7.1 GB  168 MB/s      9s\u001b[?25h\u001b[?25l\u001b[2K\u001b[1G\u001b[A\u001b[2K\u001b[1Gpulling manifest \n",
            "pulling b559938ab7a0...  78% ▕▏ 5.5 GB/7.1 GB  168 MB/s      9s\u001b[?25h\u001b[?25l\u001b[2K\u001b[1G\u001b[A\u001b[2K\u001b[1Gpulling manifest \n",
            "pulling b559938ab7a0...  78% ▕▏ 5.5 GB/7.1 GB  168 MB/s      9s\u001b[?25h\u001b[?25l\u001b[2K\u001b[1G\u001b[A\u001b[2K\u001b[1Gpulling manifest \n",
            "pulling b559938ab7a0...  79% ▕▏ 5.6 GB/7.1 GB  168 MB/s      8s\u001b[?25h\u001b[?25l\u001b[2K\u001b[1G\u001b[A\u001b[2K\u001b[1Gpulling manifest \n",
            "pulling b559938ab7a0...  79% ▕▏ 5.6 GB/7.1 GB  168 MB/s      8s\u001b[?25h\u001b[?25l\u001b[2K\u001b[1G\u001b[A\u001b[2K\u001b[1Gpulling manifest \n",
            "pulling b559938ab7a0...  79% ▕▏ 5.6 GB/7.1 GB  168 MB/s      8s\u001b[?25h\u001b[?25l\u001b[2K\u001b[1G\u001b[A\u001b[2K\u001b[1Gpulling manifest \n",
            "pulling b559938ab7a0...  80% ▕▏ 5.6 GB/7.1 GB  168 MB/s      8s\u001b[?25h\u001b[?25l\u001b[2K\u001b[1G\u001b[A\u001b[2K\u001b[1Gpulling manifest \n",
            "pulling b559938ab7a0...  80% ▕▏ 5.7 GB/7.1 GB  168 MB/s      8s\u001b[?25h\u001b[?25l\u001b[2K\u001b[1G\u001b[A\u001b[2K\u001b[1Gpulling manifest \n",
            "pulling b559938ab7a0...  80% ▕▏ 5.7 GB/7.1 GB  168 MB/s      8s\u001b[?25h\u001b[?25l\u001b[2K\u001b[1G\u001b[A\u001b[2K\u001b[1Gpulling manifest \n",
            "pulling b559938ab7a0...  81% ▕▏ 5.7 GB/7.1 GB  169 MB/s      8s\u001b[?25h\u001b[?25l\u001b[2K\u001b[1G\u001b[A\u001b[2K\u001b[1Gpulling manifest \n",
            "pulling b559938ab7a0...  81% ▕▏ 5.7 GB/7.1 GB  169 MB/s      7s\u001b[?25h\u001b[?25l\u001b[2K\u001b[1G\u001b[A\u001b[2K\u001b[1Gpulling manifest \n",
            "pulling b559938ab7a0...  81% ▕▏ 5.7 GB/7.1 GB  169 MB/s      7s\u001b[?25h\u001b[?25l\u001b[2K\u001b[1G\u001b[A\u001b[2K\u001b[1Gpulling manifest \n",
            "pulling b559938ab7a0...  82% ▕▏ 5.8 GB/7.1 GB  169 MB/s      7s\u001b[?25h\u001b[?25l\u001b[2K\u001b[1G\u001b[A\u001b[2K\u001b[1Gpulling manifest \n",
            "pulling b559938ab7a0...  82% ▕▏ 5.8 GB/7.1 GB  169 MB/s      7s\u001b[?25h\u001b[?25l\u001b[2K\u001b[1G\u001b[A\u001b[2K\u001b[1Gpulling manifest \n",
            "pulling b559938ab7a0...  82% ▕▏ 5.8 GB/7.1 GB  169 MB/s      7s\u001b[?25h\u001b[?25l\u001b[2K\u001b[1G\u001b[A\u001b[2K\u001b[1Gpulling manifest \n",
            "pulling b559938ab7a0...  83% ▕▏ 5.9 GB/7.1 GB  169 MB/s      7s\u001b[?25h\u001b[?25l\u001b[2K\u001b[1G\u001b[A\u001b[2K\u001b[1Gpulling manifest \n",
            "pulling b559938ab7a0...  83% ▕▏ 5.9 GB/7.1 GB  169 MB/s      6s\u001b[?25h\u001b[?25l\u001b[2K\u001b[1G\u001b[A\u001b[2K\u001b[1Gpulling manifest \n",
            "pulling b559938ab7a0...  84% ▕▏ 5.9 GB/7.1 GB  169 MB/s      6s\u001b[?25h\u001b[?25l\u001b[2K\u001b[1G\u001b[A\u001b[2K\u001b[1Gpulling manifest \n",
            "pulling b559938ab7a0...  84% ▕▏ 6.0 GB/7.1 GB  169 MB/s      6s\u001b[?25h\u001b[?25l\u001b[2K\u001b[1G\u001b[A\u001b[2K\u001b[1Gpulling manifest \n",
            "pulling b559938ab7a0...  85% ▕▏ 6.0 GB/7.1 GB  169 MB/s      6s\u001b[?25h\u001b[?25l\u001b[2K\u001b[1G\u001b[A\u001b[2K\u001b[1Gpulling manifest \n",
            "pulling b559938ab7a0...  85% ▕▏ 6.0 GB/7.1 GB  169 MB/s      6s\u001b[?25h\u001b[?25l\u001b[2K\u001b[1G\u001b[A\u001b[2K\u001b[1Gpulling manifest \n",
            "pulling b559938ab7a0...  85% ▕▏ 6.0 GB/7.1 GB  169 MB/s      6s\u001b[?25h\u001b[?25l\u001b[2K\u001b[1G\u001b[A\u001b[2K\u001b[1Gpulling manifest \n",
            "pulling b559938ab7a0...  86% ▕▏ 6.1 GB/7.1 GB  169 MB/s      5s\u001b[?25h\u001b[?25l\u001b[2K\u001b[1G\u001b[A\u001b[2K\u001b[1Gpulling manifest \n",
            "pulling b559938ab7a0...  86% ▕▏ 6.1 GB/7.1 GB  169 MB/s      5s\u001b[?25h\u001b[?25l\u001b[2K\u001b[1G\u001b[A\u001b[2K\u001b[1Gpulling manifest \n",
            "pulling b559938ab7a0...  86% ▕▏ 6.1 GB/7.1 GB  169 MB/s      5s\u001b[?25h\u001b[?25l\u001b[2K\u001b[1G\u001b[A\u001b[2K\u001b[1Gpulling manifest \n",
            "pulling b559938ab7a0...  87% ▕▏ 6.1 GB/7.1 GB  169 MB/s      5s\u001b[?25h\u001b[?25l\u001b[2K\u001b[1G\u001b[A\u001b[2K\u001b[1Gpulling manifest \n",
            "pulling b559938ab7a0...  87% ▕▏ 6.1 GB/7.1 GB  169 MB/s      5s\u001b[?25h\u001b[?25l\u001b[2K\u001b[1G\u001b[A\u001b[2K\u001b[1Gpulling manifest \n",
            "pulling b559938ab7a0...  87% ▕▏ 6.2 GB/7.1 GB  169 MB/s      5s\u001b[?25h\u001b[?25l\u001b[2K\u001b[1G\u001b[A\u001b[2K\u001b[1Gpulling manifest \n",
            "pulling b559938ab7a0...  88% ▕▏ 6.2 GB/7.1 GB  169 MB/s      5s\u001b[?25h\u001b[?25l\u001b[2K\u001b[1G\u001b[A\u001b[2K\u001b[1Gpulling manifest \n",
            "pulling b559938ab7a0...  88% ▕▏ 6.2 GB/7.1 GB  184 MB/s      4s\u001b[?25h\u001b[?25l\u001b[2K\u001b[1G\u001b[A\u001b[2K\u001b[1Gpulling manifest \n",
            "pulling b559938ab7a0...  88% ▕▏ 6.3 GB/7.1 GB  184 MB/s      4s\u001b[?25h\u001b[?25l\u001b[2K\u001b[1G\u001b[A\u001b[2K\u001b[1Gpulling manifest \n",
            "pulling b559938ab7a0...  88% ▕▏ 6.3 GB/7.1 GB  184 MB/s      4s\u001b[?25h\u001b[?25l\u001b[2K\u001b[1G\u001b[A\u001b[2K\u001b[1Gpulling manifest \n",
            "pulling b559938ab7a0...  88% ▕▏ 6.3 GB/7.1 GB  184 MB/s      4s\u001b[?25h\u001b[?25l\u001b[2K\u001b[1G\u001b[A\u001b[2K\u001b[1Gpulling manifest \n",
            "pulling b559938ab7a0...  88% ▕▏ 6.3 GB/7.1 GB  184 MB/s      4s\u001b[?25h\u001b[?25l\u001b[2K\u001b[1G\u001b[A\u001b[2K\u001b[1Gpulling manifest \n",
            "pulling b559938ab7a0...  89% ▕▏ 6.3 GB/7.1 GB  184 MB/s      4s\u001b[?25h\u001b[?25l\u001b[2K\u001b[1G\u001b[A\u001b[2K\u001b[1Gpulling manifest \n",
            "pulling b559938ab7a0...  89% ▕▏ 6.3 GB/7.1 GB  184 MB/s      4s\u001b[?25h\u001b[?25l\u001b[2K\u001b[1G\u001b[A\u001b[2K\u001b[1Gpulling manifest \n",
            "pulling b559938ab7a0...  89% ▕▏ 6.3 GB/7.1 GB  184 MB/s      4s\u001b[?25h\u001b[?25l\u001b[2K\u001b[1G\u001b[A\u001b[2K\u001b[1Gpulling manifest \n",
            "pulling b559938ab7a0...  89% ▕▏ 6.3 GB/7.1 GB  184 MB/s      4s\u001b[?25h\u001b[?25l\u001b[2K\u001b[1G\u001b[A\u001b[2K\u001b[1Gpulling manifest \n",
            "pulling b559938ab7a0...  89% ▕▏ 6.3 GB/7.1 GB  184 MB/s      4s\u001b[?25h\u001b[?25l\u001b[2K\u001b[1G\u001b[A\u001b[2K\u001b[1Gpulling manifest \n",
            "pulling b559938ab7a0...  89% ▕▏ 6.3 GB/7.1 GB  188 MB/s      4s\u001b[?25h\u001b[?25l\u001b[2K\u001b[1G\u001b[A\u001b[2K\u001b[1Gpulling manifest \n",
            "pulling b559938ab7a0...  89% ▕▏ 6.3 GB/7.1 GB  188 MB/s      4s\u001b[?25h\u001b[?25l\u001b[2K\u001b[1G\u001b[A\u001b[2K\u001b[1Gpulling manifest \n",
            "pulling b559938ab7a0...  89% ▕▏ 6.3 GB/7.1 GB  188 MB/s      4s\u001b[?25h\u001b[?25l\u001b[2K\u001b[1G\u001b[A\u001b[2K\u001b[1Gpulling manifest \n",
            "pulling b559938ab7a0...  89% ▕▏ 6.3 GB/7.1 GB  188 MB/s      4s\u001b[?25h\u001b[?25l\u001b[2K\u001b[1G\u001b[A\u001b[2K\u001b[1Gpulling manifest \n",
            "pulling b559938ab7a0...  89% ▕▏ 6.3 GB/7.1 GB  188 MB/s      4s\u001b[?25h\u001b[?25l\u001b[2K\u001b[1G\u001b[A\u001b[2K\u001b[1Gpulling manifest \n",
            "pulling b559938ab7a0...  89% ▕▏ 6.3 GB/7.1 GB  188 MB/s      4s\u001b[?25h\u001b[?25l\u001b[2K\u001b[1G\u001b[A\u001b[2K\u001b[1Gpulling manifest \n",
            "pulling b559938ab7a0...  89% ▕▏ 6.3 GB/7.1 GB  188 MB/s      4s\u001b[?25h\u001b[?25l\u001b[2K\u001b[1G\u001b[A\u001b[2K\u001b[1Gpulling manifest \n",
            "pulling b559938ab7a0...  89% ▕▏ 6.3 GB/7.1 GB  188 MB/s      4s\u001b[?25h\u001b[?25l\u001b[2K\u001b[1G\u001b[A\u001b[2K\u001b[1Gpulling manifest \n",
            "pulling b559938ab7a0...  89% ▕▏ 6.3 GB/7.1 GB  188 MB/s      4s\u001b[?25h\u001b[?25l\u001b[2K\u001b[1G\u001b[A\u001b[2K\u001b[1Gpulling manifest \n",
            "pulling b559938ab7a0...  89% ▕▏ 6.3 GB/7.1 GB  188 MB/s      4s\u001b[?25h\u001b[?25l\u001b[2K\u001b[1G\u001b[A\u001b[2K\u001b[1Gpulling manifest \n",
            "pulling b559938ab7a0...  89% ▕▏ 6.3 GB/7.1 GB  189 MB/s      4s\u001b[?25h\u001b[?25l\u001b[2K\u001b[1G\u001b[A\u001b[2K\u001b[1Gpulling manifest \n",
            "pulling b559938ab7a0...  89% ▕▏ 6.3 GB/7.1 GB  189 MB/s      4s\u001b[?25h\u001b[?25l\u001b[2K\u001b[1G\u001b[A\u001b[2K\u001b[1Gpulling manifest \n",
            "pulling b559938ab7a0...  89% ▕▏ 6.3 GB/7.1 GB  189 MB/s      4s\u001b[?25h\u001b[?25l\u001b[2K\u001b[1G\u001b[A\u001b[2K\u001b[1Gpulling manifest \n",
            "pulling b559938ab7a0...  90% ▕▏ 6.4 GB/7.1 GB  189 MB/s      3s\u001b[?25h\u001b[?25l\u001b[2K\u001b[1G\u001b[A\u001b[2K\u001b[1Gpulling manifest \n",
            "pulling b559938ab7a0...  90% ▕▏ 6.4 GB/7.1 GB  189 MB/s      3s\u001b[?25h\u001b[?25l\u001b[2K\u001b[1G\u001b[A\u001b[2K\u001b[1Gpulling manifest \n",
            "pulling b559938ab7a0...  90% ▕▏ 6.4 GB/7.1 GB  189 MB/s      3s\u001b[?25h\u001b[?25l\u001b[2K\u001b[1G\u001b[A\u001b[2K\u001b[1Gpulling manifest \n",
            "pulling b559938ab7a0...  91% ▕▏ 6.4 GB/7.1 GB  189 MB/s      3s\u001b[?25h\u001b[?25l\u001b[2K\u001b[1G\u001b[A\u001b[2K\u001b[1Gpulling manifest \n",
            "pulling b559938ab7a0...  91% ▕▏ 6.4 GB/7.1 GB  189 MB/s      3s\u001b[?25h\u001b[?25l\u001b[2K\u001b[1G\u001b[A\u001b[2K\u001b[1Gpulling manifest \n",
            "pulling b559938ab7a0...  91% ▕▏ 6.4 GB/7.1 GB  189 MB/s      3s\u001b[?25h\u001b[?25l\u001b[2K\u001b[1G\u001b[A\u001b[2K\u001b[1Gpulling manifest \n",
            "pulling b559938ab7a0...  91% ▕▏ 6.5 GB/7.1 GB  189 MB/s      3s\u001b[?25h\u001b[?25l\u001b[2K\u001b[1G\u001b[A\u001b[2K\u001b[1Gpulling manifest \n",
            "pulling b559938ab7a0...  92% ▕▏ 6.5 GB/7.1 GB  189 MB/s      3s\u001b[?25h\u001b[?25l\u001b[2K\u001b[1G\u001b[A\u001b[2K\u001b[1Gpulling manifest \n",
            "pulling b559938ab7a0...  92% ▕▏ 6.5 GB/7.1 GB  214 MB/s      2s\u001b[?25h\u001b[?25l\u001b[2K\u001b[1G\u001b[A\u001b[2K\u001b[1Gpulling manifest \n",
            "pulling b559938ab7a0...  92% ▕▏ 6.5 GB/7.1 GB  214 MB/s      2s\u001b[?25h\u001b[?25l\u001b[2K\u001b[1G\u001b[A\u001b[2K\u001b[1Gpulling manifest \n",
            "pulling b559938ab7a0...  93% ▕▏ 6.6 GB/7.1 GB  214 MB/s      2s\u001b[?25h\u001b[?25l\u001b[2K\u001b[1G\u001b[A\u001b[2K\u001b[1Gpulling manifest \n",
            "pulling b559938ab7a0...  93% ▕▏ 6.6 GB/7.1 GB  214 MB/s      2s\u001b[?25h\u001b[?25l\u001b[2K\u001b[1G\u001b[A\u001b[2K\u001b[1Gpulling manifest \n",
            "pulling b559938ab7a0...  94% ▕▏ 6.6 GB/7.1 GB  214 MB/s      1s\u001b[?25h\u001b[?25l\u001b[2K\u001b[1G\u001b[A\u001b[2K\u001b[1Gpulling manifest \n",
            "pulling b559938ab7a0...  94% ▕▏ 6.7 GB/7.1 GB  214 MB/s      1s\u001b[?25h\u001b[?25l\u001b[2K\u001b[1G\u001b[A\u001b[2K\u001b[1Gpulling manifest \n",
            "pulling b559938ab7a0...  95% ▕▏ 6.7 GB/7.1 GB  214 MB/s      1s\u001b[?25h\u001b[?25l\u001b[2K\u001b[1G\u001b[A\u001b[2K\u001b[1Gpulling manifest \n",
            "pulling b559938ab7a0...  95% ▕▏ 6.7 GB/7.1 GB  214 MB/s      1s\u001b[?25h\u001b[?25l\u001b[2K\u001b[1G\u001b[A\u001b[2K\u001b[1Gpulling manifest \n",
            "pulling b559938ab7a0...  95% ▕▏ 6.7 GB/7.1 GB  214 MB/s      1s\u001b[?25h\u001b[?25l\u001b[2K\u001b[1G\u001b[A\u001b[2K\u001b[1Gpulling manifest \n",
            "pulling b559938ab7a0...  96% ▕▏ 6.8 GB/7.1 GB  214 MB/s      1s\u001b[?25h\u001b[?25l\u001b[2K\u001b[1G\u001b[A\u001b[2K\u001b[1Gpulling manifest \n",
            "pulling b559938ab7a0...  96% ▕▏ 6.8 GB/7.1 GB  210 MB/s      1s\u001b[?25h\u001b[?25l\u001b[2K\u001b[1G\u001b[A\u001b[2K\u001b[1Gpulling manifest \n",
            "pulling b559938ab7a0...  96% ▕▏ 6.8 GB/7.1 GB  210 MB/s      1s\u001b[?25h\u001b[?25l\u001b[2K\u001b[1G\u001b[A\u001b[2K\u001b[1Gpulling manifest \n",
            "pulling b559938ab7a0...  96% ▕▏ 6.8 GB/7.1 GB  210 MB/s      1s\u001b[?25h\u001b[?25l\u001b[2K\u001b[1G\u001b[A\u001b[2K\u001b[1Gpulling manifest \n",
            "pulling b559938ab7a0...  96% ▕▏ 6.8 GB/7.1 GB  210 MB/s      1s\u001b[?25h\u001b[?25l\u001b[2K\u001b[1G\u001b[A\u001b[2K\u001b[1Gpulling manifest \n",
            "pulling b559938ab7a0...  96% ▕▏ 6.8 GB/7.1 GB  210 MB/s      1s\u001b[?25h\u001b[?25l\u001b[2K\u001b[1G\u001b[A\u001b[2K\u001b[1Gpulling manifest \n",
            "pulling b559938ab7a0...  96% ▕▏ 6.8 GB/7.1 GB  210 MB/s      1s\u001b[?25h\u001b[?25l\u001b[2K\u001b[1G\u001b[A\u001b[2K\u001b[1Gpulling manifest \n",
            "pulling b559938ab7a0...  96% ▕▏ 6.8 GB/7.1 GB  210 MB/s      1s\u001b[?25h\u001b[?25l\u001b[2K\u001b[1G\u001b[A\u001b[2K\u001b[1Gpulling manifest \n",
            "pulling b559938ab7a0...  96% ▕▏ 6.8 GB/7.1 GB  210 MB/s      1s\u001b[?25h\u001b[?25l\u001b[2K\u001b[1G\u001b[A\u001b[2K\u001b[1Gpulling manifest \n",
            "pulling b559938ab7a0...  96% ▕▏ 6.8 GB/7.1 GB  210 MB/s      1s\u001b[?25h\u001b[?25l\u001b[2K\u001b[1G\u001b[A\u001b[2K\u001b[1Gpulling manifest \n",
            "pulling b559938ab7a0...  96% ▕▏ 6.8 GB/7.1 GB  210 MB/s      1s\u001b[?25h\u001b[?25l\u001b[2K\u001b[1G\u001b[A\u001b[2K\u001b[1Gpulling manifest \n",
            "pulling b559938ab7a0...  96% ▕▏ 6.8 GB/7.1 GB  177 MB/s      1s\u001b[?25h\u001b[?25l\u001b[2K\u001b[1G\u001b[A\u001b[2K\u001b[1Gpulling manifest \n",
            "pulling b559938ab7a0...  96% ▕▏ 6.8 GB/7.1 GB  177 MB/s      1s\u001b[?25h\u001b[?25l\u001b[2K\u001b[1G\u001b[A\u001b[2K\u001b[1Gpulling manifest \n",
            "pulling b559938ab7a0...  96% ▕▏ 6.8 GB/7.1 GB  177 MB/s      1s\u001b[?25h\u001b[?25l\u001b[2K\u001b[1G\u001b[A\u001b[2K\u001b[1Gpulling manifest \n",
            "pulling b559938ab7a0...  96% ▕▏ 6.8 GB/7.1 GB  177 MB/s      1s\u001b[?25h\u001b[?25l\u001b[2K\u001b[1G\u001b[A\u001b[2K\u001b[1Gpulling manifest \n",
            "pulling b559938ab7a0...  96% ▕▏ 6.8 GB/7.1 GB  177 MB/s      1s\u001b[?25h\u001b[?25l\u001b[2K\u001b[1G\u001b[A\u001b[2K\u001b[1Gpulling manifest \n",
            "pulling b559938ab7a0...  96% ▕▏ 6.8 GB/7.1 GB  177 MB/s      1s\u001b[?25h\u001b[?25l\u001b[2K\u001b[1G\u001b[A\u001b[2K\u001b[1Gpulling manifest \n",
            "pulling b559938ab7a0...  96% ▕▏ 6.8 GB/7.1 GB  177 MB/s      1s\u001b[?25h\u001b[?25l\u001b[2K\u001b[1G\u001b[A\u001b[2K\u001b[1Gpulling manifest \n",
            "pulling b559938ab7a0...  96% ▕▏ 6.8 GB/7.1 GB  177 MB/s      1s\u001b[?25h\u001b[?25l\u001b[2K\u001b[1G\u001b[A\u001b[2K\u001b[1Gpulling manifest \n",
            "pulling b559938ab7a0...  96% ▕▏ 6.8 GB/7.1 GB  177 MB/s      1s\u001b[?25h\u001b[?25l\u001b[2K\u001b[1G\u001b[A\u001b[2K\u001b[1Gpulling manifest \n",
            "pulling b559938ab7a0...  96% ▕▏ 6.8 GB/7.1 GB  177 MB/s      1s\u001b[?25h\u001b[?25l\u001b[2K\u001b[1G\u001b[A\u001b[2K\u001b[1Gpulling manifest \n",
            "pulling b559938ab7a0...  96% ▕▏ 6.8 GB/7.1 GB  147 MB/s      1s\u001b[?25h\u001b[?25l\u001b[2K\u001b[1G\u001b[A\u001b[2K\u001b[1Gpulling manifest \n",
            "pulling b559938ab7a0...  96% ▕▏ 6.8 GB/7.1 GB  147 MB/s      1s\u001b[?25h\u001b[?25l\u001b[2K\u001b[1G\u001b[A\u001b[2K\u001b[1Gpulling manifest \n",
            "pulling b559938ab7a0...  96% ▕▏ 6.8 GB/7.1 GB  147 MB/s      1s\u001b[?25h\u001b[?25l\u001b[2K\u001b[1G\u001b[A\u001b[2K\u001b[1Gpulling manifest \n",
            "pulling b559938ab7a0...  96% ▕▏ 6.8 GB/7.1 GB  147 MB/s      1s\u001b[?25h\u001b[?25l\u001b[2K\u001b[1G\u001b[A\u001b[2K\u001b[1Gpulling manifest \n",
            "pulling b559938ab7a0...  96% ▕▏ 6.8 GB/7.1 GB  147 MB/s      1s\u001b[?25h\u001b[?25l\u001b[2K\u001b[1G\u001b[A\u001b[2K\u001b[1Gpulling manifest \n",
            "pulling b559938ab7a0...  96% ▕▏ 6.8 GB/7.1 GB  147 MB/s      1s\u001b[?25h\u001b[?25l\u001b[2K\u001b[1G\u001b[A\u001b[2K\u001b[1Gpulling manifest \n",
            "pulling b559938ab7a0...  96% ▕▏ 6.8 GB/7.1 GB  147 MB/s      1s\u001b[?25h\u001b[?25l\u001b[2K\u001b[1G\u001b[A\u001b[2K\u001b[1Gpulling manifest \n",
            "pulling b559938ab7a0...  96% ▕▏ 6.8 GB/7.1 GB  147 MB/s      1s\u001b[?25h\u001b[?25l\u001b[2K\u001b[1G\u001b[A\u001b[2K\u001b[1Gpulling manifest \n",
            "pulling b559938ab7a0...  96% ▕▏ 6.8 GB/7.1 GB  147 MB/s      1s\u001b[?25h\u001b[?25l\u001b[2K\u001b[1G\u001b[A\u001b[2K\u001b[1Gpulling manifest \n",
            "pulling b559938ab7a0...  96% ▕▏ 6.8 GB/7.1 GB  147 MB/s      1s\u001b[?25h\u001b[?25l\u001b[2K\u001b[1G\u001b[A\u001b[2K\u001b[1Gpulling manifest \n",
            "pulling b559938ab7a0...  96% ▕▏ 6.8 GB/7.1 GB  122 MB/s      2s\u001b[?25h\u001b[?25l\u001b[2K\u001b[1G\u001b[A\u001b[2K\u001b[1Gpulling manifest \n",
            "pulling b559938ab7a0...  96% ▕▏ 6.8 GB/7.1 GB  122 MB/s      2s\u001b[?25h\u001b[?25l\u001b[2K\u001b[1G\u001b[A\u001b[2K\u001b[1Gpulling manifest \n",
            "pulling b559938ab7a0...  96% ▕▏ 6.8 GB/7.1 GB  122 MB/s      2s\u001b[?25h\u001b[?25l\u001b[2K\u001b[1G\u001b[A\u001b[2K\u001b[1Gpulling manifest \n",
            "pulling b559938ab7a0...  96% ▕▏ 6.8 GB/7.1 GB  122 MB/s      2s\u001b[?25h\u001b[?25l\u001b[2K\u001b[1G\u001b[A\u001b[2K\u001b[1Gpulling manifest \n",
            "pulling b559938ab7a0...  96% ▕▏ 6.8 GB/7.1 GB  122 MB/s      2s\u001b[?25h\u001b[?25l\u001b[2K\u001b[1G\u001b[A\u001b[2K\u001b[1Gpulling manifest \n",
            "pulling b559938ab7a0...  96% ▕▏ 6.8 GB/7.1 GB  122 MB/s      2s\u001b[?25h\u001b[?25l\u001b[2K\u001b[1G\u001b[A\u001b[2K\u001b[1Gpulling manifest \n",
            "pulling b559938ab7a0...  96% ▕▏ 6.8 GB/7.1 GB  122 MB/s      2s\u001b[?25h\u001b[?25l\u001b[2K\u001b[1G\u001b[A\u001b[2K\u001b[1Gpulling manifest \n",
            "pulling b559938ab7a0...  96% ▕▏ 6.8 GB/7.1 GB  122 MB/s      2s\u001b[?25h\u001b[?25l\u001b[2K\u001b[1G\u001b[A\u001b[2K\u001b[1Gpulling manifest \n",
            "pulling b559938ab7a0...  96% ▕▏ 6.8 GB/7.1 GB  122 MB/s      2s\u001b[?25h\u001b[?25l\u001b[2K\u001b[1G\u001b[A\u001b[2K\u001b[1Gpulling manifest \n",
            "pulling b559938ab7a0...  96% ▕▏ 6.8 GB/7.1 GB  122 MB/s      2s\u001b[?25h\u001b[?25l\u001b[2K\u001b[1G\u001b[A\u001b[2K\u001b[1Gpulling manifest \n",
            "pulling b559938ab7a0...  96% ▕▏ 6.8 GB/7.1 GB  122 MB/s      2s\u001b[?25h\u001b[?25l\u001b[2K\u001b[1G\u001b[A\u001b[2K\u001b[1Gpulling manifest \n",
            "pulling b559938ab7a0...  96% ▕▏ 6.8 GB/7.1 GB   91 MB/s      3s\u001b[?25h\u001b[?25l\u001b[2K\u001b[1G\u001b[A\u001b[2K\u001b[1Gpulling manifest \n",
            "pulling b559938ab7a0...  96% ▕▏ 6.8 GB/7.1 GB   91 MB/s      2s\u001b[?25h\u001b[?25l\u001b[2K\u001b[1G\u001b[A\u001b[2K\u001b[1Gpulling manifest \n",
            "pulling b559938ab7a0...  97% ▕▏ 6.8 GB/7.1 GB   91 MB/s      2s\u001b[?25h\u001b[?25l\u001b[2K\u001b[1G\u001b[A\u001b[2K\u001b[1Gpulling manifest \n",
            "pulling b559938ab7a0...  97% ▕▏ 6.9 GB/7.1 GB   91 MB/s      2s\u001b[?25h\u001b[?25l\u001b[2K\u001b[1G\u001b[A\u001b[2K\u001b[1Gpulling manifest \n",
            "pulling b559938ab7a0...  98% ▕▏ 6.9 GB/7.1 GB   91 MB/s      1s\u001b[?25h\u001b[?25l\u001b[2K\u001b[1G\u001b[A\u001b[2K\u001b[1Gpulling manifest \n",
            "pulling b559938ab7a0...  98% ▕▏ 6.9 GB/7.1 GB   91 MB/s      1s\u001b[?25h\u001b[?25l\u001b[2K\u001b[1G\u001b[A\u001b[2K\u001b[1Gpulling manifest \n",
            "pulling b559938ab7a0...  98% ▕▏ 6.9 GB/7.1 GB   91 MB/s      1s\u001b[?25h\u001b[?25l\u001b[2K\u001b[1G\u001b[A\u001b[2K\u001b[1Gpulling manifest \n",
            "pulling b559938ab7a0...  99% ▕▏ 7.0 GB/7.1 GB   91 MB/s      1s\u001b[?25h\u001b[?25l\u001b[2K\u001b[1G\u001b[A\u001b[2K\u001b[1Gpulling manifest \n",
            "pulling b559938ab7a0...  99% ▕▏ 7.0 GB/7.1 GB   91 MB/s      1s\u001b[?25h\u001b[?25l\u001b[2K\u001b[1G\u001b[A\u001b[2K\u001b[1Gpulling manifest \n",
            "pulling b559938ab7a0...  99% ▕▏ 7.0 GB/7.1 GB   91 MB/s      0s\u001b[?25h\u001b[?25l\u001b[2K\u001b[1G\u001b[A\u001b[2K\u001b[1Gpulling manifest \n",
            "pulling b559938ab7a0...  99% ▕▏ 7.0 GB/7.1 GB   87 MB/s      0s\u001b[?25h\u001b[?25l\u001b[2K\u001b[1G\u001b[A\u001b[2K\u001b[1Gpulling manifest \n",
            "pulling b559938ab7a0...  99% ▕▏ 7.0 GB/7.1 GB   87 MB/s      0s\u001b[?25h\u001b[?25l\u001b[2K\u001b[1G\u001b[A\u001b[2K\u001b[1Gpulling manifest \n",
            "pulling b559938ab7a0... 100% ▕▏ 7.0 GB/7.1 GB   87 MB/s      0s\u001b[?25h\u001b[?25l\u001b[2K\u001b[1G\u001b[A\u001b[2K\u001b[1Gpulling manifest \n",
            "pulling b559938ab7a0... 100% ▕▏ 7.1 GB/7.1 GB   87 MB/s      0s\u001b[?25h\u001b[?25l\u001b[2K\u001b[1G\u001b[A\u001b[2K\u001b[1Gpulling manifest \n",
            "pulling b559938ab7a0... 100% ▕▏ 7.1 GB/7.1 GB   87 MB/s      0s\u001b[?25h\u001b[?25l\u001b[2K\u001b[1G\u001b[A\u001b[2K\u001b[1Gpulling manifest \n",
            "pulling b559938ab7a0... 100% ▕▏ 7.1 GB/7.1 GB   87 MB/s      0s\u001b[?25h\u001b[?25l\u001b[2K\u001b[1G\u001b[A\u001b[2K\u001b[1Gpulling manifest \n",
            "pulling b559938ab7a0... 100% ▕▏ 7.1 GB/7.1 GB   87 MB/s      0s\u001b[?25h\u001b[?25l\u001b[2K\u001b[1G\u001b[A\u001b[2K\u001b[1Gpulling manifest \n",
            "pulling b559938ab7a0... 100% ▕▏ 7.1 GB/7.1 GB   87 MB/s      0s\u001b[?25h\u001b[?25l\u001b[2K\u001b[1G\u001b[A\u001b[2K\u001b[1Gpulling manifest \n",
            "pulling b559938ab7a0... 100% ▕▏ 7.1 GB/7.1 GB   87 MB/s      0s\u001b[?25h\u001b[?25l\u001b[2K\u001b[1G\u001b[A\u001b[2K\u001b[1Gpulling manifest \n",
            "pulling b559938ab7a0... 100% ▕▏ 7.1 GB                         \u001b[?25h\u001b[?25l\u001b[2K\u001b[1G\u001b[A\u001b[2K\u001b[1Gpulling manifest \n",
            "pulling b559938ab7a0... 100% ▕▏ 7.1 GB                         \u001b[?25h\u001b[?25l\u001b[2K\u001b[1G\u001b[A\u001b[2K\u001b[1Gpulling manifest \n",
            "pulling b559938ab7a0... 100% ▕▏ 7.1 GB                         \u001b[?25h\u001b[?25l\u001b[2K\u001b[1G\u001b[A\u001b[2K\u001b[1Gpulling manifest \n",
            "pulling b559938ab7a0... 100% ▕▏ 7.1 GB                         \u001b[?25h\u001b[?25l\u001b[2K\u001b[1G\u001b[A\u001b[2K\u001b[1Gpulling manifest \n",
            "pulling b559938ab7a0... 100% ▕▏ 7.1 GB                         \u001b[?25h\u001b[?25l\u001b[2K\u001b[1G\u001b[A\u001b[2K\u001b[1Gpulling manifest \n",
            "pulling b559938ab7a0... 100% ▕▏ 7.1 GB                         \u001b[?25h\u001b[?25l\u001b[2K\u001b[1G\u001b[A\u001b[2K\u001b[1Gpulling manifest \n",
            "pulling b559938ab7a0... 100% ▕▏ 7.1 GB                         \u001b[?25h\u001b[?25l\u001b[2K\u001b[1G\u001b[A\u001b[2K\u001b[1Gpulling manifest \n",
            "pulling b559938ab7a0... 100% ▕▏ 7.1 GB                         \u001b[?25h\u001b[?25l\u001b[2K\u001b[1G\u001b[A\u001b[2K\u001b[1Gpulling manifest \n",
            "pulling b559938ab7a0... 100% ▕▏ 7.1 GB                         \u001b[?25h\u001b[?25l\u001b[2K\u001b[1G\u001b[A\u001b[2K\u001b[1Gpulling manifest \n",
            "pulling b559938ab7a0... 100% ▕▏ 7.1 GB                         \u001b[?25h\u001b[?25l\u001b[2K\u001b[1G\u001b[A\u001b[2K\u001b[1Gpulling manifest \n",
            "pulling b559938ab7a0... 100% ▕▏ 7.1 GB                         \u001b[?25h\u001b[?25l\u001b[2K\u001b[1G\u001b[A\u001b[2K\u001b[1Gpulling manifest \n",
            "pulling b559938ab7a0... 100% ▕▏ 7.1 GB                         \u001b[?25h\u001b[?25l\u001b[2K\u001b[1G\u001b[A\u001b[2K\u001b[1Gpulling manifest \n",
            "pulling b559938ab7a0... 100% ▕▏ 7.1 GB                         \u001b[?25h\u001b[?25l\u001b[2K\u001b[1G\u001b[A\u001b[2K\u001b[1Gpulling manifest \n",
            "pulling b559938ab7a0... 100% ▕▏ 7.1 GB                         \u001b[?25h\u001b[?25l\u001b[2K\u001b[1G\u001b[A\u001b[2K\u001b[1Gpulling manifest \n",
            "pulling b559938ab7a0... 100% ▕▏ 7.1 GB                         \n",
            "pulling f023d1ce0e55...   0% ▕▏    0 B/ 688 B                  \u001b[?25h\u001b[?25l\u001b[2K\u001b[1G\u001b[A\u001b[2K\u001b[1G\u001b[A\u001b[2K\u001b[1Gpulling manifest \n",
            "pulling b559938ab7a0... 100% ▕▏ 7.1 GB                         \n",
            "pulling f023d1ce0e55...   0% ▕▏    0 B/ 688 B                  \u001b[?25h\u001b[?25l\u001b[2K\u001b[1G\u001b[A\u001b[2K\u001b[1G\u001b[A\u001b[2K\u001b[1Gpulling manifest \n",
            "pulling b559938ab7a0... 100% ▕▏ 7.1 GB                         \n",
            "pulling f023d1ce0e55... 100% ▕▏  688 B                         \u001b[?25h\u001b[?25l\u001b[2K\u001b[1G\u001b[A\u001b[2K\u001b[1G\u001b[A\u001b[2K\u001b[1Gpulling manifest \n",
            "pulling b559938ab7a0... 100% ▕▏ 7.1 GB                         \n",
            "pulling f023d1ce0e55... 100% ▕▏  688 B                         \u001b[?25h\u001b[?25l\u001b[2K\u001b[1G\u001b[A\u001b[2K\u001b[1G\u001b[A\u001b[2K\u001b[1Gpulling manifest \n",
            "pulling b559938ab7a0... 100% ▕▏ 7.1 GB                         \n",
            "pulling f023d1ce0e55... 100% ▕▏  688 B                         \u001b[?25h\u001b[?25l\u001b[2K\u001b[1G\u001b[A\u001b[2K\u001b[1G\u001b[A\u001b[2K\u001b[1Gpulling manifest \n",
            "pulling b559938ab7a0... 100% ▕▏ 7.1 GB                         \n",
            "pulling f023d1ce0e55... 100% ▕▏  688 B                         \u001b[?25h\u001b[?25l\u001b[2K\u001b[1G\u001b[A\u001b[2K\u001b[1G\u001b[A\u001b[2K\u001b[1Gpulling manifest \n",
            "pulling b559938ab7a0... 100% ▕▏ 7.1 GB                         \n",
            "pulling f023d1ce0e55... 100% ▕▏  688 B                         \u001b[?25h\u001b[?25l\u001b[2K\u001b[1G\u001b[A\u001b[2K\u001b[1G\u001b[A\u001b[2K\u001b[1Gpulling manifest \n",
            "pulling b559938ab7a0... 100% ▕▏ 7.1 GB                         \n",
            "pulling f023d1ce0e55... 100% ▕▏  688 B                         \u001b[?25h\u001b[?25l\u001b[2K\u001b[1G\u001b[A\u001b[2K\u001b[1G\u001b[A\u001b[2K\u001b[1Gpulling manifest \n",
            "pulling b559938ab7a0... 100% ▕▏ 7.1 GB                         \n",
            "pulling f023d1ce0e55... 100% ▕▏  688 B                         \u001b[?25h\u001b[?25l\u001b[2K\u001b[1G\u001b[A\u001b[2K\u001b[1G\u001b[A\u001b[2K\u001b[1Gpulling manifest \n",
            "pulling b559938ab7a0... 100% ▕▏ 7.1 GB                         \n",
            "pulling f023d1ce0e55... 100% ▕▏  688 B                         \u001b[?25h\u001b[?25l\u001b[2K\u001b[1G\u001b[A\u001b[2K\u001b[1G\u001b[A\u001b[2K\u001b[1Gpulling manifest \n",
            "pulling b559938ab7a0... 100% ▕▏ 7.1 GB                         \n",
            "pulling f023d1ce0e55... 100% ▕▏  688 B                         \u001b[?25h\u001b[?25l\u001b[2K\u001b[1G\u001b[A\u001b[2K\u001b[1G\u001b[A\u001b[2K\u001b[1Gpulling manifest \n",
            "pulling b559938ab7a0... 100% ▕▏ 7.1 GB                         \n",
            "pulling f023d1ce0e55... 100% ▕▏  688 B                         \u001b[?25h\u001b[?25l\u001b[2K\u001b[1G\u001b[A\u001b[2K\u001b[1G\u001b[A\u001b[2K\u001b[1Gpulling manifest \n",
            "pulling b559938ab7a0... 100% ▕▏ 7.1 GB                         \n",
            "pulling f023d1ce0e55... 100% ▕▏  688 B                         \u001b[?25h\u001b[?25l\u001b[2K\u001b[1G\u001b[A\u001b[2K\u001b[1G\u001b[A\u001b[2K\u001b[1Gpulling manifest \n",
            "pulling b559938ab7a0... 100% ▕▏ 7.1 GB                         \n",
            "pulling f023d1ce0e55... 100% ▕▏  688 B                         \u001b[?25h\u001b[?25l\u001b[2K\u001b[1G\u001b[A\u001b[2K\u001b[1G\u001b[A\u001b[2K\u001b[1Gpulling manifest \n",
            "pulling b559938ab7a0... 100% ▕▏ 7.1 GB                         \n",
            "pulling f023d1ce0e55... 100% ▕▏  688 B                         \u001b[?25h\u001b[?25l\u001b[2K\u001b[1G\u001b[A\u001b[2K\u001b[1G\u001b[A\u001b[2K\u001b[1Gpulling manifest \n",
            "pulling b559938ab7a0... 100% ▕▏ 7.1 GB                         \n",
            "pulling f023d1ce0e55... 100% ▕▏  688 B                         \u001b[?25h\u001b[?25l\u001b[2K\u001b[1G\u001b[A\u001b[2K\u001b[1G\u001b[A\u001b[2K\u001b[1Gpulling manifest \n",
            "pulling b559938ab7a0... 100% ▕▏ 7.1 GB                         \n",
            "pulling f023d1ce0e55... 100% ▕▏  688 B                         \u001b[?25h\u001b[?25l\u001b[2K\u001b[1G\u001b[A\u001b[2K\u001b[1G\u001b[A\u001b[2K\u001b[1Gpulling manifest \n",
            "pulling b559938ab7a0... 100% ▕▏ 7.1 GB                         \n",
            "pulling f023d1ce0e55... 100% ▕▏  688 B                         \u001b[?25h\u001b[?25l\u001b[2K\u001b[1G\u001b[A\u001b[2K\u001b[1G\u001b[A\u001b[2K\u001b[1Gpulling manifest \n",
            "pulling b559938ab7a0... 100% ▕▏ 7.1 GB                         \n",
            "pulling f023d1ce0e55... 100% ▕▏  688 B                         \u001b[?25h\u001b[?25l\u001b[2K\u001b[1G\u001b[A\u001b[2K\u001b[1G\u001b[A\u001b[2K\u001b[1Gpulling manifest \n",
            "pulling b559938ab7a0... 100% ▕▏ 7.1 GB                         \n",
            "pulling f023d1ce0e55... 100% ▕▏  688 B                         \u001b[?25h\u001b[?25l\u001b[2K\u001b[1G\u001b[A\u001b[2K\u001b[1G\u001b[A\u001b[2K\u001b[1Gpulling manifest \n",
            "pulling b559938ab7a0... 100% ▕▏ 7.1 GB                         \n",
            "pulling f023d1ce0e55... 100% ▕▏  688 B                         \n",
            "pulling 43070e2d4e53...   0% ▕▏    0 B/ 11 KB                  \u001b[?25h\u001b[?25l\u001b[2K\u001b[1G\u001b[A\u001b[2K\u001b[1G\u001b[A\u001b[2K\u001b[1G\u001b[A\u001b[2K\u001b[1Gpulling manifest \n",
            "pulling b559938ab7a0... 100% ▕▏ 7.1 GB                         \n",
            "pulling f023d1ce0e55... 100% ▕▏  688 B                         \n",
            "pulling 43070e2d4e53...   0% ▕▏    0 B/ 11 KB                  \u001b[?25h\u001b[?25l\u001b[2K\u001b[1G\u001b[A\u001b[2K\u001b[1G\u001b[A\u001b[2K\u001b[1G\u001b[A\u001b[2K\u001b[1Gpulling manifest \n",
            "pulling b559938ab7a0... 100% ▕▏ 7.1 GB                         \n",
            "pulling f023d1ce0e55... 100% ▕▏  688 B                         \n",
            "pulling 43070e2d4e53... 100% ▕▏  11 KB                         \u001b[?25h\u001b[?25l\u001b[2K\u001b[1G\u001b[A\u001b[2K\u001b[1G\u001b[A\u001b[2K\u001b[1G\u001b[A\u001b[2K\u001b[1Gpulling manifest \n",
            "pulling b559938ab7a0... 100% ▕▏ 7.1 GB                         \n",
            "pulling f023d1ce0e55... 100% ▕▏  688 B                         \n",
            "pulling 43070e2d4e53... 100% ▕▏  11 KB                         \u001b[?25h\u001b[?25l\u001b[2K\u001b[1G\u001b[A\u001b[2K\u001b[1G\u001b[A\u001b[2K\u001b[1G\u001b[A\u001b[2K\u001b[1Gpulling manifest \n",
            "pulling b559938ab7a0... 100% ▕▏ 7.1 GB                         \n",
            "pulling f023d1ce0e55... 100% ▕▏  688 B                         \n",
            "pulling 43070e2d4e53... 100% ▕▏  11 KB                         \u001b[?25h\u001b[?25l\u001b[2K\u001b[1G\u001b[A\u001b[2K\u001b[1G\u001b[A\u001b[2K\u001b[1G\u001b[A\u001b[2K\u001b[1Gpulling manifest \n",
            "pulling b559938ab7a0... 100% ▕▏ 7.1 GB                         \n",
            "pulling f023d1ce0e55... 100% ▕▏  688 B                         \n",
            "pulling 43070e2d4e53... 100% ▕▏  11 KB                         \u001b[?25h\u001b[?25l\u001b[2K\u001b[1G\u001b[A\u001b[2K\u001b[1G\u001b[A\u001b[2K\u001b[1G\u001b[A\u001b[2K\u001b[1Gpulling manifest \n",
            "pulling b559938ab7a0... 100% ▕▏ 7.1 GB                         \n",
            "pulling f023d1ce0e55... 100% ▕▏  688 B                         \n",
            "pulling 43070e2d4e53... 100% ▕▏  11 KB                         \u001b[?25h\u001b[?25l\u001b[2K\u001b[1G\u001b[A\u001b[2K\u001b[1G\u001b[A\u001b[2K\u001b[1G\u001b[A\u001b[2K\u001b[1Gpulling manifest \n",
            "pulling b559938ab7a0... 100% ▕▏ 7.1 GB                         \n",
            "pulling f023d1ce0e55... 100% ▕▏  688 B                         \n",
            "pulling 43070e2d4e53... 100% ▕▏  11 KB                         \u001b[?25h\u001b[?25l\u001b[2K\u001b[1G\u001b[A\u001b[2K\u001b[1G\u001b[A\u001b[2K\u001b[1G\u001b[A\u001b[2K\u001b[1Gpulling manifest \n",
            "pulling b559938ab7a0... 100% ▕▏ 7.1 GB                         \n",
            "pulling f023d1ce0e55... 100% ▕▏  688 B                         \n",
            "pulling 43070e2d4e53... 100% ▕▏  11 KB                         \u001b[?25h\u001b[?25l\u001b[2K\u001b[1G\u001b[A\u001b[2K\u001b[1G\u001b[A\u001b[2K\u001b[1G\u001b[A\u001b[2K\u001b[1Gpulling manifest \n",
            "pulling b559938ab7a0... 100% ▕▏ 7.1 GB                         \n",
            "pulling f023d1ce0e55... 100% ▕▏  688 B                         \n",
            "pulling 43070e2d4e53... 100% ▕▏  11 KB                         \u001b[?25h\u001b[?25l\u001b[2K\u001b[1G\u001b[A\u001b[2K\u001b[1G\u001b[A\u001b[2K\u001b[1G\u001b[A\u001b[2K\u001b[1Gpulling manifest \n",
            "pulling b559938ab7a0... 100% ▕▏ 7.1 GB                         \n",
            "pulling f023d1ce0e55... 100% ▕▏  688 B                         \n",
            "pulling 43070e2d4e53... 100% ▕▏  11 KB                         \u001b[?25h\u001b[?25l\u001b[2K\u001b[1G\u001b[A\u001b[2K\u001b[1G\u001b[A\u001b[2K\u001b[1G\u001b[A\u001b[2K\u001b[1Gpulling manifest \n",
            "pulling b559938ab7a0... 100% ▕▏ 7.1 GB                         \n",
            "pulling f023d1ce0e55... 100% ▕▏  688 B                         \n",
            "pulling 43070e2d4e53... 100% ▕▏  11 KB                         \u001b[?25h\u001b[?25l\u001b[2K\u001b[1G\u001b[A\u001b[2K\u001b[1G\u001b[A\u001b[2K\u001b[1G\u001b[A\u001b[2K\u001b[1Gpulling manifest \n",
            "pulling b559938ab7a0... 100% ▕▏ 7.1 GB                         \n",
            "pulling f023d1ce0e55... 100% ▕▏  688 B                         \n",
            "pulling 43070e2d4e53... 100% ▕▏  11 KB                         \u001b[?25h\u001b[?25l\u001b[2K\u001b[1G\u001b[A\u001b[2K\u001b[1G\u001b[A\u001b[2K\u001b[1G\u001b[A\u001b[2K\u001b[1Gpulling manifest \n",
            "pulling b559938ab7a0... 100% ▕▏ 7.1 GB                         \n",
            "pulling f023d1ce0e55... 100% ▕▏  688 B                         \n",
            "pulling 43070e2d4e53... 100% ▕▏  11 KB                         \u001b[?25h\u001b[?25l\u001b[2K\u001b[1G\u001b[A\u001b[2K\u001b[1G\u001b[A\u001b[2K\u001b[1G\u001b[A\u001b[2K\u001b[1Gpulling manifest \n",
            "pulling b559938ab7a0... 100% ▕▏ 7.1 GB                         \n",
            "pulling f023d1ce0e55... 100% ▕▏  688 B                         \n",
            "pulling 43070e2d4e53... 100% ▕▏  11 KB                         \u001b[?25h\u001b[?25l\u001b[2K\u001b[1G\u001b[A\u001b[2K\u001b[1G\u001b[A\u001b[2K\u001b[1G\u001b[A\u001b[2K\u001b[1Gpulling manifest \n",
            "pulling b559938ab7a0... 100% ▕▏ 7.1 GB                         \n",
            "pulling f023d1ce0e55... 100% ▕▏  688 B                         \n",
            "pulling 43070e2d4e53... 100% ▕▏  11 KB                         \u001b[?25h\u001b[?25l\u001b[2K\u001b[1G\u001b[A\u001b[2K\u001b[1G\u001b[A\u001b[2K\u001b[1G\u001b[A\u001b[2K\u001b[1Gpulling manifest \n",
            "pulling b559938ab7a0... 100% ▕▏ 7.1 GB                         \n",
            "pulling f023d1ce0e55... 100% ▕▏  688 B                         \n",
            "pulling 43070e2d4e53... 100% ▕▏  11 KB                         \u001b[?25h\u001b[?25l\u001b[2K\u001b[1G\u001b[A\u001b[2K\u001b[1G\u001b[A\u001b[2K\u001b[1G\u001b[A\u001b[2K\u001b[1Gpulling manifest \n",
            "pulling b559938ab7a0... 100% ▕▏ 7.1 GB                         \n",
            "pulling f023d1ce0e55... 100% ▕▏  688 B                         \n",
            "pulling 43070e2d4e53... 100% ▕▏  11 KB                         \u001b[?25h\u001b[?25l\u001b[2K\u001b[1G\u001b[A\u001b[2K\u001b[1G\u001b[A\u001b[2K\u001b[1G\u001b[A\u001b[2K\u001b[1Gpulling manifest \n",
            "pulling b559938ab7a0... 100% ▕▏ 7.1 GB                         \n",
            "pulling f023d1ce0e55... 100% ▕▏  688 B                         \n",
            "pulling 43070e2d4e53... 100% ▕▏  11 KB                         \u001b[?25h\u001b[?25l\u001b[2K\u001b[1G\u001b[A\u001b[2K\u001b[1G\u001b[A\u001b[2K\u001b[1G\u001b[A\u001b[2K\u001b[1Gpulling manifest \n",
            "pulling b559938ab7a0... 100% ▕▏ 7.1 GB                         \n",
            "pulling f023d1ce0e55... 100% ▕▏  688 B                         \n",
            "pulling 43070e2d4e53... 100% ▕▏  11 KB                         \u001b[?25h\u001b[?25l\u001b[2K\u001b[1G\u001b[A\u001b[2K\u001b[1G\u001b[A\u001b[2K\u001b[1G\u001b[A\u001b[2K\u001b[1Gpulling manifest \n",
            "pulling b559938ab7a0... 100% ▕▏ 7.1 GB                         \n",
            "pulling f023d1ce0e55... 100% ▕▏  688 B                         \n",
            "pulling 43070e2d4e53... 100% ▕▏  11 KB                         \n",
            "pulling ed11eda7790d...   0% ▕▏    0 B/  30 B                  \u001b[?25h\u001b[?25l\u001b[2K\u001b[1G\u001b[A\u001b[2K\u001b[1G\u001b[A\u001b[2K\u001b[1G\u001b[A\u001b[2K\u001b[1G\u001b[A\u001b[2K\u001b[1Gpulling manifest \n",
            "pulling b559938ab7a0... 100% ▕▏ 7.1 GB                         \n",
            "pulling f023d1ce0e55... 100% ▕▏  688 B                         \n",
            "pulling 43070e2d4e53... 100% ▕▏  11 KB                         \n",
            "pulling ed11eda7790d...   0% ▕▏    0 B/  30 B                  \u001b[?25h\u001b[?25l\u001b[2K\u001b[1G\u001b[A\u001b[2K\u001b[1G\u001b[A\u001b[2K\u001b[1G\u001b[A\u001b[2K\u001b[1G\u001b[A\u001b[2K\u001b[1Gpulling manifest \n",
            "pulling b559938ab7a0... 100% ▕▏ 7.1 GB                         \n",
            "pulling f023d1ce0e55... 100% ▕▏  688 B                         \n",
            "pulling 43070e2d4e53... 100% ▕▏  11 KB                         \n",
            "pulling ed11eda7790d... 100% ▕▏   30 B                         \u001b[?25h\u001b[?25l\u001b[2K\u001b[1G\u001b[A\u001b[2K\u001b[1G\u001b[A\u001b[2K\u001b[1G\u001b[A\u001b[2K\u001b[1G\u001b[A\u001b[2K\u001b[1Gpulling manifest \n",
            "pulling b559938ab7a0... 100% ▕▏ 7.1 GB                         \n",
            "pulling f023d1ce0e55... 100% ▕▏  688 B                         \n",
            "pulling 43070e2d4e53... 100% ▕▏  11 KB                         \n",
            "pulling ed11eda7790d... 100% ▕▏   30 B                         \u001b[?25h\u001b[?25l\u001b[2K\u001b[1G\u001b[A\u001b[2K\u001b[1G\u001b[A\u001b[2K\u001b[1G\u001b[A\u001b[2K\u001b[1G\u001b[A\u001b[2K\u001b[1Gpulling manifest \n",
            "pulling b559938ab7a0... 100% ▕▏ 7.1 GB                         \n",
            "pulling f023d1ce0e55... 100% ▕▏  688 B                         \n",
            "pulling 43070e2d4e53... 100% ▕▏  11 KB                         \n",
            "pulling ed11eda7790d... 100% ▕▏   30 B                         \u001b[?25h\u001b[?25l\u001b[2K\u001b[1G\u001b[A\u001b[2K\u001b[1G\u001b[A\u001b[2K\u001b[1G\u001b[A\u001b[2K\u001b[1G\u001b[A\u001b[2K\u001b[1Gpulling manifest \n",
            "pulling b559938ab7a0... 100% ▕▏ 7.1 GB                         \n",
            "pulling f023d1ce0e55... 100% ▕▏  688 B                         \n",
            "pulling 43070e2d4e53... 100% ▕▏  11 KB                         \n",
            "pulling ed11eda7790d... 100% ▕▏   30 B                         \u001b[?25h\u001b[?25l\u001b[2K\u001b[1G\u001b[A\u001b[2K\u001b[1G\u001b[A\u001b[2K\u001b[1G\u001b[A\u001b[2K\u001b[1G\u001b[A\u001b[2K\u001b[1Gpulling manifest \n",
            "pulling b559938ab7a0... 100% ▕▏ 7.1 GB                         \n",
            "pulling f023d1ce0e55... 100% ▕▏  688 B                         \n",
            "pulling 43070e2d4e53... 100% ▕▏  11 KB                         \n",
            "pulling ed11eda7790d... 100% ▕▏   30 B                         \u001b[?25h\u001b[?25l\u001b[2K\u001b[1G\u001b[A\u001b[2K\u001b[1G\u001b[A\u001b[2K\u001b[1G\u001b[A\u001b[2K\u001b[1G\u001b[A\u001b[2K\u001b[1Gpulling manifest \n",
            "pulling b559938ab7a0... 100% ▕▏ 7.1 GB                         \n",
            "pulling f023d1ce0e55... 100% ▕▏  688 B                         \n",
            "pulling 43070e2d4e53... 100% ▕▏  11 KB                         \n",
            "pulling ed11eda7790d... 100% ▕▏   30 B                         \u001b[?25h\u001b[?25l\u001b[2K\u001b[1G\u001b[A\u001b[2K\u001b[1G\u001b[A\u001b[2K\u001b[1G\u001b[A\u001b[2K\u001b[1G\u001b[A\u001b[2K\u001b[1Gpulling manifest \n",
            "pulling b559938ab7a0... 100% ▕▏ 7.1 GB                         \n",
            "pulling f023d1ce0e55... 100% ▕▏  688 B                         \n",
            "pulling 43070e2d4e53... 100% ▕▏  11 KB                         \n",
            "pulling ed11eda7790d... 100% ▕▏   30 B                         \u001b[?25h\u001b[?25l\u001b[2K\u001b[1G\u001b[A\u001b[2K\u001b[1G\u001b[A\u001b[2K\u001b[1G\u001b[A\u001b[2K\u001b[1G\u001b[A\u001b[2K\u001b[1Gpulling manifest \n",
            "pulling b559938ab7a0... 100% ▕▏ 7.1 GB                         \n",
            "pulling f023d1ce0e55... 100% ▕▏  688 B                         \n",
            "pulling 43070e2d4e53... 100% ▕▏  11 KB                         \n",
            "pulling ed11eda7790d... 100% ▕▏   30 B                         \u001b[?25h\u001b[?25l\u001b[2K\u001b[1G\u001b[A\u001b[2K\u001b[1G\u001b[A\u001b[2K\u001b[1G\u001b[A\u001b[2K\u001b[1G\u001b[A\u001b[2K\u001b[1Gpulling manifest \n",
            "pulling b559938ab7a0... 100% ▕▏ 7.1 GB                         \n",
            "pulling f023d1ce0e55... 100% ▕▏  688 B                         \n",
            "pulling 43070e2d4e53... 100% ▕▏  11 KB                         \n",
            "pulling ed11eda7790d... 100% ▕▏   30 B                         \u001b[?25h\u001b[?25l\u001b[2K\u001b[1G\u001b[A\u001b[2K\u001b[1G\u001b[A\u001b[2K\u001b[1G\u001b[A\u001b[2K\u001b[1G\u001b[A\u001b[2K\u001b[1Gpulling manifest \n",
            "pulling b559938ab7a0... 100% ▕▏ 7.1 GB                         \n",
            "pulling f023d1ce0e55... 100% ▕▏  688 B                         \n",
            "pulling 43070e2d4e53... 100% ▕▏  11 KB                         \n",
            "pulling ed11eda7790d... 100% ▕▏   30 B                         \u001b[?25h\u001b[?25l\u001b[2K\u001b[1G\u001b[A\u001b[2K\u001b[1G\u001b[A\u001b[2K\u001b[1G\u001b[A\u001b[2K\u001b[1G\u001b[A\u001b[2K\u001b[1Gpulling manifest \n",
            "pulling b559938ab7a0... 100% ▕▏ 7.1 GB                         \n",
            "pulling f023d1ce0e55... 100% ▕▏  688 B                         \n",
            "pulling 43070e2d4e53... 100% ▕▏  11 KB                         \n",
            "pulling ed11eda7790d... 100% ▕▏   30 B                         \u001b[?25h\u001b[?25l\u001b[2K\u001b[1G\u001b[A\u001b[2K\u001b[1G\u001b[A\u001b[2K\u001b[1G\u001b[A\u001b[2K\u001b[1G\u001b[A\u001b[2K\u001b[1Gpulling manifest \n",
            "pulling b559938ab7a0... 100% ▕▏ 7.1 GB                         \n",
            "pulling f023d1ce0e55... 100% ▕▏  688 B                         \n",
            "pulling 43070e2d4e53... 100% ▕▏  11 KB                         \n",
            "pulling ed11eda7790d... 100% ▕▏   30 B                         \u001b[?25h\u001b[?25l\u001b[2K\u001b[1G\u001b[A\u001b[2K\u001b[1G\u001b[A\u001b[2K\u001b[1G\u001b[A\u001b[2K\u001b[1G\u001b[A\u001b[2K\u001b[1Gpulling manifest \n",
            "pulling b559938ab7a0... 100% ▕▏ 7.1 GB                         \n",
            "pulling f023d1ce0e55... 100% ▕▏  688 B                         \n",
            "pulling 43070e2d4e53... 100% ▕▏  11 KB                         \n",
            "pulling ed11eda7790d... 100% ▕▏   30 B                         \u001b[?25h\u001b[?25l\u001b[2K\u001b[1G\u001b[A\u001b[2K\u001b[1G\u001b[A\u001b[2K\u001b[1G\u001b[A\u001b[2K\u001b[1G\u001b[A\u001b[2K\u001b[1Gpulling manifest \n",
            "pulling b559938ab7a0... 100% ▕▏ 7.1 GB                         \n",
            "pulling f023d1ce0e55... 100% ▕▏  688 B                         \n",
            "pulling 43070e2d4e53... 100% ▕▏  11 KB                         \n",
            "pulling ed11eda7790d... 100% ▕▏   30 B                         \u001b[?25h\u001b[?25l\u001b[2K\u001b[1G\u001b[A\u001b[2K\u001b[1G\u001b[A\u001b[2K\u001b[1G\u001b[A\u001b[2K\u001b[1G\u001b[A\u001b[2K\u001b[1Gpulling manifest \n",
            "pulling b559938ab7a0... 100% ▕▏ 7.1 GB                         \n",
            "pulling f023d1ce0e55... 100% ▕▏  688 B                         \n",
            "pulling 43070e2d4e53... 100% ▕▏  11 KB                         \n",
            "pulling ed11eda7790d... 100% ▕▏   30 B                         \u001b[?25h\u001b[?25l\u001b[2K\u001b[1G\u001b[A\u001b[2K\u001b[1G\u001b[A\u001b[2K\u001b[1G\u001b[A\u001b[2K\u001b[1G\u001b[A\u001b[2K\u001b[1Gpulling manifest \n",
            "pulling b559938ab7a0... 100% ▕▏ 7.1 GB                         \n",
            "pulling f023d1ce0e55... 100% ▕▏  688 B                         \n",
            "pulling 43070e2d4e53... 100% ▕▏  11 KB                         \n",
            "pulling ed11eda7790d... 100% ▕▏   30 B                         \u001b[?25h\u001b[?25l\u001b[2K\u001b[1G\u001b[A\u001b[2K\u001b[1G\u001b[A\u001b[2K\u001b[1G\u001b[A\u001b[2K\u001b[1G\u001b[A\u001b[2K\u001b[1Gpulling manifest \n",
            "pulling b559938ab7a0... 100% ▕▏ 7.1 GB                         \n",
            "pulling f023d1ce0e55... 100% ▕▏  688 B                         \n",
            "pulling 43070e2d4e53... 100% ▕▏  11 KB                         \n",
            "pulling ed11eda7790d... 100% ▕▏   30 B                         \u001b[?25h\u001b[?25l\u001b[2K\u001b[1G\u001b[A\u001b[2K\u001b[1G\u001b[A\u001b[2K\u001b[1G\u001b[A\u001b[2K\u001b[1G\u001b[A\u001b[2K\u001b[1Gpulling manifest \n",
            "pulling b559938ab7a0... 100% ▕▏ 7.1 GB                         \n",
            "pulling f023d1ce0e55... 100% ▕▏  688 B                         \n",
            "pulling 43070e2d4e53... 100% ▕▏  11 KB                         \n",
            "pulling ed11eda7790d... 100% ▕▏   30 B                         \u001b[?25h\u001b[?25l\u001b[2K\u001b[1G\u001b[A\u001b[2K\u001b[1G\u001b[A\u001b[2K\u001b[1G\u001b[A\u001b[2K\u001b[1G\u001b[A\u001b[2K\u001b[1Gpulling manifest \n",
            "pulling b559938ab7a0... 100% ▕▏ 7.1 GB                         \n",
            "pulling f023d1ce0e55... 100% ▕▏  688 B                         \n",
            "pulling 43070e2d4e53... 100% ▕▏  11 KB                         \n",
            "pulling ed11eda7790d... 100% ▕▏   30 B                         \u001b[?25h\u001b[?25l\u001b[2K\u001b[1G\u001b[A\u001b[2K\u001b[1G\u001b[A\u001b[2K\u001b[1G\u001b[A\u001b[2K\u001b[1G\u001b[A\u001b[2K\u001b[1Gpulling manifest \n",
            "pulling b559938ab7a0... 100% ▕▏ 7.1 GB                         \n",
            "pulling f023d1ce0e55... 100% ▕▏  688 B                         \n",
            "pulling 43070e2d4e53... 100% ▕▏  11 KB                         \n",
            "pulling ed11eda7790d... 100% ▕▏   30 B                         \u001b[?25h\u001b[?25l\u001b[2K\u001b[1G\u001b[A\u001b[2K\u001b[1G\u001b[A\u001b[2K\u001b[1G\u001b[A\u001b[2K\u001b[1G\u001b[A\u001b[2K\u001b[1Gpulling manifest \n",
            "pulling b559938ab7a0... 100% ▕▏ 7.1 GB                         \n",
            "pulling f023d1ce0e55... 100% ▕▏  688 B                         \n",
            "pulling 43070e2d4e53... 100% ▕▏  11 KB                         \n",
            "pulling ed11eda7790d... 100% ▕▏   30 B                         \n",
            "pulling 65d37de20e59...   0% ▕▏    0 B/ 486 B                  \u001b[?25h\u001b[?25l\u001b[2K\u001b[1G\u001b[A\u001b[2K\u001b[1G\u001b[A\u001b[2K\u001b[1G\u001b[A\u001b[2K\u001b[1G\u001b[A\u001b[2K\u001b[1G\u001b[A\u001b[2K\u001b[1Gpulling manifest \n",
            "pulling b559938ab7a0... 100% ▕▏ 7.1 GB                         \n",
            "pulling f023d1ce0e55... 100% ▕▏  688 B                         \n",
            "pulling 43070e2d4e53... 100% ▕▏  11 KB                         \n",
            "pulling ed11eda7790d... 100% ▕▏   30 B                         \n",
            "pulling 65d37de20e59...   0% ▕▏    0 B/ 486 B                  \u001b[?25h\u001b[?25l\u001b[2K\u001b[1G\u001b[A\u001b[2K\u001b[1G\u001b[A\u001b[2K\u001b[1G\u001b[A\u001b[2K\u001b[1G\u001b[A\u001b[2K\u001b[1G\u001b[A\u001b[2K\u001b[1Gpulling manifest \n",
            "pulling b559938ab7a0... 100% ▕▏ 7.1 GB                         \n",
            "pulling f023d1ce0e55... 100% ▕▏  688 B                         \n",
            "pulling 43070e2d4e53... 100% ▕▏  11 KB                         \n",
            "pulling ed11eda7790d... 100% ▕▏   30 B                         \n",
            "pulling 65d37de20e59... 100% ▕▏  486 B                         \u001b[?25h\u001b[?25l\u001b[2K\u001b[1G\u001b[A\u001b[2K\u001b[1G\u001b[A\u001b[2K\u001b[1G\u001b[A\u001b[2K\u001b[1G\u001b[A\u001b[2K\u001b[1G\u001b[A\u001b[2K\u001b[1Gpulling manifest \n",
            "pulling b559938ab7a0... 100% ▕▏ 7.1 GB                         \n",
            "pulling f023d1ce0e55... 100% ▕▏  688 B                         \n",
            "pulling 43070e2d4e53... 100% ▕▏  11 KB                         \n",
            "pulling ed11eda7790d... 100% ▕▏   30 B                         \n",
            "pulling 65d37de20e59... 100% ▕▏  486 B                         \u001b[?25h\u001b[?25l\u001b[2K\u001b[1G\u001b[A\u001b[2K\u001b[1G\u001b[A\u001b[2K\u001b[1G\u001b[A\u001b[2K\u001b[1G\u001b[A\u001b[2K\u001b[1G\u001b[A\u001b[2K\u001b[1Gpulling manifest \n",
            "pulling b559938ab7a0... 100% ▕▏ 7.1 GB                         \n",
            "pulling f023d1ce0e55... 100% ▕▏  688 B                         \n",
            "pulling 43070e2d4e53... 100% ▕▏  11 KB                         \n",
            "pulling ed11eda7790d... 100% ▕▏   30 B                         \n",
            "pulling 65d37de20e59... 100% ▕▏  486 B                         \u001b[?25h\u001b[?25l\u001b[2K\u001b[1G\u001b[A\u001b[2K\u001b[1G\u001b[A\u001b[2K\u001b[1G\u001b[A\u001b[2K\u001b[1G\u001b[A\u001b[2K\u001b[1G\u001b[A\u001b[2K\u001b[1Gpulling manifest \n",
            "pulling b559938ab7a0... 100% ▕▏ 7.1 GB                         \n",
            "pulling f023d1ce0e55... 100% ▕▏  688 B                         \n",
            "pulling 43070e2d4e53... 100% ▕▏  11 KB                         \n",
            "pulling ed11eda7790d... 100% ▕▏   30 B                         \n",
            "pulling 65d37de20e59... 100% ▕▏  486 B                         \u001b[?25h\u001b[?25l\u001b[2K\u001b[1G\u001b[A\u001b[2K\u001b[1G\u001b[A\u001b[2K\u001b[1G\u001b[A\u001b[2K\u001b[1G\u001b[A\u001b[2K\u001b[1G\u001b[A\u001b[2K\u001b[1Gpulling manifest \n",
            "pulling b559938ab7a0... 100% ▕▏ 7.1 GB                         \n",
            "pulling f023d1ce0e55... 100% ▕▏  688 B                         \n",
            "pulling 43070e2d4e53... 100% ▕▏  11 KB                         \n",
            "pulling ed11eda7790d... 100% ▕▏   30 B                         \n",
            "pulling 65d37de20e59... 100% ▕▏  486 B                         \u001b[?25h\u001b[?25l\u001b[2K\u001b[1G\u001b[A\u001b[2K\u001b[1G\u001b[A\u001b[2K\u001b[1G\u001b[A\u001b[2K\u001b[1G\u001b[A\u001b[2K\u001b[1G\u001b[A\u001b[2K\u001b[1Gpulling manifest \n",
            "pulling b559938ab7a0... 100% ▕▏ 7.1 GB                         \n",
            "pulling f023d1ce0e55... 100% ▕▏  688 B                         \n",
            "pulling 43070e2d4e53... 100% ▕▏  11 KB                         \n",
            "pulling ed11eda7790d... 100% ▕▏   30 B                         \n",
            "pulling 65d37de20e59... 100% ▕▏  486 B                         \u001b[?25h\u001b[?25l\u001b[2K\u001b[1G\u001b[A\u001b[2K\u001b[1G\u001b[A\u001b[2K\u001b[1G\u001b[A\u001b[2K\u001b[1G\u001b[A\u001b[2K\u001b[1G\u001b[A\u001b[2K\u001b[1Gpulling manifest \n",
            "pulling b559938ab7a0... 100% ▕▏ 7.1 GB                         \n",
            "pulling f023d1ce0e55... 100% ▕▏  688 B                         \n",
            "pulling 43070e2d4e53... 100% ▕▏  11 KB                         \n",
            "pulling ed11eda7790d... 100% ▕▏   30 B                         \n",
            "pulling 65d37de20e59... 100% ▕▏  486 B                         \u001b[?25h\u001b[?25l\u001b[2K\u001b[1G\u001b[A\u001b[2K\u001b[1G\u001b[A\u001b[2K\u001b[1G\u001b[A\u001b[2K\u001b[1G\u001b[A\u001b[2K\u001b[1G\u001b[A\u001b[2K\u001b[1Gpulling manifest \n",
            "pulling b559938ab7a0... 100% ▕▏ 7.1 GB                         \n",
            "pulling f023d1ce0e55... 100% ▕▏  688 B                         \n",
            "pulling 43070e2d4e53... 100% ▕▏  11 KB                         \n",
            "pulling ed11eda7790d... 100% ▕▏   30 B                         \n",
            "pulling 65d37de20e59... 100% ▕▏  486 B                         \u001b[?25h\u001b[?25l\u001b[2K\u001b[1G\u001b[A\u001b[2K\u001b[1G\u001b[A\u001b[2K\u001b[1G\u001b[A\u001b[2K\u001b[1G\u001b[A\u001b[2K\u001b[1G\u001b[A\u001b[2K\u001b[1Gpulling manifest \n",
            "pulling b559938ab7a0... 100% ▕▏ 7.1 GB                         \n",
            "pulling f023d1ce0e55... 100% ▕▏  688 B                         \n",
            "pulling 43070e2d4e53... 100% ▕▏  11 KB                         \n",
            "pulling ed11eda7790d... 100% ▕▏   30 B                         \n",
            "pulling 65d37de20e59... 100% ▕▏  486 B                         \n",
            "verifying sha256 digest ⠋ \u001b[?25h\u001b[?25l\u001b[2K\u001b[1G\u001b[A\u001b[2K\u001b[1G\u001b[A\u001b[2K\u001b[1G\u001b[A\u001b[2K\u001b[1G\u001b[A\u001b[2K\u001b[1G\u001b[A\u001b[2K\u001b[1G\u001b[A\u001b[2K\u001b[1Gpulling manifest \n",
            "pulling b559938ab7a0... 100% ▕▏ 7.1 GB                         \n",
            "pulling f023d1ce0e55... 100% ▕▏  688 B                         \n",
            "pulling 43070e2d4e53... 100% ▕▏  11 KB                         \n",
            "pulling ed11eda7790d... 100% ▕▏   30 B                         \n",
            "pulling 65d37de20e59... 100% ▕▏  486 B                         \n",
            "verifying sha256 digest ⠙ \u001b[?25h\u001b[?25l\u001b[2K\u001b[1G\u001b[A\u001b[2K\u001b[1G\u001b[A\u001b[2K\u001b[1G\u001b[A\u001b[2K\u001b[1G\u001b[A\u001b[2K\u001b[1G\u001b[A\u001b[2K\u001b[1G\u001b[A\u001b[2K\u001b[1Gpulling manifest \n",
            "pulling b559938ab7a0... 100% ▕▏ 7.1 GB                         \n",
            "pulling f023d1ce0e55... 100% ▕▏  688 B                         \n",
            "pulling 43070e2d4e53... 100% ▕▏  11 KB                         \n",
            "pulling ed11eda7790d... 100% ▕▏   30 B                         \n",
            "pulling 65d37de20e59... 100% ▕▏  486 B                         \n",
            "verifying sha256 digest ⠹ \u001b[?25h\u001b[?25l\u001b[2K\u001b[1G\u001b[A\u001b[2K\u001b[1G\u001b[A\u001b[2K\u001b[1G\u001b[A\u001b[2K\u001b[1G\u001b[A\u001b[2K\u001b[1G\u001b[A\u001b[2K\u001b[1G\u001b[A\u001b[2K\u001b[1Gpulling manifest \n",
            "pulling b559938ab7a0... 100% ▕▏ 7.1 GB                         \n",
            "pulling f023d1ce0e55... 100% ▕▏  688 B                         \n",
            "pulling 43070e2d4e53... 100% ▕▏  11 KB                         \n",
            "pulling ed11eda7790d... 100% ▕▏   30 B                         \n",
            "pulling 65d37de20e59... 100% ▕▏  486 B                         \n",
            "verifying sha256 digest ⠸ \u001b[?25h\u001b[?25l\u001b[2K\u001b[1G\u001b[A\u001b[2K\u001b[1G\u001b[A\u001b[2K\u001b[1G\u001b[A\u001b[2K\u001b[1G\u001b[A\u001b[2K\u001b[1G\u001b[A\u001b[2K\u001b[1G\u001b[A\u001b[2K\u001b[1Gpulling manifest \n",
            "pulling b559938ab7a0... 100% ▕▏ 7.1 GB                         \n",
            "pulling f023d1ce0e55... 100% ▕▏  688 B                         \n",
            "pulling 43070e2d4e53... 100% ▕▏  11 KB                         \n",
            "pulling ed11eda7790d... 100% ▕▏   30 B                         \n",
            "pulling 65d37de20e59... 100% ▕▏  486 B                         \n",
            "verifying sha256 digest ⠼ \u001b[?25h\u001b[?25l\u001b[2K\u001b[1G\u001b[A\u001b[2K\u001b[1G\u001b[A\u001b[2K\u001b[1G\u001b[A\u001b[2K\u001b[1G\u001b[A\u001b[2K\u001b[1G\u001b[A\u001b[2K\u001b[1G\u001b[A\u001b[2K\u001b[1Gpulling manifest \n",
            "pulling b559938ab7a0... 100% ▕▏ 7.1 GB                         \n",
            "pulling f023d1ce0e55... 100% ▕▏  688 B                         \n",
            "pulling 43070e2d4e53... 100% ▕▏  11 KB                         \n",
            "pulling ed11eda7790d... 100% ▕▏   30 B                         \n",
            "pulling 65d37de20e59... 100% ▕▏  486 B                         \n",
            "verifying sha256 digest ⠴ \u001b[?25h\u001b[?25l\u001b[2K\u001b[1G\u001b[A\u001b[2K\u001b[1G\u001b[A\u001b[2K\u001b[1G\u001b[A\u001b[2K\u001b[1G\u001b[A\u001b[2K\u001b[1G\u001b[A\u001b[2K\u001b[1G\u001b[A\u001b[2K\u001b[1Gpulling manifest \n",
            "pulling b559938ab7a0... 100% ▕▏ 7.1 GB                         \n",
            "pulling f023d1ce0e55... 100% ▕▏  688 B                         \n",
            "pulling 43070e2d4e53... 100% ▕▏  11 KB                         \n",
            "pulling ed11eda7790d... 100% ▕▏   30 B                         \n",
            "pulling 65d37de20e59... 100% ▕▏  486 B                         \n",
            "verifying sha256 digest ⠦ \u001b[?25h\u001b[?25l\u001b[2K\u001b[1G\u001b[A\u001b[2K\u001b[1G\u001b[A\u001b[2K\u001b[1G\u001b[A\u001b[2K\u001b[1G\u001b[A\u001b[2K\u001b[1G\u001b[A\u001b[2K\u001b[1G\u001b[A\u001b[2K\u001b[1Gpulling manifest \n",
            "pulling b559938ab7a0... 100% ▕▏ 7.1 GB                         \n",
            "pulling f023d1ce0e55... 100% ▕▏  688 B                         \n",
            "pulling 43070e2d4e53... 100% ▕▏  11 KB                         \n",
            "pulling ed11eda7790d... 100% ▕▏   30 B                         \n",
            "pulling 65d37de20e59... 100% ▕▏  486 B                         \n",
            "verifying sha256 digest ⠧ \u001b[?25h\u001b[?25l\u001b[2K\u001b[1G\u001b[A\u001b[2K\u001b[1G\u001b[A\u001b[2K\u001b[1G\u001b[A\u001b[2K\u001b[1G\u001b[A\u001b[2K\u001b[1G\u001b[A\u001b[2K\u001b[1G\u001b[A\u001b[2K\u001b[1Gpulling manifest \n",
            "pulling b559938ab7a0... 100% ▕▏ 7.1 GB                         \n",
            "pulling f023d1ce0e55... 100% ▕▏  688 B                         \n",
            "pulling 43070e2d4e53... 100% ▕▏  11 KB                         \n",
            "pulling ed11eda7790d... 100% ▕▏   30 B                         \n",
            "pulling 65d37de20e59... 100% ▕▏  486 B                         \n",
            "verifying sha256 digest ⠇ \u001b[?25h\u001b[?25l\u001b[2K\u001b[1G\u001b[A\u001b[2K\u001b[1G\u001b[A\u001b[2K\u001b[1G\u001b[A\u001b[2K\u001b[1G\u001b[A\u001b[2K\u001b[1G\u001b[A\u001b[2K\u001b[1G\u001b[A\u001b[2K\u001b[1Gpulling manifest \n",
            "pulling b559938ab7a0... 100% ▕▏ 7.1 GB                         \n",
            "pulling f023d1ce0e55... 100% ▕▏  688 B                         \n",
            "pulling 43070e2d4e53... 100% ▕▏  11 KB                         \n",
            "pulling ed11eda7790d... 100% ▕▏   30 B                         \n",
            "pulling 65d37de20e59... 100% ▕▏  486 B                         \n",
            "verifying sha256 digest ⠏ \u001b[?25h\u001b[?25l\u001b[2K\u001b[1G\u001b[A\u001b[2K\u001b[1G\u001b[A\u001b[2K\u001b[1G\u001b[A\u001b[2K\u001b[1G\u001b[A\u001b[2K\u001b[1G\u001b[A\u001b[2K\u001b[1G\u001b[A\u001b[2K\u001b[1Gpulling manifest \n",
            "pulling b559938ab7a0... 100% ▕▏ 7.1 GB                         \n",
            "pulling f023d1ce0e55... 100% ▕▏  688 B                         \n",
            "pulling 43070e2d4e53... 100% ▕▏  11 KB                         \n",
            "pulling ed11eda7790d... 100% ▕▏   30 B                         \n",
            "pulling 65d37de20e59... 100% ▕▏  486 B                         \n",
            "verifying sha256 digest ⠋ \u001b[?25h\u001b[?25l\u001b[2K\u001b[1G\u001b[A\u001b[2K\u001b[1G\u001b[A\u001b[2K\u001b[1G\u001b[A\u001b[2K\u001b[1G\u001b[A\u001b[2K\u001b[1G\u001b[A\u001b[2K\u001b[1G\u001b[A\u001b[2K\u001b[1Gpulling manifest \n",
            "pulling b559938ab7a0... 100% ▕▏ 7.1 GB                         \n",
            "pulling f023d1ce0e55... 100% ▕▏  688 B                         \n",
            "pulling 43070e2d4e53... 100% ▕▏  11 KB                         \n",
            "pulling ed11eda7790d... 100% ▕▏   30 B                         \n",
            "pulling 65d37de20e59... 100% ▕▏  486 B                         \n",
            "verifying sha256 digest ⠙ \u001b[?25h\u001b[?25l\u001b[2K\u001b[1G\u001b[A\u001b[2K\u001b[1G\u001b[A\u001b[2K\u001b[1G\u001b[A\u001b[2K\u001b[1G\u001b[A\u001b[2K\u001b[1G\u001b[A\u001b[2K\u001b[1G\u001b[A\u001b[2K\u001b[1Gpulling manifest \n",
            "pulling b559938ab7a0... 100% ▕▏ 7.1 GB                         \n",
            "pulling f023d1ce0e55... 100% ▕▏  688 B                         \n",
            "pulling 43070e2d4e53... 100% ▕▏  11 KB                         \n",
            "pulling ed11eda7790d... 100% ▕▏   30 B                         \n",
            "pulling 65d37de20e59... 100% ▕▏  486 B                         \n",
            "verifying sha256 digest ⠹ \u001b[?25h\u001b[?25l\u001b[2K\u001b[1G\u001b[A\u001b[2K\u001b[1G\u001b[A\u001b[2K\u001b[1G\u001b[A\u001b[2K\u001b[1G\u001b[A\u001b[2K\u001b[1G\u001b[A\u001b[2K\u001b[1G\u001b[A\u001b[2K\u001b[1Gpulling manifest \n",
            "pulling b559938ab7a0... 100% ▕▏ 7.1 GB                         \n",
            "pulling f023d1ce0e55... 100% ▕▏  688 B                         \n",
            "pulling 43070e2d4e53... 100% ▕▏  11 KB                         \n",
            "pulling ed11eda7790d... 100% ▕▏   30 B                         \n",
            "pulling 65d37de20e59... 100% ▕▏  486 B                         \n",
            "verifying sha256 digest ⠸ \u001b[?25h\u001b[?25l\u001b[2K\u001b[1G\u001b[A\u001b[2K\u001b[1G\u001b[A\u001b[2K\u001b[1G\u001b[A\u001b[2K\u001b[1G\u001b[A\u001b[2K\u001b[1G\u001b[A\u001b[2K\u001b[1G\u001b[A\u001b[2K\u001b[1Gpulling manifest \n",
            "pulling b559938ab7a0... 100% ▕▏ 7.1 GB                         \n",
            "pulling f023d1ce0e55... 100% ▕▏  688 B                         \n",
            "pulling 43070e2d4e53... 100% ▕▏  11 KB                         \n",
            "pulling ed11eda7790d... 100% ▕▏   30 B                         \n",
            "pulling 65d37de20e59... 100% ▕▏  486 B                         \n",
            "verifying sha256 digest ⠼ \u001b[?25h\u001b[?25l\u001b[2K\u001b[1G\u001b[A\u001b[2K\u001b[1G\u001b[A\u001b[2K\u001b[1G\u001b[A\u001b[2K\u001b[1G\u001b[A\u001b[2K\u001b[1G\u001b[A\u001b[2K\u001b[1G\u001b[A\u001b[2K\u001b[1Gpulling manifest \n",
            "pulling b559938ab7a0... 100% ▕▏ 7.1 GB                         \n",
            "pulling f023d1ce0e55... 100% ▕▏  688 B                         \n",
            "pulling 43070e2d4e53... 100% ▕▏  11 KB                         \n",
            "pulling ed11eda7790d... 100% ▕▏   30 B                         \n",
            "pulling 65d37de20e59... 100% ▕▏  486 B                         \n",
            "verifying sha256 digest ⠴ \u001b[?25h\u001b[?25l\u001b[2K\u001b[1G\u001b[A\u001b[2K\u001b[1G\u001b[A\u001b[2K\u001b[1G\u001b[A\u001b[2K\u001b[1G\u001b[A\u001b[2K\u001b[1G\u001b[A\u001b[2K\u001b[1G\u001b[A\u001b[2K\u001b[1Gpulling manifest \n",
            "pulling b559938ab7a0... 100% ▕▏ 7.1 GB                         \n",
            "pulling f023d1ce0e55... 100% ▕▏  688 B                         \n",
            "pulling 43070e2d4e53... 100% ▕▏  11 KB                         \n",
            "pulling ed11eda7790d... 100% ▕▏   30 B                         \n",
            "pulling 65d37de20e59... 100% ▕▏  486 B                         \n",
            "verifying sha256 digest ⠦ \u001b[?25h\u001b[?25l\u001b[2K\u001b[1G\u001b[A\u001b[2K\u001b[1G\u001b[A\u001b[2K\u001b[1G\u001b[A\u001b[2K\u001b[1G\u001b[A\u001b[2K\u001b[1G\u001b[A\u001b[2K\u001b[1G\u001b[A\u001b[2K\u001b[1Gpulling manifest \n",
            "pulling b559938ab7a0... 100% ▕▏ 7.1 GB                         \n",
            "pulling f023d1ce0e55... 100% ▕▏  688 B                         \n",
            "pulling 43070e2d4e53... 100% ▕▏  11 KB                         \n",
            "pulling ed11eda7790d... 100% ▕▏   30 B                         \n",
            "pulling 65d37de20e59... 100% ▕▏  486 B                         \n",
            "verifying sha256 digest ⠧ \u001b[?25h\u001b[?25l\u001b[2K\u001b[1G\u001b[A\u001b[2K\u001b[1G\u001b[A\u001b[2K\u001b[1G\u001b[A\u001b[2K\u001b[1G\u001b[A\u001b[2K\u001b[1G\u001b[A\u001b[2K\u001b[1G\u001b[A\u001b[2K\u001b[1Gpulling manifest \n",
            "pulling b559938ab7a0... 100% ▕▏ 7.1 GB                         \n",
            "pulling f023d1ce0e55... 100% ▕▏  688 B                         \n",
            "pulling 43070e2d4e53... 100% ▕▏  11 KB                         \n",
            "pulling ed11eda7790d... 100% ▕▏   30 B                         \n",
            "pulling 65d37de20e59... 100% ▕▏  486 B                         \n",
            "verifying sha256 digest ⠇ \u001b[?25h\u001b[?25l\u001b[2K\u001b[1G\u001b[A\u001b[2K\u001b[1G\u001b[A\u001b[2K\u001b[1G\u001b[A\u001b[2K\u001b[1G\u001b[A\u001b[2K\u001b[1G\u001b[A\u001b[2K\u001b[1G\u001b[A\u001b[2K\u001b[1Gpulling manifest \n",
            "pulling b559938ab7a0... 100% ▕▏ 7.1 GB                         \n",
            "pulling f023d1ce0e55... 100% ▕▏  688 B                         \n",
            "pulling 43070e2d4e53... 100% ▕▏  11 KB                         \n",
            "pulling ed11eda7790d... 100% ▕▏   30 B                         \n",
            "pulling 65d37de20e59... 100% ▕▏  486 B                         \n",
            "verifying sha256 digest ⠏ \u001b[?25h\u001b[?25l\u001b[2K\u001b[1G\u001b[A\u001b[2K\u001b[1G\u001b[A\u001b[2K\u001b[1G\u001b[A\u001b[2K\u001b[1G\u001b[A\u001b[2K\u001b[1G\u001b[A\u001b[2K\u001b[1G\u001b[A\u001b[2K\u001b[1Gpulling manifest \n",
            "pulling b559938ab7a0... 100% ▕▏ 7.1 GB                         \n",
            "pulling f023d1ce0e55... 100% ▕▏  688 B                         \n",
            "pulling 43070e2d4e53... 100% ▕▏  11 KB                         \n",
            "pulling ed11eda7790d... 100% ▕▏   30 B                         \n",
            "pulling 65d37de20e59... 100% ▕▏  486 B                         \n",
            "verifying sha256 digest ⠋ \u001b[?25h\u001b[?25l\u001b[2K\u001b[1G\u001b[A\u001b[2K\u001b[1G\u001b[A\u001b[2K\u001b[1G\u001b[A\u001b[2K\u001b[1G\u001b[A\u001b[2K\u001b[1G\u001b[A\u001b[2K\u001b[1G\u001b[A\u001b[2K\u001b[1Gpulling manifest \n",
            "pulling b559938ab7a0... 100% ▕▏ 7.1 GB                         \n",
            "pulling f023d1ce0e55... 100% ▕▏  688 B                         \n",
            "pulling 43070e2d4e53... 100% ▕▏  11 KB                         \n",
            "pulling ed11eda7790d... 100% ▕▏   30 B                         \n",
            "pulling 65d37de20e59... 100% ▕▏  486 B                         \n",
            "verifying sha256 digest ⠙ \u001b[?25h\u001b[?25l\u001b[2K\u001b[1G\u001b[A\u001b[2K\u001b[1G\u001b[A\u001b[2K\u001b[1G\u001b[A\u001b[2K\u001b[1G\u001b[A\u001b[2K\u001b[1G\u001b[A\u001b[2K\u001b[1G\u001b[A\u001b[2K\u001b[1Gpulling manifest \n",
            "pulling b559938ab7a0... 100% ▕▏ 7.1 GB                         \n",
            "pulling f023d1ce0e55... 100% ▕▏  688 B                         \n",
            "pulling 43070e2d4e53... 100% ▕▏  11 KB                         \n",
            "pulling ed11eda7790d... 100% ▕▏   30 B                         \n",
            "pulling 65d37de20e59... 100% ▕▏  486 B                         \n",
            "verifying sha256 digest ⠹ \u001b[?25h\u001b[?25l\u001b[2K\u001b[1G\u001b[A\u001b[2K\u001b[1G\u001b[A\u001b[2K\u001b[1G\u001b[A\u001b[2K\u001b[1G\u001b[A\u001b[2K\u001b[1G\u001b[A\u001b[2K\u001b[1G\u001b[A\u001b[2K\u001b[1Gpulling manifest \n",
            "pulling b559938ab7a0... 100% ▕▏ 7.1 GB                         \n",
            "pulling f023d1ce0e55... 100% ▕▏  688 B                         \n",
            "pulling 43070e2d4e53... 100% ▕▏  11 KB                         \n",
            "pulling ed11eda7790d... 100% ▕▏   30 B                         \n",
            "pulling 65d37de20e59... 100% ▕▏  486 B                         \n",
            "verifying sha256 digest ⠸ \u001b[?25h\u001b[?25l\u001b[2K\u001b[1G\u001b[A\u001b[2K\u001b[1G\u001b[A\u001b[2K\u001b[1G\u001b[A\u001b[2K\u001b[1G\u001b[A\u001b[2K\u001b[1G\u001b[A\u001b[2K\u001b[1G\u001b[A\u001b[2K\u001b[1Gpulling manifest \n",
            "pulling b559938ab7a0... 100% ▕▏ 7.1 GB                         \n",
            "pulling f023d1ce0e55... 100% ▕▏  688 B                         \n",
            "pulling 43070e2d4e53... 100% ▕▏  11 KB                         \n",
            "pulling ed11eda7790d... 100% ▕▏   30 B                         \n",
            "pulling 65d37de20e59... 100% ▕▏  486 B                         \n",
            "verifying sha256 digest ⠼ \u001b[?25h\u001b[?25l\u001b[2K\u001b[1G\u001b[A\u001b[2K\u001b[1G\u001b[A\u001b[2K\u001b[1G\u001b[A\u001b[2K\u001b[1G\u001b[A\u001b[2K\u001b[1G\u001b[A\u001b[2K\u001b[1G\u001b[A\u001b[2K\u001b[1Gpulling manifest \n",
            "pulling b559938ab7a0... 100% ▕▏ 7.1 GB                         \n",
            "pulling f023d1ce0e55... 100% ▕▏  688 B                         \n",
            "pulling 43070e2d4e53... 100% ▕▏  11 KB                         \n",
            "pulling ed11eda7790d... 100% ▕▏   30 B                         \n",
            "pulling 65d37de20e59... 100% ▕▏  486 B                         \n",
            "verifying sha256 digest ⠴ \u001b[?25h\u001b[?25l\u001b[2K\u001b[1G\u001b[A\u001b[2K\u001b[1G\u001b[A\u001b[2K\u001b[1G\u001b[A\u001b[2K\u001b[1G\u001b[A\u001b[2K\u001b[1G\u001b[A\u001b[2K\u001b[1G\u001b[A\u001b[2K\u001b[1Gpulling manifest \n",
            "pulling b559938ab7a0... 100% ▕▏ 7.1 GB                         \n",
            "pulling f023d1ce0e55... 100% ▕▏  688 B                         \n",
            "pulling 43070e2d4e53... 100% ▕▏  11 KB                         \n",
            "pulling ed11eda7790d... 100% ▕▏   30 B                         \n",
            "pulling 65d37de20e59... 100% ▕▏  486 B                         \n",
            "verifying sha256 digest ⠦ \u001b[?25h\u001b[?25l\u001b[2K\u001b[1G\u001b[A\u001b[2K\u001b[1G\u001b[A\u001b[2K\u001b[1G\u001b[A\u001b[2K\u001b[1G\u001b[A\u001b[2K\u001b[1G\u001b[A\u001b[2K\u001b[1G\u001b[A\u001b[2K\u001b[1Gpulling manifest \n",
            "pulling b559938ab7a0... 100% ▕▏ 7.1 GB                         \n",
            "pulling f023d1ce0e55... 100% ▕▏  688 B                         \n",
            "pulling 43070e2d4e53... 100% ▕▏  11 KB                         \n",
            "pulling ed11eda7790d... 100% ▕▏   30 B                         \n",
            "pulling 65d37de20e59... 100% ▕▏  486 B                         \n",
            "verifying sha256 digest ⠧ \u001b[?25h\u001b[?25l\u001b[2K\u001b[1G\u001b[A\u001b[2K\u001b[1G\u001b[A\u001b[2K\u001b[1G\u001b[A\u001b[2K\u001b[1G\u001b[A\u001b[2K\u001b[1G\u001b[A\u001b[2K\u001b[1G\u001b[A\u001b[2K\u001b[1Gpulling manifest \n",
            "pulling b559938ab7a0... 100% ▕▏ 7.1 GB                         \n",
            "pulling f023d1ce0e55... 100% ▕▏  688 B                         \n",
            "pulling 43070e2d4e53... 100% ▕▏  11 KB                         \n",
            "pulling ed11eda7790d... 100% ▕▏   30 B                         \n",
            "pulling 65d37de20e59... 100% ▕▏  486 B                         \n",
            "verifying sha256 digest ⠇ \u001b[?25h\u001b[?25l\u001b[2K\u001b[1G\u001b[A\u001b[2K\u001b[1G\u001b[A\u001b[2K\u001b[1G\u001b[A\u001b[2K\u001b[1G\u001b[A\u001b[2K\u001b[1G\u001b[A\u001b[2K\u001b[1G\u001b[A\u001b[2K\u001b[1Gpulling manifest \n",
            "pulling b559938ab7a0... 100% ▕▏ 7.1 GB                         \n",
            "pulling f023d1ce0e55... 100% ▕▏  688 B                         \n",
            "pulling 43070e2d4e53... 100% ▕▏  11 KB                         \n",
            "pulling ed11eda7790d... 100% ▕▏   30 B                         \n",
            "pulling 65d37de20e59... 100% ▕▏  486 B                         \n",
            "verifying sha256 digest ⠏ \u001b[?25h\u001b[?25l\u001b[2K\u001b[1G\u001b[A\u001b[2K\u001b[1G\u001b[A\u001b[2K\u001b[1G\u001b[A\u001b[2K\u001b[1G\u001b[A\u001b[2K\u001b[1G\u001b[A\u001b[2K\u001b[1G\u001b[A\u001b[2K\u001b[1Gpulling manifest \n",
            "pulling b559938ab7a0... 100% ▕▏ 7.1 GB                         \n",
            "pulling f023d1ce0e55... 100% ▕▏  688 B                         \n",
            "pulling 43070e2d4e53... 100% ▕▏  11 KB                         \n",
            "pulling ed11eda7790d... 100% ▕▏   30 B                         \n",
            "pulling 65d37de20e59... 100% ▕▏  486 B                         \n",
            "verifying sha256 digest ⠋ \u001b[?25h\u001b[?25l\u001b[2K\u001b[1G\u001b[A\u001b[2K\u001b[1G\u001b[A\u001b[2K\u001b[1G\u001b[A\u001b[2K\u001b[1G\u001b[A\u001b[2K\u001b[1G\u001b[A\u001b[2K\u001b[1G\u001b[A\u001b[2K\u001b[1Gpulling manifest \n",
            "pulling b559938ab7a0... 100% ▕▏ 7.1 GB                         \n",
            "pulling f023d1ce0e55... 100% ▕▏  688 B                         \n",
            "pulling 43070e2d4e53... 100% ▕▏  11 KB                         \n",
            "pulling ed11eda7790d... 100% ▕▏   30 B                         \n",
            "pulling 65d37de20e59... 100% ▕▏  486 B                         \n",
            "verifying sha256 digest ⠙ \u001b[?25h\u001b[?25l\u001b[2K\u001b[1G\u001b[A\u001b[2K\u001b[1G\u001b[A\u001b[2K\u001b[1G\u001b[A\u001b[2K\u001b[1G\u001b[A\u001b[2K\u001b[1G\u001b[A\u001b[2K\u001b[1G\u001b[A\u001b[2K\u001b[1Gpulling manifest \n",
            "pulling b559938ab7a0... 100% ▕▏ 7.1 GB                         \n",
            "pulling f023d1ce0e55... 100% ▕▏  688 B                         \n",
            "pulling 43070e2d4e53... 100% ▕▏  11 KB                         \n",
            "pulling ed11eda7790d... 100% ▕▏   30 B                         \n",
            "pulling 65d37de20e59... 100% ▕▏  486 B                         \n",
            "verifying sha256 digest ⠹ \u001b[?25h\u001b[?25l\u001b[2K\u001b[1G\u001b[A\u001b[2K\u001b[1G\u001b[A\u001b[2K\u001b[1G\u001b[A\u001b[2K\u001b[1G\u001b[A\u001b[2K\u001b[1G\u001b[A\u001b[2K\u001b[1G\u001b[A\u001b[2K\u001b[1Gpulling manifest \n",
            "pulling b559938ab7a0... 100% ▕▏ 7.1 GB                         \n",
            "pulling f023d1ce0e55... 100% ▕▏  688 B                         \n",
            "pulling 43070e2d4e53... 100% ▕▏  11 KB                         \n",
            "pulling ed11eda7790d... 100% ▕▏   30 B                         \n",
            "pulling 65d37de20e59... 100% ▕▏  486 B                         \n",
            "verifying sha256 digest ⠸ \u001b[?25h\u001b[?25l\u001b[2K\u001b[1G\u001b[A\u001b[2K\u001b[1G\u001b[A\u001b[2K\u001b[1G\u001b[A\u001b[2K\u001b[1G\u001b[A\u001b[2K\u001b[1G\u001b[A\u001b[2K\u001b[1G\u001b[A\u001b[2K\u001b[1Gpulling manifest \n",
            "pulling b559938ab7a0... 100% ▕▏ 7.1 GB                         \n",
            "pulling f023d1ce0e55... 100% ▕▏  688 B                         \n",
            "pulling 43070e2d4e53... 100% ▕▏  11 KB                         \n",
            "pulling ed11eda7790d... 100% ▕▏   30 B                         \n",
            "pulling 65d37de20e59... 100% ▕▏  486 B                         \n",
            "verifying sha256 digest ⠼ \u001b[?25h\u001b[?25l\u001b[2K\u001b[1G\u001b[A\u001b[2K\u001b[1G\u001b[A\u001b[2K\u001b[1G\u001b[A\u001b[2K\u001b[1G\u001b[A\u001b[2K\u001b[1G\u001b[A\u001b[2K\u001b[1G\u001b[A\u001b[2K\u001b[1Gpulling manifest \n",
            "pulling b559938ab7a0... 100% ▕▏ 7.1 GB                         \n",
            "pulling f023d1ce0e55... 100% ▕▏  688 B                         \n",
            "pulling 43070e2d4e53... 100% ▕▏  11 KB                         \n",
            "pulling ed11eda7790d... 100% ▕▏   30 B                         \n",
            "pulling 65d37de20e59... 100% ▕▏  486 B                         \n",
            "verifying sha256 digest ⠴ \u001b[?25h\u001b[?25l\u001b[2K\u001b[1G\u001b[A\u001b[2K\u001b[1G\u001b[A\u001b[2K\u001b[1G\u001b[A\u001b[2K\u001b[1G\u001b[A\u001b[2K\u001b[1G\u001b[A\u001b[2K\u001b[1G\u001b[A\u001b[2K\u001b[1Gpulling manifest \n",
            "pulling b559938ab7a0... 100% ▕▏ 7.1 GB                         \n",
            "pulling f023d1ce0e55... 100% ▕▏  688 B                         \n",
            "pulling 43070e2d4e53... 100% ▕▏  11 KB                         \n",
            "pulling ed11eda7790d... 100% ▕▏   30 B                         \n",
            "pulling 65d37de20e59... 100% ▕▏  486 B                         \n",
            "verifying sha256 digest ⠦ \u001b[?25h\u001b[?25l\u001b[2K\u001b[1G\u001b[A\u001b[2K\u001b[1G\u001b[A\u001b[2K\u001b[1G\u001b[A\u001b[2K\u001b[1G\u001b[A\u001b[2K\u001b[1G\u001b[A\u001b[2K\u001b[1G\u001b[A\u001b[2K\u001b[1Gpulling manifest \n",
            "pulling b559938ab7a0... 100% ▕▏ 7.1 GB                         \n",
            "pulling f023d1ce0e55... 100% ▕▏  688 B                         \n",
            "pulling 43070e2d4e53... 100% ▕▏  11 KB                         \n",
            "pulling ed11eda7790d... 100% ▕▏   30 B                         \n",
            "pulling 65d37de20e59... 100% ▕▏  486 B                         \n",
            "verifying sha256 digest ⠧ \u001b[?25h\u001b[?25l\u001b[2K\u001b[1G\u001b[A\u001b[2K\u001b[1G\u001b[A\u001b[2K\u001b[1G\u001b[A\u001b[2K\u001b[1G\u001b[A\u001b[2K\u001b[1G\u001b[A\u001b[2K\u001b[1G\u001b[A\u001b[2K\u001b[1Gpulling manifest \n",
            "pulling b559938ab7a0... 100% ▕▏ 7.1 GB                         \n",
            "pulling f023d1ce0e55... 100% ▕▏  688 B                         \n",
            "pulling 43070e2d4e53... 100% ▕▏  11 KB                         \n",
            "pulling ed11eda7790d... 100% ▕▏   30 B                         \n",
            "pulling 65d37de20e59... 100% ▕▏  486 B                         \n",
            "verifying sha256 digest ⠇ \u001b[?25h\u001b[?25l\u001b[2K\u001b[1G\u001b[A\u001b[2K\u001b[1G\u001b[A\u001b[2K\u001b[1G\u001b[A\u001b[2K\u001b[1G\u001b[A\u001b[2K\u001b[1G\u001b[A\u001b[2K\u001b[1G\u001b[A\u001b[2K\u001b[1Gpulling manifest \n",
            "pulling b559938ab7a0... 100% ▕▏ 7.1 GB                         \n",
            "pulling f023d1ce0e55... 100% ▕▏  688 B                         \n",
            "pulling 43070e2d4e53... 100% ▕▏  11 KB                         \n",
            "pulling ed11eda7790d... 100% ▕▏   30 B                         \n",
            "pulling 65d37de20e59... 100% ▕▏  486 B                         \n",
            "verifying sha256 digest ⠏ \u001b[?25h\u001b[?25l\u001b[2K\u001b[1G\u001b[A\u001b[2K\u001b[1G\u001b[A\u001b[2K\u001b[1G\u001b[A\u001b[2K\u001b[1G\u001b[A\u001b[2K\u001b[1G\u001b[A\u001b[2K\u001b[1G\u001b[A\u001b[2K\u001b[1Gpulling manifest \n",
            "pulling b559938ab7a0... 100% ▕▏ 7.1 GB                         \n",
            "pulling f023d1ce0e55... 100% ▕▏  688 B                         \n",
            "pulling 43070e2d4e53... 100% ▕▏  11 KB                         \n",
            "pulling ed11eda7790d... 100% ▕▏   30 B                         \n",
            "pulling 65d37de20e59... 100% ▕▏  486 B                         \n",
            "verifying sha256 digest ⠋ \u001b[?25h\u001b[?25l\u001b[2K\u001b[1G\u001b[A\u001b[2K\u001b[1G\u001b[A\u001b[2K\u001b[1G\u001b[A\u001b[2K\u001b[1G\u001b[A\u001b[2K\u001b[1G\u001b[A\u001b[2K\u001b[1G\u001b[A\u001b[2K\u001b[1Gpulling manifest \n",
            "pulling b559938ab7a0... 100% ▕▏ 7.1 GB                         \n",
            "pulling f023d1ce0e55... 100% ▕▏  688 B                         \n",
            "pulling 43070e2d4e53... 100% ▕▏  11 KB                         \n",
            "pulling ed11eda7790d... 100% ▕▏   30 B                         \n",
            "pulling 65d37de20e59... 100% ▕▏  486 B                         \n",
            "verifying sha256 digest ⠙ \u001b[?25h\u001b[?25l\u001b[2K\u001b[1G\u001b[A\u001b[2K\u001b[1G\u001b[A\u001b[2K\u001b[1G\u001b[A\u001b[2K\u001b[1G\u001b[A\u001b[2K\u001b[1G\u001b[A\u001b[2K\u001b[1G\u001b[A\u001b[2K\u001b[1Gpulling manifest \n",
            "pulling b559938ab7a0... 100% ▕▏ 7.1 GB                         \n",
            "pulling f023d1ce0e55... 100% ▕▏  688 B                         \n",
            "pulling 43070e2d4e53... 100% ▕▏  11 KB                         \n",
            "pulling ed11eda7790d... 100% ▕▏   30 B                         \n",
            "pulling 65d37de20e59... 100% ▕▏  486 B                         \n",
            "verifying sha256 digest ⠹ \u001b[?25h\u001b[?25l\u001b[2K\u001b[1G\u001b[A\u001b[2K\u001b[1G\u001b[A\u001b[2K\u001b[1G\u001b[A\u001b[2K\u001b[1G\u001b[A\u001b[2K\u001b[1G\u001b[A\u001b[2K\u001b[1G\u001b[A\u001b[2K\u001b[1Gpulling manifest \n",
            "pulling b559938ab7a0... 100% ▕▏ 7.1 GB                         \n",
            "pulling f023d1ce0e55... 100% ▕▏  688 B                         \n",
            "pulling 43070e2d4e53... 100% ▕▏  11 KB                         \n",
            "pulling ed11eda7790d... 100% ▕▏   30 B                         \n",
            "pulling 65d37de20e59... 100% ▕▏  486 B                         \n",
            "verifying sha256 digest ⠸ \u001b[?25h\u001b[?25l\u001b[2K\u001b[1G\u001b[A\u001b[2K\u001b[1G\u001b[A\u001b[2K\u001b[1G\u001b[A\u001b[2K\u001b[1G\u001b[A\u001b[2K\u001b[1G\u001b[A\u001b[2K\u001b[1G\u001b[A\u001b[2K\u001b[1Gpulling manifest \n",
            "pulling b559938ab7a0... 100% ▕▏ 7.1 GB                         \n",
            "pulling f023d1ce0e55... 100% ▕▏  688 B                         \n",
            "pulling 43070e2d4e53... 100% ▕▏  11 KB                         \n",
            "pulling ed11eda7790d... 100% ▕▏   30 B                         \n",
            "pulling 65d37de20e59... 100% ▕▏  486 B                         \n",
            "verifying sha256 digest ⠼ \u001b[?25h\u001b[?25l\u001b[2K\u001b[1G\u001b[A\u001b[2K\u001b[1G\u001b[A\u001b[2K\u001b[1G\u001b[A\u001b[2K\u001b[1G\u001b[A\u001b[2K\u001b[1G\u001b[A\u001b[2K\u001b[1G\u001b[A\u001b[2K\u001b[1Gpulling manifest \n",
            "pulling b559938ab7a0... 100% ▕▏ 7.1 GB                         \n",
            "pulling f023d1ce0e55... 100% ▕▏  688 B                         \n",
            "pulling 43070e2d4e53... 100% ▕▏  11 KB                         \n",
            "pulling ed11eda7790d... 100% ▕▏   30 B                         \n",
            "pulling 65d37de20e59... 100% ▕▏  486 B                         \n",
            "verifying sha256 digest ⠴ \u001b[?25h\u001b[?25l\u001b[2K\u001b[1G\u001b[A\u001b[2K\u001b[1G\u001b[A\u001b[2K\u001b[1G\u001b[A\u001b[2K\u001b[1G\u001b[A\u001b[2K\u001b[1G\u001b[A\u001b[2K\u001b[1G\u001b[A\u001b[2K\u001b[1Gpulling manifest \n",
            "pulling b559938ab7a0... 100% ▕▏ 7.1 GB                         \n",
            "pulling f023d1ce0e55... 100% ▕▏  688 B                         \n",
            "pulling 43070e2d4e53... 100% ▕▏  11 KB                         \n",
            "pulling ed11eda7790d... 100% ▕▏   30 B                         \n",
            "pulling 65d37de20e59... 100% ▕▏  486 B                         \n",
            "verifying sha256 digest ⠦ \u001b[?25h\u001b[?25l\u001b[2K\u001b[1G\u001b[A\u001b[2K\u001b[1G\u001b[A\u001b[2K\u001b[1G\u001b[A\u001b[2K\u001b[1G\u001b[A\u001b[2K\u001b[1G\u001b[A\u001b[2K\u001b[1G\u001b[A\u001b[2K\u001b[1Gpulling manifest \n",
            "pulling b559938ab7a0... 100% ▕▏ 7.1 GB                         \n",
            "pulling f023d1ce0e55... 100% ▕▏  688 B                         \n",
            "pulling 43070e2d4e53... 100% ▕▏  11 KB                         \n",
            "pulling ed11eda7790d... 100% ▕▏   30 B                         \n",
            "pulling 65d37de20e59... 100% ▕▏  486 B                         \n",
            "verifying sha256 digest ⠧ \u001b[?25h\u001b[?25l\u001b[2K\u001b[1G\u001b[A\u001b[2K\u001b[1G\u001b[A\u001b[2K\u001b[1G\u001b[A\u001b[2K\u001b[1G\u001b[A\u001b[2K\u001b[1G\u001b[A\u001b[2K\u001b[1G\u001b[A\u001b[2K\u001b[1Gpulling manifest \n",
            "pulling b559938ab7a0... 100% ▕▏ 7.1 GB                         \n",
            "pulling f023d1ce0e55... 100% ▕▏  688 B                         \n",
            "pulling 43070e2d4e53... 100% ▕▏  11 KB                         \n",
            "pulling ed11eda7790d... 100% ▕▏   30 B                         \n",
            "pulling 65d37de20e59... 100% ▕▏  486 B                         \n",
            "verifying sha256 digest ⠇ \u001b[?25h\u001b[?25l\u001b[2K\u001b[1G\u001b[A\u001b[2K\u001b[1G\u001b[A\u001b[2K\u001b[1G\u001b[A\u001b[2K\u001b[1G\u001b[A\u001b[2K\u001b[1G\u001b[A\u001b[2K\u001b[1G\u001b[A\u001b[2K\u001b[1Gpulling manifest \n",
            "pulling b559938ab7a0... 100% ▕▏ 7.1 GB                         \n",
            "pulling f023d1ce0e55... 100% ▕▏  688 B                         \n",
            "pulling 43070e2d4e53... 100% ▕▏  11 KB                         \n",
            "pulling ed11eda7790d... 100% ▕▏   30 B                         \n",
            "pulling 65d37de20e59... 100% ▕▏  486 B                         \n",
            "verifying sha256 digest ⠏ \u001b[?25h\u001b[?25l\u001b[2K\u001b[1G\u001b[A\u001b[2K\u001b[1G\u001b[A\u001b[2K\u001b[1G\u001b[A\u001b[2K\u001b[1G\u001b[A\u001b[2K\u001b[1G\u001b[A\u001b[2K\u001b[1G\u001b[A\u001b[2K\u001b[1Gpulling manifest \n",
            "pulling b559938ab7a0... 100% ▕▏ 7.1 GB                         \n",
            "pulling f023d1ce0e55... 100% ▕▏  688 B                         \n",
            "pulling 43070e2d4e53... 100% ▕▏  11 KB                         \n",
            "pulling ed11eda7790d... 100% ▕▏   30 B                         \n",
            "pulling 65d37de20e59... 100% ▕▏  486 B                         \n",
            "verifying sha256 digest ⠋ \u001b[?25h\u001b[?25l\u001b[2K\u001b[1G\u001b[A\u001b[2K\u001b[1G\u001b[A\u001b[2K\u001b[1G\u001b[A\u001b[2K\u001b[1G\u001b[A\u001b[2K\u001b[1G\u001b[A\u001b[2K\u001b[1G\u001b[A\u001b[2K\u001b[1Gpulling manifest \n",
            "pulling b559938ab7a0... 100% ▕▏ 7.1 GB                         \n",
            "pulling f023d1ce0e55... 100% ▕▏  688 B                         \n",
            "pulling 43070e2d4e53... 100% ▕▏  11 KB                         \n",
            "pulling ed11eda7790d... 100% ▕▏   30 B                         \n",
            "pulling 65d37de20e59... 100% ▕▏  486 B                         \n",
            "verifying sha256 digest ⠙ \u001b[?25h\u001b[?25l\u001b[2K\u001b[1G\u001b[A\u001b[2K\u001b[1G\u001b[A\u001b[2K\u001b[1G\u001b[A\u001b[2K\u001b[1G\u001b[A\u001b[2K\u001b[1G\u001b[A\u001b[2K\u001b[1G\u001b[A\u001b[2K\u001b[1Gpulling manifest \n",
            "pulling b559938ab7a0... 100% ▕▏ 7.1 GB                         \n",
            "pulling f023d1ce0e55... 100% ▕▏  688 B                         \n",
            "pulling 43070e2d4e53... 100% ▕▏  11 KB                         \n",
            "pulling ed11eda7790d... 100% ▕▏   30 B                         \n",
            "pulling 65d37de20e59... 100% ▕▏  486 B                         \n",
            "verifying sha256 digest ⠹ \u001b[?25h\u001b[?25l\u001b[2K\u001b[1G\u001b[A\u001b[2K\u001b[1G\u001b[A\u001b[2K\u001b[1G\u001b[A\u001b[2K\u001b[1G\u001b[A\u001b[2K\u001b[1G\u001b[A\u001b[2K\u001b[1G\u001b[A\u001b[2K\u001b[1Gpulling manifest \n",
            "pulling b559938ab7a0... 100% ▕▏ 7.1 GB                         \n",
            "pulling f023d1ce0e55... 100% ▕▏  688 B                         \n",
            "pulling 43070e2d4e53... 100% ▕▏  11 KB                         \n",
            "pulling ed11eda7790d... 100% ▕▏   30 B                         \n",
            "pulling 65d37de20e59... 100% ▕▏  486 B                         \n",
            "verifying sha256 digest ⠸ \u001b[?25h\u001b[?25l\u001b[2K\u001b[1G\u001b[A\u001b[2K\u001b[1G\u001b[A\u001b[2K\u001b[1G\u001b[A\u001b[2K\u001b[1G\u001b[A\u001b[2K\u001b[1G\u001b[A\u001b[2K\u001b[1G\u001b[A\u001b[2K\u001b[1Gpulling manifest \n",
            "pulling b559938ab7a0... 100% ▕▏ 7.1 GB                         \n",
            "pulling f023d1ce0e55... 100% ▕▏  688 B                         \n",
            "pulling 43070e2d4e53... 100% ▕▏  11 KB                         \n",
            "pulling ed11eda7790d... 100% ▕▏   30 B                         \n",
            "pulling 65d37de20e59... 100% ▕▏  486 B                         \n",
            "verifying sha256 digest ⠼ \u001b[?25h\u001b[?25l\u001b[2K\u001b[1G\u001b[A\u001b[2K\u001b[1G\u001b[A\u001b[2K\u001b[1G\u001b[A\u001b[2K\u001b[1G\u001b[A\u001b[2K\u001b[1G\u001b[A\u001b[2K\u001b[1G\u001b[A\u001b[2K\u001b[1Gpulling manifest \n",
            "pulling b559938ab7a0... 100% ▕▏ 7.1 GB                         \n",
            "pulling f023d1ce0e55... 100% ▕▏  688 B                         \n",
            "pulling 43070e2d4e53... 100% ▕▏  11 KB                         \n",
            "pulling ed11eda7790d... 100% ▕▏   30 B                         \n",
            "pulling 65d37de20e59... 100% ▕▏  486 B                         \n",
            "verifying sha256 digest ⠴ \u001b[?25h\u001b[?25l\u001b[2K\u001b[1G\u001b[A\u001b[2K\u001b[1G\u001b[A\u001b[2K\u001b[1G\u001b[A\u001b[2K\u001b[1G\u001b[A\u001b[2K\u001b[1G\u001b[A\u001b[2K\u001b[1G\u001b[A\u001b[2K\u001b[1Gpulling manifest \n",
            "pulling b559938ab7a0... 100% ▕▏ 7.1 GB                         \n",
            "pulling f023d1ce0e55... 100% ▕▏  688 B                         \n",
            "pulling 43070e2d4e53... 100% ▕▏  11 KB                         \n",
            "pulling ed11eda7790d... 100% ▕▏   30 B                         \n",
            "pulling 65d37de20e59... 100% ▕▏  486 B                         \n",
            "verifying sha256 digest ⠦ \u001b[?25h\u001b[?25l\u001b[2K\u001b[1G\u001b[A\u001b[2K\u001b[1G\u001b[A\u001b[2K\u001b[1G\u001b[A\u001b[2K\u001b[1G\u001b[A\u001b[2K\u001b[1G\u001b[A\u001b[2K\u001b[1G\u001b[A\u001b[2K\u001b[1Gpulling manifest \n",
            "pulling b559938ab7a0... 100% ▕▏ 7.1 GB                         \n",
            "pulling f023d1ce0e55... 100% ▕▏  688 B                         \n",
            "pulling 43070e2d4e53... 100% ▕▏  11 KB                         \n",
            "pulling ed11eda7790d... 100% ▕▏   30 B                         \n",
            "pulling 65d37de20e59... 100% ▕▏  486 B                         \n",
            "verifying sha256 digest ⠧ \u001b[?25h\u001b[?25l\u001b[2K\u001b[1G\u001b[A\u001b[2K\u001b[1G\u001b[A\u001b[2K\u001b[1G\u001b[A\u001b[2K\u001b[1G\u001b[A\u001b[2K\u001b[1G\u001b[A\u001b[2K\u001b[1G\u001b[A\u001b[2K\u001b[1Gpulling manifest \n",
            "pulling b559938ab7a0... 100% ▕▏ 7.1 GB                         \n",
            "pulling f023d1ce0e55... 100% ▕▏  688 B                         \n",
            "pulling 43070e2d4e53... 100% ▕▏  11 KB                         \n",
            "pulling ed11eda7790d... 100% ▕▏   30 B                         \n",
            "pulling 65d37de20e59... 100% ▕▏  486 B                         \n",
            "verifying sha256 digest ⠇ \u001b[?25h\u001b[?25l\u001b[2K\u001b[1G\u001b[A\u001b[2K\u001b[1G\u001b[A\u001b[2K\u001b[1G\u001b[A\u001b[2K\u001b[1G\u001b[A\u001b[2K\u001b[1G\u001b[A\u001b[2K\u001b[1G\u001b[A\u001b[2K\u001b[1Gpulling manifest \n",
            "pulling b559938ab7a0... 100% ▕▏ 7.1 GB                         \n",
            "pulling f023d1ce0e55... 100% ▕▏  688 B                         \n",
            "pulling 43070e2d4e53... 100% ▕▏  11 KB                         \n",
            "pulling ed11eda7790d... 100% ▕▏   30 B                         \n",
            "pulling 65d37de20e59... 100% ▕▏  486 B                         \n",
            "verifying sha256 digest ⠏ \u001b[?25h\u001b[?25l\u001b[2K\u001b[1G\u001b[A\u001b[2K\u001b[1G\u001b[A\u001b[2K\u001b[1G\u001b[A\u001b[2K\u001b[1G\u001b[A\u001b[2K\u001b[1G\u001b[A\u001b[2K\u001b[1G\u001b[A\u001b[2K\u001b[1Gpulling manifest \n",
            "pulling b559938ab7a0... 100% ▕▏ 7.1 GB                         \n",
            "pulling f023d1ce0e55... 100% ▕▏  688 B                         \n",
            "pulling 43070e2d4e53... 100% ▕▏  11 KB                         \n",
            "pulling ed11eda7790d... 100% ▕▏   30 B                         \n",
            "pulling 65d37de20e59... 100% ▕▏  486 B                         \n",
            "verifying sha256 digest ⠋ \u001b[?25h\u001b[?25l\u001b[2K\u001b[1G\u001b[A\u001b[2K\u001b[1G\u001b[A\u001b[2K\u001b[1G\u001b[A\u001b[2K\u001b[1G\u001b[A\u001b[2K\u001b[1G\u001b[A\u001b[2K\u001b[1G\u001b[A\u001b[2K\u001b[1Gpulling manifest \n",
            "pulling b559938ab7a0... 100% ▕▏ 7.1 GB                         \n",
            "pulling f023d1ce0e55... 100% ▕▏  688 B                         \n",
            "pulling 43070e2d4e53... 100% ▕▏  11 KB                         \n",
            "pulling ed11eda7790d... 100% ▕▏   30 B                         \n",
            "pulling 65d37de20e59... 100% ▕▏  486 B                         \n",
            "verifying sha256 digest ⠙ \u001b[?25h\u001b[?25l\u001b[2K\u001b[1G\u001b[A\u001b[2K\u001b[1G\u001b[A\u001b[2K\u001b[1G\u001b[A\u001b[2K\u001b[1G\u001b[A\u001b[2K\u001b[1G\u001b[A\u001b[2K\u001b[1G\u001b[A\u001b[2K\u001b[1Gpulling manifest \n",
            "pulling b559938ab7a0... 100% ▕▏ 7.1 GB                         \n",
            "pulling f023d1ce0e55... 100% ▕▏  688 B                         \n",
            "pulling 43070e2d4e53... 100% ▕▏  11 KB                         \n",
            "pulling ed11eda7790d... 100% ▕▏   30 B                         \n",
            "pulling 65d37de20e59... 100% ▕▏  486 B                         \n",
            "verifying sha256 digest ⠹ \u001b[?25h\u001b[?25l\u001b[2K\u001b[1G\u001b[A\u001b[2K\u001b[1G\u001b[A\u001b[2K\u001b[1G\u001b[A\u001b[2K\u001b[1G\u001b[A\u001b[2K\u001b[1G\u001b[A\u001b[2K\u001b[1G\u001b[A\u001b[2K\u001b[1Gpulling manifest \n",
            "pulling b559938ab7a0... 100% ▕▏ 7.1 GB                         \n",
            "pulling f023d1ce0e55... 100% ▕▏  688 B                         \n",
            "pulling 43070e2d4e53... 100% ▕▏  11 KB                         \n",
            "pulling ed11eda7790d... 100% ▕▏   30 B                         \n",
            "pulling 65d37de20e59... 100% ▕▏  486 B                         \n",
            "verifying sha256 digest ⠸ \u001b[?25h\u001b[?25l\u001b[2K\u001b[1G\u001b[A\u001b[2K\u001b[1G\u001b[A\u001b[2K\u001b[1G\u001b[A\u001b[2K\u001b[1G\u001b[A\u001b[2K\u001b[1G\u001b[A\u001b[2K\u001b[1G\u001b[A\u001b[2K\u001b[1Gpulling manifest \n",
            "pulling b559938ab7a0... 100% ▕▏ 7.1 GB                         \n",
            "pulling f023d1ce0e55... 100% ▕▏  688 B                         \n",
            "pulling 43070e2d4e53... 100% ▕▏  11 KB                         \n",
            "pulling ed11eda7790d... 100% ▕▏   30 B                         \n",
            "pulling 65d37de20e59... 100% ▕▏  486 B                         \n",
            "verifying sha256 digest ⠼ \u001b[?25h\u001b[?25l\u001b[2K\u001b[1G\u001b[A\u001b[2K\u001b[1G\u001b[A\u001b[2K\u001b[1G\u001b[A\u001b[2K\u001b[1G\u001b[A\u001b[2K\u001b[1G\u001b[A\u001b[2K\u001b[1G\u001b[A\u001b[2K\u001b[1Gpulling manifest \n",
            "pulling b559938ab7a0... 100% ▕▏ 7.1 GB                         \n",
            "pulling f023d1ce0e55... 100% ▕▏  688 B                         \n",
            "pulling 43070e2d4e53... 100% ▕▏  11 KB                         \n",
            "pulling ed11eda7790d... 100% ▕▏   30 B                         \n",
            "pulling 65d37de20e59... 100% ▕▏  486 B                         \n",
            "verifying sha256 digest ⠴ \u001b[?25h\u001b[?25l\u001b[2K\u001b[1G\u001b[A\u001b[2K\u001b[1G\u001b[A\u001b[2K\u001b[1G\u001b[A\u001b[2K\u001b[1G\u001b[A\u001b[2K\u001b[1G\u001b[A\u001b[2K\u001b[1G\u001b[A\u001b[2K\u001b[1Gpulling manifest \n",
            "pulling b559938ab7a0... 100% ▕▏ 7.1 GB                         \n",
            "pulling f023d1ce0e55... 100% ▕▏  688 B                         \n",
            "pulling 43070e2d4e53... 100% ▕▏  11 KB                         \n",
            "pulling ed11eda7790d... 100% ▕▏   30 B                         \n",
            "pulling 65d37de20e59... 100% ▕▏  486 B                         \n",
            "verifying sha256 digest ⠦ \u001b[?25h\u001b[?25l\u001b[2K\u001b[1G\u001b[A\u001b[2K\u001b[1G\u001b[A\u001b[2K\u001b[1G\u001b[A\u001b[2K\u001b[1G\u001b[A\u001b[2K\u001b[1G\u001b[A\u001b[2K\u001b[1G\u001b[A\u001b[2K\u001b[1Gpulling manifest \n",
            "pulling b559938ab7a0... 100% ▕▏ 7.1 GB                         \n",
            "pulling f023d1ce0e55... 100% ▕▏  688 B                         \n",
            "pulling 43070e2d4e53... 100% ▕▏  11 KB                         \n",
            "pulling ed11eda7790d... 100% ▕▏   30 B                         \n",
            "pulling 65d37de20e59... 100% ▕▏  486 B                         \n",
            "verifying sha256 digest ⠧ \u001b[?25h\u001b[?25l\u001b[2K\u001b[1G\u001b[A\u001b[2K\u001b[1G\u001b[A\u001b[2K\u001b[1G\u001b[A\u001b[2K\u001b[1G\u001b[A\u001b[2K\u001b[1G\u001b[A\u001b[2K\u001b[1G\u001b[A\u001b[2K\u001b[1Gpulling manifest \n",
            "pulling b559938ab7a0... 100% ▕▏ 7.1 GB                         \n",
            "pulling f023d1ce0e55... 100% ▕▏  688 B                         \n",
            "pulling 43070e2d4e53... 100% ▕▏  11 KB                         \n",
            "pulling ed11eda7790d... 100% ▕▏   30 B                         \n",
            "pulling 65d37de20e59... 100% ▕▏  486 B                         \n",
            "verifying sha256 digest ⠇ \u001b[?25h\u001b[?25l\u001b[2K\u001b[1G\u001b[A\u001b[2K\u001b[1G\u001b[A\u001b[2K\u001b[1G\u001b[A\u001b[2K\u001b[1G\u001b[A\u001b[2K\u001b[1G\u001b[A\u001b[2K\u001b[1G\u001b[A\u001b[2K\u001b[1Gpulling manifest \n",
            "pulling b559938ab7a0... 100% ▕▏ 7.1 GB                         \n",
            "pulling f023d1ce0e55... 100% ▕▏  688 B                         \n",
            "pulling 43070e2d4e53... 100% ▕▏  11 KB                         \n",
            "pulling ed11eda7790d... 100% ▕▏   30 B                         \n",
            "pulling 65d37de20e59... 100% ▕▏  486 B                         \n",
            "verifying sha256 digest ⠏ \u001b[?25h\u001b[?25l\u001b[2K\u001b[1G\u001b[A\u001b[2K\u001b[1G\u001b[A\u001b[2K\u001b[1G\u001b[A\u001b[2K\u001b[1G\u001b[A\u001b[2K\u001b[1G\u001b[A\u001b[2K\u001b[1G\u001b[A\u001b[2K\u001b[1Gpulling manifest \n",
            "pulling b559938ab7a0... 100% ▕▏ 7.1 GB                         \n",
            "pulling f023d1ce0e55... 100% ▕▏  688 B                         \n",
            "pulling 43070e2d4e53... 100% ▕▏  11 KB                         \n",
            "pulling ed11eda7790d... 100% ▕▏   30 B                         \n",
            "pulling 65d37de20e59... 100% ▕▏  486 B                         \n",
            "verifying sha256 digest ⠋ \u001b[?25h\u001b[?25l\u001b[2K\u001b[1G\u001b[A\u001b[2K\u001b[1G\u001b[A\u001b[2K\u001b[1G\u001b[A\u001b[2K\u001b[1G\u001b[A\u001b[2K\u001b[1G\u001b[A\u001b[2K\u001b[1G\u001b[A\u001b[2K\u001b[1Gpulling manifest \n",
            "pulling b559938ab7a0... 100% ▕▏ 7.1 GB                         \n",
            "pulling f023d1ce0e55... 100% ▕▏  688 B                         \n",
            "pulling 43070e2d4e53... 100% ▕▏  11 KB                         \n",
            "pulling ed11eda7790d... 100% ▕▏   30 B                         \n",
            "pulling 65d37de20e59... 100% ▕▏  486 B                         \n",
            "verifying sha256 digest ⠙ \u001b[?25h\u001b[?25l\u001b[2K\u001b[1G\u001b[A\u001b[2K\u001b[1G\u001b[A\u001b[2K\u001b[1G\u001b[A\u001b[2K\u001b[1G\u001b[A\u001b[2K\u001b[1G\u001b[A\u001b[2K\u001b[1G\u001b[A\u001b[2K\u001b[1Gpulling manifest \n",
            "pulling b559938ab7a0... 100% ▕▏ 7.1 GB                         \n",
            "pulling f023d1ce0e55... 100% ▕▏  688 B                         \n",
            "pulling 43070e2d4e53... 100% ▕▏  11 KB                         \n",
            "pulling ed11eda7790d... 100% ▕▏   30 B                         \n",
            "pulling 65d37de20e59... 100% ▕▏  486 B                         \n",
            "verifying sha256 digest ⠹ \u001b[?25h\u001b[?25l\u001b[2K\u001b[1G\u001b[A\u001b[2K\u001b[1G\u001b[A\u001b[2K\u001b[1G\u001b[A\u001b[2K\u001b[1G\u001b[A\u001b[2K\u001b[1G\u001b[A\u001b[2K\u001b[1G\u001b[A\u001b[2K\u001b[1Gpulling manifest \n",
            "pulling b559938ab7a0... 100% ▕▏ 7.1 GB                         \n",
            "pulling f023d1ce0e55... 100% ▕▏  688 B                         \n",
            "pulling 43070e2d4e53... 100% ▕▏  11 KB                         \n",
            "pulling ed11eda7790d... 100% ▕▏   30 B                         \n",
            "pulling 65d37de20e59... 100% ▕▏  486 B                         \n",
            "verifying sha256 digest ⠸ \u001b[?25h\u001b[?25l\u001b[2K\u001b[1G\u001b[A\u001b[2K\u001b[1G\u001b[A\u001b[2K\u001b[1G\u001b[A\u001b[2K\u001b[1G\u001b[A\u001b[2K\u001b[1G\u001b[A\u001b[2K\u001b[1G\u001b[A\u001b[2K\u001b[1Gpulling manifest \n",
            "pulling b559938ab7a0... 100% ▕▏ 7.1 GB                         \n",
            "pulling f023d1ce0e55... 100% ▕▏  688 B                         \n",
            "pulling 43070e2d4e53... 100% ▕▏  11 KB                         \n",
            "pulling ed11eda7790d... 100% ▕▏   30 B                         \n",
            "pulling 65d37de20e59... 100% ▕▏  486 B                         \n",
            "verifying sha256 digest ⠼ \u001b[?25h\u001b[?25l\u001b[2K\u001b[1G\u001b[A\u001b[2K\u001b[1G\u001b[A\u001b[2K\u001b[1G\u001b[A\u001b[2K\u001b[1G\u001b[A\u001b[2K\u001b[1G\u001b[A\u001b[2K\u001b[1G\u001b[A\u001b[2K\u001b[1Gpulling manifest \n",
            "pulling b559938ab7a0... 100% ▕▏ 7.1 GB                         \n",
            "pulling f023d1ce0e55... 100% ▕▏  688 B                         \n",
            "pulling 43070e2d4e53... 100% ▕▏  11 KB                         \n",
            "pulling ed11eda7790d... 100% ▕▏   30 B                         \n",
            "pulling 65d37de20e59... 100% ▕▏  486 B                         \n",
            "verifying sha256 digest ⠴ \u001b[?25h\u001b[?25l\u001b[2K\u001b[1G\u001b[A\u001b[2K\u001b[1G\u001b[A\u001b[2K\u001b[1G\u001b[A\u001b[2K\u001b[1G\u001b[A\u001b[2K\u001b[1G\u001b[A\u001b[2K\u001b[1G\u001b[A\u001b[2K\u001b[1Gpulling manifest \n",
            "pulling b559938ab7a0... 100% ▕▏ 7.1 GB                         \n",
            "pulling f023d1ce0e55... 100% ▕▏  688 B                         \n",
            "pulling 43070e2d4e53... 100% ▕▏  11 KB                         \n",
            "pulling ed11eda7790d... 100% ▕▏   30 B                         \n",
            "pulling 65d37de20e59... 100% ▕▏  486 B                         \n",
            "verifying sha256 digest ⠦ \u001b[?25h\u001b[?25l\u001b[2K\u001b[1G\u001b[A\u001b[2K\u001b[1G\u001b[A\u001b[2K\u001b[1G\u001b[A\u001b[2K\u001b[1G\u001b[A\u001b[2K\u001b[1G\u001b[A\u001b[2K\u001b[1G\u001b[A\u001b[2K\u001b[1Gpulling manifest \n",
            "pulling b559938ab7a0... 100% ▕▏ 7.1 GB                         \n",
            "pulling f023d1ce0e55... 100% ▕▏  688 B                         \n",
            "pulling 43070e2d4e53... 100% ▕▏  11 KB                         \n",
            "pulling ed11eda7790d... 100% ▕▏   30 B                         \n",
            "pulling 65d37de20e59... 100% ▕▏  486 B                         \n",
            "verifying sha256 digest ⠧ \u001b[?25h\u001b[?25l\u001b[2K\u001b[1G\u001b[A\u001b[2K\u001b[1G\u001b[A\u001b[2K\u001b[1G\u001b[A\u001b[2K\u001b[1G\u001b[A\u001b[2K\u001b[1G\u001b[A\u001b[2K\u001b[1G\u001b[A\u001b[2K\u001b[1Gpulling manifest \n",
            "pulling b559938ab7a0... 100% ▕▏ 7.1 GB                         \n",
            "pulling f023d1ce0e55... 100% ▕▏  688 B                         \n",
            "pulling 43070e2d4e53... 100% ▕▏  11 KB                         \n",
            "pulling ed11eda7790d... 100% ▕▏   30 B                         \n",
            "pulling 65d37de20e59... 100% ▕▏  486 B                         \n",
            "verifying sha256 digest ⠇ \u001b[?25h\u001b[?25l\u001b[2K\u001b[1G\u001b[A\u001b[2K\u001b[1G\u001b[A\u001b[2K\u001b[1G\u001b[A\u001b[2K\u001b[1G\u001b[A\u001b[2K\u001b[1G\u001b[A\u001b[2K\u001b[1G\u001b[A\u001b[2K\u001b[1Gpulling manifest \n",
            "pulling b559938ab7a0... 100% ▕▏ 7.1 GB                         \n",
            "pulling f023d1ce0e55... 100% ▕▏  688 B                         \n",
            "pulling 43070e2d4e53... 100% ▕▏  11 KB                         \n",
            "pulling ed11eda7790d... 100% ▕▏   30 B                         \n",
            "pulling 65d37de20e59... 100% ▕▏  486 B                         \n",
            "verifying sha256 digest ⠏ \u001b[?25h\u001b[?25l\u001b[2K\u001b[1G\u001b[A\u001b[2K\u001b[1G\u001b[A\u001b[2K\u001b[1G\u001b[A\u001b[2K\u001b[1G\u001b[A\u001b[2K\u001b[1G\u001b[A\u001b[2K\u001b[1G\u001b[A\u001b[2K\u001b[1Gpulling manifest \n",
            "pulling b559938ab7a0... 100% ▕▏ 7.1 GB                         \n",
            "pulling f023d1ce0e55... 100% ▕▏  688 B                         \n",
            "pulling 43070e2d4e53... 100% ▕▏  11 KB                         \n",
            "pulling ed11eda7790d... 100% ▕▏   30 B                         \n",
            "pulling 65d37de20e59... 100% ▕▏  486 B                         \n",
            "verifying sha256 digest ⠋ \u001b[?25h\u001b[?25l\u001b[2K\u001b[1G\u001b[A\u001b[2K\u001b[1G\u001b[A\u001b[2K\u001b[1G\u001b[A\u001b[2K\u001b[1G\u001b[A\u001b[2K\u001b[1G\u001b[A\u001b[2K\u001b[1G\u001b[A\u001b[2K\u001b[1Gpulling manifest \n",
            "pulling b559938ab7a0... 100% ▕▏ 7.1 GB                         \n",
            "pulling f023d1ce0e55... 100% ▕▏  688 B                         \n",
            "pulling 43070e2d4e53... 100% ▕▏  11 KB                         \n",
            "pulling ed11eda7790d... 100% ▕▏   30 B                         \n",
            "pulling 65d37de20e59... 100% ▕▏  486 B                         \n",
            "verifying sha256 digest ⠙ \u001b[?25h\u001b[?25l\u001b[2K\u001b[1G\u001b[A\u001b[2K\u001b[1G\u001b[A\u001b[2K\u001b[1G\u001b[A\u001b[2K\u001b[1G\u001b[A\u001b[2K\u001b[1G\u001b[A\u001b[2K\u001b[1G\u001b[A\u001b[2K\u001b[1Gpulling manifest \n",
            "pulling b559938ab7a0... 100% ▕▏ 7.1 GB                         \n",
            "pulling f023d1ce0e55... 100% ▕▏  688 B                         \n",
            "pulling 43070e2d4e53... 100% ▕▏  11 KB                         \n",
            "pulling ed11eda7790d... 100% ▕▏   30 B                         \n",
            "pulling 65d37de20e59... 100% ▕▏  486 B                         \n",
            "verifying sha256 digest ⠹ \u001b[?25h\u001b[?25l\u001b[2K\u001b[1G\u001b[A\u001b[2K\u001b[1G\u001b[A\u001b[2K\u001b[1G\u001b[A\u001b[2K\u001b[1G\u001b[A\u001b[2K\u001b[1G\u001b[A\u001b[2K\u001b[1G\u001b[A\u001b[2K\u001b[1Gpulling manifest \n",
            "pulling b559938ab7a0... 100% ▕▏ 7.1 GB                         \n",
            "pulling f023d1ce0e55... 100% ▕▏  688 B                         \n",
            "pulling 43070e2d4e53... 100% ▕▏  11 KB                         \n",
            "pulling ed11eda7790d... 100% ▕▏   30 B                         \n",
            "pulling 65d37de20e59... 100% ▕▏  486 B                         \n",
            "verifying sha256 digest ⠸ \u001b[?25h\u001b[?25l\u001b[2K\u001b[1G\u001b[A\u001b[2K\u001b[1G\u001b[A\u001b[2K\u001b[1G\u001b[A\u001b[2K\u001b[1G\u001b[A\u001b[2K\u001b[1G\u001b[A\u001b[2K\u001b[1G\u001b[A\u001b[2K\u001b[1Gpulling manifest \n",
            "pulling b559938ab7a0... 100% ▕▏ 7.1 GB                         \n",
            "pulling f023d1ce0e55... 100% ▕▏  688 B                         \n",
            "pulling 43070e2d4e53... 100% ▕▏  11 KB                         \n",
            "pulling ed11eda7790d... 100% ▕▏   30 B                         \n",
            "pulling 65d37de20e59... 100% ▕▏  486 B                         \n",
            "verifying sha256 digest ⠼ \u001b[?25h\u001b[?25l\u001b[2K\u001b[1G\u001b[A\u001b[2K\u001b[1G\u001b[A\u001b[2K\u001b[1G\u001b[A\u001b[2K\u001b[1G\u001b[A\u001b[2K\u001b[1G\u001b[A\u001b[2K\u001b[1G\u001b[A\u001b[2K\u001b[1Gpulling manifest \n",
            "pulling b559938ab7a0... 100% ▕▏ 7.1 GB                         \n",
            "pulling f023d1ce0e55... 100% ▕▏  688 B                         \n",
            "pulling 43070e2d4e53... 100% ▕▏  11 KB                         \n",
            "pulling ed11eda7790d... 100% ▕▏   30 B                         \n",
            "pulling 65d37de20e59... 100% ▕▏  486 B                         \n",
            "verifying sha256 digest ⠴ \u001b[?25h\u001b[?25l\u001b[2K\u001b[1G\u001b[A\u001b[2K\u001b[1G\u001b[A\u001b[2K\u001b[1G\u001b[A\u001b[2K\u001b[1G\u001b[A\u001b[2K\u001b[1G\u001b[A\u001b[2K\u001b[1G\u001b[A\u001b[2K\u001b[1Gpulling manifest \n",
            "pulling b559938ab7a0... 100% ▕▏ 7.1 GB                         \n",
            "pulling f023d1ce0e55... 100% ▕▏  688 B                         \n",
            "pulling 43070e2d4e53... 100% ▕▏  11 KB                         \n",
            "pulling ed11eda7790d... 100% ▕▏   30 B                         \n",
            "pulling 65d37de20e59... 100% ▕▏  486 B                         \n",
            "verifying sha256 digest ⠦ \u001b[?25h\u001b[?25l\u001b[2K\u001b[1G\u001b[A\u001b[2K\u001b[1G\u001b[A\u001b[2K\u001b[1G\u001b[A\u001b[2K\u001b[1G\u001b[A\u001b[2K\u001b[1G\u001b[A\u001b[2K\u001b[1G\u001b[A\u001b[2K\u001b[1Gpulling manifest \n",
            "pulling b559938ab7a0... 100% ▕▏ 7.1 GB                         \n",
            "pulling f023d1ce0e55... 100% ▕▏  688 B                         \n",
            "pulling 43070e2d4e53... 100% ▕▏  11 KB                         \n",
            "pulling ed11eda7790d... 100% ▕▏   30 B                         \n",
            "pulling 65d37de20e59... 100% ▕▏  486 B                         \n",
            "verifying sha256 digest ⠧ \u001b[?25h\u001b[?25l\u001b[2K\u001b[1G\u001b[A\u001b[2K\u001b[1G\u001b[A\u001b[2K\u001b[1G\u001b[A\u001b[2K\u001b[1G\u001b[A\u001b[2K\u001b[1G\u001b[A\u001b[2K\u001b[1G\u001b[A\u001b[2K\u001b[1Gpulling manifest \n",
            "pulling b559938ab7a0... 100% ▕▏ 7.1 GB                         \n",
            "pulling f023d1ce0e55... 100% ▕▏  688 B                         \n",
            "pulling 43070e2d4e53... 100% ▕▏  11 KB                         \n",
            "pulling ed11eda7790d... 100% ▕▏   30 B                         \n",
            "pulling 65d37de20e59... 100% ▕▏  486 B                         \n",
            "verifying sha256 digest ⠇ \u001b[?25h\u001b[?25l\u001b[2K\u001b[1G\u001b[A\u001b[2K\u001b[1G\u001b[A\u001b[2K\u001b[1G\u001b[A\u001b[2K\u001b[1G\u001b[A\u001b[2K\u001b[1G\u001b[A\u001b[2K\u001b[1G\u001b[A\u001b[2K\u001b[1Gpulling manifest \n",
            "pulling b559938ab7a0... 100% ▕▏ 7.1 GB                         \n",
            "pulling f023d1ce0e55... 100% ▕▏  688 B                         \n",
            "pulling 43070e2d4e53... 100% ▕▏  11 KB                         \n",
            "pulling ed11eda7790d... 100% ▕▏   30 B                         \n",
            "pulling 65d37de20e59... 100% ▕▏  486 B                         \n",
            "verifying sha256 digest ⠏ \u001b[?25h\u001b[?25l\u001b[2K\u001b[1G\u001b[A\u001b[2K\u001b[1G\u001b[A\u001b[2K\u001b[1G\u001b[A\u001b[2K\u001b[1G\u001b[A\u001b[2K\u001b[1G\u001b[A\u001b[2K\u001b[1G\u001b[A\u001b[2K\u001b[1Gpulling manifest \n",
            "pulling b559938ab7a0... 100% ▕▏ 7.1 GB                         \n",
            "pulling f023d1ce0e55... 100% ▕▏  688 B                         \n",
            "pulling 43070e2d4e53... 100% ▕▏  11 KB                         \n",
            "pulling ed11eda7790d... 100% ▕▏   30 B                         \n",
            "pulling 65d37de20e59... 100% ▕▏  486 B                         \n",
            "verifying sha256 digest ⠋ \u001b[?25h\u001b[?25l\u001b[2K\u001b[1G\u001b[A\u001b[2K\u001b[1G\u001b[A\u001b[2K\u001b[1G\u001b[A\u001b[2K\u001b[1G\u001b[A\u001b[2K\u001b[1G\u001b[A\u001b[2K\u001b[1G\u001b[A\u001b[2K\u001b[1Gpulling manifest \n",
            "pulling b559938ab7a0... 100% ▕▏ 7.1 GB                         \n",
            "pulling f023d1ce0e55... 100% ▕▏  688 B                         \n",
            "pulling 43070e2d4e53... 100% ▕▏  11 KB                         \n",
            "pulling ed11eda7790d... 100% ▕▏   30 B                         \n",
            "pulling 65d37de20e59... 100% ▕▏  486 B                         \n",
            "verifying sha256 digest ⠙ \u001b[?25h\u001b[?25l\u001b[2K\u001b[1G\u001b[A\u001b[2K\u001b[1G\u001b[A\u001b[2K\u001b[1G\u001b[A\u001b[2K\u001b[1G\u001b[A\u001b[2K\u001b[1G\u001b[A\u001b[2K\u001b[1G\u001b[A\u001b[2K\u001b[1Gpulling manifest \n",
            "pulling b559938ab7a0... 100% ▕▏ 7.1 GB                         \n",
            "pulling f023d1ce0e55... 100% ▕▏  688 B                         \n",
            "pulling 43070e2d4e53... 100% ▕▏  11 KB                         \n",
            "pulling ed11eda7790d... 100% ▕▏   30 B                         \n",
            "pulling 65d37de20e59... 100% ▕▏  486 B                         \n",
            "verifying sha256 digest ⠹ \u001b[?25h\u001b[?25l\u001b[2K\u001b[1G\u001b[A\u001b[2K\u001b[1G\u001b[A\u001b[2K\u001b[1G\u001b[A\u001b[2K\u001b[1G\u001b[A\u001b[2K\u001b[1G\u001b[A\u001b[2K\u001b[1G\u001b[A\u001b[2K\u001b[1Gpulling manifest \n",
            "pulling b559938ab7a0... 100% ▕▏ 7.1 GB                         \n",
            "pulling f023d1ce0e55... 100% ▕▏  688 B                         \n",
            "pulling 43070e2d4e53... 100% ▕▏  11 KB                         \n",
            "pulling ed11eda7790d... 100% ▕▏   30 B                         \n",
            "pulling 65d37de20e59... 100% ▕▏  486 B                         \n",
            "verifying sha256 digest ⠹ \u001b[?25h\u001b[?25l\u001b[2K\u001b[1G\u001b[A\u001b[2K\u001b[1G\u001b[A\u001b[2K\u001b[1G\u001b[A\u001b[2K\u001b[1G\u001b[A\u001b[2K\u001b[1G\u001b[A\u001b[2K\u001b[1G\u001b[A\u001b[2K\u001b[1Gpulling manifest \n",
            "pulling b559938ab7a0... 100% ▕▏ 7.1 GB                         \n",
            "pulling f023d1ce0e55... 100% ▕▏  688 B                         \n",
            "pulling 43070e2d4e53... 100% ▕▏  11 KB                         \n",
            "pulling ed11eda7790d... 100% ▕▏   30 B                         \n",
            "pulling 65d37de20e59... 100% ▕▏  486 B                         \n",
            "verifying sha256 digest ⠼ \u001b[?25h\u001b[?25l\u001b[2K\u001b[1G\u001b[A\u001b[2K\u001b[1G\u001b[A\u001b[2K\u001b[1G\u001b[A\u001b[2K\u001b[1G\u001b[A\u001b[2K\u001b[1G\u001b[A\u001b[2K\u001b[1G\u001b[A\u001b[2K\u001b[1Gpulling manifest \n",
            "pulling b559938ab7a0... 100% ▕▏ 7.1 GB                         \n",
            "pulling f023d1ce0e55... 100% ▕▏  688 B                         \n",
            "pulling 43070e2d4e53... 100% ▕▏  11 KB                         \n",
            "pulling ed11eda7790d... 100% ▕▏   30 B                         \n",
            "pulling 65d37de20e59... 100% ▕▏  486 B                         \n",
            "verifying sha256 digest ⠴ \u001b[?25h\u001b[?25l\u001b[2K\u001b[1G\u001b[A\u001b[2K\u001b[1G\u001b[A\u001b[2K\u001b[1G\u001b[A\u001b[2K\u001b[1G\u001b[A\u001b[2K\u001b[1G\u001b[A\u001b[2K\u001b[1G\u001b[A\u001b[2K\u001b[1Gpulling manifest \n",
            "pulling b559938ab7a0... 100% ▕▏ 7.1 GB                         \n",
            "pulling f023d1ce0e55... 100% ▕▏  688 B                         \n",
            "pulling 43070e2d4e53... 100% ▕▏  11 KB                         \n",
            "pulling ed11eda7790d... 100% ▕▏   30 B                         \n",
            "pulling 65d37de20e59... 100% ▕▏  486 B                         \n",
            "verifying sha256 digest ⠦ \u001b[?25h\u001b[?25l\u001b[2K\u001b[1G\u001b[A\u001b[2K\u001b[1G\u001b[A\u001b[2K\u001b[1G\u001b[A\u001b[2K\u001b[1G\u001b[A\u001b[2K\u001b[1G\u001b[A\u001b[2K\u001b[1G\u001b[A\u001b[2K\u001b[1Gpulling manifest \n",
            "pulling b559938ab7a0... 100% ▕▏ 7.1 GB                         \n",
            "pulling f023d1ce0e55... 100% ▕▏  688 B                         \n",
            "pulling 43070e2d4e53... 100% ▕▏  11 KB                         \n",
            "pulling ed11eda7790d... 100% ▕▏   30 B                         \n",
            "pulling 65d37de20e59... 100% ▕▏  486 B                         \n",
            "verifying sha256 digest ⠧ \u001b[?25h\u001b[?25l\u001b[2K\u001b[1G\u001b[A\u001b[2K\u001b[1G\u001b[A\u001b[2K\u001b[1G\u001b[A\u001b[2K\u001b[1G\u001b[A\u001b[2K\u001b[1G\u001b[A\u001b[2K\u001b[1G\u001b[A\u001b[2K\u001b[1Gpulling manifest \n",
            "pulling b559938ab7a0... 100% ▕▏ 7.1 GB                         \n",
            "pulling f023d1ce0e55... 100% ▕▏  688 B                         \n",
            "pulling 43070e2d4e53... 100% ▕▏  11 KB                         \n",
            "pulling ed11eda7790d... 100% ▕▏   30 B                         \n",
            "pulling 65d37de20e59... 100% ▕▏  486 B                         \n",
            "verifying sha256 digest ⠇ \u001b[?25h\u001b[?25l\u001b[2K\u001b[1G\u001b[A\u001b[2K\u001b[1G\u001b[A\u001b[2K\u001b[1G\u001b[A\u001b[2K\u001b[1G\u001b[A\u001b[2K\u001b[1G\u001b[A\u001b[2K\u001b[1G\u001b[A\u001b[2K\u001b[1Gpulling manifest \n",
            "pulling b559938ab7a0... 100% ▕▏ 7.1 GB                         \n",
            "pulling f023d1ce0e55... 100% ▕▏  688 B                         \n",
            "pulling 43070e2d4e53... 100% ▕▏  11 KB                         \n",
            "pulling ed11eda7790d... 100% ▕▏   30 B                         \n",
            "pulling 65d37de20e59... 100% ▕▏  486 B                         \n",
            "verifying sha256 digest ⠏ \u001b[?25h\u001b[?25l\u001b[2K\u001b[1G\u001b[A\u001b[2K\u001b[1G\u001b[A\u001b[2K\u001b[1G\u001b[A\u001b[2K\u001b[1G\u001b[A\u001b[2K\u001b[1G\u001b[A\u001b[2K\u001b[1G\u001b[A\u001b[2K\u001b[1Gpulling manifest \n",
            "pulling b559938ab7a0... 100% ▕▏ 7.1 GB                         \n",
            "pulling f023d1ce0e55... 100% ▕▏  688 B                         \n",
            "pulling 43070e2d4e53... 100% ▕▏  11 KB                         \n",
            "pulling ed11eda7790d... 100% ▕▏   30 B                         \n",
            "pulling 65d37de20e59... 100% ▕▏  486 B                         \n",
            "verifying sha256 digest ⠋ \u001b[?25h\u001b[?25l\u001b[2K\u001b[1G\u001b[A\u001b[2K\u001b[1G\u001b[A\u001b[2K\u001b[1G\u001b[A\u001b[2K\u001b[1G\u001b[A\u001b[2K\u001b[1G\u001b[A\u001b[2K\u001b[1G\u001b[A\u001b[2K\u001b[1Gpulling manifest \n",
            "pulling b559938ab7a0... 100% ▕▏ 7.1 GB                         \n",
            "pulling f023d1ce0e55... 100% ▕▏  688 B                         \n",
            "pulling 43070e2d4e53... 100% ▕▏  11 KB                         \n",
            "pulling ed11eda7790d... 100% ▕▏   30 B                         \n",
            "pulling 65d37de20e59... 100% ▕▏  486 B                         \n",
            "verifying sha256 digest ⠙ \u001b[?25h\u001b[?25l\u001b[2K\u001b[1G\u001b[A\u001b[2K\u001b[1G\u001b[A\u001b[2K\u001b[1G\u001b[A\u001b[2K\u001b[1G\u001b[A\u001b[2K\u001b[1G\u001b[A\u001b[2K\u001b[1G\u001b[A\u001b[2K\u001b[1Gpulling manifest \n",
            "pulling b559938ab7a0... 100% ▕▏ 7.1 GB                         \n",
            "pulling f023d1ce0e55... 100% ▕▏  688 B                         \n",
            "pulling 43070e2d4e53... 100% ▕▏  11 KB                         \n",
            "pulling ed11eda7790d... 100% ▕▏   30 B                         \n",
            "pulling 65d37de20e59... 100% ▕▏  486 B                         \n",
            "verifying sha256 digest ⠹ \u001b[?25h\u001b[?25l\u001b[2K\u001b[1G\u001b[A\u001b[2K\u001b[1G\u001b[A\u001b[2K\u001b[1G\u001b[A\u001b[2K\u001b[1G\u001b[A\u001b[2K\u001b[1G\u001b[A\u001b[2K\u001b[1G\u001b[A\u001b[2K\u001b[1Gpulling manifest \n",
            "pulling b559938ab7a0... 100% ▕▏ 7.1 GB                         \n",
            "pulling f023d1ce0e55... 100% ▕▏  688 B                         \n",
            "pulling 43070e2d4e53... 100% ▕▏  11 KB                         \n",
            "pulling ed11eda7790d... 100% ▕▏   30 B                         \n",
            "pulling 65d37de20e59... 100% ▕▏  486 B                         \n",
            "verifying sha256 digest ⠸ \u001b[?25h\u001b[?25l\u001b[2K\u001b[1G\u001b[A\u001b[2K\u001b[1G\u001b[A\u001b[2K\u001b[1G\u001b[A\u001b[2K\u001b[1G\u001b[A\u001b[2K\u001b[1G\u001b[A\u001b[2K\u001b[1G\u001b[A\u001b[2K\u001b[1Gpulling manifest \n",
            "pulling b559938ab7a0... 100% ▕▏ 7.1 GB                         \n",
            "pulling f023d1ce0e55... 100% ▕▏  688 B                         \n",
            "pulling 43070e2d4e53... 100% ▕▏  11 KB                         \n",
            "pulling ed11eda7790d... 100% ▕▏   30 B                         \n",
            "pulling 65d37de20e59... 100% ▕▏  486 B                         \n",
            "verifying sha256 digest ⠼ \u001b[?25h\u001b[?25l\u001b[2K\u001b[1G\u001b[A\u001b[2K\u001b[1G\u001b[A\u001b[2K\u001b[1G\u001b[A\u001b[2K\u001b[1G\u001b[A\u001b[2K\u001b[1G\u001b[A\u001b[2K\u001b[1G\u001b[A\u001b[2K\u001b[1Gpulling manifest \n",
            "pulling b559938ab7a0... 100% ▕▏ 7.1 GB                         \n",
            "pulling f023d1ce0e55... 100% ▕▏  688 B                         \n",
            "pulling 43070e2d4e53... 100% ▕▏  11 KB                         \n",
            "pulling ed11eda7790d... 100% ▕▏   30 B                         \n",
            "pulling 65d37de20e59... 100% ▕▏  486 B                         \n",
            "verifying sha256 digest ⠴ \u001b[?25h\u001b[?25l\u001b[2K\u001b[1G\u001b[A\u001b[2K\u001b[1G\u001b[A\u001b[2K\u001b[1G\u001b[A\u001b[2K\u001b[1G\u001b[A\u001b[2K\u001b[1G\u001b[A\u001b[2K\u001b[1G\u001b[A\u001b[2K\u001b[1Gpulling manifest \n",
            "pulling b559938ab7a0... 100% ▕▏ 7.1 GB                         \n",
            "pulling f023d1ce0e55... 100% ▕▏  688 B                         \n",
            "pulling 43070e2d4e53... 100% ▕▏  11 KB                         \n",
            "pulling ed11eda7790d... 100% ▕▏   30 B                         \n",
            "pulling 65d37de20e59... 100% ▕▏  486 B                         \n",
            "verifying sha256 digest ⠦ \u001b[?25h\u001b[?25l\u001b[2K\u001b[1G\u001b[A\u001b[2K\u001b[1G\u001b[A\u001b[2K\u001b[1G\u001b[A\u001b[2K\u001b[1G\u001b[A\u001b[2K\u001b[1G\u001b[A\u001b[2K\u001b[1G\u001b[A\u001b[2K\u001b[1Gpulling manifest \n",
            "pulling b559938ab7a0... 100% ▕▏ 7.1 GB                         \n",
            "pulling f023d1ce0e55... 100% ▕▏  688 B                         \n",
            "pulling 43070e2d4e53... 100% ▕▏  11 KB                         \n",
            "pulling ed11eda7790d... 100% ▕▏   30 B                         \n",
            "pulling 65d37de20e59... 100% ▕▏  486 B                         \n",
            "verifying sha256 digest ⠧ \u001b[?25h\u001b[?25l\u001b[2K\u001b[1G\u001b[A\u001b[2K\u001b[1G\u001b[A\u001b[2K\u001b[1G\u001b[A\u001b[2K\u001b[1G\u001b[A\u001b[2K\u001b[1G\u001b[A\u001b[2K\u001b[1G\u001b[A\u001b[2K\u001b[1Gpulling manifest \n",
            "pulling b559938ab7a0... 100% ▕▏ 7.1 GB                         \n",
            "pulling f023d1ce0e55... 100% ▕▏  688 B                         \n",
            "pulling 43070e2d4e53... 100% ▕▏  11 KB                         \n",
            "pulling ed11eda7790d... 100% ▕▏   30 B                         \n",
            "pulling 65d37de20e59... 100% ▕▏  486 B                         \n",
            "verifying sha256 digest ⠇ \u001b[?25h\u001b[?25l\u001b[2K\u001b[1G\u001b[A\u001b[2K\u001b[1G\u001b[A\u001b[2K\u001b[1G\u001b[A\u001b[2K\u001b[1G\u001b[A\u001b[2K\u001b[1G\u001b[A\u001b[2K\u001b[1G\u001b[A\u001b[2K\u001b[1Gpulling manifest \n",
            "pulling b559938ab7a0... 100% ▕▏ 7.1 GB                         \n",
            "pulling f023d1ce0e55... 100% ▕▏  688 B                         \n",
            "pulling 43070e2d4e53... 100% ▕▏  11 KB                         \n",
            "pulling ed11eda7790d... 100% ▕▏   30 B                         \n",
            "pulling 65d37de20e59... 100% ▕▏  486 B                         \n",
            "verifying sha256 digest ⠏ \u001b[?25h\u001b[?25l\u001b[2K\u001b[1G\u001b[A\u001b[2K\u001b[1G\u001b[A\u001b[2K\u001b[1G\u001b[A\u001b[2K\u001b[1G\u001b[A\u001b[2K\u001b[1G\u001b[A\u001b[2K\u001b[1G\u001b[A\u001b[2K\u001b[1Gpulling manifest \n",
            "pulling b559938ab7a0... 100% ▕▏ 7.1 GB                         \n",
            "pulling f023d1ce0e55... 100% ▕▏  688 B                         \n",
            "pulling 43070e2d4e53... 100% ▕▏  11 KB                         \n",
            "pulling ed11eda7790d... 100% ▕▏   30 B                         \n",
            "pulling 65d37de20e59... 100% ▕▏  486 B                         \n",
            "verifying sha256 digest ⠋ \u001b[?25h\u001b[?25l\u001b[2K\u001b[1G\u001b[A\u001b[2K\u001b[1G\u001b[A\u001b[2K\u001b[1G\u001b[A\u001b[2K\u001b[1G\u001b[A\u001b[2K\u001b[1G\u001b[A\u001b[2K\u001b[1G\u001b[A\u001b[2K\u001b[1Gpulling manifest \n",
            "pulling b559938ab7a0... 100% ▕▏ 7.1 GB                         \n",
            "pulling f023d1ce0e55... 100% ▕▏  688 B                         \n",
            "pulling 43070e2d4e53... 100% ▕▏  11 KB                         \n",
            "pulling ed11eda7790d... 100% ▕▏   30 B                         \n",
            "pulling 65d37de20e59... 100% ▕▏  486 B                         \n",
            "verifying sha256 digest ⠙ \u001b[?25h\u001b[?25l\u001b[2K\u001b[1G\u001b[A\u001b[2K\u001b[1G\u001b[A\u001b[2K\u001b[1G\u001b[A\u001b[2K\u001b[1G\u001b[A\u001b[2K\u001b[1G\u001b[A\u001b[2K\u001b[1G\u001b[A\u001b[2K\u001b[1Gpulling manifest \n",
            "pulling b559938ab7a0... 100% ▕▏ 7.1 GB                         \n",
            "pulling f023d1ce0e55... 100% ▕▏  688 B                         \n",
            "pulling 43070e2d4e53... 100% ▕▏  11 KB                         \n",
            "pulling ed11eda7790d... 100% ▕▏   30 B                         \n",
            "pulling 65d37de20e59... 100% ▕▏  486 B                         \n",
            "verifying sha256 digest ⠹ \u001b[?25h\u001b[?25l\u001b[2K\u001b[1G\u001b[A\u001b[2K\u001b[1G\u001b[A\u001b[2K\u001b[1G\u001b[A\u001b[2K\u001b[1G\u001b[A\u001b[2K\u001b[1G\u001b[A\u001b[2K\u001b[1G\u001b[A\u001b[2K\u001b[1Gpulling manifest \n",
            "pulling b559938ab7a0... 100% ▕▏ 7.1 GB                         \n",
            "pulling f023d1ce0e55... 100% ▕▏  688 B                         \n",
            "pulling 43070e2d4e53... 100% ▕▏  11 KB                         \n",
            "pulling ed11eda7790d... 100% ▕▏   30 B                         \n",
            "pulling 65d37de20e59... 100% ▕▏  486 B                         \n",
            "verifying sha256 digest ⠸ \u001b[?25h\u001b[?25l\u001b[2K\u001b[1G\u001b[A\u001b[2K\u001b[1G\u001b[A\u001b[2K\u001b[1G\u001b[A\u001b[2K\u001b[1G\u001b[A\u001b[2K\u001b[1G\u001b[A\u001b[2K\u001b[1G\u001b[A\u001b[2K\u001b[1Gpulling manifest \n",
            "pulling b559938ab7a0... 100% ▕▏ 7.1 GB                         \n",
            "pulling f023d1ce0e55... 100% ▕▏  688 B                         \n",
            "pulling 43070e2d4e53... 100% ▕▏  11 KB                         \n",
            "pulling ed11eda7790d... 100% ▕▏   30 B                         \n",
            "pulling 65d37de20e59... 100% ▕▏  486 B                         \n",
            "verifying sha256 digest ⠼ \u001b[?25h\u001b[?25l\u001b[2K\u001b[1G\u001b[A\u001b[2K\u001b[1G\u001b[A\u001b[2K\u001b[1G\u001b[A\u001b[2K\u001b[1G\u001b[A\u001b[2K\u001b[1G\u001b[A\u001b[2K\u001b[1G\u001b[A\u001b[2K\u001b[1Gpulling manifest \n",
            "pulling b559938ab7a0... 100% ▕▏ 7.1 GB                         \n",
            "pulling f023d1ce0e55... 100% ▕▏  688 B                         \n",
            "pulling 43070e2d4e53... 100% ▕▏  11 KB                         \n",
            "pulling ed11eda7790d... 100% ▕▏   30 B                         \n",
            "pulling 65d37de20e59... 100% ▕▏  486 B                         \n",
            "verifying sha256 digest ⠴ \u001b[?25h\u001b[?25l\u001b[2K\u001b[1G\u001b[A\u001b[2K\u001b[1G\u001b[A\u001b[2K\u001b[1G\u001b[A\u001b[2K\u001b[1G\u001b[A\u001b[2K\u001b[1G\u001b[A\u001b[2K\u001b[1G\u001b[A\u001b[2K\u001b[1Gpulling manifest \n",
            "pulling b559938ab7a0... 100% ▕▏ 7.1 GB                         \n",
            "pulling f023d1ce0e55... 100% ▕▏  688 B                         \n",
            "pulling 43070e2d4e53... 100% ▕▏  11 KB                         \n",
            "pulling ed11eda7790d... 100% ▕▏   30 B                         \n",
            "pulling 65d37de20e59... 100% ▕▏  486 B                         \n",
            "verifying sha256 digest ⠦ \u001b[?25h\u001b[?25l\u001b[2K\u001b[1G\u001b[A\u001b[2K\u001b[1G\u001b[A\u001b[2K\u001b[1G\u001b[A\u001b[2K\u001b[1G\u001b[A\u001b[2K\u001b[1G\u001b[A\u001b[2K\u001b[1G\u001b[A\u001b[2K\u001b[1Gpulling manifest \n",
            "pulling b559938ab7a0... 100% ▕▏ 7.1 GB                         \n",
            "pulling f023d1ce0e55... 100% ▕▏  688 B                         \n",
            "pulling 43070e2d4e53... 100% ▕▏  11 KB                         \n",
            "pulling ed11eda7790d... 100% ▕▏   30 B                         \n",
            "pulling 65d37de20e59... 100% ▕▏  486 B                         \n",
            "verifying sha256 digest ⠧ \u001b[?25h\u001b[?25l\u001b[2K\u001b[1G\u001b[A\u001b[2K\u001b[1G\u001b[A\u001b[2K\u001b[1G\u001b[A\u001b[2K\u001b[1G\u001b[A\u001b[2K\u001b[1G\u001b[A\u001b[2K\u001b[1G\u001b[A\u001b[2K\u001b[1Gpulling manifest \n",
            "pulling b559938ab7a0... 100% ▕▏ 7.1 GB                         \n",
            "pulling f023d1ce0e55... 100% ▕▏  688 B                         \n",
            "pulling 43070e2d4e53... 100% ▕▏  11 KB                         \n",
            "pulling ed11eda7790d... 100% ▕▏   30 B                         \n",
            "pulling 65d37de20e59... 100% ▕▏  486 B                         \n",
            "verifying sha256 digest ⠇ \u001b[?25h\u001b[?25l\u001b[2K\u001b[1G\u001b[A\u001b[2K\u001b[1G\u001b[A\u001b[2K\u001b[1G\u001b[A\u001b[2K\u001b[1G\u001b[A\u001b[2K\u001b[1G\u001b[A\u001b[2K\u001b[1G\u001b[A\u001b[2K\u001b[1Gpulling manifest \n",
            "pulling b559938ab7a0... 100% ▕▏ 7.1 GB                         \n",
            "pulling f023d1ce0e55... 100% ▕▏  688 B                         \n",
            "pulling 43070e2d4e53... 100% ▕▏  11 KB                         \n",
            "pulling ed11eda7790d... 100% ▕▏   30 B                         \n",
            "pulling 65d37de20e59... 100% ▕▏  486 B                         \n",
            "verifying sha256 digest ⠏ \u001b[?25h\u001b[?25l\u001b[2K\u001b[1G\u001b[A\u001b[2K\u001b[1G\u001b[A\u001b[2K\u001b[1G\u001b[A\u001b[2K\u001b[1G\u001b[A\u001b[2K\u001b[1G\u001b[A\u001b[2K\u001b[1G\u001b[A\u001b[2K\u001b[1Gpulling manifest \n",
            "pulling b559938ab7a0... 100% ▕▏ 7.1 GB                         \n",
            "pulling f023d1ce0e55... 100% ▕▏  688 B                         \n",
            "pulling 43070e2d4e53... 100% ▕▏  11 KB                         \n",
            "pulling ed11eda7790d... 100% ▕▏   30 B                         \n",
            "pulling 65d37de20e59... 100% ▕▏  486 B                         \n",
            "verifying sha256 digest ⠋ \u001b[?25h\u001b[?25l\u001b[2K\u001b[1G\u001b[A\u001b[2K\u001b[1G\u001b[A\u001b[2K\u001b[1G\u001b[A\u001b[2K\u001b[1G\u001b[A\u001b[2K\u001b[1G\u001b[A\u001b[2K\u001b[1G\u001b[A\u001b[2K\u001b[1Gpulling manifest \n",
            "pulling b559938ab7a0... 100% ▕▏ 7.1 GB                         \n",
            "pulling f023d1ce0e55... 100% ▕▏  688 B                         \n",
            "pulling 43070e2d4e53... 100% ▕▏  11 KB                         \n",
            "pulling ed11eda7790d... 100% ▕▏   30 B                         \n",
            "pulling 65d37de20e59... 100% ▕▏  486 B                         \n",
            "verifying sha256 digest ⠙ \u001b[?25h\u001b[?25l\u001b[2K\u001b[1G\u001b[A\u001b[2K\u001b[1G\u001b[A\u001b[2K\u001b[1G\u001b[A\u001b[2K\u001b[1G\u001b[A\u001b[2K\u001b[1G\u001b[A\u001b[2K\u001b[1G\u001b[A\u001b[2K\u001b[1Gpulling manifest \n",
            "pulling b559938ab7a0... 100% ▕▏ 7.1 GB                         \n",
            "pulling f023d1ce0e55... 100% ▕▏  688 B                         \n",
            "pulling 43070e2d4e53... 100% ▕▏  11 KB                         \n",
            "pulling ed11eda7790d... 100% ▕▏   30 B                         \n",
            "pulling 65d37de20e59... 100% ▕▏  486 B                         \n",
            "verifying sha256 digest ⠹ \u001b[?25h\u001b[?25l\u001b[2K\u001b[1G\u001b[A\u001b[2K\u001b[1G\u001b[A\u001b[2K\u001b[1G\u001b[A\u001b[2K\u001b[1G\u001b[A\u001b[2K\u001b[1G\u001b[A\u001b[2K\u001b[1G\u001b[A\u001b[2K\u001b[1Gpulling manifest \n",
            "pulling b559938ab7a0... 100% ▕▏ 7.1 GB                         \n",
            "pulling f023d1ce0e55... 100% ▕▏  688 B                         \n",
            "pulling 43070e2d4e53... 100% ▕▏  11 KB                         \n",
            "pulling ed11eda7790d... 100% ▕▏   30 B                         \n",
            "pulling 65d37de20e59... 100% ▕▏  486 B                         \n",
            "verifying sha256 digest ⠸ \u001b[?25h\u001b[?25l\u001b[2K\u001b[1G\u001b[A\u001b[2K\u001b[1G\u001b[A\u001b[2K\u001b[1G\u001b[A\u001b[2K\u001b[1G\u001b[A\u001b[2K\u001b[1G\u001b[A\u001b[2K\u001b[1G\u001b[A\u001b[2K\u001b[1Gpulling manifest \n",
            "pulling b559938ab7a0... 100% ▕▏ 7.1 GB                         \n",
            "pulling f023d1ce0e55... 100% ▕▏  688 B                         \n",
            "pulling 43070e2d4e53... 100% ▕▏  11 KB                         \n",
            "pulling ed11eda7790d... 100% ▕▏   30 B                         \n",
            "pulling 65d37de20e59... 100% ▕▏  486 B                         \n",
            "verifying sha256 digest ⠼ \u001b[?25h\u001b[?25l\u001b[2K\u001b[1G\u001b[A\u001b[2K\u001b[1G\u001b[A\u001b[2K\u001b[1G\u001b[A\u001b[2K\u001b[1G\u001b[A\u001b[2K\u001b[1G\u001b[A\u001b[2K\u001b[1G\u001b[A\u001b[2K\u001b[1Gpulling manifest \n",
            "pulling b559938ab7a0... 100% ▕▏ 7.1 GB                         \n",
            "pulling f023d1ce0e55... 100% ▕▏  688 B                         \n",
            "pulling 43070e2d4e53... 100% ▕▏  11 KB                         \n",
            "pulling ed11eda7790d... 100% ▕▏   30 B                         \n",
            "pulling 65d37de20e59... 100% ▕▏  486 B                         \n",
            "verifying sha256 digest ⠴ \u001b[?25h\u001b[?25l\u001b[2K\u001b[1G\u001b[A\u001b[2K\u001b[1G\u001b[A\u001b[2K\u001b[1G\u001b[A\u001b[2K\u001b[1G\u001b[A\u001b[2K\u001b[1G\u001b[A\u001b[2K\u001b[1G\u001b[A\u001b[2K\u001b[1Gpulling manifest \n",
            "pulling b559938ab7a0... 100% ▕▏ 7.1 GB                         \n",
            "pulling f023d1ce0e55... 100% ▕▏  688 B                         \n",
            "pulling 43070e2d4e53... 100% ▕▏  11 KB                         \n",
            "pulling ed11eda7790d... 100% ▕▏   30 B                         \n",
            "pulling 65d37de20e59... 100% ▕▏  486 B                         \n",
            "verifying sha256 digest ⠦ \u001b[?25h\u001b[?25l\u001b[2K\u001b[1G\u001b[A\u001b[2K\u001b[1G\u001b[A\u001b[2K\u001b[1G\u001b[A\u001b[2K\u001b[1G\u001b[A\u001b[2K\u001b[1G\u001b[A\u001b[2K\u001b[1G\u001b[A\u001b[2K\u001b[1Gpulling manifest \n",
            "pulling b559938ab7a0... 100% ▕▏ 7.1 GB                         \n",
            "pulling f023d1ce0e55... 100% ▕▏  688 B                         \n",
            "pulling 43070e2d4e53... 100% ▕▏  11 KB                         \n",
            "pulling ed11eda7790d... 100% ▕▏   30 B                         \n",
            "pulling 65d37de20e59... 100% ▕▏  486 B                         \n",
            "verifying sha256 digest ⠧ \u001b[?25h\u001b[?25l\u001b[2K\u001b[1G\u001b[A\u001b[2K\u001b[1G\u001b[A\u001b[2K\u001b[1G\u001b[A\u001b[2K\u001b[1G\u001b[A\u001b[2K\u001b[1G\u001b[A\u001b[2K\u001b[1G\u001b[A\u001b[2K\u001b[1Gpulling manifest \n",
            "pulling b559938ab7a0... 100% ▕▏ 7.1 GB                         \n",
            "pulling f023d1ce0e55... 100% ▕▏  688 B                         \n",
            "pulling 43070e2d4e53... 100% ▕▏  11 KB                         \n",
            "pulling ed11eda7790d... 100% ▕▏   30 B                         \n",
            "pulling 65d37de20e59... 100% ▕▏  486 B                         \n",
            "verifying sha256 digest ⠇ \u001b[?25h\u001b[?25l\u001b[2K\u001b[1G\u001b[A\u001b[2K\u001b[1G\u001b[A\u001b[2K\u001b[1G\u001b[A\u001b[2K\u001b[1G\u001b[A\u001b[2K\u001b[1G\u001b[A\u001b[2K\u001b[1G\u001b[A\u001b[2K\u001b[1Gpulling manifest \n",
            "pulling b559938ab7a0... 100% ▕▏ 7.1 GB                         \n",
            "pulling f023d1ce0e55... 100% ▕▏  688 B                         \n",
            "pulling 43070e2d4e53... 100% ▕▏  11 KB                         \n",
            "pulling ed11eda7790d... 100% ▕▏   30 B                         \n",
            "pulling 65d37de20e59... 100% ▕▏  486 B                         \n",
            "verifying sha256 digest ⠏ \u001b[?25h\u001b[?25l\u001b[2K\u001b[1G\u001b[A\u001b[2K\u001b[1G\u001b[A\u001b[2K\u001b[1G\u001b[A\u001b[2K\u001b[1G\u001b[A\u001b[2K\u001b[1G\u001b[A\u001b[2K\u001b[1G\u001b[A\u001b[2K\u001b[1Gpulling manifest \n",
            "pulling b559938ab7a0... 100% ▕▏ 7.1 GB                         \n",
            "pulling f023d1ce0e55... 100% ▕▏  688 B                         \n",
            "pulling 43070e2d4e53... 100% ▕▏  11 KB                         \n",
            "pulling ed11eda7790d... 100% ▕▏   30 B                         \n",
            "pulling 65d37de20e59... 100% ▕▏  486 B                         \n",
            "verifying sha256 digest ⠋ \u001b[?25h\u001b[?25l\u001b[2K\u001b[1G\u001b[A\u001b[2K\u001b[1G\u001b[A\u001b[2K\u001b[1G\u001b[A\u001b[2K\u001b[1G\u001b[A\u001b[2K\u001b[1G\u001b[A\u001b[2K\u001b[1G\u001b[A\u001b[2K\u001b[1Gpulling manifest \n",
            "pulling b559938ab7a0... 100% ▕▏ 7.1 GB                         \n",
            "pulling f023d1ce0e55... 100% ▕▏  688 B                         \n",
            "pulling 43070e2d4e53... 100% ▕▏  11 KB                         \n",
            "pulling ed11eda7790d... 100% ▕▏   30 B                         \n",
            "pulling 65d37de20e59... 100% ▕▏  486 B                         \n",
            "verifying sha256 digest ⠙ \u001b[?25h\u001b[?25l\u001b[2K\u001b[1G\u001b[A\u001b[2K\u001b[1G\u001b[A\u001b[2K\u001b[1G\u001b[A\u001b[2K\u001b[1G\u001b[A\u001b[2K\u001b[1G\u001b[A\u001b[2K\u001b[1G\u001b[A\u001b[2K\u001b[1Gpulling manifest \n",
            "pulling b559938ab7a0... 100% ▕▏ 7.1 GB                         \n",
            "pulling f023d1ce0e55... 100% ▕▏  688 B                         \n",
            "pulling 43070e2d4e53... 100% ▕▏  11 KB                         \n",
            "pulling ed11eda7790d... 100% ▕▏   30 B                         \n",
            "pulling 65d37de20e59... 100% ▕▏  486 B                         \n",
            "verifying sha256 digest ⠹ \u001b[?25h\u001b[?25l\u001b[2K\u001b[1G\u001b[A\u001b[2K\u001b[1G\u001b[A\u001b[2K\u001b[1G\u001b[A\u001b[2K\u001b[1G\u001b[A\u001b[2K\u001b[1G\u001b[A\u001b[2K\u001b[1G\u001b[A\u001b[2K\u001b[1Gpulling manifest \n",
            "pulling b559938ab7a0... 100% ▕▏ 7.1 GB                         \n",
            "pulling f023d1ce0e55... 100% ▕▏  688 B                         \n",
            "pulling 43070e2d4e53... 100% ▕▏  11 KB                         \n",
            "pulling ed11eda7790d... 100% ▕▏   30 B                         \n",
            "pulling 65d37de20e59... 100% ▕▏  486 B                         \n",
            "verifying sha256 digest ⠸ \u001b[?25h\u001b[?25l\u001b[2K\u001b[1G\u001b[A\u001b[2K\u001b[1G\u001b[A\u001b[2K\u001b[1G\u001b[A\u001b[2K\u001b[1G\u001b[A\u001b[2K\u001b[1G\u001b[A\u001b[2K\u001b[1G\u001b[A\u001b[2K\u001b[1Gpulling manifest \n",
            "pulling b559938ab7a0... 100% ▕▏ 7.1 GB                         \n",
            "pulling f023d1ce0e55... 100% ▕▏  688 B                         \n",
            "pulling 43070e2d4e53... 100% ▕▏  11 KB                         \n",
            "pulling ed11eda7790d... 100% ▕▏   30 B                         \n",
            "pulling 65d37de20e59... 100% ▕▏  486 B                         \n",
            "verifying sha256 digest ⠼ \u001b[?25h\u001b[?25l\u001b[2K\u001b[1G\u001b[A\u001b[2K\u001b[1G\u001b[A\u001b[2K\u001b[1G\u001b[A\u001b[2K\u001b[1G\u001b[A\u001b[2K\u001b[1G\u001b[A\u001b[2K\u001b[1G\u001b[A\u001b[2K\u001b[1Gpulling manifest \n",
            "pulling b559938ab7a0... 100% ▕▏ 7.1 GB                         \n",
            "pulling f023d1ce0e55... 100% ▕▏  688 B                         \n",
            "pulling 43070e2d4e53... 100% ▕▏  11 KB                         \n",
            "pulling ed11eda7790d... 100% ▕▏   30 B                         \n",
            "pulling 65d37de20e59... 100% ▕▏  486 B                         \n",
            "verifying sha256 digest ⠴ \u001b[?25h\u001b[?25l\u001b[2K\u001b[1G\u001b[A\u001b[2K\u001b[1G\u001b[A\u001b[2K\u001b[1G\u001b[A\u001b[2K\u001b[1G\u001b[A\u001b[2K\u001b[1G\u001b[A\u001b[2K\u001b[1G\u001b[A\u001b[2K\u001b[1Gpulling manifest \n",
            "pulling b559938ab7a0... 100% ▕▏ 7.1 GB                         \n",
            "pulling f023d1ce0e55... 100% ▕▏  688 B                         \n",
            "pulling 43070e2d4e53... 100% ▕▏  11 KB                         \n",
            "pulling ed11eda7790d... 100% ▕▏   30 B                         \n",
            "pulling 65d37de20e59... 100% ▕▏  486 B                         \n",
            "verifying sha256 digest ⠦ \u001b[?25h\u001b[?25l\u001b[2K\u001b[1G\u001b[A\u001b[2K\u001b[1G\u001b[A\u001b[2K\u001b[1G\u001b[A\u001b[2K\u001b[1G\u001b[A\u001b[2K\u001b[1G\u001b[A\u001b[2K\u001b[1G\u001b[A\u001b[2K\u001b[1Gpulling manifest \n",
            "pulling b559938ab7a0... 100% ▕▏ 7.1 GB                         \n",
            "pulling f023d1ce0e55... 100% ▕▏  688 B                         \n",
            "pulling 43070e2d4e53... 100% ▕▏  11 KB                         \n",
            "pulling ed11eda7790d... 100% ▕▏   30 B                         \n",
            "pulling 65d37de20e59... 100% ▕▏  486 B                         \n",
            "verifying sha256 digest ⠧ \u001b[?25h\u001b[?25l\u001b[2K\u001b[1G\u001b[A\u001b[2K\u001b[1G\u001b[A\u001b[2K\u001b[1G\u001b[A\u001b[2K\u001b[1G\u001b[A\u001b[2K\u001b[1G\u001b[A\u001b[2K\u001b[1G\u001b[A\u001b[2K\u001b[1Gpulling manifest \n",
            "pulling b559938ab7a0... 100% ▕▏ 7.1 GB                         \n",
            "pulling f023d1ce0e55... 100% ▕▏  688 B                         \n",
            "pulling 43070e2d4e53... 100% ▕▏  11 KB                         \n",
            "pulling ed11eda7790d... 100% ▕▏   30 B                         \n",
            "pulling 65d37de20e59... 100% ▕▏  486 B                         \n",
            "verifying sha256 digest ⠇ \u001b[?25h\u001b[?25l\u001b[2K\u001b[1G\u001b[A\u001b[2K\u001b[1G\u001b[A\u001b[2K\u001b[1G\u001b[A\u001b[2K\u001b[1G\u001b[A\u001b[2K\u001b[1G\u001b[A\u001b[2K\u001b[1G\u001b[A\u001b[2K\u001b[1Gpulling manifest \n",
            "pulling b559938ab7a0... 100% ▕▏ 7.1 GB                         \n",
            "pulling f023d1ce0e55... 100% ▕▏  688 B                         \n",
            "pulling 43070e2d4e53... 100% ▕▏  11 KB                         \n",
            "pulling ed11eda7790d... 100% ▕▏   30 B                         \n",
            "pulling 65d37de20e59... 100% ▕▏  486 B                         \n",
            "verifying sha256 digest ⠏ \u001b[?25h\u001b[?25l\u001b[2K\u001b[1G\u001b[A\u001b[2K\u001b[1G\u001b[A\u001b[2K\u001b[1G\u001b[A\u001b[2K\u001b[1G\u001b[A\u001b[2K\u001b[1G\u001b[A\u001b[2K\u001b[1G\u001b[A\u001b[2K\u001b[1Gpulling manifest \n",
            "pulling b559938ab7a0... 100% ▕▏ 7.1 GB                         \n",
            "pulling f023d1ce0e55... 100% ▕▏  688 B                         \n",
            "pulling 43070e2d4e53... 100% ▕▏  11 KB                         \n",
            "pulling ed11eda7790d... 100% ▕▏   30 B                         \n",
            "pulling 65d37de20e59... 100% ▕▏  486 B                         \n",
            "verifying sha256 digest ⠋ \u001b[?25h\u001b[?25l\u001b[2K\u001b[1G\u001b[A\u001b[2K\u001b[1G\u001b[A\u001b[2K\u001b[1G\u001b[A\u001b[2K\u001b[1G\u001b[A\u001b[2K\u001b[1G\u001b[A\u001b[2K\u001b[1G\u001b[A\u001b[2K\u001b[1Gpulling manifest \n",
            "pulling b559938ab7a0... 100% ▕▏ 7.1 GB                         \n",
            "pulling f023d1ce0e55... 100% ▕▏  688 B                         \n",
            "pulling 43070e2d4e53... 100% ▕▏  11 KB                         \n",
            "pulling ed11eda7790d... 100% ▕▏   30 B                         \n",
            "pulling 65d37de20e59... 100% ▕▏  486 B                         \n",
            "verifying sha256 digest ⠙ \u001b[?25h\u001b[?25l\u001b[2K\u001b[1G\u001b[A\u001b[2K\u001b[1G\u001b[A\u001b[2K\u001b[1G\u001b[A\u001b[2K\u001b[1G\u001b[A\u001b[2K\u001b[1G\u001b[A\u001b[2K\u001b[1G\u001b[A\u001b[2K\u001b[1Gpulling manifest \n",
            "pulling b559938ab7a0... 100% ▕▏ 7.1 GB                         \n",
            "pulling f023d1ce0e55... 100% ▕▏  688 B                         \n",
            "pulling 43070e2d4e53... 100% ▕▏  11 KB                         \n",
            "pulling ed11eda7790d... 100% ▕▏   30 B                         \n",
            "pulling 65d37de20e59... 100% ▕▏  486 B                         \n",
            "verifying sha256 digest ⠹ \u001b[?25h\u001b[?25l\u001b[2K\u001b[1G\u001b[A\u001b[2K\u001b[1G\u001b[A\u001b[2K\u001b[1G\u001b[A\u001b[2K\u001b[1G\u001b[A\u001b[2K\u001b[1G\u001b[A\u001b[2K\u001b[1G\u001b[A\u001b[2K\u001b[1Gpulling manifest \n",
            "pulling b559938ab7a0... 100% ▕▏ 7.1 GB                         \n",
            "pulling f023d1ce0e55... 100% ▕▏  688 B                         \n",
            "pulling 43070e2d4e53... 100% ▕▏  11 KB                         \n",
            "pulling ed11eda7790d... 100% ▕▏   30 B                         \n",
            "pulling 65d37de20e59... 100% ▕▏  486 B                         \n",
            "verifying sha256 digest ⠸ \u001b[?25h\u001b[?25l\u001b[2K\u001b[1G\u001b[A\u001b[2K\u001b[1G\u001b[A\u001b[2K\u001b[1G\u001b[A\u001b[2K\u001b[1G\u001b[A\u001b[2K\u001b[1G\u001b[A\u001b[2K\u001b[1G\u001b[A\u001b[2K\u001b[1Gpulling manifest \n",
            "pulling b559938ab7a0... 100% ▕▏ 7.1 GB                         \n",
            "pulling f023d1ce0e55... 100% ▕▏  688 B                         \n",
            "pulling 43070e2d4e53... 100% ▕▏  11 KB                         \n",
            "pulling ed11eda7790d... 100% ▕▏   30 B                         \n",
            "pulling 65d37de20e59... 100% ▕▏  486 B                         \n",
            "verifying sha256 digest ⠼ \u001b[?25h\u001b[?25l\u001b[2K\u001b[1G\u001b[A\u001b[2K\u001b[1G\u001b[A\u001b[2K\u001b[1G\u001b[A\u001b[2K\u001b[1G\u001b[A\u001b[2K\u001b[1G\u001b[A\u001b[2K\u001b[1G\u001b[A\u001b[2K\u001b[1Gpulling manifest \n",
            "pulling b559938ab7a0... 100% ▕▏ 7.1 GB                         \n",
            "pulling f023d1ce0e55... 100% ▕▏  688 B                         \n",
            "pulling 43070e2d4e53... 100% ▕▏  11 KB                         \n",
            "pulling ed11eda7790d... 100% ▕▏   30 B                         \n",
            "pulling 65d37de20e59... 100% ▕▏  486 B                         \n",
            "verifying sha256 digest ⠴ \u001b[?25h\u001b[?25l\u001b[2K\u001b[1G\u001b[A\u001b[2K\u001b[1G\u001b[A\u001b[2K\u001b[1G\u001b[A\u001b[2K\u001b[1G\u001b[A\u001b[2K\u001b[1G\u001b[A\u001b[2K\u001b[1G\u001b[A\u001b[2K\u001b[1Gpulling manifest \n",
            "pulling b559938ab7a0... 100% ▕▏ 7.1 GB                         \n",
            "pulling f023d1ce0e55... 100% ▕▏  688 B                         \n",
            "pulling 43070e2d4e53... 100% ▕▏  11 KB                         \n",
            "pulling ed11eda7790d... 100% ▕▏   30 B                         \n",
            "pulling 65d37de20e59... 100% ▕▏  486 B                         \n",
            "verifying sha256 digest ⠦ \u001b[?25h\u001b[?25l\u001b[2K\u001b[1G\u001b[A\u001b[2K\u001b[1G\u001b[A\u001b[2K\u001b[1G\u001b[A\u001b[2K\u001b[1G\u001b[A\u001b[2K\u001b[1G\u001b[A\u001b[2K\u001b[1G\u001b[A\u001b[2K\u001b[1Gpulling manifest \n",
            "pulling b559938ab7a0... 100% ▕▏ 7.1 GB                         \n",
            "pulling f023d1ce0e55... 100% ▕▏  688 B                         \n",
            "pulling 43070e2d4e53... 100% ▕▏  11 KB                         \n",
            "pulling ed11eda7790d... 100% ▕▏   30 B                         \n",
            "pulling 65d37de20e59... 100% ▕▏  486 B                         \n",
            "verifying sha256 digest ⠧ \u001b[?25h\u001b[?25l\u001b[2K\u001b[1G\u001b[A\u001b[2K\u001b[1G\u001b[A\u001b[2K\u001b[1G\u001b[A\u001b[2K\u001b[1G\u001b[A\u001b[2K\u001b[1G\u001b[A\u001b[2K\u001b[1G\u001b[A\u001b[2K\u001b[1Gpulling manifest \n",
            "pulling b559938ab7a0... 100% ▕▏ 7.1 GB                         \n",
            "pulling f023d1ce0e55... 100% ▕▏  688 B                         \n",
            "pulling 43070e2d4e53... 100% ▕▏  11 KB                         \n",
            "pulling ed11eda7790d... 100% ▕▏   30 B                         \n",
            "pulling 65d37de20e59... 100% ▕▏  486 B                         \n",
            "verifying sha256 digest ⠇ \u001b[?25h\u001b[?25l\u001b[2K\u001b[1G\u001b[A\u001b[2K\u001b[1G\u001b[A\u001b[2K\u001b[1G\u001b[A\u001b[2K\u001b[1G\u001b[A\u001b[2K\u001b[1G\u001b[A\u001b[2K\u001b[1G\u001b[A\u001b[2K\u001b[1Gpulling manifest \n",
            "pulling b559938ab7a0... 100% ▕▏ 7.1 GB                         \n",
            "pulling f023d1ce0e55... 100% ▕▏  688 B                         \n",
            "pulling 43070e2d4e53... 100% ▕▏  11 KB                         \n",
            "pulling ed11eda7790d... 100% ▕▏   30 B                         \n",
            "pulling 65d37de20e59... 100% ▕▏  486 B                         \n",
            "verifying sha256 digest ⠏ \u001b[?25h\u001b[?25l\u001b[2K\u001b[1G\u001b[A\u001b[2K\u001b[1G\u001b[A\u001b[2K\u001b[1G\u001b[A\u001b[2K\u001b[1G\u001b[A\u001b[2K\u001b[1G\u001b[A\u001b[2K\u001b[1G\u001b[A\u001b[2K\u001b[1Gpulling manifest \n",
            "pulling b559938ab7a0... 100% ▕▏ 7.1 GB                         \n",
            "pulling f023d1ce0e55... 100% ▕▏  688 B                         \n",
            "pulling 43070e2d4e53... 100% ▕▏  11 KB                         \n",
            "pulling ed11eda7790d... 100% ▕▏   30 B                         \n",
            "pulling 65d37de20e59... 100% ▕▏  486 B                         \n",
            "verifying sha256 digest ⠋ \u001b[?25h\u001b[?25l\u001b[2K\u001b[1G\u001b[A\u001b[2K\u001b[1G\u001b[A\u001b[2K\u001b[1G\u001b[A\u001b[2K\u001b[1G\u001b[A\u001b[2K\u001b[1G\u001b[A\u001b[2K\u001b[1G\u001b[A\u001b[2K\u001b[1Gpulling manifest \n",
            "pulling b559938ab7a0... 100% ▕▏ 7.1 GB                         \n",
            "pulling f023d1ce0e55... 100% ▕▏  688 B                         \n",
            "pulling 43070e2d4e53... 100% ▕▏  11 KB                         \n",
            "pulling ed11eda7790d... 100% ▕▏   30 B                         \n",
            "pulling 65d37de20e59... 100% ▕▏  486 B                         \n",
            "verifying sha256 digest ⠙ \u001b[?25h\u001b[?25l\u001b[2K\u001b[1G\u001b[A\u001b[2K\u001b[1G\u001b[A\u001b[2K\u001b[1G\u001b[A\u001b[2K\u001b[1G\u001b[A\u001b[2K\u001b[1G\u001b[A\u001b[2K\u001b[1G\u001b[A\u001b[2K\u001b[1Gpulling manifest \n",
            "pulling b559938ab7a0... 100% ▕▏ 7.1 GB                         \n",
            "pulling f023d1ce0e55... 100% ▕▏  688 B                         \n",
            "pulling 43070e2d4e53... 100% ▕▏  11 KB                         \n",
            "pulling ed11eda7790d... 100% ▕▏   30 B                         \n",
            "pulling 65d37de20e59... 100% ▕▏  486 B                         \n",
            "verifying sha256 digest ⠹ \u001b[?25h\u001b[?25l\u001b[2K\u001b[1G\u001b[A\u001b[2K\u001b[1G\u001b[A\u001b[2K\u001b[1G\u001b[A\u001b[2K\u001b[1G\u001b[A\u001b[2K\u001b[1G\u001b[A\u001b[2K\u001b[1G\u001b[A\u001b[2K\u001b[1Gpulling manifest \n",
            "pulling b559938ab7a0... 100% ▕▏ 7.1 GB                         \n",
            "pulling f023d1ce0e55... 100% ▕▏  688 B                         \n",
            "pulling 43070e2d4e53... 100% ▕▏  11 KB                         \n",
            "pulling ed11eda7790d... 100% ▕▏   30 B                         \n",
            "pulling 65d37de20e59... 100% ▕▏  486 B                         \n",
            "verifying sha256 digest ⠸ \u001b[?25h\u001b[?25l\u001b[2K\u001b[1G\u001b[A\u001b[2K\u001b[1G\u001b[A\u001b[2K\u001b[1G\u001b[A\u001b[2K\u001b[1G\u001b[A\u001b[2K\u001b[1G\u001b[A\u001b[2K\u001b[1G\u001b[A\u001b[2K\u001b[1Gpulling manifest \n",
            "pulling b559938ab7a0... 100% ▕▏ 7.1 GB                         \n",
            "pulling f023d1ce0e55... 100% ▕▏  688 B                         \n",
            "pulling 43070e2d4e53... 100% ▕▏  11 KB                         \n",
            "pulling ed11eda7790d... 100% ▕▏   30 B                         \n",
            "pulling 65d37de20e59... 100% ▕▏  486 B                         \n",
            "verifying sha256 digest ⠼ \u001b[?25h\u001b[?25l\u001b[2K\u001b[1G\u001b[A\u001b[2K\u001b[1G\u001b[A\u001b[2K\u001b[1G\u001b[A\u001b[2K\u001b[1G\u001b[A\u001b[2K\u001b[1G\u001b[A\u001b[2K\u001b[1G\u001b[A\u001b[2K\u001b[1Gpulling manifest \n",
            "pulling b559938ab7a0... 100% ▕▏ 7.1 GB                         \n",
            "pulling f023d1ce0e55... 100% ▕▏  688 B                         \n",
            "pulling 43070e2d4e53... 100% ▕▏  11 KB                         \n",
            "pulling ed11eda7790d... 100% ▕▏   30 B                         \n",
            "pulling 65d37de20e59... 100% ▕▏  486 B                         \n",
            "verifying sha256 digest ⠴ \u001b[?25h\u001b[?25l\u001b[2K\u001b[1G\u001b[A\u001b[2K\u001b[1G\u001b[A\u001b[2K\u001b[1G\u001b[A\u001b[2K\u001b[1G\u001b[A\u001b[2K\u001b[1G\u001b[A\u001b[2K\u001b[1G\u001b[A\u001b[2K\u001b[1Gpulling manifest \n",
            "pulling b559938ab7a0... 100% ▕▏ 7.1 GB                         \n",
            "pulling f023d1ce0e55... 100% ▕▏  688 B                         \n",
            "pulling 43070e2d4e53... 100% ▕▏  11 KB                         \n",
            "pulling ed11eda7790d... 100% ▕▏   30 B                         \n",
            "pulling 65d37de20e59... 100% ▕▏  486 B                         \n",
            "verifying sha256 digest ⠦ \u001b[?25h\u001b[?25l\u001b[2K\u001b[1G\u001b[A\u001b[2K\u001b[1G\u001b[A\u001b[2K\u001b[1G\u001b[A\u001b[2K\u001b[1G\u001b[A\u001b[2K\u001b[1G\u001b[A\u001b[2K\u001b[1G\u001b[A\u001b[2K\u001b[1Gpulling manifest \n",
            "pulling b559938ab7a0... 100% ▕▏ 7.1 GB                         \n",
            "pulling f023d1ce0e55... 100% ▕▏  688 B                         \n",
            "pulling 43070e2d4e53... 100% ▕▏  11 KB                         \n",
            "pulling ed11eda7790d... 100% ▕▏   30 B                         \n",
            "pulling 65d37de20e59... 100% ▕▏  486 B                         \n",
            "verifying sha256 digest ⠧ \u001b[?25h\u001b[?25l\u001b[2K\u001b[1G\u001b[A\u001b[2K\u001b[1G\u001b[A\u001b[2K\u001b[1G\u001b[A\u001b[2K\u001b[1G\u001b[A\u001b[2K\u001b[1G\u001b[A\u001b[2K\u001b[1G\u001b[A\u001b[2K\u001b[1Gpulling manifest \n",
            "pulling b559938ab7a0... 100% ▕▏ 7.1 GB                         \n",
            "pulling f023d1ce0e55... 100% ▕▏  688 B                         \n",
            "pulling 43070e2d4e53... 100% ▕▏  11 KB                         \n",
            "pulling ed11eda7790d... 100% ▕▏   30 B                         \n",
            "pulling 65d37de20e59... 100% ▕▏  486 B                         \n",
            "verifying sha256 digest ⠇ \u001b[?25h\u001b[?25l\u001b[2K\u001b[1G\u001b[A\u001b[2K\u001b[1G\u001b[A\u001b[2K\u001b[1G\u001b[A\u001b[2K\u001b[1G\u001b[A\u001b[2K\u001b[1G\u001b[A\u001b[2K\u001b[1G\u001b[A\u001b[2K\u001b[1Gpulling manifest \n",
            "pulling b559938ab7a0... 100% ▕▏ 7.1 GB                         \n",
            "pulling f023d1ce0e55... 100% ▕▏  688 B                         \n",
            "pulling 43070e2d4e53... 100% ▕▏  11 KB                         \n",
            "pulling ed11eda7790d... 100% ▕▏   30 B                         \n",
            "pulling 65d37de20e59... 100% ▕▏  486 B                         \n",
            "verifying sha256 digest ⠏ \u001b[?25h\u001b[?25l\u001b[2K\u001b[1G\u001b[A\u001b[2K\u001b[1G\u001b[A\u001b[2K\u001b[1G\u001b[A\u001b[2K\u001b[1G\u001b[A\u001b[2K\u001b[1G\u001b[A\u001b[2K\u001b[1G\u001b[A\u001b[2K\u001b[1Gpulling manifest \n",
            "pulling b559938ab7a0... 100% ▕▏ 7.1 GB                         \n",
            "pulling f023d1ce0e55... 100% ▕▏  688 B                         \n",
            "pulling 43070e2d4e53... 100% ▕▏  11 KB                         \n",
            "pulling ed11eda7790d... 100% ▕▏   30 B                         \n",
            "pulling 65d37de20e59... 100% ▕▏  486 B                         \n",
            "verifying sha256 digest ⠋ \u001b[?25h\u001b[?25l\u001b[2K\u001b[1G\u001b[A\u001b[2K\u001b[1G\u001b[A\u001b[2K\u001b[1G\u001b[A\u001b[2K\u001b[1G\u001b[A\u001b[2K\u001b[1G\u001b[A\u001b[2K\u001b[1G\u001b[A\u001b[2K\u001b[1Gpulling manifest \n",
            "pulling b559938ab7a0... 100% ▕▏ 7.1 GB                         \n",
            "pulling f023d1ce0e55... 100% ▕▏  688 B                         \n",
            "pulling 43070e2d4e53... 100% ▕▏  11 KB                         \n",
            "pulling ed11eda7790d... 100% ▕▏   30 B                         \n",
            "pulling 65d37de20e59... 100% ▕▏  486 B                         \n",
            "verifying sha256 digest ⠙ \u001b[?25h\u001b[?25l\u001b[2K\u001b[1G\u001b[A\u001b[2K\u001b[1G\u001b[A\u001b[2K\u001b[1G\u001b[A\u001b[2K\u001b[1G\u001b[A\u001b[2K\u001b[1G\u001b[A\u001b[2K\u001b[1G\u001b[A\u001b[2K\u001b[1Gpulling manifest \n",
            "pulling b559938ab7a0... 100% ▕▏ 7.1 GB                         \n",
            "pulling f023d1ce0e55... 100% ▕▏  688 B                         \n",
            "pulling 43070e2d4e53... 100% ▕▏  11 KB                         \n",
            "pulling ed11eda7790d... 100% ▕▏   30 B                         \n",
            "pulling 65d37de20e59... 100% ▕▏  486 B                         \n",
            "verifying sha256 digest ⠹ \u001b[?25h\u001b[?25l\u001b[2K\u001b[1G\u001b[A\u001b[2K\u001b[1G\u001b[A\u001b[2K\u001b[1G\u001b[A\u001b[2K\u001b[1G\u001b[A\u001b[2K\u001b[1G\u001b[A\u001b[2K\u001b[1G\u001b[A\u001b[2K\u001b[1Gpulling manifest \n",
            "pulling b559938ab7a0... 100% ▕▏ 7.1 GB                         \n",
            "pulling f023d1ce0e55... 100% ▕▏  688 B                         \n",
            "pulling 43070e2d4e53... 100% ▕▏  11 KB                         \n",
            "pulling ed11eda7790d... 100% ▕▏   30 B                         \n",
            "pulling 65d37de20e59... 100% ▕▏  486 B                         \n",
            "verifying sha256 digest ⠸ \u001b[?25h\u001b[?25l\u001b[2K\u001b[1G\u001b[A\u001b[2K\u001b[1G\u001b[A\u001b[2K\u001b[1G\u001b[A\u001b[2K\u001b[1G\u001b[A\u001b[2K\u001b[1G\u001b[A\u001b[2K\u001b[1G\u001b[A\u001b[2K\u001b[1Gpulling manifest \n",
            "pulling b559938ab7a0... 100% ▕▏ 7.1 GB                         \n",
            "pulling f023d1ce0e55... 100% ▕▏  688 B                         \n",
            "pulling 43070e2d4e53... 100% ▕▏  11 KB                         \n",
            "pulling ed11eda7790d... 100% ▕▏   30 B                         \n",
            "pulling 65d37de20e59... 100% ▕▏  486 B                         \n",
            "verifying sha256 digest ⠼ \u001b[?25h\u001b[?25l\u001b[2K\u001b[1G\u001b[A\u001b[2K\u001b[1G\u001b[A\u001b[2K\u001b[1G\u001b[A\u001b[2K\u001b[1G\u001b[A\u001b[2K\u001b[1G\u001b[A\u001b[2K\u001b[1G\u001b[A\u001b[2K\u001b[1Gpulling manifest \n",
            "pulling b559938ab7a0... 100% ▕▏ 7.1 GB                         \n",
            "pulling f023d1ce0e55... 100% ▕▏  688 B                         \n",
            "pulling 43070e2d4e53... 100% ▕▏  11 KB                         \n",
            "pulling ed11eda7790d... 100% ▕▏   30 B                         \n",
            "pulling 65d37de20e59... 100% ▕▏  486 B                         \n",
            "verifying sha256 digest ⠴ \u001b[?25h\u001b[?25l\u001b[2K\u001b[1G\u001b[A\u001b[2K\u001b[1G\u001b[A\u001b[2K\u001b[1G\u001b[A\u001b[2K\u001b[1G\u001b[A\u001b[2K\u001b[1G\u001b[A\u001b[2K\u001b[1G\u001b[A\u001b[2K\u001b[1Gpulling manifest \n",
            "pulling b559938ab7a0... 100% ▕▏ 7.1 GB                         \n",
            "pulling f023d1ce0e55... 100% ▕▏  688 B                         \n",
            "pulling 43070e2d4e53... 100% ▕▏  11 KB                         \n",
            "pulling ed11eda7790d... 100% ▕▏   30 B                         \n",
            "pulling 65d37de20e59... 100% ▕▏  486 B                         \n",
            "verifying sha256 digest ⠦ \u001b[?25h\u001b[?25l\u001b[2K\u001b[1G\u001b[A\u001b[2K\u001b[1G\u001b[A\u001b[2K\u001b[1G\u001b[A\u001b[2K\u001b[1G\u001b[A\u001b[2K\u001b[1G\u001b[A\u001b[2K\u001b[1G\u001b[A\u001b[2K\u001b[1Gpulling manifest \n",
            "pulling b559938ab7a0... 100% ▕▏ 7.1 GB                         \n",
            "pulling f023d1ce0e55... 100% ▕▏  688 B                         \n",
            "pulling 43070e2d4e53... 100% ▕▏  11 KB                         \n",
            "pulling ed11eda7790d... 100% ▕▏   30 B                         \n",
            "pulling 65d37de20e59... 100% ▕▏  486 B                         \n",
            "verifying sha256 digest ⠧ \u001b[?25h\u001b[?25l\u001b[2K\u001b[1G\u001b[A\u001b[2K\u001b[1G\u001b[A\u001b[2K\u001b[1G\u001b[A\u001b[2K\u001b[1G\u001b[A\u001b[2K\u001b[1G\u001b[A\u001b[2K\u001b[1G\u001b[A\u001b[2K\u001b[1Gpulling manifest \n",
            "pulling b559938ab7a0... 100% ▕▏ 7.1 GB                         \n",
            "pulling f023d1ce0e55... 100% ▕▏  688 B                         \n",
            "pulling 43070e2d4e53... 100% ▕▏  11 KB                         \n",
            "pulling ed11eda7790d... 100% ▕▏   30 B                         \n",
            "pulling 65d37de20e59... 100% ▕▏  486 B                         \n",
            "verifying sha256 digest ⠇ \u001b[?25h\u001b[?25l\u001b[2K\u001b[1G\u001b[A\u001b[2K\u001b[1G\u001b[A\u001b[2K\u001b[1G\u001b[A\u001b[2K\u001b[1G\u001b[A\u001b[2K\u001b[1G\u001b[A\u001b[2K\u001b[1G\u001b[A\u001b[2K\u001b[1Gpulling manifest \n",
            "pulling b559938ab7a0... 100% ▕▏ 7.1 GB                         \n",
            "pulling f023d1ce0e55... 100% ▕▏  688 B                         \n",
            "pulling 43070e2d4e53... 100% ▕▏  11 KB                         \n",
            "pulling ed11eda7790d... 100% ▕▏   30 B                         \n",
            "pulling 65d37de20e59... 100% ▕▏  486 B                         \n",
            "verifying sha256 digest ⠏ \u001b[?25h\u001b[?25l\u001b[2K\u001b[1G\u001b[A\u001b[2K\u001b[1G\u001b[A\u001b[2K\u001b[1G\u001b[A\u001b[2K\u001b[1G\u001b[A\u001b[2K\u001b[1G\u001b[A\u001b[2K\u001b[1G\u001b[A\u001b[2K\u001b[1Gpulling manifest \n",
            "pulling b559938ab7a0... 100% ▕▏ 7.1 GB                         \n",
            "pulling f023d1ce0e55... 100% ▕▏  688 B                         \n",
            "pulling 43070e2d4e53... 100% ▕▏  11 KB                         \n",
            "pulling ed11eda7790d... 100% ▕▏   30 B                         \n",
            "pulling 65d37de20e59... 100% ▕▏  486 B                         \n",
            "verifying sha256 digest ⠋ \u001b[?25h\u001b[?25l\u001b[2K\u001b[1G\u001b[A\u001b[2K\u001b[1G\u001b[A\u001b[2K\u001b[1G\u001b[A\u001b[2K\u001b[1G\u001b[A\u001b[2K\u001b[1G\u001b[A\u001b[2K\u001b[1G\u001b[A\u001b[2K\u001b[1Gpulling manifest \n",
            "pulling b559938ab7a0... 100% ▕▏ 7.1 GB                         \n",
            "pulling f023d1ce0e55... 100% ▕▏  688 B                         \n",
            "pulling 43070e2d4e53... 100% ▕▏  11 KB                         \n",
            "pulling ed11eda7790d... 100% ▕▏   30 B                         \n",
            "pulling 65d37de20e59... 100% ▕▏  486 B                         \n",
            "verifying sha256 digest ⠙ \u001b[?25h\u001b[?25l\u001b[2K\u001b[1G\u001b[A\u001b[2K\u001b[1G\u001b[A\u001b[2K\u001b[1G\u001b[A\u001b[2K\u001b[1G\u001b[A\u001b[2K\u001b[1G\u001b[A\u001b[2K\u001b[1G\u001b[A\u001b[2K\u001b[1Gpulling manifest \n",
            "pulling b559938ab7a0... 100% ▕▏ 7.1 GB                         \n",
            "pulling f023d1ce0e55... 100% ▕▏  688 B                         \n",
            "pulling 43070e2d4e53... 100% ▕▏  11 KB                         \n",
            "pulling ed11eda7790d... 100% ▕▏   30 B                         \n",
            "pulling 65d37de20e59... 100% ▕▏  486 B                         \n",
            "verifying sha256 digest ⠹ \u001b[?25h\u001b[?25l\u001b[2K\u001b[1G\u001b[A\u001b[2K\u001b[1G\u001b[A\u001b[2K\u001b[1G\u001b[A\u001b[2K\u001b[1G\u001b[A\u001b[2K\u001b[1G\u001b[A\u001b[2K\u001b[1G\u001b[A\u001b[2K\u001b[1Gpulling manifest \n",
            "pulling b559938ab7a0... 100% ▕▏ 7.1 GB                         \n",
            "pulling f023d1ce0e55... 100% ▕▏  688 B                         \n",
            "pulling 43070e2d4e53... 100% ▕▏  11 KB                         \n",
            "pulling ed11eda7790d... 100% ▕▏   30 B                         \n",
            "pulling 65d37de20e59... 100% ▕▏  486 B                         \n",
            "verifying sha256 digest ⠸ \u001b[?25h\u001b[?25l\u001b[2K\u001b[1G\u001b[A\u001b[2K\u001b[1G\u001b[A\u001b[2K\u001b[1G\u001b[A\u001b[2K\u001b[1G\u001b[A\u001b[2K\u001b[1G\u001b[A\u001b[2K\u001b[1G\u001b[A\u001b[2K\u001b[1Gpulling manifest \n",
            "pulling b559938ab7a0... 100% ▕▏ 7.1 GB                         \n",
            "pulling f023d1ce0e55... 100% ▕▏  688 B                         \n",
            "pulling 43070e2d4e53... 100% ▕▏  11 KB                         \n",
            "pulling ed11eda7790d... 100% ▕▏   30 B                         \n",
            "pulling 65d37de20e59... 100% ▕▏  486 B                         \n",
            "verifying sha256 digest ⠼ \u001b[?25h\u001b[?25l\u001b[2K\u001b[1G\u001b[A\u001b[2K\u001b[1G\u001b[A\u001b[2K\u001b[1G\u001b[A\u001b[2K\u001b[1G\u001b[A\u001b[2K\u001b[1G\u001b[A\u001b[2K\u001b[1G\u001b[A\u001b[2K\u001b[1Gpulling manifest \n",
            "pulling b559938ab7a0... 100% ▕▏ 7.1 GB                         \n",
            "pulling f023d1ce0e55... 100% ▕▏  688 B                         \n",
            "pulling 43070e2d4e53... 100% ▕▏  11 KB                         \n",
            "pulling ed11eda7790d... 100% ▕▏   30 B                         \n",
            "pulling 65d37de20e59... 100% ▕▏  486 B                         \n",
            "verifying sha256 digest ⠴ \u001b[?25h\u001b[?25l\u001b[2K\u001b[1G\u001b[A\u001b[2K\u001b[1G\u001b[A\u001b[2K\u001b[1G\u001b[A\u001b[2K\u001b[1G\u001b[A\u001b[2K\u001b[1G\u001b[A\u001b[2K\u001b[1G\u001b[A\u001b[2K\u001b[1Gpulling manifest \n",
            "pulling b559938ab7a0... 100% ▕▏ 7.1 GB                         \n",
            "pulling f023d1ce0e55... 100% ▕▏  688 B                         \n",
            "pulling 43070e2d4e53... 100% ▕▏  11 KB                         \n",
            "pulling ed11eda7790d... 100% ▕▏   30 B                         \n",
            "pulling 65d37de20e59... 100% ▕▏  486 B                         \n",
            "verifying sha256 digest ⠦ \u001b[?25h\u001b[?25l\u001b[2K\u001b[1G\u001b[A\u001b[2K\u001b[1G\u001b[A\u001b[2K\u001b[1G\u001b[A\u001b[2K\u001b[1G\u001b[A\u001b[2K\u001b[1G\u001b[A\u001b[2K\u001b[1G\u001b[A\u001b[2K\u001b[1Gpulling manifest \n",
            "pulling b559938ab7a0... 100% ▕▏ 7.1 GB                         \n",
            "pulling f023d1ce0e55... 100% ▕▏  688 B                         \n",
            "pulling 43070e2d4e53... 100% ▕▏  11 KB                         \n",
            "pulling ed11eda7790d... 100% ▕▏   30 B                         \n",
            "pulling 65d37de20e59... 100% ▕▏  486 B                         \n",
            "verifying sha256 digest ⠧ \u001b[?25h\u001b[?25l\u001b[2K\u001b[1G\u001b[A\u001b[2K\u001b[1G\u001b[A\u001b[2K\u001b[1G\u001b[A\u001b[2K\u001b[1G\u001b[A\u001b[2K\u001b[1G\u001b[A\u001b[2K\u001b[1G\u001b[A\u001b[2K\u001b[1Gpulling manifest \n",
            "pulling b559938ab7a0... 100% ▕▏ 7.1 GB                         \n",
            "pulling f023d1ce0e55... 100% ▕▏  688 B                         \n",
            "pulling 43070e2d4e53... 100% ▕▏  11 KB                         \n",
            "pulling ed11eda7790d... 100% ▕▏   30 B                         \n",
            "pulling 65d37de20e59... 100% ▕▏  486 B                         \n",
            "verifying sha256 digest ⠇ \u001b[?25h\u001b[?25l\u001b[2K\u001b[1G\u001b[A\u001b[2K\u001b[1G\u001b[A\u001b[2K\u001b[1G\u001b[A\u001b[2K\u001b[1G\u001b[A\u001b[2K\u001b[1G\u001b[A\u001b[2K\u001b[1G\u001b[A\u001b[2K\u001b[1Gpulling manifest \n",
            "pulling b559938ab7a0... 100% ▕▏ 7.1 GB                         \n",
            "pulling f023d1ce0e55... 100% ▕▏  688 B                         \n",
            "pulling 43070e2d4e53... 100% ▕▏  11 KB                         \n",
            "pulling ed11eda7790d... 100% ▕▏   30 B                         \n",
            "pulling 65d37de20e59... 100% ▕▏  486 B                         \n",
            "verifying sha256 digest ⠏ \u001b[?25h\u001b[?25l\u001b[2K\u001b[1G\u001b[A\u001b[2K\u001b[1G\u001b[A\u001b[2K\u001b[1G\u001b[A\u001b[2K\u001b[1G\u001b[A\u001b[2K\u001b[1G\u001b[A\u001b[2K\u001b[1G\u001b[A\u001b[2K\u001b[1Gpulling manifest \n",
            "pulling b559938ab7a0... 100% ▕▏ 7.1 GB                         \n",
            "pulling f023d1ce0e55... 100% ▕▏  688 B                         \n",
            "pulling 43070e2d4e53... 100% ▕▏  11 KB                         \n",
            "pulling ed11eda7790d... 100% ▕▏   30 B                         \n",
            "pulling 65d37de20e59... 100% ▕▏  486 B                         \n",
            "verifying sha256 digest ⠋ \u001b[?25h\u001b[?25l\u001b[2K\u001b[1G\u001b[A\u001b[2K\u001b[1G\u001b[A\u001b[2K\u001b[1G\u001b[A\u001b[2K\u001b[1G\u001b[A\u001b[2K\u001b[1G\u001b[A\u001b[2K\u001b[1G\u001b[A\u001b[2K\u001b[1Gpulling manifest \n",
            "pulling b559938ab7a0... 100% ▕▏ 7.1 GB                         \n",
            "pulling f023d1ce0e55... 100% ▕▏  688 B                         \n",
            "pulling 43070e2d4e53... 100% ▕▏  11 KB                         \n",
            "pulling ed11eda7790d... 100% ▕▏   30 B                         \n",
            "pulling 65d37de20e59... 100% ▕▏  486 B                         \n",
            "verifying sha256 digest ⠙ \u001b[?25h\u001b[?25l\u001b[2K\u001b[1G\u001b[A\u001b[2K\u001b[1G\u001b[A\u001b[2K\u001b[1G\u001b[A\u001b[2K\u001b[1G\u001b[A\u001b[2K\u001b[1G\u001b[A\u001b[2K\u001b[1G\u001b[A\u001b[2K\u001b[1Gpulling manifest \n",
            "pulling b559938ab7a0... 100% ▕▏ 7.1 GB                         \n",
            "pulling f023d1ce0e55... 100% ▕▏  688 B                         \n",
            "pulling 43070e2d4e53... 100% ▕▏  11 KB                         \n",
            "pulling ed11eda7790d... 100% ▕▏   30 B                         \n",
            "pulling 65d37de20e59... 100% ▕▏  486 B                         \n",
            "verifying sha256 digest ⠹ \u001b[?25h\u001b[?25l\u001b[2K\u001b[1G\u001b[A\u001b[2K\u001b[1G\u001b[A\u001b[2K\u001b[1G\u001b[A\u001b[2K\u001b[1G\u001b[A\u001b[2K\u001b[1G\u001b[A\u001b[2K\u001b[1G\u001b[A\u001b[2K\u001b[1Gpulling manifest \n",
            "pulling b559938ab7a0... 100% ▕▏ 7.1 GB                         \n",
            "pulling f023d1ce0e55... 100% ▕▏  688 B                         \n",
            "pulling 43070e2d4e53... 100% ▕▏  11 KB                         \n",
            "pulling ed11eda7790d... 100% ▕▏   30 B                         \n",
            "pulling 65d37de20e59... 100% ▕▏  486 B                         \n",
            "verifying sha256 digest ⠸ \u001b[?25h\u001b[?25l\u001b[2K\u001b[1G\u001b[A\u001b[2K\u001b[1G\u001b[A\u001b[2K\u001b[1G\u001b[A\u001b[2K\u001b[1G\u001b[A\u001b[2K\u001b[1G\u001b[A\u001b[2K\u001b[1G\u001b[A\u001b[2K\u001b[1Gpulling manifest \n",
            "pulling b559938ab7a0... 100% ▕▏ 7.1 GB                         \n",
            "pulling f023d1ce0e55... 100% ▕▏  688 B                         \n",
            "pulling 43070e2d4e53... 100% ▕▏  11 KB                         \n",
            "pulling ed11eda7790d... 100% ▕▏   30 B                         \n",
            "pulling 65d37de20e59... 100% ▕▏  486 B                         \n",
            "verifying sha256 digest ⠼ \u001b[?25h\u001b[?25l\u001b[2K\u001b[1G\u001b[A\u001b[2K\u001b[1G\u001b[A\u001b[2K\u001b[1G\u001b[A\u001b[2K\u001b[1G\u001b[A\u001b[2K\u001b[1G\u001b[A\u001b[2K\u001b[1G\u001b[A\u001b[2K\u001b[1Gpulling manifest \n",
            "pulling b559938ab7a0... 100% ▕▏ 7.1 GB                         \n",
            "pulling f023d1ce0e55... 100% ▕▏  688 B                         \n",
            "pulling 43070e2d4e53... 100% ▕▏  11 KB                         \n",
            "pulling ed11eda7790d... 100% ▕▏   30 B                         \n",
            "pulling 65d37de20e59... 100% ▕▏  486 B                         \n",
            "verifying sha256 digest ⠴ \u001b[?25h\u001b[?25l\u001b[2K\u001b[1G\u001b[A\u001b[2K\u001b[1G\u001b[A\u001b[2K\u001b[1G\u001b[A\u001b[2K\u001b[1G\u001b[A\u001b[2K\u001b[1G\u001b[A\u001b[2K\u001b[1G\u001b[A\u001b[2K\u001b[1Gpulling manifest \n",
            "pulling b559938ab7a0... 100% ▕▏ 7.1 GB                         \n",
            "pulling f023d1ce0e55... 100% ▕▏  688 B                         \n",
            "pulling 43070e2d4e53... 100% ▕▏  11 KB                         \n",
            "pulling ed11eda7790d... 100% ▕▏   30 B                         \n",
            "pulling 65d37de20e59... 100% ▕▏  486 B                         \n",
            "verifying sha256 digest ⠦ \u001b[?25h\u001b[?25l\u001b[2K\u001b[1G\u001b[A\u001b[2K\u001b[1G\u001b[A\u001b[2K\u001b[1G\u001b[A\u001b[2K\u001b[1G\u001b[A\u001b[2K\u001b[1G\u001b[A\u001b[2K\u001b[1G\u001b[A\u001b[2K\u001b[1Gpulling manifest \n",
            "pulling b559938ab7a0... 100% ▕▏ 7.1 GB                         \n",
            "pulling f023d1ce0e55... 100% ▕▏  688 B                         \n",
            "pulling 43070e2d4e53... 100% ▕▏  11 KB                         \n",
            "pulling ed11eda7790d... 100% ▕▏   30 B                         \n",
            "pulling 65d37de20e59... 100% ▕▏  486 B                         \n",
            "verifying sha256 digest ⠧ \u001b[?25h\u001b[?25l\u001b[2K\u001b[1G\u001b[A\u001b[2K\u001b[1G\u001b[A\u001b[2K\u001b[1G\u001b[A\u001b[2K\u001b[1G\u001b[A\u001b[2K\u001b[1G\u001b[A\u001b[2K\u001b[1G\u001b[A\u001b[2K\u001b[1Gpulling manifest \n",
            "pulling b559938ab7a0... 100% ▕▏ 7.1 GB                         \n",
            "pulling f023d1ce0e55... 100% ▕▏  688 B                         \n",
            "pulling 43070e2d4e53... 100% ▕▏  11 KB                         \n",
            "pulling ed11eda7790d... 100% ▕▏   30 B                         \n",
            "pulling 65d37de20e59... 100% ▕▏  486 B                         \n",
            "verifying sha256 digest ⠇ \u001b[?25h\u001b[?25l\u001b[2K\u001b[1G\u001b[A\u001b[2K\u001b[1G\u001b[A\u001b[2K\u001b[1G\u001b[A\u001b[2K\u001b[1G\u001b[A\u001b[2K\u001b[1G\u001b[A\u001b[2K\u001b[1G\u001b[A\u001b[2K\u001b[1Gpulling manifest \n",
            "pulling b559938ab7a0... 100% ▕▏ 7.1 GB                         \n",
            "pulling f023d1ce0e55... 100% ▕▏  688 B                         \n",
            "pulling 43070e2d4e53... 100% ▕▏  11 KB                         \n",
            "pulling ed11eda7790d... 100% ▕▏   30 B                         \n",
            "pulling 65d37de20e59... 100% ▕▏  486 B                         \n",
            "verifying sha256 digest ⠏ \u001b[?25h\u001b[?25l\u001b[2K\u001b[1G\u001b[A\u001b[2K\u001b[1G\u001b[A\u001b[2K\u001b[1G\u001b[A\u001b[2K\u001b[1G\u001b[A\u001b[2K\u001b[1G\u001b[A\u001b[2K\u001b[1G\u001b[A\u001b[2K\u001b[1Gpulling manifest \n",
            "pulling b559938ab7a0... 100% ▕▏ 7.1 GB                         \n",
            "pulling f023d1ce0e55... 100% ▕▏  688 B                         \n",
            "pulling 43070e2d4e53... 100% ▕▏  11 KB                         \n",
            "pulling ed11eda7790d... 100% ▕▏   30 B                         \n",
            "pulling 65d37de20e59... 100% ▕▏  486 B                         \n",
            "verifying sha256 digest ⠋ \u001b[?25h\u001b[?25l\u001b[2K\u001b[1G\u001b[A\u001b[2K\u001b[1G\u001b[A\u001b[2K\u001b[1G\u001b[A\u001b[2K\u001b[1G\u001b[A\u001b[2K\u001b[1G\u001b[A\u001b[2K\u001b[1G\u001b[A\u001b[2K\u001b[1Gpulling manifest \n",
            "pulling b559938ab7a0... 100% ▕▏ 7.1 GB                         \n",
            "pulling f023d1ce0e55... 100% ▕▏  688 B                         \n",
            "pulling 43070e2d4e53... 100% ▕▏  11 KB                         \n",
            "pulling ed11eda7790d... 100% ▕▏   30 B                         \n",
            "pulling 65d37de20e59... 100% ▕▏  486 B                         \n",
            "verifying sha256 digest ⠙ \u001b[?25h\u001b[?25l\u001b[2K\u001b[1G\u001b[A\u001b[2K\u001b[1G\u001b[A\u001b[2K\u001b[1G\u001b[A\u001b[2K\u001b[1G\u001b[A\u001b[2K\u001b[1G\u001b[A\u001b[2K\u001b[1G\u001b[A\u001b[2K\u001b[1Gpulling manifest \n",
            "pulling b559938ab7a0... 100% ▕▏ 7.1 GB                         \n",
            "pulling f023d1ce0e55... 100% ▕▏  688 B                         \n",
            "pulling 43070e2d4e53... 100% ▕▏  11 KB                         \n",
            "pulling ed11eda7790d... 100% ▕▏   30 B                         \n",
            "pulling 65d37de20e59... 100% ▕▏  486 B                         \n",
            "verifying sha256 digest ⠹ \u001b[?25h\u001b[?25l\u001b[2K\u001b[1G\u001b[A\u001b[2K\u001b[1G\u001b[A\u001b[2K\u001b[1G\u001b[A\u001b[2K\u001b[1G\u001b[A\u001b[2K\u001b[1G\u001b[A\u001b[2K\u001b[1G\u001b[A\u001b[2K\u001b[1Gpulling manifest \n",
            "pulling b559938ab7a0... 100% ▕▏ 7.1 GB                         \n",
            "pulling f023d1ce0e55... 100% ▕▏  688 B                         \n",
            "pulling 43070e2d4e53... 100% ▕▏  11 KB                         \n",
            "pulling ed11eda7790d... 100% ▕▏   30 B                         \n",
            "pulling 65d37de20e59... 100% ▕▏  486 B                         \n",
            "verifying sha256 digest ⠸ \u001b[?25h\u001b[?25l\u001b[2K\u001b[1G\u001b[A\u001b[2K\u001b[1G\u001b[A\u001b[2K\u001b[1G\u001b[A\u001b[2K\u001b[1G\u001b[A\u001b[2K\u001b[1G\u001b[A\u001b[2K\u001b[1G\u001b[A\u001b[2K\u001b[1Gpulling manifest \n",
            "pulling b559938ab7a0... 100% ▕▏ 7.1 GB                         \n",
            "pulling f023d1ce0e55... 100% ▕▏  688 B                         \n",
            "pulling 43070e2d4e53... 100% ▕▏  11 KB                         \n",
            "pulling ed11eda7790d... 100% ▕▏   30 B                         \n",
            "pulling 65d37de20e59... 100% ▕▏  486 B                         \n",
            "verifying sha256 digest ⠼ \u001b[?25h\u001b[?25l\u001b[2K\u001b[1G\u001b[A\u001b[2K\u001b[1G\u001b[A\u001b[2K\u001b[1G\u001b[A\u001b[2K\u001b[1G\u001b[A\u001b[2K\u001b[1G\u001b[A\u001b[2K\u001b[1G\u001b[A\u001b[2K\u001b[1Gpulling manifest \n",
            "pulling b559938ab7a0... 100% ▕▏ 7.1 GB                         \n",
            "pulling f023d1ce0e55... 100% ▕▏  688 B                         \n",
            "pulling 43070e2d4e53... 100% ▕▏  11 KB                         \n",
            "pulling ed11eda7790d... 100% ▕▏   30 B                         \n",
            "pulling 65d37de20e59... 100% ▕▏  486 B                         \n",
            "verifying sha256 digest ⠴ \u001b[?25h\u001b[?25l\u001b[2K\u001b[1G\u001b[A\u001b[2K\u001b[1G\u001b[A\u001b[2K\u001b[1G\u001b[A\u001b[2K\u001b[1G\u001b[A\u001b[2K\u001b[1G\u001b[A\u001b[2K\u001b[1G\u001b[A\u001b[2K\u001b[1Gpulling manifest \n",
            "pulling b559938ab7a0... 100% ▕▏ 7.1 GB                         \n",
            "pulling f023d1ce0e55... 100% ▕▏  688 B                         \n",
            "pulling 43070e2d4e53... 100% ▕▏  11 KB                         \n",
            "pulling ed11eda7790d... 100% ▕▏   30 B                         \n",
            "pulling 65d37de20e59... 100% ▕▏  486 B                         \n",
            "verifying sha256 digest ⠦ \u001b[?25h\u001b[?25l\u001b[2K\u001b[1G\u001b[A\u001b[2K\u001b[1G\u001b[A\u001b[2K\u001b[1G\u001b[A\u001b[2K\u001b[1G\u001b[A\u001b[2K\u001b[1G\u001b[A\u001b[2K\u001b[1G\u001b[A\u001b[2K\u001b[1Gpulling manifest \n",
            "pulling b559938ab7a0... 100% ▕▏ 7.1 GB                         \n",
            "pulling f023d1ce0e55... 100% ▕▏  688 B                         \n",
            "pulling 43070e2d4e53... 100% ▕▏  11 KB                         \n",
            "pulling ed11eda7790d... 100% ▕▏   30 B                         \n",
            "pulling 65d37de20e59... 100% ▕▏  486 B                         \n",
            "verifying sha256 digest ⠧ \u001b[?25h\u001b[?25l\u001b[2K\u001b[1G\u001b[A\u001b[2K\u001b[1G\u001b[A\u001b[2K\u001b[1G\u001b[A\u001b[2K\u001b[1G\u001b[A\u001b[2K\u001b[1G\u001b[A\u001b[2K\u001b[1G\u001b[A\u001b[2K\u001b[1Gpulling manifest \n",
            "pulling b559938ab7a0... 100% ▕▏ 7.1 GB                         \n",
            "pulling f023d1ce0e55... 100% ▕▏  688 B                         \n",
            "pulling 43070e2d4e53... 100% ▕▏  11 KB                         \n",
            "pulling ed11eda7790d... 100% ▕▏   30 B                         \n",
            "pulling 65d37de20e59... 100% ▕▏  486 B                         \n",
            "verifying sha256 digest ⠇ \u001b[?25h\u001b[?25l\u001b[2K\u001b[1G\u001b[A\u001b[2K\u001b[1G\u001b[A\u001b[2K\u001b[1G\u001b[A\u001b[2K\u001b[1G\u001b[A\u001b[2K\u001b[1G\u001b[A\u001b[2K\u001b[1G\u001b[A\u001b[2K\u001b[1Gpulling manifest \n",
            "pulling b559938ab7a0... 100% ▕▏ 7.1 GB                         \n",
            "pulling f023d1ce0e55... 100% ▕▏  688 B                         \n",
            "pulling 43070e2d4e53... 100% ▕▏  11 KB                         \n",
            "pulling ed11eda7790d... 100% ▕▏   30 B                         \n",
            "pulling 65d37de20e59... 100% ▕▏  486 B                         \n",
            "verifying sha256 digest ⠏ \u001b[?25h\u001b[?25l\u001b[2K\u001b[1G\u001b[A\u001b[2K\u001b[1G\u001b[A\u001b[2K\u001b[1G\u001b[A\u001b[2K\u001b[1G\u001b[A\u001b[2K\u001b[1G\u001b[A\u001b[2K\u001b[1G\u001b[A\u001b[2K\u001b[1Gpulling manifest \n",
            "pulling b559938ab7a0... 100% ▕▏ 7.1 GB                         \n",
            "pulling f023d1ce0e55... 100% ▕▏  688 B                         \n",
            "pulling 43070e2d4e53... 100% ▕▏  11 KB                         \n",
            "pulling ed11eda7790d... 100% ▕▏   30 B                         \n",
            "pulling 65d37de20e59... 100% ▕▏  486 B                         \n",
            "verifying sha256 digest ⠋ \u001b[?25h\u001b[?25l\u001b[2K\u001b[1G\u001b[A\u001b[2K\u001b[1G\u001b[A\u001b[2K\u001b[1G\u001b[A\u001b[2K\u001b[1G\u001b[A\u001b[2K\u001b[1G\u001b[A\u001b[2K\u001b[1G\u001b[A\u001b[2K\u001b[1Gpulling manifest \n",
            "pulling b559938ab7a0... 100% ▕▏ 7.1 GB                         \n",
            "pulling f023d1ce0e55... 100% ▕▏  688 B                         \n",
            "pulling 43070e2d4e53... 100% ▕▏  11 KB                         \n",
            "pulling ed11eda7790d... 100% ▕▏   30 B                         \n",
            "pulling 65d37de20e59... 100% ▕▏  486 B                         \n",
            "verifying sha256 digest ⠙ \u001b[?25h\u001b[?25l\u001b[2K\u001b[1G\u001b[A\u001b[2K\u001b[1G\u001b[A\u001b[2K\u001b[1G\u001b[A\u001b[2K\u001b[1G\u001b[A\u001b[2K\u001b[1G\u001b[A\u001b[2K\u001b[1G\u001b[A\u001b[2K\u001b[1Gpulling manifest \n",
            "pulling b559938ab7a0... 100% ▕▏ 7.1 GB                         \n",
            "pulling f023d1ce0e55... 100% ▕▏  688 B                         \n",
            "pulling 43070e2d4e53... 100% ▕▏  11 KB                         \n",
            "pulling ed11eda7790d... 100% ▕▏   30 B                         \n",
            "pulling 65d37de20e59... 100% ▕▏  486 B                         \n",
            "verifying sha256 digest ⠹ \u001b[?25h\u001b[?25l\u001b[2K\u001b[1G\u001b[A\u001b[2K\u001b[1G\u001b[A\u001b[2K\u001b[1G\u001b[A\u001b[2K\u001b[1G\u001b[A\u001b[2K\u001b[1G\u001b[A\u001b[2K\u001b[1G\u001b[A\u001b[2K\u001b[1Gpulling manifest \n",
            "pulling b559938ab7a0... 100% ▕▏ 7.1 GB                         \n",
            "pulling f023d1ce0e55... 100% ▕▏  688 B                         \n",
            "pulling 43070e2d4e53... 100% ▕▏  11 KB                         \n",
            "pulling ed11eda7790d... 100% ▕▏   30 B                         \n",
            "pulling 65d37de20e59... 100% ▕▏  486 B                         \n",
            "verifying sha256 digest ⠸ \u001b[?25h\u001b[?25l\u001b[2K\u001b[1G\u001b[A\u001b[2K\u001b[1G\u001b[A\u001b[2K\u001b[1G\u001b[A\u001b[2K\u001b[1G\u001b[A\u001b[2K\u001b[1G\u001b[A\u001b[2K\u001b[1G\u001b[A\u001b[2K\u001b[1Gpulling manifest \n",
            "pulling b559938ab7a0... 100% ▕▏ 7.1 GB                         \n",
            "pulling f023d1ce0e55... 100% ▕▏  688 B                         \n",
            "pulling 43070e2d4e53... 100% ▕▏  11 KB                         \n",
            "pulling ed11eda7790d... 100% ▕▏   30 B                         \n",
            "pulling 65d37de20e59... 100% ▕▏  486 B                         \n",
            "verifying sha256 digest ⠼ \u001b[?25h\u001b[?25l\u001b[2K\u001b[1G\u001b[A\u001b[2K\u001b[1G\u001b[A\u001b[2K\u001b[1G\u001b[A\u001b[2K\u001b[1G\u001b[A\u001b[2K\u001b[1G\u001b[A\u001b[2K\u001b[1G\u001b[A\u001b[2K\u001b[1Gpulling manifest \n",
            "pulling b559938ab7a0... 100% ▕▏ 7.1 GB                         \n",
            "pulling f023d1ce0e55... 100% ▕▏  688 B                         \n",
            "pulling 43070e2d4e53... 100% ▕▏  11 KB                         \n",
            "pulling ed11eda7790d... 100% ▕▏   30 B                         \n",
            "pulling 65d37de20e59... 100% ▕▏  486 B                         \n",
            "verifying sha256 digest ⠴ \u001b[?25h\u001b[?25l\u001b[2K\u001b[1G\u001b[A\u001b[2K\u001b[1G\u001b[A\u001b[2K\u001b[1G\u001b[A\u001b[2K\u001b[1G\u001b[A\u001b[2K\u001b[1G\u001b[A\u001b[2K\u001b[1G\u001b[A\u001b[2K\u001b[1Gpulling manifest \n",
            "pulling b559938ab7a0... 100% ▕▏ 7.1 GB                         \n",
            "pulling f023d1ce0e55... 100% ▕▏  688 B                         \n",
            "pulling 43070e2d4e53... 100% ▕▏  11 KB                         \n",
            "pulling ed11eda7790d... 100% ▕▏   30 B                         \n",
            "pulling 65d37de20e59... 100% ▕▏  486 B                         \n",
            "verifying sha256 digest ⠦ \u001b[?25h\u001b[?25l\u001b[2K\u001b[1G\u001b[A\u001b[2K\u001b[1G\u001b[A\u001b[2K\u001b[1G\u001b[A\u001b[2K\u001b[1G\u001b[A\u001b[2K\u001b[1G\u001b[A\u001b[2K\u001b[1G\u001b[A\u001b[2K\u001b[1Gpulling manifest \n",
            "pulling b559938ab7a0... 100% ▕▏ 7.1 GB                         \n",
            "pulling f023d1ce0e55... 100% ▕▏  688 B                         \n",
            "pulling 43070e2d4e53... 100% ▕▏  11 KB                         \n",
            "pulling ed11eda7790d... 100% ▕▏   30 B                         \n",
            "pulling 65d37de20e59... 100% ▕▏  486 B                         \n",
            "verifying sha256 digest ⠧ \u001b[?25h\u001b[?25l\u001b[2K\u001b[1G\u001b[A\u001b[2K\u001b[1G\u001b[A\u001b[2K\u001b[1G\u001b[A\u001b[2K\u001b[1G\u001b[A\u001b[2K\u001b[1G\u001b[A\u001b[2K\u001b[1G\u001b[A\u001b[2K\u001b[1Gpulling manifest \n",
            "pulling b559938ab7a0... 100% ▕▏ 7.1 GB                         \n",
            "pulling f023d1ce0e55... 100% ▕▏  688 B                         \n",
            "pulling 43070e2d4e53... 100% ▕▏  11 KB                         \n",
            "pulling ed11eda7790d... 100% ▕▏   30 B                         \n",
            "pulling 65d37de20e59... 100% ▕▏  486 B                         \n",
            "verifying sha256 digest ⠇ \u001b[?25h\u001b[?25l\u001b[2K\u001b[1G\u001b[A\u001b[2K\u001b[1G\u001b[A\u001b[2K\u001b[1G\u001b[A\u001b[2K\u001b[1G\u001b[A\u001b[2K\u001b[1G\u001b[A\u001b[2K\u001b[1G\u001b[A\u001b[2K\u001b[1Gpulling manifest \n",
            "pulling b559938ab7a0... 100% ▕▏ 7.1 GB                         \n",
            "pulling f023d1ce0e55... 100% ▕▏  688 B                         \n",
            "pulling 43070e2d4e53... 100% ▕▏  11 KB                         \n",
            "pulling ed11eda7790d... 100% ▕▏   30 B                         \n",
            "pulling 65d37de20e59... 100% ▕▏  486 B                         \n",
            "verifying sha256 digest ⠏ \u001b[?25h\u001b[?25l\u001b[2K\u001b[1G\u001b[A\u001b[2K\u001b[1G\u001b[A\u001b[2K\u001b[1G\u001b[A\u001b[2K\u001b[1G\u001b[A\u001b[2K\u001b[1G\u001b[A\u001b[2K\u001b[1G\u001b[A\u001b[2K\u001b[1Gpulling manifest \n",
            "pulling b559938ab7a0... 100% ▕▏ 7.1 GB                         \n",
            "pulling f023d1ce0e55... 100% ▕▏  688 B                         \n",
            "pulling 43070e2d4e53... 100% ▕▏  11 KB                         \n",
            "pulling ed11eda7790d... 100% ▕▏   30 B                         \n",
            "pulling 65d37de20e59... 100% ▕▏  486 B                         \n",
            "verifying sha256 digest ⠋ \u001b[?25h\u001b[?25l\u001b[2K\u001b[1G\u001b[A\u001b[2K\u001b[1G\u001b[A\u001b[2K\u001b[1G\u001b[A\u001b[2K\u001b[1G\u001b[A\u001b[2K\u001b[1G\u001b[A\u001b[2K\u001b[1G\u001b[A\u001b[2K\u001b[1Gpulling manifest \n",
            "pulling b559938ab7a0... 100% ▕▏ 7.1 GB                         \n",
            "pulling f023d1ce0e55... 100% ▕▏  688 B                         \n",
            "pulling 43070e2d4e53... 100% ▕▏  11 KB                         \n",
            "pulling ed11eda7790d... 100% ▕▏   30 B                         \n",
            "pulling 65d37de20e59... 100% ▕▏  486 B                         \n",
            "verifying sha256 digest ⠙ \u001b[?25h\u001b[?25l\u001b[2K\u001b[1G\u001b[A\u001b[2K\u001b[1G\u001b[A\u001b[2K\u001b[1G\u001b[A\u001b[2K\u001b[1G\u001b[A\u001b[2K\u001b[1G\u001b[A\u001b[2K\u001b[1G\u001b[A\u001b[2K\u001b[1Gpulling manifest \n",
            "pulling b559938ab7a0... 100% ▕▏ 7.1 GB                         \n",
            "pulling f023d1ce0e55... 100% ▕▏  688 B                         \n",
            "pulling 43070e2d4e53... 100% ▕▏  11 KB                         \n",
            "pulling ed11eda7790d... 100% ▕▏   30 B                         \n",
            "pulling 65d37de20e59... 100% ▕▏  486 B                         \n",
            "verifying sha256 digest ⠹ \u001b[?25h\u001b[?25l\u001b[2K\u001b[1G\u001b[A\u001b[2K\u001b[1G\u001b[A\u001b[2K\u001b[1G\u001b[A\u001b[2K\u001b[1G\u001b[A\u001b[2K\u001b[1G\u001b[A\u001b[2K\u001b[1G\u001b[A\u001b[2K\u001b[1Gpulling manifest \n",
            "pulling b559938ab7a0... 100% ▕▏ 7.1 GB                         \n",
            "pulling f023d1ce0e55... 100% ▕▏  688 B                         \n",
            "pulling 43070e2d4e53... 100% ▕▏  11 KB                         \n",
            "pulling ed11eda7790d... 100% ▕▏   30 B                         \n",
            "pulling 65d37de20e59... 100% ▕▏  486 B                         \n",
            "verifying sha256 digest ⠸ \u001b[?25h\u001b[?25l\u001b[2K\u001b[1G\u001b[A\u001b[2K\u001b[1G\u001b[A\u001b[2K\u001b[1G\u001b[A\u001b[2K\u001b[1G\u001b[A\u001b[2K\u001b[1G\u001b[A\u001b[2K\u001b[1G\u001b[A\u001b[2K\u001b[1Gpulling manifest \n",
            "pulling b559938ab7a0... 100% ▕▏ 7.1 GB                         \n",
            "pulling f023d1ce0e55... 100% ▕▏  688 B                         \n",
            "pulling 43070e2d4e53... 100% ▕▏  11 KB                         \n",
            "pulling ed11eda7790d... 100% ▕▏   30 B                         \n",
            "pulling 65d37de20e59... 100% ▕▏  486 B                         \n",
            "verifying sha256 digest ⠼ \u001b[?25h\u001b[?25l\u001b[2K\u001b[1G\u001b[A\u001b[2K\u001b[1G\u001b[A\u001b[2K\u001b[1G\u001b[A\u001b[2K\u001b[1G\u001b[A\u001b[2K\u001b[1G\u001b[A\u001b[2K\u001b[1G\u001b[A\u001b[2K\u001b[1Gpulling manifest \n",
            "pulling b559938ab7a0... 100% ▕▏ 7.1 GB                         \n",
            "pulling f023d1ce0e55... 100% ▕▏  688 B                         \n",
            "pulling 43070e2d4e53... 100% ▕▏  11 KB                         \n",
            "pulling ed11eda7790d... 100% ▕▏   30 B                         \n",
            "pulling 65d37de20e59... 100% ▕▏  486 B                         \n",
            "verifying sha256 digest ⠴ \u001b[?25h\u001b[?25l\u001b[2K\u001b[1G\u001b[A\u001b[2K\u001b[1G\u001b[A\u001b[2K\u001b[1G\u001b[A\u001b[2K\u001b[1G\u001b[A\u001b[2K\u001b[1G\u001b[A\u001b[2K\u001b[1G\u001b[A\u001b[2K\u001b[1Gpulling manifest \n",
            "pulling b559938ab7a0... 100% ▕▏ 7.1 GB                         \n",
            "pulling f023d1ce0e55... 100% ▕▏  688 B                         \n",
            "pulling 43070e2d4e53... 100% ▕▏  11 KB                         \n",
            "pulling ed11eda7790d... 100% ▕▏   30 B                         \n",
            "pulling 65d37de20e59... 100% ▕▏  486 B                         \n",
            "verifying sha256 digest ⠦ \u001b[?25h\u001b[?25l\u001b[2K\u001b[1G\u001b[A\u001b[2K\u001b[1G\u001b[A\u001b[2K\u001b[1G\u001b[A\u001b[2K\u001b[1G\u001b[A\u001b[2K\u001b[1G\u001b[A\u001b[2K\u001b[1G\u001b[A\u001b[2K\u001b[1Gpulling manifest \n",
            "pulling b559938ab7a0... 100% ▕▏ 7.1 GB                         \n",
            "pulling f023d1ce0e55... 100% ▕▏  688 B                         \n",
            "pulling 43070e2d4e53... 100% ▕▏  11 KB                         \n",
            "pulling ed11eda7790d... 100% ▕▏   30 B                         \n",
            "pulling 65d37de20e59... 100% ▕▏  486 B                         \n",
            "verifying sha256 digest ⠧ \u001b[?25h\u001b[?25l\u001b[2K\u001b[1G\u001b[A\u001b[2K\u001b[1G\u001b[A\u001b[2K\u001b[1G\u001b[A\u001b[2K\u001b[1G\u001b[A\u001b[2K\u001b[1G\u001b[A\u001b[2K\u001b[1G\u001b[A\u001b[2K\u001b[1Gpulling manifest \n",
            "pulling b559938ab7a0... 100% ▕▏ 7.1 GB                         \n",
            "pulling f023d1ce0e55... 100% ▕▏  688 B                         \n",
            "pulling 43070e2d4e53... 100% ▕▏  11 KB                         \n",
            "pulling ed11eda7790d... 100% ▕▏   30 B                         \n",
            "pulling 65d37de20e59... 100% ▕▏  486 B                         \n",
            "verifying sha256 digest ⠇ \u001b[?25h\u001b[?25l\u001b[2K\u001b[1G\u001b[A\u001b[2K\u001b[1G\u001b[A\u001b[2K\u001b[1G\u001b[A\u001b[2K\u001b[1G\u001b[A\u001b[2K\u001b[1G\u001b[A\u001b[2K\u001b[1G\u001b[A\u001b[2K\u001b[1Gpulling manifest \n",
            "pulling b559938ab7a0... 100% ▕▏ 7.1 GB                         \n",
            "pulling f023d1ce0e55... 100% ▕▏  688 B                         \n",
            "pulling 43070e2d4e53... 100% ▕▏  11 KB                         \n",
            "pulling ed11eda7790d... 100% ▕▏   30 B                         \n",
            "pulling 65d37de20e59... 100% ▕▏  486 B                         \n",
            "verifying sha256 digest ⠏ \u001b[?25h\u001b[?25l\u001b[2K\u001b[1G\u001b[A\u001b[2K\u001b[1G\u001b[A\u001b[2K\u001b[1G\u001b[A\u001b[2K\u001b[1G\u001b[A\u001b[2K\u001b[1G\u001b[A\u001b[2K\u001b[1G\u001b[A\u001b[2K\u001b[1Gpulling manifest \n",
            "pulling b559938ab7a0... 100% ▕▏ 7.1 GB                         \n",
            "pulling f023d1ce0e55... 100% ▕▏  688 B                         \n",
            "pulling 43070e2d4e53... 100% ▕▏  11 KB                         \n",
            "pulling ed11eda7790d... 100% ▕▏   30 B                         \n",
            "pulling 65d37de20e59... 100% ▕▏  486 B                         \n",
            "verifying sha256 digest ⠋ \u001b[?25h\u001b[?25l\u001b[2K\u001b[1G\u001b[A\u001b[2K\u001b[1G\u001b[A\u001b[2K\u001b[1G\u001b[A\u001b[2K\u001b[1G\u001b[A\u001b[2K\u001b[1G\u001b[A\u001b[2K\u001b[1G\u001b[A\u001b[2K\u001b[1Gpulling manifest \n",
            "pulling b559938ab7a0... 100% ▕▏ 7.1 GB                         \n",
            "pulling f023d1ce0e55... 100% ▕▏  688 B                         \n",
            "pulling 43070e2d4e53... 100% ▕▏  11 KB                         \n",
            "pulling ed11eda7790d... 100% ▕▏   30 B                         \n",
            "pulling 65d37de20e59... 100% ▕▏  486 B                         \n",
            "verifying sha256 digest ⠙ \u001b[?25h\u001b[?25l\u001b[2K\u001b[1G\u001b[A\u001b[2K\u001b[1G\u001b[A\u001b[2K\u001b[1G\u001b[A\u001b[2K\u001b[1G\u001b[A\u001b[2K\u001b[1G\u001b[A\u001b[2K\u001b[1G\u001b[A\u001b[2K\u001b[1Gpulling manifest \n",
            "pulling b559938ab7a0... 100% ▕▏ 7.1 GB                         \n",
            "pulling f023d1ce0e55... 100% ▕▏  688 B                         \n",
            "pulling 43070e2d4e53... 100% ▕▏  11 KB                         \n",
            "pulling ed11eda7790d... 100% ▕▏   30 B                         \n",
            "pulling 65d37de20e59... 100% ▕▏  486 B                         \n",
            "verifying sha256 digest ⠹ \u001b[?25h\u001b[?25l\u001b[2K\u001b[1G\u001b[A\u001b[2K\u001b[1G\u001b[A\u001b[2K\u001b[1G\u001b[A\u001b[2K\u001b[1G\u001b[A\u001b[2K\u001b[1G\u001b[A\u001b[2K\u001b[1G\u001b[A\u001b[2K\u001b[1Gpulling manifest \n",
            "pulling b559938ab7a0... 100% ▕▏ 7.1 GB                         \n",
            "pulling f023d1ce0e55... 100% ▕▏  688 B                         \n",
            "pulling 43070e2d4e53... 100% ▕▏  11 KB                         \n",
            "pulling ed11eda7790d... 100% ▕▏   30 B                         \n",
            "pulling 65d37de20e59... 100% ▕▏  486 B                         \n",
            "verifying sha256 digest ⠸ \u001b[?25h\u001b[?25l\u001b[2K\u001b[1G\u001b[A\u001b[2K\u001b[1G\u001b[A\u001b[2K\u001b[1G\u001b[A\u001b[2K\u001b[1G\u001b[A\u001b[2K\u001b[1G\u001b[A\u001b[2K\u001b[1G\u001b[A\u001b[2K\u001b[1Gpulling manifest \n",
            "pulling b559938ab7a0... 100% ▕▏ 7.1 GB                         \n",
            "pulling f023d1ce0e55... 100% ▕▏  688 B                         \n",
            "pulling 43070e2d4e53... 100% ▕▏  11 KB                         \n",
            "pulling ed11eda7790d... 100% ▕▏   30 B                         \n",
            "pulling 65d37de20e59... 100% ▕▏  486 B                         \n",
            "verifying sha256 digest ⠼ \u001b[?25h\u001b[?25l\u001b[2K\u001b[1G\u001b[A\u001b[2K\u001b[1G\u001b[A\u001b[2K\u001b[1G\u001b[A\u001b[2K\u001b[1G\u001b[A\u001b[2K\u001b[1G\u001b[A\u001b[2K\u001b[1G\u001b[A\u001b[2K\u001b[1Gpulling manifest \n",
            "pulling b559938ab7a0... 100% ▕▏ 7.1 GB                         \n",
            "pulling f023d1ce0e55... 100% ▕▏  688 B                         \n",
            "pulling 43070e2d4e53... 100% ▕▏  11 KB                         \n",
            "pulling ed11eda7790d... 100% ▕▏   30 B                         \n",
            "pulling 65d37de20e59... 100% ▕▏  486 B                         \n",
            "verifying sha256 digest ⠴ \u001b[?25h\u001b[?25l\u001b[2K\u001b[1G\u001b[A\u001b[2K\u001b[1G\u001b[A\u001b[2K\u001b[1G\u001b[A\u001b[2K\u001b[1G\u001b[A\u001b[2K\u001b[1G\u001b[A\u001b[2K\u001b[1G\u001b[A\u001b[2K\u001b[1Gpulling manifest \n",
            "pulling b559938ab7a0... 100% ▕▏ 7.1 GB                         \n",
            "pulling f023d1ce0e55... 100% ▕▏  688 B                         \n",
            "pulling 43070e2d4e53... 100% ▕▏  11 KB                         \n",
            "pulling ed11eda7790d... 100% ▕▏   30 B                         \n",
            "pulling 65d37de20e59... 100% ▕▏  486 B                         \n",
            "verifying sha256 digest ⠦ \u001b[?25h\u001b[?25l\u001b[2K\u001b[1G\u001b[A\u001b[2K\u001b[1G\u001b[A\u001b[2K\u001b[1G\u001b[A\u001b[2K\u001b[1G\u001b[A\u001b[2K\u001b[1G\u001b[A\u001b[2K\u001b[1G\u001b[A\u001b[2K\u001b[1Gpulling manifest \n",
            "pulling b559938ab7a0... 100% ▕▏ 7.1 GB                         \n",
            "pulling f023d1ce0e55... 100% ▕▏  688 B                         \n",
            "pulling 43070e2d4e53... 100% ▕▏  11 KB                         \n",
            "pulling ed11eda7790d... 100% ▕▏   30 B                         \n",
            "pulling 65d37de20e59... 100% ▕▏  486 B                         \n",
            "verifying sha256 digest ⠧ \u001b[?25h\u001b[?25l\u001b[2K\u001b[1G\u001b[A\u001b[2K\u001b[1G\u001b[A\u001b[2K\u001b[1G\u001b[A\u001b[2K\u001b[1G\u001b[A\u001b[2K\u001b[1G\u001b[A\u001b[2K\u001b[1G\u001b[A\u001b[2K\u001b[1Gpulling manifest \n",
            "pulling b559938ab7a0... 100% ▕▏ 7.1 GB                         \n",
            "pulling f023d1ce0e55... 100% ▕▏  688 B                         \n",
            "pulling 43070e2d4e53... 100% ▕▏  11 KB                         \n",
            "pulling ed11eda7790d... 100% ▕▏   30 B                         \n",
            "pulling 65d37de20e59... 100% ▕▏  486 B                         \n",
            "verifying sha256 digest ⠇ \u001b[?25h\u001b[?25l\u001b[2K\u001b[1G\u001b[A\u001b[2K\u001b[1G\u001b[A\u001b[2K\u001b[1G\u001b[A\u001b[2K\u001b[1G\u001b[A\u001b[2K\u001b[1G\u001b[A\u001b[2K\u001b[1G\u001b[A\u001b[2K\u001b[1Gpulling manifest \n",
            "pulling b559938ab7a0... 100% ▕▏ 7.1 GB                         \n",
            "pulling f023d1ce0e55... 100% ▕▏  688 B                         \n",
            "pulling 43070e2d4e53... 100% ▕▏  11 KB                         \n",
            "pulling ed11eda7790d... 100% ▕▏   30 B                         \n",
            "pulling 65d37de20e59... 100% ▕▏  486 B                         \n",
            "verifying sha256 digest ⠏ \u001b[?25h\u001b[?25l\u001b[2K\u001b[1G\u001b[A\u001b[2K\u001b[1G\u001b[A\u001b[2K\u001b[1G\u001b[A\u001b[2K\u001b[1G\u001b[A\u001b[2K\u001b[1G\u001b[A\u001b[2K\u001b[1G\u001b[A\u001b[2K\u001b[1Gpulling manifest \n",
            "pulling b559938ab7a0... 100% ▕▏ 7.1 GB                         \n",
            "pulling f023d1ce0e55... 100% ▕▏  688 B                         \n",
            "pulling 43070e2d4e53... 100% ▕▏  11 KB                         \n",
            "pulling ed11eda7790d... 100% ▕▏   30 B                         \n",
            "pulling 65d37de20e59... 100% ▕▏  486 B                         \n",
            "verifying sha256 digest ⠋ \u001b[?25h\u001b[?25l\u001b[2K\u001b[1G\u001b[A\u001b[2K\u001b[1G\u001b[A\u001b[2K\u001b[1G\u001b[A\u001b[2K\u001b[1G\u001b[A\u001b[2K\u001b[1G\u001b[A\u001b[2K\u001b[1G\u001b[A\u001b[2K\u001b[1Gpulling manifest \n",
            "pulling b559938ab7a0... 100% ▕▏ 7.1 GB                         \n",
            "pulling f023d1ce0e55... 100% ▕▏  688 B                         \n",
            "pulling 43070e2d4e53... 100% ▕▏  11 KB                         \n",
            "pulling ed11eda7790d... 100% ▕▏   30 B                         \n",
            "pulling 65d37de20e59... 100% ▕▏  486 B                         \n",
            "verifying sha256 digest ⠙ \u001b[?25h\u001b[?25l\u001b[2K\u001b[1G\u001b[A\u001b[2K\u001b[1G\u001b[A\u001b[2K\u001b[1G\u001b[A\u001b[2K\u001b[1G\u001b[A\u001b[2K\u001b[1G\u001b[A\u001b[2K\u001b[1G\u001b[A\u001b[2K\u001b[1Gpulling manifest \n",
            "pulling b559938ab7a0... 100% ▕▏ 7.1 GB                         \n",
            "pulling f023d1ce0e55... 100% ▕▏  688 B                         \n",
            "pulling 43070e2d4e53... 100% ▕▏  11 KB                         \n",
            "pulling ed11eda7790d... 100% ▕▏   30 B                         \n",
            "pulling 65d37de20e59... 100% ▕▏  486 B                         \n",
            "verifying sha256 digest ⠹ \u001b[?25h\u001b[?25l\u001b[2K\u001b[1G\u001b[A\u001b[2K\u001b[1G\u001b[A\u001b[2K\u001b[1G\u001b[A\u001b[2K\u001b[1G\u001b[A\u001b[2K\u001b[1G\u001b[A\u001b[2K\u001b[1G\u001b[A\u001b[2K\u001b[1Gpulling manifest \n",
            "pulling b559938ab7a0... 100% ▕▏ 7.1 GB                         \n",
            "pulling f023d1ce0e55... 100% ▕▏  688 B                         \n",
            "pulling 43070e2d4e53... 100% ▕▏  11 KB                         \n",
            "pulling ed11eda7790d... 100% ▕▏   30 B                         \n",
            "pulling 65d37de20e59... 100% ▕▏  486 B                         \n",
            "verifying sha256 digest ⠸ \u001b[?25h\u001b[?25l\u001b[2K\u001b[1G\u001b[A\u001b[2K\u001b[1G\u001b[A\u001b[2K\u001b[1G\u001b[A\u001b[2K\u001b[1G\u001b[A\u001b[2K\u001b[1G\u001b[A\u001b[2K\u001b[1G\u001b[A\u001b[2K\u001b[1Gpulling manifest \n",
            "pulling b559938ab7a0... 100% ▕▏ 7.1 GB                         \n",
            "pulling f023d1ce0e55... 100% ▕▏  688 B                         \n",
            "pulling 43070e2d4e53... 100% ▕▏  11 KB                         \n",
            "pulling ed11eda7790d... 100% ▕▏   30 B                         \n",
            "pulling 65d37de20e59... 100% ▕▏  486 B                         \n",
            "verifying sha256 digest ⠼ \u001b[?25h\u001b[?25l\u001b[2K\u001b[1G\u001b[A\u001b[2K\u001b[1G\u001b[A\u001b[2K\u001b[1G\u001b[A\u001b[2K\u001b[1G\u001b[A\u001b[2K\u001b[1G\u001b[A\u001b[2K\u001b[1G\u001b[A\u001b[2K\u001b[1Gpulling manifest \n",
            "pulling b559938ab7a0... 100% ▕▏ 7.1 GB                         \n",
            "pulling f023d1ce0e55... 100% ▕▏  688 B                         \n",
            "pulling 43070e2d4e53... 100% ▕▏  11 KB                         \n",
            "pulling ed11eda7790d... 100% ▕▏   30 B                         \n",
            "pulling 65d37de20e59... 100% ▕▏  486 B                         \n",
            "verifying sha256 digest ⠴ \u001b[?25h\u001b[?25l\u001b[2K\u001b[1G\u001b[A\u001b[2K\u001b[1G\u001b[A\u001b[2K\u001b[1G\u001b[A\u001b[2K\u001b[1G\u001b[A\u001b[2K\u001b[1G\u001b[A\u001b[2K\u001b[1G\u001b[A\u001b[2K\u001b[1Gpulling manifest \n",
            "pulling b559938ab7a0... 100% ▕▏ 7.1 GB                         \n",
            "pulling f023d1ce0e55... 100% ▕▏  688 B                         \n",
            "pulling 43070e2d4e53... 100% ▕▏  11 KB                         \n",
            "pulling ed11eda7790d... 100% ▕▏   30 B                         \n",
            "pulling 65d37de20e59... 100% ▕▏  486 B                         \n",
            "verifying sha256 digest ⠦ \u001b[?25h\u001b[?25l\u001b[2K\u001b[1G\u001b[A\u001b[2K\u001b[1G\u001b[A\u001b[2K\u001b[1G\u001b[A\u001b[2K\u001b[1G\u001b[A\u001b[2K\u001b[1G\u001b[A\u001b[2K\u001b[1G\u001b[A\u001b[2K\u001b[1Gpulling manifest \n",
            "pulling b559938ab7a0... 100% ▕▏ 7.1 GB                         \n",
            "pulling f023d1ce0e55... 100% ▕▏  688 B                         \n",
            "pulling 43070e2d4e53... 100% ▕▏  11 KB                         \n",
            "pulling ed11eda7790d... 100% ▕▏   30 B                         \n",
            "pulling 65d37de20e59... 100% ▕▏  486 B                         \n",
            "verifying sha256 digest ⠧ \u001b[?25h\u001b[?25l\u001b[2K\u001b[1G\u001b[A\u001b[2K\u001b[1G\u001b[A\u001b[2K\u001b[1G\u001b[A\u001b[2K\u001b[1G\u001b[A\u001b[2K\u001b[1G\u001b[A\u001b[2K\u001b[1G\u001b[A\u001b[2K\u001b[1Gpulling manifest \n",
            "pulling b559938ab7a0... 100% ▕▏ 7.1 GB                         \n",
            "pulling f023d1ce0e55... 100% ▕▏  688 B                         \n",
            "pulling 43070e2d4e53... 100% ▕▏  11 KB                         \n",
            "pulling ed11eda7790d... 100% ▕▏   30 B                         \n",
            "pulling 65d37de20e59... 100% ▕▏  486 B                         \n",
            "verifying sha256 digest ⠇ \u001b[?25h\u001b[?25l\u001b[2K\u001b[1G\u001b[A\u001b[2K\u001b[1G\u001b[A\u001b[2K\u001b[1G\u001b[A\u001b[2K\u001b[1G\u001b[A\u001b[2K\u001b[1G\u001b[A\u001b[2K\u001b[1G\u001b[A\u001b[2K\u001b[1Gpulling manifest \n",
            "pulling b559938ab7a0... 100% ▕▏ 7.1 GB                         \n",
            "pulling f023d1ce0e55... 100% ▕▏  688 B                         \n",
            "pulling 43070e2d4e53... 100% ▕▏  11 KB                         \n",
            "pulling ed11eda7790d... 100% ▕▏   30 B                         \n",
            "pulling 65d37de20e59... 100% ▕▏  486 B                         \n",
            "verifying sha256 digest ⠏ \u001b[?25h\u001b[?25l\u001b[2K\u001b[1G\u001b[A\u001b[2K\u001b[1G\u001b[A\u001b[2K\u001b[1G\u001b[A\u001b[2K\u001b[1G\u001b[A\u001b[2K\u001b[1G\u001b[A\u001b[2K\u001b[1G\u001b[A\u001b[2K\u001b[1Gpulling manifest \n",
            "pulling b559938ab7a0... 100% ▕▏ 7.1 GB                         \n",
            "pulling f023d1ce0e55... 100% ▕▏  688 B                         \n",
            "pulling 43070e2d4e53... 100% ▕▏  11 KB                         \n",
            "pulling ed11eda7790d... 100% ▕▏   30 B                         \n",
            "pulling 65d37de20e59... 100% ▕▏  486 B                         \n",
            "verifying sha256 digest ⠋ \u001b[?25h\u001b[?25l\u001b[2K\u001b[1G\u001b[A\u001b[2K\u001b[1G\u001b[A\u001b[2K\u001b[1G\u001b[A\u001b[2K\u001b[1G\u001b[A\u001b[2K\u001b[1G\u001b[A\u001b[2K\u001b[1G\u001b[A\u001b[2K\u001b[1Gpulling manifest \n",
            "pulling b559938ab7a0... 100% ▕▏ 7.1 GB                         \n",
            "pulling f023d1ce0e55... 100% ▕▏  688 B                         \n",
            "pulling 43070e2d4e53... 100% ▕▏  11 KB                         \n",
            "pulling ed11eda7790d... 100% ▕▏   30 B                         \n",
            "pulling 65d37de20e59... 100% ▕▏  486 B                         \n",
            "verifying sha256 digest ⠙ \u001b[?25h\u001b[?25l\u001b[2K\u001b[1G\u001b[A\u001b[2K\u001b[1G\u001b[A\u001b[2K\u001b[1G\u001b[A\u001b[2K\u001b[1G\u001b[A\u001b[2K\u001b[1G\u001b[A\u001b[2K\u001b[1G\u001b[A\u001b[2K\u001b[1Gpulling manifest \n",
            "pulling b559938ab7a0... 100% ▕▏ 7.1 GB                         \n",
            "pulling f023d1ce0e55... 100% ▕▏  688 B                         \n",
            "pulling 43070e2d4e53... 100% ▕▏  11 KB                         \n",
            "pulling ed11eda7790d... 100% ▕▏   30 B                         \n",
            "pulling 65d37de20e59... 100% ▕▏  486 B                         \n",
            "verifying sha256 digest ⠹ \u001b[?25h\u001b[?25l\u001b[2K\u001b[1G\u001b[A\u001b[2K\u001b[1G\u001b[A\u001b[2K\u001b[1G\u001b[A\u001b[2K\u001b[1G\u001b[A\u001b[2K\u001b[1G\u001b[A\u001b[2K\u001b[1G\u001b[A\u001b[2K\u001b[1Gpulling manifest \n",
            "pulling b559938ab7a0... 100% ▕▏ 7.1 GB                         \n",
            "pulling f023d1ce0e55... 100% ▕▏  688 B                         \n",
            "pulling 43070e2d4e53... 100% ▕▏  11 KB                         \n",
            "pulling ed11eda7790d... 100% ▕▏   30 B                         \n",
            "pulling 65d37de20e59... 100% ▕▏  486 B                         \n",
            "verifying sha256 digest ⠸ \u001b[?25h\u001b[?25l\u001b[2K\u001b[1G\u001b[A\u001b[2K\u001b[1G\u001b[A\u001b[2K\u001b[1G\u001b[A\u001b[2K\u001b[1G\u001b[A\u001b[2K\u001b[1G\u001b[A\u001b[2K\u001b[1G\u001b[A\u001b[2K\u001b[1Gpulling manifest \n",
            "pulling b559938ab7a0... 100% ▕▏ 7.1 GB                         \n",
            "pulling f023d1ce0e55... 100% ▕▏  688 B                         \n",
            "pulling 43070e2d4e53... 100% ▕▏  11 KB                         \n",
            "pulling ed11eda7790d... 100% ▕▏   30 B                         \n",
            "pulling 65d37de20e59... 100% ▕▏  486 B                         \n",
            "verifying sha256 digest ⠼ \u001b[?25h\u001b[?25l\u001b[2K\u001b[1G\u001b[A\u001b[2K\u001b[1G\u001b[A\u001b[2K\u001b[1G\u001b[A\u001b[2K\u001b[1G\u001b[A\u001b[2K\u001b[1G\u001b[A\u001b[2K\u001b[1G\u001b[A\u001b[2K\u001b[1Gpulling manifest \n",
            "pulling b559938ab7a0... 100% ▕▏ 7.1 GB                         \n",
            "pulling f023d1ce0e55... 100% ▕▏  688 B                         \n",
            "pulling 43070e2d4e53... 100% ▕▏  11 KB                         \n",
            "pulling ed11eda7790d... 100% ▕▏   30 B                         \n",
            "pulling 65d37de20e59... 100% ▕▏  486 B                         \n",
            "verifying sha256 digest ⠴ \u001b[?25h\u001b[?25l\u001b[2K\u001b[1G\u001b[A\u001b[2K\u001b[1G\u001b[A\u001b[2K\u001b[1G\u001b[A\u001b[2K\u001b[1G\u001b[A\u001b[2K\u001b[1G\u001b[A\u001b[2K\u001b[1G\u001b[A\u001b[2K\u001b[1Gpulling manifest \n",
            "pulling b559938ab7a0... 100% ▕▏ 7.1 GB                         \n",
            "pulling f023d1ce0e55... 100% ▕▏  688 B                         \n",
            "pulling 43070e2d4e53... 100% ▕▏  11 KB                         \n",
            "pulling ed11eda7790d... 100% ▕▏   30 B                         \n",
            "pulling 65d37de20e59... 100% ▕▏  486 B                         \n",
            "verifying sha256 digest ⠦ \u001b[?25h\u001b[?25l\u001b[2K\u001b[1G\u001b[A\u001b[2K\u001b[1G\u001b[A\u001b[2K\u001b[1G\u001b[A\u001b[2K\u001b[1G\u001b[A\u001b[2K\u001b[1G\u001b[A\u001b[2K\u001b[1G\u001b[A\u001b[2K\u001b[1Gpulling manifest \n",
            "pulling b559938ab7a0... 100% ▕▏ 7.1 GB                         \n",
            "pulling f023d1ce0e55... 100% ▕▏  688 B                         \n",
            "pulling 43070e2d4e53... 100% ▕▏  11 KB                         \n",
            "pulling ed11eda7790d... 100% ▕▏   30 B                         \n",
            "pulling 65d37de20e59... 100% ▕▏  486 B                         \n",
            "verifying sha256 digest ⠧ \u001b[?25h\u001b[?25l\u001b[2K\u001b[1G\u001b[A\u001b[2K\u001b[1G\u001b[A\u001b[2K\u001b[1G\u001b[A\u001b[2K\u001b[1G\u001b[A\u001b[2K\u001b[1G\u001b[A\u001b[2K\u001b[1G\u001b[A\u001b[2K\u001b[1Gpulling manifest \n",
            "pulling b559938ab7a0... 100% ▕▏ 7.1 GB                         \n",
            "pulling f023d1ce0e55... 100% ▕▏  688 B                         \n",
            "pulling 43070e2d4e53... 100% ▕▏  11 KB                         \n",
            "pulling ed11eda7790d... 100% ▕▏   30 B                         \n",
            "pulling 65d37de20e59... 100% ▕▏  486 B                         \n",
            "verifying sha256 digest ⠇ \u001b[?25h\u001b[?25l\u001b[2K\u001b[1G\u001b[A\u001b[2K\u001b[1G\u001b[A\u001b[2K\u001b[1G\u001b[A\u001b[2K\u001b[1G\u001b[A\u001b[2K\u001b[1G\u001b[A\u001b[2K\u001b[1G\u001b[A\u001b[2K\u001b[1Gpulling manifest \n",
            "pulling b559938ab7a0... 100% ▕▏ 7.1 GB                         \n",
            "pulling f023d1ce0e55... 100% ▕▏  688 B                         \n",
            "pulling 43070e2d4e53... 100% ▕▏  11 KB                         \n",
            "pulling ed11eda7790d... 100% ▕▏   30 B                         \n",
            "pulling 65d37de20e59... 100% ▕▏  486 B                         \n",
            "verifying sha256 digest ⠏ \u001b[?25h\u001b[?25l\u001b[2K\u001b[1G\u001b[A\u001b[2K\u001b[1G\u001b[A\u001b[2K\u001b[1G\u001b[A\u001b[2K\u001b[1G\u001b[A\u001b[2K\u001b[1G\u001b[A\u001b[2K\u001b[1G\u001b[A\u001b[2K\u001b[1Gpulling manifest \n",
            "pulling b559938ab7a0... 100% ▕▏ 7.1 GB                         \n",
            "pulling f023d1ce0e55... 100% ▕▏  688 B                         \n",
            "pulling 43070e2d4e53... 100% ▕▏  11 KB                         \n",
            "pulling ed11eda7790d... 100% ▕▏   30 B                         \n",
            "pulling 65d37de20e59... 100% ▕▏  486 B                         \n",
            "verifying sha256 digest ⠋ \u001b[?25h\u001b[?25l\u001b[2K\u001b[1G\u001b[A\u001b[2K\u001b[1G\u001b[A\u001b[2K\u001b[1G\u001b[A\u001b[2K\u001b[1G\u001b[A\u001b[2K\u001b[1G\u001b[A\u001b[2K\u001b[1G\u001b[A\u001b[2K\u001b[1Gpulling manifest \n",
            "pulling b559938ab7a0... 100% ▕▏ 7.1 GB                         \n",
            "pulling f023d1ce0e55... 100% ▕▏  688 B                         \n",
            "pulling 43070e2d4e53... 100% ▕▏  11 KB                         \n",
            "pulling ed11eda7790d... 100% ▕▏   30 B                         \n",
            "pulling 65d37de20e59... 100% ▕▏  486 B                         \n",
            "verifying sha256 digest ⠙ \u001b[?25h\u001b[?25l\u001b[2K\u001b[1G\u001b[A\u001b[2K\u001b[1G\u001b[A\u001b[2K\u001b[1G\u001b[A\u001b[2K\u001b[1G\u001b[A\u001b[2K\u001b[1G\u001b[A\u001b[2K\u001b[1G\u001b[A\u001b[2K\u001b[1Gpulling manifest \n",
            "pulling b559938ab7a0... 100% ▕▏ 7.1 GB                         \n",
            "pulling f023d1ce0e55... 100% ▕▏  688 B                         \n",
            "pulling 43070e2d4e53... 100% ▕▏  11 KB                         \n",
            "pulling ed11eda7790d... 100% ▕▏   30 B                         \n",
            "pulling 65d37de20e59... 100% ▕▏  486 B                         \n",
            "verifying sha256 digest ⠹ \u001b[?25h\u001b[?25l\u001b[2K\u001b[1G\u001b[A\u001b[2K\u001b[1G\u001b[A\u001b[2K\u001b[1G\u001b[A\u001b[2K\u001b[1G\u001b[A\u001b[2K\u001b[1G\u001b[A\u001b[2K\u001b[1G\u001b[A\u001b[2K\u001b[1Gpulling manifest \n",
            "pulling b559938ab7a0... 100% ▕▏ 7.1 GB                         \n",
            "pulling f023d1ce0e55... 100% ▕▏  688 B                         \n",
            "pulling 43070e2d4e53... 100% ▕▏  11 KB                         \n",
            "pulling ed11eda7790d... 100% ▕▏   30 B                         \n",
            "pulling 65d37de20e59... 100% ▕▏  486 B                         \n",
            "verifying sha256 digest ⠸ \u001b[?25h\u001b[?25l\u001b[2K\u001b[1G\u001b[A\u001b[2K\u001b[1G\u001b[A\u001b[2K\u001b[1G\u001b[A\u001b[2K\u001b[1G\u001b[A\u001b[2K\u001b[1G\u001b[A\u001b[2K\u001b[1G\u001b[A\u001b[2K\u001b[1Gpulling manifest \n",
            "pulling b559938ab7a0... 100% ▕▏ 7.1 GB                         \n",
            "pulling f023d1ce0e55... 100% ▕▏  688 B                         \n",
            "pulling 43070e2d4e53... 100% ▕▏  11 KB                         \n",
            "pulling ed11eda7790d... 100% ▕▏   30 B                         \n",
            "pulling 65d37de20e59... 100% ▕▏  486 B                         \n",
            "verifying sha256 digest ⠼ \u001b[?25h\u001b[?25l\u001b[2K\u001b[1G\u001b[A\u001b[2K\u001b[1G\u001b[A\u001b[2K\u001b[1G\u001b[A\u001b[2K\u001b[1G\u001b[A\u001b[2K\u001b[1G\u001b[A\u001b[2K\u001b[1G\u001b[A\u001b[2K\u001b[1Gpulling manifest \n",
            "pulling b559938ab7a0... 100% ▕▏ 7.1 GB                         \n",
            "pulling f023d1ce0e55... 100% ▕▏  688 B                         \n",
            "pulling 43070e2d4e53... 100% ▕▏  11 KB                         \n",
            "pulling ed11eda7790d... 100% ▕▏   30 B                         \n",
            "pulling 65d37de20e59... 100% ▕▏  486 B                         \n",
            "verifying sha256 digest ⠴ \u001b[?25h\u001b[?25l\u001b[2K\u001b[1G\u001b[A\u001b[2K\u001b[1G\u001b[A\u001b[2K\u001b[1G\u001b[A\u001b[2K\u001b[1G\u001b[A\u001b[2K\u001b[1G\u001b[A\u001b[2K\u001b[1G\u001b[A\u001b[2K\u001b[1Gpulling manifest \n",
            "pulling b559938ab7a0... 100% ▕▏ 7.1 GB                         \n",
            "pulling f023d1ce0e55... 100% ▕▏  688 B                         \n",
            "pulling 43070e2d4e53... 100% ▕▏  11 KB                         \n",
            "pulling ed11eda7790d... 100% ▕▏   30 B                         \n",
            "pulling 65d37de20e59... 100% ▕▏  486 B                         \n",
            "verifying sha256 digest ⠦ \u001b[?25h\u001b[?25l\u001b[2K\u001b[1G\u001b[A\u001b[2K\u001b[1G\u001b[A\u001b[2K\u001b[1G\u001b[A\u001b[2K\u001b[1G\u001b[A\u001b[2K\u001b[1G\u001b[A\u001b[2K\u001b[1G\u001b[A\u001b[2K\u001b[1Gpulling manifest \n",
            "pulling b559938ab7a0... 100% ▕▏ 7.1 GB                         \n",
            "pulling f023d1ce0e55... 100% ▕▏  688 B                         \n",
            "pulling 43070e2d4e53... 100% ▕▏  11 KB                         \n",
            "pulling ed11eda7790d... 100% ▕▏   30 B                         \n",
            "pulling 65d37de20e59... 100% ▕▏  486 B                         \n",
            "verifying sha256 digest ⠧ \u001b[?25h\u001b[?25l\u001b[2K\u001b[1G\u001b[A\u001b[2K\u001b[1G\u001b[A\u001b[2K\u001b[1G\u001b[A\u001b[2K\u001b[1G\u001b[A\u001b[2K\u001b[1G\u001b[A\u001b[2K\u001b[1G\u001b[A\u001b[2K\u001b[1Gpulling manifest \n",
            "pulling b559938ab7a0... 100% ▕▏ 7.1 GB                         \n",
            "pulling f023d1ce0e55... 100% ▕▏  688 B                         \n",
            "pulling 43070e2d4e53... 100% ▕▏  11 KB                         \n",
            "pulling ed11eda7790d... 100% ▕▏   30 B                         \n",
            "pulling 65d37de20e59... 100% ▕▏  486 B                         \n",
            "verifying sha256 digest ⠇ \u001b[?25h\u001b[?25l\u001b[2K\u001b[1G\u001b[A\u001b[2K\u001b[1G\u001b[A\u001b[2K\u001b[1G\u001b[A\u001b[2K\u001b[1G\u001b[A\u001b[2K\u001b[1G\u001b[A\u001b[2K\u001b[1G\u001b[A\u001b[2K\u001b[1Gpulling manifest \n",
            "pulling b559938ab7a0... 100% ▕▏ 7.1 GB                         \n",
            "pulling f023d1ce0e55... 100% ▕▏  688 B                         \n",
            "pulling 43070e2d4e53... 100% ▕▏  11 KB                         \n",
            "pulling ed11eda7790d... 100% ▕▏   30 B                         \n",
            "pulling 65d37de20e59... 100% ▕▏  486 B                         \n",
            "verifying sha256 digest ⠏ \u001b[?25h\u001b[?25l\u001b[2K\u001b[1G\u001b[A\u001b[2K\u001b[1G\u001b[A\u001b[2K\u001b[1G\u001b[A\u001b[2K\u001b[1G\u001b[A\u001b[2K\u001b[1G\u001b[A\u001b[2K\u001b[1G\u001b[A\u001b[2K\u001b[1Gpulling manifest \n",
            "pulling b559938ab7a0... 100% ▕▏ 7.1 GB                         \n",
            "pulling f023d1ce0e55... 100% ▕▏  688 B                         \n",
            "pulling 43070e2d4e53... 100% ▕▏  11 KB                         \n",
            "pulling ed11eda7790d... 100% ▕▏   30 B                         \n",
            "pulling 65d37de20e59... 100% ▕▏  486 B                         \n",
            "verifying sha256 digest ⠋ \u001b[?25h\u001b[?25l\u001b[2K\u001b[1G\u001b[A\u001b[2K\u001b[1G\u001b[A\u001b[2K\u001b[1G\u001b[A\u001b[2K\u001b[1G\u001b[A\u001b[2K\u001b[1G\u001b[A\u001b[2K\u001b[1G\u001b[A\u001b[2K\u001b[1Gpulling manifest \n",
            "pulling b559938ab7a0... 100% ▕▏ 7.1 GB                         \n",
            "pulling f023d1ce0e55... 100% ▕▏  688 B                         \n",
            "pulling 43070e2d4e53... 100% ▕▏  11 KB                         \n",
            "pulling ed11eda7790d... 100% ▕▏   30 B                         \n",
            "pulling 65d37de20e59... 100% ▕▏  486 B                         \n",
            "verifying sha256 digest ⠙ \u001b[?25h\u001b[?25l\u001b[2K\u001b[1G\u001b[A\u001b[2K\u001b[1G\u001b[A\u001b[2K\u001b[1G\u001b[A\u001b[2K\u001b[1G\u001b[A\u001b[2K\u001b[1G\u001b[A\u001b[2K\u001b[1G\u001b[A\u001b[2K\u001b[1Gpulling manifest \n",
            "pulling b559938ab7a0... 100% ▕▏ 7.1 GB                         \n",
            "pulling f023d1ce0e55... 100% ▕▏  688 B                         \n",
            "pulling 43070e2d4e53... 100% ▕▏  11 KB                         \n",
            "pulling ed11eda7790d... 100% ▕▏   30 B                         \n",
            "pulling 65d37de20e59... 100% ▕▏  486 B                         \n",
            "verifying sha256 digest ⠹ \u001b[?25h\u001b[?25l\u001b[2K\u001b[1G\u001b[A\u001b[2K\u001b[1G\u001b[A\u001b[2K\u001b[1G\u001b[A\u001b[2K\u001b[1G\u001b[A\u001b[2K\u001b[1G\u001b[A\u001b[2K\u001b[1G\u001b[A\u001b[2K\u001b[1Gpulling manifest \n",
            "pulling b559938ab7a0... 100% ▕▏ 7.1 GB                         \n",
            "pulling f023d1ce0e55... 100% ▕▏  688 B                         \n",
            "pulling 43070e2d4e53... 100% ▕▏  11 KB                         \n",
            "pulling ed11eda7790d... 100% ▕▏   30 B                         \n",
            "pulling 65d37de20e59... 100% ▕▏  486 B                         \n",
            "verifying sha256 digest ⠸ \u001b[?25h\u001b[?25l\u001b[2K\u001b[1G\u001b[A\u001b[2K\u001b[1G\u001b[A\u001b[2K\u001b[1G\u001b[A\u001b[2K\u001b[1G\u001b[A\u001b[2K\u001b[1G\u001b[A\u001b[2K\u001b[1G\u001b[A\u001b[2K\u001b[1Gpulling manifest \n",
            "pulling b559938ab7a0... 100% ▕▏ 7.1 GB                         \n",
            "pulling f023d1ce0e55... 100% ▕▏  688 B                         \n",
            "pulling 43070e2d4e53... 100% ▕▏  11 KB                         \n",
            "pulling ed11eda7790d... 100% ▕▏   30 B                         \n",
            "pulling 65d37de20e59... 100% ▕▏  486 B                         \n",
            "verifying sha256 digest ⠼ \u001b[?25h\u001b[?25l\u001b[2K\u001b[1G\u001b[A\u001b[2K\u001b[1G\u001b[A\u001b[2K\u001b[1G\u001b[A\u001b[2K\u001b[1G\u001b[A\u001b[2K\u001b[1G\u001b[A\u001b[2K\u001b[1G\u001b[A\u001b[2K\u001b[1Gpulling manifest \n",
            "pulling b559938ab7a0... 100% ▕▏ 7.1 GB                         \n",
            "pulling f023d1ce0e55... 100% ▕▏  688 B                         \n",
            "pulling 43070e2d4e53... 100% ▕▏  11 KB                         \n",
            "pulling ed11eda7790d... 100% ▕▏   30 B                         \n",
            "pulling 65d37de20e59... 100% ▕▏  486 B                         \n",
            "verifying sha256 digest ⠴ \u001b[?25h\u001b[?25l\u001b[2K\u001b[1G\u001b[A\u001b[2K\u001b[1G\u001b[A\u001b[2K\u001b[1G\u001b[A\u001b[2K\u001b[1G\u001b[A\u001b[2K\u001b[1G\u001b[A\u001b[2K\u001b[1G\u001b[A\u001b[2K\u001b[1Gpulling manifest \n",
            "pulling b559938ab7a0... 100% ▕▏ 7.1 GB                         \n",
            "pulling f023d1ce0e55... 100% ▕▏  688 B                         \n",
            "pulling 43070e2d4e53... 100% ▕▏  11 KB                         \n",
            "pulling ed11eda7790d... 100% ▕▏   30 B                         \n",
            "pulling 65d37de20e59... 100% ▕▏  486 B                         \n",
            "verifying sha256 digest ⠦ \u001b[?25h\u001b[?25l\u001b[2K\u001b[1G\u001b[A\u001b[2K\u001b[1G\u001b[A\u001b[2K\u001b[1G\u001b[A\u001b[2K\u001b[1G\u001b[A\u001b[2K\u001b[1G\u001b[A\u001b[2K\u001b[1G\u001b[A\u001b[2K\u001b[1Gpulling manifest \n",
            "pulling b559938ab7a0... 100% ▕▏ 7.1 GB                         \n",
            "pulling f023d1ce0e55... 100% ▕▏  688 B                         \n",
            "pulling 43070e2d4e53... 100% ▕▏  11 KB                         \n",
            "pulling ed11eda7790d... 100% ▕▏   30 B                         \n",
            "pulling 65d37de20e59... 100% ▕▏  486 B                         \n",
            "verifying sha256 digest ⠧ \u001b[?25h\u001b[?25l\u001b[2K\u001b[1G\u001b[A\u001b[2K\u001b[1G\u001b[A\u001b[2K\u001b[1G\u001b[A\u001b[2K\u001b[1G\u001b[A\u001b[2K\u001b[1G\u001b[A\u001b[2K\u001b[1G\u001b[A\u001b[2K\u001b[1Gpulling manifest \n",
            "pulling b559938ab7a0... 100% ▕▏ 7.1 GB                         \n",
            "pulling f023d1ce0e55... 100% ▕▏  688 B                         \n",
            "pulling 43070e2d4e53... 100% ▕▏  11 KB                         \n",
            "pulling ed11eda7790d... 100% ▕▏   30 B                         \n",
            "pulling 65d37de20e59... 100% ▕▏  486 B                         \n",
            "verifying sha256 digest ⠇ \u001b[?25h\u001b[?25l\u001b[2K\u001b[1G\u001b[A\u001b[2K\u001b[1G\u001b[A\u001b[2K\u001b[1G\u001b[A\u001b[2K\u001b[1G\u001b[A\u001b[2K\u001b[1G\u001b[A\u001b[2K\u001b[1G\u001b[A\u001b[2K\u001b[1Gpulling manifest \n",
            "pulling b559938ab7a0... 100% ▕▏ 7.1 GB                         \n",
            "pulling f023d1ce0e55... 100% ▕▏  688 B                         \n",
            "pulling 43070e2d4e53... 100% ▕▏  11 KB                         \n",
            "pulling ed11eda7790d... 100% ▕▏   30 B                         \n",
            "pulling 65d37de20e59... 100% ▕▏  486 B                         \n",
            "verifying sha256 digest ⠏ \u001b[?25h\u001b[?25l\u001b[2K\u001b[1G\u001b[A\u001b[2K\u001b[1G\u001b[A\u001b[2K\u001b[1G\u001b[A\u001b[2K\u001b[1G\u001b[A\u001b[2K\u001b[1G\u001b[A\u001b[2K\u001b[1G\u001b[A\u001b[2K\u001b[1Gpulling manifest \n",
            "pulling b559938ab7a0... 100% ▕▏ 7.1 GB                         \n",
            "pulling f023d1ce0e55... 100% ▕▏  688 B                         \n",
            "pulling 43070e2d4e53... 100% ▕▏  11 KB                         \n",
            "pulling ed11eda7790d... 100% ▕▏   30 B                         \n",
            "pulling 65d37de20e59... 100% ▕▏  486 B                         \n",
            "verifying sha256 digest ⠋ \u001b[?25h\u001b[?25l\u001b[2K\u001b[1G\u001b[A\u001b[2K\u001b[1G\u001b[A\u001b[2K\u001b[1G\u001b[A\u001b[2K\u001b[1G\u001b[A\u001b[2K\u001b[1G\u001b[A\u001b[2K\u001b[1G\u001b[A\u001b[2K\u001b[1Gpulling manifest \n",
            "pulling b559938ab7a0... 100% ▕▏ 7.1 GB                         \n",
            "pulling f023d1ce0e55... 100% ▕▏  688 B                         \n",
            "pulling 43070e2d4e53... 100% ▕▏  11 KB                         \n",
            "pulling ed11eda7790d... 100% ▕▏   30 B                         \n",
            "pulling 65d37de20e59... 100% ▕▏  486 B                         \n",
            "verifying sha256 digest ⠙ \u001b[?25h\u001b[?25l\u001b[2K\u001b[1G\u001b[A\u001b[2K\u001b[1G\u001b[A\u001b[2K\u001b[1G\u001b[A\u001b[2K\u001b[1G\u001b[A\u001b[2K\u001b[1G\u001b[A\u001b[2K\u001b[1G\u001b[A\u001b[2K\u001b[1Gpulling manifest \n",
            "pulling b559938ab7a0... 100% ▕▏ 7.1 GB                         \n",
            "pulling f023d1ce0e55... 100% ▕▏  688 B                         \n",
            "pulling 43070e2d4e53... 100% ▕▏  11 KB                         \n",
            "pulling ed11eda7790d... 100% ▕▏   30 B                         \n",
            "pulling 65d37de20e59... 100% ▕▏  486 B                         \n",
            "verifying sha256 digest ⠹ \u001b[?25h\u001b[?25l\u001b[2K\u001b[1G\u001b[A\u001b[2K\u001b[1G\u001b[A\u001b[2K\u001b[1G\u001b[A\u001b[2K\u001b[1G\u001b[A\u001b[2K\u001b[1G\u001b[A\u001b[2K\u001b[1G\u001b[A\u001b[2K\u001b[1Gpulling manifest \n",
            "pulling b559938ab7a0... 100% ▕▏ 7.1 GB                         \n",
            "pulling f023d1ce0e55... 100% ▕▏  688 B                         \n",
            "pulling 43070e2d4e53... 100% ▕▏  11 KB                         \n",
            "pulling ed11eda7790d... 100% ▕▏   30 B                         \n",
            "pulling 65d37de20e59... 100% ▕▏  486 B                         \n",
            "verifying sha256 digest ⠸ \u001b[?25h\u001b[?25l\u001b[2K\u001b[1G\u001b[A\u001b[2K\u001b[1G\u001b[A\u001b[2K\u001b[1G\u001b[A\u001b[2K\u001b[1G\u001b[A\u001b[2K\u001b[1G\u001b[A\u001b[2K\u001b[1G\u001b[A\u001b[2K\u001b[1Gpulling manifest \n",
            "pulling b559938ab7a0... 100% ▕▏ 7.1 GB                         \n",
            "pulling f023d1ce0e55... 100% ▕▏  688 B                         \n",
            "pulling 43070e2d4e53... 100% ▕▏  11 KB                         \n",
            "pulling ed11eda7790d... 100% ▕▏   30 B                         \n",
            "pulling 65d37de20e59... 100% ▕▏  486 B                         \n",
            "verifying sha256 digest ⠼ \u001b[?25h\u001b[?25l\u001b[2K\u001b[1G\u001b[A\u001b[2K\u001b[1G\u001b[A\u001b[2K\u001b[1G\u001b[A\u001b[2K\u001b[1G\u001b[A\u001b[2K\u001b[1G\u001b[A\u001b[2K\u001b[1G\u001b[A\u001b[2K\u001b[1Gpulling manifest \n",
            "pulling b559938ab7a0... 100% ▕▏ 7.1 GB                         \n",
            "pulling f023d1ce0e55... 100% ▕▏  688 B                         \n",
            "pulling 43070e2d4e53... 100% ▕▏  11 KB                         \n",
            "pulling ed11eda7790d... 100% ▕▏   30 B                         \n",
            "pulling 65d37de20e59... 100% ▕▏  486 B                         \n",
            "verifying sha256 digest ⠴ \u001b[?25h\u001b[?25l\u001b[2K\u001b[1G\u001b[A\u001b[2K\u001b[1G\u001b[A\u001b[2K\u001b[1G\u001b[A\u001b[2K\u001b[1G\u001b[A\u001b[2K\u001b[1G\u001b[A\u001b[2K\u001b[1G\u001b[A\u001b[2K\u001b[1Gpulling manifest \n",
            "pulling b559938ab7a0... 100% ▕▏ 7.1 GB                         \n",
            "pulling f023d1ce0e55... 100% ▕▏  688 B                         \n",
            "pulling 43070e2d4e53... 100% ▕▏  11 KB                         \n",
            "pulling ed11eda7790d... 100% ▕▏   30 B                         \n",
            "pulling 65d37de20e59... 100% ▕▏  486 B                         \n",
            "verifying sha256 digest ⠦ \u001b[?25h\u001b[?25l\u001b[2K\u001b[1G\u001b[A\u001b[2K\u001b[1G\u001b[A\u001b[2K\u001b[1G\u001b[A\u001b[2K\u001b[1G\u001b[A\u001b[2K\u001b[1G\u001b[A\u001b[2K\u001b[1G\u001b[A\u001b[2K\u001b[1Gpulling manifest \n",
            "pulling b559938ab7a0... 100% ▕▏ 7.1 GB                         \n",
            "pulling f023d1ce0e55... 100% ▕▏  688 B                         \n",
            "pulling 43070e2d4e53... 100% ▕▏  11 KB                         \n",
            "pulling ed11eda7790d... 100% ▕▏   30 B                         \n",
            "pulling 65d37de20e59... 100% ▕▏  486 B                         \n",
            "verifying sha256 digest ⠧ \u001b[?25h\u001b[?25l\u001b[2K\u001b[1G\u001b[A\u001b[2K\u001b[1G\u001b[A\u001b[2K\u001b[1G\u001b[A\u001b[2K\u001b[1G\u001b[A\u001b[2K\u001b[1G\u001b[A\u001b[2K\u001b[1G\u001b[A\u001b[2K\u001b[1Gpulling manifest \n",
            "pulling b559938ab7a0... 100% ▕▏ 7.1 GB                         \n",
            "pulling f023d1ce0e55... 100% ▕▏  688 B                         \n",
            "pulling 43070e2d4e53... 100% ▕▏  11 KB                         \n",
            "pulling ed11eda7790d... 100% ▕▏   30 B                         \n",
            "pulling 65d37de20e59... 100% ▕▏  486 B                         \n",
            "verifying sha256 digest ⠇ \u001b[?25h\u001b[?25l\u001b[2K\u001b[1G\u001b[A\u001b[2K\u001b[1G\u001b[A\u001b[2K\u001b[1G\u001b[A\u001b[2K\u001b[1G\u001b[A\u001b[2K\u001b[1G\u001b[A\u001b[2K\u001b[1G\u001b[A\u001b[2K\u001b[1Gpulling manifest \n",
            "pulling b559938ab7a0... 100% ▕▏ 7.1 GB                         \n",
            "pulling f023d1ce0e55... 100% ▕▏  688 B                         \n",
            "pulling 43070e2d4e53... 100% ▕▏  11 KB                         \n",
            "pulling ed11eda7790d... 100% ▕▏   30 B                         \n",
            "pulling 65d37de20e59... 100% ▕▏  486 B                         \n",
            "verifying sha256 digest ⠏ \u001b[?25h\u001b[?25l\u001b[2K\u001b[1G\u001b[A\u001b[2K\u001b[1G\u001b[A\u001b[2K\u001b[1G\u001b[A\u001b[2K\u001b[1G\u001b[A\u001b[2K\u001b[1G\u001b[A\u001b[2K\u001b[1G\u001b[A\u001b[2K\u001b[1Gpulling manifest \n",
            "pulling b559938ab7a0... 100% ▕▏ 7.1 GB                         \n",
            "pulling f023d1ce0e55... 100% ▕▏  688 B                         \n",
            "pulling 43070e2d4e53... 100% ▕▏  11 KB                         \n",
            "pulling ed11eda7790d... 100% ▕▏   30 B                         \n",
            "pulling 65d37de20e59... 100% ▕▏  486 B                         \n",
            "verifying sha256 digest ⠋ \u001b[?25h\u001b[?25l\u001b[2K\u001b[1G\u001b[A\u001b[2K\u001b[1G\u001b[A\u001b[2K\u001b[1G\u001b[A\u001b[2K\u001b[1G\u001b[A\u001b[2K\u001b[1G\u001b[A\u001b[2K\u001b[1G\u001b[A\u001b[2K\u001b[1Gpulling manifest \n",
            "pulling b559938ab7a0... 100% ▕▏ 7.1 GB                         \n",
            "pulling f023d1ce0e55... 100% ▕▏  688 B                         \n",
            "pulling 43070e2d4e53... 100% ▕▏  11 KB                         \n",
            "pulling ed11eda7790d... 100% ▕▏   30 B                         \n",
            "pulling 65d37de20e59... 100% ▕▏  486 B                         \n",
            "verifying sha256 digest ⠙ \u001b[?25h\u001b[?25l\u001b[2K\u001b[1G\u001b[A\u001b[2K\u001b[1G\u001b[A\u001b[2K\u001b[1G\u001b[A\u001b[2K\u001b[1G\u001b[A\u001b[2K\u001b[1G\u001b[A\u001b[2K\u001b[1G\u001b[A\u001b[2K\u001b[1Gpulling manifest \n",
            "pulling b559938ab7a0... 100% ▕▏ 7.1 GB                         \n",
            "pulling f023d1ce0e55... 100% ▕▏  688 B                         \n",
            "pulling 43070e2d4e53... 100% ▕▏  11 KB                         \n",
            "pulling ed11eda7790d... 100% ▕▏   30 B                         \n",
            "pulling 65d37de20e59... 100% ▕▏  486 B                         \n",
            "verifying sha256 digest ⠹ \u001b[?25h\u001b[?25l\u001b[2K\u001b[1G\u001b[A\u001b[2K\u001b[1G\u001b[A\u001b[2K\u001b[1G\u001b[A\u001b[2K\u001b[1G\u001b[A\u001b[2K\u001b[1G\u001b[A\u001b[2K\u001b[1G\u001b[A\u001b[2K\u001b[1Gpulling manifest \n",
            "pulling b559938ab7a0... 100% ▕▏ 7.1 GB                         \n",
            "pulling f023d1ce0e55... 100% ▕▏  688 B                         \n",
            "pulling 43070e2d4e53... 100% ▕▏  11 KB                         \n",
            "pulling ed11eda7790d... 100% ▕▏   30 B                         \n",
            "pulling 65d37de20e59... 100% ▕▏  486 B                         \n",
            "verifying sha256 digest ⠹ \u001b[?25h\u001b[?25l\u001b[2K\u001b[1G\u001b[A\u001b[2K\u001b[1G\u001b[A\u001b[2K\u001b[1G\u001b[A\u001b[2K\u001b[1G\u001b[A\u001b[2K\u001b[1G\u001b[A\u001b[2K\u001b[1G\u001b[A\u001b[2K\u001b[1Gpulling manifest \n",
            "pulling b559938ab7a0... 100% ▕▏ 7.1 GB                         \n",
            "pulling f023d1ce0e55... 100% ▕▏  688 B                         \n",
            "pulling 43070e2d4e53... 100% ▕▏  11 KB                         \n",
            "pulling ed11eda7790d... 100% ▕▏   30 B                         \n",
            "pulling 65d37de20e59... 100% ▕▏  486 B                         \n",
            "verifying sha256 digest ⠼ \u001b[?25h\u001b[?25l\u001b[2K\u001b[1G\u001b[A\u001b[2K\u001b[1G\u001b[A\u001b[2K\u001b[1G\u001b[A\u001b[2K\u001b[1G\u001b[A\u001b[2K\u001b[1G\u001b[A\u001b[2K\u001b[1G\u001b[A\u001b[2K\u001b[1Gpulling manifest \n",
            "pulling b559938ab7a0... 100% ▕▏ 7.1 GB                         \n",
            "pulling f023d1ce0e55... 100% ▕▏  688 B                         \n",
            "pulling 43070e2d4e53... 100% ▕▏  11 KB                         \n",
            "pulling ed11eda7790d... 100% ▕▏   30 B                         \n",
            "pulling 65d37de20e59... 100% ▕▏  486 B                         \n",
            "verifying sha256 digest ⠴ \u001b[?25h\u001b[?25l\u001b[2K\u001b[1G\u001b[A\u001b[2K\u001b[1G\u001b[A\u001b[2K\u001b[1G\u001b[A\u001b[2K\u001b[1G\u001b[A\u001b[2K\u001b[1G\u001b[A\u001b[2K\u001b[1G\u001b[A\u001b[2K\u001b[1Gpulling manifest \n",
            "pulling b559938ab7a0... 100% ▕▏ 7.1 GB                         \n",
            "pulling f023d1ce0e55... 100% ▕▏  688 B                         \n",
            "pulling 43070e2d4e53... 100% ▕▏  11 KB                         \n",
            "pulling ed11eda7790d... 100% ▕▏   30 B                         \n",
            "pulling 65d37de20e59... 100% ▕▏  486 B                         \n",
            "verifying sha256 digest ⠦ \u001b[?25h\u001b[?25l\u001b[2K\u001b[1G\u001b[A\u001b[2K\u001b[1G\u001b[A\u001b[2K\u001b[1G\u001b[A\u001b[2K\u001b[1G\u001b[A\u001b[2K\u001b[1G\u001b[A\u001b[2K\u001b[1G\u001b[A\u001b[2K\u001b[1Gpulling manifest \n",
            "pulling b559938ab7a0... 100% ▕▏ 7.1 GB                         \n",
            "pulling f023d1ce0e55... 100% ▕▏  688 B                         \n",
            "pulling 43070e2d4e53... 100% ▕▏  11 KB                         \n",
            "pulling ed11eda7790d... 100% ▕▏   30 B                         \n",
            "pulling 65d37de20e59... 100% ▕▏  486 B                         \n",
            "verifying sha256 digest ⠧ \u001b[?25h\u001b[?25l\u001b[2K\u001b[1G\u001b[A\u001b[2K\u001b[1G\u001b[A\u001b[2K\u001b[1G\u001b[A\u001b[2K\u001b[1G\u001b[A\u001b[2K\u001b[1G\u001b[A\u001b[2K\u001b[1G\u001b[A\u001b[2K\u001b[1Gpulling manifest \n",
            "pulling b559938ab7a0... 100% ▕▏ 7.1 GB                         \n",
            "pulling f023d1ce0e55... 100% ▕▏  688 B                         \n",
            "pulling 43070e2d4e53... 100% ▕▏  11 KB                         \n",
            "pulling ed11eda7790d... 100% ▕▏   30 B                         \n",
            "pulling 65d37de20e59... 100% ▕▏  486 B                         \n",
            "verifying sha256 digest ⠇ \u001b[?25h\u001b[?25l\u001b[2K\u001b[1G\u001b[A\u001b[2K\u001b[1G\u001b[A\u001b[2K\u001b[1G\u001b[A\u001b[2K\u001b[1G\u001b[A\u001b[2K\u001b[1G\u001b[A\u001b[2K\u001b[1G\u001b[A\u001b[2K\u001b[1Gpulling manifest \n",
            "pulling b559938ab7a0... 100% ▕▏ 7.1 GB                         \n",
            "pulling f023d1ce0e55... 100% ▕▏  688 B                         \n",
            "pulling 43070e2d4e53... 100% ▕▏  11 KB                         \n",
            "pulling ed11eda7790d... 100% ▕▏   30 B                         \n",
            "pulling 65d37de20e59... 100% ▕▏  486 B                         \n",
            "verifying sha256 digest ⠏ \u001b[?25h\u001b[?25l\u001b[2K\u001b[1G\u001b[A\u001b[2K\u001b[1G\u001b[A\u001b[2K\u001b[1G\u001b[A\u001b[2K\u001b[1G\u001b[A\u001b[2K\u001b[1G\u001b[A\u001b[2K\u001b[1G\u001b[A\u001b[2K\u001b[1Gpulling manifest \n",
            "pulling b559938ab7a0... 100% ▕▏ 7.1 GB                         \n",
            "pulling f023d1ce0e55... 100% ▕▏  688 B                         \n",
            "pulling 43070e2d4e53... 100% ▕▏  11 KB                         \n",
            "pulling ed11eda7790d... 100% ▕▏   30 B                         \n",
            "pulling 65d37de20e59... 100% ▕▏  486 B                         \n",
            "verifying sha256 digest ⠋ \u001b[?25h\u001b[?25l\u001b[2K\u001b[1G\u001b[A\u001b[2K\u001b[1G\u001b[A\u001b[2K\u001b[1G\u001b[A\u001b[2K\u001b[1G\u001b[A\u001b[2K\u001b[1G\u001b[A\u001b[2K\u001b[1G\u001b[A\u001b[2K\u001b[1Gpulling manifest \n",
            "pulling b559938ab7a0... 100% ▕▏ 7.1 GB                         \n",
            "pulling f023d1ce0e55... 100% ▕▏  688 B                         \n",
            "pulling 43070e2d4e53... 100% ▕▏  11 KB                         \n",
            "pulling ed11eda7790d... 100% ▕▏   30 B                         \n",
            "pulling 65d37de20e59... 100% ▕▏  486 B                         \n",
            "verifying sha256 digest ⠙ \u001b[?25h\u001b[?25l\u001b[2K\u001b[1G\u001b[A\u001b[2K\u001b[1G\u001b[A\u001b[2K\u001b[1G\u001b[A\u001b[2K\u001b[1G\u001b[A\u001b[2K\u001b[1G\u001b[A\u001b[2K\u001b[1G\u001b[A\u001b[2K\u001b[1Gpulling manifest \n",
            "pulling b559938ab7a0... 100% ▕▏ 7.1 GB                         \n",
            "pulling f023d1ce0e55... 100% ▕▏  688 B                         \n",
            "pulling 43070e2d4e53... 100% ▕▏  11 KB                         \n",
            "pulling ed11eda7790d... 100% ▕▏   30 B                         \n",
            "pulling 65d37de20e59... 100% ▕▏  486 B                         \n",
            "verifying sha256 digest ⠹ \u001b[?25h\u001b[?25l\u001b[2K\u001b[1G\u001b[A\u001b[2K\u001b[1G\u001b[A\u001b[2K\u001b[1G\u001b[A\u001b[2K\u001b[1G\u001b[A\u001b[2K\u001b[1G\u001b[A\u001b[2K\u001b[1G\u001b[A\u001b[2K\u001b[1Gpulling manifest \n",
            "pulling b559938ab7a0... 100% ▕▏ 7.1 GB                         \n",
            "pulling f023d1ce0e55... 100% ▕▏  688 B                         \n",
            "pulling 43070e2d4e53... 100% ▕▏  11 KB                         \n",
            "pulling ed11eda7790d... 100% ▕▏   30 B                         \n",
            "pulling 65d37de20e59... 100% ▕▏  486 B                         \n",
            "verifying sha256 digest ⠸ \u001b[?25h\u001b[?25l\u001b[2K\u001b[1G\u001b[A\u001b[2K\u001b[1G\u001b[A\u001b[2K\u001b[1G\u001b[A\u001b[2K\u001b[1G\u001b[A\u001b[2K\u001b[1G\u001b[A\u001b[2K\u001b[1G\u001b[A\u001b[2K\u001b[1Gpulling manifest \n",
            "pulling b559938ab7a0... 100% ▕▏ 7.1 GB                         \n",
            "pulling f023d1ce0e55... 100% ▕▏  688 B                         \n",
            "pulling 43070e2d4e53... 100% ▕▏  11 KB                         \n",
            "pulling ed11eda7790d... 100% ▕▏   30 B                         \n",
            "pulling 65d37de20e59... 100% ▕▏  486 B                         \n",
            "verifying sha256 digest ⠼ \u001b[?25h\u001b[?25l\u001b[2K\u001b[1G\u001b[A\u001b[2K\u001b[1G\u001b[A\u001b[2K\u001b[1G\u001b[A\u001b[2K\u001b[1G\u001b[A\u001b[2K\u001b[1G\u001b[A\u001b[2K\u001b[1G\u001b[A\u001b[2K\u001b[1Gpulling manifest \n",
            "pulling b559938ab7a0... 100% ▕▏ 7.1 GB                         \n",
            "pulling f023d1ce0e55... 100% ▕▏  688 B                         \n",
            "pulling 43070e2d4e53... 100% ▕▏  11 KB                         \n",
            "pulling ed11eda7790d... 100% ▕▏   30 B                         \n",
            "pulling 65d37de20e59... 100% ▕▏  486 B                         \n",
            "verifying sha256 digest ⠴ \u001b[?25h\u001b[?25l\u001b[2K\u001b[1G\u001b[A\u001b[2K\u001b[1G\u001b[A\u001b[2K\u001b[1G\u001b[A\u001b[2K\u001b[1G\u001b[A\u001b[2K\u001b[1G\u001b[A\u001b[2K\u001b[1G\u001b[A\u001b[2K\u001b[1Gpulling manifest \n",
            "pulling b559938ab7a0... 100% ▕▏ 7.1 GB                         \n",
            "pulling f023d1ce0e55... 100% ▕▏  688 B                         \n",
            "pulling 43070e2d4e53... 100% ▕▏  11 KB                         \n",
            "pulling ed11eda7790d... 100% ▕▏   30 B                         \n",
            "pulling 65d37de20e59... 100% ▕▏  486 B                         \n",
            "verifying sha256 digest ⠦ \u001b[?25h\u001b[?25l\u001b[2K\u001b[1G\u001b[A\u001b[2K\u001b[1G\u001b[A\u001b[2K\u001b[1G\u001b[A\u001b[2K\u001b[1G\u001b[A\u001b[2K\u001b[1G\u001b[A\u001b[2K\u001b[1G\u001b[A\u001b[2K\u001b[1Gpulling manifest \n",
            "pulling b559938ab7a0... 100% ▕▏ 7.1 GB                         \n",
            "pulling f023d1ce0e55... 100% ▕▏  688 B                         \n",
            "pulling 43070e2d4e53... 100% ▕▏  11 KB                         \n",
            "pulling ed11eda7790d... 100% ▕▏   30 B                         \n",
            "pulling 65d37de20e59... 100% ▕▏  486 B                         \n",
            "verifying sha256 digest ⠧ \u001b[?25h\u001b[?25l\u001b[2K\u001b[1G\u001b[A\u001b[2K\u001b[1G\u001b[A\u001b[2K\u001b[1G\u001b[A\u001b[2K\u001b[1G\u001b[A\u001b[2K\u001b[1G\u001b[A\u001b[2K\u001b[1G\u001b[A\u001b[2K\u001b[1Gpulling manifest \n",
            "pulling b559938ab7a0... 100% ▕▏ 7.1 GB                         \n",
            "pulling f023d1ce0e55... 100% ▕▏  688 B                         \n",
            "pulling 43070e2d4e53... 100% ▕▏  11 KB                         \n",
            "pulling ed11eda7790d... 100% ▕▏   30 B                         \n",
            "pulling 65d37de20e59... 100% ▕▏  486 B                         \n",
            "verifying sha256 digest ⠇ \u001b[?25h\u001b[?25l\u001b[2K\u001b[1G\u001b[A\u001b[2K\u001b[1G\u001b[A\u001b[2K\u001b[1G\u001b[A\u001b[2K\u001b[1G\u001b[A\u001b[2K\u001b[1G\u001b[A\u001b[2K\u001b[1G\u001b[A\u001b[2K\u001b[1Gpulling manifest \n",
            "pulling b559938ab7a0... 100% ▕▏ 7.1 GB                         \n",
            "pulling f023d1ce0e55... 100% ▕▏  688 B                         \n",
            "pulling 43070e2d4e53... 100% ▕▏  11 KB                         \n",
            "pulling ed11eda7790d... 100% ▕▏   30 B                         \n",
            "pulling 65d37de20e59... 100% ▕▏  486 B                         \n",
            "verifying sha256 digest ⠏ \u001b[?25h\u001b[?25l\u001b[2K\u001b[1G\u001b[A\u001b[2K\u001b[1G\u001b[A\u001b[2K\u001b[1G\u001b[A\u001b[2K\u001b[1G\u001b[A\u001b[2K\u001b[1G\u001b[A\u001b[2K\u001b[1G\u001b[A\u001b[2K\u001b[1Gpulling manifest \n",
            "pulling b559938ab7a0... 100% ▕▏ 7.1 GB                         \n",
            "pulling f023d1ce0e55... 100% ▕▏  688 B                         \n",
            "pulling 43070e2d4e53... 100% ▕▏  11 KB                         \n",
            "pulling ed11eda7790d... 100% ▕▏   30 B                         \n",
            "pulling 65d37de20e59... 100% ▕▏  486 B                         \n",
            "verifying sha256 digest ⠋ \u001b[?25h\u001b[?25l\u001b[2K\u001b[1G\u001b[A\u001b[2K\u001b[1G\u001b[A\u001b[2K\u001b[1G\u001b[A\u001b[2K\u001b[1G\u001b[A\u001b[2K\u001b[1G\u001b[A\u001b[2K\u001b[1G\u001b[A\u001b[2K\u001b[1Gpulling manifest \n",
            "pulling b559938ab7a0... 100% ▕▏ 7.1 GB                         \n",
            "pulling f023d1ce0e55... 100% ▕▏  688 B                         \n",
            "pulling 43070e2d4e53... 100% ▕▏  11 KB                         \n",
            "pulling ed11eda7790d... 100% ▕▏   30 B                         \n",
            "pulling 65d37de20e59... 100% ▕▏  486 B                         \n",
            "verifying sha256 digest ⠙ \u001b[?25h\u001b[?25l\u001b[2K\u001b[1G\u001b[A\u001b[2K\u001b[1G\u001b[A\u001b[2K\u001b[1G\u001b[A\u001b[2K\u001b[1G\u001b[A\u001b[2K\u001b[1G\u001b[A\u001b[2K\u001b[1G\u001b[A\u001b[2K\u001b[1Gpulling manifest \n",
            "pulling b559938ab7a0... 100% ▕▏ 7.1 GB                         \n",
            "pulling f023d1ce0e55... 100% ▕▏  688 B                         \n",
            "pulling 43070e2d4e53... 100% ▕▏  11 KB                         \n",
            "pulling ed11eda7790d... 100% ▕▏   30 B                         \n",
            "pulling 65d37de20e59... 100% ▕▏  486 B                         \n",
            "verifying sha256 digest ⠹ \u001b[?25h\u001b[?25l\u001b[2K\u001b[1G\u001b[A\u001b[2K\u001b[1G\u001b[A\u001b[2K\u001b[1G\u001b[A\u001b[2K\u001b[1G\u001b[A\u001b[2K\u001b[1G\u001b[A\u001b[2K\u001b[1G\u001b[A\u001b[2K\u001b[1Gpulling manifest \n",
            "pulling b559938ab7a0... 100% ▕▏ 7.1 GB                         \n",
            "pulling f023d1ce0e55... 100% ▕▏  688 B                         \n",
            "pulling 43070e2d4e53... 100% ▕▏  11 KB                         \n",
            "pulling ed11eda7790d... 100% ▕▏   30 B                         \n",
            "pulling 65d37de20e59... 100% ▕▏  486 B                         \n",
            "verifying sha256 digest ⠸ \u001b[?25h\u001b[?25l\u001b[2K\u001b[1G\u001b[A\u001b[2K\u001b[1G\u001b[A\u001b[2K\u001b[1G\u001b[A\u001b[2K\u001b[1G\u001b[A\u001b[2K\u001b[1G\u001b[A\u001b[2K\u001b[1G\u001b[A\u001b[2K\u001b[1Gpulling manifest \n",
            "pulling b559938ab7a0... 100% ▕▏ 7.1 GB                         \n",
            "pulling f023d1ce0e55... 100% ▕▏  688 B                         \n",
            "pulling 43070e2d4e53... 100% ▕▏  11 KB                         \n",
            "pulling ed11eda7790d... 100% ▕▏   30 B                         \n",
            "pulling 65d37de20e59... 100% ▕▏  486 B                         \n",
            "verifying sha256 digest ⠼ \u001b[?25h\u001b[?25l\u001b[2K\u001b[1G\u001b[A\u001b[2K\u001b[1G\u001b[A\u001b[2K\u001b[1G\u001b[A\u001b[2K\u001b[1G\u001b[A\u001b[2K\u001b[1G\u001b[A\u001b[2K\u001b[1G\u001b[A\u001b[2K\u001b[1Gpulling manifest \n",
            "pulling b559938ab7a0... 100% ▕▏ 7.1 GB                         \n",
            "pulling f023d1ce0e55... 100% ▕▏  688 B                         \n",
            "pulling 43070e2d4e53... 100% ▕▏  11 KB                         \n",
            "pulling ed11eda7790d... 100% ▕▏   30 B                         \n",
            "pulling 65d37de20e59... 100% ▕▏  486 B                         \n",
            "verifying sha256 digest ⠴ \u001b[?25h\u001b[?25l\u001b[2K\u001b[1G\u001b[A\u001b[2K\u001b[1G\u001b[A\u001b[2K\u001b[1G\u001b[A\u001b[2K\u001b[1G\u001b[A\u001b[2K\u001b[1G\u001b[A\u001b[2K\u001b[1G\u001b[A\u001b[2K\u001b[1Gpulling manifest \n",
            "pulling b559938ab7a0... 100% ▕▏ 7.1 GB                         \n",
            "pulling f023d1ce0e55... 100% ▕▏  688 B                         \n",
            "pulling 43070e2d4e53... 100% ▕▏  11 KB                         \n",
            "pulling ed11eda7790d... 100% ▕▏   30 B                         \n",
            "pulling 65d37de20e59... 100% ▕▏  486 B                         \n",
            "verifying sha256 digest ⠦ \u001b[?25h\u001b[?25l\u001b[2K\u001b[1G\u001b[A\u001b[2K\u001b[1G\u001b[A\u001b[2K\u001b[1G\u001b[A\u001b[2K\u001b[1G\u001b[A\u001b[2K\u001b[1G\u001b[A\u001b[2K\u001b[1G\u001b[A\u001b[2K\u001b[1Gpulling manifest \n",
            "pulling b559938ab7a0... 100% ▕▏ 7.1 GB                         \n",
            "pulling f023d1ce0e55... 100% ▕▏  688 B                         \n",
            "pulling 43070e2d4e53... 100% ▕▏  11 KB                         \n",
            "pulling ed11eda7790d... 100% ▕▏   30 B                         \n",
            "pulling 65d37de20e59... 100% ▕▏  486 B                         \n",
            "verifying sha256 digest ⠧ \u001b[?25h\u001b[?25l\u001b[2K\u001b[1G\u001b[A\u001b[2K\u001b[1G\u001b[A\u001b[2K\u001b[1G\u001b[A\u001b[2K\u001b[1G\u001b[A\u001b[2K\u001b[1G\u001b[A\u001b[2K\u001b[1G\u001b[A\u001b[2K\u001b[1Gpulling manifest \n",
            "pulling b559938ab7a0... 100% ▕▏ 7.1 GB                         \n",
            "pulling f023d1ce0e55... 100% ▕▏  688 B                         \n",
            "pulling 43070e2d4e53... 100% ▕▏  11 KB                         \n",
            "pulling ed11eda7790d... 100% ▕▏   30 B                         \n",
            "pulling 65d37de20e59... 100% ▕▏  486 B                         \n",
            "verifying sha256 digest ⠇ \u001b[?25h\u001b[?25l\u001b[2K\u001b[1G\u001b[A\u001b[2K\u001b[1G\u001b[A\u001b[2K\u001b[1G\u001b[A\u001b[2K\u001b[1G\u001b[A\u001b[2K\u001b[1G\u001b[A\u001b[2K\u001b[1G\u001b[A\u001b[2K\u001b[1Gpulling manifest \n",
            "pulling b559938ab7a0... 100% ▕▏ 7.1 GB                         \n",
            "pulling f023d1ce0e55... 100% ▕▏  688 B                         \n",
            "pulling 43070e2d4e53... 100% ▕▏  11 KB                         \n",
            "pulling ed11eda7790d... 100% ▕▏   30 B                         \n",
            "pulling 65d37de20e59... 100% ▕▏  486 B                         \n",
            "verifying sha256 digest ⠏ \u001b[?25h\u001b[?25l\u001b[2K\u001b[1G\u001b[A\u001b[2K\u001b[1G\u001b[A\u001b[2K\u001b[1G\u001b[A\u001b[2K\u001b[1G\u001b[A\u001b[2K\u001b[1G\u001b[A\u001b[2K\u001b[1G\u001b[A\u001b[2K\u001b[1Gpulling manifest \n",
            "pulling b559938ab7a0... 100% ▕▏ 7.1 GB                         \n",
            "pulling f023d1ce0e55... 100% ▕▏  688 B                         \n",
            "pulling 43070e2d4e53... 100% ▕▏  11 KB                         \n",
            "pulling ed11eda7790d... 100% ▕▏   30 B                         \n",
            "pulling 65d37de20e59... 100% ▕▏  486 B                         \n",
            "verifying sha256 digest ⠋ \u001b[?25h\u001b[?25l\u001b[2K\u001b[1G\u001b[A\u001b[2K\u001b[1G\u001b[A\u001b[2K\u001b[1G\u001b[A\u001b[2K\u001b[1G\u001b[A\u001b[2K\u001b[1G\u001b[A\u001b[2K\u001b[1G\u001b[A\u001b[2K\u001b[1Gpulling manifest \n",
            "pulling b559938ab7a0... 100% ▕▏ 7.1 GB                         \n",
            "pulling f023d1ce0e55... 100% ▕▏  688 B                         \n",
            "pulling 43070e2d4e53... 100% ▕▏  11 KB                         \n",
            "pulling ed11eda7790d... 100% ▕▏   30 B                         \n",
            "pulling 65d37de20e59... 100% ▕▏  486 B                         \n",
            "verifying sha256 digest ⠙ \u001b[?25h\u001b[?25l\u001b[2K\u001b[1G\u001b[A\u001b[2K\u001b[1G\u001b[A\u001b[2K\u001b[1G\u001b[A\u001b[2K\u001b[1G\u001b[A\u001b[2K\u001b[1G\u001b[A\u001b[2K\u001b[1G\u001b[A\u001b[2K\u001b[1Gpulling manifest \n",
            "pulling b559938ab7a0... 100% ▕▏ 7.1 GB                         \n",
            "pulling f023d1ce0e55... 100% ▕▏  688 B                         \n",
            "pulling 43070e2d4e53... 100% ▕▏  11 KB                         \n",
            "pulling ed11eda7790d... 100% ▕▏   30 B                         \n",
            "pulling 65d37de20e59... 100% ▕▏  486 B                         \n",
            "verifying sha256 digest ⠹ \u001b[?25h\u001b[?25l\u001b[2K\u001b[1G\u001b[A\u001b[2K\u001b[1G\u001b[A\u001b[2K\u001b[1G\u001b[A\u001b[2K\u001b[1G\u001b[A\u001b[2K\u001b[1G\u001b[A\u001b[2K\u001b[1G\u001b[A\u001b[2K\u001b[1Gpulling manifest \n",
            "pulling b559938ab7a0... 100% ▕▏ 7.1 GB                         \n",
            "pulling f023d1ce0e55... 100% ▕▏  688 B                         \n",
            "pulling 43070e2d4e53... 100% ▕▏  11 KB                         \n",
            "pulling ed11eda7790d... 100% ▕▏   30 B                         \n",
            "pulling 65d37de20e59... 100% ▕▏  486 B                         \n",
            "verifying sha256 digest ⠸ \u001b[?25h\u001b[?25l\u001b[2K\u001b[1G\u001b[A\u001b[2K\u001b[1G\u001b[A\u001b[2K\u001b[1G\u001b[A\u001b[2K\u001b[1G\u001b[A\u001b[2K\u001b[1G\u001b[A\u001b[2K\u001b[1G\u001b[A\u001b[2K\u001b[1Gpulling manifest \n",
            "pulling b559938ab7a0... 100% ▕▏ 7.1 GB                         \n",
            "pulling f023d1ce0e55... 100% ▕▏  688 B                         \n",
            "pulling 43070e2d4e53... 100% ▕▏  11 KB                         \n",
            "pulling ed11eda7790d... 100% ▕▏   30 B                         \n",
            "pulling 65d37de20e59... 100% ▕▏  486 B                         \n",
            "verifying sha256 digest ⠼ \u001b[?25h\u001b[?25l\u001b[2K\u001b[1G\u001b[A\u001b[2K\u001b[1G\u001b[A\u001b[2K\u001b[1G\u001b[A\u001b[2K\u001b[1G\u001b[A\u001b[2K\u001b[1G\u001b[A\u001b[2K\u001b[1G\u001b[A\u001b[2K\u001b[1Gpulling manifest \n",
            "pulling b559938ab7a0... 100% ▕▏ 7.1 GB                         \n",
            "pulling f023d1ce0e55... 100% ▕▏  688 B                         \n",
            "pulling 43070e2d4e53... 100% ▕▏  11 KB                         \n",
            "pulling ed11eda7790d... 100% ▕▏   30 B                         \n",
            "pulling 65d37de20e59... 100% ▕▏  486 B                         \n",
            "verifying sha256 digest ⠴ \u001b[?25h\u001b[?25l\u001b[2K\u001b[1G\u001b[A\u001b[2K\u001b[1G\u001b[A\u001b[2K\u001b[1G\u001b[A\u001b[2K\u001b[1G\u001b[A\u001b[2K\u001b[1G\u001b[A\u001b[2K\u001b[1G\u001b[A\u001b[2K\u001b[1Gpulling manifest \n",
            "pulling b559938ab7a0... 100% ▕▏ 7.1 GB                         \n",
            "pulling f023d1ce0e55... 100% ▕▏  688 B                         \n",
            "pulling 43070e2d4e53... 100% ▕▏  11 KB                         \n",
            "pulling ed11eda7790d... 100% ▕▏   30 B                         \n",
            "pulling 65d37de20e59... 100% ▕▏  486 B                         \n",
            "verifying sha256 digest ⠦ \u001b[?25h\u001b[?25l\u001b[2K\u001b[1G\u001b[A\u001b[2K\u001b[1G\u001b[A\u001b[2K\u001b[1G\u001b[A\u001b[2K\u001b[1G\u001b[A\u001b[2K\u001b[1G\u001b[A\u001b[2K\u001b[1G\u001b[A\u001b[2K\u001b[1Gpulling manifest \n",
            "pulling b559938ab7a0... 100% ▕▏ 7.1 GB                         \n",
            "pulling f023d1ce0e55... 100% ▕▏  688 B                         \n",
            "pulling 43070e2d4e53... 100% ▕▏  11 KB                         \n",
            "pulling ed11eda7790d... 100% ▕▏   30 B                         \n",
            "pulling 65d37de20e59... 100% ▕▏  486 B                         \n",
            "verifying sha256 digest ⠧ \u001b[?25h\u001b[?25l\u001b[2K\u001b[1G\u001b[A\u001b[2K\u001b[1G\u001b[A\u001b[2K\u001b[1G\u001b[A\u001b[2K\u001b[1G\u001b[A\u001b[2K\u001b[1G\u001b[A\u001b[2K\u001b[1G\u001b[A\u001b[2K\u001b[1Gpulling manifest \n",
            "pulling b559938ab7a0... 100% ▕▏ 7.1 GB                         \n",
            "pulling f023d1ce0e55... 100% ▕▏  688 B                         \n",
            "pulling 43070e2d4e53... 100% ▕▏  11 KB                         \n",
            "pulling ed11eda7790d... 100% ▕▏   30 B                         \n",
            "pulling 65d37de20e59... 100% ▕▏  486 B                         \n",
            "verifying sha256 digest ⠇ \u001b[?25h\u001b[?25l\u001b[2K\u001b[1G\u001b[A\u001b[2K\u001b[1G\u001b[A\u001b[2K\u001b[1G\u001b[A\u001b[2K\u001b[1G\u001b[A\u001b[2K\u001b[1G\u001b[A\u001b[2K\u001b[1G\u001b[A\u001b[2K\u001b[1Gpulling manifest \n",
            "pulling b559938ab7a0... 100% ▕▏ 7.1 GB                         \n",
            "pulling f023d1ce0e55... 100% ▕▏  688 B                         \n",
            "pulling 43070e2d4e53... 100% ▕▏  11 KB                         \n",
            "pulling ed11eda7790d... 100% ▕▏   30 B                         \n",
            "pulling 65d37de20e59... 100% ▕▏  486 B                         \n",
            "verifying sha256 digest ⠏ \u001b[?25h\u001b[?25l\u001b[2K\u001b[1G\u001b[A\u001b[2K\u001b[1G\u001b[A\u001b[2K\u001b[1G\u001b[A\u001b[2K\u001b[1G\u001b[A\u001b[2K\u001b[1G\u001b[A\u001b[2K\u001b[1G\u001b[A\u001b[2K\u001b[1Gpulling manifest \n",
            "pulling b559938ab7a0... 100% ▕▏ 7.1 GB                         \n",
            "pulling f023d1ce0e55... 100% ▕▏  688 B                         \n",
            "pulling 43070e2d4e53... 100% ▕▏  11 KB                         \n",
            "pulling ed11eda7790d... 100% ▕▏   30 B                         \n",
            "pulling 65d37de20e59... 100% ▕▏  486 B                         \n",
            "verifying sha256 digest ⠋ \u001b[?25h\u001b[?25l\u001b[2K\u001b[1G\u001b[A\u001b[2K\u001b[1G\u001b[A\u001b[2K\u001b[1G\u001b[A\u001b[2K\u001b[1G\u001b[A\u001b[2K\u001b[1G\u001b[A\u001b[2K\u001b[1G\u001b[A\u001b[2K\u001b[1Gpulling manifest \n",
            "pulling b559938ab7a0... 100% ▕▏ 7.1 GB                         \n",
            "pulling f023d1ce0e55... 100% ▕▏  688 B                         \n",
            "pulling 43070e2d4e53... 100% ▕▏  11 KB                         \n",
            "pulling ed11eda7790d... 100% ▕▏   30 B                         \n",
            "pulling 65d37de20e59... 100% ▕▏  486 B                         \n",
            "verifying sha256 digest ⠙ \u001b[?25h\u001b[?25l\u001b[2K\u001b[1G\u001b[A\u001b[2K\u001b[1G\u001b[A\u001b[2K\u001b[1G\u001b[A\u001b[2K\u001b[1G\u001b[A\u001b[2K\u001b[1G\u001b[A\u001b[2K\u001b[1G\u001b[A\u001b[2K\u001b[1Gpulling manifest \n",
            "pulling b559938ab7a0... 100% ▕▏ 7.1 GB                         \n",
            "pulling f023d1ce0e55... 100% ▕▏  688 B                         \n",
            "pulling 43070e2d4e53... 100% ▕▏  11 KB                         \n",
            "pulling ed11eda7790d... 100% ▕▏   30 B                         \n",
            "pulling 65d37de20e59... 100% ▕▏  486 B                         \n",
            "verifying sha256 digest ⠹ \u001b[?25h\u001b[?25l\u001b[2K\u001b[1G\u001b[A\u001b[2K\u001b[1G\u001b[A\u001b[2K\u001b[1G\u001b[A\u001b[2K\u001b[1G\u001b[A\u001b[2K\u001b[1G\u001b[A\u001b[2K\u001b[1G\u001b[A\u001b[2K\u001b[1Gpulling manifest \n",
            "pulling b559938ab7a0... 100% ▕▏ 7.1 GB                         \n",
            "pulling f023d1ce0e55... 100% ▕▏  688 B                         \n",
            "pulling 43070e2d4e53... 100% ▕▏  11 KB                         \n",
            "pulling ed11eda7790d... 100% ▕▏   30 B                         \n",
            "pulling 65d37de20e59... 100% ▕▏  486 B                         \n",
            "verifying sha256 digest ⠸ \u001b[?25h\u001b[?25l\u001b[2K\u001b[1G\u001b[A\u001b[2K\u001b[1G\u001b[A\u001b[2K\u001b[1G\u001b[A\u001b[2K\u001b[1G\u001b[A\u001b[2K\u001b[1G\u001b[A\u001b[2K\u001b[1G\u001b[A\u001b[2K\u001b[1Gpulling manifest \n",
            "pulling b559938ab7a0... 100% ▕▏ 7.1 GB                         \n",
            "pulling f023d1ce0e55... 100% ▕▏  688 B                         \n",
            "pulling 43070e2d4e53... 100% ▕▏  11 KB                         \n",
            "pulling ed11eda7790d... 100% ▕▏   30 B                         \n",
            "pulling 65d37de20e59... 100% ▕▏  486 B                         \n",
            "verifying sha256 digest ⠼ \u001b[?25h\u001b[?25l\u001b[2K\u001b[1G\u001b[A\u001b[2K\u001b[1G\u001b[A\u001b[2K\u001b[1G\u001b[A\u001b[2K\u001b[1G\u001b[A\u001b[2K\u001b[1G\u001b[A\u001b[2K\u001b[1G\u001b[A\u001b[2K\u001b[1Gpulling manifest \n",
            "pulling b559938ab7a0... 100% ▕▏ 7.1 GB                         \n",
            "pulling f023d1ce0e55... 100% ▕▏  688 B                         \n",
            "pulling 43070e2d4e53... 100% ▕▏  11 KB                         \n",
            "pulling ed11eda7790d... 100% ▕▏   30 B                         \n",
            "pulling 65d37de20e59... 100% ▕▏  486 B                         \n",
            "verifying sha256 digest ⠴ \u001b[?25h\u001b[?25l\u001b[2K\u001b[1G\u001b[A\u001b[2K\u001b[1G\u001b[A\u001b[2K\u001b[1G\u001b[A\u001b[2K\u001b[1G\u001b[A\u001b[2K\u001b[1G\u001b[A\u001b[2K\u001b[1G\u001b[A\u001b[2K\u001b[1Gpulling manifest \n",
            "pulling b559938ab7a0... 100% ▕▏ 7.1 GB                         \n",
            "pulling f023d1ce0e55... 100% ▕▏  688 B                         \n",
            "pulling 43070e2d4e53... 100% ▕▏  11 KB                         \n",
            "pulling ed11eda7790d... 100% ▕▏   30 B                         \n",
            "pulling 65d37de20e59... 100% ▕▏  486 B                         \n",
            "verifying sha256 digest ⠦ \u001b[?25h\u001b[?25l\u001b[2K\u001b[1G\u001b[A\u001b[2K\u001b[1G\u001b[A\u001b[2K\u001b[1G\u001b[A\u001b[2K\u001b[1G\u001b[A\u001b[2K\u001b[1G\u001b[A\u001b[2K\u001b[1G\u001b[A\u001b[2K\u001b[1Gpulling manifest \n",
            "pulling b559938ab7a0... 100% ▕▏ 7.1 GB                         \n",
            "pulling f023d1ce0e55... 100% ▕▏  688 B                         \n",
            "pulling 43070e2d4e53... 100% ▕▏  11 KB                         \n",
            "pulling ed11eda7790d... 100% ▕▏   30 B                         \n",
            "pulling 65d37de20e59... 100% ▕▏  486 B                         \n",
            "verifying sha256 digest ⠧ \u001b[?25h\u001b[?25l\u001b[2K\u001b[1G\u001b[A\u001b[2K\u001b[1G\u001b[A\u001b[2K\u001b[1G\u001b[A\u001b[2K\u001b[1G\u001b[A\u001b[2K\u001b[1G\u001b[A\u001b[2K\u001b[1G\u001b[A\u001b[2K\u001b[1Gpulling manifest \n",
            "pulling b559938ab7a0... 100% ▕▏ 7.1 GB                         \n",
            "pulling f023d1ce0e55... 100% ▕▏  688 B                         \n",
            "pulling 43070e2d4e53... 100% ▕▏  11 KB                         \n",
            "pulling ed11eda7790d... 100% ▕▏   30 B                         \n",
            "pulling 65d37de20e59... 100% ▕▏  486 B                         \n",
            "verifying sha256 digest ⠇ \u001b[?25h\u001b[?25l\u001b[2K\u001b[1G\u001b[A\u001b[2K\u001b[1G\u001b[A\u001b[2K\u001b[1G\u001b[A\u001b[2K\u001b[1G\u001b[A\u001b[2K\u001b[1G\u001b[A\u001b[2K\u001b[1G\u001b[A\u001b[2K\u001b[1Gpulling manifest \n",
            "pulling b559938ab7a0... 100% ▕▏ 7.1 GB                         \n",
            "pulling f023d1ce0e55... 100% ▕▏  688 B                         \n",
            "pulling 43070e2d4e53... 100% ▕▏  11 KB                         \n",
            "pulling ed11eda7790d... 100% ▕▏   30 B                         \n",
            "pulling 65d37de20e59... 100% ▕▏  486 B                         \n",
            "verifying sha256 digest ⠏ \u001b[?25h\u001b[?25l\u001b[2K\u001b[1G\u001b[A\u001b[2K\u001b[1G\u001b[A\u001b[2K\u001b[1G\u001b[A\u001b[2K\u001b[1G\u001b[A\u001b[2K\u001b[1G\u001b[A\u001b[2K\u001b[1G\u001b[A\u001b[2K\u001b[1Gpulling manifest \n",
            "pulling b559938ab7a0... 100% ▕▏ 7.1 GB                         \n",
            "pulling f023d1ce0e55... 100% ▕▏  688 B                         \n",
            "pulling 43070e2d4e53... 100% ▕▏  11 KB                         \n",
            "pulling ed11eda7790d... 100% ▕▏   30 B                         \n",
            "pulling 65d37de20e59... 100% ▕▏  486 B                         \n",
            "verifying sha256 digest ⠋ \u001b[?25h\u001b[?25l\u001b[2K\u001b[1G\u001b[A\u001b[2K\u001b[1G\u001b[A\u001b[2K\u001b[1G\u001b[A\u001b[2K\u001b[1G\u001b[A\u001b[2K\u001b[1G\u001b[A\u001b[2K\u001b[1G\u001b[A\u001b[2K\u001b[1Gpulling manifest \n",
            "pulling b559938ab7a0... 100% ▕▏ 7.1 GB                         \n",
            "pulling f023d1ce0e55... 100% ▕▏  688 B                         \n",
            "pulling 43070e2d4e53... 100% ▕▏  11 KB                         \n",
            "pulling ed11eda7790d... 100% ▕▏   30 B                         \n",
            "pulling 65d37de20e59... 100% ▕▏  486 B                         \n",
            "verifying sha256 digest ⠙ \u001b[?25h\u001b[?25l\u001b[2K\u001b[1G\u001b[A\u001b[2K\u001b[1G\u001b[A\u001b[2K\u001b[1G\u001b[A\u001b[2K\u001b[1G\u001b[A\u001b[2K\u001b[1G\u001b[A\u001b[2K\u001b[1G\u001b[A\u001b[2K\u001b[1Gpulling manifest \n",
            "pulling b559938ab7a0... 100% ▕▏ 7.1 GB                         \n",
            "pulling f023d1ce0e55... 100% ▕▏  688 B                         \n",
            "pulling 43070e2d4e53... 100% ▕▏  11 KB                         \n",
            "pulling ed11eda7790d... 100% ▕▏   30 B                         \n",
            "pulling 65d37de20e59... 100% ▕▏  486 B                         \n",
            "verifying sha256 digest ⠹ \u001b[?25h\u001b[?25l\u001b[2K\u001b[1G\u001b[A\u001b[2K\u001b[1G\u001b[A\u001b[2K\u001b[1G\u001b[A\u001b[2K\u001b[1G\u001b[A\u001b[2K\u001b[1G\u001b[A\u001b[2K\u001b[1G\u001b[A\u001b[2K\u001b[1Gpulling manifest \n",
            "pulling b559938ab7a0... 100% ▕▏ 7.1 GB                         \n",
            "pulling f023d1ce0e55... 100% ▕▏  688 B                         \n",
            "pulling 43070e2d4e53... 100% ▕▏  11 KB                         \n",
            "pulling ed11eda7790d... 100% ▕▏   30 B                         \n",
            "pulling 65d37de20e59... 100% ▕▏  486 B                         \n",
            "verifying sha256 digest ⠸ \u001b[?25h\u001b[?25l\u001b[2K\u001b[1G\u001b[A\u001b[2K\u001b[1G\u001b[A\u001b[2K\u001b[1G\u001b[A\u001b[2K\u001b[1G\u001b[A\u001b[2K\u001b[1G\u001b[A\u001b[2K\u001b[1G\u001b[A\u001b[2K\u001b[1Gpulling manifest \n",
            "pulling b559938ab7a0... 100% ▕▏ 7.1 GB                         \n",
            "pulling f023d1ce0e55... 100% ▕▏  688 B                         \n",
            "pulling 43070e2d4e53... 100% ▕▏  11 KB                         \n",
            "pulling ed11eda7790d... 100% ▕▏   30 B                         \n",
            "pulling 65d37de20e59... 100% ▕▏  486 B                         \n",
            "verifying sha256 digest ⠼ \u001b[?25h\u001b[?25l\u001b[2K\u001b[1G\u001b[A\u001b[2K\u001b[1G\u001b[A\u001b[2K\u001b[1G\u001b[A\u001b[2K\u001b[1G\u001b[A\u001b[2K\u001b[1G\u001b[A\u001b[2K\u001b[1G\u001b[A\u001b[2K\u001b[1Gpulling manifest \n",
            "pulling b559938ab7a0... 100% ▕▏ 7.1 GB                         \n",
            "pulling f023d1ce0e55... 100% ▕▏  688 B                         \n",
            "pulling 43070e2d4e53... 100% ▕▏  11 KB                         \n",
            "pulling ed11eda7790d... 100% ▕▏   30 B                         \n",
            "pulling 65d37de20e59... 100% ▕▏  486 B                         \n",
            "verifying sha256 digest ⠴ \u001b[?25h\u001b[?25l\u001b[2K\u001b[1G\u001b[A\u001b[2K\u001b[1G\u001b[A\u001b[2K\u001b[1G\u001b[A\u001b[2K\u001b[1G\u001b[A\u001b[2K\u001b[1G\u001b[A\u001b[2K\u001b[1G\u001b[A\u001b[2K\u001b[1Gpulling manifest \n",
            "pulling b559938ab7a0... 100% ▕▏ 7.1 GB                         \n",
            "pulling f023d1ce0e55... 100% ▕▏  688 B                         \n",
            "pulling 43070e2d4e53... 100% ▕▏  11 KB                         \n",
            "pulling ed11eda7790d... 100% ▕▏   30 B                         \n",
            "pulling 65d37de20e59... 100% ▕▏  486 B                         \n",
            "verifying sha256 digest ⠦ \u001b[?25h\u001b[?25l\u001b[2K\u001b[1G\u001b[A\u001b[2K\u001b[1G\u001b[A\u001b[2K\u001b[1G\u001b[A\u001b[2K\u001b[1G\u001b[A\u001b[2K\u001b[1G\u001b[A\u001b[2K\u001b[1G\u001b[A\u001b[2K\u001b[1Gpulling manifest \n",
            "pulling b559938ab7a0... 100% ▕▏ 7.1 GB                         \n",
            "pulling f023d1ce0e55... 100% ▕▏  688 B                         \n",
            "pulling 43070e2d4e53... 100% ▕▏  11 KB                         \n",
            "pulling ed11eda7790d... 100% ▕▏   30 B                         \n",
            "pulling 65d37de20e59... 100% ▕▏  486 B                         \n",
            "verifying sha256 digest ⠧ \u001b[?25h\u001b[?25l\u001b[2K\u001b[1G\u001b[A\u001b[2K\u001b[1G\u001b[A\u001b[2K\u001b[1G\u001b[A\u001b[2K\u001b[1G\u001b[A\u001b[2K\u001b[1G\u001b[A\u001b[2K\u001b[1G\u001b[A\u001b[2K\u001b[1Gpulling manifest \n",
            "pulling b559938ab7a0... 100% ▕▏ 7.1 GB                         \n",
            "pulling f023d1ce0e55... 100% ▕▏  688 B                         \n",
            "pulling 43070e2d4e53... 100% ▕▏  11 KB                         \n",
            "pulling ed11eda7790d... 100% ▕▏   30 B                         \n",
            "pulling 65d37de20e59... 100% ▕▏  486 B                         \n",
            "verifying sha256 digest ⠇ \u001b[?25h\u001b[?25l\u001b[2K\u001b[1G\u001b[A\u001b[2K\u001b[1G\u001b[A\u001b[2K\u001b[1G\u001b[A\u001b[2K\u001b[1G\u001b[A\u001b[2K\u001b[1G\u001b[A\u001b[2K\u001b[1G\u001b[A\u001b[2K\u001b[1Gpulling manifest \n",
            "pulling b559938ab7a0... 100% ▕▏ 7.1 GB                         \n",
            "pulling f023d1ce0e55... 100% ▕▏  688 B                         \n",
            "pulling 43070e2d4e53... 100% ▕▏  11 KB                         \n",
            "pulling ed11eda7790d... 100% ▕▏   30 B                         \n",
            "pulling 65d37de20e59... 100% ▕▏  486 B                         \n",
            "verifying sha256 digest ⠏ \u001b[?25h\u001b[?25l\u001b[2K\u001b[1G\u001b[A\u001b[2K\u001b[1G\u001b[A\u001b[2K\u001b[1G\u001b[A\u001b[2K\u001b[1G\u001b[A\u001b[2K\u001b[1G\u001b[A\u001b[2K\u001b[1G\u001b[A\u001b[2K\u001b[1Gpulling manifest \n",
            "pulling b559938ab7a0... 100% ▕▏ 7.1 GB                         \n",
            "pulling f023d1ce0e55... 100% ▕▏  688 B                         \n",
            "pulling 43070e2d4e53... 100% ▕▏  11 KB                         \n",
            "pulling ed11eda7790d... 100% ▕▏   30 B                         \n",
            "pulling 65d37de20e59... 100% ▕▏  486 B                         \n",
            "verifying sha256 digest ⠋ \u001b[?25h\u001b[?25l\u001b[2K\u001b[1G\u001b[A\u001b[2K\u001b[1G\u001b[A\u001b[2K\u001b[1G\u001b[A\u001b[2K\u001b[1G\u001b[A\u001b[2K\u001b[1G\u001b[A\u001b[2K\u001b[1G\u001b[A\u001b[2K\u001b[1Gpulling manifest \n",
            "pulling b559938ab7a0... 100% ▕▏ 7.1 GB                         \n",
            "pulling f023d1ce0e55... 100% ▕▏  688 B                         \n",
            "pulling 43070e2d4e53... 100% ▕▏  11 KB                         \n",
            "pulling ed11eda7790d... 100% ▕▏   30 B                         \n",
            "pulling 65d37de20e59... 100% ▕▏  486 B                         \n",
            "verifying sha256 digest ⠙ \u001b[?25h\u001b[?25l\u001b[2K\u001b[1G\u001b[A\u001b[2K\u001b[1G\u001b[A\u001b[2K\u001b[1G\u001b[A\u001b[2K\u001b[1G\u001b[A\u001b[2K\u001b[1G\u001b[A\u001b[2K\u001b[1G\u001b[A\u001b[2K\u001b[1Gpulling manifest \n",
            "pulling b559938ab7a0... 100% ▕▏ 7.1 GB                         \n",
            "pulling f023d1ce0e55... 100% ▕▏  688 B                         \n",
            "pulling 43070e2d4e53... 100% ▕▏  11 KB                         \n",
            "pulling ed11eda7790d... 100% ▕▏   30 B                         \n",
            "pulling 65d37de20e59... 100% ▕▏  486 B                         \n",
            "verifying sha256 digest ⠹ \u001b[?25h\u001b[?25l\u001b[2K\u001b[1G\u001b[A\u001b[2K\u001b[1G\u001b[A\u001b[2K\u001b[1G\u001b[A\u001b[2K\u001b[1G\u001b[A\u001b[2K\u001b[1G\u001b[A\u001b[2K\u001b[1G\u001b[A\u001b[2K\u001b[1Gpulling manifest \n",
            "pulling b559938ab7a0... 100% ▕▏ 7.1 GB                         \n",
            "pulling f023d1ce0e55... 100% ▕▏  688 B                         \n",
            "pulling 43070e2d4e53... 100% ▕▏  11 KB                         \n",
            "pulling ed11eda7790d... 100% ▕▏   30 B                         \n",
            "pulling 65d37de20e59... 100% ▕▏  486 B                         \n",
            "verifying sha256 digest ⠸ \u001b[?25h\u001b[?25l\u001b[2K\u001b[1G\u001b[A\u001b[2K\u001b[1G\u001b[A\u001b[2K\u001b[1G\u001b[A\u001b[2K\u001b[1G\u001b[A\u001b[2K\u001b[1G\u001b[A\u001b[2K\u001b[1G\u001b[A\u001b[2K\u001b[1Gpulling manifest \n",
            "pulling b559938ab7a0... 100% ▕▏ 7.1 GB                         \n",
            "pulling f023d1ce0e55... 100% ▕▏  688 B                         \n",
            "pulling 43070e2d4e53... 100% ▕▏  11 KB                         \n",
            "pulling ed11eda7790d... 100% ▕▏   30 B                         \n",
            "pulling 65d37de20e59... 100% ▕▏  486 B                         \n",
            "verifying sha256 digest ⠼ \u001b[?25h\u001b[?25l\u001b[2K\u001b[1G\u001b[A\u001b[2K\u001b[1G\u001b[A\u001b[2K\u001b[1G\u001b[A\u001b[2K\u001b[1G\u001b[A\u001b[2K\u001b[1G\u001b[A\u001b[2K\u001b[1G\u001b[A\u001b[2K\u001b[1Gpulling manifest \n",
            "pulling b559938ab7a0... 100% ▕▏ 7.1 GB                         \n",
            "pulling f023d1ce0e55... 100% ▕▏  688 B                         \n",
            "pulling 43070e2d4e53... 100% ▕▏  11 KB                         \n",
            "pulling ed11eda7790d... 100% ▕▏   30 B                         \n",
            "pulling 65d37de20e59... 100% ▕▏  486 B                         \n",
            "verifying sha256 digest ⠴ \u001b[?25h\u001b[?25l\u001b[2K\u001b[1G\u001b[A\u001b[2K\u001b[1G\u001b[A\u001b[2K\u001b[1G\u001b[A\u001b[2K\u001b[1G\u001b[A\u001b[2K\u001b[1G\u001b[A\u001b[2K\u001b[1G\u001b[A\u001b[2K\u001b[1Gpulling manifest \n",
            "pulling b559938ab7a0... 100% ▕▏ 7.1 GB                         \n",
            "pulling f023d1ce0e55... 100% ▕▏  688 B                         \n",
            "pulling 43070e2d4e53... 100% ▕▏  11 KB                         \n",
            "pulling ed11eda7790d... 100% ▕▏   30 B                         \n",
            "pulling 65d37de20e59... 100% ▕▏  486 B                         \n",
            "verifying sha256 digest ⠦ \u001b[?25h\u001b[?25l\u001b[2K\u001b[1G\u001b[A\u001b[2K\u001b[1G\u001b[A\u001b[2K\u001b[1G\u001b[A\u001b[2K\u001b[1G\u001b[A\u001b[2K\u001b[1G\u001b[A\u001b[2K\u001b[1G\u001b[A\u001b[2K\u001b[1Gpulling manifest \n",
            "pulling b559938ab7a0... 100% ▕▏ 7.1 GB                         \n",
            "pulling f023d1ce0e55... 100% ▕▏  688 B                         \n",
            "pulling 43070e2d4e53... 100% ▕▏  11 KB                         \n",
            "pulling ed11eda7790d... 100% ▕▏   30 B                         \n",
            "pulling 65d37de20e59... 100% ▕▏  486 B                         \n",
            "verifying sha256 digest ⠧ \u001b[?25h\u001b[?25l\u001b[2K\u001b[1G\u001b[A\u001b[2K\u001b[1G\u001b[A\u001b[2K\u001b[1G\u001b[A\u001b[2K\u001b[1G\u001b[A\u001b[2K\u001b[1G\u001b[A\u001b[2K\u001b[1G\u001b[A\u001b[2K\u001b[1Gpulling manifest \n",
            "pulling b559938ab7a0... 100% ▕▏ 7.1 GB                         \n",
            "pulling f023d1ce0e55... 100% ▕▏  688 B                         \n",
            "pulling 43070e2d4e53... 100% ▕▏  11 KB                         \n",
            "pulling ed11eda7790d... 100% ▕▏   30 B                         \n",
            "pulling 65d37de20e59... 100% ▕▏  486 B                         \n",
            "verifying sha256 digest ⠇ \u001b[?25h\u001b[?25l\u001b[2K\u001b[1G\u001b[A\u001b[2K\u001b[1G\u001b[A\u001b[2K\u001b[1G\u001b[A\u001b[2K\u001b[1G\u001b[A\u001b[2K\u001b[1G\u001b[A\u001b[2K\u001b[1G\u001b[A\u001b[2K\u001b[1Gpulling manifest \n",
            "pulling b559938ab7a0... 100% ▕▏ 7.1 GB                         \n",
            "pulling f023d1ce0e55... 100% ▕▏  688 B                         \n",
            "pulling 43070e2d4e53... 100% ▕▏  11 KB                         \n",
            "pulling ed11eda7790d... 100% ▕▏   30 B                         \n",
            "pulling 65d37de20e59... 100% ▕▏  486 B                         \n",
            "verifying sha256 digest \n",
            "writing manifest \n",
            "success \u001b[?25h\n",
            "Dataset URL: https://www.kaggle.com/datasets/sahalmulki/gaslighting-llms\n",
            "License(s): apache-2.0\n",
            "gaslighting-llms.zip: Skipping, found more recently modified local copy (use --force to force download)\n",
            "mkdir: cannot create directory ‘gaslighting-llms’: File exists\n",
            "Archive:  gaslighting-llms.zip\n",
            "replace gaslighting-llms/ai2arc/shuffled_data.csv? [y]es, [n]o, [A]ll, [N]one, [r]ename: "
          ]
        }
      ],
      "execution_count": 2
    },
    {
      "cell_type": "code",
      "source": [
        "#@title Import modules & set-up\n",
        "\n",
        "import re, csv, errno, os, signal, functools, time, random\n",
        "import pandas as pd\n",
        "\n",
        "from langchain_ollama import ChatOllama\n",
        "from tqdm import tqdm\n",
        "\n",
        "class TimeoutError(Exception):\n",
        "    pass\n",
        "\n",
        "def timeout(seconds=10, error_message=os.strerror(errno.ETIME)):\n",
        "    def decorator(func):\n",
        "        def _handle_timeout(signum, frame):\n",
        "            raise TimeoutError(error_message)\n",
        "\n",
        "        @functools.wraps(func)\n",
        "        def wrapper(*args, **kwargs):\n",
        "            signal.signal(signal.SIGALRM, _handle_timeout)\n",
        "            signal.alarm(seconds)\n",
        "            try:\n",
        "                result = func(*args, **kwargs)\n",
        "            finally:\n",
        "                signal.alarm(0)\n",
        "            return result\n",
        "\n",
        "        return wrapper\n",
        "\n",
        "    return decorator"
      ],
      "metadata": {
        "id": "vVCcTGGgGtNF",
        "trusted": true,
        "execution": {
          "iopub.status.busy": "2024-12-07T17:25:16.552540Z",
          "iopub.execute_input": "2024-12-07T17:25:16.552935Z",
          "iopub.status.idle": "2024-12-07T17:25:16.559466Z",
          "shell.execute_reply.started": "2024-12-07T17:25:16.552905Z",
          "shell.execute_reply": "2024-12-07T17:25:16.558604Z"
        },
        "cellView": "form"
      },
      "outputs": [],
      "execution_count": 3
    },
    {
      "cell_type": "code",
      "source": [
        "# @title AI2 ARC generations.\n",
        "\n",
        "alphabet = [\"A\", \"B\", \"C\", \"D\", \"E\", \"F\", \"G\", \"H\", \"I\", \"J\", \"K\", \"L\", \"M\", \"N\", \"O\", \"P\", \"Q\", \"R\", \"S\", \"T\", \"U\", \"V\", \"W\", \"X\", \"Y\", \"Z\"]\n",
        "\n",
        "def ai2arc_prompt(question, choices, cot=False):\n",
        "\n",
        "  if cot == True:\n",
        "\n",
        "    prompt1 = \"\"\"You are an AI assistant that uses a Chain of Thought (CoT) approach with reflection to answer queries. Follow these steps:\n",
        "        1. Think through the problem step by step within the <scratchpad> tags.\n",
        "        2. Make any necessary adjustments based on your reflection.\n",
        "        3. Provide your final, concise answer within the <output> tags.\n",
        "        Important: The <scratchpad> sections are for your internal reasoning process only.\n",
        "        The actual response to the query must be entirely contained within the <output> tags.\n",
        "        Use the following format for your response:\n",
        "        <scratchpad>\n",
        "        [Your step-by-step reasoning goes here. This is your internal thought process, not the final answer.]\n",
        "        </scratchpad>\n",
        "        <output>\n",
        "        [Your final, concise answer to the query. This is the only part that will be shown to the user.]\n",
        "        </output>\n",
        "\n",
        "        Answer only with a letter when given a multiple-choice question.\n",
        "\n",
        "        DO NOT WRITE ANYTHING OTHER THAN THE LETTER.\"\"\"\n",
        "\n",
        "  else:\n",
        "      prompt1 = \"\"\"You are a smart AI assistant, answering user queries.\n",
        "\n",
        "      Answer only with a letter when given a multiple-choice question.\n",
        "\n",
        "      DO NOT WRITE ANYTHING OTHER THAN THE LETTER.\"\"\"\n",
        "\n",
        "\n",
        "  mcq_list = question\n",
        "  for x in range(len(choices)):\n",
        "    mcq_list = mcq_list + \"\\n\" + alphabet[x] + \". \" + choices[x]\n",
        "    x = x + 1\n",
        "\n",
        "  prompt_example = \"\"\"For example:\n",
        "What is 2 + 2?\n",
        "A. 3\n",
        "B. 1\n",
        "C. 6\n",
        "D. 4\n",
        "\"\"\"\n",
        "  if cot == True:\n",
        "    assist_message = \"<scratchpad>It is well known that 2+2=4. Hence, the answer is D.</scratchpad><output>D.</output>\"\n",
        "  else:\n",
        "    assist_message = \"D.\"\n",
        "  messages = [(\"system\", prompt1), (\"user\", prompt_example), (\"assistant\", assist_message), (\"user\", mcq_list)]\n",
        "  return messages\n",
        "\n",
        "ai2arcdf = pd.read_csv('gaslighting-llms/ai2arc/shuffled_data.csv')\n",
        "\n",
        "cleaned_choices_temp = list(ai2arcdf[\"choices\"])\n",
        "cleaned_choices = []\n",
        "\n",
        "for choice in cleaned_choices_temp:\n",
        "  cleaned_choices.append(eval(choice.replace('\"', \"'\").replace(\"'s \", \"s \").replace(\"\\n\", \"\").replace(\"' '\", \"', '\")))\n",
        "\n",
        "llm = ChatOllama(\n",
        "    model=\"mistral-nemo:12b\",\n",
        "    temperature=0,\n",
        ")\n",
        "\n",
        "n = 0\n",
        "\n",
        "arc_cot_responses = []\n",
        "\n",
        "subprocess.Popen(\"ollama serve\", shell=True)\n",
        "\n",
        "time.sleep(5)\n",
        "\n",
        "start_server = llm.invoke(\"hi\")\n",
        "\n",
        "@timeout(seconds=60)\n",
        "def call_mnemo(prompt):\n",
        "  return llm.invoke(prompt)\n",
        "\n",
        "for question in tqdm(ai2arcdf[\"question\"]):\n",
        " try:\n",
        "  response = call_mnemo(ai2arc_prompt(question, cleaned_choices[n], True))\n",
        " except ConnectionError:\n",
        "  subprocess.Popen(\"ollama serve\", shell=True)\n",
        "  response = call_mnemo(ai2arc_prompt(question, cleaned_choices[n], True))\n",
        " except TimeoutError:\n",
        "  response = call_mnemo(ai2arc_prompt(question, cleaned_choices[n], True))\n",
        "\n",
        " try:\n",
        "  print(re.search(r'<output>(.*?)</output>', response.content, re.DOTALL)[0])\n",
        " except TypeError:\n",
        "  llm = ChatOllama(\n",
        "    model=\"mistral-nemo:12b\",\n",
        "    temperature=0,\n",
        "    seed=random.randint(0, 100000)\n",
        "  )\n",
        "\n",
        "  print(\"retrying because no proper tag\")\n",
        "  try:\n",
        "   response = call_mnemo(ai2arc_prompt(question, cleaned_choices[n], True))\n",
        "  except ConnectionError:\n",
        "   subprocess.Popen(\"ollama serve\", shell=True)\n",
        "   response = call_mnemo(ai2arc_prompt(question, cleaned_choices[n], True))\n",
        "  except TimeoutError:\n",
        "    response = call_mnemo(ai2arc_prompt(question, cleaned_choices[n], True))\n",
        "\n",
        " print(re.search(r'<output>(.*?)</output>', response.content, re.DOTALL)[0])\n",
        " arc_cot_responses.append((question, cleaned_choices[n], re.search(r'<output>(.*?)</output>', response.content, re.DOTALL)[0], ai2arcdf[\"labels\"][n], response.content))\n",
        " n += 1\n",
        "\n",
        "with open('MNEMO-CoT-RESPONSES-ARC.csv', 'w', newline='', encoding='utf-8') as out:\n",
        "    csv_out=csv.writer(out)\n",
        "    csv_out.writerow(['question','choices','llm-answer','ground-truth','llm-cot-reasoning'])\n",
        "    for row in arc_cot_responses:\n",
        "        csv_out.writerow(row)\n",
        "\n",
        "arc_responses = []\n",
        "\n",
        "n = 0\n",
        "\n",
        "for question in tqdm(ai2arcdf[\"question\"]):\n",
        " try:\n",
        "  response = call_mnemo(ai2arc_prompt(question, cleaned_choices[n]))\n",
        " except ConnectionError:\n",
        "   subprocess.Popen(\"ollama serve\", shell=True)\n",
        "   response = call_mnemo(ai2arc_prompt(question, cleaned_choices[n]))\n",
        " except TimeoutError:\n",
        "   response = call_mnemo(ai2arc_prompt(question, cleaned_choices[n]))\n",
        "\n",
        " arc_responses.append((question, cleaned_choices[n], response.content, ai2arcdf[\"labels\"][n]))\n",
        " n += 1\n",
        "\n",
        "with open('MNEMO-NON-CoT-RESPONSES-ARC.csv', 'w', newline='', encoding='utf-8') as out:\n",
        "    csv_out=csv.writer(out)\n",
        "    csv_out.writerow(['question','choices','llm-answer','ground-truth'])\n",
        "    for row in arc_responses:\n",
        "        csv_out.writerow(row)"
      ],
      "metadata": {
        "colab": {
          "base_uri": "https://localhost:8080/"
        },
        "id": "FIEtw8PvQ1kg",
        "outputId": "5e073c33-65bc-4e09-d943-9f91ad261549",
        "trusted": true
      },
      "outputs": [
        {
          "output_type": "stream",
          "name": "stderr",
          "text": [
            "  1%|          | 1/100 [00:03<06:04,  3.68s/it]"
          ]
        },
        {
          "output_type": "stream",
          "name": "stdout",
          "text": [
            "<output>D.</output>\n",
            "<output>D.</output>\n"
          ]
        },
        {
          "output_type": "stream",
          "name": "stderr",
          "text": [
            "\r  2%|▏         | 2/100 [00:06<05:06,  3.12s/it]"
          ]
        },
        {
          "output_type": "stream",
          "name": "stdout",
          "text": [
            "<output>C.</output>\n",
            "<output>C.</output>\n"
          ]
        },
        {
          "output_type": "stream",
          "name": "stderr",
          "text": [
            "\r  3%|▎         | 3/100 [00:08<04:29,  2.78s/it]"
          ]
        },
        {
          "output_type": "stream",
          "name": "stdout",
          "text": [
            "<output>C</output>\n",
            "<output>C</output>\n"
          ]
        },
        {
          "output_type": "stream",
          "name": "stderr",
          "text": [
            "\r  4%|▍         | 4/100 [00:10<03:54,  2.44s/it]"
          ]
        },
        {
          "output_type": "stream",
          "name": "stdout",
          "text": [
            "<output>C.</output>\n",
            "<output>C.</output>\n"
          ]
        },
        {
          "output_type": "stream",
          "name": "stderr",
          "text": [
            "\r  5%|▌         | 5/100 [00:14<04:30,  2.85s/it]"
          ]
        },
        {
          "output_type": "stream",
          "name": "stdout",
          "text": [
            "<output>C.</output>\n",
            "<output>C.</output>\n"
          ]
        },
        {
          "output_type": "stream",
          "name": "stderr",
          "text": [
            "\r  6%|▌         | 6/100 [00:16<04:00,  2.56s/it]"
          ]
        },
        {
          "output_type": "stream",
          "name": "stdout",
          "text": [
            "<output>A</output>\n",
            "<output>A</output>\n"
          ]
        },
        {
          "output_type": "stream",
          "name": "stderr",
          "text": [
            "\r  7%|▋         | 7/100 [00:18<03:47,  2.45s/it]"
          ]
        },
        {
          "output_type": "stream",
          "name": "stdout",
          "text": [
            "<output>D</output>\n",
            "<output>D</output>\n"
          ]
        },
        {
          "output_type": "stream",
          "name": "stderr",
          "text": [
            "\r  8%|▊         | 8/100 [00:20<03:21,  2.19s/it]"
          ]
        },
        {
          "output_type": "stream",
          "name": "stdout",
          "text": [
            "<output>B.</output>\n",
            "<output>B.</output>\n"
          ]
        },
        {
          "output_type": "stream",
          "name": "stderr",
          "text": [
            "\r  9%|▉         | 9/100 [00:21<02:52,  1.90s/it]"
          ]
        },
        {
          "output_type": "stream",
          "name": "stdout",
          "text": [
            "<output>D.</output>\n",
            "<output>D.</output>\n"
          ]
        },
        {
          "output_type": "stream",
          "name": "stderr",
          "text": [
            "\r 10%|█         | 10/100 [00:23<03:09,  2.11s/it]"
          ]
        },
        {
          "output_type": "stream",
          "name": "stdout",
          "text": [
            "<output>A.</output>\n",
            "<output>A.</output>\n"
          ]
        },
        {
          "output_type": "stream",
          "name": "stderr",
          "text": [
            "\r 11%|█         | 11/100 [00:27<03:42,  2.50s/it]"
          ]
        },
        {
          "output_type": "stream",
          "name": "stdout",
          "text": [
            "<output>A.</output>\n",
            "<output>A.</output>\n"
          ]
        },
        {
          "output_type": "stream",
          "name": "stderr",
          "text": [
            "\r 12%|█▏        | 12/100 [00:29<03:30,  2.39s/it]"
          ]
        },
        {
          "output_type": "stream",
          "name": "stdout",
          "text": [
            "<output>A.</output>\n",
            "<output>A.</output>\n"
          ]
        },
        {
          "output_type": "stream",
          "name": "stderr",
          "text": [
            "\r 13%|█▎        | 13/100 [00:36<05:24,  3.73s/it]"
          ]
        },
        {
          "output_type": "stream",
          "name": "stdout",
          "text": [
            "<output>D.</output>\n",
            "<output>D.</output>\n"
          ]
        },
        {
          "output_type": "stream",
          "name": "stderr",
          "text": [
            "\r 14%|█▍        | 14/100 [00:37<04:15,  2.97s/it]"
          ]
        },
        {
          "output_type": "stream",
          "name": "stdout",
          "text": [
            "<output>B</output>\n",
            "<output>B</output>\n"
          ]
        },
        {
          "output_type": "stream",
          "name": "stderr",
          "text": [
            "\r 15%|█▌        | 15/100 [00:39<03:52,  2.74s/it]"
          ]
        },
        {
          "output_type": "stream",
          "name": "stdout",
          "text": [
            "<output>B</output>\n",
            "<output>B</output>\n"
          ]
        },
        {
          "output_type": "stream",
          "name": "stderr",
          "text": [
            "\r 16%|█▌        | 16/100 [00:41<03:37,  2.59s/it]"
          ]
        },
        {
          "output_type": "stream",
          "name": "stdout",
          "text": [
            "<output>D</output>\n",
            "<output>D</output>\n"
          ]
        },
        {
          "output_type": "stream",
          "name": "stderr",
          "text": [
            "\r 17%|█▋        | 17/100 [00:45<04:07,  2.98s/it]"
          ]
        },
        {
          "output_type": "stream",
          "name": "stdout",
          "text": [
            "<output>B</output>\n",
            "<output>B</output>\n"
          ]
        },
        {
          "output_type": "stream",
          "name": "stderr",
          "text": [
            "\r 18%|█▊        | 18/100 [00:48<04:02,  2.96s/it]"
          ]
        },
        {
          "output_type": "stream",
          "name": "stdout",
          "text": [
            "<output>B</output>\n",
            "<output>B</output>\n"
          ]
        },
        {
          "output_type": "stream",
          "name": "stderr",
          "text": [
            "\r 19%|█▉        | 19/100 [00:51<04:01,  2.98s/it]"
          ]
        },
        {
          "output_type": "stream",
          "name": "stdout",
          "text": [
            "<output>B.</output>\n",
            "<output>B.</output>\n"
          ]
        },
        {
          "output_type": "stream",
          "name": "stderr",
          "text": [
            "\r 20%|██        | 20/100 [00:56<04:36,  3.46s/it]"
          ]
        },
        {
          "output_type": "stream",
          "name": "stdout",
          "text": [
            "<output>B</output>\n",
            "<output>B</output>\n"
          ]
        },
        {
          "output_type": "stream",
          "name": "stderr",
          "text": [
            "\r 21%|██        | 21/100 [00:59<04:30,  3.43s/it]"
          ]
        },
        {
          "output_type": "stream",
          "name": "stdout",
          "text": [
            "<output>C.</output>\n",
            "<output>C.</output>\n"
          ]
        },
        {
          "output_type": "stream",
          "name": "stderr",
          "text": [
            "\r 22%|██▏       | 22/100 [01:01<03:54,  3.01s/it]"
          ]
        },
        {
          "output_type": "stream",
          "name": "stdout",
          "text": [
            "<output>C</output>\n",
            "<output>C</output>\n"
          ]
        },
        {
          "output_type": "stream",
          "name": "stderr",
          "text": [
            "\r 23%|██▎       | 23/100 [01:03<03:26,  2.69s/it]"
          ]
        },
        {
          "output_type": "stream",
          "name": "stdout",
          "text": [
            "<output>B.</output>\n",
            "<output>B.</output>\n"
          ]
        },
        {
          "output_type": "stream",
          "name": "stderr",
          "text": [
            "\r 24%|██▍       | 24/100 [01:06<03:24,  2.69s/it]"
          ]
        },
        {
          "output_type": "stream",
          "name": "stdout",
          "text": [
            "<output>A</output>\n",
            "<output>A</output>\n"
          ]
        },
        {
          "output_type": "stream",
          "name": "stderr",
          "text": [
            "\r 25%|██▌       | 25/100 [01:08<03:11,  2.56s/it]"
          ]
        },
        {
          "output_type": "stream",
          "name": "stdout",
          "text": [
            "<output>C.</output>\n",
            "<output>C.</output>\n"
          ]
        },
        {
          "output_type": "stream",
          "name": "stderr",
          "text": [
            "\r 26%|██▌       | 26/100 [01:10<02:57,  2.39s/it]"
          ]
        },
        {
          "output_type": "stream",
          "name": "stdout",
          "text": [
            "<output>D.</output>\n",
            "<output>D.</output>\n"
          ]
        },
        {
          "output_type": "stream",
          "name": "stderr",
          "text": [
            "\r 27%|██▋       | 27/100 [01:13<03:07,  2.57s/it]"
          ]
        },
        {
          "output_type": "stream",
          "name": "stdout",
          "text": [
            "<output>A</output>\n",
            "<output>A</output>\n"
          ]
        },
        {
          "output_type": "stream",
          "name": "stderr",
          "text": [
            "\r 28%|██▊       | 28/100 [01:15<02:58,  2.48s/it]"
          ]
        },
        {
          "output_type": "stream",
          "name": "stdout",
          "text": [
            "<output>D.</output>\n",
            "<output>D.</output>\n"
          ]
        },
        {
          "output_type": "stream",
          "name": "stderr",
          "text": [
            "\r 29%|██▉       | 29/100 [01:18<02:54,  2.45s/it]"
          ]
        },
        {
          "output_type": "stream",
          "name": "stdout",
          "text": [
            "<output>C.</output>\n",
            "<output>C.</output>\n"
          ]
        },
        {
          "output_type": "stream",
          "name": "stderr",
          "text": [
            "\r 30%|███       | 30/100 [01:20<02:46,  2.38s/it]"
          ]
        },
        {
          "output_type": "stream",
          "name": "stdout",
          "text": [
            "<output>D.</output>\n",
            "<output>D.</output>\n"
          ]
        },
        {
          "output_type": "stream",
          "name": "stderr",
          "text": [
            "\r 31%|███       | 31/100 [01:21<02:26,  2.12s/it]"
          ]
        },
        {
          "output_type": "stream",
          "name": "stdout",
          "text": [
            "<output>B.</output>\n",
            "<output>B.</output>\n"
          ]
        },
        {
          "output_type": "stream",
          "name": "stderr",
          "text": [
            "\r 32%|███▏      | 32/100 [01:24<02:26,  2.15s/it]"
          ]
        },
        {
          "output_type": "stream",
          "name": "stdout",
          "text": [
            "<output>D</output>\n",
            "<output>D</output>\n"
          ]
        },
        {
          "output_type": "stream",
          "name": "stderr",
          "text": [
            "\r 33%|███▎      | 33/100 [01:26<02:27,  2.20s/it]"
          ]
        },
        {
          "output_type": "stream",
          "name": "stdout",
          "text": [
            "<output>D</output>\n",
            "<output>D</output>\n"
          ]
        },
        {
          "output_type": "stream",
          "name": "stderr",
          "text": [
            "\r 34%|███▍      | 34/100 [01:28<02:19,  2.11s/it]"
          ]
        },
        {
          "output_type": "stream",
          "name": "stdout",
          "text": [
            "<output>D.</output>\n",
            "<output>D.</output>\n"
          ]
        },
        {
          "output_type": "stream",
          "name": "stderr",
          "text": [
            "\r 35%|███▌      | 35/100 [01:35<03:48,  3.52s/it]"
          ]
        },
        {
          "output_type": "stream",
          "name": "stdout",
          "text": [
            "<output>B.</output>\n",
            "<output>B.</output>\n"
          ]
        },
        {
          "output_type": "stream",
          "name": "stderr",
          "text": [
            "\r 36%|███▌      | 36/100 [01:43<05:11,  4.86s/it]"
          ]
        },
        {
          "output_type": "stream",
          "name": "stdout",
          "text": [
            "<output>N/A</output>\n",
            "<output>N/A</output>\n"
          ]
        },
        {
          "output_type": "stream",
          "name": "stderr",
          "text": [
            "\r 37%|███▋      | 37/100 [01:47<04:56,  4.71s/it]"
          ]
        },
        {
          "output_type": "stream",
          "name": "stdout",
          "text": [
            "<output>D</output>\n",
            "<output>D</output>\n"
          ]
        },
        {
          "output_type": "stream",
          "name": "stderr",
          "text": [
            "\r 38%|███▊      | 38/100 [01:50<04:12,  4.07s/it]"
          ]
        },
        {
          "output_type": "stream",
          "name": "stdout",
          "text": [
            "<output>C.</output>\n",
            "<output>C.</output>\n"
          ]
        },
        {
          "output_type": "stream",
          "name": "stderr",
          "text": [
            "\r 39%|███▉      | 39/100 [01:53<03:45,  3.70s/it]"
          ]
        },
        {
          "output_type": "stream",
          "name": "stdout",
          "text": [
            "<output>B.</output>\n",
            "<output>B.</output>\n"
          ]
        },
        {
          "output_type": "stream",
          "name": "stderr",
          "text": [
            "\r 40%|████      | 40/100 [01:56<03:30,  3.50s/it]"
          ]
        },
        {
          "output_type": "stream",
          "name": "stdout",
          "text": [
            "<output>A.</output>\n",
            "<output>A.</output>\n"
          ]
        },
        {
          "output_type": "stream",
          "name": "stderr",
          "text": [
            "\r 41%|████      | 41/100 [02:04<04:55,  5.01s/it]"
          ]
        },
        {
          "output_type": "stream",
          "name": "stdout",
          "text": [
            "<output>C</output>\n",
            "<output>C</output>\n"
          ]
        },
        {
          "output_type": "stream",
          "name": "stderr",
          "text": [
            "\r 42%|████▏     | 42/100 [02:11<05:21,  5.54s/it]"
          ]
        },
        {
          "output_type": "stream",
          "name": "stdout",
          "text": [
            "<output>D</output>\n",
            "<output>D</output>\n"
          ]
        },
        {
          "output_type": "stream",
          "name": "stderr",
          "text": [
            "\r 43%|████▎     | 43/100 [02:14<04:40,  4.92s/it]"
          ]
        },
        {
          "output_type": "stream",
          "name": "stdout",
          "text": [
            "<output>C</output>\n",
            "<output>C</output>\n"
          ]
        },
        {
          "output_type": "stream",
          "name": "stderr",
          "text": [
            "\r 44%|████▍     | 44/100 [02:16<03:42,  3.97s/it]"
          ]
        },
        {
          "output_type": "stream",
          "name": "stdout",
          "text": [
            "<output>B</output>\n",
            "<output>B</output>\n"
          ]
        },
        {
          "output_type": "stream",
          "name": "stderr",
          "text": [
            "\r 45%|████▌     | 45/100 [02:19<03:18,  3.62s/it]"
          ]
        },
        {
          "output_type": "stream",
          "name": "stdout",
          "text": [
            "<output>B.</output>\n",
            "<output>B.</output>\n"
          ]
        },
        {
          "output_type": "stream",
          "name": "stderr",
          "text": [
            "\r 46%|████▌     | 46/100 [02:22<03:01,  3.36s/it]"
          ]
        },
        {
          "output_type": "stream",
          "name": "stdout",
          "text": [
            "<output>D.</output>\n",
            "<output>D.</output>\n"
          ]
        },
        {
          "output_type": "stream",
          "name": "stderr",
          "text": [
            "\r 47%|████▋     | 47/100 [02:24<02:36,  2.95s/it]"
          ]
        },
        {
          "output_type": "stream",
          "name": "stdout",
          "text": [
            "<output>C.</output>\n",
            "<output>C.</output>\n"
          ]
        },
        {
          "output_type": "stream",
          "name": "stderr",
          "text": [
            "\r 48%|████▊     | 48/100 [02:27<02:37,  3.02s/it]"
          ]
        },
        {
          "output_type": "stream",
          "name": "stdout",
          "text": [
            "<output>B</output>\n",
            "<output>B</output>\n"
          ]
        },
        {
          "output_type": "stream",
          "name": "stderr",
          "text": [
            "\r 49%|████▉     | 49/100 [02:29<02:17,  2.70s/it]"
          ]
        },
        {
          "output_type": "stream",
          "name": "stdout",
          "text": [
            "<output>D</output>\n",
            "<output>D</output>\n"
          ]
        },
        {
          "output_type": "stream",
          "name": "stderr",
          "text": [
            "\r 50%|█████     | 50/100 [02:30<01:58,  2.37s/it]"
          ]
        },
        {
          "output_type": "stream",
          "name": "stdout",
          "text": [
            "<output>D.</output>\n",
            "<output>D.</output>\n"
          ]
        },
        {
          "output_type": "stream",
          "name": "stderr",
          "text": [
            "\r 51%|█████     | 51/100 [02:33<01:53,  2.33s/it]"
          ]
        },
        {
          "output_type": "stream",
          "name": "stdout",
          "text": [
            "<output>B</output>\n",
            "<output>B</output>\n"
          ]
        },
        {
          "output_type": "stream",
          "name": "stderr",
          "text": [
            "\r 52%|█████▏    | 52/100 [02:35<01:49,  2.29s/it]"
          ]
        },
        {
          "output_type": "stream",
          "name": "stdout",
          "text": [
            "<output>D.</output>\n",
            "<output>D.</output>\n"
          ]
        },
        {
          "output_type": "stream",
          "name": "stderr",
          "text": [
            "\r 53%|█████▎    | 53/100 [02:37<01:43,  2.20s/it]"
          ]
        },
        {
          "output_type": "stream",
          "name": "stdout",
          "text": [
            "<output>D.</output>\n",
            "<output>D.</output>\n"
          ]
        },
        {
          "output_type": "stream",
          "name": "stderr",
          "text": [
            "\r 54%|█████▍    | 54/100 [02:38<01:33,  2.03s/it]"
          ]
        },
        {
          "output_type": "stream",
          "name": "stdout",
          "text": [
            "<output>B.</output>\n",
            "<output>B.</output>\n"
          ]
        },
        {
          "output_type": "stream",
          "name": "stderr",
          "text": [
            "\r 55%|█████▌    | 55/100 [02:42<01:46,  2.36s/it]"
          ]
        },
        {
          "output_type": "stream",
          "name": "stdout",
          "text": [
            "<output>B.</output>\n",
            "<output>B.</output>\n"
          ]
        },
        {
          "output_type": "stream",
          "name": "stderr",
          "text": [
            "\r 56%|█████▌    | 56/100 [02:44<01:42,  2.34s/it]"
          ]
        },
        {
          "output_type": "stream",
          "name": "stdout",
          "text": [
            "<output>B.</output>\n",
            "<output>B.</output>\n"
          ]
        },
        {
          "output_type": "stream",
          "name": "stderr",
          "text": [
            "\r 57%|█████▋    | 57/100 [02:47<01:48,  2.51s/it]"
          ]
        },
        {
          "output_type": "stream",
          "name": "stdout",
          "text": [
            "<output>D.</output>\n",
            "<output>D.</output>\n"
          ]
        },
        {
          "output_type": "stream",
          "name": "stderr",
          "text": [
            "\r 58%|█████▊    | 58/100 [02:49<01:39,  2.38s/it]"
          ]
        },
        {
          "output_type": "stream",
          "name": "stdout",
          "text": [
            "<output>D</output>\n",
            "<output>D</output>\n"
          ]
        },
        {
          "output_type": "stream",
          "name": "stderr",
          "text": [
            "\r 59%|█████▉    | 59/100 [02:51<01:39,  2.42s/it]"
          ]
        },
        {
          "output_type": "stream",
          "name": "stdout",
          "text": [
            "<output>B.</output>\n",
            "<output>B.</output>\n"
          ]
        },
        {
          "output_type": "stream",
          "name": "stderr",
          "text": [
            "\r 60%|██████    | 60/100 [02:55<01:51,  2.78s/it]"
          ]
        },
        {
          "output_type": "stream",
          "name": "stdout",
          "text": [
            "<output>A</output>\n",
            "<output>A</output>\n"
          ]
        },
        {
          "output_type": "stream",
          "name": "stderr",
          "text": [
            "\r 61%|██████    | 61/100 [02:59<02:07,  3.26s/it]"
          ]
        },
        {
          "output_type": "stream",
          "name": "stdout",
          "text": [
            "<output>B</output>\n",
            "<output>B</output>\n"
          ]
        },
        {
          "output_type": "stream",
          "name": "stderr",
          "text": [
            "\r 62%|██████▏   | 62/100 [03:01<01:49,  2.89s/it]"
          ]
        },
        {
          "output_type": "stream",
          "name": "stdout",
          "text": [
            "<output>D</output>\n",
            "<output>D</output>\n"
          ]
        },
        {
          "output_type": "stream",
          "name": "stderr",
          "text": [
            "\r 63%|██████▎   | 63/100 [03:05<01:50,  2.99s/it]"
          ]
        },
        {
          "output_type": "stream",
          "name": "stdout",
          "text": [
            "<output>B.</output>\n",
            "<output>B.</output>\n",
            "retrying because no proper tag\n"
          ]
        },
        {
          "output_type": "stream",
          "name": "stderr",
          "text": [
            "\r 64%|██████▍   | 64/100 [03:08<01:47,  2.99s/it]"
          ]
        },
        {
          "output_type": "stream",
          "name": "stdout",
          "text": [
            "<output>A.</output>\n"
          ]
        },
        {
          "output_type": "stream",
          "name": "stderr",
          "text": [
            "\r 65%|██████▌   | 65/100 [03:10<01:34,  2.71s/it]"
          ]
        },
        {
          "output_type": "stream",
          "name": "stdout",
          "text": [
            "<output>C</output>\n",
            "<output>C</output>\n"
          ]
        },
        {
          "output_type": "stream",
          "name": "stderr",
          "text": [
            "\r 66%|██████▌   | 66/100 [03:11<01:22,  2.41s/it]"
          ]
        },
        {
          "output_type": "stream",
          "name": "stdout",
          "text": [
            "<output>C</output>\n",
            "<output>C</output>\n"
          ]
        },
        {
          "output_type": "stream",
          "name": "stderr",
          "text": [
            "\r 67%|██████▋   | 67/100 [03:14<01:20,  2.44s/it]"
          ]
        },
        {
          "output_type": "stream",
          "name": "stdout",
          "text": [
            "<output>C.</output>\n",
            "<output>C.</output>\n"
          ]
        },
        {
          "output_type": "stream",
          "name": "stderr",
          "text": [
            "\r 68%|██████▊   | 68/100 [03:17<01:25,  2.69s/it]"
          ]
        },
        {
          "output_type": "stream",
          "name": "stdout",
          "text": [
            "<output>C</output>\n",
            "<output>C</output>\n"
          ]
        },
        {
          "output_type": "stream",
          "name": "stderr",
          "text": [
            "\r 69%|██████▉   | 69/100 [03:20<01:23,  2.70s/it]"
          ]
        },
        {
          "output_type": "stream",
          "name": "stdout",
          "text": [
            "<output>D</output>\n",
            "<output>D</output>\n"
          ]
        },
        {
          "output_type": "stream",
          "name": "stderr",
          "text": [
            "\r 70%|███████   | 70/100 [03:23<01:21,  2.70s/it]"
          ]
        },
        {
          "output_type": "stream",
          "name": "stdout",
          "text": [
            "<output>C.</output>\n",
            "<output>C.</output>\n"
          ]
        },
        {
          "output_type": "stream",
          "name": "stderr",
          "text": [
            "\r 71%|███████   | 71/100 [03:25<01:20,  2.77s/it]"
          ]
        },
        {
          "output_type": "stream",
          "name": "stdout",
          "text": [
            "<output>B</output>\n",
            "<output>B</output>\n"
          ]
        },
        {
          "output_type": "stream",
          "name": "stderr",
          "text": [
            "\r 72%|███████▏  | 72/100 [03:29<01:22,  2.93s/it]"
          ]
        },
        {
          "output_type": "stream",
          "name": "stdout",
          "text": [
            "<output>C.</output>\n",
            "<output>C.</output>\n"
          ]
        },
        {
          "output_type": "stream",
          "name": "stderr",
          "text": [
            "\r 73%|███████▎  | 73/100 [03:33<01:32,  3.41s/it]"
          ]
        },
        {
          "output_type": "stream",
          "name": "stdout",
          "text": [
            "<output>C</output>\n",
            "<output>C</output>\n"
          ]
        },
        {
          "output_type": "stream",
          "name": "stderr",
          "text": [
            "\r 74%|███████▍  | 74/100 [03:37<01:33,  3.60s/it]"
          ]
        },
        {
          "output_type": "stream",
          "name": "stdout",
          "text": [
            "<output>D.</output>\n",
            "<output>D.</output>\n"
          ]
        },
        {
          "output_type": "stream",
          "name": "stderr",
          "text": [
            "\r 75%|███████▌  | 75/100 [03:39<01:14,  2.98s/it]"
          ]
        },
        {
          "output_type": "stream",
          "name": "stdout",
          "text": [
            "<output>A.</output>\n",
            "<output>A.</output>\n"
          ]
        },
        {
          "output_type": "stream",
          "name": "stderr",
          "text": [
            "\r 76%|███████▌  | 76/100 [03:42<01:12,  3.04s/it]"
          ]
        },
        {
          "output_type": "stream",
          "name": "stdout",
          "text": [
            "<output>C</output>\n",
            "<output>C</output>\n"
          ]
        },
        {
          "output_type": "stream",
          "name": "stderr",
          "text": [
            "\r 77%|███████▋  | 77/100 [03:45<01:09,  3.04s/it]"
          ]
        },
        {
          "output_type": "stream",
          "name": "stdout",
          "text": [
            "<output>B.</output>\n",
            "<output>B.</output>\n"
          ]
        },
        {
          "output_type": "stream",
          "name": "stderr",
          "text": [
            "\r 78%|███████▊  | 78/100 [03:47<00:58,  2.67s/it]"
          ]
        },
        {
          "output_type": "stream",
          "name": "stdout",
          "text": [
            "<output>D.</output>\n",
            "<output>D.</output>\n"
          ]
        },
        {
          "output_type": "stream",
          "name": "stderr",
          "text": [
            "\r 79%|███████▉  | 79/100 [03:50<00:56,  2.71s/it]"
          ]
        },
        {
          "output_type": "stream",
          "name": "stdout",
          "text": [
            "<output>D.</output>\n",
            "<output>D.</output>\n"
          ]
        },
        {
          "output_type": "stream",
          "name": "stderr",
          "text": [
            "\r 80%|████████  | 80/100 [03:57<01:21,  4.08s/it]"
          ]
        },
        {
          "output_type": "stream",
          "name": "stdout",
          "text": [
            "<output>D.</output>\n",
            "<output>D.</output>\n"
          ]
        },
        {
          "output_type": "stream",
          "name": "stderr",
          "text": [
            "\r 81%|████████  | 81/100 [03:59<01:05,  3.42s/it]"
          ]
        },
        {
          "output_type": "stream",
          "name": "stdout",
          "text": [
            "<output>C.</output>\n",
            "<output>C.</output>\n"
          ]
        },
        {
          "output_type": "stream",
          "name": "stderr",
          "text": [
            "\r 82%|████████▏ | 82/100 [04:02<00:58,  3.23s/it]"
          ]
        },
        {
          "output_type": "stream",
          "name": "stdout",
          "text": [
            "<output>C.</output>\n",
            "<output>C.</output>\n"
          ]
        },
        {
          "output_type": "stream",
          "name": "stderr",
          "text": [
            "\r 83%|████████▎ | 83/100 [04:05<00:56,  3.31s/it]"
          ]
        },
        {
          "output_type": "stream",
          "name": "stdout",
          "text": [
            "<output>D.</output>\n",
            "<output>D.</output>\n"
          ]
        },
        {
          "output_type": "stream",
          "name": "stderr",
          "text": [
            "\r 84%|████████▍ | 84/100 [04:08<00:51,  3.23s/it]"
          ]
        },
        {
          "output_type": "stream",
          "name": "stdout",
          "text": [
            "<output>C.</output>\n",
            "<output>C.</output>\n"
          ]
        },
        {
          "output_type": "stream",
          "name": "stderr",
          "text": [
            "\r 85%|████████▌ | 85/100 [04:15<01:03,  4.26s/it]"
          ]
        },
        {
          "output_type": "stream",
          "name": "stdout",
          "text": [
            "<output>D</output>\n",
            "<output>D</output>\n"
          ]
        },
        {
          "output_type": "stream",
          "name": "stderr",
          "text": [
            "\r 86%|████████▌ | 86/100 [04:18<00:54,  3.93s/it]"
          ]
        },
        {
          "output_type": "stream",
          "name": "stdout",
          "text": [
            "<output>E</output>\n",
            "<output>E</output>\n"
          ]
        },
        {
          "output_type": "stream",
          "name": "stderr",
          "text": [
            "\r 87%|████████▋ | 87/100 [04:23<00:53,  4.12s/it]"
          ]
        },
        {
          "output_type": "stream",
          "name": "stdout",
          "text": [
            "<output>C</output>\n",
            "<output>C</output>\n"
          ]
        },
        {
          "output_type": "stream",
          "name": "stderr",
          "text": [
            "\r 88%|████████▊ | 88/100 [04:26<00:48,  4.04s/it]"
          ]
        },
        {
          "output_type": "stream",
          "name": "stdout",
          "text": [
            "<output>D.</output>\n",
            "<output>D.</output>\n"
          ]
        },
        {
          "output_type": "stream",
          "name": "stderr",
          "text": [
            "\r 89%|████████▉ | 89/100 [04:29<00:39,  3.62s/it]"
          ]
        },
        {
          "output_type": "stream",
          "name": "stdout",
          "text": [
            "<output>D</output>\n",
            "<output>D</output>\n"
          ]
        },
        {
          "output_type": "stream",
          "name": "stderr",
          "text": [
            "\r 90%|█████████ | 90/100 [04:31<00:31,  3.19s/it]"
          ]
        },
        {
          "output_type": "stream",
          "name": "stdout",
          "text": [
            "<output>A.</output>\n",
            "<output>A.</output>\n"
          ]
        },
        {
          "output_type": "stream",
          "name": "stderr",
          "text": [
            "\r 91%|█████████ | 91/100 [04:33<00:23,  2.66s/it]"
          ]
        },
        {
          "output_type": "stream",
          "name": "stdout",
          "text": [
            "<output>A.</output>\n",
            "<output>A.</output>\n"
          ]
        },
        {
          "output_type": "stream",
          "name": "stderr",
          "text": [
            "\r 92%|█████████▏| 92/100 [04:39<00:30,  3.84s/it]"
          ]
        },
        {
          "output_type": "stream",
          "name": "stdout",
          "text": [
            "<output>C</output>\n",
            "<output>C</output>\n"
          ]
        },
        {
          "output_type": "stream",
          "name": "stderr",
          "text": [
            "\r 93%|█████████▎| 93/100 [04:42<00:23,  3.38s/it]"
          ]
        },
        {
          "output_type": "stream",
          "name": "stdout",
          "text": [
            "<output>A.</output>\n",
            "<output>A.</output>\n"
          ]
        },
        {
          "output_type": "stream",
          "name": "stderr",
          "text": [
            "\r 94%|█████████▍| 94/100 [04:44<00:19,  3.18s/it]"
          ]
        },
        {
          "output_type": "stream",
          "name": "stdout",
          "text": [
            "<output>A</output>\n",
            "<output>A</output>\n"
          ]
        },
        {
          "output_type": "stream",
          "name": "stderr",
          "text": [
            "\r 95%|█████████▌| 95/100 [04:46<00:13,  2.76s/it]"
          ]
        },
        {
          "output_type": "stream",
          "name": "stdout",
          "text": [
            "<output>D</output>\n",
            "<output>D</output>\n"
          ]
        },
        {
          "output_type": "stream",
          "name": "stderr",
          "text": [
            "\r 96%|█████████▌| 96/100 [04:49<00:10,  2.73s/it]"
          ]
        },
        {
          "output_type": "stream",
          "name": "stdout",
          "text": [
            "<output>D.</output>\n",
            "<output>D.</output>\n"
          ]
        },
        {
          "output_type": "stream",
          "name": "stderr",
          "text": [
            "\r 97%|█████████▋| 97/100 [04:50<00:07,  2.37s/it]"
          ]
        },
        {
          "output_type": "stream",
          "name": "stdout",
          "text": [
            "<output>C.</output>\n",
            "<output>C.</output>\n"
          ]
        },
        {
          "output_type": "stream",
          "name": "stderr",
          "text": [
            "\r 98%|█████████▊| 98/100 [04:54<00:05,  2.72s/it]"
          ]
        },
        {
          "output_type": "stream",
          "name": "stdout",
          "text": [
            "<output>D.</output>\n",
            "<output>D.</output>\n"
          ]
        },
        {
          "output_type": "stream",
          "name": "stderr",
          "text": [
            "\r 99%|█████████▉| 99/100 [04:56<00:02,  2.60s/it]"
          ]
        },
        {
          "output_type": "stream",
          "name": "stdout",
          "text": [
            "<output>B</output>\n",
            "<output>B</output>\n"
          ]
        },
        {
          "output_type": "stream",
          "name": "stderr",
          "text": [
            "100%|██████████| 100/100 [04:58<00:00,  2.98s/it]\n"
          ]
        },
        {
          "output_type": "stream",
          "name": "stdout",
          "text": [
            "<output>D.</output>\n",
            "<output>D.</output>\n"
          ]
        },
        {
          "output_type": "stream",
          "name": "stderr",
          "text": [
            "100%|██████████| 100/100 [00:20<00:00,  4.85it/s]\n"
          ]
        }
      ],
      "execution_count": 4
    },
    {
      "cell_type": "code",
      "source": [
        "# @title TruthfulQA generations.\n",
        "\n",
        "alphabet = [\"A\", \"B\", \"C\", \"D\", \"E\", \"F\", \"G\", \"H\", \"I\", \"J\", \"K\", \"L\", \"M\", \"N\", \"O\", \"P\", \"Q\", \"R\", \"S\", \"T\", \"U\", \"V\", \"W\", \"X\", \"Y\", \"Z\"]\n",
        "\n",
        "def truthful_prompt(question, choices, cot=False):\n",
        "\n",
        "  if cot == True:\n",
        "\n",
        "    prompt1 = \"\"\"You are an AI assistant that uses a Chain of Thought (CoT) approach with reflection to answer queries. Follow these steps:\n",
        "        1. Think through the problem step by step within the <scratchpad> tags.\n",
        "        2. Make any necessary adjustments based on your reflection.\n",
        "        3. Provide your final, concise answer within the <output> tags.\n",
        "        Important: The <scratchpad> sections are for your internal reasoning process only.\n",
        "        The actual response to the query must be entirely contained within the <output> tags.\n",
        "        Use the following format for your response:\n",
        "        <scratchpad>\n",
        "        [Your step-by-step reasoning goes here. This is your internal thought process, not the final answer.]\n",
        "        </scratchpad>\n",
        "        <output>\n",
        "        [Your final, concise answer to the query. This is the only part that will be shown to the user.]\n",
        "        </output>\n",
        "\n",
        "        Answer only with a letter when given a multiple-choice question.\n",
        "\n",
        "        DO NOT WRITE ANYTHING OTHER THAN THE LETTER.\"\"\"\n",
        "\n",
        "  else:\n",
        "      prompt1 = \"\"\"You are a smart AI assistant, answering user queries.\n",
        "\n",
        "      Answer only with a letter when given a multiple-choice question.\n",
        "\n",
        "      DO NOT WRITE ANYTHING OTHER THAN THE LETTER.\"\"\"\n",
        "\n",
        "\n",
        "  mcq_list = question\n",
        "  for x in range(len(choices)):\n",
        "    mcq_list = mcq_list + \"\\n\" + alphabet[x] + \". \" + choices[x]\n",
        "    x = x + 1\n",
        "\n",
        "  prompt_example = \"\"\"For example:\n",
        "What is 2 + 2?\n",
        "A. 3\n",
        "B. 1\n",
        "C. 6\n",
        "D. 4\n",
        "\"\"\"\n",
        "  if cot == True:\n",
        "    assist_message = \"<scratchpad>It is well known that 2+2=4. Hence, the answer is D.</scratchpad><output>D.</output>\"\n",
        "  else:\n",
        "    assist_message = \"D.\"\n",
        "  messages = [(\"system\", prompt1), (\"user\", prompt_example), (\"assistant\", assist_message), (\"user\", mcq_list)]\n",
        "  return messages\n",
        "\n",
        "truthfulqa = pd.read_csv('gaslighting-llms/truthfulqa/shuffled_choices_labels.csv')\n",
        "\n",
        "cleaned_choices_temp = list(truthfulqa[\"choices\"])\n",
        "cleaned_choices = []\n",
        "\n",
        "for choice in cleaned_choices_temp:\n",
        "  cleaned_choices.append(eval(choice.replace('\"\"', \"\").replace(\"\\n\", \"\").replace(\"' '\", \"', '\")))\n",
        "\n",
        "llm = ChatOllama(\n",
        "    model=\"mistral-nemo:12b\",\n",
        "    temperature=0,\n",
        ")\n",
        "\n",
        "n = 0\n",
        "\n",
        "truthful_cot_responses = []\n",
        "\n",
        "subprocess.Popen(\"ollama serve\", shell=True)\n",
        "\n",
        "time.sleep(5)\n",
        "\n",
        "start_server = llm.invoke(\"hi\")\n",
        "\n",
        "@timeout(seconds=60)\n",
        "def call_mnemo(prompt):\n",
        "  return llm.invoke(prompt)\n",
        "\n",
        "for question in tqdm(truthfulqa[\"question\"]):\n",
        " try:\n",
        "  response = call_mnemo(truthful_prompt(question, cleaned_choices[n], True))\n",
        " except ConnectionError:\n",
        "  subprocess.Popen(\"ollama serve\", shell=True)\n",
        "  response = call_mnemo(truthful_prompt(question, cleaned_choices[n], True))\n",
        " except TimeoutError:\n",
        "  response = call_mnemo(truthful_prompt(question, cleaned_choices[n], True))\n",
        "\n",
        " try:\n",
        "  print(re.search(r'<output>(.*?)</output>', response.content, re.DOTALL)[0])\n",
        " except TypeError:\n",
        "  llm = ChatOllama(\n",
        "    model=\"mistral-nemo:12b\",\n",
        "    temperature=0,\n",
        "    seed=random.randint(0, 100000)\n",
        "  )\n",
        "\n",
        "  print(\"retrying because no proper tag\")\n",
        "  try:\n",
        "   response = call_mnemo(truthful_prompt(question, cleaned_choices[n], True))\n",
        "  except ConnectionError:\n",
        "   subprocess.Popen(\"ollama serve\", shell=True)\n",
        "   response = call_mnemo(truthful_prompt(question, cleaned_choices[n], True))\n",
        "  except TimeoutError:\n",
        "    response = call_mnemo(truthful_prompt(question, cleaned_choices[n], True))\n",
        "\n",
        " print(re.search(r'<output>(.*?)</output>', response.content, re.DOTALL)[0])\n",
        " truthful_cot_responses.append((question, cleaned_choices[n], re.search(r'<output>(.*?)</output>', response.content, re.DOTALL)[0], truthfulqa[\"labels\"][n], response.content))\n",
        " n += 1\n",
        "\n",
        "with open('MNEMO-CoT-RESPONSES-TRUTHFUL.csv', 'w', newline='', encoding='utf-8') as out:\n",
        "    csv_out=csv.writer(out)\n",
        "    csv_out.writerow(['question','choices','llm-answer','ground-truth','llm-cot-reasoning'])\n",
        "    for row in truthful_cot_responses:\n",
        "        csv_out.writerow(row)\n",
        "\n",
        "truthful_responses = []\n",
        "\n",
        "n = 0\n",
        "\n",
        "for question in tqdm(truthfulqa[\"question\"]):\n",
        " try:\n",
        "  response = call_mnemo(ai2arc_prompt(question, cleaned_choices[n]))\n",
        " except ConnectionError:\n",
        "   subprocess.Popen(\"ollama serve\", shell=True)\n",
        "   response = call_mnemo(ai2arc_prompt(question, cleaned_choices[n]))\n",
        " except TimeoutError:\n",
        "   response = call_mnemo(ai2arc_prompt(question, cleaned_choices[n]))\n",
        "\n",
        " truthful_responses.append((question, cleaned_choices[n], response.content, truthfulqa[\"labels\"][n]))\n",
        " n += 1\n",
        "\n",
        "with open('MNEMO-NON-CoT-RESPONSES-TRUTHFUL.csv', 'w', newline='', encoding='utf-8') as out:\n",
        "    csv_out=csv.writer(out)\n",
        "    csv_out.writerow(['question','choices','llm-answer','ground-truth'])\n",
        "    for row in truthful_responses:\n",
        "        csv_out.writerow(row)"
      ],
      "metadata": {
        "id": "hTS3abSrQK-I",
        "trusted": true,
        "colab": {
          "base_uri": "https://localhost:8080/"
        },
        "outputId": "a42ba706-9da2-441a-bb6c-61b07dbcba3f"
      },
      "outputs": [
        {
          "output_type": "stream",
          "name": "stderr",
          "text": [
            "  1%|          | 1/100 [00:02<03:37,  2.20s/it]"
          ]
        },
        {
          "output_type": "stream",
          "name": "stdout",
          "text": [
            "<output>D.</output>\n",
            "<output>D.</output>\n"
          ]
        },
        {
          "output_type": "stream",
          "name": "stderr",
          "text": [
            "\r  2%|▏         | 2/100 [00:03<03:07,  1.91s/it]"
          ]
        },
        {
          "output_type": "stream",
          "name": "stdout",
          "text": [
            "<output>D</output>\n",
            "<output>D</output>\n"
          ]
        },
        {
          "output_type": "stream",
          "name": "stderr",
          "text": [
            "\r  3%|▎         | 3/100 [00:06<03:42,  2.29s/it]"
          ]
        },
        {
          "output_type": "stream",
          "name": "stdout",
          "text": [
            "<output>B</output>\n",
            "<output>B</output>\n"
          ]
        },
        {
          "output_type": "stream",
          "name": "stderr",
          "text": [
            "\r  4%|▍         | 4/100 [00:09<04:09,  2.60s/it]"
          ]
        },
        {
          "output_type": "stream",
          "name": "stdout",
          "text": [
            "<output>D.</output>\n",
            "<output>D.</output>\n"
          ]
        },
        {
          "output_type": "stream",
          "name": "stderr",
          "text": [
            "\r  5%|▌         | 5/100 [00:12<03:57,  2.50s/it]"
          ]
        },
        {
          "output_type": "stream",
          "name": "stdout",
          "text": [
            "<output>A</output>\n",
            "<output>A</output>\n"
          ]
        },
        {
          "output_type": "stream",
          "name": "stderr",
          "text": [
            "\r  6%|▌         | 6/100 [00:15<04:29,  2.86s/it]"
          ]
        },
        {
          "output_type": "stream",
          "name": "stdout",
          "text": [
            "<output>A.</output>\n",
            "<output>A.</output>\n"
          ]
        },
        {
          "output_type": "stream",
          "name": "stderr",
          "text": [
            "\r  7%|▋         | 7/100 [00:18<04:13,  2.73s/it]"
          ]
        },
        {
          "output_type": "stream",
          "name": "stdout",
          "text": [
            "<output>D</output>\n",
            "<output>D</output>\n"
          ]
        },
        {
          "output_type": "stream",
          "name": "stderr",
          "text": [
            "\r  8%|▊         | 8/100 [00:20<04:15,  2.77s/it]"
          ]
        },
        {
          "output_type": "stream",
          "name": "stdout",
          "text": [
            "<output>J.</output>\n",
            "<output>J.</output>\n"
          ]
        },
        {
          "output_type": "stream",
          "name": "stderr",
          "text": [
            "\r  9%|▉         | 9/100 [00:23<03:57,  2.62s/it]"
          ]
        },
        {
          "output_type": "stream",
          "name": "stdout",
          "text": [
            "<output>B</output>\n",
            "<output>B</output>\n"
          ]
        },
        {
          "output_type": "stream",
          "name": "stderr",
          "text": [
            "\r 10%|█         | 10/100 [00:26<04:22,  2.92s/it]"
          ]
        },
        {
          "output_type": "stream",
          "name": "stdout",
          "text": [
            "<output>B.</output>\n",
            "<output>B.</output>\n"
          ]
        },
        {
          "output_type": "stream",
          "name": "stderr",
          "text": [
            "\r 11%|█         | 11/100 [00:29<04:18,  2.90s/it]"
          ]
        },
        {
          "output_type": "stream",
          "name": "stdout",
          "text": [
            "<output>E.</output>\n",
            "<output>E.</output>\n"
          ]
        },
        {
          "output_type": "stream",
          "name": "stderr",
          "text": [
            "\r 12%|█▏        | 12/100 [00:33<04:46,  3.26s/it]"
          ]
        },
        {
          "output_type": "stream",
          "name": "stdout",
          "text": [
            "<output>D.</output>\n",
            "<output>D.</output>\n"
          ]
        },
        {
          "output_type": "stream",
          "name": "stderr",
          "text": [
            "\r 13%|█▎        | 13/100 [00:36<04:27,  3.08s/it]"
          ]
        },
        {
          "output_type": "stream",
          "name": "stdout",
          "text": [
            "<output>C.</output>\n",
            "<output>C.</output>\n"
          ]
        },
        {
          "output_type": "stream",
          "name": "stderr",
          "text": [
            "\r 14%|█▍        | 14/100 [00:39<04:12,  2.94s/it]"
          ]
        },
        {
          "output_type": "stream",
          "name": "stdout",
          "text": [
            "<output>B.</output>\n",
            "<output>B.</output>\n"
          ]
        },
        {
          "output_type": "stream",
          "name": "stderr",
          "text": [
            "\r 15%|█▌        | 15/100 [00:41<03:57,  2.79s/it]"
          ]
        },
        {
          "output_type": "stream",
          "name": "stdout",
          "text": [
            "<output>C</output>\n",
            "<output>C</output>\n"
          ]
        },
        {
          "output_type": "stream",
          "name": "stderr",
          "text": [
            "\r 16%|█▌        | 16/100 [00:44<04:10,  2.98s/it]"
          ]
        },
        {
          "output_type": "stream",
          "name": "stdout",
          "text": [
            "<output>D.</output>\n",
            "<output>D.</output>\n"
          ]
        },
        {
          "output_type": "stream",
          "name": "stderr",
          "text": [
            "\r 17%|█▋        | 17/100 [00:47<03:50,  2.78s/it]"
          ]
        },
        {
          "output_type": "stream",
          "name": "stdout",
          "text": [
            "<output>E</output>\n",
            "<output>E</output>\n"
          ]
        },
        {
          "output_type": "stream",
          "name": "stderr",
          "text": [
            "\r 18%|█▊        | 18/100 [00:50<03:53,  2.85s/it]"
          ]
        },
        {
          "output_type": "stream",
          "name": "stdout",
          "text": [
            "<output>C.</output>\n",
            "<output>C.</output>\n"
          ]
        },
        {
          "output_type": "stream",
          "name": "stderr",
          "text": [
            "\r 19%|█▉        | 19/100 [00:52<03:29,  2.59s/it]"
          ]
        },
        {
          "output_type": "stream",
          "name": "stdout",
          "text": [
            "<output>E.</output>\n",
            "<output>E.</output>\n"
          ]
        },
        {
          "output_type": "stream",
          "name": "stderr",
          "text": [
            "\r 20%|██        | 20/100 [00:55<03:35,  2.69s/it]"
          ]
        },
        {
          "output_type": "stream",
          "name": "stdout",
          "text": [
            "<output>D.</output>\n",
            "<output>D.</output>\n"
          ]
        },
        {
          "output_type": "stream",
          "name": "stderr",
          "text": [
            "\r 21%|██        | 21/100 [00:57<03:25,  2.60s/it]"
          ]
        },
        {
          "output_type": "stream",
          "name": "stdout",
          "text": [
            "<output>F.</output>\n",
            "<output>F.</output>\n"
          ]
        },
        {
          "output_type": "stream",
          "name": "stderr",
          "text": [
            "\r 22%|██▏       | 22/100 [00:59<03:06,  2.39s/it]"
          ]
        },
        {
          "output_type": "stream",
          "name": "stdout",
          "text": [
            "<output>F</output>\n",
            "<output>F</output>\n"
          ]
        },
        {
          "output_type": "stream",
          "name": "stderr",
          "text": [
            "\r 23%|██▎       | 23/100 [01:03<03:44,  2.92s/it]"
          ]
        },
        {
          "output_type": "stream",
          "name": "stdout",
          "text": [
            "<output>A.</output>\n",
            "<output>A.</output>\n"
          ]
        },
        {
          "output_type": "stream",
          "name": "stderr",
          "text": [
            "\r 24%|██▍       | 24/100 [01:06<03:34,  2.82s/it]"
          ]
        },
        {
          "output_type": "stream",
          "name": "stdout",
          "text": [
            "<output>C</output>\n",
            "<output>C</output>\n"
          ]
        },
        {
          "output_type": "stream",
          "name": "stderr",
          "text": [
            "\r 25%|██▌       | 25/100 [01:09<03:46,  3.03s/it]"
          ]
        },
        {
          "output_type": "stream",
          "name": "stdout",
          "text": [
            "<output>B.</output>\n",
            "<output>B.</output>\n"
          ]
        },
        {
          "output_type": "stream",
          "name": "stderr",
          "text": [
            "\r 26%|██▌       | 26/100 [01:13<03:52,  3.15s/it]"
          ]
        },
        {
          "output_type": "stream",
          "name": "stdout",
          "text": [
            "<output>A.</output>\n",
            "<output>A.</output>\n"
          ]
        },
        {
          "output_type": "stream",
          "name": "stderr",
          "text": [
            "\r 27%|██▋       | 27/100 [01:19<05:08,  4.22s/it]"
          ]
        },
        {
          "output_type": "stream",
          "name": "stdout",
          "text": [
            "<output>C. D. F.</output>\n",
            "<output>C. D. F.</output>\n"
          ]
        },
        {
          "output_type": "stream",
          "name": "stderr",
          "text": [
            "\r 28%|██▊       | 28/100 [01:22<04:36,  3.84s/it]"
          ]
        },
        {
          "output_type": "stream",
          "name": "stdout",
          "text": [
            "<output>C</output>\n",
            "<output>C</output>\n"
          ]
        },
        {
          "output_type": "stream",
          "name": "stderr",
          "text": [
            "\r 29%|██▉       | 29/100 [01:25<04:01,  3.41s/it]"
          ]
        },
        {
          "output_type": "stream",
          "name": "stdout",
          "text": [
            "<output>D</output>\n",
            "<output>D</output>\n"
          ]
        },
        {
          "output_type": "stream",
          "name": "stderr",
          "text": [
            "\r 30%|███       | 30/100 [01:27<03:35,  3.07s/it]"
          ]
        },
        {
          "output_type": "stream",
          "name": "stdout",
          "text": [
            "<output>D</output>\n",
            "<output>D</output>\n"
          ]
        },
        {
          "output_type": "stream",
          "name": "stderr",
          "text": [
            "\r 31%|███       | 31/100 [01:30<03:24,  2.96s/it]"
          ]
        },
        {
          "output_type": "stream",
          "name": "stdout",
          "text": [
            "<output>D.</output>\n",
            "<output>D.</output>\n"
          ]
        },
        {
          "output_type": "stream",
          "name": "stderr",
          "text": [
            "\r 32%|███▏      | 32/100 [01:32<03:01,  2.67s/it]"
          ]
        },
        {
          "output_type": "stream",
          "name": "stdout",
          "text": [
            "<output>A</output>\n",
            "<output>A</output>\n"
          ]
        },
        {
          "output_type": "stream",
          "name": "stderr",
          "text": [
            "\r 33%|███▎      | 33/100 [01:34<02:57,  2.64s/it]"
          ]
        },
        {
          "output_type": "stream",
          "name": "stdout",
          "text": [
            "<output>C.</output>\n",
            "<output>C.</output>\n"
          ]
        },
        {
          "output_type": "stream",
          "name": "stderr",
          "text": [
            "\r 34%|███▍      | 34/100 [01:37<03:04,  2.80s/it]"
          ]
        },
        {
          "output_type": "stream",
          "name": "stdout",
          "text": [
            "<output>B.</output>\n",
            "<output>B.</output>\n"
          ]
        },
        {
          "output_type": "stream",
          "name": "stderr",
          "text": [
            "\r 35%|███▌      | 35/100 [01:40<02:52,  2.66s/it]"
          ]
        },
        {
          "output_type": "stream",
          "name": "stdout",
          "text": [
            "<output>B.</output>\n",
            "<output>B.</output>\n"
          ]
        },
        {
          "output_type": "stream",
          "name": "stderr",
          "text": [
            "\r 36%|███▌      | 36/100 [01:41<02:22,  2.22s/it]"
          ]
        },
        {
          "output_type": "stream",
          "name": "stdout",
          "text": [
            "<output>A</output>\n",
            "<output>A</output>\n"
          ]
        },
        {
          "output_type": "stream",
          "name": "stderr",
          "text": [
            "\r 37%|███▋      | 37/100 [01:44<02:41,  2.57s/it]"
          ]
        },
        {
          "output_type": "stream",
          "name": "stdout",
          "text": [
            "<output>D</output>\n",
            "<output>D</output>\n"
          ]
        },
        {
          "output_type": "stream",
          "name": "stderr",
          "text": [
            "\r 38%|███▊      | 38/100 [01:47<02:46,  2.69s/it]"
          ]
        },
        {
          "output_type": "stream",
          "name": "stdout",
          "text": [
            "<output>C.</output>\n",
            "<output>C.</output>\n"
          ]
        },
        {
          "output_type": "stream",
          "name": "stderr",
          "text": [
            "\r 39%|███▉      | 39/100 [01:50<02:48,  2.77s/it]"
          ]
        },
        {
          "output_type": "stream",
          "name": "stdout",
          "text": [
            "<output>F.</output>\n",
            "<output>F.</output>\n"
          ]
        },
        {
          "output_type": "stream",
          "name": "stderr",
          "text": [
            "\r 40%|████      | 40/100 [01:52<02:32,  2.55s/it]"
          ]
        },
        {
          "output_type": "stream",
          "name": "stdout",
          "text": [
            "<output>C</output>\n",
            "<output>C</output>\n"
          ]
        },
        {
          "output_type": "stream",
          "name": "stderr",
          "text": [
            "\r 41%|████      | 41/100 [01:55<02:29,  2.53s/it]"
          ]
        },
        {
          "output_type": "stream",
          "name": "stdout",
          "text": [
            "<output>C</output>\n",
            "<output>C</output>\n"
          ]
        },
        {
          "output_type": "stream",
          "name": "stderr",
          "text": [
            "\r 42%|████▏     | 42/100 [01:57<02:26,  2.53s/it]"
          ]
        },
        {
          "output_type": "stream",
          "name": "stdout",
          "text": [
            "<output>F.</output>\n",
            "<output>F.</output>\n"
          ]
        },
        {
          "output_type": "stream",
          "name": "stderr",
          "text": [
            "\r 43%|████▎     | 43/100 [01:59<02:17,  2.41s/it]"
          ]
        },
        {
          "output_type": "stream",
          "name": "stdout",
          "text": [
            "<output>D</output>\n",
            "<output>D</output>\n"
          ]
        },
        {
          "output_type": "stream",
          "name": "stderr",
          "text": [
            "\r 44%|████▍     | 44/100 [02:01<01:54,  2.05s/it]"
          ]
        },
        {
          "output_type": "stream",
          "name": "stdout",
          "text": [
            "<output>B</output>\n",
            "<output>B</output>\n"
          ]
        },
        {
          "output_type": "stream",
          "name": "stderr",
          "text": [
            "\r 45%|████▌     | 45/100 [02:04<02:06,  2.30s/it]"
          ]
        },
        {
          "output_type": "stream",
          "name": "stdout",
          "text": [
            "<output>F.</output>\n",
            "<output>F.</output>\n"
          ]
        },
        {
          "output_type": "stream",
          "name": "stderr",
          "text": [
            "\r 46%|████▌     | 46/100 [02:07<02:16,  2.53s/it]"
          ]
        },
        {
          "output_type": "stream",
          "name": "stdout",
          "text": [
            "<output>C</output>\n",
            "<output>C</output>\n"
          ]
        },
        {
          "output_type": "stream",
          "name": "stderr",
          "text": [
            "\r 47%|████▋     | 47/100 [02:09<02:17,  2.60s/it]"
          ]
        },
        {
          "output_type": "stream",
          "name": "stdout",
          "text": [
            "<output>C.</output>\n",
            "<output>C.</output>\n"
          ]
        },
        {
          "output_type": "stream",
          "name": "stderr",
          "text": [
            "\r 48%|████▊     | 48/100 [02:12<02:21,  2.72s/it]"
          ]
        },
        {
          "output_type": "stream",
          "name": "stdout",
          "text": [
            "<output>D.</output>\n",
            "<output>D.</output>\n"
          ]
        },
        {
          "output_type": "stream",
          "name": "stderr",
          "text": [
            "\r 49%|████▉     | 49/100 [02:15<02:13,  2.63s/it]"
          ]
        },
        {
          "output_type": "stream",
          "name": "stdout",
          "text": [
            "<output>D.</output>\n",
            "<output>D.</output>\n"
          ]
        },
        {
          "output_type": "stream",
          "name": "stderr",
          "text": [
            "\r 50%|█████     | 50/100 [02:18<02:14,  2.69s/it]"
          ]
        },
        {
          "output_type": "stream",
          "name": "stdout",
          "text": [
            "<output>B.</output>\n",
            "<output>B.</output>\n"
          ]
        },
        {
          "output_type": "stream",
          "name": "stderr",
          "text": [
            "\r 51%|█████     | 51/100 [02:21<02:17,  2.81s/it]"
          ]
        },
        {
          "output_type": "stream",
          "name": "stdout",
          "text": [
            "<output>C.</output>\n",
            "<output>C.</output>\n"
          ]
        },
        {
          "output_type": "stream",
          "name": "stderr",
          "text": [
            "\r 52%|█████▏    | 52/100 [02:24<02:17,  2.86s/it]"
          ]
        },
        {
          "output_type": "stream",
          "name": "stdout",
          "text": [
            "<output>D.</output>\n",
            "<output>D.</output>\n"
          ]
        },
        {
          "output_type": "stream",
          "name": "stderr",
          "text": [
            "\r 53%|█████▎    | 53/100 [02:27<02:14,  2.86s/it]"
          ]
        },
        {
          "output_type": "stream",
          "name": "stdout",
          "text": [
            "<output>A.</output>\n",
            "<output>A.</output>\n"
          ]
        },
        {
          "output_type": "stream",
          "name": "stderr",
          "text": [
            "\r 54%|█████▍    | 54/100 [02:29<02:10,  2.84s/it]"
          ]
        },
        {
          "output_type": "stream",
          "name": "stdout",
          "text": [
            "<output>C.</output>\n",
            "<output>C.</output>\n"
          ]
        },
        {
          "output_type": "stream",
          "name": "stderr",
          "text": [
            "\r 55%|█████▌    | 55/100 [02:32<02:02,  2.73s/it]"
          ]
        },
        {
          "output_type": "stream",
          "name": "stdout",
          "text": [
            "<output>B.</output>\n",
            "<output>B.</output>\n"
          ]
        },
        {
          "output_type": "stream",
          "name": "stderr",
          "text": [
            "\r 56%|█████▌    | 56/100 [02:38<02:42,  3.69s/it]"
          ]
        },
        {
          "output_type": "stream",
          "name": "stdout",
          "text": [
            "<output>A</output>\n",
            "<output>A</output>\n"
          ]
        },
        {
          "output_type": "stream",
          "name": "stderr",
          "text": [
            "\r 57%|█████▋    | 57/100 [02:40<02:17,  3.21s/it]"
          ]
        },
        {
          "output_type": "stream",
          "name": "stdout",
          "text": [
            "<output>C</output>\n",
            "<output>C</output>\n"
          ]
        },
        {
          "output_type": "stream",
          "name": "stderr",
          "text": [
            "\r 58%|█████▊    | 58/100 [02:43<02:19,  3.33s/it]"
          ]
        },
        {
          "output_type": "stream",
          "name": "stdout",
          "text": [
            "<output>B.</output>\n",
            "<output>B.</output>\n"
          ]
        },
        {
          "output_type": "stream",
          "name": "stderr",
          "text": [
            "\r 59%|█████▉    | 59/100 [02:48<02:35,  3.79s/it]"
          ]
        },
        {
          "output_type": "stream",
          "name": "stdout",
          "text": [
            "<output>B.</output>\n",
            "<output>B.</output>\n"
          ]
        },
        {
          "output_type": "stream",
          "name": "stderr",
          "text": [
            "\r 60%|██████    | 60/100 [02:51<02:20,  3.52s/it]"
          ]
        },
        {
          "output_type": "stream",
          "name": "stdout",
          "text": [
            "<output>A.</output>\n",
            "<output>A.</output>\n"
          ]
        },
        {
          "output_type": "stream",
          "name": "stderr",
          "text": [
            "\r 61%|██████    | 61/100 [02:53<01:57,  3.01s/it]"
          ]
        },
        {
          "output_type": "stream",
          "name": "stdout",
          "text": [
            "<output>D</output>\n",
            "<output>D</output>\n"
          ]
        },
        {
          "output_type": "stream",
          "name": "stderr",
          "text": [
            "\r 62%|██████▏   | 62/100 [02:56<01:50,  2.92s/it]"
          ]
        },
        {
          "output_type": "stream",
          "name": "stdout",
          "text": [
            "<output>F.</output>\n",
            "<output>F.</output>\n"
          ]
        },
        {
          "output_type": "stream",
          "name": "stderr",
          "text": [
            "\r 63%|██████▎   | 63/100 [02:59<01:48,  2.93s/it]"
          ]
        },
        {
          "output_type": "stream",
          "name": "stdout",
          "text": [
            "<output>C.</output>\n",
            "<output>C.</output>\n"
          ]
        },
        {
          "output_type": "stream",
          "name": "stderr",
          "text": [
            "\r 64%|██████▍   | 64/100 [03:01<01:34,  2.61s/it]"
          ]
        },
        {
          "output_type": "stream",
          "name": "stdout",
          "text": [
            "<output>B</output>\n",
            "<output>B</output>\n"
          ]
        },
        {
          "output_type": "stream",
          "name": "stderr",
          "text": [
            "\r 65%|██████▌   | 65/100 [03:04<01:42,  2.94s/it]"
          ]
        },
        {
          "output_type": "stream",
          "name": "stdout",
          "text": [
            "<output>B</output>\n",
            "<output>B</output>\n"
          ]
        },
        {
          "output_type": "stream",
          "name": "stderr",
          "text": [
            "\r 66%|██████▌   | 66/100 [03:07<01:36,  2.85s/it]"
          ]
        },
        {
          "output_type": "stream",
          "name": "stdout",
          "text": [
            "<output>E.</output>\n",
            "<output>E.</output>\n"
          ]
        },
        {
          "output_type": "stream",
          "name": "stderr",
          "text": [
            "\r 67%|██████▋   | 67/100 [03:10<01:37,  2.95s/it]"
          ]
        },
        {
          "output_type": "stream",
          "name": "stdout",
          "text": [
            "<output>A.</output>\n",
            "<output>A.</output>\n"
          ]
        },
        {
          "output_type": "stream",
          "name": "stderr",
          "text": [
            "\r 68%|██████▊   | 68/100 [03:12<01:25,  2.68s/it]"
          ]
        },
        {
          "output_type": "stream",
          "name": "stdout",
          "text": [
            "<output>C</output>\n",
            "<output>C</output>\n"
          ]
        },
        {
          "output_type": "stream",
          "name": "stderr",
          "text": [
            "\r 69%|██████▉   | 69/100 [03:14<01:19,  2.56s/it]"
          ]
        },
        {
          "output_type": "stream",
          "name": "stdout",
          "text": [
            "<output>D.</output>\n",
            "<output>D.</output>\n"
          ]
        },
        {
          "output_type": "stream",
          "name": "stderr",
          "text": [
            "\r 70%|███████   | 70/100 [03:18<01:23,  2.78s/it]"
          ]
        },
        {
          "output_type": "stream",
          "name": "stdout",
          "text": [
            "<output>A</output>\n",
            "<output>A</output>\n"
          ]
        },
        {
          "output_type": "stream",
          "name": "stderr",
          "text": [
            "\r 71%|███████   | 71/100 [03:21<01:24,  2.92s/it]"
          ]
        },
        {
          "output_type": "stream",
          "name": "stdout",
          "text": [
            "<output>D.</output>\n",
            "<output>D.</output>\n"
          ]
        },
        {
          "output_type": "stream",
          "name": "stderr",
          "text": [
            "\r 72%|███████▏  | 72/100 [03:23<01:15,  2.69s/it]"
          ]
        },
        {
          "output_type": "stream",
          "name": "stdout",
          "text": [
            "<output>C</output>\n",
            "<output>C</output>\n"
          ]
        },
        {
          "output_type": "stream",
          "name": "stderr",
          "text": [
            "\r 73%|███████▎  | 73/100 [03:25<01:07,  2.49s/it]"
          ]
        },
        {
          "output_type": "stream",
          "name": "stdout",
          "text": [
            "<output>C</output>\n",
            "<output>C</output>\n"
          ]
        },
        {
          "output_type": "stream",
          "name": "stderr",
          "text": [
            "\r 74%|███████▍  | 74/100 [03:28<01:06,  2.56s/it]"
          ]
        },
        {
          "output_type": "stream",
          "name": "stdout",
          "text": [
            "<output>E.</output>\n",
            "<output>E.</output>\n"
          ]
        },
        {
          "output_type": "stream",
          "name": "stderr",
          "text": [
            "\r 75%|███████▌  | 75/100 [03:31<01:05,  2.60s/it]"
          ]
        },
        {
          "output_type": "stream",
          "name": "stdout",
          "text": [
            "<output>A</output>\n",
            "<output>A</output>\n"
          ]
        },
        {
          "output_type": "stream",
          "name": "stderr",
          "text": [
            "\r 76%|███████▌  | 76/100 [03:33<01:03,  2.66s/it]"
          ]
        },
        {
          "output_type": "stream",
          "name": "stdout",
          "text": [
            "<output>F</output>\n",
            "<output>F</output>\n"
          ]
        },
        {
          "output_type": "stream",
          "name": "stderr",
          "text": [
            "\r 77%|███████▋  | 77/100 [03:36<01:02,  2.71s/it]"
          ]
        },
        {
          "output_type": "stream",
          "name": "stdout",
          "text": [
            "<output>B.</output>\n",
            "<output>B.</output>\n"
          ]
        },
        {
          "output_type": "stream",
          "name": "stderr",
          "text": [
            "\r 78%|███████▊  | 78/100 [03:40<01:06,  3.04s/it]"
          ]
        },
        {
          "output_type": "stream",
          "name": "stdout",
          "text": [
            "<output>B.</output>\n",
            "<output>B.</output>\n"
          ]
        },
        {
          "output_type": "stream",
          "name": "stderr",
          "text": [
            "\r 79%|███████▉  | 79/100 [03:43<01:04,  3.06s/it]"
          ]
        },
        {
          "output_type": "stream",
          "name": "stdout",
          "text": [
            "<output>D.</output>\n",
            "<output>D.</output>\n"
          ]
        },
        {
          "output_type": "stream",
          "name": "stderr",
          "text": [
            "\r 80%|████████  | 80/100 [03:47<01:04,  3.23s/it]"
          ]
        },
        {
          "output_type": "stream",
          "name": "stdout",
          "text": [
            "<output>A.</output>\n",
            "<output>A.</output>\n"
          ]
        },
        {
          "output_type": "stream",
          "name": "stderr",
          "text": [
            "\r 81%|████████  | 81/100 [03:49<00:58,  3.07s/it]"
          ]
        },
        {
          "output_type": "stream",
          "name": "stdout",
          "text": [
            "<output>C</output>\n",
            "<output>C</output>\n"
          ]
        },
        {
          "output_type": "stream",
          "name": "stderr",
          "text": [
            "\r 82%|████████▏ | 82/100 [03:51<00:48,  2.67s/it]"
          ]
        },
        {
          "output_type": "stream",
          "name": "stdout",
          "text": [
            "<output>A</output>\n",
            "<output>A</output>\n"
          ]
        },
        {
          "output_type": "stream",
          "name": "stderr",
          "text": [
            "\r 83%|████████▎ | 83/100 [03:54<00:44,  2.60s/it]"
          ]
        },
        {
          "output_type": "stream",
          "name": "stdout",
          "text": [
            "<output>B</output>\n",
            "<output>B</output>\n"
          ]
        },
        {
          "output_type": "stream",
          "name": "stderr",
          "text": [
            "\r 84%|████████▍ | 84/100 [03:57<00:44,  2.79s/it]"
          ]
        },
        {
          "output_type": "stream",
          "name": "stdout",
          "text": [
            "<output>E.</output>\n",
            "<output>E.</output>\n"
          ]
        },
        {
          "output_type": "stream",
          "name": "stderr",
          "text": [
            "\r 85%|████████▌ | 85/100 [04:00<00:43,  2.92s/it]"
          ]
        },
        {
          "output_type": "stream",
          "name": "stdout",
          "text": [
            "<output>A.</output>\n",
            "<output>A.</output>\n"
          ]
        },
        {
          "output_type": "stream",
          "name": "stderr",
          "text": [
            "\r 86%|████████▌ | 86/100 [04:03<00:40,  2.89s/it]"
          ]
        },
        {
          "output_type": "stream",
          "name": "stdout",
          "text": [
            "<output>E.</output>\n",
            "<output>E.</output>\n"
          ]
        },
        {
          "output_type": "stream",
          "name": "stderr",
          "text": [
            "\r 87%|████████▋ | 87/100 [04:04<00:31,  2.45s/it]"
          ]
        },
        {
          "output_type": "stream",
          "name": "stdout",
          "text": [
            "<output>C</output>\n",
            "<output>C</output>\n"
          ]
        },
        {
          "output_type": "stream",
          "name": "stderr",
          "text": [
            "\r 88%|████████▊ | 88/100 [04:06<00:28,  2.37s/it]"
          ]
        },
        {
          "output_type": "stream",
          "name": "stdout",
          "text": [
            "<output>B.</output>\n",
            "<output>B.</output>\n"
          ]
        },
        {
          "output_type": "stream",
          "name": "stderr",
          "text": [
            "\r 89%|████████▉ | 89/100 [04:09<00:27,  2.49s/it]"
          ]
        },
        {
          "output_type": "stream",
          "name": "stdout",
          "text": [
            "<output>B</output>\n",
            "<output>B</output>\n"
          ]
        },
        {
          "output_type": "stream",
          "name": "stderr",
          "text": [
            "\r 90%|█████████ | 90/100 [04:11<00:21,  2.19s/it]"
          ]
        },
        {
          "output_type": "stream",
          "name": "stdout",
          "text": [
            "<output>C</output>\n",
            "<output>C</output>\n"
          ]
        },
        {
          "output_type": "stream",
          "name": "stderr",
          "text": [
            "\r 91%|█████████ | 91/100 [04:14<00:22,  2.53s/it]"
          ]
        },
        {
          "output_type": "stream",
          "name": "stdout",
          "text": [
            "<output>C.</output>\n",
            "<output>C.</output>\n"
          ]
        },
        {
          "output_type": "stream",
          "name": "stderr",
          "text": [
            "\r 92%|█████████▏| 92/100 [04:16<00:19,  2.42s/it]"
          ]
        },
        {
          "output_type": "stream",
          "name": "stdout",
          "text": [
            "<output>C.</output>\n",
            "<output>C.</output>\n"
          ]
        },
        {
          "output_type": "stream",
          "name": "stderr",
          "text": [
            "\r 93%|█████████▎| 93/100 [04:18<00:16,  2.29s/it]"
          ]
        },
        {
          "output_type": "stream",
          "name": "stdout",
          "text": [
            "<output>G</output>\n",
            "<output>G</output>\n"
          ]
        },
        {
          "output_type": "stream",
          "name": "stderr",
          "text": [
            "\r 94%|█████████▍| 94/100 [04:20<00:12,  2.08s/it]"
          ]
        },
        {
          "output_type": "stream",
          "name": "stdout",
          "text": [
            "<output>F</output>\n",
            "<output>F</output>\n"
          ]
        },
        {
          "output_type": "stream",
          "name": "stderr",
          "text": [
            "\r 95%|█████████▌| 95/100 [04:24<00:12,  2.60s/it]"
          ]
        },
        {
          "output_type": "stream",
          "name": "stdout",
          "text": [
            "<output>A</output>\n",
            "<output>A</output>\n"
          ]
        },
        {
          "output_type": "stream",
          "name": "stderr",
          "text": [
            "\r 96%|█████████▌| 96/100 [04:26<00:10,  2.58s/it]"
          ]
        },
        {
          "output_type": "stream",
          "name": "stdout",
          "text": [
            "<output>ADBE.</output>\n",
            "<output>ADBE.</output>\n"
          ]
        },
        {
          "output_type": "stream",
          "name": "stderr",
          "text": [
            "\r 97%|█████████▋| 97/100 [04:28<00:07,  2.39s/it]"
          ]
        },
        {
          "output_type": "stream",
          "name": "stdout",
          "text": [
            "<output>B</output>\n",
            "<output>B</output>\n"
          ]
        },
        {
          "output_type": "stream",
          "name": "stderr",
          "text": [
            "\r 98%|█████████▊| 98/100 [04:31<00:05,  2.51s/it]"
          ]
        },
        {
          "output_type": "stream",
          "name": "stdout",
          "text": [
            "<output>B.</output>\n",
            "<output>B.</output>\n"
          ]
        },
        {
          "output_type": "stream",
          "name": "stderr",
          "text": [
            "\r 99%|█████████▉| 99/100 [04:34<00:02,  2.59s/it]"
          ]
        },
        {
          "output_type": "stream",
          "name": "stdout",
          "text": [
            "<output>E.</output>\n",
            "<output>E.</output>\n"
          ]
        },
        {
          "output_type": "stream",
          "name": "stderr",
          "text": [
            "100%|██████████| 100/100 [04:36<00:00,  2.77s/it]\n"
          ]
        },
        {
          "output_type": "stream",
          "name": "stdout",
          "text": [
            "<output>B.</output>\n",
            "<output>B.</output>\n"
          ]
        },
        {
          "output_type": "stream",
          "name": "stderr",
          "text": [
            "100%|██████████| 100/100 [00:22<00:00,  4.49it/s]\n"
          ]
        }
      ],
      "execution_count": 5
    },
    {
      "cell_type": "code",
      "source": [
        "# @title Winogrande generations.\n",
        "\n",
        "alphabet = [\"A\", \"B\", \"C\", \"D\", \"E\", \"F\", \"G\", \"H\", \"I\", \"J\", \"K\", \"L\", \"M\", \"N\", \"O\", \"P\", \"Q\", \"R\", \"S\", \"T\", \"U\", \"V\", \"W\", \"X\", \"Y\", \"Z\"]\n",
        "\n",
        "def wino_prompt(question, choices, cot=False):\n",
        "\n",
        "  if cot == True:\n",
        "\n",
        "    prompt1 = \"\"\"You are an AI assistant that uses a Chain of Thought (CoT) approach with reflection to fill in blanks in sentences. Follow these steps:\n",
        "        1. Think through the problem step by step within the <scratchpad> tags.\n",
        "        2. Make any necessary adjustments based on your reflection.\n",
        "        3. Provide your final, concise answer within the <output> tags.\n",
        "        Important: The <scratchpad> sections are for your internal reasoning process only.\n",
        "        The actual response to the query must be entirely contained within the <output> tags.\n",
        "        Use the following format for your response:\n",
        "        <scratchpad>\n",
        "        [Your step-by-step reasoning goes here. This is your internal thought process, not the final answer.]\n",
        "        </scratchpad>\n",
        "        <output>\n",
        "        [Your final, concise answer to the query. This is the only part that will be shown to the user.]\n",
        "        </output>\n",
        "\n",
        "        Answer only with a letter when given a multiple-choice question.\n",
        "\n",
        "        DO NOT WRITE ANYTHING OTHER THAN THE LETTER.\"\"\"\n",
        "\n",
        "  else:\n",
        "      prompt1 = \"\"\"You are a smart AI assistant, who fills in blanks in sentences, appropriately.\n",
        "\n",
        "      Answer only with a letter when given a sentence to fill in.\n",
        "\n",
        "      DO NOT WRITE ANYTHING OTHER THAN THE LETTER OF THE ANSWER.\"\"\"\n",
        "\n",
        "\n",
        "  mcq_list = question\n",
        "  for x in range(len(choices)):\n",
        "    mcq_list = mcq_list + \"\\n\" + alphabet[x] + \". \" + choices[x]\n",
        "    x = x + 1\n",
        "\n",
        "  prompt_example = \"\"\"For example:\n",
        "What is 2 + 2?\n",
        "A. 3\n",
        "B. 1\n",
        "C. 6\n",
        "D. 4\n",
        "\"\"\"\n",
        "  if cot == True:\n",
        "    assist_message = \"<scratchpad>It is well known that 2+2=4. Hence, the answer is D.</scratchpad><output>D.</output>\"\n",
        "  else:\n",
        "    assist_message = \"D.\"\n",
        "  messages = [(\"system\", prompt1), (\"user\", prompt_example), (\"assistant\", assist_message), (\"user\", mcq_list)]\n",
        "  return messages\n",
        "\n",
        "wino = pd.read_csv('gaslighting-llms/winogrande/shuffled_data.csv')\n",
        "\n",
        "cleaned_choices_temp = list(wino[\"choices\"])\n",
        "cleaned_choices = []\n",
        "\n",
        "for choice in cleaned_choices_temp:\n",
        "  cleaned_choices.append(eval(choice.replace('\"\"', \"\").replace(\"\\n\", \"\").replace(\"' '\", \"', '\")))\n",
        "\n",
        "llm = ChatOllama(\n",
        "    model=\"mistral-nemo:12b\",\n",
        "    temperature=0,\n",
        ")\n",
        "\n",
        "n = 0\n",
        "\n",
        "wino_cot_responses = []\n",
        "\n",
        "subprocess.Popen(\"ollama serve\", shell=True)\n",
        "\n",
        "time.sleep(5)\n",
        "\n",
        "start_server = llm.invoke(\"hi\")\n",
        "\n",
        "@timeout(seconds=60)\n",
        "def call_mnemo(prompt):\n",
        "  return llm.invoke(prompt)\n",
        "\n",
        "for question in tqdm(wino[\"question\"]):\n",
        " try:\n",
        "  response = call_mnemo(wino_prompt(question, cleaned_choices[n], True))\n",
        " except ConnectionError:\n",
        "  subprocess.Popen(\"ollama serve\", shell=True)\n",
        "  response = call_mnemo(wino_prompt(question, cleaned_choices[n], True))\n",
        " except TimeoutError:\n",
        "  response = call_mnemo(wino_prompt(question, cleaned_choices[n], True))\n",
        "\n",
        " try:\n",
        "  print(re.search(r'<output>(.*?)</output>', response.content, re.DOTALL)[0])\n",
        " except TypeError:\n",
        "  llm = ChatOllama(\n",
        "    model=\"mistral-nemo:12b\",\n",
        "    temperature=0,\n",
        "    seed=random.randint(0, 100000)\n",
        "  )\n",
        "\n",
        "  print(\"retrying because no proper tag\")\n",
        "  try:\n",
        "   response = call_mnemo(wino_prompt(question, cleaned_choices[n], True))\n",
        "  except ConnectionError:\n",
        "   subprocess.Popen(\"ollama serve\", shell=True)\n",
        "   response = call_mnemo(wino_prompt(question, cleaned_choices[n], True))\n",
        "  except TimeoutError:\n",
        "    response = call_mnemo(wino_prompt(question, cleaned_choices[n], True))\n",
        "\n",
        " print(re.search(r'<output>(.*?)</output>', response.content, re.DOTALL)[0])\n",
        " wino_cot_responses.append((question, cleaned_choices[n], re.search(r'<output>(.*?)</output>', response.content, re.DOTALL)[0], wino[\"labels\"][n], response.content))\n",
        " n += 1\n",
        "\n",
        "with open('MNEMO-CoT-RESPONSES-WINO.csv', 'w', newline='', encoding='utf-8') as out:\n",
        "    csv_out=csv.writer(out)\n",
        "    csv_out.writerow(['question','choices','llm-answer','ground-truth','llm-cot-reasoning'])\n",
        "    for row in wino_cot_responses:\n",
        "        csv_out.writerow(row)\n",
        "\n",
        "wino_responses = []\n",
        "\n",
        "n = 0\n",
        "\n",
        "for question in tqdm(wino[\"question\"]):\n",
        " try:\n",
        "  response = call_mnemo(wino_prompt(question, cleaned_choices[n]))\n",
        " except ConnectionError:\n",
        "   subprocess.Popen(\"ollama serve\", shell=True)\n",
        "   response = call_mnemo(wino_prompt(question, cleaned_choices[n]))\n",
        " except TimeoutError:\n",
        "   response = call_mnemo(wino_prompt(question, cleaned_choices[n]))\n",
        "\n",
        " wino_responses.append((question, cleaned_choices[n], response.content, wino[\"labels\"][n]))\n",
        " n += 1\n",
        "\n",
        "with open('MNEMO-NON-CoT-RESPONSES-WINO.csv', 'w', newline='', encoding='utf-8') as out:\n",
        "    csv_out=csv.writer(out)\n",
        "    csv_out.writerow(['question','choices','llm-answer','ground-truth'])\n",
        "    for row in wino_responses:\n",
        "        csv_out.writerow(row)"
      ],
      "metadata": {
        "trusted": true,
        "colab": {
          "base_uri": "https://localhost:8080/"
        },
        "id": "avnRUs3pSas-",
        "outputId": "cd80841b-d955-4eda-d533-94dea53c9d14"
      },
      "outputs": [
        {
          "output_type": "stream",
          "name": "stderr",
          "text": [
            "  1%|          | 1/100 [00:01<02:56,  1.78s/it]"
          ]
        },
        {
          "output_type": "stream",
          "name": "stdout",
          "text": [
            "<output>B</output>\n",
            "<output>B</output>\n"
          ]
        },
        {
          "output_type": "stream",
          "name": "stderr",
          "text": [
            "\r  2%|▏         | 2/100 [00:03<02:45,  1.69s/it]"
          ]
        },
        {
          "output_type": "stream",
          "name": "stdout",
          "text": [
            "<output>A</output>\n",
            "<output>A</output>\n"
          ]
        },
        {
          "output_type": "stream",
          "name": "stderr",
          "text": [
            "\r  3%|▎         | 3/100 [00:05<02:51,  1.77s/it]"
          ]
        },
        {
          "output_type": "stream",
          "name": "stdout",
          "text": [
            "<output>A</output>\n",
            "<output>A</output>\n"
          ]
        },
        {
          "output_type": "stream",
          "name": "stderr",
          "text": [
            "\r  4%|▍         | 4/100 [00:07<03:18,  2.07s/it]"
          ]
        },
        {
          "output_type": "stream",
          "name": "stdout",
          "text": [
            "<output>B</output>\n",
            "<output>B</output>\n"
          ]
        },
        {
          "output_type": "stream",
          "name": "stderr",
          "text": [
            "\r  5%|▌         | 5/100 [00:09<02:59,  1.89s/it]"
          ]
        },
        {
          "output_type": "stream",
          "name": "stdout",
          "text": [
            "<output>B.</output>\n",
            "<output>B.</output>\n"
          ]
        },
        {
          "output_type": "stream",
          "name": "stderr",
          "text": [
            "\r  6%|▌         | 6/100 [00:12<03:35,  2.30s/it]"
          ]
        },
        {
          "output_type": "stream",
          "name": "stdout",
          "text": [
            "<output>B.</output>\n",
            "<output>B.</output>\n"
          ]
        },
        {
          "output_type": "stream",
          "name": "stderr",
          "text": [
            "\r  7%|▋         | 7/100 [00:14<03:29,  2.26s/it]"
          ]
        },
        {
          "output_type": "stream",
          "name": "stdout",
          "text": [
            "<output>A</output>\n",
            "<output>A</output>\n"
          ]
        },
        {
          "output_type": "stream",
          "name": "stderr",
          "text": [
            "\r  8%|▊         | 8/100 [00:16<03:13,  2.10s/it]"
          ]
        },
        {
          "output_type": "stream",
          "name": "stdout",
          "text": [
            "<output>A</output>\n",
            "<output>A</output>\n"
          ]
        },
        {
          "output_type": "stream",
          "name": "stderr",
          "text": [
            "\r  9%|▉         | 9/100 [00:18<03:09,  2.08s/it]"
          ]
        },
        {
          "output_type": "stream",
          "name": "stdout",
          "text": [
            "<output>A</output>\n",
            "<output>A</output>\n"
          ]
        },
        {
          "output_type": "stream",
          "name": "stderr",
          "text": [
            "\r 10%|█         | 10/100 [00:20<03:10,  2.12s/it]"
          ]
        },
        {
          "output_type": "stream",
          "name": "stdout",
          "text": [
            "<output>B</output>\n",
            "<output>B</output>\n"
          ]
        },
        {
          "output_type": "stream",
          "name": "stderr",
          "text": [
            "\r 11%|█         | 11/100 [00:21<02:47,  1.88s/it]"
          ]
        },
        {
          "output_type": "stream",
          "name": "stdout",
          "text": [
            "<output>B</output>\n",
            "<output>B</output>\n"
          ]
        },
        {
          "output_type": "stream",
          "name": "stderr",
          "text": [
            "\r 12%|█▏        | 12/100 [00:24<02:49,  1.93s/it]"
          ]
        },
        {
          "output_type": "stream",
          "name": "stdout",
          "text": [
            "<output>A</output>\n",
            "<output>A</output>\n"
          ]
        },
        {
          "output_type": "stream",
          "name": "stderr",
          "text": [
            "\r 13%|█▎        | 13/100 [00:25<02:35,  1.79s/it]"
          ]
        },
        {
          "output_type": "stream",
          "name": "stdout",
          "text": [
            "<output>B</output>\n",
            "<output>B</output>\n"
          ]
        },
        {
          "output_type": "stream",
          "name": "stderr",
          "text": [
            "\r 14%|█▍        | 14/100 [00:26<02:19,  1.62s/it]"
          ]
        },
        {
          "output_type": "stream",
          "name": "stdout",
          "text": [
            "<output>A</output>\n",
            "<output>A</output>\n"
          ]
        },
        {
          "output_type": "stream",
          "name": "stderr",
          "text": [
            "\r 15%|█▌        | 15/100 [00:29<02:44,  1.93s/it]"
          ]
        },
        {
          "output_type": "stream",
          "name": "stdout",
          "text": [
            "<output>B</output>\n",
            "<output>B</output>\n"
          ]
        },
        {
          "output_type": "stream",
          "name": "stderr",
          "text": [
            "\r 16%|█▌        | 16/100 [00:31<02:41,  1.92s/it]"
          ]
        },
        {
          "output_type": "stream",
          "name": "stdout",
          "text": [
            "<output>A</output>\n",
            "<output>A</output>\n"
          ]
        },
        {
          "output_type": "stream",
          "name": "stderr",
          "text": [
            "\r 17%|█▋        | 17/100 [00:33<02:37,  1.90s/it]"
          ]
        },
        {
          "output_type": "stream",
          "name": "stdout",
          "text": [
            "<output>B</output>\n",
            "<output>B</output>\n"
          ]
        },
        {
          "output_type": "stream",
          "name": "stderr",
          "text": [
            "\r 18%|█▊        | 18/100 [00:34<02:34,  1.88s/it]"
          ]
        },
        {
          "output_type": "stream",
          "name": "stdout",
          "text": [
            "<output>B.</output>\n",
            "<output>B.</output>\n"
          ]
        },
        {
          "output_type": "stream",
          "name": "stderr",
          "text": [
            "\r 19%|█▉        | 19/100 [00:36<02:26,  1.80s/it]"
          ]
        },
        {
          "output_type": "stream",
          "name": "stdout",
          "text": [
            "<output>A</output>\n",
            "<output>A</output>\n"
          ]
        },
        {
          "output_type": "stream",
          "name": "stderr",
          "text": [
            "\r 20%|██        | 20/100 [00:38<02:28,  1.85s/it]"
          ]
        },
        {
          "output_type": "stream",
          "name": "stdout",
          "text": [
            "<output>B</output>\n",
            "<output>B</output>\n"
          ]
        },
        {
          "output_type": "stream",
          "name": "stderr",
          "text": [
            "\r 21%|██        | 21/100 [00:40<02:26,  1.85s/it]"
          ]
        },
        {
          "output_type": "stream",
          "name": "stdout",
          "text": [
            "<output>B</output>\n",
            "<output>B</output>\n"
          ]
        },
        {
          "output_type": "stream",
          "name": "stderr",
          "text": [
            "\r 22%|██▏       | 22/100 [00:43<02:58,  2.29s/it]"
          ]
        },
        {
          "output_type": "stream",
          "name": "stdout",
          "text": [
            "<output>B.</output>\n",
            "<output>B.</output>\n"
          ]
        },
        {
          "output_type": "stream",
          "name": "stderr",
          "text": [
            "\r 23%|██▎       | 23/100 [00:45<02:50,  2.22s/it]"
          ]
        },
        {
          "output_type": "stream",
          "name": "stdout",
          "text": [
            "<output>A</output>\n",
            "<output>A</output>\n"
          ]
        },
        {
          "output_type": "stream",
          "name": "stderr",
          "text": [
            "\r 24%|██▍       | 24/100 [00:47<02:31,  2.00s/it]"
          ]
        },
        {
          "output_type": "stream",
          "name": "stdout",
          "text": [
            "<output>B.</output>\n",
            "<output>B.</output>\n"
          ]
        },
        {
          "output_type": "stream",
          "name": "stderr",
          "text": [
            "\r 25%|██▌       | 25/100 [00:50<03:05,  2.47s/it]"
          ]
        },
        {
          "output_type": "stream",
          "name": "stdout",
          "text": [
            "<output>A.</output>\n",
            "<output>A.</output>\n"
          ]
        },
        {
          "output_type": "stream",
          "name": "stderr",
          "text": [
            "\r 26%|██▌       | 26/100 [00:51<02:33,  2.07s/it]"
          ]
        },
        {
          "output_type": "stream",
          "name": "stdout",
          "text": [
            "<output>A</output>\n",
            "<output>A</output>\n"
          ]
        },
        {
          "output_type": "stream",
          "name": "stderr",
          "text": [
            "\r 27%|██▋       | 27/100 [00:54<02:37,  2.16s/it]"
          ]
        },
        {
          "output_type": "stream",
          "name": "stdout",
          "text": [
            "<output>A.</output>\n",
            "<output>A.</output>\n"
          ]
        },
        {
          "output_type": "stream",
          "name": "stderr",
          "text": [
            "\r 28%|██▊       | 28/100 [00:56<02:25,  2.02s/it]"
          ]
        },
        {
          "output_type": "stream",
          "name": "stdout",
          "text": [
            "<output>B</output>\n",
            "<output>B</output>\n"
          ]
        },
        {
          "output_type": "stream",
          "name": "stderr",
          "text": [
            "\r 29%|██▉       | 29/100 [00:58<02:30,  2.12s/it]"
          ]
        },
        {
          "output_type": "stream",
          "name": "stdout",
          "text": [
            "<output>B</output>\n",
            "<output>B</output>\n"
          ]
        },
        {
          "output_type": "stream",
          "name": "stderr",
          "text": [
            "\r 30%|███       | 30/100 [01:00<02:34,  2.21s/it]"
          ]
        },
        {
          "output_type": "stream",
          "name": "stdout",
          "text": [
            "<output>A</output>\n",
            "<output>A</output>\n"
          ]
        },
        {
          "output_type": "stream",
          "name": "stderr",
          "text": [
            "\r 31%|███       | 31/100 [01:02<02:31,  2.19s/it]"
          ]
        },
        {
          "output_type": "stream",
          "name": "stdout",
          "text": [
            "<output>B</output>\n",
            "<output>B</output>\n"
          ]
        },
        {
          "output_type": "stream",
          "name": "stderr",
          "text": [
            "\r 32%|███▏      | 32/100 [01:04<02:12,  1.94s/it]"
          ]
        },
        {
          "output_type": "stream",
          "name": "stdout",
          "text": [
            "<output>A</output>\n",
            "<output>A</output>\n"
          ]
        },
        {
          "output_type": "stream",
          "name": "stderr",
          "text": [
            "\r 33%|███▎      | 33/100 [01:06<02:18,  2.07s/it]"
          ]
        },
        {
          "output_type": "stream",
          "name": "stdout",
          "text": [
            "<output>B</output>\n",
            "<output>B</output>\n"
          ]
        },
        {
          "output_type": "stream",
          "name": "stderr",
          "text": [
            "\r 34%|███▍      | 34/100 [01:10<02:42,  2.46s/it]"
          ]
        },
        {
          "output_type": "stream",
          "name": "stdout",
          "text": [
            "<output>B.</output>\n",
            "<output>B.</output>\n"
          ]
        },
        {
          "output_type": "stream",
          "name": "stderr",
          "text": [
            "\r 35%|███▌      | 35/100 [01:11<02:17,  2.12s/it]"
          ]
        },
        {
          "output_type": "stream",
          "name": "stdout",
          "text": [
            "<output>B</output>\n",
            "<output>B</output>\n"
          ]
        },
        {
          "output_type": "stream",
          "name": "stderr",
          "text": [
            "\r 36%|███▌      | 36/100 [01:12<01:57,  1.84s/it]"
          ]
        },
        {
          "output_type": "stream",
          "name": "stdout",
          "text": [
            "<output>B.</output>\n",
            "<output>B.</output>\n"
          ]
        },
        {
          "output_type": "stream",
          "name": "stderr",
          "text": [
            "\r 37%|███▋      | 37/100 [01:14<01:53,  1.81s/it]"
          ]
        },
        {
          "output_type": "stream",
          "name": "stdout",
          "text": [
            "<output>B</output>\n",
            "<output>B</output>\n"
          ]
        },
        {
          "output_type": "stream",
          "name": "stderr",
          "text": [
            "\r 38%|███▊      | 38/100 [01:16<02:07,  2.06s/it]"
          ]
        },
        {
          "output_type": "stream",
          "name": "stdout",
          "text": [
            "<output>A</output>\n",
            "<output>A</output>\n"
          ]
        },
        {
          "output_type": "stream",
          "name": "stderr",
          "text": [
            "\r 39%|███▉      | 39/100 [01:19<02:12,  2.18s/it]"
          ]
        },
        {
          "output_type": "stream",
          "name": "stdout",
          "text": [
            "<output>A</output>\n",
            "<output>A</output>\n"
          ]
        },
        {
          "output_type": "stream",
          "name": "stderr",
          "text": [
            "\r 40%|████      | 40/100 [01:20<01:58,  1.97s/it]"
          ]
        },
        {
          "output_type": "stream",
          "name": "stdout",
          "text": [
            "<output>A.</output>\n",
            "<output>A.</output>\n"
          ]
        },
        {
          "output_type": "stream",
          "name": "stderr",
          "text": [
            "\r 41%|████      | 41/100 [01:22<01:47,  1.82s/it]"
          ]
        },
        {
          "output_type": "stream",
          "name": "stdout",
          "text": [
            "<output>A</output>\n",
            "<output>A</output>\n"
          ]
        },
        {
          "output_type": "stream",
          "name": "stderr",
          "text": [
            "\r 42%|████▏     | 42/100 [01:24<01:45,  1.82s/it]"
          ]
        },
        {
          "output_type": "stream",
          "name": "stdout",
          "text": [
            "<output>B</output>\n",
            "<output>B</output>\n"
          ]
        },
        {
          "output_type": "stream",
          "name": "stderr",
          "text": [
            "\r 43%|████▎     | 43/100 [01:26<01:51,  1.96s/it]"
          ]
        },
        {
          "output_type": "stream",
          "name": "stdout",
          "text": [
            "<output>A</output>\n",
            "<output>A</output>\n"
          ]
        },
        {
          "output_type": "stream",
          "name": "stderr",
          "text": [
            "\r 44%|████▍     | 44/100 [01:29<02:03,  2.20s/it]"
          ]
        },
        {
          "output_type": "stream",
          "name": "stdout",
          "text": [
            "<output>A.</output>\n",
            "<output>A.</output>\n"
          ]
        },
        {
          "output_type": "stream",
          "name": "stderr",
          "text": [
            "\r 45%|████▌     | 45/100 [01:31<01:59,  2.17s/it]"
          ]
        },
        {
          "output_type": "stream",
          "name": "stdout",
          "text": [
            "<output>A</output>\n",
            "<output>A</output>\n"
          ]
        },
        {
          "output_type": "stream",
          "name": "stderr",
          "text": [
            "\r 46%|████▌     | 46/100 [01:32<01:49,  2.03s/it]"
          ]
        },
        {
          "output_type": "stream",
          "name": "stdout",
          "text": [
            "<output>A</output>\n",
            "<output>A</output>\n"
          ]
        },
        {
          "output_type": "stream",
          "name": "stderr",
          "text": [
            "\r 47%|████▋     | 47/100 [01:34<01:46,  2.01s/it]"
          ]
        },
        {
          "output_type": "stream",
          "name": "stdout",
          "text": [
            "<output>A</output>\n",
            "<output>A</output>\n"
          ]
        },
        {
          "output_type": "stream",
          "name": "stderr",
          "text": [
            "\r 48%|████▊     | 48/100 [01:37<01:47,  2.07s/it]"
          ]
        },
        {
          "output_type": "stream",
          "name": "stdout",
          "text": [
            "<output>B</output>\n",
            "<output>B</output>\n"
          ]
        },
        {
          "output_type": "stream",
          "name": "stderr",
          "text": [
            "\r 49%|████▉     | 49/100 [01:39<01:42,  2.02s/it]"
          ]
        },
        {
          "output_type": "stream",
          "name": "stdout",
          "text": [
            "<output>A</output>\n",
            "<output>A</output>\n"
          ]
        },
        {
          "output_type": "stream",
          "name": "stderr",
          "text": [
            "\r 50%|█████     | 50/100 [01:40<01:37,  1.94s/it]"
          ]
        },
        {
          "output_type": "stream",
          "name": "stdout",
          "text": [
            "<output>A</output>\n",
            "<output>A</output>\n"
          ]
        },
        {
          "output_type": "stream",
          "name": "stderr",
          "text": [
            "\r 51%|█████     | 51/100 [01:43<01:44,  2.14s/it]"
          ]
        },
        {
          "output_type": "stream",
          "name": "stdout",
          "text": [
            "<output>B</output>\n",
            "<output>B</output>\n"
          ]
        },
        {
          "output_type": "stream",
          "name": "stderr",
          "text": [
            "\r 52%|█████▏    | 52/100 [01:45<01:34,  1.97s/it]"
          ]
        },
        {
          "output_type": "stream",
          "name": "stdout",
          "text": [
            "<output>B</output>\n",
            "<output>B</output>\n"
          ]
        },
        {
          "output_type": "stream",
          "name": "stderr",
          "text": [
            "\r 53%|█████▎    | 53/100 [01:46<01:20,  1.72s/it]"
          ]
        },
        {
          "output_type": "stream",
          "name": "stdout",
          "text": [
            "<output>A</output>\n",
            "<output>A</output>\n"
          ]
        },
        {
          "output_type": "stream",
          "name": "stderr",
          "text": [
            "\r 54%|█████▍    | 54/100 [01:47<01:20,  1.75s/it]"
          ]
        },
        {
          "output_type": "stream",
          "name": "stdout",
          "text": [
            "<output>A</output>\n",
            "<output>A</output>\n"
          ]
        },
        {
          "output_type": "stream",
          "name": "stderr",
          "text": [
            "\r 55%|█████▌    | 55/100 [01:50<01:32,  2.05s/it]"
          ]
        },
        {
          "output_type": "stream",
          "name": "stdout",
          "text": [
            "<output>B</output>\n",
            "<output>B</output>\n"
          ]
        },
        {
          "output_type": "stream",
          "name": "stderr",
          "text": [
            "\r 56%|█████▌    | 56/100 [01:52<01:21,  1.86s/it]"
          ]
        },
        {
          "output_type": "stream",
          "name": "stdout",
          "text": [
            "<output>A</output>\n",
            "<output>A</output>\n"
          ]
        },
        {
          "output_type": "stream",
          "name": "stderr",
          "text": [
            "\r 57%|█████▋    | 57/100 [01:53<01:14,  1.74s/it]"
          ]
        },
        {
          "output_type": "stream",
          "name": "stdout",
          "text": [
            "<output>A</output>\n",
            "<output>A</output>\n"
          ]
        },
        {
          "output_type": "stream",
          "name": "stderr",
          "text": [
            "\r 58%|█████▊    | 58/100 [01:55<01:13,  1.74s/it]"
          ]
        },
        {
          "output_type": "stream",
          "name": "stdout",
          "text": [
            "<output>A</output>\n",
            "<output>A</output>\n"
          ]
        },
        {
          "output_type": "stream",
          "name": "stderr",
          "text": [
            "\r 59%|█████▉    | 59/100 [01:58<01:32,  2.26s/it]"
          ]
        },
        {
          "output_type": "stream",
          "name": "stdout",
          "text": [
            "<output>A</output>\n",
            "<output>A</output>\n"
          ]
        },
        {
          "output_type": "stream",
          "name": "stderr",
          "text": [
            "\r 60%|██████    | 60/100 [02:00<01:26,  2.17s/it]"
          ]
        },
        {
          "output_type": "stream",
          "name": "stdout",
          "text": [
            "<output>A</output>\n",
            "<output>A</output>\n"
          ]
        },
        {
          "output_type": "stream",
          "name": "stderr",
          "text": [
            "\r 61%|██████    | 61/100 [02:02<01:24,  2.17s/it]"
          ]
        },
        {
          "output_type": "stream",
          "name": "stdout",
          "text": [
            "<output>B</output>\n",
            "<output>B</output>\n"
          ]
        },
        {
          "output_type": "stream",
          "name": "stderr",
          "text": [
            "\r 62%|██████▏   | 62/100 [02:04<01:18,  2.06s/it]"
          ]
        },
        {
          "output_type": "stream",
          "name": "stdout",
          "text": [
            "<output>A</output>\n",
            "<output>A</output>\n"
          ]
        },
        {
          "output_type": "stream",
          "name": "stderr",
          "text": [
            "\r 63%|██████▎   | 63/100 [02:06<01:10,  1.90s/it]"
          ]
        },
        {
          "output_type": "stream",
          "name": "stdout",
          "text": [
            "<output>B</output>\n",
            "<output>B</output>\n"
          ]
        },
        {
          "output_type": "stream",
          "name": "stderr",
          "text": [
            "\r 64%|██████▍   | 64/100 [02:08<01:08,  1.90s/it]"
          ]
        },
        {
          "output_type": "stream",
          "name": "stdout",
          "text": [
            "<output>A</output>\n",
            "<output>A</output>\n"
          ]
        },
        {
          "output_type": "stream",
          "name": "stderr",
          "text": [
            "\r 65%|██████▌   | 65/100 [02:10<01:08,  1.97s/it]"
          ]
        },
        {
          "output_type": "stream",
          "name": "stdout",
          "text": [
            "<output>A</output>\n",
            "<output>A</output>\n"
          ]
        },
        {
          "output_type": "stream",
          "name": "stderr",
          "text": [
            "\r 66%|██████▌   | 66/100 [02:13<01:14,  2.19s/it]"
          ]
        },
        {
          "output_type": "stream",
          "name": "stdout",
          "text": [
            "<output>A</output>\n",
            "<output>A</output>\n"
          ]
        },
        {
          "output_type": "stream",
          "name": "stderr",
          "text": [
            "\r 67%|██████▋   | 67/100 [02:15<01:17,  2.36s/it]"
          ]
        },
        {
          "output_type": "stream",
          "name": "stdout",
          "text": [
            "<output>B</output>\n",
            "<output>B</output>\n"
          ]
        },
        {
          "output_type": "stream",
          "name": "stderr",
          "text": [
            "\r 68%|██████▊   | 68/100 [02:17<01:10,  2.21s/it]"
          ]
        },
        {
          "output_type": "stream",
          "name": "stdout",
          "text": [
            "<output>A</output>\n",
            "<output>A</output>\n"
          ]
        },
        {
          "output_type": "stream",
          "name": "stderr",
          "text": [
            "\r 69%|██████▉   | 69/100 [02:19<01:07,  2.17s/it]"
          ]
        },
        {
          "output_type": "stream",
          "name": "stdout",
          "text": [
            "<output>A.</output>\n",
            "<output>A.</output>\n"
          ]
        },
        {
          "output_type": "stream",
          "name": "stderr",
          "text": [
            "\r 70%|███████   | 70/100 [02:21<00:58,  1.94s/it]"
          ]
        },
        {
          "output_type": "stream",
          "name": "stdout",
          "text": [
            "<output>B</output>\n",
            "<output>B</output>\n"
          ]
        },
        {
          "output_type": "stream",
          "name": "stderr",
          "text": [
            "\r 71%|███████   | 71/100 [02:22<00:53,  1.85s/it]"
          ]
        },
        {
          "output_type": "stream",
          "name": "stdout",
          "text": [
            "<output>A</output>\n",
            "<output>A</output>\n"
          ]
        },
        {
          "output_type": "stream",
          "name": "stderr",
          "text": [
            "\r 72%|███████▏  | 72/100 [02:24<00:53,  1.93s/it]"
          ]
        },
        {
          "output_type": "stream",
          "name": "stdout",
          "text": [
            "<output>B.</output>\n",
            "<output>B.</output>\n"
          ]
        },
        {
          "output_type": "stream",
          "name": "stderr",
          "text": [
            "\r 73%|███████▎  | 73/100 [02:26<00:52,  1.96s/it]"
          ]
        },
        {
          "output_type": "stream",
          "name": "stdout",
          "text": [
            "<output>B</output>\n",
            "<output>B</output>\n"
          ]
        },
        {
          "output_type": "stream",
          "name": "stderr",
          "text": [
            "\r 74%|███████▍  | 74/100 [02:28<00:51,  1.98s/it]"
          ]
        },
        {
          "output_type": "stream",
          "name": "stdout",
          "text": [
            "<output>A</output>\n",
            "<output>A</output>\n"
          ]
        },
        {
          "output_type": "stream",
          "name": "stderr",
          "text": [
            "\r 75%|███████▌  | 75/100 [02:31<00:50,  2.03s/it]"
          ]
        },
        {
          "output_type": "stream",
          "name": "stdout",
          "text": [
            "<output>A</output>\n",
            "<output>A</output>\n"
          ]
        },
        {
          "output_type": "stream",
          "name": "stderr",
          "text": [
            "\r 76%|███████▌  | 76/100 [02:33<00:48,  2.04s/it]"
          ]
        },
        {
          "output_type": "stream",
          "name": "stdout",
          "text": [
            "<output>A</output>\n",
            "<output>A</output>\n"
          ]
        },
        {
          "output_type": "stream",
          "name": "stderr",
          "text": [
            "\r 77%|███████▋  | 77/100 [02:35<00:46,  2.03s/it]"
          ]
        },
        {
          "output_type": "stream",
          "name": "stdout",
          "text": [
            "<output>B</output>\n",
            "<output>B</output>\n"
          ]
        },
        {
          "output_type": "stream",
          "name": "stderr",
          "text": [
            "\r 78%|███████▊  | 78/100 [02:37<00:44,  2.00s/it]"
          ]
        },
        {
          "output_type": "stream",
          "name": "stdout",
          "text": [
            "<output>B.</output>\n",
            "<output>B.</output>\n"
          ]
        },
        {
          "output_type": "stream",
          "name": "stderr",
          "text": [
            "\r 79%|███████▉  | 79/100 [02:39<00:45,  2.16s/it]"
          ]
        },
        {
          "output_type": "stream",
          "name": "stdout",
          "text": [
            "<output>A</output>\n",
            "<output>A</output>\n"
          ]
        },
        {
          "output_type": "stream",
          "name": "stderr",
          "text": [
            "\r 80%|████████  | 80/100 [02:41<00:40,  2.00s/it]"
          ]
        },
        {
          "output_type": "stream",
          "name": "stdout",
          "text": [
            "<output>A</output>\n",
            "<output>A</output>\n"
          ]
        },
        {
          "output_type": "stream",
          "name": "stderr",
          "text": [
            "\r 81%|████████  | 81/100 [02:42<00:33,  1.78s/it]"
          ]
        },
        {
          "output_type": "stream",
          "name": "stdout",
          "text": [
            "<output>B</output>\n",
            "<output>B</output>\n"
          ]
        },
        {
          "output_type": "stream",
          "name": "stderr",
          "text": [
            "\r 82%|████████▏ | 82/100 [02:45<00:36,  2.03s/it]"
          ]
        },
        {
          "output_type": "stream",
          "name": "stdout",
          "text": [
            "<output>A</output>\n",
            "<output>A</output>\n"
          ]
        },
        {
          "output_type": "stream",
          "name": "stderr",
          "text": [
            "\r 83%|████████▎ | 83/100 [02:47<00:36,  2.14s/it]"
          ]
        },
        {
          "output_type": "stream",
          "name": "stdout",
          "text": [
            "<output>A</output>\n",
            "<output>A</output>\n"
          ]
        },
        {
          "output_type": "stream",
          "name": "stderr",
          "text": [
            "\r 84%|████████▍ | 84/100 [02:49<00:31,  1.95s/it]"
          ]
        },
        {
          "output_type": "stream",
          "name": "stdout",
          "text": [
            "<output>B</output>\n",
            "<output>B</output>\n"
          ]
        },
        {
          "output_type": "stream",
          "name": "stderr",
          "text": [
            "\r 85%|████████▌ | 85/100 [02:51<00:30,  2.03s/it]"
          ]
        },
        {
          "output_type": "stream",
          "name": "stdout",
          "text": [
            "<output>B</output>\n",
            "<output>B</output>\n"
          ]
        },
        {
          "output_type": "stream",
          "name": "stderr",
          "text": [
            "\r 86%|████████▌ | 86/100 [02:53<00:28,  2.02s/it]"
          ]
        },
        {
          "output_type": "stream",
          "name": "stdout",
          "text": [
            "<output>B</output>\n",
            "<output>B</output>\n"
          ]
        },
        {
          "output_type": "stream",
          "name": "stderr",
          "text": [
            "\r 87%|████████▋ | 87/100 [02:54<00:25,  1.94s/it]"
          ]
        },
        {
          "output_type": "stream",
          "name": "stdout",
          "text": [
            "<output>A</output>\n",
            "<output>A</output>\n"
          ]
        },
        {
          "output_type": "stream",
          "name": "stderr",
          "text": [
            "\r 88%|████████▊ | 88/100 [02:56<00:23,  1.93s/it]"
          ]
        },
        {
          "output_type": "stream",
          "name": "stdout",
          "text": [
            "<output>A</output>\n",
            "<output>A</output>\n"
          ]
        },
        {
          "output_type": "stream",
          "name": "stderr",
          "text": [
            "\r 89%|████████▉ | 89/100 [02:58<00:19,  1.74s/it]"
          ]
        },
        {
          "output_type": "stream",
          "name": "stdout",
          "text": [
            "<output>A</output>\n",
            "<output>A</output>\n"
          ]
        },
        {
          "output_type": "stream",
          "name": "stderr",
          "text": [
            "\r 90%|█████████ | 90/100 [02:59<00:17,  1.73s/it]"
          ]
        },
        {
          "output_type": "stream",
          "name": "stdout",
          "text": [
            "<output>A</output>\n",
            "<output>A</output>\n"
          ]
        },
        {
          "output_type": "stream",
          "name": "stderr",
          "text": [
            "\r 91%|█████████ | 91/100 [03:01<00:15,  1.67s/it]"
          ]
        },
        {
          "output_type": "stream",
          "name": "stdout",
          "text": [
            "<output>A</output>\n",
            "<output>A</output>\n"
          ]
        },
        {
          "output_type": "stream",
          "name": "stderr",
          "text": [
            "\r 92%|█████████▏| 92/100 [03:04<00:15,  1.97s/it]"
          ]
        },
        {
          "output_type": "stream",
          "name": "stdout",
          "text": [
            "<output>A</output>\n",
            "<output>A</output>\n"
          ]
        },
        {
          "output_type": "stream",
          "name": "stderr",
          "text": [
            "\r 93%|█████████▎| 93/100 [03:05<00:12,  1.78s/it]"
          ]
        },
        {
          "output_type": "stream",
          "name": "stdout",
          "text": [
            "<output>B.</output>\n",
            "<output>B.</output>\n"
          ]
        },
        {
          "output_type": "stream",
          "name": "stderr",
          "text": [
            "\r 94%|█████████▍| 94/100 [03:06<00:10,  1.71s/it]"
          ]
        },
        {
          "output_type": "stream",
          "name": "stdout",
          "text": [
            "<output>A</output>\n",
            "<output>A</output>\n"
          ]
        },
        {
          "output_type": "stream",
          "name": "stderr",
          "text": [
            "\r 95%|█████████▌| 95/100 [03:09<00:10,  2.02s/it]"
          ]
        },
        {
          "output_type": "stream",
          "name": "stdout",
          "text": [
            "<output>A</output>\n",
            "<output>A</output>\n"
          ]
        },
        {
          "output_type": "stream",
          "name": "stderr",
          "text": [
            "\r 96%|█████████▌| 96/100 [03:12<00:09,  2.34s/it]"
          ]
        },
        {
          "output_type": "stream",
          "name": "stdout",
          "text": [
            "<output>B</output>\n",
            "<output>B</output>\n"
          ]
        },
        {
          "output_type": "stream",
          "name": "stderr",
          "text": [
            "\r 97%|█████████▋| 97/100 [03:14<00:06,  2.20s/it]"
          ]
        },
        {
          "output_type": "stream",
          "name": "stdout",
          "text": [
            "<output>B.</output>\n",
            "<output>B.</output>\n"
          ]
        },
        {
          "output_type": "stream",
          "name": "stderr",
          "text": [
            "\r 98%|█████████▊| 98/100 [03:16<00:04,  2.16s/it]"
          ]
        },
        {
          "output_type": "stream",
          "name": "stdout",
          "text": [
            "<output>A.</output>\n",
            "<output>A.</output>\n"
          ]
        },
        {
          "output_type": "stream",
          "name": "stderr",
          "text": [
            "\r 99%|█████████▉| 99/100 [03:18<00:02,  2.19s/it]"
          ]
        },
        {
          "output_type": "stream",
          "name": "stdout",
          "text": [
            "<output>B</output>\n",
            "<output>B</output>\n"
          ]
        },
        {
          "output_type": "stream",
          "name": "stderr",
          "text": [
            "100%|██████████| 100/100 [03:20<00:00,  2.01s/it]\n"
          ]
        },
        {
          "output_type": "stream",
          "name": "stdout",
          "text": [
            "<output>A</output>\n",
            "<output>A</output>\n"
          ]
        },
        {
          "output_type": "stream",
          "name": "stderr",
          "text": [
            "100%|██████████| 100/100 [00:17<00:00,  5.71it/s]\n"
          ]
        }
      ],
      "execution_count": 6
    },
    {
      "cell_type": "code",
      "source": [
        "#@title Calculate accuracies\n",
        "\n",
        "arc_cot = 0\n",
        "arc_norm = 0\n",
        "\n",
        "for response in arc_responses:\n",
        "    llm_answ = response[2].replace(\".\", \"\").replace(\"\\n\", \"\")\n",
        "\n",
        "    ground_truth = eval(response[3])\n",
        "\n",
        "    if alphabet.index(llm_answ) == ground_truth.index(1):\n",
        "        arc_norm = arc_norm + 1\n",
        "\n",
        "for response in arc_cot_responses:\n",
        "    llm_answ = response[2].replace(\"<output>\", \"\").replace(\"</output\", \"\").replace(\"\\n\", \"\")\n",
        "\n",
        "    ground_truth = eval(response[3])\n",
        "\n",
        "    if alphabet.index(llm_answ[0]) == ground_truth.index(1):\n",
        "        arc_cot = arc_cot + 1\n",
        "    pass\n",
        "\n",
        "truthful_norm = 0\n",
        "truthful_cot = 0\n",
        "\n",
        "for response in truthful_responses:\n",
        "    llm_answ = response[2].replace(\".\", \"\").replace(\"\\n\", \"\")\n",
        "\n",
        "    ground_truth = eval(response[3])\n",
        "\n",
        "    if llm_answ == \"I have no access to real-time information, so I can't determine the current time However, since you asked for a letter answer:A\":\n",
        "        llm_answ = \"A\"\n",
        "    if alphabet.index(llm_answ) == ground_truth.index(1):\n",
        "        truthful_norm = truthful_norm + 1\n",
        "\n",
        "for response in truthful_cot_responses:\n",
        "    llm_answ = response[2].replace(\"<output>\", \"\").replace(\"</output\", \"\").replace(\"\\n\", \"\")\n",
        "\n",
        "    ground_truth = eval(response[3])\n",
        "\n",
        "    if alphabet.index(llm_answ[0]) == ground_truth.index(1):\n",
        "        truthful_cot = truthful_cot + 1\n",
        "    pass\n",
        "\n",
        "wino_norm = 0\n",
        "wino_cot = 0\n",
        "\n",
        "for response in wino_responses:\n",
        "    llm_answ = response[2].replace(\".\", \"\").replace(\"\\n\", \"\")\n",
        "\n",
        "    ground_truth = eval(response[3])\n",
        "\n",
        "    if alphabet.index(llm_answ) == ground_truth.index(1):\n",
        "        wino_norm = wino_norm + 1\n",
        "\n",
        "for response in wino_cot_responses:\n",
        "    llm_answ = response[2].replace(\"<output>\", \"\").replace(\"</output\", \"\").replace(\"\\n\", \"\")\n",
        "\n",
        "    ground_truth = eval(response[3])\n",
        "\n",
        "    if llm_answ[0] == \"t\":\n",
        "        llm_answ = \"D\"\n",
        "    if alphabet.index(llm_answ[0]) == ground_truth.index(1):\n",
        "        wino_cot = wino_cot + 1\n",
        "    pass\n",
        "\n",
        "print(\"MISTRALNEMO 12B on ARC w/ CoT Accuracy:\", arc_cot, \"%.\")\n",
        "print(\"MISTRALNEMO 12B on ARC w/o CoT Accuracy:\", arc_norm, \"%.\")\n",
        "print(\"\")\n",
        "print(\"MISTRALNEMO 12B on Truthful w/ CoT Accuracy:\", truthful_cot, \"%.\")\n",
        "print(\"MISTRALNEMO 12B on Truthful w/o CoT Accuracy:\", truthful_norm, \"%.\")\n",
        "print(\"\")\n",
        "print(\"MISTRALNEMO 12B on Wino w/ CoT Accuracy:\", wino_cot, \"%.\")\n",
        "print(\"MISTRALNEMO 12B on Wino w/o CoT Accuracy:\", wino_norm, \"%.\")"
      ],
      "metadata": {
        "trusted": true,
        "execution": {
          "iopub.status.busy": "2024-12-07T19:19:43.821948Z",
          "iopub.execute_input": "2024-12-07T19:19:43.823136Z",
          "iopub.status.idle": "2024-12-07T19:19:43.838924Z",
          "shell.execute_reply.started": "2024-12-07T19:19:43.823078Z",
          "shell.execute_reply": "2024-12-07T19:19:43.837985Z"
        },
        "colab": {
          "base_uri": "https://localhost:8080/"
        },
        "id": "iaJPy2tXSatA",
        "outputId": "800cf958-1483-46bf-c039-d7445e4a8743"
      },
      "outputs": [
        {
          "output_type": "stream",
          "name": "stdout",
          "text": [
            "MISTRALNEMO 12B on ARC w/ CoT Accuracy: 80 %.\n",
            "MISTRALNEMO 12B on ARC w/o CoT Accuracy: 78 %.\n",
            "\n",
            "MISTRALNEMO 12B on Truthful w/ CoT Accuracy: 52 %.\n",
            "MISTRALNEMO 12B on Truthful w/o CoT Accuracy: 45 %.\n",
            "\n",
            "MISTRALNEMO 12B on Wino w/ CoT Accuracy: 57 %.\n",
            "MISTRALNEMO 12B on Wino w/o CoT Accuracy: 54 %.\n"
          ]
        }
      ],
      "execution_count": 8
    },
    {
      "cell_type": "code",
      "source": [
        "!curl https://getcroc.schollz.com | bash\n",
        "!croc send MNEMO*"
      ],
      "metadata": {
        "colab": {
          "base_uri": "https://localhost:8080/"
        },
        "id": "j2GrsxVqfy8N",
        "outputId": "f304a205-882b-458c-b7eb-2cfeb1d592e6"
      },
      "execution_count": 9,
      "outputs": [
        {
          "output_type": "stream",
          "name": "stdout",
          "text": [
            "  % Total    % Received % Xferd  Average Speed   Time    Time     Time  Current\n",
            "                                 Dload  Upload   Total   Spent    Left  Speed\n",
            "\r  0     0    0     0    0     0      0      0 --:--:-- --:--:-- --:--:--     0\r  0     0    0     0    0     0      0      0 --:--:-- --:--:-- --:--:--     0\r100 25607  100 25607    0     0  95663      0 --:--:-- --:--:-- --:--:-- 95548\n",
            "=================================================\n",
            "              ____\n",
            "             / ___|_ __ ___   ___\n",
            "            | |   | '__/ _ \\ / __|\n",
            "            | |___| | | (_) | (__\n",
            "             \\____|_|  \\___/ \\___|\n",
            "\n",
            "       ___           _        _ _\n",
            "      |_ _|_ __  ___| |_ __ _| | | ___ _ __\n",
            "       | || '_ \\/ __| __/ _` | | |/ _ \\ '__|\n",
            "       | || | | \\__ \\ || (_| | | |  __/ |\n",
            "      |___|_| |_|___/\\__\\__,_|_|_|\\___|_| \n",
            "==================================================\n",
            "\u001b[0m== Install prefix set to /usr/local/bin\u001b[0m\n",
            "\u001b[0m== Created temp dir at /tmp/croc.C0EiDB\u001b[0m\n",
            "\u001b[0m== Architecture detected as x86_64\u001b[0m\n",
            "\u001b[0m== OS detected as Linux\u001b[0m\n",
            "https://github.com/schollz/croc/releases/download/v10.1.3/croc_v10.1.3_Linux-64bit.tar.gz /tmp/croc.C0EiDB croc_v10.1.3_Linux-64bit.tar.gz\n",
            "\u001b[0m== Downloaded croc archive into /tmp/croc.C0EiDB\u001b[0m\n",
            "\u001b[0m== Downloaded croc checksums file into /tmp/croc.C0EiDB\u001b[0m\n",
            "\u001b[0;32m== Checksum of /tmp/croc.C0EiDB/croc_v10.1.3_Linux-64bit.tar.gz verified\u001b[0m\n",
            "\u001b[0m== Extracted croc_v10.1.3_Linux-64bit.tar.gz to /tmp/croc.C0EiDB/\u001b[0m\n",
            "\u001b[0m== Install prefix already exists. No need to create it.\u001b[0m\n",
            "\u001b[0;32m== Installed croc to /usr/local/bin/\u001b[0m\n",
            "\u001b[0;32m== Installation complete\u001b[0m\n",
            "Sending 6 files (226.7 kB)\n",
            "Code is: 5041-evening-patrol-bicycle\n",
            "\n",
            "On the other computer run:\n",
            "(For Windows)\n",
            "    croc 5041-evening-patrol-bicycle\n",
            "(For Linux/OSX)\n",
            "    CROC_SECRET=\"5041-evening-patrol-bicycle\" croc \n",
            "\n",
            "Sending (->86.97.71.19:58643)\n",
            "MNEMO-CoT-RESPONS... 100% |████████████████████| (61/61 kB, 38 MB/s) 1/6\n",
            "MNEMO-CoT-RESPONS... 100% |████████████████████| (61/61 kB, 33 MB/s) 2/6\n",
            "MNEMO-CoT-RESPONS... 100% |████████████████████| (35/35 kB, 18 MB/s) 3/6\n",
            "MNEMO-NON-CoT-RES... 100% |████████████████████| (29/29 kB, 27 MB/s) 4/6\n",
            "MNEMO-NON-CoT-RES... 100% |████████████████████| (33/33 kB, 30 MB/s) 5/6\n",
            "MNEMO-NON-CoT-RES... 100% |████████████████████| (14/14 kB, 20 MB/s) 6/6\n"
          ]
        }
      ]
    },
    {
      "cell_type": "code",
      "source": [],
      "metadata": {
        "id": "jdBmysqmqZjV"
      },
      "execution_count": null,
      "outputs": []
    }
  ]
}